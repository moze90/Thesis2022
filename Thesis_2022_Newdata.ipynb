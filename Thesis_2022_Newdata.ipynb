{
  "cells": [
    {
      "cell_type": "markdown",
      "metadata": {
        "id": "view-in-github",
        "colab_type": "text"
      },
      "source": [
        "<a href=\"https://colab.research.google.com/github/moze90/Thesis2022/blob/main/Thesis_2022_Newdata.ipynb\" target=\"_parent\"><img src=\"https://colab.research.google.com/assets/colab-badge.svg\" alt=\"Open In Colab\"/></a>"
      ]
    },
    {
      "cell_type": "code",
      "execution_count": 1,
      "metadata": {
        "id": "TEvk_9_uZhzh"
      },
      "outputs": [],
      "source": [
        "import numpy as np\n",
        "import pandas as pd\n",
        "import matplotlib.pyplot as plt\n",
        "import seaborn as sns\n",
        "sns.set(color_codes=True)\n",
        "import warnings\n",
        "warnings.filterwarnings(\"ignore\")\n",
        "from glob import glob\n",
        "import re\n",
        "import gc\n",
        "import csv\n",
        "from scipy.stats import zscore\n",
        "from datetime import datetime\n",
        "from pandas.io.parsers.readers import read_csv\n",
        "from sklearn.covariance import EllipticEnvelope\n",
        "from sklearn.preprocessing import StandardScaler\n",
        "from sklearn.model_selection import train_test_split\n",
        "from sklearn.tree import DecisionTreeClassifier\n",
        "from sklearn.metrics import classification_report\n",
        "from sklearn.metrics import accuracy_score\n",
        "from sklearn.metrics import confusion_matrix\n",
        "from sklearn.metrics import ConfusionMatrixDisplay\n",
        "from sklearn import metrics"
      ]
    },
    {
      "cell_type": "code",
      "execution_count": 2,
      "metadata": {
        "id": "fuTRrQI343OZ",
        "colab": {
          "base_uri": "https://localhost:8080/"
        },
        "outputId": "cabed76d-c63a-44f5-a70e-5c8b119f0b46"
      },
      "outputs": [
        {
          "output_type": "stream",
          "name": "stdout",
          "text": [
            "Mounted at /content/drive\n"
          ]
        }
      ],
      "source": [
        "from google.colab import drive\n",
        "drive.mount('/content/drive')"
      ]
    },
    {
      "cell_type": "markdown",
      "metadata": {
        "id": "XDKkLsdHV4oS"
      },
      "source": [
        "**DATA PREPROCESSING**"
      ]
    },
    {
      "cell_type": "markdown",
      "metadata": {
        "id": "rJalYvreSct_"
      },
      "source": [
        "# **new EQ**"
      ]
    },
    {
      "cell_type": "markdown",
      "metadata": {
        "id": "LKQuUlWVuXP9"
      },
      "source": [
        "**First step:removing null values**"
      ]
    },
    {
      "cell_type": "code",
      "execution_count": 3,
      "metadata": {
        "id": "8tP-2p4cSLtI"
      },
      "outputs": [],
      "source": [
        "df1=(r\"/content/drive/MyDrive/Thesis_datasets/New-data-SoftPro/Hospitals1/eq.csv\")"
      ]
    },
    {
      "cell_type": "code",
      "execution_count": 4,
      "metadata": {
        "id": "dkXq8CYpSw1a"
      },
      "outputs": [],
      "source": [
        " data1= pd.read_csv(df1,sep=';',header=0,parse_dates=True)"
      ]
    },
    {
      "cell_type": "code",
      "execution_count": 5,
      "metadata": {
        "id": "ooaMHqouNchi",
        "colab": {
          "base_uri": "https://localhost:8080/",
          "height": 0
        },
        "outputId": "41db46b6-667b-48d0-9c4f-79924b6233c8"
      },
      "outputs": [
        {
          "output_type": "execute_result",
          "data": {
            "text/plain": [
              "     InvNr                   InkDat  Skrotad flReplacementCost flPurchaseCost  \\\n",
              "0  C951-01  2001-01-01 00:00:00.000        2                 0          33210   \n",
              "\n",
              "  SkrotDatum     ID  PMLMaintenanceRequirementID  PMLMissionCriticalID  \\\n",
              "0        NaN  68263                          NaN                   NaN   \n",
              "\n",
              "   PMLRiscID  ...     Modell Handelsnamn intRisktal strRiscName  \\\n",
              "0        NaN  ...  Wolf 5512         NaN       20.0          20   \n",
              "\n",
              "   intRiscSeverityLevel                FUSenaste  FUIntNasta  \\\n",
              "0                  20.0  2004-06-15 00:00:00.000         NaN   \n",
              "\n",
              "  PMLMaintenanceRequirementDescription PMLMissionCriticalDescription  \\\n",
              "0                                  NaN                           NaN   \n",
              "\n",
              "   PMLRiscDescription  \n",
              "0                 NaN  \n",
              "\n",
              "[1 rows x 22 columns]"
            ],
            "text/html": [
              "\n",
              "  <div id=\"df-d2aa4eda-36c4-494f-b1b5-3a55eb0d2131\">\n",
              "    <div class=\"colab-df-container\">\n",
              "      <div>\n",
              "<style scoped>\n",
              "    .dataframe tbody tr th:only-of-type {\n",
              "        vertical-align: middle;\n",
              "    }\n",
              "\n",
              "    .dataframe tbody tr th {\n",
              "        vertical-align: top;\n",
              "    }\n",
              "\n",
              "    .dataframe thead th {\n",
              "        text-align: right;\n",
              "    }\n",
              "</style>\n",
              "<table border=\"1\" class=\"dataframe\">\n",
              "  <thead>\n",
              "    <tr style=\"text-align: right;\">\n",
              "      <th></th>\n",
              "      <th>InvNr</th>\n",
              "      <th>InkDat</th>\n",
              "      <th>Skrotad</th>\n",
              "      <th>flReplacementCost</th>\n",
              "      <th>flPurchaseCost</th>\n",
              "      <th>SkrotDatum</th>\n",
              "      <th>ID</th>\n",
              "      <th>PMLMaintenanceRequirementID</th>\n",
              "      <th>PMLMissionCriticalID</th>\n",
              "      <th>PMLRiscID</th>\n",
              "      <th>...</th>\n",
              "      <th>Modell</th>\n",
              "      <th>Handelsnamn</th>\n",
              "      <th>intRisktal</th>\n",
              "      <th>strRiscName</th>\n",
              "      <th>intRiscSeverityLevel</th>\n",
              "      <th>FUSenaste</th>\n",
              "      <th>FUIntNasta</th>\n",
              "      <th>PMLMaintenanceRequirementDescription</th>\n",
              "      <th>PMLMissionCriticalDescription</th>\n",
              "      <th>PMLRiscDescription</th>\n",
              "    </tr>\n",
              "  </thead>\n",
              "  <tbody>\n",
              "    <tr>\n",
              "      <th>0</th>\n",
              "      <td>C951-01</td>\n",
              "      <td>2001-01-01 00:00:00.000</td>\n",
              "      <td>2</td>\n",
              "      <td>0</td>\n",
              "      <td>33210</td>\n",
              "      <td>NaN</td>\n",
              "      <td>68263</td>\n",
              "      <td>NaN</td>\n",
              "      <td>NaN</td>\n",
              "      <td>NaN</td>\n",
              "      <td>...</td>\n",
              "      <td>Wolf 5512</td>\n",
              "      <td>NaN</td>\n",
              "      <td>20.0</td>\n",
              "      <td>20</td>\n",
              "      <td>20.0</td>\n",
              "      <td>2004-06-15 00:00:00.000</td>\n",
              "      <td>NaN</td>\n",
              "      <td>NaN</td>\n",
              "      <td>NaN</td>\n",
              "      <td>NaN</td>\n",
              "    </tr>\n",
              "  </tbody>\n",
              "</table>\n",
              "<p>1 rows × 22 columns</p>\n",
              "</div>\n",
              "      <button class=\"colab-df-convert\" onclick=\"convertToInteractive('df-d2aa4eda-36c4-494f-b1b5-3a55eb0d2131')\"\n",
              "              title=\"Convert this dataframe to an interactive table.\"\n",
              "              style=\"display:none;\">\n",
              "        \n",
              "  <svg xmlns=\"http://www.w3.org/2000/svg\" height=\"24px\"viewBox=\"0 0 24 24\"\n",
              "       width=\"24px\">\n",
              "    <path d=\"M0 0h24v24H0V0z\" fill=\"none\"/>\n",
              "    <path d=\"M18.56 5.44l.94 2.06.94-2.06 2.06-.94-2.06-.94-.94-2.06-.94 2.06-2.06.94zm-11 1L8.5 8.5l.94-2.06 2.06-.94-2.06-.94L8.5 2.5l-.94 2.06-2.06.94zm10 10l.94 2.06.94-2.06 2.06-.94-2.06-.94-.94-2.06-.94 2.06-2.06.94z\"/><path d=\"M17.41 7.96l-1.37-1.37c-.4-.4-.92-.59-1.43-.59-.52 0-1.04.2-1.43.59L10.3 9.45l-7.72 7.72c-.78.78-.78 2.05 0 2.83L4 21.41c.39.39.9.59 1.41.59.51 0 1.02-.2 1.41-.59l7.78-7.78 2.81-2.81c.8-.78.8-2.07 0-2.86zM5.41 20L4 18.59l7.72-7.72 1.47 1.35L5.41 20z\"/>\n",
              "  </svg>\n",
              "      </button>\n",
              "      \n",
              "  <style>\n",
              "    .colab-df-container {\n",
              "      display:flex;\n",
              "      flex-wrap:wrap;\n",
              "      gap: 12px;\n",
              "    }\n",
              "\n",
              "    .colab-df-convert {\n",
              "      background-color: #E8F0FE;\n",
              "      border: none;\n",
              "      border-radius: 50%;\n",
              "      cursor: pointer;\n",
              "      display: none;\n",
              "      fill: #1967D2;\n",
              "      height: 32px;\n",
              "      padding: 0 0 0 0;\n",
              "      width: 32px;\n",
              "    }\n",
              "\n",
              "    .colab-df-convert:hover {\n",
              "      background-color: #E2EBFA;\n",
              "      box-shadow: 0px 1px 2px rgba(60, 64, 67, 0.3), 0px 1px 3px 1px rgba(60, 64, 67, 0.15);\n",
              "      fill: #174EA6;\n",
              "    }\n",
              "\n",
              "    [theme=dark] .colab-df-convert {\n",
              "      background-color: #3B4455;\n",
              "      fill: #D2E3FC;\n",
              "    }\n",
              "\n",
              "    [theme=dark] .colab-df-convert:hover {\n",
              "      background-color: #434B5C;\n",
              "      box-shadow: 0px 1px 3px 1px rgba(0, 0, 0, 0.15);\n",
              "      filter: drop-shadow(0px 1px 2px rgba(0, 0, 0, 0.3));\n",
              "      fill: #FFFFFF;\n",
              "    }\n",
              "  </style>\n",
              "\n",
              "      <script>\n",
              "        const buttonEl =\n",
              "          document.querySelector('#df-d2aa4eda-36c4-494f-b1b5-3a55eb0d2131 button.colab-df-convert');\n",
              "        buttonEl.style.display =\n",
              "          google.colab.kernel.accessAllowed ? 'block' : 'none';\n",
              "\n",
              "        async function convertToInteractive(key) {\n",
              "          const element = document.querySelector('#df-d2aa4eda-36c4-494f-b1b5-3a55eb0d2131');\n",
              "          const dataTable =\n",
              "            await google.colab.kernel.invokeFunction('convertToInteractive',\n",
              "                                                     [key], {});\n",
              "          if (!dataTable) return;\n",
              "\n",
              "          const docLinkHtml = 'Like what you see? Visit the ' +\n",
              "            '<a target=\"_blank\" href=https://colab.research.google.com/notebooks/data_table.ipynb>data table notebook</a>'\n",
              "            + ' to learn more about interactive tables.';\n",
              "          element.innerHTML = '';\n",
              "          dataTable['output_type'] = 'display_data';\n",
              "          await google.colab.output.renderOutput(dataTable, element);\n",
              "          const docLink = document.createElement('div');\n",
              "          docLink.innerHTML = docLinkHtml;\n",
              "          element.appendChild(docLink);\n",
              "        }\n",
              "      </script>\n",
              "    </div>\n",
              "  </div>\n",
              "  "
            ]
          },
          "metadata": {},
          "execution_count": 5
        }
      ],
      "source": [
        "data1.head(1)"
      ]
    },
    {
      "cell_type": "code",
      "execution_count": 6,
      "metadata": {
        "id": "wQ32CbQmNuIZ",
        "colab": {
          "base_uri": "https://localhost:8080/"
        },
        "outputId": "cb686d81-e8c3-4b4f-e35e-7f3b75be6aa9"
      },
      "outputs": [
        {
          "output_type": "execute_result",
          "data": {
            "text/plain": [
              "InvNr                                     2344\n",
              "InkDat                                   13883\n",
              "Skrotad                                      0\n",
              "flReplacementCost                        65477\n",
              "flPurchaseCost                            6997\n",
              "SkrotDatum                              129351\n",
              "ID                                           0\n",
              "PMLMaintenanceRequirementID             226918\n",
              "PMLMissionCriticalID                    226943\n",
              "PMLRiscID                               226946\n",
              "Benamn                                    2025\n",
              "Fabrikat                                  2099\n",
              "Modell                                    2150\n",
              "Handelsnamn                             224409\n",
              "intRisktal                                9497\n",
              "strRiscName                               9497\n",
              "intRiscSeverityLevel                      9497\n",
              "FUSenaste                               146508\n",
              "FUIntNasta                              178383\n",
              "PMLMaintenanceRequirementDescription    226918\n",
              "PMLMissionCriticalDescription           226943\n",
              "PMLRiscDescription                      226946\n",
              "dtype: int64"
            ]
          },
          "metadata": {},
          "execution_count": 6
        }
      ],
      "source": [
        "data1.isnull().sum()"
      ]
    },
    {
      "cell_type": "code",
      "execution_count": 7,
      "metadata": {
        "id": "-qG_yaMuWLhz"
      },
      "outputs": [],
      "source": [
        "fin=data1.drop(columns=['intRiscSeverityLevel','Skrotad','flReplacementCost','flPurchaseCost','PMLMaintenanceRequirementID','PMLMissionCriticalID','PMLRiscID','strRiscName','Handelsnamn','PMLMaintenanceRequirementDescription','PMLMissionCriticalDescription','PMLRiscDescription','FUSenaste','FUIntNasta'])"
      ]
    },
    {
      "cell_type": "code",
      "execution_count": 8,
      "metadata": {
        "id": "LwjY3N_zTLc5",
        "colab": {
          "base_uri": "https://localhost:8080/",
          "height": 0
        },
        "outputId": "d0e69fc5-3b3b-48d2-8579-27b20267f463"
      },
      "outputs": [
        {
          "output_type": "execute_result",
          "data": {
            "text/plain": [
              "     InvNr                   InkDat               SkrotDatum      ID  \\\n",
              "0  C951-01  2001-01-01 00:00:00.000                      NaN   68263   \n",
              "1  C951-02  2001-02-08 00:00:00.000  2018-12-19 00:00:00.000   68264   \n",
              "2   111444  2005-01-01 00:00:00.000                      NaN   86743   \n",
              "3  9013559  2008-01-01 00:00:00.000                      NaN  140398   \n",
              "\n",
              "                 Benamn Fabrikat     Modell  intRisktal  \n",
              "0              Endoskop     Wolf  Wolf 5512        20.0  \n",
              "1              Endoskop     Wolf  Wolf 5512        31.0  \n",
              "2              Endoskop     Wolf  Wolf 5512        20.0  \n",
              "3  Ljuskälla f endoskop     Wolf       4015        13.0  "
            ],
            "text/html": [
              "\n",
              "  <div id=\"df-1f7ba4a2-08a5-47bc-a124-4fa8943acaca\">\n",
              "    <div class=\"colab-df-container\">\n",
              "      <div>\n",
              "<style scoped>\n",
              "    .dataframe tbody tr th:only-of-type {\n",
              "        vertical-align: middle;\n",
              "    }\n",
              "\n",
              "    .dataframe tbody tr th {\n",
              "        vertical-align: top;\n",
              "    }\n",
              "\n",
              "    .dataframe thead th {\n",
              "        text-align: right;\n",
              "    }\n",
              "</style>\n",
              "<table border=\"1\" class=\"dataframe\">\n",
              "  <thead>\n",
              "    <tr style=\"text-align: right;\">\n",
              "      <th></th>\n",
              "      <th>InvNr</th>\n",
              "      <th>InkDat</th>\n",
              "      <th>SkrotDatum</th>\n",
              "      <th>ID</th>\n",
              "      <th>Benamn</th>\n",
              "      <th>Fabrikat</th>\n",
              "      <th>Modell</th>\n",
              "      <th>intRisktal</th>\n",
              "    </tr>\n",
              "  </thead>\n",
              "  <tbody>\n",
              "    <tr>\n",
              "      <th>0</th>\n",
              "      <td>C951-01</td>\n",
              "      <td>2001-01-01 00:00:00.000</td>\n",
              "      <td>NaN</td>\n",
              "      <td>68263</td>\n",
              "      <td>Endoskop</td>\n",
              "      <td>Wolf</td>\n",
              "      <td>Wolf 5512</td>\n",
              "      <td>20.0</td>\n",
              "    </tr>\n",
              "    <tr>\n",
              "      <th>1</th>\n",
              "      <td>C951-02</td>\n",
              "      <td>2001-02-08 00:00:00.000</td>\n",
              "      <td>2018-12-19 00:00:00.000</td>\n",
              "      <td>68264</td>\n",
              "      <td>Endoskop</td>\n",
              "      <td>Wolf</td>\n",
              "      <td>Wolf 5512</td>\n",
              "      <td>31.0</td>\n",
              "    </tr>\n",
              "    <tr>\n",
              "      <th>2</th>\n",
              "      <td>111444</td>\n",
              "      <td>2005-01-01 00:00:00.000</td>\n",
              "      <td>NaN</td>\n",
              "      <td>86743</td>\n",
              "      <td>Endoskop</td>\n",
              "      <td>Wolf</td>\n",
              "      <td>Wolf 5512</td>\n",
              "      <td>20.0</td>\n",
              "    </tr>\n",
              "    <tr>\n",
              "      <th>3</th>\n",
              "      <td>9013559</td>\n",
              "      <td>2008-01-01 00:00:00.000</td>\n",
              "      <td>NaN</td>\n",
              "      <td>140398</td>\n",
              "      <td>Ljuskälla f endoskop</td>\n",
              "      <td>Wolf</td>\n",
              "      <td>4015</td>\n",
              "      <td>13.0</td>\n",
              "    </tr>\n",
              "  </tbody>\n",
              "</table>\n",
              "</div>\n",
              "      <button class=\"colab-df-convert\" onclick=\"convertToInteractive('df-1f7ba4a2-08a5-47bc-a124-4fa8943acaca')\"\n",
              "              title=\"Convert this dataframe to an interactive table.\"\n",
              "              style=\"display:none;\">\n",
              "        \n",
              "  <svg xmlns=\"http://www.w3.org/2000/svg\" height=\"24px\"viewBox=\"0 0 24 24\"\n",
              "       width=\"24px\">\n",
              "    <path d=\"M0 0h24v24H0V0z\" fill=\"none\"/>\n",
              "    <path d=\"M18.56 5.44l.94 2.06.94-2.06 2.06-.94-2.06-.94-.94-2.06-.94 2.06-2.06.94zm-11 1L8.5 8.5l.94-2.06 2.06-.94-2.06-.94L8.5 2.5l-.94 2.06-2.06.94zm10 10l.94 2.06.94-2.06 2.06-.94-2.06-.94-.94-2.06-.94 2.06-2.06.94z\"/><path d=\"M17.41 7.96l-1.37-1.37c-.4-.4-.92-.59-1.43-.59-.52 0-1.04.2-1.43.59L10.3 9.45l-7.72 7.72c-.78.78-.78 2.05 0 2.83L4 21.41c.39.39.9.59 1.41.59.51 0 1.02-.2 1.41-.59l7.78-7.78 2.81-2.81c.8-.78.8-2.07 0-2.86zM5.41 20L4 18.59l7.72-7.72 1.47 1.35L5.41 20z\"/>\n",
              "  </svg>\n",
              "      </button>\n",
              "      \n",
              "  <style>\n",
              "    .colab-df-container {\n",
              "      display:flex;\n",
              "      flex-wrap:wrap;\n",
              "      gap: 12px;\n",
              "    }\n",
              "\n",
              "    .colab-df-convert {\n",
              "      background-color: #E8F0FE;\n",
              "      border: none;\n",
              "      border-radius: 50%;\n",
              "      cursor: pointer;\n",
              "      display: none;\n",
              "      fill: #1967D2;\n",
              "      height: 32px;\n",
              "      padding: 0 0 0 0;\n",
              "      width: 32px;\n",
              "    }\n",
              "\n",
              "    .colab-df-convert:hover {\n",
              "      background-color: #E2EBFA;\n",
              "      box-shadow: 0px 1px 2px rgba(60, 64, 67, 0.3), 0px 1px 3px 1px rgba(60, 64, 67, 0.15);\n",
              "      fill: #174EA6;\n",
              "    }\n",
              "\n",
              "    [theme=dark] .colab-df-convert {\n",
              "      background-color: #3B4455;\n",
              "      fill: #D2E3FC;\n",
              "    }\n",
              "\n",
              "    [theme=dark] .colab-df-convert:hover {\n",
              "      background-color: #434B5C;\n",
              "      box-shadow: 0px 1px 3px 1px rgba(0, 0, 0, 0.15);\n",
              "      filter: drop-shadow(0px 1px 2px rgba(0, 0, 0, 0.3));\n",
              "      fill: #FFFFFF;\n",
              "    }\n",
              "  </style>\n",
              "\n",
              "      <script>\n",
              "        const buttonEl =\n",
              "          document.querySelector('#df-1f7ba4a2-08a5-47bc-a124-4fa8943acaca button.colab-df-convert');\n",
              "        buttonEl.style.display =\n",
              "          google.colab.kernel.accessAllowed ? 'block' : 'none';\n",
              "\n",
              "        async function convertToInteractive(key) {\n",
              "          const element = document.querySelector('#df-1f7ba4a2-08a5-47bc-a124-4fa8943acaca');\n",
              "          const dataTable =\n",
              "            await google.colab.kernel.invokeFunction('convertToInteractive',\n",
              "                                                     [key], {});\n",
              "          if (!dataTable) return;\n",
              "\n",
              "          const docLinkHtml = 'Like what you see? Visit the ' +\n",
              "            '<a target=\"_blank\" href=https://colab.research.google.com/notebooks/data_table.ipynb>data table notebook</a>'\n",
              "            + ' to learn more about interactive tables.';\n",
              "          element.innerHTML = '';\n",
              "          dataTable['output_type'] = 'display_data';\n",
              "          await google.colab.output.renderOutput(dataTable, element);\n",
              "          const docLink = document.createElement('div');\n",
              "          docLink.innerHTML = docLinkHtml;\n",
              "          element.appendChild(docLink);\n",
              "        }\n",
              "      </script>\n",
              "    </div>\n",
              "  </div>\n",
              "  "
            ]
          },
          "metadata": {},
          "execution_count": 8
        }
      ],
      "source": [
        "fin.head(4)"
      ]
    },
    {
      "cell_type": "code",
      "execution_count": 9,
      "metadata": {
        "id": "K0kmEYAFhH12"
      },
      "outputs": [],
      "source": [
        "dict = {'FUSenaste': 'prevPm',\n",
        "        'FUIntNasta': 'nexPm',\n",
        "        'InkDat':'Equip.reg_date',\n",
        "        'SkrotDatum':'Scrapped_date',\n",
        "        'Benamn':'dev',\n",
        "      'Fabrikat':'Brand',\n",
        "        'Modell':'Model',\n",
        "        'intRisktal':'calc.Risk'}"
      ]
    },
    {
      "cell_type": "code",
      "execution_count": 10,
      "metadata": {
        "id": "NezTyHSZhomT"
      },
      "outputs": [],
      "source": [
        "fin.rename(columns=dict,inplace=True)"
      ]
    },
    {
      "cell_type": "code",
      "execution_count": 11,
      "metadata": {
        "id": "qvxywb1sU4gR",
        "colab": {
          "base_uri": "https://localhost:8080/"
        },
        "outputId": "0d8bed72-ec02-4d13-9b86-6741cf14a98a"
      },
      "outputs": [
        {
          "output_type": "execute_result",
          "data": {
            "text/plain": [
              "227003"
            ]
          },
          "metadata": {},
          "execution_count": 11
        }
      ],
      "source": [
        "len(fin)"
      ]
    },
    {
      "cell_type": "markdown",
      "metadata": {
        "id": "3_3yXoQXYWQO"
      },
      "source": [
        "**substitute scrapped null values with data collection**"
      ]
    },
    {
      "cell_type": "code",
      "execution_count": 12,
      "metadata": {
        "id": "L57Jsju-fHuq",
        "colab": {
          "base_uri": "https://localhost:8080/"
        },
        "outputId": "1dcdbdf3-4a08-4bf1-8a1a-1eca2fbe6b98"
      },
      "outputs": [
        {
          "output_type": "execute_result",
          "data": {
            "text/plain": [
              "InvNr               2344\n",
              "Equip.reg_date     13883\n",
              "Scrapped_date     129351\n",
              "ID                     0\n",
              "dev                 2025\n",
              "Brand               2099\n",
              "Model               2150\n",
              "calc.Risk           9497\n",
              "dtype: int64"
            ]
          },
          "metadata": {},
          "execution_count": 12
        }
      ],
      "source": [
        "fin.isnull().sum()"
      ]
    },
    {
      "cell_type": "code",
      "execution_count": 13,
      "metadata": {
        "id": "nGmDmhoWTwnl"
      },
      "outputs": [],
      "source": [
        "dict1 = {'InkDat': 'Equip.reg_date',\n",
        "        'SkrotDatum': 'Scrapped_date',\n",
        "        'Benamn':'dev',\n",
        "        'Fabrikat':'Brand',\n",
        "        'Modell':'Model',\n",
        "        'intRisktal':'cal.Risk'}"
      ]
    },
    {
      "cell_type": "code",
      "execution_count": 14,
      "metadata": {
        "id": "oY_aSLOP6VV0",
        "colab": {
          "base_uri": "https://localhost:8080/",
          "height": 0
        },
        "outputId": "d43b1ef9-d3b2-4321-8fee-b90d391ff002"
      },
      "outputs": [
        {
          "output_type": "execute_result",
          "data": {
            "text/plain": [
              "     InvNr           Equip.reg_date            Scrapped_date     ID       dev  \\\n",
              "0  C951-01  2001-01-01 00:00:00.000                      NaN  68263  Endoskop   \n",
              "1  C951-02  2001-02-08 00:00:00.000  2018-12-19 00:00:00.000  68264  Endoskop   \n",
              "2   111444  2005-01-01 00:00:00.000                      NaN  86743  Endoskop   \n",
              "\n",
              "  Brand      Model  calc.Risk  \n",
              "0  Wolf  Wolf 5512       20.0  \n",
              "1  Wolf  Wolf 5512       31.0  \n",
              "2  Wolf  Wolf 5512       20.0  "
            ],
            "text/html": [
              "\n",
              "  <div id=\"df-ee69f0f9-8c5e-43e4-ac07-ba44affff685\">\n",
              "    <div class=\"colab-df-container\">\n",
              "      <div>\n",
              "<style scoped>\n",
              "    .dataframe tbody tr th:only-of-type {\n",
              "        vertical-align: middle;\n",
              "    }\n",
              "\n",
              "    .dataframe tbody tr th {\n",
              "        vertical-align: top;\n",
              "    }\n",
              "\n",
              "    .dataframe thead th {\n",
              "        text-align: right;\n",
              "    }\n",
              "</style>\n",
              "<table border=\"1\" class=\"dataframe\">\n",
              "  <thead>\n",
              "    <tr style=\"text-align: right;\">\n",
              "      <th></th>\n",
              "      <th>InvNr</th>\n",
              "      <th>Equip.reg_date</th>\n",
              "      <th>Scrapped_date</th>\n",
              "      <th>ID</th>\n",
              "      <th>dev</th>\n",
              "      <th>Brand</th>\n",
              "      <th>Model</th>\n",
              "      <th>calc.Risk</th>\n",
              "    </tr>\n",
              "  </thead>\n",
              "  <tbody>\n",
              "    <tr>\n",
              "      <th>0</th>\n",
              "      <td>C951-01</td>\n",
              "      <td>2001-01-01 00:00:00.000</td>\n",
              "      <td>NaN</td>\n",
              "      <td>68263</td>\n",
              "      <td>Endoskop</td>\n",
              "      <td>Wolf</td>\n",
              "      <td>Wolf 5512</td>\n",
              "      <td>20.0</td>\n",
              "    </tr>\n",
              "    <tr>\n",
              "      <th>1</th>\n",
              "      <td>C951-02</td>\n",
              "      <td>2001-02-08 00:00:00.000</td>\n",
              "      <td>2018-12-19 00:00:00.000</td>\n",
              "      <td>68264</td>\n",
              "      <td>Endoskop</td>\n",
              "      <td>Wolf</td>\n",
              "      <td>Wolf 5512</td>\n",
              "      <td>31.0</td>\n",
              "    </tr>\n",
              "    <tr>\n",
              "      <th>2</th>\n",
              "      <td>111444</td>\n",
              "      <td>2005-01-01 00:00:00.000</td>\n",
              "      <td>NaN</td>\n",
              "      <td>86743</td>\n",
              "      <td>Endoskop</td>\n",
              "      <td>Wolf</td>\n",
              "      <td>Wolf 5512</td>\n",
              "      <td>20.0</td>\n",
              "    </tr>\n",
              "  </tbody>\n",
              "</table>\n",
              "</div>\n",
              "      <button class=\"colab-df-convert\" onclick=\"convertToInteractive('df-ee69f0f9-8c5e-43e4-ac07-ba44affff685')\"\n",
              "              title=\"Convert this dataframe to an interactive table.\"\n",
              "              style=\"display:none;\">\n",
              "        \n",
              "  <svg xmlns=\"http://www.w3.org/2000/svg\" height=\"24px\"viewBox=\"0 0 24 24\"\n",
              "       width=\"24px\">\n",
              "    <path d=\"M0 0h24v24H0V0z\" fill=\"none\"/>\n",
              "    <path d=\"M18.56 5.44l.94 2.06.94-2.06 2.06-.94-2.06-.94-.94-2.06-.94 2.06-2.06.94zm-11 1L8.5 8.5l.94-2.06 2.06-.94-2.06-.94L8.5 2.5l-.94 2.06-2.06.94zm10 10l.94 2.06.94-2.06 2.06-.94-2.06-.94-.94-2.06-.94 2.06-2.06.94z\"/><path d=\"M17.41 7.96l-1.37-1.37c-.4-.4-.92-.59-1.43-.59-.52 0-1.04.2-1.43.59L10.3 9.45l-7.72 7.72c-.78.78-.78 2.05 0 2.83L4 21.41c.39.39.9.59 1.41.59.51 0 1.02-.2 1.41-.59l7.78-7.78 2.81-2.81c.8-.78.8-2.07 0-2.86zM5.41 20L4 18.59l7.72-7.72 1.47 1.35L5.41 20z\"/>\n",
              "  </svg>\n",
              "      </button>\n",
              "      \n",
              "  <style>\n",
              "    .colab-df-container {\n",
              "      display:flex;\n",
              "      flex-wrap:wrap;\n",
              "      gap: 12px;\n",
              "    }\n",
              "\n",
              "    .colab-df-convert {\n",
              "      background-color: #E8F0FE;\n",
              "      border: none;\n",
              "      border-radius: 50%;\n",
              "      cursor: pointer;\n",
              "      display: none;\n",
              "      fill: #1967D2;\n",
              "      height: 32px;\n",
              "      padding: 0 0 0 0;\n",
              "      width: 32px;\n",
              "    }\n",
              "\n",
              "    .colab-df-convert:hover {\n",
              "      background-color: #E2EBFA;\n",
              "      box-shadow: 0px 1px 2px rgba(60, 64, 67, 0.3), 0px 1px 3px 1px rgba(60, 64, 67, 0.15);\n",
              "      fill: #174EA6;\n",
              "    }\n",
              "\n",
              "    [theme=dark] .colab-df-convert {\n",
              "      background-color: #3B4455;\n",
              "      fill: #D2E3FC;\n",
              "    }\n",
              "\n",
              "    [theme=dark] .colab-df-convert:hover {\n",
              "      background-color: #434B5C;\n",
              "      box-shadow: 0px 1px 3px 1px rgba(0, 0, 0, 0.15);\n",
              "      filter: drop-shadow(0px 1px 2px rgba(0, 0, 0, 0.3));\n",
              "      fill: #FFFFFF;\n",
              "    }\n",
              "  </style>\n",
              "\n",
              "      <script>\n",
              "        const buttonEl =\n",
              "          document.querySelector('#df-ee69f0f9-8c5e-43e4-ac07-ba44affff685 button.colab-df-convert');\n",
              "        buttonEl.style.display =\n",
              "          google.colab.kernel.accessAllowed ? 'block' : 'none';\n",
              "\n",
              "        async function convertToInteractive(key) {\n",
              "          const element = document.querySelector('#df-ee69f0f9-8c5e-43e4-ac07-ba44affff685');\n",
              "          const dataTable =\n",
              "            await google.colab.kernel.invokeFunction('convertToInteractive',\n",
              "                                                     [key], {});\n",
              "          if (!dataTable) return;\n",
              "\n",
              "          const docLinkHtml = 'Like what you see? Visit the ' +\n",
              "            '<a target=\"_blank\" href=https://colab.research.google.com/notebooks/data_table.ipynb>data table notebook</a>'\n",
              "            + ' to learn more about interactive tables.';\n",
              "          element.innerHTML = '';\n",
              "          dataTable['output_type'] = 'display_data';\n",
              "          await google.colab.output.renderOutput(dataTable, element);\n",
              "          const docLink = document.createElement('div');\n",
              "          docLink.innerHTML = docLinkHtml;\n",
              "          element.appendChild(docLink);\n",
              "        }\n",
              "      </script>\n",
              "    </div>\n",
              "  </div>\n",
              "  "
            ]
          },
          "metadata": {},
          "execution_count": 14
        }
      ],
      "source": [
        "fin.head(3)"
      ]
    },
    {
      "cell_type": "code",
      "execution_count": 15,
      "metadata": {
        "id": "upiAi31Tb6Vd"
      },
      "outputs": [],
      "source": [
        "fin.dropna(inplace=True)"
      ]
    },
    {
      "cell_type": "code",
      "execution_count": 16,
      "metadata": {
        "id": "2vI5vS2W3q4v",
        "colab": {
          "base_uri": "https://localhost:8080/"
        },
        "outputId": "92a9e02c-d617-4421-9733-ce4592b9217d"
      },
      "outputs": [
        {
          "output_type": "execute_result",
          "data": {
            "text/plain": [
              "(83584, 8)"
            ]
          },
          "metadata": {},
          "execution_count": 16
        }
      ],
      "source": [
        "fin.shape"
      ]
    },
    {
      "cell_type": "code",
      "execution_count": 17,
      "metadata": {
        "id": "3UIEhF6ZQMA4"
      },
      "outputs": [],
      "source": [
        "fin.set_index('ID',inplace=True,drop=False)"
      ]
    },
    {
      "cell_type": "code",
      "execution_count": 18,
      "metadata": {
        "id": "Vmo2ndIrQXES",
        "colab": {
          "base_uri": "https://localhost:8080/",
          "height": 0
        },
        "outputId": "7a4760e1-e54e-44e8-b585-e24383dac3ff"
      },
      "outputs": [
        {
          "output_type": "execute_result",
          "data": {
            "text/plain": [
              "          InvNr           Equip.reg_date            Scrapped_date      ID  \\\n",
              "ID                                                                          \n",
              "68264   C951-02  2001-02-08 00:00:00.000  2018-12-19 00:00:00.000   68264   \n",
              "112347     P384  1981-01-01 00:00:00.000  2012-07-19 00:00:00.000  112347   \n",
              "88325     C0297  1985-01-01 00:00:00.000  2015-12-16 00:00:00.000   88325   \n",
              "\n",
              "                         dev Brand      Model  calc.Risk  \n",
              "ID                                                        \n",
              "68264               Endoskop  Wolf  Wolf 5512       31.0  \n",
              "112347  Ljuskälla f endoskop  Wolf       4015       31.0  \n",
              "88325   Ljuskälla f endoskop  Wolf       4015       31.0  "
            ],
            "text/html": [
              "\n",
              "  <div id=\"df-d83e4c95-e16d-4c13-85f5-fde82d481db3\">\n",
              "    <div class=\"colab-df-container\">\n",
              "      <div>\n",
              "<style scoped>\n",
              "    .dataframe tbody tr th:only-of-type {\n",
              "        vertical-align: middle;\n",
              "    }\n",
              "\n",
              "    .dataframe tbody tr th {\n",
              "        vertical-align: top;\n",
              "    }\n",
              "\n",
              "    .dataframe thead th {\n",
              "        text-align: right;\n",
              "    }\n",
              "</style>\n",
              "<table border=\"1\" class=\"dataframe\">\n",
              "  <thead>\n",
              "    <tr style=\"text-align: right;\">\n",
              "      <th></th>\n",
              "      <th>InvNr</th>\n",
              "      <th>Equip.reg_date</th>\n",
              "      <th>Scrapped_date</th>\n",
              "      <th>ID</th>\n",
              "      <th>dev</th>\n",
              "      <th>Brand</th>\n",
              "      <th>Model</th>\n",
              "      <th>calc.Risk</th>\n",
              "    </tr>\n",
              "    <tr>\n",
              "      <th>ID</th>\n",
              "      <th></th>\n",
              "      <th></th>\n",
              "      <th></th>\n",
              "      <th></th>\n",
              "      <th></th>\n",
              "      <th></th>\n",
              "      <th></th>\n",
              "      <th></th>\n",
              "    </tr>\n",
              "  </thead>\n",
              "  <tbody>\n",
              "    <tr>\n",
              "      <th>68264</th>\n",
              "      <td>C951-02</td>\n",
              "      <td>2001-02-08 00:00:00.000</td>\n",
              "      <td>2018-12-19 00:00:00.000</td>\n",
              "      <td>68264</td>\n",
              "      <td>Endoskop</td>\n",
              "      <td>Wolf</td>\n",
              "      <td>Wolf 5512</td>\n",
              "      <td>31.0</td>\n",
              "    </tr>\n",
              "    <tr>\n",
              "      <th>112347</th>\n",
              "      <td>P384</td>\n",
              "      <td>1981-01-01 00:00:00.000</td>\n",
              "      <td>2012-07-19 00:00:00.000</td>\n",
              "      <td>112347</td>\n",
              "      <td>Ljuskälla f endoskop</td>\n",
              "      <td>Wolf</td>\n",
              "      <td>4015</td>\n",
              "      <td>31.0</td>\n",
              "    </tr>\n",
              "    <tr>\n",
              "      <th>88325</th>\n",
              "      <td>C0297</td>\n",
              "      <td>1985-01-01 00:00:00.000</td>\n",
              "      <td>2015-12-16 00:00:00.000</td>\n",
              "      <td>88325</td>\n",
              "      <td>Ljuskälla f endoskop</td>\n",
              "      <td>Wolf</td>\n",
              "      <td>4015</td>\n",
              "      <td>31.0</td>\n",
              "    </tr>\n",
              "  </tbody>\n",
              "</table>\n",
              "</div>\n",
              "      <button class=\"colab-df-convert\" onclick=\"convertToInteractive('df-d83e4c95-e16d-4c13-85f5-fde82d481db3')\"\n",
              "              title=\"Convert this dataframe to an interactive table.\"\n",
              "              style=\"display:none;\">\n",
              "        \n",
              "  <svg xmlns=\"http://www.w3.org/2000/svg\" height=\"24px\"viewBox=\"0 0 24 24\"\n",
              "       width=\"24px\">\n",
              "    <path d=\"M0 0h24v24H0V0z\" fill=\"none\"/>\n",
              "    <path d=\"M18.56 5.44l.94 2.06.94-2.06 2.06-.94-2.06-.94-.94-2.06-.94 2.06-2.06.94zm-11 1L8.5 8.5l.94-2.06 2.06-.94-2.06-.94L8.5 2.5l-.94 2.06-2.06.94zm10 10l.94 2.06.94-2.06 2.06-.94-2.06-.94-.94-2.06-.94 2.06-2.06.94z\"/><path d=\"M17.41 7.96l-1.37-1.37c-.4-.4-.92-.59-1.43-.59-.52 0-1.04.2-1.43.59L10.3 9.45l-7.72 7.72c-.78.78-.78 2.05 0 2.83L4 21.41c.39.39.9.59 1.41.59.51 0 1.02-.2 1.41-.59l7.78-7.78 2.81-2.81c.8-.78.8-2.07 0-2.86zM5.41 20L4 18.59l7.72-7.72 1.47 1.35L5.41 20z\"/>\n",
              "  </svg>\n",
              "      </button>\n",
              "      \n",
              "  <style>\n",
              "    .colab-df-container {\n",
              "      display:flex;\n",
              "      flex-wrap:wrap;\n",
              "      gap: 12px;\n",
              "    }\n",
              "\n",
              "    .colab-df-convert {\n",
              "      background-color: #E8F0FE;\n",
              "      border: none;\n",
              "      border-radius: 50%;\n",
              "      cursor: pointer;\n",
              "      display: none;\n",
              "      fill: #1967D2;\n",
              "      height: 32px;\n",
              "      padding: 0 0 0 0;\n",
              "      width: 32px;\n",
              "    }\n",
              "\n",
              "    .colab-df-convert:hover {\n",
              "      background-color: #E2EBFA;\n",
              "      box-shadow: 0px 1px 2px rgba(60, 64, 67, 0.3), 0px 1px 3px 1px rgba(60, 64, 67, 0.15);\n",
              "      fill: #174EA6;\n",
              "    }\n",
              "\n",
              "    [theme=dark] .colab-df-convert {\n",
              "      background-color: #3B4455;\n",
              "      fill: #D2E3FC;\n",
              "    }\n",
              "\n",
              "    [theme=dark] .colab-df-convert:hover {\n",
              "      background-color: #434B5C;\n",
              "      box-shadow: 0px 1px 3px 1px rgba(0, 0, 0, 0.15);\n",
              "      filter: drop-shadow(0px 1px 2px rgba(0, 0, 0, 0.3));\n",
              "      fill: #FFFFFF;\n",
              "    }\n",
              "  </style>\n",
              "\n",
              "      <script>\n",
              "        const buttonEl =\n",
              "          document.querySelector('#df-d83e4c95-e16d-4c13-85f5-fde82d481db3 button.colab-df-convert');\n",
              "        buttonEl.style.display =\n",
              "          google.colab.kernel.accessAllowed ? 'block' : 'none';\n",
              "\n",
              "        async function convertToInteractive(key) {\n",
              "          const element = document.querySelector('#df-d83e4c95-e16d-4c13-85f5-fde82d481db3');\n",
              "          const dataTable =\n",
              "            await google.colab.kernel.invokeFunction('convertToInteractive',\n",
              "                                                     [key], {});\n",
              "          if (!dataTable) return;\n",
              "\n",
              "          const docLinkHtml = 'Like what you see? Visit the ' +\n",
              "            '<a target=\"_blank\" href=https://colab.research.google.com/notebooks/data_table.ipynb>data table notebook</a>'\n",
              "            + ' to learn more about interactive tables.';\n",
              "          element.innerHTML = '';\n",
              "          dataTable['output_type'] = 'display_data';\n",
              "          await google.colab.output.renderOutput(dataTable, element);\n",
              "          const docLink = document.createElement('div');\n",
              "          docLink.innerHTML = docLinkHtml;\n",
              "          element.appendChild(docLink);\n",
              "        }\n",
              "      </script>\n",
              "    </div>\n",
              "  </div>\n",
              "  "
            ]
          },
          "metadata": {},
          "execution_count": 18
        }
      ],
      "source": [
        "fin.head(3)"
      ]
    },
    {
      "cell_type": "markdown",
      "metadata": {
        "id": "HxQj_jDxy_7T"
      },
      "source": [
        "# ***pm***"
      ]
    },
    {
      "cell_type": "code",
      "execution_count": 19,
      "metadata": {
        "id": "KF4GJYRKzIau"
      },
      "outputs": [],
      "source": [
        "df3=(r\"/content/drive/MyDrive/Thesis_datasets/New-data-SoftPro/Hospitals1/pm.csv\")"
      ]
    },
    {
      "cell_type": "code",
      "execution_count": 20,
      "metadata": {
        "id": "n1CP2xfpzkV-"
      },
      "outputs": [],
      "source": [
        "fin3=read_csv(df3,sep=';')"
      ]
    },
    {
      "cell_type": "code",
      "execution_count": 21,
      "metadata": {
        "id": "RSwQ4C2Tz-wh",
        "colab": {
          "base_uri": "https://localhost:8080/",
          "height": 0
        },
        "outputId": "7d7050a2-63b0-449c-d08b-8cec94199144"
      },
      "outputs": [
        {
          "output_type": "execute_result",
          "data": {
            "text/plain": [
              "      Id  EquipmentId                   NextPM                   LastPM  \\\n",
              "0   7838      17635.0  2007-01-01 00:00:00.000  2006-01-12 00:00:00.000   \n",
              "1  27837      65129.0  2003-06-15 00:00:00.000  2001-06-15 00:00:00.000   \n",
              "2  27838      65130.0  2007-07-01 00:00:00.000  2005-07-25 00:00:00.000   \n",
              "\n",
              "     Interval  IsRecurring  \n",
              "0  12 Månader            1  \n",
              "1  24 Månader            1  \n",
              "2  24 Månader            1  "
            ],
            "text/html": [
              "\n",
              "  <div id=\"df-1071e593-add4-42f7-a843-e546b1cc03dc\">\n",
              "    <div class=\"colab-df-container\">\n",
              "      <div>\n",
              "<style scoped>\n",
              "    .dataframe tbody tr th:only-of-type {\n",
              "        vertical-align: middle;\n",
              "    }\n",
              "\n",
              "    .dataframe tbody tr th {\n",
              "        vertical-align: top;\n",
              "    }\n",
              "\n",
              "    .dataframe thead th {\n",
              "        text-align: right;\n",
              "    }\n",
              "</style>\n",
              "<table border=\"1\" class=\"dataframe\">\n",
              "  <thead>\n",
              "    <tr style=\"text-align: right;\">\n",
              "      <th></th>\n",
              "      <th>Id</th>\n",
              "      <th>EquipmentId</th>\n",
              "      <th>NextPM</th>\n",
              "      <th>LastPM</th>\n",
              "      <th>Interval</th>\n",
              "      <th>IsRecurring</th>\n",
              "    </tr>\n",
              "  </thead>\n",
              "  <tbody>\n",
              "    <tr>\n",
              "      <th>0</th>\n",
              "      <td>7838</td>\n",
              "      <td>17635.0</td>\n",
              "      <td>2007-01-01 00:00:00.000</td>\n",
              "      <td>2006-01-12 00:00:00.000</td>\n",
              "      <td>12 Månader</td>\n",
              "      <td>1</td>\n",
              "    </tr>\n",
              "    <tr>\n",
              "      <th>1</th>\n",
              "      <td>27837</td>\n",
              "      <td>65129.0</td>\n",
              "      <td>2003-06-15 00:00:00.000</td>\n",
              "      <td>2001-06-15 00:00:00.000</td>\n",
              "      <td>24 Månader</td>\n",
              "      <td>1</td>\n",
              "    </tr>\n",
              "    <tr>\n",
              "      <th>2</th>\n",
              "      <td>27838</td>\n",
              "      <td>65130.0</td>\n",
              "      <td>2007-07-01 00:00:00.000</td>\n",
              "      <td>2005-07-25 00:00:00.000</td>\n",
              "      <td>24 Månader</td>\n",
              "      <td>1</td>\n",
              "    </tr>\n",
              "  </tbody>\n",
              "</table>\n",
              "</div>\n",
              "      <button class=\"colab-df-convert\" onclick=\"convertToInteractive('df-1071e593-add4-42f7-a843-e546b1cc03dc')\"\n",
              "              title=\"Convert this dataframe to an interactive table.\"\n",
              "              style=\"display:none;\">\n",
              "        \n",
              "  <svg xmlns=\"http://www.w3.org/2000/svg\" height=\"24px\"viewBox=\"0 0 24 24\"\n",
              "       width=\"24px\">\n",
              "    <path d=\"M0 0h24v24H0V0z\" fill=\"none\"/>\n",
              "    <path d=\"M18.56 5.44l.94 2.06.94-2.06 2.06-.94-2.06-.94-.94-2.06-.94 2.06-2.06.94zm-11 1L8.5 8.5l.94-2.06 2.06-.94-2.06-.94L8.5 2.5l-.94 2.06-2.06.94zm10 10l.94 2.06.94-2.06 2.06-.94-2.06-.94-.94-2.06-.94 2.06-2.06.94z\"/><path d=\"M17.41 7.96l-1.37-1.37c-.4-.4-.92-.59-1.43-.59-.52 0-1.04.2-1.43.59L10.3 9.45l-7.72 7.72c-.78.78-.78 2.05 0 2.83L4 21.41c.39.39.9.59 1.41.59.51 0 1.02-.2 1.41-.59l7.78-7.78 2.81-2.81c.8-.78.8-2.07 0-2.86zM5.41 20L4 18.59l7.72-7.72 1.47 1.35L5.41 20z\"/>\n",
              "  </svg>\n",
              "      </button>\n",
              "      \n",
              "  <style>\n",
              "    .colab-df-container {\n",
              "      display:flex;\n",
              "      flex-wrap:wrap;\n",
              "      gap: 12px;\n",
              "    }\n",
              "\n",
              "    .colab-df-convert {\n",
              "      background-color: #E8F0FE;\n",
              "      border: none;\n",
              "      border-radius: 50%;\n",
              "      cursor: pointer;\n",
              "      display: none;\n",
              "      fill: #1967D2;\n",
              "      height: 32px;\n",
              "      padding: 0 0 0 0;\n",
              "      width: 32px;\n",
              "    }\n",
              "\n",
              "    .colab-df-convert:hover {\n",
              "      background-color: #E2EBFA;\n",
              "      box-shadow: 0px 1px 2px rgba(60, 64, 67, 0.3), 0px 1px 3px 1px rgba(60, 64, 67, 0.15);\n",
              "      fill: #174EA6;\n",
              "    }\n",
              "\n",
              "    [theme=dark] .colab-df-convert {\n",
              "      background-color: #3B4455;\n",
              "      fill: #D2E3FC;\n",
              "    }\n",
              "\n",
              "    [theme=dark] .colab-df-convert:hover {\n",
              "      background-color: #434B5C;\n",
              "      box-shadow: 0px 1px 3px 1px rgba(0, 0, 0, 0.15);\n",
              "      filter: drop-shadow(0px 1px 2px rgba(0, 0, 0, 0.3));\n",
              "      fill: #FFFFFF;\n",
              "    }\n",
              "  </style>\n",
              "\n",
              "      <script>\n",
              "        const buttonEl =\n",
              "          document.querySelector('#df-1071e593-add4-42f7-a843-e546b1cc03dc button.colab-df-convert');\n",
              "        buttonEl.style.display =\n",
              "          google.colab.kernel.accessAllowed ? 'block' : 'none';\n",
              "\n",
              "        async function convertToInteractive(key) {\n",
              "          const element = document.querySelector('#df-1071e593-add4-42f7-a843-e546b1cc03dc');\n",
              "          const dataTable =\n",
              "            await google.colab.kernel.invokeFunction('convertToInteractive',\n",
              "                                                     [key], {});\n",
              "          if (!dataTable) return;\n",
              "\n",
              "          const docLinkHtml = 'Like what you see? Visit the ' +\n",
              "            '<a target=\"_blank\" href=https://colab.research.google.com/notebooks/data_table.ipynb>data table notebook</a>'\n",
              "            + ' to learn more about interactive tables.';\n",
              "          element.innerHTML = '';\n",
              "          dataTable['output_type'] = 'display_data';\n",
              "          await google.colab.output.renderOutput(dataTable, element);\n",
              "          const docLink = document.createElement('div');\n",
              "          docLink.innerHTML = docLinkHtml;\n",
              "          element.appendChild(docLink);\n",
              "        }\n",
              "      </script>\n",
              "    </div>\n",
              "  </div>\n",
              "  "
            ]
          },
          "metadata": {},
          "execution_count": 21
        }
      ],
      "source": [
        "fin3.head(3)"
      ]
    },
    {
      "cell_type": "code",
      "execution_count": 22,
      "metadata": {
        "id": "bHt6JNpbeEyP",
        "colab": {
          "base_uri": "https://localhost:8080/"
        },
        "outputId": "5d2cd56f-b0d9-460b-a814-c5f367e485bc"
      },
      "outputs": [
        {
          "output_type": "execute_result",
          "data": {
            "text/plain": [
              "Id                 0\n",
              "EquipmentId     4081\n",
              "NextPM          4921\n",
              "LastPM         47521\n",
              "Interval       13329\n",
              "IsRecurring        0\n",
              "dtype: int64"
            ]
          },
          "metadata": {},
          "execution_count": 22
        }
      ],
      "source": [
        "fin3.isnull().sum()"
      ]
    },
    {
      "cell_type": "code",
      "execution_count": 23,
      "metadata": {
        "id": "qhJ3D6deeTyR",
        "colab": {
          "base_uri": "https://localhost:8080/"
        },
        "outputId": "f0055457-7f5f-49f9-f51c-dd4fddf9032b"
      },
      "outputs": [
        {
          "output_type": "execute_result",
          "data": {
            "text/plain": [
              "117291"
            ]
          },
          "metadata": {},
          "execution_count": 23
        }
      ],
      "source": [
        "len(fin3)"
      ]
    },
    {
      "cell_type": "code",
      "execution_count": 24,
      "metadata": {
        "id": "8dGIKm60elwK"
      },
      "outputs": [],
      "source": [
        "fin3.dropna(inplace=True)"
      ]
    },
    {
      "cell_type": "code",
      "execution_count": 25,
      "metadata": {
        "id": "flfUh3OverUX",
        "colab": {
          "base_uri": "https://localhost:8080/"
        },
        "outputId": "3d95abb3-b4f8-4d3f-ec42-74e72a14217f"
      },
      "outputs": [
        {
          "output_type": "execute_result",
          "data": {
            "text/plain": [
              "68762"
            ]
          },
          "metadata": {},
          "execution_count": 25
        }
      ],
      "source": [
        "len(fin3)"
      ]
    },
    {
      "cell_type": "code",
      "execution_count": 26,
      "metadata": {
        "id": "IE57B6TMezYN",
        "colab": {
          "base_uri": "https://localhost:8080/"
        },
        "outputId": "df0dc553-66e6-4284-e844-e6fd5b974f03"
      },
      "outputs": [
        {
          "output_type": "execute_result",
          "data": {
            "text/plain": [
              "Id             0\n",
              "EquipmentId    0\n",
              "NextPM         0\n",
              "LastPM         0\n",
              "Interval       0\n",
              "IsRecurring    0\n",
              "dtype: int64"
            ]
          },
          "metadata": {},
          "execution_count": 26
        }
      ],
      "source": [
        "fin3.isnull().sum()"
      ]
    },
    {
      "cell_type": "code",
      "execution_count": 27,
      "metadata": {
        "id": "Icd8oVnz76q_",
        "colab": {
          "base_uri": "https://localhost:8080/"
        },
        "outputId": "439f59d2-3c95-4195-ac79-7e80f4693a40"
      },
      "outputs": [
        {
          "output_type": "execute_result",
          "data": {
            "text/plain": [
              "Id             68762\n",
              "EquipmentId    68762\n",
              "NextPM         68762\n",
              "LastPM         68762\n",
              "Interval       68762\n",
              "IsRecurring    68762\n",
              "dtype: int64"
            ]
          },
          "metadata": {},
          "execution_count": 27
        }
      ],
      "source": [
        "fin3.count()"
      ]
    },
    {
      "cell_type": "code",
      "execution_count": 28,
      "metadata": {
        "id": "KTzzEO136Xaf",
        "colab": {
          "base_uri": "https://localhost:8080/",
          "height": 0
        },
        "outputId": "0c6f94b3-d6f4-431e-fb09-374856b2c9d7"
      },
      "outputs": [
        {
          "output_type": "execute_result",
          "data": {
            "text/plain": [
              "                 Id  EquipmentId                   NextPM  \\\n",
              "EquipmentId                                                 \n",
              "17635.0        7838      17635.0  2007-01-01 00:00:00.000   \n",
              "65129.0       27837      65129.0  2003-06-15 00:00:00.000   \n",
              "65130.0       27838      65130.0  2007-07-01 00:00:00.000   \n",
              "65131.0       27839      65131.0  2006-06-01 00:00:00.000   \n",
              "65132.0       27840      65132.0  2003-06-26 00:00:00.000   \n",
              "...             ...          ...                      ...   \n",
              "305222.0     253852     305222.0  2022-09-01 00:00:00.000   \n",
              "305223.0     253853     305223.0  2022-09-01 00:00:00.000   \n",
              "305224.0     253854     305224.0  2022-09-01 00:00:00.000   \n",
              "102939.0     253857     102939.0  2023-02-25 00:00:00.000   \n",
              "295928.0     253859     295928.0  2022-02-24 00:00:00.000   \n",
              "\n",
              "                              LastPM    Interval  IsRecurring  \n",
              "EquipmentId                                                    \n",
              "17635.0      2006-01-12 00:00:00.000  12 Månader            1  \n",
              "65129.0      2001-06-15 00:00:00.000  24 Månader            1  \n",
              "65130.0      2005-07-25 00:00:00.000  24 Månader            1  \n",
              "65131.0      2004-06-01 00:00:00.000  24 Månader            1  \n",
              "65132.0      2001-06-26 00:00:00.000  24 Månader            1  \n",
              "...                              ...         ...          ...  \n",
              "305222.0     2021-09-01 00:00:00.000  12 Månader            1  \n",
              "305223.0     2021-09-01 00:00:00.000  12 Månader            1  \n",
              "305224.0     2021-09-01 00:00:00.000  12 Månader            1  \n",
              "102939.0     2022-02-25 00:00:00.000  12 Månader            1  \n",
              "295928.0     2021-02-24 00:00:00.000  12 Månader            1  \n",
              "\n",
              "[68762 rows x 6 columns]"
            ],
            "text/html": [
              "\n",
              "  <div id=\"df-a3897ea0-4373-48f4-8da3-d36b87bed020\">\n",
              "    <div class=\"colab-df-container\">\n",
              "      <div>\n",
              "<style scoped>\n",
              "    .dataframe tbody tr th:only-of-type {\n",
              "        vertical-align: middle;\n",
              "    }\n",
              "\n",
              "    .dataframe tbody tr th {\n",
              "        vertical-align: top;\n",
              "    }\n",
              "\n",
              "    .dataframe thead th {\n",
              "        text-align: right;\n",
              "    }\n",
              "</style>\n",
              "<table border=\"1\" class=\"dataframe\">\n",
              "  <thead>\n",
              "    <tr style=\"text-align: right;\">\n",
              "      <th></th>\n",
              "      <th>Id</th>\n",
              "      <th>EquipmentId</th>\n",
              "      <th>NextPM</th>\n",
              "      <th>LastPM</th>\n",
              "      <th>Interval</th>\n",
              "      <th>IsRecurring</th>\n",
              "    </tr>\n",
              "    <tr>\n",
              "      <th>EquipmentId</th>\n",
              "      <th></th>\n",
              "      <th></th>\n",
              "      <th></th>\n",
              "      <th></th>\n",
              "      <th></th>\n",
              "      <th></th>\n",
              "    </tr>\n",
              "  </thead>\n",
              "  <tbody>\n",
              "    <tr>\n",
              "      <th>17635.0</th>\n",
              "      <td>7838</td>\n",
              "      <td>17635.0</td>\n",
              "      <td>2007-01-01 00:00:00.000</td>\n",
              "      <td>2006-01-12 00:00:00.000</td>\n",
              "      <td>12 Månader</td>\n",
              "      <td>1</td>\n",
              "    </tr>\n",
              "    <tr>\n",
              "      <th>65129.0</th>\n",
              "      <td>27837</td>\n",
              "      <td>65129.0</td>\n",
              "      <td>2003-06-15 00:00:00.000</td>\n",
              "      <td>2001-06-15 00:00:00.000</td>\n",
              "      <td>24 Månader</td>\n",
              "      <td>1</td>\n",
              "    </tr>\n",
              "    <tr>\n",
              "      <th>65130.0</th>\n",
              "      <td>27838</td>\n",
              "      <td>65130.0</td>\n",
              "      <td>2007-07-01 00:00:00.000</td>\n",
              "      <td>2005-07-25 00:00:00.000</td>\n",
              "      <td>24 Månader</td>\n",
              "      <td>1</td>\n",
              "    </tr>\n",
              "    <tr>\n",
              "      <th>65131.0</th>\n",
              "      <td>27839</td>\n",
              "      <td>65131.0</td>\n",
              "      <td>2006-06-01 00:00:00.000</td>\n",
              "      <td>2004-06-01 00:00:00.000</td>\n",
              "      <td>24 Månader</td>\n",
              "      <td>1</td>\n",
              "    </tr>\n",
              "    <tr>\n",
              "      <th>65132.0</th>\n",
              "      <td>27840</td>\n",
              "      <td>65132.0</td>\n",
              "      <td>2003-06-26 00:00:00.000</td>\n",
              "      <td>2001-06-26 00:00:00.000</td>\n",
              "      <td>24 Månader</td>\n",
              "      <td>1</td>\n",
              "    </tr>\n",
              "    <tr>\n",
              "      <th>...</th>\n",
              "      <td>...</td>\n",
              "      <td>...</td>\n",
              "      <td>...</td>\n",
              "      <td>...</td>\n",
              "      <td>...</td>\n",
              "      <td>...</td>\n",
              "    </tr>\n",
              "    <tr>\n",
              "      <th>305222.0</th>\n",
              "      <td>253852</td>\n",
              "      <td>305222.0</td>\n",
              "      <td>2022-09-01 00:00:00.000</td>\n",
              "      <td>2021-09-01 00:00:00.000</td>\n",
              "      <td>12 Månader</td>\n",
              "      <td>1</td>\n",
              "    </tr>\n",
              "    <tr>\n",
              "      <th>305223.0</th>\n",
              "      <td>253853</td>\n",
              "      <td>305223.0</td>\n",
              "      <td>2022-09-01 00:00:00.000</td>\n",
              "      <td>2021-09-01 00:00:00.000</td>\n",
              "      <td>12 Månader</td>\n",
              "      <td>1</td>\n",
              "    </tr>\n",
              "    <tr>\n",
              "      <th>305224.0</th>\n",
              "      <td>253854</td>\n",
              "      <td>305224.0</td>\n",
              "      <td>2022-09-01 00:00:00.000</td>\n",
              "      <td>2021-09-01 00:00:00.000</td>\n",
              "      <td>12 Månader</td>\n",
              "      <td>1</td>\n",
              "    </tr>\n",
              "    <tr>\n",
              "      <th>102939.0</th>\n",
              "      <td>253857</td>\n",
              "      <td>102939.0</td>\n",
              "      <td>2023-02-25 00:00:00.000</td>\n",
              "      <td>2022-02-25 00:00:00.000</td>\n",
              "      <td>12 Månader</td>\n",
              "      <td>1</td>\n",
              "    </tr>\n",
              "    <tr>\n",
              "      <th>295928.0</th>\n",
              "      <td>253859</td>\n",
              "      <td>295928.0</td>\n",
              "      <td>2022-02-24 00:00:00.000</td>\n",
              "      <td>2021-02-24 00:00:00.000</td>\n",
              "      <td>12 Månader</td>\n",
              "      <td>1</td>\n",
              "    </tr>\n",
              "  </tbody>\n",
              "</table>\n",
              "<p>68762 rows × 6 columns</p>\n",
              "</div>\n",
              "      <button class=\"colab-df-convert\" onclick=\"convertToInteractive('df-a3897ea0-4373-48f4-8da3-d36b87bed020')\"\n",
              "              title=\"Convert this dataframe to an interactive table.\"\n",
              "              style=\"display:none;\">\n",
              "        \n",
              "  <svg xmlns=\"http://www.w3.org/2000/svg\" height=\"24px\"viewBox=\"0 0 24 24\"\n",
              "       width=\"24px\">\n",
              "    <path d=\"M0 0h24v24H0V0z\" fill=\"none\"/>\n",
              "    <path d=\"M18.56 5.44l.94 2.06.94-2.06 2.06-.94-2.06-.94-.94-2.06-.94 2.06-2.06.94zm-11 1L8.5 8.5l.94-2.06 2.06-.94-2.06-.94L8.5 2.5l-.94 2.06-2.06.94zm10 10l.94 2.06.94-2.06 2.06-.94-2.06-.94-.94-2.06-.94 2.06-2.06.94z\"/><path d=\"M17.41 7.96l-1.37-1.37c-.4-.4-.92-.59-1.43-.59-.52 0-1.04.2-1.43.59L10.3 9.45l-7.72 7.72c-.78.78-.78 2.05 0 2.83L4 21.41c.39.39.9.59 1.41.59.51 0 1.02-.2 1.41-.59l7.78-7.78 2.81-2.81c.8-.78.8-2.07 0-2.86zM5.41 20L4 18.59l7.72-7.72 1.47 1.35L5.41 20z\"/>\n",
              "  </svg>\n",
              "      </button>\n",
              "      \n",
              "  <style>\n",
              "    .colab-df-container {\n",
              "      display:flex;\n",
              "      flex-wrap:wrap;\n",
              "      gap: 12px;\n",
              "    }\n",
              "\n",
              "    .colab-df-convert {\n",
              "      background-color: #E8F0FE;\n",
              "      border: none;\n",
              "      border-radius: 50%;\n",
              "      cursor: pointer;\n",
              "      display: none;\n",
              "      fill: #1967D2;\n",
              "      height: 32px;\n",
              "      padding: 0 0 0 0;\n",
              "      width: 32px;\n",
              "    }\n",
              "\n",
              "    .colab-df-convert:hover {\n",
              "      background-color: #E2EBFA;\n",
              "      box-shadow: 0px 1px 2px rgba(60, 64, 67, 0.3), 0px 1px 3px 1px rgba(60, 64, 67, 0.15);\n",
              "      fill: #174EA6;\n",
              "    }\n",
              "\n",
              "    [theme=dark] .colab-df-convert {\n",
              "      background-color: #3B4455;\n",
              "      fill: #D2E3FC;\n",
              "    }\n",
              "\n",
              "    [theme=dark] .colab-df-convert:hover {\n",
              "      background-color: #434B5C;\n",
              "      box-shadow: 0px 1px 3px 1px rgba(0, 0, 0, 0.15);\n",
              "      filter: drop-shadow(0px 1px 2px rgba(0, 0, 0, 0.3));\n",
              "      fill: #FFFFFF;\n",
              "    }\n",
              "  </style>\n",
              "\n",
              "      <script>\n",
              "        const buttonEl =\n",
              "          document.querySelector('#df-a3897ea0-4373-48f4-8da3-d36b87bed020 button.colab-df-convert');\n",
              "        buttonEl.style.display =\n",
              "          google.colab.kernel.accessAllowed ? 'block' : 'none';\n",
              "\n",
              "        async function convertToInteractive(key) {\n",
              "          const element = document.querySelector('#df-a3897ea0-4373-48f4-8da3-d36b87bed020');\n",
              "          const dataTable =\n",
              "            await google.colab.kernel.invokeFunction('convertToInteractive',\n",
              "                                                     [key], {});\n",
              "          if (!dataTable) return;\n",
              "\n",
              "          const docLinkHtml = 'Like what you see? Visit the ' +\n",
              "            '<a target=\"_blank\" href=https://colab.research.google.com/notebooks/data_table.ipynb>data table notebook</a>'\n",
              "            + ' to learn more about interactive tables.';\n",
              "          element.innerHTML = '';\n",
              "          dataTable['output_type'] = 'display_data';\n",
              "          await google.colab.output.renderOutput(dataTable, element);\n",
              "          const docLink = document.createElement('div');\n",
              "          docLink.innerHTML = docLinkHtml;\n",
              "          element.appendChild(docLink);\n",
              "        }\n",
              "      </script>\n",
              "    </div>\n",
              "  </div>\n",
              "  "
            ]
          },
          "metadata": {},
          "execution_count": 28
        }
      ],
      "source": [
        "fin3.set_index('EquipmentId',drop=False)"
      ]
    },
    {
      "cell_type": "markdown",
      "metadata": {
        "id": "vB6E0JkD6haT"
      },
      "source": [
        "# **pm data**"
      ]
    },
    {
      "cell_type": "code",
      "execution_count": 29,
      "metadata": {
        "id": "ppVPrvZF6mCR"
      },
      "outputs": [],
      "source": [
        "df2=(r\"/content/drive/MyDrive/Thesis_datasets/New-data-SoftPro/Hospitals1/pm_data.csv\")"
      ]
    },
    {
      "cell_type": "code",
      "execution_count": 30,
      "metadata": {
        "id": "vAmnGJWM69go"
      },
      "outputs": [],
      "source": [
        "fin1=read_csv(df2,sep=';',names=['invID','last_pm','first_pm','count_pm','meantime_pm'])"
      ]
    },
    {
      "cell_type": "code",
      "execution_count": 31,
      "metadata": {
        "id": "_ataeb37PofY",
        "colab": {
          "base_uri": "https://localhost:8080/"
        },
        "outputId": "1a0ab864-5645-4de1-edf4-e6aecdf79938"
      },
      "outputs": [
        {
          "output_type": "execute_result",
          "data": {
            "text/plain": [
              "80503"
            ]
          },
          "metadata": {},
          "execution_count": 31
        }
      ],
      "source": [
        "len(fin1)"
      ]
    },
    {
      "cell_type": "code",
      "execution_count": 32,
      "metadata": {
        "id": "xraeB_Xm7y3Y",
        "colab": {
          "base_uri": "https://localhost:8080/",
          "height": 0
        },
        "outputId": "e503f533-4e2a-4033-f8c4-e5c845bb7dc8"
      },
      "outputs": [
        {
          "output_type": "execute_result",
          "data": {
            "text/plain": [
              "    invID     last_pm    first_pm  count_pm  meantime_pm\n",
              "0  204282  2020-03-04  2009-03-31        11          362\n",
              "1  255222  2021-06-28  2018-03-20         4          299\n",
              "2  208527  2015-06-22  2015-06-22         1            0"
            ],
            "text/html": [
              "\n",
              "  <div id=\"df-fde78858-a02e-41a6-b475-788257664e71\">\n",
              "    <div class=\"colab-df-container\">\n",
              "      <div>\n",
              "<style scoped>\n",
              "    .dataframe tbody tr th:only-of-type {\n",
              "        vertical-align: middle;\n",
              "    }\n",
              "\n",
              "    .dataframe tbody tr th {\n",
              "        vertical-align: top;\n",
              "    }\n",
              "\n",
              "    .dataframe thead th {\n",
              "        text-align: right;\n",
              "    }\n",
              "</style>\n",
              "<table border=\"1\" class=\"dataframe\">\n",
              "  <thead>\n",
              "    <tr style=\"text-align: right;\">\n",
              "      <th></th>\n",
              "      <th>invID</th>\n",
              "      <th>last_pm</th>\n",
              "      <th>first_pm</th>\n",
              "      <th>count_pm</th>\n",
              "      <th>meantime_pm</th>\n",
              "    </tr>\n",
              "  </thead>\n",
              "  <tbody>\n",
              "    <tr>\n",
              "      <th>0</th>\n",
              "      <td>204282</td>\n",
              "      <td>2020-03-04</td>\n",
              "      <td>2009-03-31</td>\n",
              "      <td>11</td>\n",
              "      <td>362</td>\n",
              "    </tr>\n",
              "    <tr>\n",
              "      <th>1</th>\n",
              "      <td>255222</td>\n",
              "      <td>2021-06-28</td>\n",
              "      <td>2018-03-20</td>\n",
              "      <td>4</td>\n",
              "      <td>299</td>\n",
              "    </tr>\n",
              "    <tr>\n",
              "      <th>2</th>\n",
              "      <td>208527</td>\n",
              "      <td>2015-06-22</td>\n",
              "      <td>2015-06-22</td>\n",
              "      <td>1</td>\n",
              "      <td>0</td>\n",
              "    </tr>\n",
              "  </tbody>\n",
              "</table>\n",
              "</div>\n",
              "      <button class=\"colab-df-convert\" onclick=\"convertToInteractive('df-fde78858-a02e-41a6-b475-788257664e71')\"\n",
              "              title=\"Convert this dataframe to an interactive table.\"\n",
              "              style=\"display:none;\">\n",
              "        \n",
              "  <svg xmlns=\"http://www.w3.org/2000/svg\" height=\"24px\"viewBox=\"0 0 24 24\"\n",
              "       width=\"24px\">\n",
              "    <path d=\"M0 0h24v24H0V0z\" fill=\"none\"/>\n",
              "    <path d=\"M18.56 5.44l.94 2.06.94-2.06 2.06-.94-2.06-.94-.94-2.06-.94 2.06-2.06.94zm-11 1L8.5 8.5l.94-2.06 2.06-.94-2.06-.94L8.5 2.5l-.94 2.06-2.06.94zm10 10l.94 2.06.94-2.06 2.06-.94-2.06-.94-.94-2.06-.94 2.06-2.06.94z\"/><path d=\"M17.41 7.96l-1.37-1.37c-.4-.4-.92-.59-1.43-.59-.52 0-1.04.2-1.43.59L10.3 9.45l-7.72 7.72c-.78.78-.78 2.05 0 2.83L4 21.41c.39.39.9.59 1.41.59.51 0 1.02-.2 1.41-.59l7.78-7.78 2.81-2.81c.8-.78.8-2.07 0-2.86zM5.41 20L4 18.59l7.72-7.72 1.47 1.35L5.41 20z\"/>\n",
              "  </svg>\n",
              "      </button>\n",
              "      \n",
              "  <style>\n",
              "    .colab-df-container {\n",
              "      display:flex;\n",
              "      flex-wrap:wrap;\n",
              "      gap: 12px;\n",
              "    }\n",
              "\n",
              "    .colab-df-convert {\n",
              "      background-color: #E8F0FE;\n",
              "      border: none;\n",
              "      border-radius: 50%;\n",
              "      cursor: pointer;\n",
              "      display: none;\n",
              "      fill: #1967D2;\n",
              "      height: 32px;\n",
              "      padding: 0 0 0 0;\n",
              "      width: 32px;\n",
              "    }\n",
              "\n",
              "    .colab-df-convert:hover {\n",
              "      background-color: #E2EBFA;\n",
              "      box-shadow: 0px 1px 2px rgba(60, 64, 67, 0.3), 0px 1px 3px 1px rgba(60, 64, 67, 0.15);\n",
              "      fill: #174EA6;\n",
              "    }\n",
              "\n",
              "    [theme=dark] .colab-df-convert {\n",
              "      background-color: #3B4455;\n",
              "      fill: #D2E3FC;\n",
              "    }\n",
              "\n",
              "    [theme=dark] .colab-df-convert:hover {\n",
              "      background-color: #434B5C;\n",
              "      box-shadow: 0px 1px 3px 1px rgba(0, 0, 0, 0.15);\n",
              "      filter: drop-shadow(0px 1px 2px rgba(0, 0, 0, 0.3));\n",
              "      fill: #FFFFFF;\n",
              "    }\n",
              "  </style>\n",
              "\n",
              "      <script>\n",
              "        const buttonEl =\n",
              "          document.querySelector('#df-fde78858-a02e-41a6-b475-788257664e71 button.colab-df-convert');\n",
              "        buttonEl.style.display =\n",
              "          google.colab.kernel.accessAllowed ? 'block' : 'none';\n",
              "\n",
              "        async function convertToInteractive(key) {\n",
              "          const element = document.querySelector('#df-fde78858-a02e-41a6-b475-788257664e71');\n",
              "          const dataTable =\n",
              "            await google.colab.kernel.invokeFunction('convertToInteractive',\n",
              "                                                     [key], {});\n",
              "          if (!dataTable) return;\n",
              "\n",
              "          const docLinkHtml = 'Like what you see? Visit the ' +\n",
              "            '<a target=\"_blank\" href=https://colab.research.google.com/notebooks/data_table.ipynb>data table notebook</a>'\n",
              "            + ' to learn more about interactive tables.';\n",
              "          element.innerHTML = '';\n",
              "          dataTable['output_type'] = 'display_data';\n",
              "          await google.colab.output.renderOutput(dataTable, element);\n",
              "          const docLink = document.createElement('div');\n",
              "          docLink.innerHTML = docLinkHtml;\n",
              "          element.appendChild(docLink);\n",
              "        }\n",
              "      </script>\n",
              "    </div>\n",
              "  </div>\n",
              "  "
            ]
          },
          "metadata": {},
          "execution_count": 32
        }
      ],
      "source": [
        "fin1.head(3)"
      ]
    },
    {
      "cell_type": "code",
      "execution_count": 33,
      "metadata": {
        "id": "FLnKwIR0doJx",
        "colab": {
          "base_uri": "https://localhost:8080/"
        },
        "outputId": "a2940d39-4d88-4087-f348-8e8ec4c8037c"
      },
      "outputs": [
        {
          "output_type": "execute_result",
          "data": {
            "text/plain": [
              "invID          0\n",
              "last_pm        0\n",
              "first_pm       0\n",
              "count_pm       0\n",
              "meantime_pm    0\n",
              "dtype: int64"
            ]
          },
          "metadata": {},
          "execution_count": 33
        }
      ],
      "source": [
        "fin1.isnull().sum()"
      ]
    },
    {
      "cell_type": "code",
      "execution_count": 34,
      "metadata": {
        "id": "7BWSk2F5BKte",
        "colab": {
          "base_uri": "https://localhost:8080/"
        },
        "outputId": "b3986970-d5ad-4a8f-e488-f17c193475f8"
      },
      "outputs": [
        {
          "output_type": "execute_result",
          "data": {
            "text/plain": [
              "invID          0\n",
              "last_pm        0\n",
              "first_pm       0\n",
              "count_pm       0\n",
              "meantime_pm    0\n",
              "dtype: int64"
            ]
          },
          "metadata": {},
          "execution_count": 34
        }
      ],
      "source": [
        "fin1.isnull().sum()"
      ]
    },
    {
      "cell_type": "code",
      "execution_count": 35,
      "metadata": {
        "id": "8QBAealAEh8k",
        "colab": {
          "base_uri": "https://localhost:8080/"
        },
        "outputId": "65b55bfc-50b6-48a4-9875-3983464a3942"
      },
      "outputs": [
        {
          "output_type": "execute_result",
          "data": {
            "text/plain": [
              "invID          80503\n",
              "last_pm        80503\n",
              "first_pm       80503\n",
              "count_pm       80503\n",
              "meantime_pm    80503\n",
              "dtype: int64"
            ]
          },
          "metadata": {},
          "execution_count": 35
        }
      ],
      "source": [
        "fin1.count()"
      ]
    },
    {
      "cell_type": "code",
      "execution_count": 36,
      "metadata": {
        "id": "WxtFQSUG7u0n"
      },
      "outputs": [],
      "source": [
        "fin1.set_index('invID',drop=False,inplace=True)"
      ]
    },
    {
      "cell_type": "code",
      "execution_count": 37,
      "metadata": {
        "id": "G4ULDnLe8BBF",
        "colab": {
          "base_uri": "https://localhost:8080/",
          "height": 0
        },
        "outputId": "a0b60fb2-1cb8-454c-96af-a1117a868304"
      },
      "outputs": [
        {
          "output_type": "execute_result",
          "data": {
            "text/plain": [
              "         invID     last_pm    first_pm  count_pm  meantime_pm\n",
              "invID                                                        \n",
              "204282  204282  2020-03-04  2009-03-31        11          362\n",
              "255222  255222  2021-06-28  2018-03-20         4          299\n",
              "208527  208527  2015-06-22  2015-06-22         1            0"
            ],
            "text/html": [
              "\n",
              "  <div id=\"df-81557d6b-1b9a-4478-a11a-23872503dfee\">\n",
              "    <div class=\"colab-df-container\">\n",
              "      <div>\n",
              "<style scoped>\n",
              "    .dataframe tbody tr th:only-of-type {\n",
              "        vertical-align: middle;\n",
              "    }\n",
              "\n",
              "    .dataframe tbody tr th {\n",
              "        vertical-align: top;\n",
              "    }\n",
              "\n",
              "    .dataframe thead th {\n",
              "        text-align: right;\n",
              "    }\n",
              "</style>\n",
              "<table border=\"1\" class=\"dataframe\">\n",
              "  <thead>\n",
              "    <tr style=\"text-align: right;\">\n",
              "      <th></th>\n",
              "      <th>invID</th>\n",
              "      <th>last_pm</th>\n",
              "      <th>first_pm</th>\n",
              "      <th>count_pm</th>\n",
              "      <th>meantime_pm</th>\n",
              "    </tr>\n",
              "    <tr>\n",
              "      <th>invID</th>\n",
              "      <th></th>\n",
              "      <th></th>\n",
              "      <th></th>\n",
              "      <th></th>\n",
              "      <th></th>\n",
              "    </tr>\n",
              "  </thead>\n",
              "  <tbody>\n",
              "    <tr>\n",
              "      <th>204282</th>\n",
              "      <td>204282</td>\n",
              "      <td>2020-03-04</td>\n",
              "      <td>2009-03-31</td>\n",
              "      <td>11</td>\n",
              "      <td>362</td>\n",
              "    </tr>\n",
              "    <tr>\n",
              "      <th>255222</th>\n",
              "      <td>255222</td>\n",
              "      <td>2021-06-28</td>\n",
              "      <td>2018-03-20</td>\n",
              "      <td>4</td>\n",
              "      <td>299</td>\n",
              "    </tr>\n",
              "    <tr>\n",
              "      <th>208527</th>\n",
              "      <td>208527</td>\n",
              "      <td>2015-06-22</td>\n",
              "      <td>2015-06-22</td>\n",
              "      <td>1</td>\n",
              "      <td>0</td>\n",
              "    </tr>\n",
              "  </tbody>\n",
              "</table>\n",
              "</div>\n",
              "      <button class=\"colab-df-convert\" onclick=\"convertToInteractive('df-81557d6b-1b9a-4478-a11a-23872503dfee')\"\n",
              "              title=\"Convert this dataframe to an interactive table.\"\n",
              "              style=\"display:none;\">\n",
              "        \n",
              "  <svg xmlns=\"http://www.w3.org/2000/svg\" height=\"24px\"viewBox=\"0 0 24 24\"\n",
              "       width=\"24px\">\n",
              "    <path d=\"M0 0h24v24H0V0z\" fill=\"none\"/>\n",
              "    <path d=\"M18.56 5.44l.94 2.06.94-2.06 2.06-.94-2.06-.94-.94-2.06-.94 2.06-2.06.94zm-11 1L8.5 8.5l.94-2.06 2.06-.94-2.06-.94L8.5 2.5l-.94 2.06-2.06.94zm10 10l.94 2.06.94-2.06 2.06-.94-2.06-.94-.94-2.06-.94 2.06-2.06.94z\"/><path d=\"M17.41 7.96l-1.37-1.37c-.4-.4-.92-.59-1.43-.59-.52 0-1.04.2-1.43.59L10.3 9.45l-7.72 7.72c-.78.78-.78 2.05 0 2.83L4 21.41c.39.39.9.59 1.41.59.51 0 1.02-.2 1.41-.59l7.78-7.78 2.81-2.81c.8-.78.8-2.07 0-2.86zM5.41 20L4 18.59l7.72-7.72 1.47 1.35L5.41 20z\"/>\n",
              "  </svg>\n",
              "      </button>\n",
              "      \n",
              "  <style>\n",
              "    .colab-df-container {\n",
              "      display:flex;\n",
              "      flex-wrap:wrap;\n",
              "      gap: 12px;\n",
              "    }\n",
              "\n",
              "    .colab-df-convert {\n",
              "      background-color: #E8F0FE;\n",
              "      border: none;\n",
              "      border-radius: 50%;\n",
              "      cursor: pointer;\n",
              "      display: none;\n",
              "      fill: #1967D2;\n",
              "      height: 32px;\n",
              "      padding: 0 0 0 0;\n",
              "      width: 32px;\n",
              "    }\n",
              "\n",
              "    .colab-df-convert:hover {\n",
              "      background-color: #E2EBFA;\n",
              "      box-shadow: 0px 1px 2px rgba(60, 64, 67, 0.3), 0px 1px 3px 1px rgba(60, 64, 67, 0.15);\n",
              "      fill: #174EA6;\n",
              "    }\n",
              "\n",
              "    [theme=dark] .colab-df-convert {\n",
              "      background-color: #3B4455;\n",
              "      fill: #D2E3FC;\n",
              "    }\n",
              "\n",
              "    [theme=dark] .colab-df-convert:hover {\n",
              "      background-color: #434B5C;\n",
              "      box-shadow: 0px 1px 3px 1px rgba(0, 0, 0, 0.15);\n",
              "      filter: drop-shadow(0px 1px 2px rgba(0, 0, 0, 0.3));\n",
              "      fill: #FFFFFF;\n",
              "    }\n",
              "  </style>\n",
              "\n",
              "      <script>\n",
              "        const buttonEl =\n",
              "          document.querySelector('#df-81557d6b-1b9a-4478-a11a-23872503dfee button.colab-df-convert');\n",
              "        buttonEl.style.display =\n",
              "          google.colab.kernel.accessAllowed ? 'block' : 'none';\n",
              "\n",
              "        async function convertToInteractive(key) {\n",
              "          const element = document.querySelector('#df-81557d6b-1b9a-4478-a11a-23872503dfee');\n",
              "          const dataTable =\n",
              "            await google.colab.kernel.invokeFunction('convertToInteractive',\n",
              "                                                     [key], {});\n",
              "          if (!dataTable) return;\n",
              "\n",
              "          const docLinkHtml = 'Like what you see? Visit the ' +\n",
              "            '<a target=\"_blank\" href=https://colab.research.google.com/notebooks/data_table.ipynb>data table notebook</a>'\n",
              "            + ' to learn more about interactive tables.';\n",
              "          element.innerHTML = '';\n",
              "          dataTable['output_type'] = 'display_data';\n",
              "          await google.colab.output.renderOutput(dataTable, element);\n",
              "          const docLink = document.createElement('div');\n",
              "          docLink.innerHTML = docLinkHtml;\n",
              "          element.appendChild(docLink);\n",
              "        }\n",
              "      </script>\n",
              "    </div>\n",
              "  </div>\n",
              "  "
            ]
          },
          "metadata": {},
          "execution_count": 37
        }
      ],
      "source": [
        "fin1.head(3)"
      ]
    },
    {
      "cell_type": "markdown",
      "metadata": {
        "id": "mg5iri2Q0WMF"
      },
      "source": [
        "\n",
        "# pm **history**"
      ]
    },
    {
      "cell_type": "code",
      "execution_count": 38,
      "metadata": {
        "id": "AvuIZFFJ0wlg"
      },
      "outputs": [],
      "source": [
        "df4=(r\"/content/drive/MyDrive/Thesis_datasets/New-data-SoftPro/Hospitals1/pm_history.csv\")"
      ]
    },
    {
      "cell_type": "code",
      "execution_count": 39,
      "metadata": {
        "id": "kqLXENEE1Auc"
      },
      "outputs": [],
      "source": [
        "fin4=read_csv(df4,sep=';')"
      ]
    },
    {
      "cell_type": "code",
      "execution_count": 40,
      "metadata": {
        "id": "GlqhsafD1fX-",
        "colab": {
          "base_uri": "https://localhost:8080/",
          "height": 0
        },
        "outputId": "7c5053cc-2da8-4735-ae8d-c77eb4cdaf58"
      },
      "outputs": [
        {
          "output_type": "execute_result",
          "data": {
            "text/plain": [
              "  (No column name)     ID  blnRecurring  intTimeInterval  \\\n",
              "0       2011-04-03  27837             1             24.0   \n",
              "1       2011-04-03  28001             1             24.0   \n",
              "2       2011-04-03  28245             1             12.0   \n",
              "\n",
              "   PM_TimeIntervalUnitID  intTimeIntervalRecommended  \\\n",
              "0                    2.0                         NaN   \n",
              "1                    2.0                         NaN   \n",
              "2                    2.0                         NaN   \n",
              "\n",
              "   PM_TimeIntervalUnitIDRecommended intEstimatedPMTimeHours  \\\n",
              "0                               NaN                     NaN   \n",
              "1                               NaN                     NaN   \n",
              "2                               NaN                     NaN   \n",
              "\n",
              "  (No column name).1 (No column name).2  InventarierID  ArborderID  \\\n",
              "0         2001-06-15         2003-06-15          65129         NaN   \n",
              "1         2004-03-17         2006-03-17          65375         NaN   \n",
              "2         2003-07-11         2004-07-11          65657         NaN   \n",
              "\n",
              "   blnHiddenPMClock  DeviatingTimeIntervalRecommended  PM_diff  \n",
              "0               0.0                                 1     3579  \n",
              "1               0.0                                 1     2573  \n",
              "2               0.0                                 1     2823  "
            ],
            "text/html": [
              "\n",
              "  <div id=\"df-f27e2ed7-af8d-4801-a7bd-87b16e17568c\">\n",
              "    <div class=\"colab-df-container\">\n",
              "      <div>\n",
              "<style scoped>\n",
              "    .dataframe tbody tr th:only-of-type {\n",
              "        vertical-align: middle;\n",
              "    }\n",
              "\n",
              "    .dataframe tbody tr th {\n",
              "        vertical-align: top;\n",
              "    }\n",
              "\n",
              "    .dataframe thead th {\n",
              "        text-align: right;\n",
              "    }\n",
              "</style>\n",
              "<table border=\"1\" class=\"dataframe\">\n",
              "  <thead>\n",
              "    <tr style=\"text-align: right;\">\n",
              "      <th></th>\n",
              "      <th>(No column name)</th>\n",
              "      <th>ID</th>\n",
              "      <th>blnRecurring</th>\n",
              "      <th>intTimeInterval</th>\n",
              "      <th>PM_TimeIntervalUnitID</th>\n",
              "      <th>intTimeIntervalRecommended</th>\n",
              "      <th>PM_TimeIntervalUnitIDRecommended</th>\n",
              "      <th>intEstimatedPMTimeHours</th>\n",
              "      <th>(No column name).1</th>\n",
              "      <th>(No column name).2</th>\n",
              "      <th>InventarierID</th>\n",
              "      <th>ArborderID</th>\n",
              "      <th>blnHiddenPMClock</th>\n",
              "      <th>DeviatingTimeIntervalRecommended</th>\n",
              "      <th>PM_diff</th>\n",
              "    </tr>\n",
              "  </thead>\n",
              "  <tbody>\n",
              "    <tr>\n",
              "      <th>0</th>\n",
              "      <td>2011-04-03</td>\n",
              "      <td>27837</td>\n",
              "      <td>1</td>\n",
              "      <td>24.0</td>\n",
              "      <td>2.0</td>\n",
              "      <td>NaN</td>\n",
              "      <td>NaN</td>\n",
              "      <td>NaN</td>\n",
              "      <td>2001-06-15</td>\n",
              "      <td>2003-06-15</td>\n",
              "      <td>65129</td>\n",
              "      <td>NaN</td>\n",
              "      <td>0.0</td>\n",
              "      <td>1</td>\n",
              "      <td>3579</td>\n",
              "    </tr>\n",
              "    <tr>\n",
              "      <th>1</th>\n",
              "      <td>2011-04-03</td>\n",
              "      <td>28001</td>\n",
              "      <td>1</td>\n",
              "      <td>24.0</td>\n",
              "      <td>2.0</td>\n",
              "      <td>NaN</td>\n",
              "      <td>NaN</td>\n",
              "      <td>NaN</td>\n",
              "      <td>2004-03-17</td>\n",
              "      <td>2006-03-17</td>\n",
              "      <td>65375</td>\n",
              "      <td>NaN</td>\n",
              "      <td>0.0</td>\n",
              "      <td>1</td>\n",
              "      <td>2573</td>\n",
              "    </tr>\n",
              "    <tr>\n",
              "      <th>2</th>\n",
              "      <td>2011-04-03</td>\n",
              "      <td>28245</td>\n",
              "      <td>1</td>\n",
              "      <td>12.0</td>\n",
              "      <td>2.0</td>\n",
              "      <td>NaN</td>\n",
              "      <td>NaN</td>\n",
              "      <td>NaN</td>\n",
              "      <td>2003-07-11</td>\n",
              "      <td>2004-07-11</td>\n",
              "      <td>65657</td>\n",
              "      <td>NaN</td>\n",
              "      <td>0.0</td>\n",
              "      <td>1</td>\n",
              "      <td>2823</td>\n",
              "    </tr>\n",
              "  </tbody>\n",
              "</table>\n",
              "</div>\n",
              "      <button class=\"colab-df-convert\" onclick=\"convertToInteractive('df-f27e2ed7-af8d-4801-a7bd-87b16e17568c')\"\n",
              "              title=\"Convert this dataframe to an interactive table.\"\n",
              "              style=\"display:none;\">\n",
              "        \n",
              "  <svg xmlns=\"http://www.w3.org/2000/svg\" height=\"24px\"viewBox=\"0 0 24 24\"\n",
              "       width=\"24px\">\n",
              "    <path d=\"M0 0h24v24H0V0z\" fill=\"none\"/>\n",
              "    <path d=\"M18.56 5.44l.94 2.06.94-2.06 2.06-.94-2.06-.94-.94-2.06-.94 2.06-2.06.94zm-11 1L8.5 8.5l.94-2.06 2.06-.94-2.06-.94L8.5 2.5l-.94 2.06-2.06.94zm10 10l.94 2.06.94-2.06 2.06-.94-2.06-.94-.94-2.06-.94 2.06-2.06.94z\"/><path d=\"M17.41 7.96l-1.37-1.37c-.4-.4-.92-.59-1.43-.59-.52 0-1.04.2-1.43.59L10.3 9.45l-7.72 7.72c-.78.78-.78 2.05 0 2.83L4 21.41c.39.39.9.59 1.41.59.51 0 1.02-.2 1.41-.59l7.78-7.78 2.81-2.81c.8-.78.8-2.07 0-2.86zM5.41 20L4 18.59l7.72-7.72 1.47 1.35L5.41 20z\"/>\n",
              "  </svg>\n",
              "      </button>\n",
              "      \n",
              "  <style>\n",
              "    .colab-df-container {\n",
              "      display:flex;\n",
              "      flex-wrap:wrap;\n",
              "      gap: 12px;\n",
              "    }\n",
              "\n",
              "    .colab-df-convert {\n",
              "      background-color: #E8F0FE;\n",
              "      border: none;\n",
              "      border-radius: 50%;\n",
              "      cursor: pointer;\n",
              "      display: none;\n",
              "      fill: #1967D2;\n",
              "      height: 32px;\n",
              "      padding: 0 0 0 0;\n",
              "      width: 32px;\n",
              "    }\n",
              "\n",
              "    .colab-df-convert:hover {\n",
              "      background-color: #E2EBFA;\n",
              "      box-shadow: 0px 1px 2px rgba(60, 64, 67, 0.3), 0px 1px 3px 1px rgba(60, 64, 67, 0.15);\n",
              "      fill: #174EA6;\n",
              "    }\n",
              "\n",
              "    [theme=dark] .colab-df-convert {\n",
              "      background-color: #3B4455;\n",
              "      fill: #D2E3FC;\n",
              "    }\n",
              "\n",
              "    [theme=dark] .colab-df-convert:hover {\n",
              "      background-color: #434B5C;\n",
              "      box-shadow: 0px 1px 3px 1px rgba(0, 0, 0, 0.15);\n",
              "      filter: drop-shadow(0px 1px 2px rgba(0, 0, 0, 0.3));\n",
              "      fill: #FFFFFF;\n",
              "    }\n",
              "  </style>\n",
              "\n",
              "      <script>\n",
              "        const buttonEl =\n",
              "          document.querySelector('#df-f27e2ed7-af8d-4801-a7bd-87b16e17568c button.colab-df-convert');\n",
              "        buttonEl.style.display =\n",
              "          google.colab.kernel.accessAllowed ? 'block' : 'none';\n",
              "\n",
              "        async function convertToInteractive(key) {\n",
              "          const element = document.querySelector('#df-f27e2ed7-af8d-4801-a7bd-87b16e17568c');\n",
              "          const dataTable =\n",
              "            await google.colab.kernel.invokeFunction('convertToInteractive',\n",
              "                                                     [key], {});\n",
              "          if (!dataTable) return;\n",
              "\n",
              "          const docLinkHtml = 'Like what you see? Visit the ' +\n",
              "            '<a target=\"_blank\" href=https://colab.research.google.com/notebooks/data_table.ipynb>data table notebook</a>'\n",
              "            + ' to learn more about interactive tables.';\n",
              "          element.innerHTML = '';\n",
              "          dataTable['output_type'] = 'display_data';\n",
              "          await google.colab.output.renderOutput(dataTable, element);\n",
              "          const docLink = document.createElement('div');\n",
              "          docLink.innerHTML = docLinkHtml;\n",
              "          element.appendChild(docLink);\n",
              "        }\n",
              "      </script>\n",
              "    </div>\n",
              "  </div>\n",
              "  "
            ]
          },
          "metadata": {},
          "execution_count": 40
        }
      ],
      "source": [
        "fin4.head(3)"
      ]
    },
    {
      "cell_type": "code",
      "execution_count": 41,
      "metadata": {
        "id": "LjQOMlyibRE4",
        "colab": {
          "base_uri": "https://localhost:8080/"
        },
        "outputId": "da1fbc34-2c93-4076-ffa0-c84caaf69ee3"
      },
      "outputs": [
        {
          "output_type": "execute_result",
          "data": {
            "text/plain": [
              "(268519, 15)"
            ]
          },
          "metadata": {},
          "execution_count": 41
        }
      ],
      "source": [
        "fin4.shape"
      ]
    },
    {
      "cell_type": "code",
      "execution_count": 42,
      "metadata": {
        "id": "dd5mW3iFftTf",
        "colab": {
          "base_uri": "https://localhost:8080/"
        },
        "outputId": "1a28ccaa-630e-44d9-88a7-13ffc28dfd55"
      },
      "outputs": [
        {
          "output_type": "execute_result",
          "data": {
            "text/plain": [
              "(No column name)                         0\n",
              "ID                                       0\n",
              "blnRecurring                             0\n",
              "intTimeInterval                      29965\n",
              "PM_TimeIntervalUnitID                29639\n",
              "intTimeIntervalRecommended          243017\n",
              "PM_TimeIntervalUnitIDRecommended    194394\n",
              "intEstimatedPMTimeHours             196105\n",
              "(No column name).1                       0\n",
              "(No column name).2                   84728\n",
              "InventarierID                            0\n",
              "ArborderID                           28826\n",
              "blnHiddenPMClock                      5605\n",
              "DeviatingTimeIntervalRecommended         0\n",
              "PM_diff                                  0\n",
              "dtype: int64"
            ]
          },
          "metadata": {},
          "execution_count": 42
        }
      ],
      "source": [
        "fin4.isnull().sum()"
      ]
    },
    {
      "cell_type": "markdown",
      "metadata": {
        "id": "_TUllsYLeZFe"
      },
      "source": [
        "we need to study devices which have recurring pm activities"
      ]
    },
    {
      "cell_type": "code",
      "execution_count": 43,
      "metadata": {
        "id": "tXBnZ-zaelLo",
        "colab": {
          "base_uri": "https://localhost:8080/"
        },
        "outputId": "7974d317-3e6f-481b-d926-53cfc7b594e5"
      },
      "outputs": [
        {
          "output_type": "execute_result",
          "data": {
            "text/plain": [
              "1    236686\n",
              "0     31833\n",
              "Name: blnRecurring, dtype: int64"
            ]
          },
          "metadata": {},
          "execution_count": 43
        }
      ],
      "source": [
        "fin4['blnRecurring'].value_counts()"
      ]
    },
    {
      "cell_type": "code",
      "execution_count": 44,
      "metadata": {
        "id": "i1BVkT4xdvN6"
      },
      "outputs": [],
      "source": [
        "recurring_hos1=fin4.loc[fin4['blnRecurring']== 1]"
      ]
    },
    {
      "cell_type": "code",
      "execution_count": 45,
      "metadata": {
        "id": "Q5IaEa2VidUi",
        "colab": {
          "base_uri": "https://localhost:8080/"
        },
        "outputId": "b3ea5561-baf6-4af4-bfd6-2194949c4adc"
      },
      "outputs": [
        {
          "output_type": "execute_result",
          "data": {
            "text/plain": [
              "(236686, 15)"
            ]
          },
          "metadata": {},
          "execution_count": 45
        }
      ],
      "source": [
        "recurring_hos1.shape"
      ]
    },
    {
      "cell_type": "markdown",
      "metadata": {
        "id": "hEDepVQjkBOC"
      },
      "source": [
        "now that we have got only the devices with recurring pm activities , we need to drop all irrelevent columns before translating the rest of the columns "
      ]
    },
    {
      "cell_type": "code",
      "execution_count": 46,
      "metadata": {
        "id": "1yKP5QMRkfSe"
      },
      "outputs": [],
      "source": [
        "recurring_hos1.drop(columns=['blnRecurring','intTimeIntervalRecommended','intEstimatedPMTimeHours','(No column name).1','(No column name).2','blnHiddenPMClock'],inplace=True)"
      ]
    },
    {
      "cell_type": "code",
      "execution_count": 47,
      "metadata": {
        "id": "CdfTtALxFEqq",
        "colab": {
          "base_uri": "https://localhost:8080/",
          "height": 0
        },
        "outputId": "59bec4d3-756e-48df-b05a-3652e69caf04"
      },
      "outputs": [
        {
          "output_type": "execute_result",
          "data": {
            "text/plain": [
              "       (No column name)      ID  intTimeInterval  PM_TimeIntervalUnitID  \\\n",
              "0            2011-04-03   27837             24.0                    2.0   \n",
              "1            2011-04-03   28001             24.0                    2.0   \n",
              "2            2011-04-03   28245             12.0                    2.0   \n",
              "3            2011-04-03   28739             12.0                    2.0   \n",
              "4            2011-04-03   28982             12.0                    2.0   \n",
              "...                 ...     ...              ...                    ...   \n",
              "268514       2020-08-31  111399             12.0                    2.0   \n",
              "268515       2020-08-31  218051            175.0                    3.0   \n",
              "268516       2020-08-31  218145            175.0                    3.0   \n",
              "268517       2020-08-31  218142            175.0                    3.0   \n",
              "268518       2020-08-31  218056            175.0                    3.0   \n",
              "\n",
              "        PM_TimeIntervalUnitIDRecommended  InventarierID  ArborderID  \\\n",
              "0                                    NaN          65129         NaN   \n",
              "1                                    NaN          65375         NaN   \n",
              "2                                    NaN          65657         NaN   \n",
              "3                                    NaN          66297         NaN   \n",
              "4                                    NaN          66601         NaN   \n",
              "...                                  ...            ...         ...   \n",
              "268514                               NaN         139137   1322680.0   \n",
              "268515                               NaN         265560   1311557.0   \n",
              "268516                               NaN         266504   1311608.0   \n",
              "268517                               NaN         266501   1311605.0   \n",
              "268518                               NaN         265614   1311658.0   \n",
              "\n",
              "        DeviatingTimeIntervalRecommended  PM_diff  \n",
              "0                                      1     3579  \n",
              "1                                      1     2573  \n",
              "2                                      1     2823  \n",
              "3                                      1     4065  \n",
              "4                                      1     3432  \n",
              "...                                  ...      ...  \n",
              "268514                                 0        0  \n",
              "268515                                 0       66  \n",
              "268516                                 0       66  \n",
              "268517                                 0       66  \n",
              "268518                                 0       66  \n",
              "\n",
              "[236686 rows x 9 columns]"
            ],
            "text/html": [
              "\n",
              "  <div id=\"df-291b5877-b2cc-455d-b915-ba8a650246f5\">\n",
              "    <div class=\"colab-df-container\">\n",
              "      <div>\n",
              "<style scoped>\n",
              "    .dataframe tbody tr th:only-of-type {\n",
              "        vertical-align: middle;\n",
              "    }\n",
              "\n",
              "    .dataframe tbody tr th {\n",
              "        vertical-align: top;\n",
              "    }\n",
              "\n",
              "    .dataframe thead th {\n",
              "        text-align: right;\n",
              "    }\n",
              "</style>\n",
              "<table border=\"1\" class=\"dataframe\">\n",
              "  <thead>\n",
              "    <tr style=\"text-align: right;\">\n",
              "      <th></th>\n",
              "      <th>(No column name)</th>\n",
              "      <th>ID</th>\n",
              "      <th>intTimeInterval</th>\n",
              "      <th>PM_TimeIntervalUnitID</th>\n",
              "      <th>PM_TimeIntervalUnitIDRecommended</th>\n",
              "      <th>InventarierID</th>\n",
              "      <th>ArborderID</th>\n",
              "      <th>DeviatingTimeIntervalRecommended</th>\n",
              "      <th>PM_diff</th>\n",
              "    </tr>\n",
              "  </thead>\n",
              "  <tbody>\n",
              "    <tr>\n",
              "      <th>0</th>\n",
              "      <td>2011-04-03</td>\n",
              "      <td>27837</td>\n",
              "      <td>24.0</td>\n",
              "      <td>2.0</td>\n",
              "      <td>NaN</td>\n",
              "      <td>65129</td>\n",
              "      <td>NaN</td>\n",
              "      <td>1</td>\n",
              "      <td>3579</td>\n",
              "    </tr>\n",
              "    <tr>\n",
              "      <th>1</th>\n",
              "      <td>2011-04-03</td>\n",
              "      <td>28001</td>\n",
              "      <td>24.0</td>\n",
              "      <td>2.0</td>\n",
              "      <td>NaN</td>\n",
              "      <td>65375</td>\n",
              "      <td>NaN</td>\n",
              "      <td>1</td>\n",
              "      <td>2573</td>\n",
              "    </tr>\n",
              "    <tr>\n",
              "      <th>2</th>\n",
              "      <td>2011-04-03</td>\n",
              "      <td>28245</td>\n",
              "      <td>12.0</td>\n",
              "      <td>2.0</td>\n",
              "      <td>NaN</td>\n",
              "      <td>65657</td>\n",
              "      <td>NaN</td>\n",
              "      <td>1</td>\n",
              "      <td>2823</td>\n",
              "    </tr>\n",
              "    <tr>\n",
              "      <th>3</th>\n",
              "      <td>2011-04-03</td>\n",
              "      <td>28739</td>\n",
              "      <td>12.0</td>\n",
              "      <td>2.0</td>\n",
              "      <td>NaN</td>\n",
              "      <td>66297</td>\n",
              "      <td>NaN</td>\n",
              "      <td>1</td>\n",
              "      <td>4065</td>\n",
              "    </tr>\n",
              "    <tr>\n",
              "      <th>4</th>\n",
              "      <td>2011-04-03</td>\n",
              "      <td>28982</td>\n",
              "      <td>12.0</td>\n",
              "      <td>2.0</td>\n",
              "      <td>NaN</td>\n",
              "      <td>66601</td>\n",
              "      <td>NaN</td>\n",
              "      <td>1</td>\n",
              "      <td>3432</td>\n",
              "    </tr>\n",
              "    <tr>\n",
              "      <th>...</th>\n",
              "      <td>...</td>\n",
              "      <td>...</td>\n",
              "      <td>...</td>\n",
              "      <td>...</td>\n",
              "      <td>...</td>\n",
              "      <td>...</td>\n",
              "      <td>...</td>\n",
              "      <td>...</td>\n",
              "      <td>...</td>\n",
              "    </tr>\n",
              "    <tr>\n",
              "      <th>268514</th>\n",
              "      <td>2020-08-31</td>\n",
              "      <td>111399</td>\n",
              "      <td>12.0</td>\n",
              "      <td>2.0</td>\n",
              "      <td>NaN</td>\n",
              "      <td>139137</td>\n",
              "      <td>1322680.0</td>\n",
              "      <td>0</td>\n",
              "      <td>0</td>\n",
              "    </tr>\n",
              "    <tr>\n",
              "      <th>268515</th>\n",
              "      <td>2020-08-31</td>\n",
              "      <td>218051</td>\n",
              "      <td>175.0</td>\n",
              "      <td>3.0</td>\n",
              "      <td>NaN</td>\n",
              "      <td>265560</td>\n",
              "      <td>1311557.0</td>\n",
              "      <td>0</td>\n",
              "      <td>66</td>\n",
              "    </tr>\n",
              "    <tr>\n",
              "      <th>268516</th>\n",
              "      <td>2020-08-31</td>\n",
              "      <td>218145</td>\n",
              "      <td>175.0</td>\n",
              "      <td>3.0</td>\n",
              "      <td>NaN</td>\n",
              "      <td>266504</td>\n",
              "      <td>1311608.0</td>\n",
              "      <td>0</td>\n",
              "      <td>66</td>\n",
              "    </tr>\n",
              "    <tr>\n",
              "      <th>268517</th>\n",
              "      <td>2020-08-31</td>\n",
              "      <td>218142</td>\n",
              "      <td>175.0</td>\n",
              "      <td>3.0</td>\n",
              "      <td>NaN</td>\n",
              "      <td>266501</td>\n",
              "      <td>1311605.0</td>\n",
              "      <td>0</td>\n",
              "      <td>66</td>\n",
              "    </tr>\n",
              "    <tr>\n",
              "      <th>268518</th>\n",
              "      <td>2020-08-31</td>\n",
              "      <td>218056</td>\n",
              "      <td>175.0</td>\n",
              "      <td>3.0</td>\n",
              "      <td>NaN</td>\n",
              "      <td>265614</td>\n",
              "      <td>1311658.0</td>\n",
              "      <td>0</td>\n",
              "      <td>66</td>\n",
              "    </tr>\n",
              "  </tbody>\n",
              "</table>\n",
              "<p>236686 rows × 9 columns</p>\n",
              "</div>\n",
              "      <button class=\"colab-df-convert\" onclick=\"convertToInteractive('df-291b5877-b2cc-455d-b915-ba8a650246f5')\"\n",
              "              title=\"Convert this dataframe to an interactive table.\"\n",
              "              style=\"display:none;\">\n",
              "        \n",
              "  <svg xmlns=\"http://www.w3.org/2000/svg\" height=\"24px\"viewBox=\"0 0 24 24\"\n",
              "       width=\"24px\">\n",
              "    <path d=\"M0 0h24v24H0V0z\" fill=\"none\"/>\n",
              "    <path d=\"M18.56 5.44l.94 2.06.94-2.06 2.06-.94-2.06-.94-.94-2.06-.94 2.06-2.06.94zm-11 1L8.5 8.5l.94-2.06 2.06-.94-2.06-.94L8.5 2.5l-.94 2.06-2.06.94zm10 10l.94 2.06.94-2.06 2.06-.94-2.06-.94-.94-2.06-.94 2.06-2.06.94z\"/><path d=\"M17.41 7.96l-1.37-1.37c-.4-.4-.92-.59-1.43-.59-.52 0-1.04.2-1.43.59L10.3 9.45l-7.72 7.72c-.78.78-.78 2.05 0 2.83L4 21.41c.39.39.9.59 1.41.59.51 0 1.02-.2 1.41-.59l7.78-7.78 2.81-2.81c.8-.78.8-2.07 0-2.86zM5.41 20L4 18.59l7.72-7.72 1.47 1.35L5.41 20z\"/>\n",
              "  </svg>\n",
              "      </button>\n",
              "      \n",
              "  <style>\n",
              "    .colab-df-container {\n",
              "      display:flex;\n",
              "      flex-wrap:wrap;\n",
              "      gap: 12px;\n",
              "    }\n",
              "\n",
              "    .colab-df-convert {\n",
              "      background-color: #E8F0FE;\n",
              "      border: none;\n",
              "      border-radius: 50%;\n",
              "      cursor: pointer;\n",
              "      display: none;\n",
              "      fill: #1967D2;\n",
              "      height: 32px;\n",
              "      padding: 0 0 0 0;\n",
              "      width: 32px;\n",
              "    }\n",
              "\n",
              "    .colab-df-convert:hover {\n",
              "      background-color: #E2EBFA;\n",
              "      box-shadow: 0px 1px 2px rgba(60, 64, 67, 0.3), 0px 1px 3px 1px rgba(60, 64, 67, 0.15);\n",
              "      fill: #174EA6;\n",
              "    }\n",
              "\n",
              "    [theme=dark] .colab-df-convert {\n",
              "      background-color: #3B4455;\n",
              "      fill: #D2E3FC;\n",
              "    }\n",
              "\n",
              "    [theme=dark] .colab-df-convert:hover {\n",
              "      background-color: #434B5C;\n",
              "      box-shadow: 0px 1px 3px 1px rgba(0, 0, 0, 0.15);\n",
              "      filter: drop-shadow(0px 1px 2px rgba(0, 0, 0, 0.3));\n",
              "      fill: #FFFFFF;\n",
              "    }\n",
              "  </style>\n",
              "\n",
              "      <script>\n",
              "        const buttonEl =\n",
              "          document.querySelector('#df-291b5877-b2cc-455d-b915-ba8a650246f5 button.colab-df-convert');\n",
              "        buttonEl.style.display =\n",
              "          google.colab.kernel.accessAllowed ? 'block' : 'none';\n",
              "\n",
              "        async function convertToInteractive(key) {\n",
              "          const element = document.querySelector('#df-291b5877-b2cc-455d-b915-ba8a650246f5');\n",
              "          const dataTable =\n",
              "            await google.colab.kernel.invokeFunction('convertToInteractive',\n",
              "                                                     [key], {});\n",
              "          if (!dataTable) return;\n",
              "\n",
              "          const docLinkHtml = 'Like what you see? Visit the ' +\n",
              "            '<a target=\"_blank\" href=https://colab.research.google.com/notebooks/data_table.ipynb>data table notebook</a>'\n",
              "            + ' to learn more about interactive tables.';\n",
              "          element.innerHTML = '';\n",
              "          dataTable['output_type'] = 'display_data';\n",
              "          await google.colab.output.renderOutput(dataTable, element);\n",
              "          const docLink = document.createElement('div');\n",
              "          docLink.innerHTML = docLinkHtml;\n",
              "          element.appendChild(docLink);\n",
              "        }\n",
              "      </script>\n",
              "    </div>\n",
              "  </div>\n",
              "  "
            ]
          },
          "metadata": {},
          "execution_count": 47
        }
      ],
      "source": [
        "recurring_hos1"
      ]
    },
    {
      "cell_type": "markdown",
      "metadata": {
        "id": "xdqT8l-e4UpJ"
      },
      "source": [
        "# WO"
      ]
    },
    {
      "cell_type": "code",
      "execution_count": 48,
      "metadata": {
        "id": "GQFzX9Pb4aJ9"
      },
      "outputs": [],
      "source": [
        "df6=(r\"/content/drive/MyDrive/Thesis_datasets/New-data-SoftPro/Hospitals1/wo.csv\")"
      ]
    },
    {
      "cell_type": "code",
      "execution_count": 49,
      "metadata": {
        "id": "pcsEIlFeM_Lu"
      },
      "outputs": [],
      "source": [
        "dic={'ID':'ID','AORegDat':'issued','AOKlarDat':'Completed','AOEKlarDat':'fin_com','InventarieID':'InventarieID'}"
      ]
    },
    {
      "cell_type": "code",
      "execution_count": 50,
      "metadata": {
        "id": "5n9pqO1K4gGS"
      },
      "outputs": [],
      "source": [
        "fin6=read_csv(df6,sep=';')"
      ]
    },
    {
      "cell_type": "code",
      "execution_count": 51,
      "metadata": {
        "id": "_Ut6ayGBOAW4"
      },
      "outputs": [],
      "source": [
        "fin6.rename(columns=dic,inplace=True)"
      ]
    },
    {
      "cell_type": "code",
      "execution_count": 52,
      "metadata": {
        "id": "-Bwvi4IUAONb",
        "colab": {
          "base_uri": "https://localhost:8080/",
          "height": 144
        },
        "outputId": "6372f9d4-0d38-4b17-bab4-3ca8e2b954cd"
      },
      "outputs": [
        {
          "output_type": "execute_result",
          "data": {
            "text/plain": [
              "          ID                   issued                Completed  \\\n",
              "6     818112  2002-10-22 00:00:00.000  2002-10-21 00:00:00.000   \n",
              "1143  819249  2004-02-23 00:00:00.000  2004-02-23 00:00:00.000   \n",
              "1995  820015  2005-02-23 00:00:00.000  2005-02-25 00:00:00.000   \n",
              "\n",
              "                  AOEkKlarDat  InventarieID  \n",
              "6     2002-10-22 00:00:00.000      220059.0  \n",
              "1143  2004-02-23 00:00:00.000      220059.0  \n",
              "1995  2005-02-25 00:00:00.000      220059.0  "
            ],
            "text/html": [
              "\n",
              "  <div id=\"df-326f1fbe-358e-4896-96b2-3361846c7c0e\">\n",
              "    <div class=\"colab-df-container\">\n",
              "      <div>\n",
              "<style scoped>\n",
              "    .dataframe tbody tr th:only-of-type {\n",
              "        vertical-align: middle;\n",
              "    }\n",
              "\n",
              "    .dataframe tbody tr th {\n",
              "        vertical-align: top;\n",
              "    }\n",
              "\n",
              "    .dataframe thead th {\n",
              "        text-align: right;\n",
              "    }\n",
              "</style>\n",
              "<table border=\"1\" class=\"dataframe\">\n",
              "  <thead>\n",
              "    <tr style=\"text-align: right;\">\n",
              "      <th></th>\n",
              "      <th>ID</th>\n",
              "      <th>issued</th>\n",
              "      <th>Completed</th>\n",
              "      <th>AOEkKlarDat</th>\n",
              "      <th>InventarieID</th>\n",
              "    </tr>\n",
              "  </thead>\n",
              "  <tbody>\n",
              "    <tr>\n",
              "      <th>6</th>\n",
              "      <td>818112</td>\n",
              "      <td>2002-10-22 00:00:00.000</td>\n",
              "      <td>2002-10-21 00:00:00.000</td>\n",
              "      <td>2002-10-22 00:00:00.000</td>\n",
              "      <td>220059.0</td>\n",
              "    </tr>\n",
              "    <tr>\n",
              "      <th>1143</th>\n",
              "      <td>819249</td>\n",
              "      <td>2004-02-23 00:00:00.000</td>\n",
              "      <td>2004-02-23 00:00:00.000</td>\n",
              "      <td>2004-02-23 00:00:00.000</td>\n",
              "      <td>220059.0</td>\n",
              "    </tr>\n",
              "    <tr>\n",
              "      <th>1995</th>\n",
              "      <td>820015</td>\n",
              "      <td>2005-02-23 00:00:00.000</td>\n",
              "      <td>2005-02-25 00:00:00.000</td>\n",
              "      <td>2005-02-25 00:00:00.000</td>\n",
              "      <td>220059.0</td>\n",
              "    </tr>\n",
              "  </tbody>\n",
              "</table>\n",
              "</div>\n",
              "      <button class=\"colab-df-convert\" onclick=\"convertToInteractive('df-326f1fbe-358e-4896-96b2-3361846c7c0e')\"\n",
              "              title=\"Convert this dataframe to an interactive table.\"\n",
              "              style=\"display:none;\">\n",
              "        \n",
              "  <svg xmlns=\"http://www.w3.org/2000/svg\" height=\"24px\"viewBox=\"0 0 24 24\"\n",
              "       width=\"24px\">\n",
              "    <path d=\"M0 0h24v24H0V0z\" fill=\"none\"/>\n",
              "    <path d=\"M18.56 5.44l.94 2.06.94-2.06 2.06-.94-2.06-.94-.94-2.06-.94 2.06-2.06.94zm-11 1L8.5 8.5l.94-2.06 2.06-.94-2.06-.94L8.5 2.5l-.94 2.06-2.06.94zm10 10l.94 2.06.94-2.06 2.06-.94-2.06-.94-.94-2.06-.94 2.06-2.06.94z\"/><path d=\"M17.41 7.96l-1.37-1.37c-.4-.4-.92-.59-1.43-.59-.52 0-1.04.2-1.43.59L10.3 9.45l-7.72 7.72c-.78.78-.78 2.05 0 2.83L4 21.41c.39.39.9.59 1.41.59.51 0 1.02-.2 1.41-.59l7.78-7.78 2.81-2.81c.8-.78.8-2.07 0-2.86zM5.41 20L4 18.59l7.72-7.72 1.47 1.35L5.41 20z\"/>\n",
              "  </svg>\n",
              "      </button>\n",
              "      \n",
              "  <style>\n",
              "    .colab-df-container {\n",
              "      display:flex;\n",
              "      flex-wrap:wrap;\n",
              "      gap: 12px;\n",
              "    }\n",
              "\n",
              "    .colab-df-convert {\n",
              "      background-color: #E8F0FE;\n",
              "      border: none;\n",
              "      border-radius: 50%;\n",
              "      cursor: pointer;\n",
              "      display: none;\n",
              "      fill: #1967D2;\n",
              "      height: 32px;\n",
              "      padding: 0 0 0 0;\n",
              "      width: 32px;\n",
              "    }\n",
              "\n",
              "    .colab-df-convert:hover {\n",
              "      background-color: #E2EBFA;\n",
              "      box-shadow: 0px 1px 2px rgba(60, 64, 67, 0.3), 0px 1px 3px 1px rgba(60, 64, 67, 0.15);\n",
              "      fill: #174EA6;\n",
              "    }\n",
              "\n",
              "    [theme=dark] .colab-df-convert {\n",
              "      background-color: #3B4455;\n",
              "      fill: #D2E3FC;\n",
              "    }\n",
              "\n",
              "    [theme=dark] .colab-df-convert:hover {\n",
              "      background-color: #434B5C;\n",
              "      box-shadow: 0px 1px 3px 1px rgba(0, 0, 0, 0.15);\n",
              "      filter: drop-shadow(0px 1px 2px rgba(0, 0, 0, 0.3));\n",
              "      fill: #FFFFFF;\n",
              "    }\n",
              "  </style>\n",
              "\n",
              "      <script>\n",
              "        const buttonEl =\n",
              "          document.querySelector('#df-326f1fbe-358e-4896-96b2-3361846c7c0e button.colab-df-convert');\n",
              "        buttonEl.style.display =\n",
              "          google.colab.kernel.accessAllowed ? 'block' : 'none';\n",
              "\n",
              "        async function convertToInteractive(key) {\n",
              "          const element = document.querySelector('#df-326f1fbe-358e-4896-96b2-3361846c7c0e');\n",
              "          const dataTable =\n",
              "            await google.colab.kernel.invokeFunction('convertToInteractive',\n",
              "                                                     [key], {});\n",
              "          if (!dataTable) return;\n",
              "\n",
              "          const docLinkHtml = 'Like what you see? Visit the ' +\n",
              "            '<a target=\"_blank\" href=https://colab.research.google.com/notebooks/data_table.ipynb>data table notebook</a>'\n",
              "            + ' to learn more about interactive tables.';\n",
              "          element.innerHTML = '';\n",
              "          dataTable['output_type'] = 'display_data';\n",
              "          await google.colab.output.renderOutput(dataTable, element);\n",
              "          const docLink = document.createElement('div');\n",
              "          docLink.innerHTML = docLinkHtml;\n",
              "          element.appendChild(docLink);\n",
              "        }\n",
              "      </script>\n",
              "    </div>\n",
              "  </div>\n",
              "  "
            ]
          },
          "metadata": {},
          "execution_count": 52
        }
      ],
      "source": [
        "fin6.query(\"InventarieID==\t220059.0\")"
      ]
    },
    {
      "cell_type": "code",
      "execution_count": 53,
      "metadata": {
        "id": "useONue-4wKx",
        "colab": {
          "base_uri": "https://localhost:8080/",
          "height": 363
        },
        "outputId": "27eb0fad-8d28-4e48-95a3-6f46114593ae"
      },
      "outputs": [
        {
          "output_type": "execute_result",
          "data": {
            "text/plain": [
              "       ID                   issued                Completed  \\\n",
              "0  818106  2002-10-16 00:00:00.000  2002-10-16 00:00:00.000   \n",
              "1  818107  2002-10-16 00:00:00.000  2002-10-16 00:00:00.000   \n",
              "2  818108  2002-10-18 00:00:00.000  2002-10-18 00:00:00.000   \n",
              "3  818109  2002-10-21 00:00:00.000  2002-10-21 00:00:00.000   \n",
              "4  818110  2002-10-18 00:00:00.000  2002-10-21 00:00:00.000   \n",
              "5  818111  2002-10-17 00:00:00.000  2002-10-21 00:00:00.000   \n",
              "6  818112  2002-10-22 00:00:00.000  2002-10-21 00:00:00.000   \n",
              "7  818113  2002-10-22 00:00:00.000  2002-10-21 00:00:00.000   \n",
              "8  818114  2002-10-18 00:00:00.000  2002-10-21 00:00:00.000   \n",
              "9  818115  2002-10-18 00:00:00.000  2002-10-21 00:00:00.000   \n",
              "\n",
              "               AOEkKlarDat  InventarieID  \n",
              "0  2002-10-16 00:00:00.000           NaN  \n",
              "1  2002-10-16 00:00:00.000      216932.0  \n",
              "2  2002-10-31 00:00:00.000      217277.0  \n",
              "3  2002-10-21 00:00:00.000      217216.0  \n",
              "4  2002-10-22 00:00:00.000      219927.0  \n",
              "5  2002-10-22 00:00:00.000      218729.0  \n",
              "6  2002-10-22 00:00:00.000      220059.0  \n",
              "7  2002-10-22 00:00:00.000      220047.0  \n",
              "8  2002-10-22 00:00:00.000      216556.0  \n",
              "9  2002-10-22 00:00:00.000      218743.0  "
            ],
            "text/html": [
              "\n",
              "  <div id=\"df-b7e3eea3-5aba-4b9a-b54d-bf708e157b1b\">\n",
              "    <div class=\"colab-df-container\">\n",
              "      <div>\n",
              "<style scoped>\n",
              "    .dataframe tbody tr th:only-of-type {\n",
              "        vertical-align: middle;\n",
              "    }\n",
              "\n",
              "    .dataframe tbody tr th {\n",
              "        vertical-align: top;\n",
              "    }\n",
              "\n",
              "    .dataframe thead th {\n",
              "        text-align: right;\n",
              "    }\n",
              "</style>\n",
              "<table border=\"1\" class=\"dataframe\">\n",
              "  <thead>\n",
              "    <tr style=\"text-align: right;\">\n",
              "      <th></th>\n",
              "      <th>ID</th>\n",
              "      <th>issued</th>\n",
              "      <th>Completed</th>\n",
              "      <th>AOEkKlarDat</th>\n",
              "      <th>InventarieID</th>\n",
              "    </tr>\n",
              "  </thead>\n",
              "  <tbody>\n",
              "    <tr>\n",
              "      <th>0</th>\n",
              "      <td>818106</td>\n",
              "      <td>2002-10-16 00:00:00.000</td>\n",
              "      <td>2002-10-16 00:00:00.000</td>\n",
              "      <td>2002-10-16 00:00:00.000</td>\n",
              "      <td>NaN</td>\n",
              "    </tr>\n",
              "    <tr>\n",
              "      <th>1</th>\n",
              "      <td>818107</td>\n",
              "      <td>2002-10-16 00:00:00.000</td>\n",
              "      <td>2002-10-16 00:00:00.000</td>\n",
              "      <td>2002-10-16 00:00:00.000</td>\n",
              "      <td>216932.0</td>\n",
              "    </tr>\n",
              "    <tr>\n",
              "      <th>2</th>\n",
              "      <td>818108</td>\n",
              "      <td>2002-10-18 00:00:00.000</td>\n",
              "      <td>2002-10-18 00:00:00.000</td>\n",
              "      <td>2002-10-31 00:00:00.000</td>\n",
              "      <td>217277.0</td>\n",
              "    </tr>\n",
              "    <tr>\n",
              "      <th>3</th>\n",
              "      <td>818109</td>\n",
              "      <td>2002-10-21 00:00:00.000</td>\n",
              "      <td>2002-10-21 00:00:00.000</td>\n",
              "      <td>2002-10-21 00:00:00.000</td>\n",
              "      <td>217216.0</td>\n",
              "    </tr>\n",
              "    <tr>\n",
              "      <th>4</th>\n",
              "      <td>818110</td>\n",
              "      <td>2002-10-18 00:00:00.000</td>\n",
              "      <td>2002-10-21 00:00:00.000</td>\n",
              "      <td>2002-10-22 00:00:00.000</td>\n",
              "      <td>219927.0</td>\n",
              "    </tr>\n",
              "    <tr>\n",
              "      <th>5</th>\n",
              "      <td>818111</td>\n",
              "      <td>2002-10-17 00:00:00.000</td>\n",
              "      <td>2002-10-21 00:00:00.000</td>\n",
              "      <td>2002-10-22 00:00:00.000</td>\n",
              "      <td>218729.0</td>\n",
              "    </tr>\n",
              "    <tr>\n",
              "      <th>6</th>\n",
              "      <td>818112</td>\n",
              "      <td>2002-10-22 00:00:00.000</td>\n",
              "      <td>2002-10-21 00:00:00.000</td>\n",
              "      <td>2002-10-22 00:00:00.000</td>\n",
              "      <td>220059.0</td>\n",
              "    </tr>\n",
              "    <tr>\n",
              "      <th>7</th>\n",
              "      <td>818113</td>\n",
              "      <td>2002-10-22 00:00:00.000</td>\n",
              "      <td>2002-10-21 00:00:00.000</td>\n",
              "      <td>2002-10-22 00:00:00.000</td>\n",
              "      <td>220047.0</td>\n",
              "    </tr>\n",
              "    <tr>\n",
              "      <th>8</th>\n",
              "      <td>818114</td>\n",
              "      <td>2002-10-18 00:00:00.000</td>\n",
              "      <td>2002-10-21 00:00:00.000</td>\n",
              "      <td>2002-10-22 00:00:00.000</td>\n",
              "      <td>216556.0</td>\n",
              "    </tr>\n",
              "    <tr>\n",
              "      <th>9</th>\n",
              "      <td>818115</td>\n",
              "      <td>2002-10-18 00:00:00.000</td>\n",
              "      <td>2002-10-21 00:00:00.000</td>\n",
              "      <td>2002-10-22 00:00:00.000</td>\n",
              "      <td>218743.0</td>\n",
              "    </tr>\n",
              "  </tbody>\n",
              "</table>\n",
              "</div>\n",
              "      <button class=\"colab-df-convert\" onclick=\"convertToInteractive('df-b7e3eea3-5aba-4b9a-b54d-bf708e157b1b')\"\n",
              "              title=\"Convert this dataframe to an interactive table.\"\n",
              "              style=\"display:none;\">\n",
              "        \n",
              "  <svg xmlns=\"http://www.w3.org/2000/svg\" height=\"24px\"viewBox=\"0 0 24 24\"\n",
              "       width=\"24px\">\n",
              "    <path d=\"M0 0h24v24H0V0z\" fill=\"none\"/>\n",
              "    <path d=\"M18.56 5.44l.94 2.06.94-2.06 2.06-.94-2.06-.94-.94-2.06-.94 2.06-2.06.94zm-11 1L8.5 8.5l.94-2.06 2.06-.94-2.06-.94L8.5 2.5l-.94 2.06-2.06.94zm10 10l.94 2.06.94-2.06 2.06-.94-2.06-.94-.94-2.06-.94 2.06-2.06.94z\"/><path d=\"M17.41 7.96l-1.37-1.37c-.4-.4-.92-.59-1.43-.59-.52 0-1.04.2-1.43.59L10.3 9.45l-7.72 7.72c-.78.78-.78 2.05 0 2.83L4 21.41c.39.39.9.59 1.41.59.51 0 1.02-.2 1.41-.59l7.78-7.78 2.81-2.81c.8-.78.8-2.07 0-2.86zM5.41 20L4 18.59l7.72-7.72 1.47 1.35L5.41 20z\"/>\n",
              "  </svg>\n",
              "      </button>\n",
              "      \n",
              "  <style>\n",
              "    .colab-df-container {\n",
              "      display:flex;\n",
              "      flex-wrap:wrap;\n",
              "      gap: 12px;\n",
              "    }\n",
              "\n",
              "    .colab-df-convert {\n",
              "      background-color: #E8F0FE;\n",
              "      border: none;\n",
              "      border-radius: 50%;\n",
              "      cursor: pointer;\n",
              "      display: none;\n",
              "      fill: #1967D2;\n",
              "      height: 32px;\n",
              "      padding: 0 0 0 0;\n",
              "      width: 32px;\n",
              "    }\n",
              "\n",
              "    .colab-df-convert:hover {\n",
              "      background-color: #E2EBFA;\n",
              "      box-shadow: 0px 1px 2px rgba(60, 64, 67, 0.3), 0px 1px 3px 1px rgba(60, 64, 67, 0.15);\n",
              "      fill: #174EA6;\n",
              "    }\n",
              "\n",
              "    [theme=dark] .colab-df-convert {\n",
              "      background-color: #3B4455;\n",
              "      fill: #D2E3FC;\n",
              "    }\n",
              "\n",
              "    [theme=dark] .colab-df-convert:hover {\n",
              "      background-color: #434B5C;\n",
              "      box-shadow: 0px 1px 3px 1px rgba(0, 0, 0, 0.15);\n",
              "      filter: drop-shadow(0px 1px 2px rgba(0, 0, 0, 0.3));\n",
              "      fill: #FFFFFF;\n",
              "    }\n",
              "  </style>\n",
              "\n",
              "      <script>\n",
              "        const buttonEl =\n",
              "          document.querySelector('#df-b7e3eea3-5aba-4b9a-b54d-bf708e157b1b button.colab-df-convert');\n",
              "        buttonEl.style.display =\n",
              "          google.colab.kernel.accessAllowed ? 'block' : 'none';\n",
              "\n",
              "        async function convertToInteractive(key) {\n",
              "          const element = document.querySelector('#df-b7e3eea3-5aba-4b9a-b54d-bf708e157b1b');\n",
              "          const dataTable =\n",
              "            await google.colab.kernel.invokeFunction('convertToInteractive',\n",
              "                                                     [key], {});\n",
              "          if (!dataTable) return;\n",
              "\n",
              "          const docLinkHtml = 'Like what you see? Visit the ' +\n",
              "            '<a target=\"_blank\" href=https://colab.research.google.com/notebooks/data_table.ipynb>data table notebook</a>'\n",
              "            + ' to learn more about interactive tables.';\n",
              "          element.innerHTML = '';\n",
              "          dataTable['output_type'] = 'display_data';\n",
              "          await google.colab.output.renderOutput(dataTable, element);\n",
              "          const docLink = document.createElement('div');\n",
              "          docLink.innerHTML = docLinkHtml;\n",
              "          element.appendChild(docLink);\n",
              "        }\n",
              "      </script>\n",
              "    </div>\n",
              "  </div>\n",
              "  "
            ]
          },
          "metadata": {},
          "execution_count": 53
        }
      ],
      "source": [
        "fin6.head(10)"
      ]
    },
    {
      "cell_type": "code",
      "execution_count": 54,
      "metadata": {
        "id": "AgJRZttuPD5H",
        "colab": {
          "base_uri": "https://localhost:8080/"
        },
        "outputId": "a1ea4552-5c4e-4829-fde3-fc856fededad"
      },
      "outputs": [
        {
          "output_type": "execute_result",
          "data": {
            "text/plain": [
              "ID                   0\n",
              "issued               4\n",
              "Completed        21108\n",
              "AOEkKlarDat      23733\n",
              "InventarieID    344980\n",
              "dtype: int64"
            ]
          },
          "metadata": {},
          "execution_count": 54
        }
      ],
      "source": [
        "fin6.isnull().sum()"
      ]
    },
    {
      "cell_type": "code",
      "execution_count": 55,
      "metadata": {
        "id": "uFD5CdFIPOtG"
      },
      "outputs": [],
      "source": [
        "fin6.dropna(inplace=True)"
      ]
    },
    {
      "cell_type": "code",
      "execution_count": 56,
      "metadata": {
        "id": "WMthOu6mLjZs",
        "colab": {
          "base_uri": "https://localhost:8080/"
        },
        "outputId": "ecca106c-3ca8-4c3d-9aec-7f660525d09b"
      },
      "outputs": [
        {
          "output_type": "execute_result",
          "data": {
            "text/plain": [
              "(749942, 5)"
            ]
          },
          "metadata": {},
          "execution_count": 56
        }
      ],
      "source": [
        "fin6.shape"
      ]
    },
    {
      "cell_type": "code",
      "execution_count": 57,
      "metadata": {
        "id": "nr5TkiWwjRpD"
      },
      "outputs": [],
      "source": [
        "fin6.set_index('InventarieID',inplace=True,drop=False)"
      ]
    },
    {
      "cell_type": "code",
      "execution_count": 58,
      "metadata": {
        "id": "vtFWaTgijfAI",
        "colab": {
          "base_uri": "https://localhost:8080/",
          "height": 175
        },
        "outputId": "a37bec3c-acc9-4b15-89c0-623463502115"
      },
      "outputs": [
        {
          "output_type": "execute_result",
          "data": {
            "text/plain": [
              "                  ID                   issued                Completed  \\\n",
              "InventarieID                                                             \n",
              "216932.0      818107  2002-10-16 00:00:00.000  2002-10-16 00:00:00.000   \n",
              "217277.0      818108  2002-10-18 00:00:00.000  2002-10-18 00:00:00.000   \n",
              "217216.0      818109  2002-10-21 00:00:00.000  2002-10-21 00:00:00.000   \n",
              "\n",
              "                          AOEkKlarDat  InventarieID  \n",
              "InventarieID                                         \n",
              "216932.0      2002-10-16 00:00:00.000      216932.0  \n",
              "217277.0      2002-10-31 00:00:00.000      217277.0  \n",
              "217216.0      2002-10-21 00:00:00.000      217216.0  "
            ],
            "text/html": [
              "\n",
              "  <div id=\"df-e29c5d9c-443f-4238-b560-6efeaf901643\">\n",
              "    <div class=\"colab-df-container\">\n",
              "      <div>\n",
              "<style scoped>\n",
              "    .dataframe tbody tr th:only-of-type {\n",
              "        vertical-align: middle;\n",
              "    }\n",
              "\n",
              "    .dataframe tbody tr th {\n",
              "        vertical-align: top;\n",
              "    }\n",
              "\n",
              "    .dataframe thead th {\n",
              "        text-align: right;\n",
              "    }\n",
              "</style>\n",
              "<table border=\"1\" class=\"dataframe\">\n",
              "  <thead>\n",
              "    <tr style=\"text-align: right;\">\n",
              "      <th></th>\n",
              "      <th>ID</th>\n",
              "      <th>issued</th>\n",
              "      <th>Completed</th>\n",
              "      <th>AOEkKlarDat</th>\n",
              "      <th>InventarieID</th>\n",
              "    </tr>\n",
              "    <tr>\n",
              "      <th>InventarieID</th>\n",
              "      <th></th>\n",
              "      <th></th>\n",
              "      <th></th>\n",
              "      <th></th>\n",
              "      <th></th>\n",
              "    </tr>\n",
              "  </thead>\n",
              "  <tbody>\n",
              "    <tr>\n",
              "      <th>216932.0</th>\n",
              "      <td>818107</td>\n",
              "      <td>2002-10-16 00:00:00.000</td>\n",
              "      <td>2002-10-16 00:00:00.000</td>\n",
              "      <td>2002-10-16 00:00:00.000</td>\n",
              "      <td>216932.0</td>\n",
              "    </tr>\n",
              "    <tr>\n",
              "      <th>217277.0</th>\n",
              "      <td>818108</td>\n",
              "      <td>2002-10-18 00:00:00.000</td>\n",
              "      <td>2002-10-18 00:00:00.000</td>\n",
              "      <td>2002-10-31 00:00:00.000</td>\n",
              "      <td>217277.0</td>\n",
              "    </tr>\n",
              "    <tr>\n",
              "      <th>217216.0</th>\n",
              "      <td>818109</td>\n",
              "      <td>2002-10-21 00:00:00.000</td>\n",
              "      <td>2002-10-21 00:00:00.000</td>\n",
              "      <td>2002-10-21 00:00:00.000</td>\n",
              "      <td>217216.0</td>\n",
              "    </tr>\n",
              "  </tbody>\n",
              "</table>\n",
              "</div>\n",
              "      <button class=\"colab-df-convert\" onclick=\"convertToInteractive('df-e29c5d9c-443f-4238-b560-6efeaf901643')\"\n",
              "              title=\"Convert this dataframe to an interactive table.\"\n",
              "              style=\"display:none;\">\n",
              "        \n",
              "  <svg xmlns=\"http://www.w3.org/2000/svg\" height=\"24px\"viewBox=\"0 0 24 24\"\n",
              "       width=\"24px\">\n",
              "    <path d=\"M0 0h24v24H0V0z\" fill=\"none\"/>\n",
              "    <path d=\"M18.56 5.44l.94 2.06.94-2.06 2.06-.94-2.06-.94-.94-2.06-.94 2.06-2.06.94zm-11 1L8.5 8.5l.94-2.06 2.06-.94-2.06-.94L8.5 2.5l-.94 2.06-2.06.94zm10 10l.94 2.06.94-2.06 2.06-.94-2.06-.94-.94-2.06-.94 2.06-2.06.94z\"/><path d=\"M17.41 7.96l-1.37-1.37c-.4-.4-.92-.59-1.43-.59-.52 0-1.04.2-1.43.59L10.3 9.45l-7.72 7.72c-.78.78-.78 2.05 0 2.83L4 21.41c.39.39.9.59 1.41.59.51 0 1.02-.2 1.41-.59l7.78-7.78 2.81-2.81c.8-.78.8-2.07 0-2.86zM5.41 20L4 18.59l7.72-7.72 1.47 1.35L5.41 20z\"/>\n",
              "  </svg>\n",
              "      </button>\n",
              "      \n",
              "  <style>\n",
              "    .colab-df-container {\n",
              "      display:flex;\n",
              "      flex-wrap:wrap;\n",
              "      gap: 12px;\n",
              "    }\n",
              "\n",
              "    .colab-df-convert {\n",
              "      background-color: #E8F0FE;\n",
              "      border: none;\n",
              "      border-radius: 50%;\n",
              "      cursor: pointer;\n",
              "      display: none;\n",
              "      fill: #1967D2;\n",
              "      height: 32px;\n",
              "      padding: 0 0 0 0;\n",
              "      width: 32px;\n",
              "    }\n",
              "\n",
              "    .colab-df-convert:hover {\n",
              "      background-color: #E2EBFA;\n",
              "      box-shadow: 0px 1px 2px rgba(60, 64, 67, 0.3), 0px 1px 3px 1px rgba(60, 64, 67, 0.15);\n",
              "      fill: #174EA6;\n",
              "    }\n",
              "\n",
              "    [theme=dark] .colab-df-convert {\n",
              "      background-color: #3B4455;\n",
              "      fill: #D2E3FC;\n",
              "    }\n",
              "\n",
              "    [theme=dark] .colab-df-convert:hover {\n",
              "      background-color: #434B5C;\n",
              "      box-shadow: 0px 1px 3px 1px rgba(0, 0, 0, 0.15);\n",
              "      filter: drop-shadow(0px 1px 2px rgba(0, 0, 0, 0.3));\n",
              "      fill: #FFFFFF;\n",
              "    }\n",
              "  </style>\n",
              "\n",
              "      <script>\n",
              "        const buttonEl =\n",
              "          document.querySelector('#df-e29c5d9c-443f-4238-b560-6efeaf901643 button.colab-df-convert');\n",
              "        buttonEl.style.display =\n",
              "          google.colab.kernel.accessAllowed ? 'block' : 'none';\n",
              "\n",
              "        async function convertToInteractive(key) {\n",
              "          const element = document.querySelector('#df-e29c5d9c-443f-4238-b560-6efeaf901643');\n",
              "          const dataTable =\n",
              "            await google.colab.kernel.invokeFunction('convertToInteractive',\n",
              "                                                     [key], {});\n",
              "          if (!dataTable) return;\n",
              "\n",
              "          const docLinkHtml = 'Like what you see? Visit the ' +\n",
              "            '<a target=\"_blank\" href=https://colab.research.google.com/notebooks/data_table.ipynb>data table notebook</a>'\n",
              "            + ' to learn more about interactive tables.';\n",
              "          element.innerHTML = '';\n",
              "          dataTable['output_type'] = 'display_data';\n",
              "          await google.colab.output.renderOutput(dataTable, element);\n",
              "          const docLink = document.createElement('div');\n",
              "          docLink.innerHTML = docLinkHtml;\n",
              "          element.appendChild(docLink);\n",
              "        }\n",
              "      </script>\n",
              "    </div>\n",
              "  </div>\n",
              "  "
            ]
          },
          "metadata": {},
          "execution_count": 58
        }
      ],
      "source": [
        "fin6.head(3)"
      ]
    },
    {
      "cell_type": "code",
      "source": [
        "#sorting the dataframe based on the inventarieID descedning order\n",
        "fin6=fin6.sort_index()\n"
      ],
      "metadata": {
        "id": "dTxqCo4Lr29b"
      },
      "execution_count": 59,
      "outputs": []
    },
    {
      "cell_type": "code",
      "source": [
        "fin6.iloc[[101]]"
      ],
      "metadata": {
        "colab": {
          "base_uri": "https://localhost:8080/",
          "height": 112
        },
        "id": "7hfIUoApsUYK",
        "outputId": "c3eec34e-34b3-42de-f45e-135a4209e055"
      },
      "execution_count": 60,
      "outputs": [
        {
          "output_type": "execute_result",
          "data": {
            "text/plain": [
              "                  ID                   issued                Completed  \\\n",
              "InventarieID                                                             \n",
              "1365.0        599981  2015-09-14 00:00:00.000  2015-09-16 00:00:00.000   \n",
              "\n",
              "                          AOEkKlarDat  InventarieID  \n",
              "InventarieID                                         \n",
              "1365.0        2015-09-16 00:00:00.000        1365.0  "
            ],
            "text/html": [
              "\n",
              "  <div id=\"df-7fd70aff-1fa7-4161-8d95-8c9cd92fa8ca\">\n",
              "    <div class=\"colab-df-container\">\n",
              "      <div>\n",
              "<style scoped>\n",
              "    .dataframe tbody tr th:only-of-type {\n",
              "        vertical-align: middle;\n",
              "    }\n",
              "\n",
              "    .dataframe tbody tr th {\n",
              "        vertical-align: top;\n",
              "    }\n",
              "\n",
              "    .dataframe thead th {\n",
              "        text-align: right;\n",
              "    }\n",
              "</style>\n",
              "<table border=\"1\" class=\"dataframe\">\n",
              "  <thead>\n",
              "    <tr style=\"text-align: right;\">\n",
              "      <th></th>\n",
              "      <th>ID</th>\n",
              "      <th>issued</th>\n",
              "      <th>Completed</th>\n",
              "      <th>AOEkKlarDat</th>\n",
              "      <th>InventarieID</th>\n",
              "    </tr>\n",
              "    <tr>\n",
              "      <th>InventarieID</th>\n",
              "      <th></th>\n",
              "      <th></th>\n",
              "      <th></th>\n",
              "      <th></th>\n",
              "      <th></th>\n",
              "    </tr>\n",
              "  </thead>\n",
              "  <tbody>\n",
              "    <tr>\n",
              "      <th>1365.0</th>\n",
              "      <td>599981</td>\n",
              "      <td>2015-09-14 00:00:00.000</td>\n",
              "      <td>2015-09-16 00:00:00.000</td>\n",
              "      <td>2015-09-16 00:00:00.000</td>\n",
              "      <td>1365.0</td>\n",
              "    </tr>\n",
              "  </tbody>\n",
              "</table>\n",
              "</div>\n",
              "      <button class=\"colab-df-convert\" onclick=\"convertToInteractive('df-7fd70aff-1fa7-4161-8d95-8c9cd92fa8ca')\"\n",
              "              title=\"Convert this dataframe to an interactive table.\"\n",
              "              style=\"display:none;\">\n",
              "        \n",
              "  <svg xmlns=\"http://www.w3.org/2000/svg\" height=\"24px\"viewBox=\"0 0 24 24\"\n",
              "       width=\"24px\">\n",
              "    <path d=\"M0 0h24v24H0V0z\" fill=\"none\"/>\n",
              "    <path d=\"M18.56 5.44l.94 2.06.94-2.06 2.06-.94-2.06-.94-.94-2.06-.94 2.06-2.06.94zm-11 1L8.5 8.5l.94-2.06 2.06-.94-2.06-.94L8.5 2.5l-.94 2.06-2.06.94zm10 10l.94 2.06.94-2.06 2.06-.94-2.06-.94-.94-2.06-.94 2.06-2.06.94z\"/><path d=\"M17.41 7.96l-1.37-1.37c-.4-.4-.92-.59-1.43-.59-.52 0-1.04.2-1.43.59L10.3 9.45l-7.72 7.72c-.78.78-.78 2.05 0 2.83L4 21.41c.39.39.9.59 1.41.59.51 0 1.02-.2 1.41-.59l7.78-7.78 2.81-2.81c.8-.78.8-2.07 0-2.86zM5.41 20L4 18.59l7.72-7.72 1.47 1.35L5.41 20z\"/>\n",
              "  </svg>\n",
              "      </button>\n",
              "      \n",
              "  <style>\n",
              "    .colab-df-container {\n",
              "      display:flex;\n",
              "      flex-wrap:wrap;\n",
              "      gap: 12px;\n",
              "    }\n",
              "\n",
              "    .colab-df-convert {\n",
              "      background-color: #E8F0FE;\n",
              "      border: none;\n",
              "      border-radius: 50%;\n",
              "      cursor: pointer;\n",
              "      display: none;\n",
              "      fill: #1967D2;\n",
              "      height: 32px;\n",
              "      padding: 0 0 0 0;\n",
              "      width: 32px;\n",
              "    }\n",
              "\n",
              "    .colab-df-convert:hover {\n",
              "      background-color: #E2EBFA;\n",
              "      box-shadow: 0px 1px 2px rgba(60, 64, 67, 0.3), 0px 1px 3px 1px rgba(60, 64, 67, 0.15);\n",
              "      fill: #174EA6;\n",
              "    }\n",
              "\n",
              "    [theme=dark] .colab-df-convert {\n",
              "      background-color: #3B4455;\n",
              "      fill: #D2E3FC;\n",
              "    }\n",
              "\n",
              "    [theme=dark] .colab-df-convert:hover {\n",
              "      background-color: #434B5C;\n",
              "      box-shadow: 0px 1px 3px 1px rgba(0, 0, 0, 0.15);\n",
              "      filter: drop-shadow(0px 1px 2px rgba(0, 0, 0, 0.3));\n",
              "      fill: #FFFFFF;\n",
              "    }\n",
              "  </style>\n",
              "\n",
              "      <script>\n",
              "        const buttonEl =\n",
              "          document.querySelector('#df-7fd70aff-1fa7-4161-8d95-8c9cd92fa8ca button.colab-df-convert');\n",
              "        buttonEl.style.display =\n",
              "          google.colab.kernel.accessAllowed ? 'block' : 'none';\n",
              "\n",
              "        async function convertToInteractive(key) {\n",
              "          const element = document.querySelector('#df-7fd70aff-1fa7-4161-8d95-8c9cd92fa8ca');\n",
              "          const dataTable =\n",
              "            await google.colab.kernel.invokeFunction('convertToInteractive',\n",
              "                                                     [key], {});\n",
              "          if (!dataTable) return;\n",
              "\n",
              "          const docLinkHtml = 'Like what you see? Visit the ' +\n",
              "            '<a target=\"_blank\" href=https://colab.research.google.com/notebooks/data_table.ipynb>data table notebook</a>'\n",
              "            + ' to learn more about interactive tables.';\n",
              "          element.innerHTML = '';\n",
              "          dataTable['output_type'] = 'display_data';\n",
              "          await google.colab.output.renderOutput(dataTable, element);\n",
              "          const docLink = document.createElement('div');\n",
              "          docLink.innerHTML = docLinkHtml;\n",
              "          element.appendChild(docLink);\n",
              "        }\n",
              "      </script>\n",
              "    </div>\n",
              "  </div>\n",
              "  "
            ]
          },
          "metadata": {},
          "execution_count": 60
        }
      ]
    },
    {
      "cell_type": "markdown",
      "metadata": {
        "id": "6LOqYCPP2yQE"
      },
      "source": [
        "# **wo data**"
      ]
    },
    {
      "cell_type": "code",
      "execution_count": 61,
      "metadata": {
        "id": "12CvdEid2xuI"
      },
      "outputs": [],
      "source": [
        "df7=(r\"/content/drive/MyDrive/Thesis_datasets/New-data-SoftPro/Hospitals1/WO_data.csv\")"
      ]
    },
    {
      "cell_type": "code",
      "execution_count": 62,
      "metadata": {
        "id": "njx5WjHV6SzN"
      },
      "outputs": [],
      "source": [
        "fin7=pd.read_csv(df7,sep=';',names=['inventarieID','last_wo','first_wo','Count_wo','meantime'])\n"
      ]
    },
    {
      "cell_type": "code",
      "execution_count": 63,
      "metadata": {
        "id": "ybQjxPr_7F4B",
        "colab": {
          "base_uri": "https://localhost:8080/",
          "height": 144
        },
        "outputId": "ee080a10-d856-463b-90df-0e151e6996f6"
      },
      "outputs": [
        {
          "output_type": "execute_result",
          "data": {
            "text/plain": [
              "   inventarieID     last_wo    first_wo  Count_wo  meantime\n",
              "0      119121.0  2017-05-09  2010-11-03         4       594\n",
              "1      232669.0  2012-06-14  2012-06-14         1         0\n",
              "2      140369.0  2013-08-20  2013-08-20         1         0"
            ],
            "text/html": [
              "\n",
              "  <div id=\"df-319a002e-0c45-4b03-8ac5-7b5fdf11539b\">\n",
              "    <div class=\"colab-df-container\">\n",
              "      <div>\n",
              "<style scoped>\n",
              "    .dataframe tbody tr th:only-of-type {\n",
              "        vertical-align: middle;\n",
              "    }\n",
              "\n",
              "    .dataframe tbody tr th {\n",
              "        vertical-align: top;\n",
              "    }\n",
              "\n",
              "    .dataframe thead th {\n",
              "        text-align: right;\n",
              "    }\n",
              "</style>\n",
              "<table border=\"1\" class=\"dataframe\">\n",
              "  <thead>\n",
              "    <tr style=\"text-align: right;\">\n",
              "      <th></th>\n",
              "      <th>inventarieID</th>\n",
              "      <th>last_wo</th>\n",
              "      <th>first_wo</th>\n",
              "      <th>Count_wo</th>\n",
              "      <th>meantime</th>\n",
              "    </tr>\n",
              "  </thead>\n",
              "  <tbody>\n",
              "    <tr>\n",
              "      <th>0</th>\n",
              "      <td>119121.0</td>\n",
              "      <td>2017-05-09</td>\n",
              "      <td>2010-11-03</td>\n",
              "      <td>4</td>\n",
              "      <td>594</td>\n",
              "    </tr>\n",
              "    <tr>\n",
              "      <th>1</th>\n",
              "      <td>232669.0</td>\n",
              "      <td>2012-06-14</td>\n",
              "      <td>2012-06-14</td>\n",
              "      <td>1</td>\n",
              "      <td>0</td>\n",
              "    </tr>\n",
              "    <tr>\n",
              "      <th>2</th>\n",
              "      <td>140369.0</td>\n",
              "      <td>2013-08-20</td>\n",
              "      <td>2013-08-20</td>\n",
              "      <td>1</td>\n",
              "      <td>0</td>\n",
              "    </tr>\n",
              "  </tbody>\n",
              "</table>\n",
              "</div>\n",
              "      <button class=\"colab-df-convert\" onclick=\"convertToInteractive('df-319a002e-0c45-4b03-8ac5-7b5fdf11539b')\"\n",
              "              title=\"Convert this dataframe to an interactive table.\"\n",
              "              style=\"display:none;\">\n",
              "        \n",
              "  <svg xmlns=\"http://www.w3.org/2000/svg\" height=\"24px\"viewBox=\"0 0 24 24\"\n",
              "       width=\"24px\">\n",
              "    <path d=\"M0 0h24v24H0V0z\" fill=\"none\"/>\n",
              "    <path d=\"M18.56 5.44l.94 2.06.94-2.06 2.06-.94-2.06-.94-.94-2.06-.94 2.06-2.06.94zm-11 1L8.5 8.5l.94-2.06 2.06-.94-2.06-.94L8.5 2.5l-.94 2.06-2.06.94zm10 10l.94 2.06.94-2.06 2.06-.94-2.06-.94-.94-2.06-.94 2.06-2.06.94z\"/><path d=\"M17.41 7.96l-1.37-1.37c-.4-.4-.92-.59-1.43-.59-.52 0-1.04.2-1.43.59L10.3 9.45l-7.72 7.72c-.78.78-.78 2.05 0 2.83L4 21.41c.39.39.9.59 1.41.59.51 0 1.02-.2 1.41-.59l7.78-7.78 2.81-2.81c.8-.78.8-2.07 0-2.86zM5.41 20L4 18.59l7.72-7.72 1.47 1.35L5.41 20z\"/>\n",
              "  </svg>\n",
              "      </button>\n",
              "      \n",
              "  <style>\n",
              "    .colab-df-container {\n",
              "      display:flex;\n",
              "      flex-wrap:wrap;\n",
              "      gap: 12px;\n",
              "    }\n",
              "\n",
              "    .colab-df-convert {\n",
              "      background-color: #E8F0FE;\n",
              "      border: none;\n",
              "      border-radius: 50%;\n",
              "      cursor: pointer;\n",
              "      display: none;\n",
              "      fill: #1967D2;\n",
              "      height: 32px;\n",
              "      padding: 0 0 0 0;\n",
              "      width: 32px;\n",
              "    }\n",
              "\n",
              "    .colab-df-convert:hover {\n",
              "      background-color: #E2EBFA;\n",
              "      box-shadow: 0px 1px 2px rgba(60, 64, 67, 0.3), 0px 1px 3px 1px rgba(60, 64, 67, 0.15);\n",
              "      fill: #174EA6;\n",
              "    }\n",
              "\n",
              "    [theme=dark] .colab-df-convert {\n",
              "      background-color: #3B4455;\n",
              "      fill: #D2E3FC;\n",
              "    }\n",
              "\n",
              "    [theme=dark] .colab-df-convert:hover {\n",
              "      background-color: #434B5C;\n",
              "      box-shadow: 0px 1px 3px 1px rgba(0, 0, 0, 0.15);\n",
              "      filter: drop-shadow(0px 1px 2px rgba(0, 0, 0, 0.3));\n",
              "      fill: #FFFFFF;\n",
              "    }\n",
              "  </style>\n",
              "\n",
              "      <script>\n",
              "        const buttonEl =\n",
              "          document.querySelector('#df-319a002e-0c45-4b03-8ac5-7b5fdf11539b button.colab-df-convert');\n",
              "        buttonEl.style.display =\n",
              "          google.colab.kernel.accessAllowed ? 'block' : 'none';\n",
              "\n",
              "        async function convertToInteractive(key) {\n",
              "          const element = document.querySelector('#df-319a002e-0c45-4b03-8ac5-7b5fdf11539b');\n",
              "          const dataTable =\n",
              "            await google.colab.kernel.invokeFunction('convertToInteractive',\n",
              "                                                     [key], {});\n",
              "          if (!dataTable) return;\n",
              "\n",
              "          const docLinkHtml = 'Like what you see? Visit the ' +\n",
              "            '<a target=\"_blank\" href=https://colab.research.google.com/notebooks/data_table.ipynb>data table notebook</a>'\n",
              "            + ' to learn more about interactive tables.';\n",
              "          element.innerHTML = '';\n",
              "          dataTable['output_type'] = 'display_data';\n",
              "          await google.colab.output.renderOutput(dataTable, element);\n",
              "          const docLink = document.createElement('div');\n",
              "          docLink.innerHTML = docLinkHtml;\n",
              "          element.appendChild(docLink);\n",
              "        }\n",
              "      </script>\n",
              "    </div>\n",
              "  </div>\n",
              "  "
            ]
          },
          "metadata": {},
          "execution_count": 63
        }
      ],
      "source": [
        "fin7.head(3)"
      ]
    },
    {
      "cell_type": "code",
      "execution_count": 64,
      "metadata": {
        "id": "yFtAS6gMVMsc"
      },
      "outputs": [],
      "source": [
        "fin7.dropna(inplace=True)"
      ]
    },
    {
      "cell_type": "code",
      "execution_count": 65,
      "metadata": {
        "id": "t4x8la3dVVse",
        "colab": {
          "base_uri": "https://localhost:8080/"
        },
        "outputId": "28f41143-8691-4e04-90ce-9057a9d327f0"
      },
      "outputs": [
        {
          "output_type": "execute_result",
          "data": {
            "text/plain": [
              "(126982, 5)"
            ]
          },
          "metadata": {},
          "execution_count": 65
        }
      ],
      "source": [
        "fin7.shape"
      ]
    },
    {
      "cell_type": "code",
      "execution_count": 66,
      "metadata": {
        "id": "SXcMCA0jjmu2"
      },
      "outputs": [],
      "source": [
        "fin7.set_index('inventarieID',inplace=True,drop=False)"
      ]
    },
    {
      "cell_type": "code",
      "execution_count": 67,
      "metadata": {
        "id": "H--8Km8rjzuT",
        "colab": {
          "base_uri": "https://localhost:8080/",
          "height": 175
        },
        "outputId": "276ff34a-e30a-4c1b-b7e2-6410bb908147"
      },
      "outputs": [
        {
          "output_type": "execute_result",
          "data": {
            "text/plain": [
              "              inventarieID     last_wo    first_wo  Count_wo  meantime\n",
              "inventarieID                                                          \n",
              "119121.0          119121.0  2017-05-09  2010-11-03         4       594\n",
              "232669.0          232669.0  2012-06-14  2012-06-14         1         0\n",
              "140369.0          140369.0  2013-08-20  2013-08-20         1         0"
            ],
            "text/html": [
              "\n",
              "  <div id=\"df-33e3ac69-7f1c-4901-9e12-101dc2b40064\">\n",
              "    <div class=\"colab-df-container\">\n",
              "      <div>\n",
              "<style scoped>\n",
              "    .dataframe tbody tr th:only-of-type {\n",
              "        vertical-align: middle;\n",
              "    }\n",
              "\n",
              "    .dataframe tbody tr th {\n",
              "        vertical-align: top;\n",
              "    }\n",
              "\n",
              "    .dataframe thead th {\n",
              "        text-align: right;\n",
              "    }\n",
              "</style>\n",
              "<table border=\"1\" class=\"dataframe\">\n",
              "  <thead>\n",
              "    <tr style=\"text-align: right;\">\n",
              "      <th></th>\n",
              "      <th>inventarieID</th>\n",
              "      <th>last_wo</th>\n",
              "      <th>first_wo</th>\n",
              "      <th>Count_wo</th>\n",
              "      <th>meantime</th>\n",
              "    </tr>\n",
              "    <tr>\n",
              "      <th>inventarieID</th>\n",
              "      <th></th>\n",
              "      <th></th>\n",
              "      <th></th>\n",
              "      <th></th>\n",
              "      <th></th>\n",
              "    </tr>\n",
              "  </thead>\n",
              "  <tbody>\n",
              "    <tr>\n",
              "      <th>119121.0</th>\n",
              "      <td>119121.0</td>\n",
              "      <td>2017-05-09</td>\n",
              "      <td>2010-11-03</td>\n",
              "      <td>4</td>\n",
              "      <td>594</td>\n",
              "    </tr>\n",
              "    <tr>\n",
              "      <th>232669.0</th>\n",
              "      <td>232669.0</td>\n",
              "      <td>2012-06-14</td>\n",
              "      <td>2012-06-14</td>\n",
              "      <td>1</td>\n",
              "      <td>0</td>\n",
              "    </tr>\n",
              "    <tr>\n",
              "      <th>140369.0</th>\n",
              "      <td>140369.0</td>\n",
              "      <td>2013-08-20</td>\n",
              "      <td>2013-08-20</td>\n",
              "      <td>1</td>\n",
              "      <td>0</td>\n",
              "    </tr>\n",
              "  </tbody>\n",
              "</table>\n",
              "</div>\n",
              "      <button class=\"colab-df-convert\" onclick=\"convertToInteractive('df-33e3ac69-7f1c-4901-9e12-101dc2b40064')\"\n",
              "              title=\"Convert this dataframe to an interactive table.\"\n",
              "              style=\"display:none;\">\n",
              "        \n",
              "  <svg xmlns=\"http://www.w3.org/2000/svg\" height=\"24px\"viewBox=\"0 0 24 24\"\n",
              "       width=\"24px\">\n",
              "    <path d=\"M0 0h24v24H0V0z\" fill=\"none\"/>\n",
              "    <path d=\"M18.56 5.44l.94 2.06.94-2.06 2.06-.94-2.06-.94-.94-2.06-.94 2.06-2.06.94zm-11 1L8.5 8.5l.94-2.06 2.06-.94-2.06-.94L8.5 2.5l-.94 2.06-2.06.94zm10 10l.94 2.06.94-2.06 2.06-.94-2.06-.94-.94-2.06-.94 2.06-2.06.94z\"/><path d=\"M17.41 7.96l-1.37-1.37c-.4-.4-.92-.59-1.43-.59-.52 0-1.04.2-1.43.59L10.3 9.45l-7.72 7.72c-.78.78-.78 2.05 0 2.83L4 21.41c.39.39.9.59 1.41.59.51 0 1.02-.2 1.41-.59l7.78-7.78 2.81-2.81c.8-.78.8-2.07 0-2.86zM5.41 20L4 18.59l7.72-7.72 1.47 1.35L5.41 20z\"/>\n",
              "  </svg>\n",
              "      </button>\n",
              "      \n",
              "  <style>\n",
              "    .colab-df-container {\n",
              "      display:flex;\n",
              "      flex-wrap:wrap;\n",
              "      gap: 12px;\n",
              "    }\n",
              "\n",
              "    .colab-df-convert {\n",
              "      background-color: #E8F0FE;\n",
              "      border: none;\n",
              "      border-radius: 50%;\n",
              "      cursor: pointer;\n",
              "      display: none;\n",
              "      fill: #1967D2;\n",
              "      height: 32px;\n",
              "      padding: 0 0 0 0;\n",
              "      width: 32px;\n",
              "    }\n",
              "\n",
              "    .colab-df-convert:hover {\n",
              "      background-color: #E2EBFA;\n",
              "      box-shadow: 0px 1px 2px rgba(60, 64, 67, 0.3), 0px 1px 3px 1px rgba(60, 64, 67, 0.15);\n",
              "      fill: #174EA6;\n",
              "    }\n",
              "\n",
              "    [theme=dark] .colab-df-convert {\n",
              "      background-color: #3B4455;\n",
              "      fill: #D2E3FC;\n",
              "    }\n",
              "\n",
              "    [theme=dark] .colab-df-convert:hover {\n",
              "      background-color: #434B5C;\n",
              "      box-shadow: 0px 1px 3px 1px rgba(0, 0, 0, 0.15);\n",
              "      filter: drop-shadow(0px 1px 2px rgba(0, 0, 0, 0.3));\n",
              "      fill: #FFFFFF;\n",
              "    }\n",
              "  </style>\n",
              "\n",
              "      <script>\n",
              "        const buttonEl =\n",
              "          document.querySelector('#df-33e3ac69-7f1c-4901-9e12-101dc2b40064 button.colab-df-convert');\n",
              "        buttonEl.style.display =\n",
              "          google.colab.kernel.accessAllowed ? 'block' : 'none';\n",
              "\n",
              "        async function convertToInteractive(key) {\n",
              "          const element = document.querySelector('#df-33e3ac69-7f1c-4901-9e12-101dc2b40064');\n",
              "          const dataTable =\n",
              "            await google.colab.kernel.invokeFunction('convertToInteractive',\n",
              "                                                     [key], {});\n",
              "          if (!dataTable) return;\n",
              "\n",
              "          const docLinkHtml = 'Like what you see? Visit the ' +\n",
              "            '<a target=\"_blank\" href=https://colab.research.google.com/notebooks/data_table.ipynb>data table notebook</a>'\n",
              "            + ' to learn more about interactive tables.';\n",
              "          element.innerHTML = '';\n",
              "          dataTable['output_type'] = 'display_data';\n",
              "          await google.colab.output.renderOutput(dataTable, element);\n",
              "          const docLink = document.createElement('div');\n",
              "          docLink.innerHTML = docLinkHtml;\n",
              "          element.appendChild(docLink);\n",
              "        }\n",
              "      </script>\n",
              "    </div>\n",
              "  </div>\n",
              "  "
            ]
          },
          "metadata": {},
          "execution_count": 67
        }
      ],
      "source": [
        "fin7.head(3)"
      ]
    },
    {
      "cell_type": "code",
      "source": [],
      "metadata": {
        "id": "DH06MFG6nWQi"
      },
      "execution_count": 67,
      "outputs": []
    },
    {
      "cell_type": "markdown",
      "metadata": {
        "id": "eehY9Ti-JRNZ"
      },
      "source": [
        "# **Connecting recurring hospital pm history data with equipment data to query based on specific devices**"
      ]
    },
    {
      "cell_type": "code",
      "execution_count": 68,
      "metadata": {
        "id": "zN_eR6ySN7c1"
      },
      "outputs": [],
      "source": [
        "recurring_hos1.set_index('InventarierID',inplace=True,drop=False)"
      ]
    },
    {
      "cell_type": "code",
      "execution_count": 69,
      "metadata": {
        "id": "LWh08uAFPbi2",
        "colab": {
          "base_uri": "https://localhost:8080/",
          "height": 0
        },
        "outputId": "9ea85dd2-169c-4270-d4aa-1fadb3bff929"
      },
      "outputs": [
        {
          "output_type": "execute_result",
          "data": {
            "text/plain": [
              "              (No column name)     ID  intTimeInterval  PM_TimeIntervalUnitID  \\\n",
              "InventarierID                                                                   \n",
              "65129               2011-04-03  27837             24.0                    2.0   \n",
              "65375               2011-04-03  28001             24.0                    2.0   \n",
              "65657               2011-04-03  28245             12.0                    2.0   \n",
              "\n",
              "               PM_TimeIntervalUnitIDRecommended  InventarierID  ArborderID  \\\n",
              "InventarierID                                                                \n",
              "65129                                       NaN          65129         NaN   \n",
              "65375                                       NaN          65375         NaN   \n",
              "65657                                       NaN          65657         NaN   \n",
              "\n",
              "               DeviatingTimeIntervalRecommended  PM_diff  \n",
              "InventarierID                                             \n",
              "65129                                         1     3579  \n",
              "65375                                         1     2573  \n",
              "65657                                         1     2823  "
            ],
            "text/html": [
              "\n",
              "  <div id=\"df-4677a954-523c-483e-bc2f-a4be6d9e01d1\">\n",
              "    <div class=\"colab-df-container\">\n",
              "      <div>\n",
              "<style scoped>\n",
              "    .dataframe tbody tr th:only-of-type {\n",
              "        vertical-align: middle;\n",
              "    }\n",
              "\n",
              "    .dataframe tbody tr th {\n",
              "        vertical-align: top;\n",
              "    }\n",
              "\n",
              "    .dataframe thead th {\n",
              "        text-align: right;\n",
              "    }\n",
              "</style>\n",
              "<table border=\"1\" class=\"dataframe\">\n",
              "  <thead>\n",
              "    <tr style=\"text-align: right;\">\n",
              "      <th></th>\n",
              "      <th>(No column name)</th>\n",
              "      <th>ID</th>\n",
              "      <th>intTimeInterval</th>\n",
              "      <th>PM_TimeIntervalUnitID</th>\n",
              "      <th>PM_TimeIntervalUnitIDRecommended</th>\n",
              "      <th>InventarierID</th>\n",
              "      <th>ArborderID</th>\n",
              "      <th>DeviatingTimeIntervalRecommended</th>\n",
              "      <th>PM_diff</th>\n",
              "    </tr>\n",
              "    <tr>\n",
              "      <th>InventarierID</th>\n",
              "      <th></th>\n",
              "      <th></th>\n",
              "      <th></th>\n",
              "      <th></th>\n",
              "      <th></th>\n",
              "      <th></th>\n",
              "      <th></th>\n",
              "      <th></th>\n",
              "      <th></th>\n",
              "    </tr>\n",
              "  </thead>\n",
              "  <tbody>\n",
              "    <tr>\n",
              "      <th>65129</th>\n",
              "      <td>2011-04-03</td>\n",
              "      <td>27837</td>\n",
              "      <td>24.0</td>\n",
              "      <td>2.0</td>\n",
              "      <td>NaN</td>\n",
              "      <td>65129</td>\n",
              "      <td>NaN</td>\n",
              "      <td>1</td>\n",
              "      <td>3579</td>\n",
              "    </tr>\n",
              "    <tr>\n",
              "      <th>65375</th>\n",
              "      <td>2011-04-03</td>\n",
              "      <td>28001</td>\n",
              "      <td>24.0</td>\n",
              "      <td>2.0</td>\n",
              "      <td>NaN</td>\n",
              "      <td>65375</td>\n",
              "      <td>NaN</td>\n",
              "      <td>1</td>\n",
              "      <td>2573</td>\n",
              "    </tr>\n",
              "    <tr>\n",
              "      <th>65657</th>\n",
              "      <td>2011-04-03</td>\n",
              "      <td>28245</td>\n",
              "      <td>12.0</td>\n",
              "      <td>2.0</td>\n",
              "      <td>NaN</td>\n",
              "      <td>65657</td>\n",
              "      <td>NaN</td>\n",
              "      <td>1</td>\n",
              "      <td>2823</td>\n",
              "    </tr>\n",
              "  </tbody>\n",
              "</table>\n",
              "</div>\n",
              "      <button class=\"colab-df-convert\" onclick=\"convertToInteractive('df-4677a954-523c-483e-bc2f-a4be6d9e01d1')\"\n",
              "              title=\"Convert this dataframe to an interactive table.\"\n",
              "              style=\"display:none;\">\n",
              "        \n",
              "  <svg xmlns=\"http://www.w3.org/2000/svg\" height=\"24px\"viewBox=\"0 0 24 24\"\n",
              "       width=\"24px\">\n",
              "    <path d=\"M0 0h24v24H0V0z\" fill=\"none\"/>\n",
              "    <path d=\"M18.56 5.44l.94 2.06.94-2.06 2.06-.94-2.06-.94-.94-2.06-.94 2.06-2.06.94zm-11 1L8.5 8.5l.94-2.06 2.06-.94-2.06-.94L8.5 2.5l-.94 2.06-2.06.94zm10 10l.94 2.06.94-2.06 2.06-.94-2.06-.94-.94-2.06-.94 2.06-2.06.94z\"/><path d=\"M17.41 7.96l-1.37-1.37c-.4-.4-.92-.59-1.43-.59-.52 0-1.04.2-1.43.59L10.3 9.45l-7.72 7.72c-.78.78-.78 2.05 0 2.83L4 21.41c.39.39.9.59 1.41.59.51 0 1.02-.2 1.41-.59l7.78-7.78 2.81-2.81c.8-.78.8-2.07 0-2.86zM5.41 20L4 18.59l7.72-7.72 1.47 1.35L5.41 20z\"/>\n",
              "  </svg>\n",
              "      </button>\n",
              "      \n",
              "  <style>\n",
              "    .colab-df-container {\n",
              "      display:flex;\n",
              "      flex-wrap:wrap;\n",
              "      gap: 12px;\n",
              "    }\n",
              "\n",
              "    .colab-df-convert {\n",
              "      background-color: #E8F0FE;\n",
              "      border: none;\n",
              "      border-radius: 50%;\n",
              "      cursor: pointer;\n",
              "      display: none;\n",
              "      fill: #1967D2;\n",
              "      height: 32px;\n",
              "      padding: 0 0 0 0;\n",
              "      width: 32px;\n",
              "    }\n",
              "\n",
              "    .colab-df-convert:hover {\n",
              "      background-color: #E2EBFA;\n",
              "      box-shadow: 0px 1px 2px rgba(60, 64, 67, 0.3), 0px 1px 3px 1px rgba(60, 64, 67, 0.15);\n",
              "      fill: #174EA6;\n",
              "    }\n",
              "\n",
              "    [theme=dark] .colab-df-convert {\n",
              "      background-color: #3B4455;\n",
              "      fill: #D2E3FC;\n",
              "    }\n",
              "\n",
              "    [theme=dark] .colab-df-convert:hover {\n",
              "      background-color: #434B5C;\n",
              "      box-shadow: 0px 1px 3px 1px rgba(0, 0, 0, 0.15);\n",
              "      filter: drop-shadow(0px 1px 2px rgba(0, 0, 0, 0.3));\n",
              "      fill: #FFFFFF;\n",
              "    }\n",
              "  </style>\n",
              "\n",
              "      <script>\n",
              "        const buttonEl =\n",
              "          document.querySelector('#df-4677a954-523c-483e-bc2f-a4be6d9e01d1 button.colab-df-convert');\n",
              "        buttonEl.style.display =\n",
              "          google.colab.kernel.accessAllowed ? 'block' : 'none';\n",
              "\n",
              "        async function convertToInteractive(key) {\n",
              "          const element = document.querySelector('#df-4677a954-523c-483e-bc2f-a4be6d9e01d1');\n",
              "          const dataTable =\n",
              "            await google.colab.kernel.invokeFunction('convertToInteractive',\n",
              "                                                     [key], {});\n",
              "          if (!dataTable) return;\n",
              "\n",
              "          const docLinkHtml = 'Like what you see? Visit the ' +\n",
              "            '<a target=\"_blank\" href=https://colab.research.google.com/notebooks/data_table.ipynb>data table notebook</a>'\n",
              "            + ' to learn more about interactive tables.';\n",
              "          element.innerHTML = '';\n",
              "          dataTable['output_type'] = 'display_data';\n",
              "          await google.colab.output.renderOutput(dataTable, element);\n",
              "          const docLink = document.createElement('div');\n",
              "          docLink.innerHTML = docLinkHtml;\n",
              "          element.appendChild(docLink);\n",
              "        }\n",
              "      </script>\n",
              "    </div>\n",
              "  </div>\n",
              "  "
            ]
          },
          "metadata": {},
          "execution_count": 69
        }
      ],
      "source": [
        "recurring_hos1.head(3)"
      ]
    },
    {
      "cell_type": "code",
      "execution_count": 70,
      "metadata": {
        "id": "2QCdEoFKJhVd"
      },
      "outputs": [],
      "source": [
        "pmhist_eq=pd.merge(fin,recurring_hos1,left_index=True,right_index=True)"
      ]
    },
    {
      "cell_type": "code",
      "execution_count": 71,
      "metadata": {
        "id": "k6AGfuZDSTxt",
        "colab": {
          "base_uri": "https://localhost:8080/"
        },
        "outputId": "21a4adfe-f96f-43c3-a65b-c6b016310d67"
      },
      "outputs": [
        {
          "output_type": "execute_result",
          "data": {
            "text/plain": [
              "(86612, 17)"
            ]
          },
          "metadata": {},
          "execution_count": 71
        }
      ],
      "source": [
        "pmhist_eq.shape"
      ]
    },
    {
      "cell_type": "code",
      "execution_count": 72,
      "metadata": {
        "id": "sk41cQIJxoii"
      },
      "outputs": [],
      "source": [
        "deviate_hos1=pmhist_eq.loc[pmhist_eq['DeviatingTimeIntervalRecommended'] == 1]"
      ]
    },
    {
      "cell_type": "code",
      "execution_count": 73,
      "metadata": {
        "id": "1i_TZvkYzYzr",
        "colab": {
          "base_uri": "https://localhost:8080/",
          "height": 0
        },
        "outputId": "9b07e0fa-bce3-4227-fc1b-4cdbeb584246"
      },
      "outputs": [
        {
          "output_type": "execute_result",
          "data": {
            "text/plain": [
              "           InvNr           Equip.reg_date            Scrapped_date    ID_x  \\\n",
              "17500    9004181  2007-01-01 00:00:00.000  2013-11-13 00:00:00.000   17500   \n",
              "17635   R1273-01  1998-01-01 00:00:00.000  2009-12-15 00:00:00.000   17635   \n",
              "65129    C105-66  1991-01-01 00:00:00.000  2003-12-15 00:00:00.000   65129   \n",
              "65130    C105-67  1991-01-01 00:00:00.000  2006-04-03 00:00:00.000   65130   \n",
              "65131    C105-68  1991-01-01 00:00:00.000  2006-08-21 00:00:00.000   65131   \n",
              "...          ...                      ...                      ...     ...   \n",
              "252318    000887  2009-12-12 00:00:00.000  2012-08-29 00:00:00.000  252318   \n",
              "252318    000887  2009-12-12 00:00:00.000  2012-08-29 00:00:00.000  252318   \n",
              "252599    002523  2012-02-23 00:00:00.000  2016-11-07 00:00:00.000  252599   \n",
              "252706    002531  2012-09-13 00:00:00.000  2021-05-31 00:00:00.000  252706   \n",
              "254524   E403-35  1900-01-01 00:00:00.000  2022-01-19 00:00:00.000  254524   \n",
              "\n",
              "                                             dev            Brand  \\\n",
              "17500                             Lungröntgenlab             Fuji   \n",
              "17635                 Undersökningsstativ/system          Siemens   \n",
              "65129                              Infusionspump  Cardinal Health   \n",
              "65130                              Infusionspump  Cardinal Health   \n",
              "65131                              Infusionspump  Cardinal Health   \n",
              "...                                          ...              ...   \n",
              "252318                                 Projektor               LG   \n",
              "252318                                 Projektor               LG   \n",
              "252599  Dator, bärbar/surfplatta (Medical grade)             Dell   \n",
              "252706  Dator, bärbar/surfplatta (Medical grade)             Dell   \n",
              "254524               Mikroskop Korneal-Hornhinne      Haag-Streit   \n",
              "\n",
              "                   Model  calc.Risk (No column name)     ID_y  \\\n",
              "17500           Velocity       31.0       2011-02-28     7800   \n",
              "17635   Siemens Symphony       31.0       2011-02-28     7838   \n",
              "65129           IVAC 561       31.0       2011-04-03    27837   \n",
              "65130           IVAC 561       31.0       2011-04-03    27838   \n",
              "65131           IVAC 561       31.0       2011-04-03    27839   \n",
              "...                  ...        ...              ...      ...   \n",
              "252318             DX630       31.0       2012-02-16  1590757   \n",
              "252318             DX630       31.0       2012-02-16  1590787   \n",
              "252599    Latitude E6320       31.0       2016-11-07  1590800   \n",
              "252706    Latitude E6230       31.0       2016-02-09  1590775   \n",
              "254524            900 BM       31.0       2009-03-10  1590721   \n",
              "\n",
              "        intTimeInterval  PM_TimeIntervalUnitID  \\\n",
              "17500              12.0                    2.0   \n",
              "17635              12.0                    2.0   \n",
              "65129              24.0                    2.0   \n",
              "65130              24.0                    2.0   \n",
              "65131              24.0                    2.0   \n",
              "...                 ...                    ...   \n",
              "252318              6.0                    2.0   \n",
              "252318              6.0                    2.0   \n",
              "252599             12.0                    2.0   \n",
              "252706             12.0                    2.0   \n",
              "254524             24.0                    2.0   \n",
              "\n",
              "        PM_TimeIntervalUnitIDRecommended  InventarierID  ArborderID  \\\n",
              "17500                                NaN          17500         NaN   \n",
              "17635                                NaN          17635         NaN   \n",
              "65129                                NaN          65129         NaN   \n",
              "65130                                NaN          65130         NaN   \n",
              "65131                                NaN          65131         NaN   \n",
              "...                                  ...            ...         ...   \n",
              "252318                               NaN         252318   1160730.0   \n",
              "252318                               NaN         252318   1160731.0   \n",
              "252599                               2.0         252599   1160873.0   \n",
              "252706                               NaN         252706   1160880.0   \n",
              "254524                               NaN         254524   1160629.0   \n",
              "\n",
              "        DeviatingTimeIntervalRecommended  PM_diff  \n",
              "17500                                  1     4112  \n",
              "17635                                  1     1873  \n",
              "65129                                  1     3579  \n",
              "65130                                  1     2078  \n",
              "65131                                  1     2497  \n",
              "...                                  ...      ...  \n",
              "252318                                 1        0  \n",
              "252318                                 1        0  \n",
              "252599                                 1        0  \n",
              "252706                                 1        0  \n",
              "254524                                 1        0  \n",
              "\n",
              "[75186 rows x 17 columns]"
            ],
            "text/html": [
              "\n",
              "  <div id=\"df-5e5f8e67-96f6-4644-b875-bf44a3de7cf7\">\n",
              "    <div class=\"colab-df-container\">\n",
              "      <div>\n",
              "<style scoped>\n",
              "    .dataframe tbody tr th:only-of-type {\n",
              "        vertical-align: middle;\n",
              "    }\n",
              "\n",
              "    .dataframe tbody tr th {\n",
              "        vertical-align: top;\n",
              "    }\n",
              "\n",
              "    .dataframe thead th {\n",
              "        text-align: right;\n",
              "    }\n",
              "</style>\n",
              "<table border=\"1\" class=\"dataframe\">\n",
              "  <thead>\n",
              "    <tr style=\"text-align: right;\">\n",
              "      <th></th>\n",
              "      <th>InvNr</th>\n",
              "      <th>Equip.reg_date</th>\n",
              "      <th>Scrapped_date</th>\n",
              "      <th>ID_x</th>\n",
              "      <th>dev</th>\n",
              "      <th>Brand</th>\n",
              "      <th>Model</th>\n",
              "      <th>calc.Risk</th>\n",
              "      <th>(No column name)</th>\n",
              "      <th>ID_y</th>\n",
              "      <th>intTimeInterval</th>\n",
              "      <th>PM_TimeIntervalUnitID</th>\n",
              "      <th>PM_TimeIntervalUnitIDRecommended</th>\n",
              "      <th>InventarierID</th>\n",
              "      <th>ArborderID</th>\n",
              "      <th>DeviatingTimeIntervalRecommended</th>\n",
              "      <th>PM_diff</th>\n",
              "    </tr>\n",
              "  </thead>\n",
              "  <tbody>\n",
              "    <tr>\n",
              "      <th>17500</th>\n",
              "      <td>9004181</td>\n",
              "      <td>2007-01-01 00:00:00.000</td>\n",
              "      <td>2013-11-13 00:00:00.000</td>\n",
              "      <td>17500</td>\n",
              "      <td>Lungröntgenlab</td>\n",
              "      <td>Fuji</td>\n",
              "      <td>Velocity</td>\n",
              "      <td>31.0</td>\n",
              "      <td>2011-02-28</td>\n",
              "      <td>7800</td>\n",
              "      <td>12.0</td>\n",
              "      <td>2.0</td>\n",
              "      <td>NaN</td>\n",
              "      <td>17500</td>\n",
              "      <td>NaN</td>\n",
              "      <td>1</td>\n",
              "      <td>4112</td>\n",
              "    </tr>\n",
              "    <tr>\n",
              "      <th>17635</th>\n",
              "      <td>R1273-01</td>\n",
              "      <td>1998-01-01 00:00:00.000</td>\n",
              "      <td>2009-12-15 00:00:00.000</td>\n",
              "      <td>17635</td>\n",
              "      <td>Undersökningsstativ/system</td>\n",
              "      <td>Siemens</td>\n",
              "      <td>Siemens Symphony</td>\n",
              "      <td>31.0</td>\n",
              "      <td>2011-02-28</td>\n",
              "      <td>7838</td>\n",
              "      <td>12.0</td>\n",
              "      <td>2.0</td>\n",
              "      <td>NaN</td>\n",
              "      <td>17635</td>\n",
              "      <td>NaN</td>\n",
              "      <td>1</td>\n",
              "      <td>1873</td>\n",
              "    </tr>\n",
              "    <tr>\n",
              "      <th>65129</th>\n",
              "      <td>C105-66</td>\n",
              "      <td>1991-01-01 00:00:00.000</td>\n",
              "      <td>2003-12-15 00:00:00.000</td>\n",
              "      <td>65129</td>\n",
              "      <td>Infusionspump</td>\n",
              "      <td>Cardinal Health</td>\n",
              "      <td>IVAC 561</td>\n",
              "      <td>31.0</td>\n",
              "      <td>2011-04-03</td>\n",
              "      <td>27837</td>\n",
              "      <td>24.0</td>\n",
              "      <td>2.0</td>\n",
              "      <td>NaN</td>\n",
              "      <td>65129</td>\n",
              "      <td>NaN</td>\n",
              "      <td>1</td>\n",
              "      <td>3579</td>\n",
              "    </tr>\n",
              "    <tr>\n",
              "      <th>65130</th>\n",
              "      <td>C105-67</td>\n",
              "      <td>1991-01-01 00:00:00.000</td>\n",
              "      <td>2006-04-03 00:00:00.000</td>\n",
              "      <td>65130</td>\n",
              "      <td>Infusionspump</td>\n",
              "      <td>Cardinal Health</td>\n",
              "      <td>IVAC 561</td>\n",
              "      <td>31.0</td>\n",
              "      <td>2011-04-03</td>\n",
              "      <td>27838</td>\n",
              "      <td>24.0</td>\n",
              "      <td>2.0</td>\n",
              "      <td>NaN</td>\n",
              "      <td>65130</td>\n",
              "      <td>NaN</td>\n",
              "      <td>1</td>\n",
              "      <td>2078</td>\n",
              "    </tr>\n",
              "    <tr>\n",
              "      <th>65131</th>\n",
              "      <td>C105-68</td>\n",
              "      <td>1991-01-01 00:00:00.000</td>\n",
              "      <td>2006-08-21 00:00:00.000</td>\n",
              "      <td>65131</td>\n",
              "      <td>Infusionspump</td>\n",
              "      <td>Cardinal Health</td>\n",
              "      <td>IVAC 561</td>\n",
              "      <td>31.0</td>\n",
              "      <td>2011-04-03</td>\n",
              "      <td>27839</td>\n",
              "      <td>24.0</td>\n",
              "      <td>2.0</td>\n",
              "      <td>NaN</td>\n",
              "      <td>65131</td>\n",
              "      <td>NaN</td>\n",
              "      <td>1</td>\n",
              "      <td>2497</td>\n",
              "    </tr>\n",
              "    <tr>\n",
              "      <th>...</th>\n",
              "      <td>...</td>\n",
              "      <td>...</td>\n",
              "      <td>...</td>\n",
              "      <td>...</td>\n",
              "      <td>...</td>\n",
              "      <td>...</td>\n",
              "      <td>...</td>\n",
              "      <td>...</td>\n",
              "      <td>...</td>\n",
              "      <td>...</td>\n",
              "      <td>...</td>\n",
              "      <td>...</td>\n",
              "      <td>...</td>\n",
              "      <td>...</td>\n",
              "      <td>...</td>\n",
              "      <td>...</td>\n",
              "      <td>...</td>\n",
              "    </tr>\n",
              "    <tr>\n",
              "      <th>252318</th>\n",
              "      <td>000887</td>\n",
              "      <td>2009-12-12 00:00:00.000</td>\n",
              "      <td>2012-08-29 00:00:00.000</td>\n",
              "      <td>252318</td>\n",
              "      <td>Projektor</td>\n",
              "      <td>LG</td>\n",
              "      <td>DX630</td>\n",
              "      <td>31.0</td>\n",
              "      <td>2012-02-16</td>\n",
              "      <td>1590757</td>\n",
              "      <td>6.0</td>\n",
              "      <td>2.0</td>\n",
              "      <td>NaN</td>\n",
              "      <td>252318</td>\n",
              "      <td>1160730.0</td>\n",
              "      <td>1</td>\n",
              "      <td>0</td>\n",
              "    </tr>\n",
              "    <tr>\n",
              "      <th>252318</th>\n",
              "      <td>000887</td>\n",
              "      <td>2009-12-12 00:00:00.000</td>\n",
              "      <td>2012-08-29 00:00:00.000</td>\n",
              "      <td>252318</td>\n",
              "      <td>Projektor</td>\n",
              "      <td>LG</td>\n",
              "      <td>DX630</td>\n",
              "      <td>31.0</td>\n",
              "      <td>2012-02-16</td>\n",
              "      <td>1590787</td>\n",
              "      <td>6.0</td>\n",
              "      <td>2.0</td>\n",
              "      <td>NaN</td>\n",
              "      <td>252318</td>\n",
              "      <td>1160731.0</td>\n",
              "      <td>1</td>\n",
              "      <td>0</td>\n",
              "    </tr>\n",
              "    <tr>\n",
              "      <th>252599</th>\n",
              "      <td>002523</td>\n",
              "      <td>2012-02-23 00:00:00.000</td>\n",
              "      <td>2016-11-07 00:00:00.000</td>\n",
              "      <td>252599</td>\n",
              "      <td>Dator, bärbar/surfplatta (Medical grade)</td>\n",
              "      <td>Dell</td>\n",
              "      <td>Latitude E6320</td>\n",
              "      <td>31.0</td>\n",
              "      <td>2016-11-07</td>\n",
              "      <td>1590800</td>\n",
              "      <td>12.0</td>\n",
              "      <td>2.0</td>\n",
              "      <td>2.0</td>\n",
              "      <td>252599</td>\n",
              "      <td>1160873.0</td>\n",
              "      <td>1</td>\n",
              "      <td>0</td>\n",
              "    </tr>\n",
              "    <tr>\n",
              "      <th>252706</th>\n",
              "      <td>002531</td>\n",
              "      <td>2012-09-13 00:00:00.000</td>\n",
              "      <td>2021-05-31 00:00:00.000</td>\n",
              "      <td>252706</td>\n",
              "      <td>Dator, bärbar/surfplatta (Medical grade)</td>\n",
              "      <td>Dell</td>\n",
              "      <td>Latitude E6230</td>\n",
              "      <td>31.0</td>\n",
              "      <td>2016-02-09</td>\n",
              "      <td>1590775</td>\n",
              "      <td>12.0</td>\n",
              "      <td>2.0</td>\n",
              "      <td>NaN</td>\n",
              "      <td>252706</td>\n",
              "      <td>1160880.0</td>\n",
              "      <td>1</td>\n",
              "      <td>0</td>\n",
              "    </tr>\n",
              "    <tr>\n",
              "      <th>254524</th>\n",
              "      <td>E403-35</td>\n",
              "      <td>1900-01-01 00:00:00.000</td>\n",
              "      <td>2022-01-19 00:00:00.000</td>\n",
              "      <td>254524</td>\n",
              "      <td>Mikroskop Korneal-Hornhinne</td>\n",
              "      <td>Haag-Streit</td>\n",
              "      <td>900 BM</td>\n",
              "      <td>31.0</td>\n",
              "      <td>2009-03-10</td>\n",
              "      <td>1590721</td>\n",
              "      <td>24.0</td>\n",
              "      <td>2.0</td>\n",
              "      <td>NaN</td>\n",
              "      <td>254524</td>\n",
              "      <td>1160629.0</td>\n",
              "      <td>1</td>\n",
              "      <td>0</td>\n",
              "    </tr>\n",
              "  </tbody>\n",
              "</table>\n",
              "<p>75186 rows × 17 columns</p>\n",
              "</div>\n",
              "      <button class=\"colab-df-convert\" onclick=\"convertToInteractive('df-5e5f8e67-96f6-4644-b875-bf44a3de7cf7')\"\n",
              "              title=\"Convert this dataframe to an interactive table.\"\n",
              "              style=\"display:none;\">\n",
              "        \n",
              "  <svg xmlns=\"http://www.w3.org/2000/svg\" height=\"24px\"viewBox=\"0 0 24 24\"\n",
              "       width=\"24px\">\n",
              "    <path d=\"M0 0h24v24H0V0z\" fill=\"none\"/>\n",
              "    <path d=\"M18.56 5.44l.94 2.06.94-2.06 2.06-.94-2.06-.94-.94-2.06-.94 2.06-2.06.94zm-11 1L8.5 8.5l.94-2.06 2.06-.94-2.06-.94L8.5 2.5l-.94 2.06-2.06.94zm10 10l.94 2.06.94-2.06 2.06-.94-2.06-.94-.94-2.06-.94 2.06-2.06.94z\"/><path d=\"M17.41 7.96l-1.37-1.37c-.4-.4-.92-.59-1.43-.59-.52 0-1.04.2-1.43.59L10.3 9.45l-7.72 7.72c-.78.78-.78 2.05 0 2.83L4 21.41c.39.39.9.59 1.41.59.51 0 1.02-.2 1.41-.59l7.78-7.78 2.81-2.81c.8-.78.8-2.07 0-2.86zM5.41 20L4 18.59l7.72-7.72 1.47 1.35L5.41 20z\"/>\n",
              "  </svg>\n",
              "      </button>\n",
              "      \n",
              "  <style>\n",
              "    .colab-df-container {\n",
              "      display:flex;\n",
              "      flex-wrap:wrap;\n",
              "      gap: 12px;\n",
              "    }\n",
              "\n",
              "    .colab-df-convert {\n",
              "      background-color: #E8F0FE;\n",
              "      border: none;\n",
              "      border-radius: 50%;\n",
              "      cursor: pointer;\n",
              "      display: none;\n",
              "      fill: #1967D2;\n",
              "      height: 32px;\n",
              "      padding: 0 0 0 0;\n",
              "      width: 32px;\n",
              "    }\n",
              "\n",
              "    .colab-df-convert:hover {\n",
              "      background-color: #E2EBFA;\n",
              "      box-shadow: 0px 1px 2px rgba(60, 64, 67, 0.3), 0px 1px 3px 1px rgba(60, 64, 67, 0.15);\n",
              "      fill: #174EA6;\n",
              "    }\n",
              "\n",
              "    [theme=dark] .colab-df-convert {\n",
              "      background-color: #3B4455;\n",
              "      fill: #D2E3FC;\n",
              "    }\n",
              "\n",
              "    [theme=dark] .colab-df-convert:hover {\n",
              "      background-color: #434B5C;\n",
              "      box-shadow: 0px 1px 3px 1px rgba(0, 0, 0, 0.15);\n",
              "      filter: drop-shadow(0px 1px 2px rgba(0, 0, 0, 0.3));\n",
              "      fill: #FFFFFF;\n",
              "    }\n",
              "  </style>\n",
              "\n",
              "      <script>\n",
              "        const buttonEl =\n",
              "          document.querySelector('#df-5e5f8e67-96f6-4644-b875-bf44a3de7cf7 button.colab-df-convert');\n",
              "        buttonEl.style.display =\n",
              "          google.colab.kernel.accessAllowed ? 'block' : 'none';\n",
              "\n",
              "        async function convertToInteractive(key) {\n",
              "          const element = document.querySelector('#df-5e5f8e67-96f6-4644-b875-bf44a3de7cf7');\n",
              "          const dataTable =\n",
              "            await google.colab.kernel.invokeFunction('convertToInteractive',\n",
              "                                                     [key], {});\n",
              "          if (!dataTable) return;\n",
              "\n",
              "          const docLinkHtml = 'Like what you see? Visit the ' +\n",
              "            '<a target=\"_blank\" href=https://colab.research.google.com/notebooks/data_table.ipynb>data table notebook</a>'\n",
              "            + ' to learn more about interactive tables.';\n",
              "          element.innerHTML = '';\n",
              "          dataTable['output_type'] = 'display_data';\n",
              "          await google.colab.output.renderOutput(dataTable, element);\n",
              "          const docLink = document.createElement('div');\n",
              "          docLink.innerHTML = docLinkHtml;\n",
              "          element.appendChild(docLink);\n",
              "        }\n",
              "      </script>\n",
              "    </div>\n",
              "  </div>\n",
              "  "
            ]
          },
          "metadata": {},
          "execution_count": 73
        }
      ],
      "source": [
        "deviate_hos1"
      ]
    },
    {
      "cell_type": "code",
      "execution_count": 74,
      "metadata": {
        "id": "qI7M8jzO0FtN"
      },
      "outputs": [],
      "source": [
        "deviate_hos1.drop(columns=['DeviatingTimeIntervalRecommended'],inplace=True)"
      ]
    },
    {
      "cell_type": "code",
      "execution_count": 75,
      "metadata": {
        "id": "L8wVv3hm1MCa",
        "colab": {
          "base_uri": "https://localhost:8080/"
        },
        "outputId": "3cd248fa-9de1-4c59-c725-e5d86e8d66fc"
      },
      "outputs": [
        {
          "output_type": "execute_result",
          "data": {
            "text/plain": [
              "(75186, 16)"
            ]
          },
          "metadata": {},
          "execution_count": 75
        }
      ],
      "source": [
        "deviate_hos1.shape"
      ]
    },
    {
      "cell_type": "code",
      "execution_count": 76,
      "metadata": {
        "id": "sWKRBTej1WtN"
      },
      "outputs": [],
      "source": [
        "non_deviatehos1=pmhist_eq.loc[pmhist_eq['DeviatingTimeIntervalRecommended']==0]"
      ]
    },
    {
      "cell_type": "code",
      "execution_count": 77,
      "metadata": {
        "id": "yC0Phcgx3GOW",
        "colab": {
          "base_uri": "https://localhost:8080/",
          "height": 0
        },
        "outputId": "15a3dcbf-5a2f-4cc0-d927-63018dcf429f"
      },
      "outputs": [
        {
          "output_type": "execute_result",
          "data": {
            "text/plain": [
              "           InvNr           Equip.reg_date            Scrapped_date    ID_x  \\\n",
              "39879    9004189  2008-01-01 00:00:00.000  2021-09-21 00:00:00.000   39879   \n",
              "41575    9045655  2011-01-01 00:00:00.000  2021-12-20 00:00:00.000   41575   \n",
              "41575    9045655  2011-01-01 00:00:00.000  2021-12-20 00:00:00.000   41575   \n",
              "41575    9045655  2011-01-01 00:00:00.000  2021-12-20 00:00:00.000   41575   \n",
              "41575    9045655  2011-01-01 00:00:00.000  2021-12-20 00:00:00.000   41575   \n",
              "...          ...                      ...                      ...     ...   \n",
              "300077  1984-881  2019-08-14 00:00:00.000  2022-02-17 00:00:00.000  300077   \n",
              "301900    351114  2001-03-04 00:00:00.000  2021-10-05 00:00:00.000  301900   \n",
              "301957    351171  2008-04-24 00:00:00.000  2021-10-05 00:00:00.000  301957   \n",
              "301957    351171  2008-04-24 00:00:00.000  2021-10-05 00:00:00.000  301957   \n",
              "305767  3645-001  2021-07-14 00:00:00.000  2021-10-12 00:00:00.000  305767   \n",
              "\n",
              "                                                      dev           Brand  \\\n",
              "39879           Ultraljudssystem, bildgivande universellt          Acuson   \n",
              "41575   Röntgensystem för benabsorptionsmätning, dubbe...         Hologic   \n",
              "41575   Röntgensystem för benabsorptionsmätning, dubbe...         Hologic   \n",
              "41575   Röntgensystem för benabsorptionsmätning, dubbe...         Hologic   \n",
              "41575   Röntgensystem för benabsorptionsmätning, dubbe...         Hologic   \n",
              "...                                                   ...             ...   \n",
              "300077                                 Termometer öron IR           Braun   \n",
              "301900                                     Patientsäng el  Proton Caretec   \n",
              "301957                                     Patientsäng el  Proton Caretec   \n",
              "301957                                     Patientsäng el  Proton Caretec   \n",
              "305767      Centrifug, laboratorie, allmän användning IVD           Sigma   \n",
              "\n",
              "                      Model  calc.Risk (No column name)    ID_y  \\\n",
              "39879           Sequoia 512       18.0       2021-03-05  220794   \n",
              "41575           Discovery A       16.0       2021-09-06  216789   \n",
              "41575           Discovery A       16.0       2020-08-13  216789   \n",
              "41575           Discovery A       16.0       2020-05-05  216789   \n",
              "41575           Discovery A       16.0       2021-02-22  216789   \n",
              "...                     ...        ...              ...     ...   \n",
              "300077  ThermoScan Pro 6000       13.0       2022-02-17  236157   \n",
              "301900                10101        6.0       2021-07-13  241464   \n",
              "301957                17603        6.0       2021-08-06  241122   \n",
              "301957                17603        6.0       2021-08-17  241122   \n",
              "305767                  2-7       22.0       2021-10-12  245519   \n",
              "\n",
              "        intTimeInterval  PM_TimeIntervalUnitID  \\\n",
              "39879              12.0                    2.0   \n",
              "41575               6.0                    2.0   \n",
              "41575              12.0                    2.0   \n",
              "41575              12.0                    2.0   \n",
              "41575               6.0                    2.0   \n",
              "...                 ...                    ...   \n",
              "300077             12.0                    2.0   \n",
              "301900             12.0                    2.0   \n",
              "301957             12.0                    2.0   \n",
              "301957             12.0                    2.0   \n",
              "305767             12.0                    2.0   \n",
              "\n",
              "        PM_TimeIntervalUnitIDRecommended  InventarierID  ArborderID  \\\n",
              "39879                                NaN          39879   1360473.0   \n",
              "41575                                NaN          41575   1398455.0   \n",
              "41575                                NaN          41575   1320087.0   \n",
              "41575                                NaN          41575   1300740.0   \n",
              "41575                                NaN          41575   1357755.0   \n",
              "...                                  ...            ...         ...   \n",
              "300077                               2.0         300077   1426779.0   \n",
              "301900                               NaN         301900   1387727.0   \n",
              "301957                               NaN         301957   1392348.0   \n",
              "301957                               NaN         301957   1394217.0   \n",
              "305767                               NaN         305767   1405772.0   \n",
              "\n",
              "        DeviatingTimeIntervalRecommended  PM_diff  \n",
              "39879                                  0        0  \n",
              "41575                                  0       33  \n",
              "41575                                  0        0  \n",
              "41575                                  0      266  \n",
              "41575                                  0       11  \n",
              "...                                  ...      ...  \n",
              "300077                                 0        0  \n",
              "301900                                 0        0  \n",
              "301957                                 0       69  \n",
              "301957                                 0       81  \n",
              "305767                                 0        0  \n",
              "\n",
              "[11426 rows x 17 columns]"
            ],
            "text/html": [
              "\n",
              "  <div id=\"df-2025cd29-4c92-4eb6-9b47-31eb008eadbb\">\n",
              "    <div class=\"colab-df-container\">\n",
              "      <div>\n",
              "<style scoped>\n",
              "    .dataframe tbody tr th:only-of-type {\n",
              "        vertical-align: middle;\n",
              "    }\n",
              "\n",
              "    .dataframe tbody tr th {\n",
              "        vertical-align: top;\n",
              "    }\n",
              "\n",
              "    .dataframe thead th {\n",
              "        text-align: right;\n",
              "    }\n",
              "</style>\n",
              "<table border=\"1\" class=\"dataframe\">\n",
              "  <thead>\n",
              "    <tr style=\"text-align: right;\">\n",
              "      <th></th>\n",
              "      <th>InvNr</th>\n",
              "      <th>Equip.reg_date</th>\n",
              "      <th>Scrapped_date</th>\n",
              "      <th>ID_x</th>\n",
              "      <th>dev</th>\n",
              "      <th>Brand</th>\n",
              "      <th>Model</th>\n",
              "      <th>calc.Risk</th>\n",
              "      <th>(No column name)</th>\n",
              "      <th>ID_y</th>\n",
              "      <th>intTimeInterval</th>\n",
              "      <th>PM_TimeIntervalUnitID</th>\n",
              "      <th>PM_TimeIntervalUnitIDRecommended</th>\n",
              "      <th>InventarierID</th>\n",
              "      <th>ArborderID</th>\n",
              "      <th>DeviatingTimeIntervalRecommended</th>\n",
              "      <th>PM_diff</th>\n",
              "    </tr>\n",
              "  </thead>\n",
              "  <tbody>\n",
              "    <tr>\n",
              "      <th>39879</th>\n",
              "      <td>9004189</td>\n",
              "      <td>2008-01-01 00:00:00.000</td>\n",
              "      <td>2021-09-21 00:00:00.000</td>\n",
              "      <td>39879</td>\n",
              "      <td>Ultraljudssystem, bildgivande universellt</td>\n",
              "      <td>Acuson</td>\n",
              "      <td>Sequoia 512</td>\n",
              "      <td>18.0</td>\n",
              "      <td>2021-03-05</td>\n",
              "      <td>220794</td>\n",
              "      <td>12.0</td>\n",
              "      <td>2.0</td>\n",
              "      <td>NaN</td>\n",
              "      <td>39879</td>\n",
              "      <td>1360473.0</td>\n",
              "      <td>0</td>\n",
              "      <td>0</td>\n",
              "    </tr>\n",
              "    <tr>\n",
              "      <th>41575</th>\n",
              "      <td>9045655</td>\n",
              "      <td>2011-01-01 00:00:00.000</td>\n",
              "      <td>2021-12-20 00:00:00.000</td>\n",
              "      <td>41575</td>\n",
              "      <td>Röntgensystem för benabsorptionsmätning, dubbe...</td>\n",
              "      <td>Hologic</td>\n",
              "      <td>Discovery A</td>\n",
              "      <td>16.0</td>\n",
              "      <td>2021-09-06</td>\n",
              "      <td>216789</td>\n",
              "      <td>6.0</td>\n",
              "      <td>2.0</td>\n",
              "      <td>NaN</td>\n",
              "      <td>41575</td>\n",
              "      <td>1398455.0</td>\n",
              "      <td>0</td>\n",
              "      <td>33</td>\n",
              "    </tr>\n",
              "    <tr>\n",
              "      <th>41575</th>\n",
              "      <td>9045655</td>\n",
              "      <td>2011-01-01 00:00:00.000</td>\n",
              "      <td>2021-12-20 00:00:00.000</td>\n",
              "      <td>41575</td>\n",
              "      <td>Röntgensystem för benabsorptionsmätning, dubbe...</td>\n",
              "      <td>Hologic</td>\n",
              "      <td>Discovery A</td>\n",
              "      <td>16.0</td>\n",
              "      <td>2020-08-13</td>\n",
              "      <td>216789</td>\n",
              "      <td>12.0</td>\n",
              "      <td>2.0</td>\n",
              "      <td>NaN</td>\n",
              "      <td>41575</td>\n",
              "      <td>1320087.0</td>\n",
              "      <td>0</td>\n",
              "      <td>0</td>\n",
              "    </tr>\n",
              "    <tr>\n",
              "      <th>41575</th>\n",
              "      <td>9045655</td>\n",
              "      <td>2011-01-01 00:00:00.000</td>\n",
              "      <td>2021-12-20 00:00:00.000</td>\n",
              "      <td>41575</td>\n",
              "      <td>Röntgensystem för benabsorptionsmätning, dubbe...</td>\n",
              "      <td>Hologic</td>\n",
              "      <td>Discovery A</td>\n",
              "      <td>16.0</td>\n",
              "      <td>2020-05-05</td>\n",
              "      <td>216789</td>\n",
              "      <td>12.0</td>\n",
              "      <td>2.0</td>\n",
              "      <td>NaN</td>\n",
              "      <td>41575</td>\n",
              "      <td>1300740.0</td>\n",
              "      <td>0</td>\n",
              "      <td>266</td>\n",
              "    </tr>\n",
              "    <tr>\n",
              "      <th>41575</th>\n",
              "      <td>9045655</td>\n",
              "      <td>2011-01-01 00:00:00.000</td>\n",
              "      <td>2021-12-20 00:00:00.000</td>\n",
              "      <td>41575</td>\n",
              "      <td>Röntgensystem för benabsorptionsmätning, dubbe...</td>\n",
              "      <td>Hologic</td>\n",
              "      <td>Discovery A</td>\n",
              "      <td>16.0</td>\n",
              "      <td>2021-02-22</td>\n",
              "      <td>216789</td>\n",
              "      <td>6.0</td>\n",
              "      <td>2.0</td>\n",
              "      <td>NaN</td>\n",
              "      <td>41575</td>\n",
              "      <td>1357755.0</td>\n",
              "      <td>0</td>\n",
              "      <td>11</td>\n",
              "    </tr>\n",
              "    <tr>\n",
              "      <th>...</th>\n",
              "      <td>...</td>\n",
              "      <td>...</td>\n",
              "      <td>...</td>\n",
              "      <td>...</td>\n",
              "      <td>...</td>\n",
              "      <td>...</td>\n",
              "      <td>...</td>\n",
              "      <td>...</td>\n",
              "      <td>...</td>\n",
              "      <td>...</td>\n",
              "      <td>...</td>\n",
              "      <td>...</td>\n",
              "      <td>...</td>\n",
              "      <td>...</td>\n",
              "      <td>...</td>\n",
              "      <td>...</td>\n",
              "      <td>...</td>\n",
              "    </tr>\n",
              "    <tr>\n",
              "      <th>300077</th>\n",
              "      <td>1984-881</td>\n",
              "      <td>2019-08-14 00:00:00.000</td>\n",
              "      <td>2022-02-17 00:00:00.000</td>\n",
              "      <td>300077</td>\n",
              "      <td>Termometer öron IR</td>\n",
              "      <td>Braun</td>\n",
              "      <td>ThermoScan Pro 6000</td>\n",
              "      <td>13.0</td>\n",
              "      <td>2022-02-17</td>\n",
              "      <td>236157</td>\n",
              "      <td>12.0</td>\n",
              "      <td>2.0</td>\n",
              "      <td>2.0</td>\n",
              "      <td>300077</td>\n",
              "      <td>1426779.0</td>\n",
              "      <td>0</td>\n",
              "      <td>0</td>\n",
              "    </tr>\n",
              "    <tr>\n",
              "      <th>301900</th>\n",
              "      <td>351114</td>\n",
              "      <td>2001-03-04 00:00:00.000</td>\n",
              "      <td>2021-10-05 00:00:00.000</td>\n",
              "      <td>301900</td>\n",
              "      <td>Patientsäng el</td>\n",
              "      <td>Proton Caretec</td>\n",
              "      <td>10101</td>\n",
              "      <td>6.0</td>\n",
              "      <td>2021-07-13</td>\n",
              "      <td>241464</td>\n",
              "      <td>12.0</td>\n",
              "      <td>2.0</td>\n",
              "      <td>NaN</td>\n",
              "      <td>301900</td>\n",
              "      <td>1387727.0</td>\n",
              "      <td>0</td>\n",
              "      <td>0</td>\n",
              "    </tr>\n",
              "    <tr>\n",
              "      <th>301957</th>\n",
              "      <td>351171</td>\n",
              "      <td>2008-04-24 00:00:00.000</td>\n",
              "      <td>2021-10-05 00:00:00.000</td>\n",
              "      <td>301957</td>\n",
              "      <td>Patientsäng el</td>\n",
              "      <td>Proton Caretec</td>\n",
              "      <td>17603</td>\n",
              "      <td>6.0</td>\n",
              "      <td>2021-08-06</td>\n",
              "      <td>241122</td>\n",
              "      <td>12.0</td>\n",
              "      <td>2.0</td>\n",
              "      <td>NaN</td>\n",
              "      <td>301957</td>\n",
              "      <td>1392348.0</td>\n",
              "      <td>0</td>\n",
              "      <td>69</td>\n",
              "    </tr>\n",
              "    <tr>\n",
              "      <th>301957</th>\n",
              "      <td>351171</td>\n",
              "      <td>2008-04-24 00:00:00.000</td>\n",
              "      <td>2021-10-05 00:00:00.000</td>\n",
              "      <td>301957</td>\n",
              "      <td>Patientsäng el</td>\n",
              "      <td>Proton Caretec</td>\n",
              "      <td>17603</td>\n",
              "      <td>6.0</td>\n",
              "      <td>2021-08-17</td>\n",
              "      <td>241122</td>\n",
              "      <td>12.0</td>\n",
              "      <td>2.0</td>\n",
              "      <td>NaN</td>\n",
              "      <td>301957</td>\n",
              "      <td>1394217.0</td>\n",
              "      <td>0</td>\n",
              "      <td>81</td>\n",
              "    </tr>\n",
              "    <tr>\n",
              "      <th>305767</th>\n",
              "      <td>3645-001</td>\n",
              "      <td>2021-07-14 00:00:00.000</td>\n",
              "      <td>2021-10-12 00:00:00.000</td>\n",
              "      <td>305767</td>\n",
              "      <td>Centrifug, laboratorie, allmän användning IVD</td>\n",
              "      <td>Sigma</td>\n",
              "      <td>2-7</td>\n",
              "      <td>22.0</td>\n",
              "      <td>2021-10-12</td>\n",
              "      <td>245519</td>\n",
              "      <td>12.0</td>\n",
              "      <td>2.0</td>\n",
              "      <td>NaN</td>\n",
              "      <td>305767</td>\n",
              "      <td>1405772.0</td>\n",
              "      <td>0</td>\n",
              "      <td>0</td>\n",
              "    </tr>\n",
              "  </tbody>\n",
              "</table>\n",
              "<p>11426 rows × 17 columns</p>\n",
              "</div>\n",
              "      <button class=\"colab-df-convert\" onclick=\"convertToInteractive('df-2025cd29-4c92-4eb6-9b47-31eb008eadbb')\"\n",
              "              title=\"Convert this dataframe to an interactive table.\"\n",
              "              style=\"display:none;\">\n",
              "        \n",
              "  <svg xmlns=\"http://www.w3.org/2000/svg\" height=\"24px\"viewBox=\"0 0 24 24\"\n",
              "       width=\"24px\">\n",
              "    <path d=\"M0 0h24v24H0V0z\" fill=\"none\"/>\n",
              "    <path d=\"M18.56 5.44l.94 2.06.94-2.06 2.06-.94-2.06-.94-.94-2.06-.94 2.06-2.06.94zm-11 1L8.5 8.5l.94-2.06 2.06-.94-2.06-.94L8.5 2.5l-.94 2.06-2.06.94zm10 10l.94 2.06.94-2.06 2.06-.94-2.06-.94-.94-2.06-.94 2.06-2.06.94z\"/><path d=\"M17.41 7.96l-1.37-1.37c-.4-.4-.92-.59-1.43-.59-.52 0-1.04.2-1.43.59L10.3 9.45l-7.72 7.72c-.78.78-.78 2.05 0 2.83L4 21.41c.39.39.9.59 1.41.59.51 0 1.02-.2 1.41-.59l7.78-7.78 2.81-2.81c.8-.78.8-2.07 0-2.86zM5.41 20L4 18.59l7.72-7.72 1.47 1.35L5.41 20z\"/>\n",
              "  </svg>\n",
              "      </button>\n",
              "      \n",
              "  <style>\n",
              "    .colab-df-container {\n",
              "      display:flex;\n",
              "      flex-wrap:wrap;\n",
              "      gap: 12px;\n",
              "    }\n",
              "\n",
              "    .colab-df-convert {\n",
              "      background-color: #E8F0FE;\n",
              "      border: none;\n",
              "      border-radius: 50%;\n",
              "      cursor: pointer;\n",
              "      display: none;\n",
              "      fill: #1967D2;\n",
              "      height: 32px;\n",
              "      padding: 0 0 0 0;\n",
              "      width: 32px;\n",
              "    }\n",
              "\n",
              "    .colab-df-convert:hover {\n",
              "      background-color: #E2EBFA;\n",
              "      box-shadow: 0px 1px 2px rgba(60, 64, 67, 0.3), 0px 1px 3px 1px rgba(60, 64, 67, 0.15);\n",
              "      fill: #174EA6;\n",
              "    }\n",
              "\n",
              "    [theme=dark] .colab-df-convert {\n",
              "      background-color: #3B4455;\n",
              "      fill: #D2E3FC;\n",
              "    }\n",
              "\n",
              "    [theme=dark] .colab-df-convert:hover {\n",
              "      background-color: #434B5C;\n",
              "      box-shadow: 0px 1px 3px 1px rgba(0, 0, 0, 0.15);\n",
              "      filter: drop-shadow(0px 1px 2px rgba(0, 0, 0, 0.3));\n",
              "      fill: #FFFFFF;\n",
              "    }\n",
              "  </style>\n",
              "\n",
              "      <script>\n",
              "        const buttonEl =\n",
              "          document.querySelector('#df-2025cd29-4c92-4eb6-9b47-31eb008eadbb button.colab-df-convert');\n",
              "        buttonEl.style.display =\n",
              "          google.colab.kernel.accessAllowed ? 'block' : 'none';\n",
              "\n",
              "        async function convertToInteractive(key) {\n",
              "          const element = document.querySelector('#df-2025cd29-4c92-4eb6-9b47-31eb008eadbb');\n",
              "          const dataTable =\n",
              "            await google.colab.kernel.invokeFunction('convertToInteractive',\n",
              "                                                     [key], {});\n",
              "          if (!dataTable) return;\n",
              "\n",
              "          const docLinkHtml = 'Like what you see? Visit the ' +\n",
              "            '<a target=\"_blank\" href=https://colab.research.google.com/notebooks/data_table.ipynb>data table notebook</a>'\n",
              "            + ' to learn more about interactive tables.';\n",
              "          element.innerHTML = '';\n",
              "          dataTable['output_type'] = 'display_data';\n",
              "          await google.colab.output.renderOutput(dataTable, element);\n",
              "          const docLink = document.createElement('div');\n",
              "          docLink.innerHTML = docLinkHtml;\n",
              "          element.appendChild(docLink);\n",
              "        }\n",
              "      </script>\n",
              "    </div>\n",
              "  </div>\n",
              "  "
            ]
          },
          "metadata": {},
          "execution_count": 77
        }
      ],
      "source": [
        "non_deviatehos1"
      ]
    },
    {
      "cell_type": "code",
      "execution_count": 78,
      "metadata": {
        "id": "4DA8iftY4Afe",
        "colab": {
          "base_uri": "https://localhost:8080/"
        },
        "outputId": "6a0663ac-6c19-47b0-d8ce-98f243ccea8d"
      },
      "outputs": [
        {
          "output_type": "execute_result",
          "data": {
            "text/plain": [
              "(11426, 17)"
            ]
          },
          "metadata": {},
          "execution_count": 78
        }
      ],
      "source": [
        "non_deviatehos1.shape"
      ]
    },
    {
      "cell_type": "markdown",
      "metadata": {
        "id": "Aedacy3dTwLa"
      },
      "source": [
        "query our usual devices from those lists of deviated and non-deviated "
      ]
    },
    {
      "cell_type": "markdown",
      "metadata": {
        "id": "P9GvhR3IUx-e"
      },
      "source": [
        "**patient monitor**"
      ]
    },
    {
      "cell_type": "code",
      "execution_count": 79,
      "metadata": {
        "id": "Ux5otxVfT4fE"
      },
      "outputs": [],
      "source": [
        "dev_pa=deviate_hos1.query(\"dev == 'Patientmonitor multiparameter'\")"
      ]
    },
    {
      "cell_type": "code",
      "execution_count": 80,
      "metadata": {
        "id": "w0iJF2ZQVPmj",
        "colab": {
          "base_uri": "https://localhost:8080/"
        },
        "outputId": "0ff385ef-eb7d-4195-8275-fd4a00d38e0b"
      },
      "outputs": [
        {
          "output_type": "execute_result",
          "data": {
            "text/plain": [
              "(6053, 16)"
            ]
          },
          "metadata": {},
          "execution_count": 80
        }
      ],
      "source": [
        "dev_pa.shape"
      ]
    },
    {
      "cell_type": "code",
      "execution_count": 81,
      "metadata": {
        "id": "2jKjQ1E8VXze"
      },
      "outputs": [],
      "source": [
        "nondev_pa=non_deviatehos1.query(\"dev =='patientmonitor multiparameter'\")"
      ]
    },
    {
      "cell_type": "code",
      "execution_count": 82,
      "metadata": {
        "id": "MS66riluWJCq",
        "colab": {
          "base_uri": "https://localhost:8080/"
        },
        "outputId": "041c050d-8622-4274-9547-52a1a0c2cb3c"
      },
      "outputs": [
        {
          "output_type": "execute_result",
          "data": {
            "text/plain": [
              "(0, 17)"
            ]
          },
          "metadata": {},
          "execution_count": 82
        }
      ],
      "source": [
        "nondev_pa.shape"
      ]
    },
    {
      "cell_type": "markdown",
      "metadata": {
        "id": "zCzKyZJxWZrL"
      },
      "source": [
        "**anathesai**"
      ]
    },
    {
      "cell_type": "code",
      "execution_count": 83,
      "metadata": {
        "id": "y95v4kHpWcs_"
      },
      "outputs": [],
      "source": [
        "data50=deviate_hos1.query(\"dev == 'Anestesiarbetsstation'\")\n",
        "data30=ata2=deviate_hos1.query(\"dev == 'Anestesiarbetsstation'\")\n",
        "data35=deviate_hos1.query(\"dev == 'Modul till anestesiarbetsstation'\")\n",
        "data40=deviate_hos1.query(\"dev == 'Anestesimedelsförgasare, isofluran'\")\n",
        "data55=deviate_hos1.query(\"dev == 'Anestesimedel Förgasare'\")\n",
        "data60=deviate_hos1.query(\"dev == 'Anestesiapparat mobil'\")\n",
        "data70=deviate_hos1.query(\"dev == 'Lungventilator anestesi'\")\n",
        "deviatedata_anes = pd.concat([data50, data30,data35,data50, data40, data55, data60, data70], axis=0)"
      ]
    },
    {
      "cell_type": "code",
      "execution_count": 84,
      "metadata": {
        "id": "ykfwgr7KWWVE",
        "colab": {
          "base_uri": "https://localhost:8080/"
        },
        "outputId": "02e13225-138c-43ac-f1f6-9364ee62b18c"
      },
      "outputs": [
        {
          "output_type": "execute_result",
          "data": {
            "text/plain": [
              "(3050, 16)"
            ]
          },
          "metadata": {},
          "execution_count": 84
        }
      ],
      "source": [
        "deviatedata_anes.shape"
      ]
    },
    {
      "cell_type": "code",
      "execution_count": 85,
      "metadata": {
        "id": "XHYyaz2CYWwX"
      },
      "outputs": [],
      "source": [
        "data51=non_deviatehos1.query(\"dev == 'Anestesiarbetsstation'\")\n",
        "data31=ata2=non_deviatehos1.query(\"dev == 'Anestesiarbetsstation'\")\n",
        "data36=deviate_hos1.query(\"dev == 'Modul till anestesiarbetsstation'\")\n",
        "data41=deviate_hos1.query(\"dev == 'Anestesimedelsförgasare, isofluran'\")\n",
        "data56=deviate_hos1.query(\"dev == 'Anestesimedel Förgasare'\")\n",
        "data61=deviate_hos1.query(\"dev == 'Anestesiapparat mobil'\")\n",
        "data71=deviate_hos1.query(\"dev == 'Lungventilator anestesi'\")\n",
        "non_deviatedata_anes = pd.concat([data51, data31,data36,data51, data41, data56, data61, data71], axis=0)"
      ]
    },
    {
      "cell_type": "code",
      "execution_count": 86,
      "metadata": {
        "id": "-BdPcDdqZHyJ",
        "colab": {
          "base_uri": "https://localhost:8080/"
        },
        "outputId": "ed99dacb-cf23-4c94-f537-093848bed8a3"
      },
      "outputs": [
        {
          "output_type": "execute_result",
          "data": {
            "text/plain": [
              "(1247, 17)"
            ]
          },
          "metadata": {},
          "execution_count": 86
        }
      ],
      "source": [
        "non_deviatedata_anes.shape"
      ]
    },
    {
      "cell_type": "markdown",
      "metadata": {
        "id": "D31XnUlW10Zo"
      },
      "source": [
        "**pm overdue**"
      ]
    },
    {
      "cell_type": "code",
      "execution_count": 87,
      "metadata": {
        "id": "F0EhtZ9O2LkY"
      },
      "outputs": [],
      "source": [
        "df5=(r\"/content/drive/MyDrive/Thesis_datasets/New-data-SoftPro/Hospitals1/PM_overdue.csv\")"
      ]
    },
    {
      "cell_type": "code",
      "execution_count": 88,
      "metadata": {
        "id": "sbO4L0G32imv"
      },
      "outputs": [],
      "source": [
        "fin5=read_csv(df5,sep=';',names=['inID','V1','V2','V3'])"
      ]
    },
    {
      "cell_type": "code",
      "execution_count": 89,
      "metadata": {
        "id": "-CO-KAFI2rdz",
        "colab": {
          "base_uri": "https://localhost:8080/",
          "height": 0
        },
        "outputId": "209cc27d-ee52-46d5-8359-a505b1c652e2"
      },
      "outputs": [
        {
          "output_type": "execute_result",
          "data": {
            "text/plain": [
              "     inID  V1  V2  V3\n",
              "0   89667   4   0   1\n",
              "1  140607   6   0   0\n",
              "2   93912   5   0   1"
            ],
            "text/html": [
              "\n",
              "  <div id=\"df-a4034d61-56dc-42a0-b5c2-0e791ef2f6ca\">\n",
              "    <div class=\"colab-df-container\">\n",
              "      <div>\n",
              "<style scoped>\n",
              "    .dataframe tbody tr th:only-of-type {\n",
              "        vertical-align: middle;\n",
              "    }\n",
              "\n",
              "    .dataframe tbody tr th {\n",
              "        vertical-align: top;\n",
              "    }\n",
              "\n",
              "    .dataframe thead th {\n",
              "        text-align: right;\n",
              "    }\n",
              "</style>\n",
              "<table border=\"1\" class=\"dataframe\">\n",
              "  <thead>\n",
              "    <tr style=\"text-align: right;\">\n",
              "      <th></th>\n",
              "      <th>inID</th>\n",
              "      <th>V1</th>\n",
              "      <th>V2</th>\n",
              "      <th>V3</th>\n",
              "    </tr>\n",
              "  </thead>\n",
              "  <tbody>\n",
              "    <tr>\n",
              "      <th>0</th>\n",
              "      <td>89667</td>\n",
              "      <td>4</td>\n",
              "      <td>0</td>\n",
              "      <td>1</td>\n",
              "    </tr>\n",
              "    <tr>\n",
              "      <th>1</th>\n",
              "      <td>140607</td>\n",
              "      <td>6</td>\n",
              "      <td>0</td>\n",
              "      <td>0</td>\n",
              "    </tr>\n",
              "    <tr>\n",
              "      <th>2</th>\n",
              "      <td>93912</td>\n",
              "      <td>5</td>\n",
              "      <td>0</td>\n",
              "      <td>1</td>\n",
              "    </tr>\n",
              "  </tbody>\n",
              "</table>\n",
              "</div>\n",
              "      <button class=\"colab-df-convert\" onclick=\"convertToInteractive('df-a4034d61-56dc-42a0-b5c2-0e791ef2f6ca')\"\n",
              "              title=\"Convert this dataframe to an interactive table.\"\n",
              "              style=\"display:none;\">\n",
              "        \n",
              "  <svg xmlns=\"http://www.w3.org/2000/svg\" height=\"24px\"viewBox=\"0 0 24 24\"\n",
              "       width=\"24px\">\n",
              "    <path d=\"M0 0h24v24H0V0z\" fill=\"none\"/>\n",
              "    <path d=\"M18.56 5.44l.94 2.06.94-2.06 2.06-.94-2.06-.94-.94-2.06-.94 2.06-2.06.94zm-11 1L8.5 8.5l.94-2.06 2.06-.94-2.06-.94L8.5 2.5l-.94 2.06-2.06.94zm10 10l.94 2.06.94-2.06 2.06-.94-2.06-.94-.94-2.06-.94 2.06-2.06.94z\"/><path d=\"M17.41 7.96l-1.37-1.37c-.4-.4-.92-.59-1.43-.59-.52 0-1.04.2-1.43.59L10.3 9.45l-7.72 7.72c-.78.78-.78 2.05 0 2.83L4 21.41c.39.39.9.59 1.41.59.51 0 1.02-.2 1.41-.59l7.78-7.78 2.81-2.81c.8-.78.8-2.07 0-2.86zM5.41 20L4 18.59l7.72-7.72 1.47 1.35L5.41 20z\"/>\n",
              "  </svg>\n",
              "      </button>\n",
              "      \n",
              "  <style>\n",
              "    .colab-df-container {\n",
              "      display:flex;\n",
              "      flex-wrap:wrap;\n",
              "      gap: 12px;\n",
              "    }\n",
              "\n",
              "    .colab-df-convert {\n",
              "      background-color: #E8F0FE;\n",
              "      border: none;\n",
              "      border-radius: 50%;\n",
              "      cursor: pointer;\n",
              "      display: none;\n",
              "      fill: #1967D2;\n",
              "      height: 32px;\n",
              "      padding: 0 0 0 0;\n",
              "      width: 32px;\n",
              "    }\n",
              "\n",
              "    .colab-df-convert:hover {\n",
              "      background-color: #E2EBFA;\n",
              "      box-shadow: 0px 1px 2px rgba(60, 64, 67, 0.3), 0px 1px 3px 1px rgba(60, 64, 67, 0.15);\n",
              "      fill: #174EA6;\n",
              "    }\n",
              "\n",
              "    [theme=dark] .colab-df-convert {\n",
              "      background-color: #3B4455;\n",
              "      fill: #D2E3FC;\n",
              "    }\n",
              "\n",
              "    [theme=dark] .colab-df-convert:hover {\n",
              "      background-color: #434B5C;\n",
              "      box-shadow: 0px 1px 3px 1px rgba(0, 0, 0, 0.15);\n",
              "      filter: drop-shadow(0px 1px 2px rgba(0, 0, 0, 0.3));\n",
              "      fill: #FFFFFF;\n",
              "    }\n",
              "  </style>\n",
              "\n",
              "      <script>\n",
              "        const buttonEl =\n",
              "          document.querySelector('#df-a4034d61-56dc-42a0-b5c2-0e791ef2f6ca button.colab-df-convert');\n",
              "        buttonEl.style.display =\n",
              "          google.colab.kernel.accessAllowed ? 'block' : 'none';\n",
              "\n",
              "        async function convertToInteractive(key) {\n",
              "          const element = document.querySelector('#df-a4034d61-56dc-42a0-b5c2-0e791ef2f6ca');\n",
              "          const dataTable =\n",
              "            await google.colab.kernel.invokeFunction('convertToInteractive',\n",
              "                                                     [key], {});\n",
              "          if (!dataTable) return;\n",
              "\n",
              "          const docLinkHtml = 'Like what you see? Visit the ' +\n",
              "            '<a target=\"_blank\" href=https://colab.research.google.com/notebooks/data_table.ipynb>data table notebook</a>'\n",
              "            + ' to learn more about interactive tables.';\n",
              "          element.innerHTML = '';\n",
              "          dataTable['output_type'] = 'display_data';\n",
              "          await google.colab.output.renderOutput(dataTable, element);\n",
              "          const docLink = document.createElement('div');\n",
              "          docLink.innerHTML = docLinkHtml;\n",
              "          element.appendChild(docLink);\n",
              "        }\n",
              "      </script>\n",
              "    </div>\n",
              "  </div>\n",
              "  "
            ]
          },
          "metadata": {},
          "execution_count": 89
        }
      ],
      "source": [
        "fin5.head(3)"
      ]
    },
    {
      "cell_type": "markdown",
      "metadata": {
        "id": "BjFvwT7xIqSE"
      },
      "source": [
        "# Connecting **wo** AND **WO_data** files based on inventarieID \n"
      ]
    },
    {
      "cell_type": "code",
      "execution_count": 90,
      "metadata": {
        "id": "9zBxKXtxW702"
      },
      "outputs": [],
      "source": [
        "inner_merged_total_WO = pd.merge(fin6,fin7,left_index=True, right_index=True)"
      ]
    },
    {
      "cell_type": "markdown",
      "source": [],
      "metadata": {
        "id": "nZ8NUsh6gd96"
      }
    },
    {
      "cell_type": "code",
      "execution_count": 91,
      "metadata": {
        "id": "JjWGMmU_koBe",
        "colab": {
          "base_uri": "https://localhost:8080/"
        },
        "outputId": "a2317342-bcc9-4346-d933-0d97578ee6f5"
      },
      "outputs": [
        {
          "output_type": "execute_result",
          "data": {
            "text/plain": [
              "(707677, 10)"
            ]
          },
          "metadata": {},
          "execution_count": 91
        }
      ],
      "source": [
        "inner_merged_total_WO.shape"
      ]
    },
    {
      "cell_type": "code",
      "execution_count": 92,
      "metadata": {
        "id": "7cpiqkpAk5lF",
        "colab": {
          "base_uri": "https://localhost:8080/",
          "height": 0
        },
        "outputId": "5cb1bcca-f584-4c90-fd64-234df1fd449f"
      },
      "outputs": [
        {
          "output_type": "execute_result",
          "data": {
            "text/plain": [
              "             ID                   issued                Completed  \\\n",
              "1364.0  1233471  2019-05-03 00:00:00.000  2019-05-09 00:00:00.000   \n",
              "1364.0   662950  2017-05-26 00:00:00.000  2017-05-26 00:00:00.000   \n",
              "1364.0   612067  2016-01-04 00:00:00.000  2016-01-04 00:00:00.000   \n",
              "1364.0   393467  2012-07-23 00:00:00.000  2012-12-21 00:00:00.000   \n",
              "1364.0  1237176  2019-05-21 00:00:00.000  2019-05-21 00:00:00.000   \n",
              "1364.0  1222558  2019-02-28 00:00:00.000  2019-02-28 00:00:00.000   \n",
              "1364.0  1167578  2018-04-24 00:00:00.000  2018-04-24 00:00:00.000   \n",
              "1364.0   510206  2013-02-14 00:00:00.000  2013-02-14 00:00:00.000   \n",
              "1364.0   397564  2012-10-09 00:00:00.000  2012-10-09 00:00:00.000   \n",
              "1364.0   394949  2012-08-24 00:00:00.000  2013-01-28 00:00:00.000   \n",
              "\n",
              "                    AOEkKlarDat  InventarieID  inventarieID     last_wo  \\\n",
              "1364.0  2019-05-09 00:00:00.000        1364.0        1364.0  2020-08-13   \n",
              "1364.0  2017-05-26 00:00:00.000        1364.0        1364.0  2020-08-13   \n",
              "1364.0  2016-01-04 00:00:00.000        1364.0        1364.0  2020-08-13   \n",
              "1364.0  2012-12-21 00:00:00.000        1364.0        1364.0  2020-08-13   \n",
              "1364.0  2019-05-21 00:00:00.000        1364.0        1364.0  2020-08-13   \n",
              "1364.0  2019-02-28 00:00:00.000        1364.0        1364.0  2020-08-13   \n",
              "1364.0  2018-04-24 00:00:00.000        1364.0        1364.0  2020-08-13   \n",
              "1364.0  2013-02-14 00:00:00.000        1364.0        1364.0  2020-08-13   \n",
              "1364.0  2012-10-09 00:00:00.000        1364.0        1364.0  2020-08-13   \n",
              "1364.0  2013-01-28 00:00:00.000        1364.0        1364.0  2020-08-13   \n",
              "\n",
              "          first_wo  Count_wo  meantime  \n",
              "1364.0  2011-03-25        65        52  \n",
              "1364.0  2011-03-25        65        52  \n",
              "1364.0  2011-03-25        65        52  \n",
              "1364.0  2011-03-25        65        52  \n",
              "1364.0  2011-03-25        65        52  \n",
              "1364.0  2011-03-25        65        52  \n",
              "1364.0  2011-03-25        65        52  \n",
              "1364.0  2011-03-25        65        52  \n",
              "1364.0  2011-03-25        65        52  \n",
              "1364.0  2011-03-25        65        52  "
            ],
            "text/html": [
              "\n",
              "  <div id=\"df-a07e3c97-2caf-4af8-b951-45ad13f88f8d\">\n",
              "    <div class=\"colab-df-container\">\n",
              "      <div>\n",
              "<style scoped>\n",
              "    .dataframe tbody tr th:only-of-type {\n",
              "        vertical-align: middle;\n",
              "    }\n",
              "\n",
              "    .dataframe tbody tr th {\n",
              "        vertical-align: top;\n",
              "    }\n",
              "\n",
              "    .dataframe thead th {\n",
              "        text-align: right;\n",
              "    }\n",
              "</style>\n",
              "<table border=\"1\" class=\"dataframe\">\n",
              "  <thead>\n",
              "    <tr style=\"text-align: right;\">\n",
              "      <th></th>\n",
              "      <th>ID</th>\n",
              "      <th>issued</th>\n",
              "      <th>Completed</th>\n",
              "      <th>AOEkKlarDat</th>\n",
              "      <th>InventarieID</th>\n",
              "      <th>inventarieID</th>\n",
              "      <th>last_wo</th>\n",
              "      <th>first_wo</th>\n",
              "      <th>Count_wo</th>\n",
              "      <th>meantime</th>\n",
              "    </tr>\n",
              "  </thead>\n",
              "  <tbody>\n",
              "    <tr>\n",
              "      <th>1364.0</th>\n",
              "      <td>1233471</td>\n",
              "      <td>2019-05-03 00:00:00.000</td>\n",
              "      <td>2019-05-09 00:00:00.000</td>\n",
              "      <td>2019-05-09 00:00:00.000</td>\n",
              "      <td>1364.0</td>\n",
              "      <td>1364.0</td>\n",
              "      <td>2020-08-13</td>\n",
              "      <td>2011-03-25</td>\n",
              "      <td>65</td>\n",
              "      <td>52</td>\n",
              "    </tr>\n",
              "    <tr>\n",
              "      <th>1364.0</th>\n",
              "      <td>662950</td>\n",
              "      <td>2017-05-26 00:00:00.000</td>\n",
              "      <td>2017-05-26 00:00:00.000</td>\n",
              "      <td>2017-05-26 00:00:00.000</td>\n",
              "      <td>1364.0</td>\n",
              "      <td>1364.0</td>\n",
              "      <td>2020-08-13</td>\n",
              "      <td>2011-03-25</td>\n",
              "      <td>65</td>\n",
              "      <td>52</td>\n",
              "    </tr>\n",
              "    <tr>\n",
              "      <th>1364.0</th>\n",
              "      <td>612067</td>\n",
              "      <td>2016-01-04 00:00:00.000</td>\n",
              "      <td>2016-01-04 00:00:00.000</td>\n",
              "      <td>2016-01-04 00:00:00.000</td>\n",
              "      <td>1364.0</td>\n",
              "      <td>1364.0</td>\n",
              "      <td>2020-08-13</td>\n",
              "      <td>2011-03-25</td>\n",
              "      <td>65</td>\n",
              "      <td>52</td>\n",
              "    </tr>\n",
              "    <tr>\n",
              "      <th>1364.0</th>\n",
              "      <td>393467</td>\n",
              "      <td>2012-07-23 00:00:00.000</td>\n",
              "      <td>2012-12-21 00:00:00.000</td>\n",
              "      <td>2012-12-21 00:00:00.000</td>\n",
              "      <td>1364.0</td>\n",
              "      <td>1364.0</td>\n",
              "      <td>2020-08-13</td>\n",
              "      <td>2011-03-25</td>\n",
              "      <td>65</td>\n",
              "      <td>52</td>\n",
              "    </tr>\n",
              "    <tr>\n",
              "      <th>1364.0</th>\n",
              "      <td>1237176</td>\n",
              "      <td>2019-05-21 00:00:00.000</td>\n",
              "      <td>2019-05-21 00:00:00.000</td>\n",
              "      <td>2019-05-21 00:00:00.000</td>\n",
              "      <td>1364.0</td>\n",
              "      <td>1364.0</td>\n",
              "      <td>2020-08-13</td>\n",
              "      <td>2011-03-25</td>\n",
              "      <td>65</td>\n",
              "      <td>52</td>\n",
              "    </tr>\n",
              "    <tr>\n",
              "      <th>1364.0</th>\n",
              "      <td>1222558</td>\n",
              "      <td>2019-02-28 00:00:00.000</td>\n",
              "      <td>2019-02-28 00:00:00.000</td>\n",
              "      <td>2019-02-28 00:00:00.000</td>\n",
              "      <td>1364.0</td>\n",
              "      <td>1364.0</td>\n",
              "      <td>2020-08-13</td>\n",
              "      <td>2011-03-25</td>\n",
              "      <td>65</td>\n",
              "      <td>52</td>\n",
              "    </tr>\n",
              "    <tr>\n",
              "      <th>1364.0</th>\n",
              "      <td>1167578</td>\n",
              "      <td>2018-04-24 00:00:00.000</td>\n",
              "      <td>2018-04-24 00:00:00.000</td>\n",
              "      <td>2018-04-24 00:00:00.000</td>\n",
              "      <td>1364.0</td>\n",
              "      <td>1364.0</td>\n",
              "      <td>2020-08-13</td>\n",
              "      <td>2011-03-25</td>\n",
              "      <td>65</td>\n",
              "      <td>52</td>\n",
              "    </tr>\n",
              "    <tr>\n",
              "      <th>1364.0</th>\n",
              "      <td>510206</td>\n",
              "      <td>2013-02-14 00:00:00.000</td>\n",
              "      <td>2013-02-14 00:00:00.000</td>\n",
              "      <td>2013-02-14 00:00:00.000</td>\n",
              "      <td>1364.0</td>\n",
              "      <td>1364.0</td>\n",
              "      <td>2020-08-13</td>\n",
              "      <td>2011-03-25</td>\n",
              "      <td>65</td>\n",
              "      <td>52</td>\n",
              "    </tr>\n",
              "    <tr>\n",
              "      <th>1364.0</th>\n",
              "      <td>397564</td>\n",
              "      <td>2012-10-09 00:00:00.000</td>\n",
              "      <td>2012-10-09 00:00:00.000</td>\n",
              "      <td>2012-10-09 00:00:00.000</td>\n",
              "      <td>1364.0</td>\n",
              "      <td>1364.0</td>\n",
              "      <td>2020-08-13</td>\n",
              "      <td>2011-03-25</td>\n",
              "      <td>65</td>\n",
              "      <td>52</td>\n",
              "    </tr>\n",
              "    <tr>\n",
              "      <th>1364.0</th>\n",
              "      <td>394949</td>\n",
              "      <td>2012-08-24 00:00:00.000</td>\n",
              "      <td>2013-01-28 00:00:00.000</td>\n",
              "      <td>2013-01-28 00:00:00.000</td>\n",
              "      <td>1364.0</td>\n",
              "      <td>1364.0</td>\n",
              "      <td>2020-08-13</td>\n",
              "      <td>2011-03-25</td>\n",
              "      <td>65</td>\n",
              "      <td>52</td>\n",
              "    </tr>\n",
              "  </tbody>\n",
              "</table>\n",
              "</div>\n",
              "      <button class=\"colab-df-convert\" onclick=\"convertToInteractive('df-a07e3c97-2caf-4af8-b951-45ad13f88f8d')\"\n",
              "              title=\"Convert this dataframe to an interactive table.\"\n",
              "              style=\"display:none;\">\n",
              "        \n",
              "  <svg xmlns=\"http://www.w3.org/2000/svg\" height=\"24px\"viewBox=\"0 0 24 24\"\n",
              "       width=\"24px\">\n",
              "    <path d=\"M0 0h24v24H0V0z\" fill=\"none\"/>\n",
              "    <path d=\"M18.56 5.44l.94 2.06.94-2.06 2.06-.94-2.06-.94-.94-2.06-.94 2.06-2.06.94zm-11 1L8.5 8.5l.94-2.06 2.06-.94-2.06-.94L8.5 2.5l-.94 2.06-2.06.94zm10 10l.94 2.06.94-2.06 2.06-.94-2.06-.94-.94-2.06-.94 2.06-2.06.94z\"/><path d=\"M17.41 7.96l-1.37-1.37c-.4-.4-.92-.59-1.43-.59-.52 0-1.04.2-1.43.59L10.3 9.45l-7.72 7.72c-.78.78-.78 2.05 0 2.83L4 21.41c.39.39.9.59 1.41.59.51 0 1.02-.2 1.41-.59l7.78-7.78 2.81-2.81c.8-.78.8-2.07 0-2.86zM5.41 20L4 18.59l7.72-7.72 1.47 1.35L5.41 20z\"/>\n",
              "  </svg>\n",
              "      </button>\n",
              "      \n",
              "  <style>\n",
              "    .colab-df-container {\n",
              "      display:flex;\n",
              "      flex-wrap:wrap;\n",
              "      gap: 12px;\n",
              "    }\n",
              "\n",
              "    .colab-df-convert {\n",
              "      background-color: #E8F0FE;\n",
              "      border: none;\n",
              "      border-radius: 50%;\n",
              "      cursor: pointer;\n",
              "      display: none;\n",
              "      fill: #1967D2;\n",
              "      height: 32px;\n",
              "      padding: 0 0 0 0;\n",
              "      width: 32px;\n",
              "    }\n",
              "\n",
              "    .colab-df-convert:hover {\n",
              "      background-color: #E2EBFA;\n",
              "      box-shadow: 0px 1px 2px rgba(60, 64, 67, 0.3), 0px 1px 3px 1px rgba(60, 64, 67, 0.15);\n",
              "      fill: #174EA6;\n",
              "    }\n",
              "\n",
              "    [theme=dark] .colab-df-convert {\n",
              "      background-color: #3B4455;\n",
              "      fill: #D2E3FC;\n",
              "    }\n",
              "\n",
              "    [theme=dark] .colab-df-convert:hover {\n",
              "      background-color: #434B5C;\n",
              "      box-shadow: 0px 1px 3px 1px rgba(0, 0, 0, 0.15);\n",
              "      filter: drop-shadow(0px 1px 2px rgba(0, 0, 0, 0.3));\n",
              "      fill: #FFFFFF;\n",
              "    }\n",
              "  </style>\n",
              "\n",
              "      <script>\n",
              "        const buttonEl =\n",
              "          document.querySelector('#df-a07e3c97-2caf-4af8-b951-45ad13f88f8d button.colab-df-convert');\n",
              "        buttonEl.style.display =\n",
              "          google.colab.kernel.accessAllowed ? 'block' : 'none';\n",
              "\n",
              "        async function convertToInteractive(key) {\n",
              "          const element = document.querySelector('#df-a07e3c97-2caf-4af8-b951-45ad13f88f8d');\n",
              "          const dataTable =\n",
              "            await google.colab.kernel.invokeFunction('convertToInteractive',\n",
              "                                                     [key], {});\n",
              "          if (!dataTable) return;\n",
              "\n",
              "          const docLinkHtml = 'Like what you see? Visit the ' +\n",
              "            '<a target=\"_blank\" href=https://colab.research.google.com/notebooks/data_table.ipynb>data table notebook</a>'\n",
              "            + ' to learn more about interactive tables.';\n",
              "          element.innerHTML = '';\n",
              "          dataTable['output_type'] = 'display_data';\n",
              "          await google.colab.output.renderOutput(dataTable, element);\n",
              "          const docLink = document.createElement('div');\n",
              "          docLink.innerHTML = docLinkHtml;\n",
              "          element.appendChild(docLink);\n",
              "        }\n",
              "      </script>\n",
              "    </div>\n",
              "  </div>\n",
              "  "
            ]
          },
          "metadata": {},
          "execution_count": 92
        }
      ],
      "source": [
        "inner_merged_total_WO.head(10)"
      ]
    },
    {
      "cell_type": "code",
      "execution_count": 93,
      "metadata": {
        "id": "PlAQ8ppmp6J2",
        "colab": {
          "base_uri": "https://localhost:8080/"
        },
        "outputId": "40c061fc-3658-458f-9dad-c28085409656"
      },
      "outputs": [
        {
          "output_type": "execute_result",
          "data": {
            "text/plain": [
              "ID       issued                   Completed                AOEkKlarDat              InventarieID  inventarieID  last_wo     first_wo    Count_wo  meantime\n",
              "231      2008-01-03 00:00:00.000  2008-01-03 00:00:00.000  2011-02-25 00:00:00.000  39284.0       39284.0       2011-10-13  2008-01-03  3         459         1\n",
              "1001074  2007-06-15 00:00:00.000  2007-06-15 00:00:00.000  2007-06-18 00:00:00.000  228377.0      228377.0      2012-06-20  2007-05-16  9         206         1\n",
              "1001043  2007-06-18 00:00:00.000  2007-06-18 00:00:00.000  2007-06-18 00:00:00.000  227777.0      227777.0      2019-12-09  1998-06-03  1253      6           1\n",
              "1001045  2007-06-18 00:00:00.000  2007-06-18 00:00:00.000  2007-06-18 00:00:00.000  232943.0      232943.0      2014-06-10  2001-12-19  15        303         1\n",
              "1001048  2007-06-09 00:00:00.000  2007-06-09 00:00:00.000  2007-06-18 00:00:00.000  227564.0      227564.0      2010-06-24  1995-03-22  1331      4           1\n",
              "                                                                                                                                                             ..\n",
              "576686   2015-01-22 00:00:00.000  2015-01-27 00:00:00.000  2015-01-27 00:00:00.000  92123.0       92123.0       2016-02-17  2006-12-28  5         667         1\n",
              "576687   2015-01-22 00:00:00.000  2015-01-22 00:00:00.000  2015-01-22 00:00:00.000  141898.0      141898.0      2015-01-22  2014-01-16  3         123         1\n",
              "576688   2015-01-22 00:00:00.000  2015-03-10 00:00:00.000  2015-03-12 00:00:00.000  89098.0       89098.0       2019-01-09  2006-01-31  5         945         1\n",
              "576689   2015-01-22 00:00:00.000  2015-01-22 00:00:00.000  2015-01-22 00:00:00.000  140902.0      140902.0      2020-11-25  2013-10-11  12        216         1\n",
              "1436587  2022-02-28 00:00:00.000  2022-02-28 00:00:00.000  2022-02-28 00:00:00.000  68381.0       68381.0       2018-02-19  2002-06-14  6         954         1\n",
              "Length: 707677, dtype: int64"
            ]
          },
          "metadata": {},
          "execution_count": 93
        }
      ],
      "source": [
        "inner_merged_total_WO.value_counts()"
      ]
    },
    {
      "cell_type": "code",
      "execution_count": 94,
      "metadata": {
        "id": "S9ShvDProjRY",
        "colab": {
          "base_uri": "https://localhost:8080/",
          "height": 0
        },
        "outputId": "f5eb0344-c7fa-4489-a8bc-46cebad2e007"
      },
      "outputs": [
        {
          "output_type": "execute_result",
          "data": {
            "text/plain": [
              "             ID                   issued                Completed  \\\n",
              "92123.0  279615  2009-07-09 00:00:00.000  2009-07-09 00:00:00.000   \n",
              "92123.0  360856  2011-11-22 00:00:00.000  2011-11-22 00:00:00.000   \n",
              "92123.0  243278  2009-09-16 00:00:00.000  2009-10-02 00:00:00.000   \n",
              "92123.0  400964  2012-12-05 00:00:00.000  2012-12-05 00:00:00.000   \n",
              "92123.0  246349  2008-04-22 00:00:00.000  2008-05-20 00:00:00.000   \n",
              "92123.0  246803  2008-05-20 00:00:00.000  2008-05-20 00:00:00.000   \n",
              "92123.0  616358  2016-02-17 00:00:00.000  2016-02-17 00:00:00.000   \n",
              "92123.0  576686  2015-01-22 00:00:00.000  2015-01-27 00:00:00.000   \n",
              "92123.0  310063  2007-10-24 00:00:00.000  2007-10-24 00:00:00.000   \n",
              "92123.0  310062  2006-12-28 00:00:00.000  2006-12-28 00:00:00.000   \n",
              "92123.0  262236  2010-10-13 00:00:00.000  2010-10-13 00:00:00.000   \n",
              "92123.0  252315  2009-12-28 00:00:00.000  2009-12-28 00:00:00.000   \n",
              "\n",
              "                     AOEkKlarDat  InventarieID  inventarieID     last_wo  \\\n",
              "92123.0  2009-07-09 00:00:00.000       92123.0       92123.0  2016-02-17   \n",
              "92123.0  2011-11-22 00:00:00.000       92123.0       92123.0  2016-02-17   \n",
              "92123.0  2009-10-02 00:00:00.000       92123.0       92123.0  2016-02-17   \n",
              "92123.0  2012-12-05 00:00:00.000       92123.0       92123.0  2016-02-17   \n",
              "92123.0  2008-05-20 00:00:00.000       92123.0       92123.0  2016-02-17   \n",
              "92123.0  2008-05-20 00:00:00.000       92123.0       92123.0  2016-02-17   \n",
              "92123.0  2016-02-17 00:00:00.000       92123.0       92123.0  2016-02-17   \n",
              "92123.0  2015-01-27 00:00:00.000       92123.0       92123.0  2016-02-17   \n",
              "92123.0  2007-10-24 00:00:00.000       92123.0       92123.0  2016-02-17   \n",
              "92123.0  2006-12-28 00:00:00.000       92123.0       92123.0  2016-02-17   \n",
              "92123.0  2010-10-13 00:00:00.000       92123.0       92123.0  2016-02-17   \n",
              "92123.0  2009-12-28 00:00:00.000       92123.0       92123.0  2016-02-17   \n",
              "\n",
              "           first_wo  Count_wo  meantime  \n",
              "92123.0  2006-12-28         5       667  \n",
              "92123.0  2006-12-28         5       667  \n",
              "92123.0  2006-12-28         5       667  \n",
              "92123.0  2006-12-28         5       667  \n",
              "92123.0  2006-12-28         5       667  \n",
              "92123.0  2006-12-28         5       667  \n",
              "92123.0  2006-12-28         5       667  \n",
              "92123.0  2006-12-28         5       667  \n",
              "92123.0  2006-12-28         5       667  \n",
              "92123.0  2006-12-28         5       667  \n",
              "92123.0  2006-12-28         5       667  \n",
              "92123.0  2006-12-28         5       667  "
            ],
            "text/html": [
              "\n",
              "  <div id=\"df-56356aca-4c68-4173-a0b1-092dbeca9612\">\n",
              "    <div class=\"colab-df-container\">\n",
              "      <div>\n",
              "<style scoped>\n",
              "    .dataframe tbody tr th:only-of-type {\n",
              "        vertical-align: middle;\n",
              "    }\n",
              "\n",
              "    .dataframe tbody tr th {\n",
              "        vertical-align: top;\n",
              "    }\n",
              "\n",
              "    .dataframe thead th {\n",
              "        text-align: right;\n",
              "    }\n",
              "</style>\n",
              "<table border=\"1\" class=\"dataframe\">\n",
              "  <thead>\n",
              "    <tr style=\"text-align: right;\">\n",
              "      <th></th>\n",
              "      <th>ID</th>\n",
              "      <th>issued</th>\n",
              "      <th>Completed</th>\n",
              "      <th>AOEkKlarDat</th>\n",
              "      <th>InventarieID</th>\n",
              "      <th>inventarieID</th>\n",
              "      <th>last_wo</th>\n",
              "      <th>first_wo</th>\n",
              "      <th>Count_wo</th>\n",
              "      <th>meantime</th>\n",
              "    </tr>\n",
              "  </thead>\n",
              "  <tbody>\n",
              "    <tr>\n",
              "      <th>92123.0</th>\n",
              "      <td>279615</td>\n",
              "      <td>2009-07-09 00:00:00.000</td>\n",
              "      <td>2009-07-09 00:00:00.000</td>\n",
              "      <td>2009-07-09 00:00:00.000</td>\n",
              "      <td>92123.0</td>\n",
              "      <td>92123.0</td>\n",
              "      <td>2016-02-17</td>\n",
              "      <td>2006-12-28</td>\n",
              "      <td>5</td>\n",
              "      <td>667</td>\n",
              "    </tr>\n",
              "    <tr>\n",
              "      <th>92123.0</th>\n",
              "      <td>360856</td>\n",
              "      <td>2011-11-22 00:00:00.000</td>\n",
              "      <td>2011-11-22 00:00:00.000</td>\n",
              "      <td>2011-11-22 00:00:00.000</td>\n",
              "      <td>92123.0</td>\n",
              "      <td>92123.0</td>\n",
              "      <td>2016-02-17</td>\n",
              "      <td>2006-12-28</td>\n",
              "      <td>5</td>\n",
              "      <td>667</td>\n",
              "    </tr>\n",
              "    <tr>\n",
              "      <th>92123.0</th>\n",
              "      <td>243278</td>\n",
              "      <td>2009-09-16 00:00:00.000</td>\n",
              "      <td>2009-10-02 00:00:00.000</td>\n",
              "      <td>2009-10-02 00:00:00.000</td>\n",
              "      <td>92123.0</td>\n",
              "      <td>92123.0</td>\n",
              "      <td>2016-02-17</td>\n",
              "      <td>2006-12-28</td>\n",
              "      <td>5</td>\n",
              "      <td>667</td>\n",
              "    </tr>\n",
              "    <tr>\n",
              "      <th>92123.0</th>\n",
              "      <td>400964</td>\n",
              "      <td>2012-12-05 00:00:00.000</td>\n",
              "      <td>2012-12-05 00:00:00.000</td>\n",
              "      <td>2012-12-05 00:00:00.000</td>\n",
              "      <td>92123.0</td>\n",
              "      <td>92123.0</td>\n",
              "      <td>2016-02-17</td>\n",
              "      <td>2006-12-28</td>\n",
              "      <td>5</td>\n",
              "      <td>667</td>\n",
              "    </tr>\n",
              "    <tr>\n",
              "      <th>92123.0</th>\n",
              "      <td>246349</td>\n",
              "      <td>2008-04-22 00:00:00.000</td>\n",
              "      <td>2008-05-20 00:00:00.000</td>\n",
              "      <td>2008-05-20 00:00:00.000</td>\n",
              "      <td>92123.0</td>\n",
              "      <td>92123.0</td>\n",
              "      <td>2016-02-17</td>\n",
              "      <td>2006-12-28</td>\n",
              "      <td>5</td>\n",
              "      <td>667</td>\n",
              "    </tr>\n",
              "    <tr>\n",
              "      <th>92123.0</th>\n",
              "      <td>246803</td>\n",
              "      <td>2008-05-20 00:00:00.000</td>\n",
              "      <td>2008-05-20 00:00:00.000</td>\n",
              "      <td>2008-05-20 00:00:00.000</td>\n",
              "      <td>92123.0</td>\n",
              "      <td>92123.0</td>\n",
              "      <td>2016-02-17</td>\n",
              "      <td>2006-12-28</td>\n",
              "      <td>5</td>\n",
              "      <td>667</td>\n",
              "    </tr>\n",
              "    <tr>\n",
              "      <th>92123.0</th>\n",
              "      <td>616358</td>\n",
              "      <td>2016-02-17 00:00:00.000</td>\n",
              "      <td>2016-02-17 00:00:00.000</td>\n",
              "      <td>2016-02-17 00:00:00.000</td>\n",
              "      <td>92123.0</td>\n",
              "      <td>92123.0</td>\n",
              "      <td>2016-02-17</td>\n",
              "      <td>2006-12-28</td>\n",
              "      <td>5</td>\n",
              "      <td>667</td>\n",
              "    </tr>\n",
              "    <tr>\n",
              "      <th>92123.0</th>\n",
              "      <td>576686</td>\n",
              "      <td>2015-01-22 00:00:00.000</td>\n",
              "      <td>2015-01-27 00:00:00.000</td>\n",
              "      <td>2015-01-27 00:00:00.000</td>\n",
              "      <td>92123.0</td>\n",
              "      <td>92123.0</td>\n",
              "      <td>2016-02-17</td>\n",
              "      <td>2006-12-28</td>\n",
              "      <td>5</td>\n",
              "      <td>667</td>\n",
              "    </tr>\n",
              "    <tr>\n",
              "      <th>92123.0</th>\n",
              "      <td>310063</td>\n",
              "      <td>2007-10-24 00:00:00.000</td>\n",
              "      <td>2007-10-24 00:00:00.000</td>\n",
              "      <td>2007-10-24 00:00:00.000</td>\n",
              "      <td>92123.0</td>\n",
              "      <td>92123.0</td>\n",
              "      <td>2016-02-17</td>\n",
              "      <td>2006-12-28</td>\n",
              "      <td>5</td>\n",
              "      <td>667</td>\n",
              "    </tr>\n",
              "    <tr>\n",
              "      <th>92123.0</th>\n",
              "      <td>310062</td>\n",
              "      <td>2006-12-28 00:00:00.000</td>\n",
              "      <td>2006-12-28 00:00:00.000</td>\n",
              "      <td>2006-12-28 00:00:00.000</td>\n",
              "      <td>92123.0</td>\n",
              "      <td>92123.0</td>\n",
              "      <td>2016-02-17</td>\n",
              "      <td>2006-12-28</td>\n",
              "      <td>5</td>\n",
              "      <td>667</td>\n",
              "    </tr>\n",
              "    <tr>\n",
              "      <th>92123.0</th>\n",
              "      <td>262236</td>\n",
              "      <td>2010-10-13 00:00:00.000</td>\n",
              "      <td>2010-10-13 00:00:00.000</td>\n",
              "      <td>2010-10-13 00:00:00.000</td>\n",
              "      <td>92123.0</td>\n",
              "      <td>92123.0</td>\n",
              "      <td>2016-02-17</td>\n",
              "      <td>2006-12-28</td>\n",
              "      <td>5</td>\n",
              "      <td>667</td>\n",
              "    </tr>\n",
              "    <tr>\n",
              "      <th>92123.0</th>\n",
              "      <td>252315</td>\n",
              "      <td>2009-12-28 00:00:00.000</td>\n",
              "      <td>2009-12-28 00:00:00.000</td>\n",
              "      <td>2009-12-28 00:00:00.000</td>\n",
              "      <td>92123.0</td>\n",
              "      <td>92123.0</td>\n",
              "      <td>2016-02-17</td>\n",
              "      <td>2006-12-28</td>\n",
              "      <td>5</td>\n",
              "      <td>667</td>\n",
              "    </tr>\n",
              "  </tbody>\n",
              "</table>\n",
              "</div>\n",
              "      <button class=\"colab-df-convert\" onclick=\"convertToInteractive('df-56356aca-4c68-4173-a0b1-092dbeca9612')\"\n",
              "              title=\"Convert this dataframe to an interactive table.\"\n",
              "              style=\"display:none;\">\n",
              "        \n",
              "  <svg xmlns=\"http://www.w3.org/2000/svg\" height=\"24px\"viewBox=\"0 0 24 24\"\n",
              "       width=\"24px\">\n",
              "    <path d=\"M0 0h24v24H0V0z\" fill=\"none\"/>\n",
              "    <path d=\"M18.56 5.44l.94 2.06.94-2.06 2.06-.94-2.06-.94-.94-2.06-.94 2.06-2.06.94zm-11 1L8.5 8.5l.94-2.06 2.06-.94-2.06-.94L8.5 2.5l-.94 2.06-2.06.94zm10 10l.94 2.06.94-2.06 2.06-.94-2.06-.94-.94-2.06-.94 2.06-2.06.94z\"/><path d=\"M17.41 7.96l-1.37-1.37c-.4-.4-.92-.59-1.43-.59-.52 0-1.04.2-1.43.59L10.3 9.45l-7.72 7.72c-.78.78-.78 2.05 0 2.83L4 21.41c.39.39.9.59 1.41.59.51 0 1.02-.2 1.41-.59l7.78-7.78 2.81-2.81c.8-.78.8-2.07 0-2.86zM5.41 20L4 18.59l7.72-7.72 1.47 1.35L5.41 20z\"/>\n",
              "  </svg>\n",
              "      </button>\n",
              "      \n",
              "  <style>\n",
              "    .colab-df-container {\n",
              "      display:flex;\n",
              "      flex-wrap:wrap;\n",
              "      gap: 12px;\n",
              "    }\n",
              "\n",
              "    .colab-df-convert {\n",
              "      background-color: #E8F0FE;\n",
              "      border: none;\n",
              "      border-radius: 50%;\n",
              "      cursor: pointer;\n",
              "      display: none;\n",
              "      fill: #1967D2;\n",
              "      height: 32px;\n",
              "      padding: 0 0 0 0;\n",
              "      width: 32px;\n",
              "    }\n",
              "\n",
              "    .colab-df-convert:hover {\n",
              "      background-color: #E2EBFA;\n",
              "      box-shadow: 0px 1px 2px rgba(60, 64, 67, 0.3), 0px 1px 3px 1px rgba(60, 64, 67, 0.15);\n",
              "      fill: #174EA6;\n",
              "    }\n",
              "\n",
              "    [theme=dark] .colab-df-convert {\n",
              "      background-color: #3B4455;\n",
              "      fill: #D2E3FC;\n",
              "    }\n",
              "\n",
              "    [theme=dark] .colab-df-convert:hover {\n",
              "      background-color: #434B5C;\n",
              "      box-shadow: 0px 1px 3px 1px rgba(0, 0, 0, 0.15);\n",
              "      filter: drop-shadow(0px 1px 2px rgba(0, 0, 0, 0.3));\n",
              "      fill: #FFFFFF;\n",
              "    }\n",
              "  </style>\n",
              "\n",
              "      <script>\n",
              "        const buttonEl =\n",
              "          document.querySelector('#df-56356aca-4c68-4173-a0b1-092dbeca9612 button.colab-df-convert');\n",
              "        buttonEl.style.display =\n",
              "          google.colab.kernel.accessAllowed ? 'block' : 'none';\n",
              "\n",
              "        async function convertToInteractive(key) {\n",
              "          const element = document.querySelector('#df-56356aca-4c68-4173-a0b1-092dbeca9612');\n",
              "          const dataTable =\n",
              "            await google.colab.kernel.invokeFunction('convertToInteractive',\n",
              "                                                     [key], {});\n",
              "          if (!dataTable) return;\n",
              "\n",
              "          const docLinkHtml = 'Like what you see? Visit the ' +\n",
              "            '<a target=\"_blank\" href=https://colab.research.google.com/notebooks/data_table.ipynb>data table notebook</a>'\n",
              "            + ' to learn more about interactive tables.';\n",
              "          element.innerHTML = '';\n",
              "          dataTable['output_type'] = 'display_data';\n",
              "          await google.colab.output.renderOutput(dataTable, element);\n",
              "          const docLink = document.createElement('div');\n",
              "          docLink.innerHTML = docLinkHtml;\n",
              "          element.appendChild(docLink);\n",
              "        }\n",
              "      </script>\n",
              "    </div>\n",
              "  </div>\n",
              "  "
            ]
          },
          "metadata": {},
          "execution_count": 94
        }
      ],
      "source": [
        "test1=inner_merged_total_WO.query(\"inventarieID==92123.0\")\n",
        "test1.shape\n",
        "test1"
      ]
    },
    {
      "cell_type": "code",
      "execution_count": 95,
      "metadata": {
        "id": "w5YrZfTlmyni",
        "colab": {
          "base_uri": "https://localhost:8080/"
        },
        "outputId": "d8f7d735-61ec-42e0-91f2-f45b83e21d45"
      },
      "outputs": [
        {
          "output_type": "execute_result",
          "data": {
            "text/plain": [
              "ID              707677\n",
              "issued          707677\n",
              "Completed       707677\n",
              "AOEkKlarDat     707677\n",
              "InventarieID    707677\n",
              "inventarieID    707677\n",
              "last_wo         707677\n",
              "first_wo        707677\n",
              "Count_wo        707677\n",
              "meantime        707677\n",
              "dtype: int64"
            ]
          },
          "metadata": {},
          "execution_count": 95
        }
      ],
      "source": [
        "inner_merged_total_WO.count()"
      ]
    },
    {
      "cell_type": "code",
      "execution_count": 95,
      "metadata": {
        "id": "LraPbW_-rwH8"
      },
      "outputs": [],
      "source": []
    },
    {
      "cell_type": "code",
      "execution_count": 95,
      "metadata": {
        "id": "7FAKRaOyr-7K"
      },
      "outputs": [],
      "source": []
    },
    {
      "cell_type": "markdown",
      "metadata": {
        "id": "d8xW2PbQsQcq"
      },
      "source": [
        "# **Connecting work orders data with equipment data first **"
      ]
    },
    {
      "cell_type": "code",
      "execution_count": 96,
      "metadata": {
        "id": "qQ1vts4TsYBO"
      },
      "outputs": [],
      "source": [
        "alldata_wo_eq=pd.merge(fin,inner_merged_total_WO,left_index=True,right_index=True)"
      ]
    },
    {
      "cell_type": "code",
      "source": [],
      "metadata": {
        "id": "eK8iVG6jZayj"
      },
      "execution_count": 96,
      "outputs": []
    },
    {
      "cell_type": "markdown",
      "source": [],
      "metadata": {
        "id": "RwfU8egxoQ8B"
      }
    },
    {
      "cell_type": "code",
      "execution_count": 97,
      "metadata": {
        "id": "MQnmKoaUyhdd",
        "colab": {
          "base_uri": "https://localhost:8080/"
        },
        "outputId": "196d0930-b1d2-4364-9df3-ccaba2884f7d"
      },
      "outputs": [
        {
          "output_type": "execute_result",
          "data": {
            "text/plain": [
              "(317394, 18)"
            ]
          },
          "metadata": {},
          "execution_count": 97
        }
      ],
      "source": [
        "alldata_wo_eq.shape"
      ]
    },
    {
      "cell_type": "code",
      "execution_count": 98,
      "metadata": {
        "id": "kccr3Z9J00vG"
      },
      "outputs": [],
      "source": [
        "tes=alldata_wo_eq.query(\"ID_x == 1364\")"
      ]
    },
    {
      "cell_type": "code",
      "execution_count": 99,
      "metadata": {
        "id": "JMqaALq31aXr",
        "colab": {
          "base_uri": "https://localhost:8080/",
          "height": 835
        },
        "outputId": "f9ae86b4-47ee-430c-c5b3-afc5e7ba6bf2"
      },
      "outputs": [
        {
          "output_type": "execute_result",
          "data": {
            "text/plain": [
              "        InvNr           Equip.reg_date            Scrapped_date  ID_x  \\\n",
              "1364  9004411  2010-01-01 00:00:00.000  2021-09-21 00:00:00.000  1364   \n",
              "1364  9004411  2010-01-01 00:00:00.000  2021-09-21 00:00:00.000  1364   \n",
              "1364  9004411  2010-01-01 00:00:00.000  2021-09-21 00:00:00.000  1364   \n",
              "1364  9004411  2010-01-01 00:00:00.000  2021-09-21 00:00:00.000  1364   \n",
              "1364  9004411  2010-01-01 00:00:00.000  2021-09-21 00:00:00.000  1364   \n",
              "...       ...                      ...                      ...   ...   \n",
              "1364  9004411  2010-01-01 00:00:00.000  2021-09-21 00:00:00.000  1364   \n",
              "1364  9004411  2010-01-01 00:00:00.000  2021-09-21 00:00:00.000  1364   \n",
              "1364  9004411  2010-01-01 00:00:00.000  2021-09-21 00:00:00.000  1364   \n",
              "1364  9004411  2010-01-01 00:00:00.000  2021-09-21 00:00:00.000  1364   \n",
              "1364  9004411  2010-01-01 00:00:00.000  2021-09-21 00:00:00.000  1364   \n",
              "\n",
              "                                              dev          Brand  \\\n",
              "1364  Röntgengenomlysningssystem, mobilt digitalt  GE Healthcare   \n",
              "1364  Röntgengenomlysningssystem, mobilt digitalt  GE Healthcare   \n",
              "1364  Röntgengenomlysningssystem, mobilt digitalt  GE Healthcare   \n",
              "1364  Röntgengenomlysningssystem, mobilt digitalt  GE Healthcare   \n",
              "1364  Röntgengenomlysningssystem, mobilt digitalt  GE Healthcare   \n",
              "...                                           ...            ...   \n",
              "1364  Röntgengenomlysningssystem, mobilt digitalt  GE Healthcare   \n",
              "1364  Röntgengenomlysningssystem, mobilt digitalt  GE Healthcare   \n",
              "1364  Röntgengenomlysningssystem, mobilt digitalt  GE Healthcare   \n",
              "1364  Röntgengenomlysningssystem, mobilt digitalt  GE Healthcare   \n",
              "1364  Röntgengenomlysningssystem, mobilt digitalt  GE Healthcare   \n",
              "\n",
              "                    Model  calc.Risk     ID_y                   issued  \\\n",
              "1364  OEC Fluorostar 7900       18.0  1233471  2019-05-03 00:00:00.000   \n",
              "1364  OEC Fluorostar 7900       18.0   662950  2017-05-26 00:00:00.000   \n",
              "1364  OEC Fluorostar 7900       18.0   612067  2016-01-04 00:00:00.000   \n",
              "1364  OEC Fluorostar 7900       18.0   393467  2012-07-23 00:00:00.000   \n",
              "1364  OEC Fluorostar 7900       18.0  1237176  2019-05-21 00:00:00.000   \n",
              "...                   ...        ...      ...                      ...   \n",
              "1364  OEC Fluorostar 7900       18.0   661092  2017-05-09 00:00:00.000   \n",
              "1364  OEC Fluorostar 7900       18.0   401150  2012-12-07 00:00:00.000   \n",
              "1364  OEC Fluorostar 7900       18.0  1320059  2020-08-13 00:00:00.000   \n",
              "1364  OEC Fluorostar 7900       18.0   601812  2015-09-30 00:00:00.000   \n",
              "1364  OEC Fluorostar 7900       18.0   656171  2017-03-16 00:00:00.000   \n",
              "\n",
              "                    Completed              AOEkKlarDat  InventarieID  \\\n",
              "1364  2019-05-09 00:00:00.000  2019-05-09 00:00:00.000        1364.0   \n",
              "1364  2017-05-26 00:00:00.000  2017-05-26 00:00:00.000        1364.0   \n",
              "1364  2016-01-04 00:00:00.000  2016-01-04 00:00:00.000        1364.0   \n",
              "1364  2012-12-21 00:00:00.000  2012-12-21 00:00:00.000        1364.0   \n",
              "1364  2019-05-21 00:00:00.000  2019-05-21 00:00:00.000        1364.0   \n",
              "...                       ...                      ...           ...   \n",
              "1364  2017-05-10 00:00:00.000  2017-05-10 00:00:00.000        1364.0   \n",
              "1364  2012-12-20 00:00:00.000  2012-12-20 00:00:00.000        1364.0   \n",
              "1364  2020-08-13 00:00:00.000  2020-08-13 00:00:00.000        1364.0   \n",
              "1364  2015-10-01 00:00:00.000  2015-10-01 00:00:00.000        1364.0   \n",
              "1364  2017-03-16 00:00:00.000  2017-03-16 00:00:00.000        1364.0   \n",
              "\n",
              "      inventarieID     last_wo    first_wo  Count_wo  meantime  \n",
              "1364        1364.0  2020-08-13  2011-03-25        65        52  \n",
              "1364        1364.0  2020-08-13  2011-03-25        65        52  \n",
              "1364        1364.0  2020-08-13  2011-03-25        65        52  \n",
              "1364        1364.0  2020-08-13  2011-03-25        65        52  \n",
              "1364        1364.0  2020-08-13  2011-03-25        65        52  \n",
              "...            ...         ...         ...       ...       ...  \n",
              "1364        1364.0  2020-08-13  2011-03-25        65        52  \n",
              "1364        1364.0  2020-08-13  2011-03-25        65        52  \n",
              "1364        1364.0  2020-08-13  2011-03-25        65        52  \n",
              "1364        1364.0  2020-08-13  2011-03-25        65        52  \n",
              "1364        1364.0  2020-08-13  2011-03-25        65        52  \n",
              "\n",
              "[64 rows x 18 columns]"
            ],
            "text/html": [
              "\n",
              "  <div id=\"df-9be50327-17d7-49c7-8e2c-749c99a0ab18\">\n",
              "    <div class=\"colab-df-container\">\n",
              "      <div>\n",
              "<style scoped>\n",
              "    .dataframe tbody tr th:only-of-type {\n",
              "        vertical-align: middle;\n",
              "    }\n",
              "\n",
              "    .dataframe tbody tr th {\n",
              "        vertical-align: top;\n",
              "    }\n",
              "\n",
              "    .dataframe thead th {\n",
              "        text-align: right;\n",
              "    }\n",
              "</style>\n",
              "<table border=\"1\" class=\"dataframe\">\n",
              "  <thead>\n",
              "    <tr style=\"text-align: right;\">\n",
              "      <th></th>\n",
              "      <th>InvNr</th>\n",
              "      <th>Equip.reg_date</th>\n",
              "      <th>Scrapped_date</th>\n",
              "      <th>ID_x</th>\n",
              "      <th>dev</th>\n",
              "      <th>Brand</th>\n",
              "      <th>Model</th>\n",
              "      <th>calc.Risk</th>\n",
              "      <th>ID_y</th>\n",
              "      <th>issued</th>\n",
              "      <th>Completed</th>\n",
              "      <th>AOEkKlarDat</th>\n",
              "      <th>InventarieID</th>\n",
              "      <th>inventarieID</th>\n",
              "      <th>last_wo</th>\n",
              "      <th>first_wo</th>\n",
              "      <th>Count_wo</th>\n",
              "      <th>meantime</th>\n",
              "    </tr>\n",
              "  </thead>\n",
              "  <tbody>\n",
              "    <tr>\n",
              "      <th>1364</th>\n",
              "      <td>9004411</td>\n",
              "      <td>2010-01-01 00:00:00.000</td>\n",
              "      <td>2021-09-21 00:00:00.000</td>\n",
              "      <td>1364</td>\n",
              "      <td>Röntgengenomlysningssystem, mobilt digitalt</td>\n",
              "      <td>GE Healthcare</td>\n",
              "      <td>OEC Fluorostar 7900</td>\n",
              "      <td>18.0</td>\n",
              "      <td>1233471</td>\n",
              "      <td>2019-05-03 00:00:00.000</td>\n",
              "      <td>2019-05-09 00:00:00.000</td>\n",
              "      <td>2019-05-09 00:00:00.000</td>\n",
              "      <td>1364.0</td>\n",
              "      <td>1364.0</td>\n",
              "      <td>2020-08-13</td>\n",
              "      <td>2011-03-25</td>\n",
              "      <td>65</td>\n",
              "      <td>52</td>\n",
              "    </tr>\n",
              "    <tr>\n",
              "      <th>1364</th>\n",
              "      <td>9004411</td>\n",
              "      <td>2010-01-01 00:00:00.000</td>\n",
              "      <td>2021-09-21 00:00:00.000</td>\n",
              "      <td>1364</td>\n",
              "      <td>Röntgengenomlysningssystem, mobilt digitalt</td>\n",
              "      <td>GE Healthcare</td>\n",
              "      <td>OEC Fluorostar 7900</td>\n",
              "      <td>18.0</td>\n",
              "      <td>662950</td>\n",
              "      <td>2017-05-26 00:00:00.000</td>\n",
              "      <td>2017-05-26 00:00:00.000</td>\n",
              "      <td>2017-05-26 00:00:00.000</td>\n",
              "      <td>1364.0</td>\n",
              "      <td>1364.0</td>\n",
              "      <td>2020-08-13</td>\n",
              "      <td>2011-03-25</td>\n",
              "      <td>65</td>\n",
              "      <td>52</td>\n",
              "    </tr>\n",
              "    <tr>\n",
              "      <th>1364</th>\n",
              "      <td>9004411</td>\n",
              "      <td>2010-01-01 00:00:00.000</td>\n",
              "      <td>2021-09-21 00:00:00.000</td>\n",
              "      <td>1364</td>\n",
              "      <td>Röntgengenomlysningssystem, mobilt digitalt</td>\n",
              "      <td>GE Healthcare</td>\n",
              "      <td>OEC Fluorostar 7900</td>\n",
              "      <td>18.0</td>\n",
              "      <td>612067</td>\n",
              "      <td>2016-01-04 00:00:00.000</td>\n",
              "      <td>2016-01-04 00:00:00.000</td>\n",
              "      <td>2016-01-04 00:00:00.000</td>\n",
              "      <td>1364.0</td>\n",
              "      <td>1364.0</td>\n",
              "      <td>2020-08-13</td>\n",
              "      <td>2011-03-25</td>\n",
              "      <td>65</td>\n",
              "      <td>52</td>\n",
              "    </tr>\n",
              "    <tr>\n",
              "      <th>1364</th>\n",
              "      <td>9004411</td>\n",
              "      <td>2010-01-01 00:00:00.000</td>\n",
              "      <td>2021-09-21 00:00:00.000</td>\n",
              "      <td>1364</td>\n",
              "      <td>Röntgengenomlysningssystem, mobilt digitalt</td>\n",
              "      <td>GE Healthcare</td>\n",
              "      <td>OEC Fluorostar 7900</td>\n",
              "      <td>18.0</td>\n",
              "      <td>393467</td>\n",
              "      <td>2012-07-23 00:00:00.000</td>\n",
              "      <td>2012-12-21 00:00:00.000</td>\n",
              "      <td>2012-12-21 00:00:00.000</td>\n",
              "      <td>1364.0</td>\n",
              "      <td>1364.0</td>\n",
              "      <td>2020-08-13</td>\n",
              "      <td>2011-03-25</td>\n",
              "      <td>65</td>\n",
              "      <td>52</td>\n",
              "    </tr>\n",
              "    <tr>\n",
              "      <th>1364</th>\n",
              "      <td>9004411</td>\n",
              "      <td>2010-01-01 00:00:00.000</td>\n",
              "      <td>2021-09-21 00:00:00.000</td>\n",
              "      <td>1364</td>\n",
              "      <td>Röntgengenomlysningssystem, mobilt digitalt</td>\n",
              "      <td>GE Healthcare</td>\n",
              "      <td>OEC Fluorostar 7900</td>\n",
              "      <td>18.0</td>\n",
              "      <td>1237176</td>\n",
              "      <td>2019-05-21 00:00:00.000</td>\n",
              "      <td>2019-05-21 00:00:00.000</td>\n",
              "      <td>2019-05-21 00:00:00.000</td>\n",
              "      <td>1364.0</td>\n",
              "      <td>1364.0</td>\n",
              "      <td>2020-08-13</td>\n",
              "      <td>2011-03-25</td>\n",
              "      <td>65</td>\n",
              "      <td>52</td>\n",
              "    </tr>\n",
              "    <tr>\n",
              "      <th>...</th>\n",
              "      <td>...</td>\n",
              "      <td>...</td>\n",
              "      <td>...</td>\n",
              "      <td>...</td>\n",
              "      <td>...</td>\n",
              "      <td>...</td>\n",
              "      <td>...</td>\n",
              "      <td>...</td>\n",
              "      <td>...</td>\n",
              "      <td>...</td>\n",
              "      <td>...</td>\n",
              "      <td>...</td>\n",
              "      <td>...</td>\n",
              "      <td>...</td>\n",
              "      <td>...</td>\n",
              "      <td>...</td>\n",
              "      <td>...</td>\n",
              "      <td>...</td>\n",
              "    </tr>\n",
              "    <tr>\n",
              "      <th>1364</th>\n",
              "      <td>9004411</td>\n",
              "      <td>2010-01-01 00:00:00.000</td>\n",
              "      <td>2021-09-21 00:00:00.000</td>\n",
              "      <td>1364</td>\n",
              "      <td>Röntgengenomlysningssystem, mobilt digitalt</td>\n",
              "      <td>GE Healthcare</td>\n",
              "      <td>OEC Fluorostar 7900</td>\n",
              "      <td>18.0</td>\n",
              "      <td>661092</td>\n",
              "      <td>2017-05-09 00:00:00.000</td>\n",
              "      <td>2017-05-10 00:00:00.000</td>\n",
              "      <td>2017-05-10 00:00:00.000</td>\n",
              "      <td>1364.0</td>\n",
              "      <td>1364.0</td>\n",
              "      <td>2020-08-13</td>\n",
              "      <td>2011-03-25</td>\n",
              "      <td>65</td>\n",
              "      <td>52</td>\n",
              "    </tr>\n",
              "    <tr>\n",
              "      <th>1364</th>\n",
              "      <td>9004411</td>\n",
              "      <td>2010-01-01 00:00:00.000</td>\n",
              "      <td>2021-09-21 00:00:00.000</td>\n",
              "      <td>1364</td>\n",
              "      <td>Röntgengenomlysningssystem, mobilt digitalt</td>\n",
              "      <td>GE Healthcare</td>\n",
              "      <td>OEC Fluorostar 7900</td>\n",
              "      <td>18.0</td>\n",
              "      <td>401150</td>\n",
              "      <td>2012-12-07 00:00:00.000</td>\n",
              "      <td>2012-12-20 00:00:00.000</td>\n",
              "      <td>2012-12-20 00:00:00.000</td>\n",
              "      <td>1364.0</td>\n",
              "      <td>1364.0</td>\n",
              "      <td>2020-08-13</td>\n",
              "      <td>2011-03-25</td>\n",
              "      <td>65</td>\n",
              "      <td>52</td>\n",
              "    </tr>\n",
              "    <tr>\n",
              "      <th>1364</th>\n",
              "      <td>9004411</td>\n",
              "      <td>2010-01-01 00:00:00.000</td>\n",
              "      <td>2021-09-21 00:00:00.000</td>\n",
              "      <td>1364</td>\n",
              "      <td>Röntgengenomlysningssystem, mobilt digitalt</td>\n",
              "      <td>GE Healthcare</td>\n",
              "      <td>OEC Fluorostar 7900</td>\n",
              "      <td>18.0</td>\n",
              "      <td>1320059</td>\n",
              "      <td>2020-08-13 00:00:00.000</td>\n",
              "      <td>2020-08-13 00:00:00.000</td>\n",
              "      <td>2020-08-13 00:00:00.000</td>\n",
              "      <td>1364.0</td>\n",
              "      <td>1364.0</td>\n",
              "      <td>2020-08-13</td>\n",
              "      <td>2011-03-25</td>\n",
              "      <td>65</td>\n",
              "      <td>52</td>\n",
              "    </tr>\n",
              "    <tr>\n",
              "      <th>1364</th>\n",
              "      <td>9004411</td>\n",
              "      <td>2010-01-01 00:00:00.000</td>\n",
              "      <td>2021-09-21 00:00:00.000</td>\n",
              "      <td>1364</td>\n",
              "      <td>Röntgengenomlysningssystem, mobilt digitalt</td>\n",
              "      <td>GE Healthcare</td>\n",
              "      <td>OEC Fluorostar 7900</td>\n",
              "      <td>18.0</td>\n",
              "      <td>601812</td>\n",
              "      <td>2015-09-30 00:00:00.000</td>\n",
              "      <td>2015-10-01 00:00:00.000</td>\n",
              "      <td>2015-10-01 00:00:00.000</td>\n",
              "      <td>1364.0</td>\n",
              "      <td>1364.0</td>\n",
              "      <td>2020-08-13</td>\n",
              "      <td>2011-03-25</td>\n",
              "      <td>65</td>\n",
              "      <td>52</td>\n",
              "    </tr>\n",
              "    <tr>\n",
              "      <th>1364</th>\n",
              "      <td>9004411</td>\n",
              "      <td>2010-01-01 00:00:00.000</td>\n",
              "      <td>2021-09-21 00:00:00.000</td>\n",
              "      <td>1364</td>\n",
              "      <td>Röntgengenomlysningssystem, mobilt digitalt</td>\n",
              "      <td>GE Healthcare</td>\n",
              "      <td>OEC Fluorostar 7900</td>\n",
              "      <td>18.0</td>\n",
              "      <td>656171</td>\n",
              "      <td>2017-03-16 00:00:00.000</td>\n",
              "      <td>2017-03-16 00:00:00.000</td>\n",
              "      <td>2017-03-16 00:00:00.000</td>\n",
              "      <td>1364.0</td>\n",
              "      <td>1364.0</td>\n",
              "      <td>2020-08-13</td>\n",
              "      <td>2011-03-25</td>\n",
              "      <td>65</td>\n",
              "      <td>52</td>\n",
              "    </tr>\n",
              "  </tbody>\n",
              "</table>\n",
              "<p>64 rows × 18 columns</p>\n",
              "</div>\n",
              "      <button class=\"colab-df-convert\" onclick=\"convertToInteractive('df-9be50327-17d7-49c7-8e2c-749c99a0ab18')\"\n",
              "              title=\"Convert this dataframe to an interactive table.\"\n",
              "              style=\"display:none;\">\n",
              "        \n",
              "  <svg xmlns=\"http://www.w3.org/2000/svg\" height=\"24px\"viewBox=\"0 0 24 24\"\n",
              "       width=\"24px\">\n",
              "    <path d=\"M0 0h24v24H0V0z\" fill=\"none\"/>\n",
              "    <path d=\"M18.56 5.44l.94 2.06.94-2.06 2.06-.94-2.06-.94-.94-2.06-.94 2.06-2.06.94zm-11 1L8.5 8.5l.94-2.06 2.06-.94-2.06-.94L8.5 2.5l-.94 2.06-2.06.94zm10 10l.94 2.06.94-2.06 2.06-.94-2.06-.94-.94-2.06-.94 2.06-2.06.94z\"/><path d=\"M17.41 7.96l-1.37-1.37c-.4-.4-.92-.59-1.43-.59-.52 0-1.04.2-1.43.59L10.3 9.45l-7.72 7.72c-.78.78-.78 2.05 0 2.83L4 21.41c.39.39.9.59 1.41.59.51 0 1.02-.2 1.41-.59l7.78-7.78 2.81-2.81c.8-.78.8-2.07 0-2.86zM5.41 20L4 18.59l7.72-7.72 1.47 1.35L5.41 20z\"/>\n",
              "  </svg>\n",
              "      </button>\n",
              "      \n",
              "  <style>\n",
              "    .colab-df-container {\n",
              "      display:flex;\n",
              "      flex-wrap:wrap;\n",
              "      gap: 12px;\n",
              "    }\n",
              "\n",
              "    .colab-df-convert {\n",
              "      background-color: #E8F0FE;\n",
              "      border: none;\n",
              "      border-radius: 50%;\n",
              "      cursor: pointer;\n",
              "      display: none;\n",
              "      fill: #1967D2;\n",
              "      height: 32px;\n",
              "      padding: 0 0 0 0;\n",
              "      width: 32px;\n",
              "    }\n",
              "\n",
              "    .colab-df-convert:hover {\n",
              "      background-color: #E2EBFA;\n",
              "      box-shadow: 0px 1px 2px rgba(60, 64, 67, 0.3), 0px 1px 3px 1px rgba(60, 64, 67, 0.15);\n",
              "      fill: #174EA6;\n",
              "    }\n",
              "\n",
              "    [theme=dark] .colab-df-convert {\n",
              "      background-color: #3B4455;\n",
              "      fill: #D2E3FC;\n",
              "    }\n",
              "\n",
              "    [theme=dark] .colab-df-convert:hover {\n",
              "      background-color: #434B5C;\n",
              "      box-shadow: 0px 1px 3px 1px rgba(0, 0, 0, 0.15);\n",
              "      filter: drop-shadow(0px 1px 2px rgba(0, 0, 0, 0.3));\n",
              "      fill: #FFFFFF;\n",
              "    }\n",
              "  </style>\n",
              "\n",
              "      <script>\n",
              "        const buttonEl =\n",
              "          document.querySelector('#df-9be50327-17d7-49c7-8e2c-749c99a0ab18 button.colab-df-convert');\n",
              "        buttonEl.style.display =\n",
              "          google.colab.kernel.accessAllowed ? 'block' : 'none';\n",
              "\n",
              "        async function convertToInteractive(key) {\n",
              "          const element = document.querySelector('#df-9be50327-17d7-49c7-8e2c-749c99a0ab18');\n",
              "          const dataTable =\n",
              "            await google.colab.kernel.invokeFunction('convertToInteractive',\n",
              "                                                     [key], {});\n",
              "          if (!dataTable) return;\n",
              "\n",
              "          const docLinkHtml = 'Like what you see? Visit the ' +\n",
              "            '<a target=\"_blank\" href=https://colab.research.google.com/notebooks/data_table.ipynb>data table notebook</a>'\n",
              "            + ' to learn more about interactive tables.';\n",
              "          element.innerHTML = '';\n",
              "          dataTable['output_type'] = 'display_data';\n",
              "          await google.colab.output.renderOutput(dataTable, element);\n",
              "          const docLink = document.createElement('div');\n",
              "          docLink.innerHTML = docLinkHtml;\n",
              "          element.appendChild(docLink);\n",
              "        }\n",
              "      </script>\n",
              "    </div>\n",
              "  </div>\n",
              "  "
            ]
          },
          "metadata": {},
          "execution_count": 99
        }
      ],
      "source": [
        "tes"
      ]
    },
    {
      "cell_type": "code",
      "execution_count": 100,
      "metadata": {
        "id": "uLa8AiKHy2nz"
      },
      "outputs": [],
      "source": [
        "alldata_wo_eq.drop(columns=['InvNr','Brand','Model','AOEkKlarDat','Completed','last_wo','first_wo','ID_x'],inplace=True)"
      ]
    },
    {
      "cell_type": "code",
      "execution_count": 101,
      "metadata": {
        "id": "B39g7tlq27XG",
        "colab": {
          "base_uri": "https://localhost:8080/",
          "height": 188
        },
        "outputId": "b649324e-700d-4e54-d507-d2a280f31c57"
      },
      "outputs": [
        {
          "output_type": "execute_result",
          "data": {
            "text/plain": [
              "               Equip.reg_date            Scrapped_date  \\\n",
              "1364  2010-01-01 00:00:00.000  2021-09-21 00:00:00.000   \n",
              "1364  2010-01-01 00:00:00.000  2021-09-21 00:00:00.000   \n",
              "1364  2010-01-01 00:00:00.000  2021-09-21 00:00:00.000   \n",
              "\n",
              "                                              dev  calc.Risk     ID_y  \\\n",
              "1364  Röntgengenomlysningssystem, mobilt digitalt       18.0  1233471   \n",
              "1364  Röntgengenomlysningssystem, mobilt digitalt       18.0   662950   \n",
              "1364  Röntgengenomlysningssystem, mobilt digitalt       18.0   612067   \n",
              "\n",
              "                       issued  InventarieID  inventarieID  Count_wo  meantime  \n",
              "1364  2019-05-03 00:00:00.000        1364.0        1364.0        65        52  \n",
              "1364  2017-05-26 00:00:00.000        1364.0        1364.0        65        52  \n",
              "1364  2016-01-04 00:00:00.000        1364.0        1364.0        65        52  "
            ],
            "text/html": [
              "\n",
              "  <div id=\"df-7eb2fc45-128b-4a22-8d6b-1b9ed425c2a0\">\n",
              "    <div class=\"colab-df-container\">\n",
              "      <div>\n",
              "<style scoped>\n",
              "    .dataframe tbody tr th:only-of-type {\n",
              "        vertical-align: middle;\n",
              "    }\n",
              "\n",
              "    .dataframe tbody tr th {\n",
              "        vertical-align: top;\n",
              "    }\n",
              "\n",
              "    .dataframe thead th {\n",
              "        text-align: right;\n",
              "    }\n",
              "</style>\n",
              "<table border=\"1\" class=\"dataframe\">\n",
              "  <thead>\n",
              "    <tr style=\"text-align: right;\">\n",
              "      <th></th>\n",
              "      <th>Equip.reg_date</th>\n",
              "      <th>Scrapped_date</th>\n",
              "      <th>dev</th>\n",
              "      <th>calc.Risk</th>\n",
              "      <th>ID_y</th>\n",
              "      <th>issued</th>\n",
              "      <th>InventarieID</th>\n",
              "      <th>inventarieID</th>\n",
              "      <th>Count_wo</th>\n",
              "      <th>meantime</th>\n",
              "    </tr>\n",
              "  </thead>\n",
              "  <tbody>\n",
              "    <tr>\n",
              "      <th>1364</th>\n",
              "      <td>2010-01-01 00:00:00.000</td>\n",
              "      <td>2021-09-21 00:00:00.000</td>\n",
              "      <td>Röntgengenomlysningssystem, mobilt digitalt</td>\n",
              "      <td>18.0</td>\n",
              "      <td>1233471</td>\n",
              "      <td>2019-05-03 00:00:00.000</td>\n",
              "      <td>1364.0</td>\n",
              "      <td>1364.0</td>\n",
              "      <td>65</td>\n",
              "      <td>52</td>\n",
              "    </tr>\n",
              "    <tr>\n",
              "      <th>1364</th>\n",
              "      <td>2010-01-01 00:00:00.000</td>\n",
              "      <td>2021-09-21 00:00:00.000</td>\n",
              "      <td>Röntgengenomlysningssystem, mobilt digitalt</td>\n",
              "      <td>18.0</td>\n",
              "      <td>662950</td>\n",
              "      <td>2017-05-26 00:00:00.000</td>\n",
              "      <td>1364.0</td>\n",
              "      <td>1364.0</td>\n",
              "      <td>65</td>\n",
              "      <td>52</td>\n",
              "    </tr>\n",
              "    <tr>\n",
              "      <th>1364</th>\n",
              "      <td>2010-01-01 00:00:00.000</td>\n",
              "      <td>2021-09-21 00:00:00.000</td>\n",
              "      <td>Röntgengenomlysningssystem, mobilt digitalt</td>\n",
              "      <td>18.0</td>\n",
              "      <td>612067</td>\n",
              "      <td>2016-01-04 00:00:00.000</td>\n",
              "      <td>1364.0</td>\n",
              "      <td>1364.0</td>\n",
              "      <td>65</td>\n",
              "      <td>52</td>\n",
              "    </tr>\n",
              "  </tbody>\n",
              "</table>\n",
              "</div>\n",
              "      <button class=\"colab-df-convert\" onclick=\"convertToInteractive('df-7eb2fc45-128b-4a22-8d6b-1b9ed425c2a0')\"\n",
              "              title=\"Convert this dataframe to an interactive table.\"\n",
              "              style=\"display:none;\">\n",
              "        \n",
              "  <svg xmlns=\"http://www.w3.org/2000/svg\" height=\"24px\"viewBox=\"0 0 24 24\"\n",
              "       width=\"24px\">\n",
              "    <path d=\"M0 0h24v24H0V0z\" fill=\"none\"/>\n",
              "    <path d=\"M18.56 5.44l.94 2.06.94-2.06 2.06-.94-2.06-.94-.94-2.06-.94 2.06-2.06.94zm-11 1L8.5 8.5l.94-2.06 2.06-.94-2.06-.94L8.5 2.5l-.94 2.06-2.06.94zm10 10l.94 2.06.94-2.06 2.06-.94-2.06-.94-.94-2.06-.94 2.06-2.06.94z\"/><path d=\"M17.41 7.96l-1.37-1.37c-.4-.4-.92-.59-1.43-.59-.52 0-1.04.2-1.43.59L10.3 9.45l-7.72 7.72c-.78.78-.78 2.05 0 2.83L4 21.41c.39.39.9.59 1.41.59.51 0 1.02-.2 1.41-.59l7.78-7.78 2.81-2.81c.8-.78.8-2.07 0-2.86zM5.41 20L4 18.59l7.72-7.72 1.47 1.35L5.41 20z\"/>\n",
              "  </svg>\n",
              "      </button>\n",
              "      \n",
              "  <style>\n",
              "    .colab-df-container {\n",
              "      display:flex;\n",
              "      flex-wrap:wrap;\n",
              "      gap: 12px;\n",
              "    }\n",
              "\n",
              "    .colab-df-convert {\n",
              "      background-color: #E8F0FE;\n",
              "      border: none;\n",
              "      border-radius: 50%;\n",
              "      cursor: pointer;\n",
              "      display: none;\n",
              "      fill: #1967D2;\n",
              "      height: 32px;\n",
              "      padding: 0 0 0 0;\n",
              "      width: 32px;\n",
              "    }\n",
              "\n",
              "    .colab-df-convert:hover {\n",
              "      background-color: #E2EBFA;\n",
              "      box-shadow: 0px 1px 2px rgba(60, 64, 67, 0.3), 0px 1px 3px 1px rgba(60, 64, 67, 0.15);\n",
              "      fill: #174EA6;\n",
              "    }\n",
              "\n",
              "    [theme=dark] .colab-df-convert {\n",
              "      background-color: #3B4455;\n",
              "      fill: #D2E3FC;\n",
              "    }\n",
              "\n",
              "    [theme=dark] .colab-df-convert:hover {\n",
              "      background-color: #434B5C;\n",
              "      box-shadow: 0px 1px 3px 1px rgba(0, 0, 0, 0.15);\n",
              "      filter: drop-shadow(0px 1px 2px rgba(0, 0, 0, 0.3));\n",
              "      fill: #FFFFFF;\n",
              "    }\n",
              "  </style>\n",
              "\n",
              "      <script>\n",
              "        const buttonEl =\n",
              "          document.querySelector('#df-7eb2fc45-128b-4a22-8d6b-1b9ed425c2a0 button.colab-df-convert');\n",
              "        buttonEl.style.display =\n",
              "          google.colab.kernel.accessAllowed ? 'block' : 'none';\n",
              "\n",
              "        async function convertToInteractive(key) {\n",
              "          const element = document.querySelector('#df-7eb2fc45-128b-4a22-8d6b-1b9ed425c2a0');\n",
              "          const dataTable =\n",
              "            await google.colab.kernel.invokeFunction('convertToInteractive',\n",
              "                                                     [key], {});\n",
              "          if (!dataTable) return;\n",
              "\n",
              "          const docLinkHtml = 'Like what you see? Visit the ' +\n",
              "            '<a target=\"_blank\" href=https://colab.research.google.com/notebooks/data_table.ipynb>data table notebook</a>'\n",
              "            + ' to learn more about interactive tables.';\n",
              "          element.innerHTML = '';\n",
              "          dataTable['output_type'] = 'display_data';\n",
              "          await google.colab.output.renderOutput(dataTable, element);\n",
              "          const docLink = document.createElement('div');\n",
              "          docLink.innerHTML = docLinkHtml;\n",
              "          element.appendChild(docLink);\n",
              "        }\n",
              "      </script>\n",
              "    </div>\n",
              "  </div>\n",
              "  "
            ]
          },
          "metadata": {},
          "execution_count": 101
        }
      ],
      "source": [
        "alldata_wo_eq.head(3)"
      ]
    },
    {
      "cell_type": "markdown",
      "metadata": {
        "id": "eDyxvGfBU9n_"
      },
      "source": [
        "**Obtain Age column**"
      ]
    },
    {
      "cell_type": "code",
      "execution_count": 102,
      "metadata": {
        "id": "fNVO8RHHVLrw"
      },
      "outputs": [],
      "source": [
        "alldata_wo_eq['Equip.reg_date']=pd.to_datetime(alldata_wo_eq['Equip.reg_date'])\n",
        "alldata_wo_eq['Scrapped_date']=pd.to_datetime(alldata_wo_eq['Scrapped_date'])\n",
        "\n"
      ]
    },
    {
      "cell_type": "code",
      "execution_count": 103,
      "metadata": {
        "id": "ms3SsJfPXAjX"
      },
      "outputs": [],
      "source": [
        "alldata_wo_eq['age']=(alldata_wo_eq['Scrapped_date']-alldata_wo_eq['Equip.reg_date']).dt.days\n"
      ]
    },
    {
      "cell_type": "code",
      "execution_count": 104,
      "metadata": {
        "id": "UyWmrmiZXuYf"
      },
      "outputs": [],
      "source": [
        "alldata_wo_eq.drop(columns=['Scrapped_date','InventarieID'],inplace=True)"
      ]
    },
    {
      "cell_type": "code",
      "execution_count": 105,
      "metadata": {
        "id": "wMDNYBB4XhbC",
        "colab": {
          "base_uri": "https://localhost:8080/",
          "height": 144
        },
        "outputId": "8337726a-2aca-4555-bddc-50ad3c4f1207"
      },
      "outputs": [
        {
          "output_type": "execute_result",
          "data": {
            "text/plain": [
              "     Equip.reg_date                                          dev  calc.Risk  \\\n",
              "1364     2010-01-01  Röntgengenomlysningssystem, mobilt digitalt       18.0   \n",
              "1364     2010-01-01  Röntgengenomlysningssystem, mobilt digitalt       18.0   \n",
              "1364     2010-01-01  Röntgengenomlysningssystem, mobilt digitalt       18.0   \n",
              "\n",
              "         ID_y                   issued  inventarieID  Count_wo  meantime   age  \n",
              "1364  1233471  2019-05-03 00:00:00.000        1364.0        65        52  4281  \n",
              "1364   662950  2017-05-26 00:00:00.000        1364.0        65        52  4281  \n",
              "1364   612067  2016-01-04 00:00:00.000        1364.0        65        52  4281  "
            ],
            "text/html": [
              "\n",
              "  <div id=\"df-f204bcf4-1382-440b-b8a9-afa7b1b6d781\">\n",
              "    <div class=\"colab-df-container\">\n",
              "      <div>\n",
              "<style scoped>\n",
              "    .dataframe tbody tr th:only-of-type {\n",
              "        vertical-align: middle;\n",
              "    }\n",
              "\n",
              "    .dataframe tbody tr th {\n",
              "        vertical-align: top;\n",
              "    }\n",
              "\n",
              "    .dataframe thead th {\n",
              "        text-align: right;\n",
              "    }\n",
              "</style>\n",
              "<table border=\"1\" class=\"dataframe\">\n",
              "  <thead>\n",
              "    <tr style=\"text-align: right;\">\n",
              "      <th></th>\n",
              "      <th>Equip.reg_date</th>\n",
              "      <th>dev</th>\n",
              "      <th>calc.Risk</th>\n",
              "      <th>ID_y</th>\n",
              "      <th>issued</th>\n",
              "      <th>inventarieID</th>\n",
              "      <th>Count_wo</th>\n",
              "      <th>meantime</th>\n",
              "      <th>age</th>\n",
              "    </tr>\n",
              "  </thead>\n",
              "  <tbody>\n",
              "    <tr>\n",
              "      <th>1364</th>\n",
              "      <td>2010-01-01</td>\n",
              "      <td>Röntgengenomlysningssystem, mobilt digitalt</td>\n",
              "      <td>18.0</td>\n",
              "      <td>1233471</td>\n",
              "      <td>2019-05-03 00:00:00.000</td>\n",
              "      <td>1364.0</td>\n",
              "      <td>65</td>\n",
              "      <td>52</td>\n",
              "      <td>4281</td>\n",
              "    </tr>\n",
              "    <tr>\n",
              "      <th>1364</th>\n",
              "      <td>2010-01-01</td>\n",
              "      <td>Röntgengenomlysningssystem, mobilt digitalt</td>\n",
              "      <td>18.0</td>\n",
              "      <td>662950</td>\n",
              "      <td>2017-05-26 00:00:00.000</td>\n",
              "      <td>1364.0</td>\n",
              "      <td>65</td>\n",
              "      <td>52</td>\n",
              "      <td>4281</td>\n",
              "    </tr>\n",
              "    <tr>\n",
              "      <th>1364</th>\n",
              "      <td>2010-01-01</td>\n",
              "      <td>Röntgengenomlysningssystem, mobilt digitalt</td>\n",
              "      <td>18.0</td>\n",
              "      <td>612067</td>\n",
              "      <td>2016-01-04 00:00:00.000</td>\n",
              "      <td>1364.0</td>\n",
              "      <td>65</td>\n",
              "      <td>52</td>\n",
              "      <td>4281</td>\n",
              "    </tr>\n",
              "  </tbody>\n",
              "</table>\n",
              "</div>\n",
              "      <button class=\"colab-df-convert\" onclick=\"convertToInteractive('df-f204bcf4-1382-440b-b8a9-afa7b1b6d781')\"\n",
              "              title=\"Convert this dataframe to an interactive table.\"\n",
              "              style=\"display:none;\">\n",
              "        \n",
              "  <svg xmlns=\"http://www.w3.org/2000/svg\" height=\"24px\"viewBox=\"0 0 24 24\"\n",
              "       width=\"24px\">\n",
              "    <path d=\"M0 0h24v24H0V0z\" fill=\"none\"/>\n",
              "    <path d=\"M18.56 5.44l.94 2.06.94-2.06 2.06-.94-2.06-.94-.94-2.06-.94 2.06-2.06.94zm-11 1L8.5 8.5l.94-2.06 2.06-.94-2.06-.94L8.5 2.5l-.94 2.06-2.06.94zm10 10l.94 2.06.94-2.06 2.06-.94-2.06-.94-.94-2.06-.94 2.06-2.06.94z\"/><path d=\"M17.41 7.96l-1.37-1.37c-.4-.4-.92-.59-1.43-.59-.52 0-1.04.2-1.43.59L10.3 9.45l-7.72 7.72c-.78.78-.78 2.05 0 2.83L4 21.41c.39.39.9.59 1.41.59.51 0 1.02-.2 1.41-.59l7.78-7.78 2.81-2.81c.8-.78.8-2.07 0-2.86zM5.41 20L4 18.59l7.72-7.72 1.47 1.35L5.41 20z\"/>\n",
              "  </svg>\n",
              "      </button>\n",
              "      \n",
              "  <style>\n",
              "    .colab-df-container {\n",
              "      display:flex;\n",
              "      flex-wrap:wrap;\n",
              "      gap: 12px;\n",
              "    }\n",
              "\n",
              "    .colab-df-convert {\n",
              "      background-color: #E8F0FE;\n",
              "      border: none;\n",
              "      border-radius: 50%;\n",
              "      cursor: pointer;\n",
              "      display: none;\n",
              "      fill: #1967D2;\n",
              "      height: 32px;\n",
              "      padding: 0 0 0 0;\n",
              "      width: 32px;\n",
              "    }\n",
              "\n",
              "    .colab-df-convert:hover {\n",
              "      background-color: #E2EBFA;\n",
              "      box-shadow: 0px 1px 2px rgba(60, 64, 67, 0.3), 0px 1px 3px 1px rgba(60, 64, 67, 0.15);\n",
              "      fill: #174EA6;\n",
              "    }\n",
              "\n",
              "    [theme=dark] .colab-df-convert {\n",
              "      background-color: #3B4455;\n",
              "      fill: #D2E3FC;\n",
              "    }\n",
              "\n",
              "    [theme=dark] .colab-df-convert:hover {\n",
              "      background-color: #434B5C;\n",
              "      box-shadow: 0px 1px 3px 1px rgba(0, 0, 0, 0.15);\n",
              "      filter: drop-shadow(0px 1px 2px rgba(0, 0, 0, 0.3));\n",
              "      fill: #FFFFFF;\n",
              "    }\n",
              "  </style>\n",
              "\n",
              "      <script>\n",
              "        const buttonEl =\n",
              "          document.querySelector('#df-f204bcf4-1382-440b-b8a9-afa7b1b6d781 button.colab-df-convert');\n",
              "        buttonEl.style.display =\n",
              "          google.colab.kernel.accessAllowed ? 'block' : 'none';\n",
              "\n",
              "        async function convertToInteractive(key) {\n",
              "          const element = document.querySelector('#df-f204bcf4-1382-440b-b8a9-afa7b1b6d781');\n",
              "          const dataTable =\n",
              "            await google.colab.kernel.invokeFunction('convertToInteractive',\n",
              "                                                     [key], {});\n",
              "          if (!dataTable) return;\n",
              "\n",
              "          const docLinkHtml = 'Like what you see? Visit the ' +\n",
              "            '<a target=\"_blank\" href=https://colab.research.google.com/notebooks/data_table.ipynb>data table notebook</a>'\n",
              "            + ' to learn more about interactive tables.';\n",
              "          element.innerHTML = '';\n",
              "          dataTable['output_type'] = 'display_data';\n",
              "          await google.colab.output.renderOutput(dataTable, element);\n",
              "          const docLink = document.createElement('div');\n",
              "          docLink.innerHTML = docLinkHtml;\n",
              "          element.appendChild(docLink);\n",
              "        }\n",
              "      </script>\n",
              "    </div>\n",
              "  </div>\n",
              "  "
            ]
          },
          "metadata": {},
          "execution_count": 105
        }
      ],
      "source": [
        "alldata_wo_eq.head(3)"
      ]
    },
    {
      "cell_type": "code",
      "source": [
        "# we have got 1782 registered devices within our data set\n",
        "alldata_wo_eq.dev.nunique()"
      ],
      "metadata": {
        "id": "sQfQ1by_fbn7",
        "colab": {
          "base_uri": "https://localhost:8080/"
        },
        "outputId": "22a6d739-8d03-4721-a10d-052bf2d34818"
      },
      "execution_count": 106,
      "outputs": [
        {
          "output_type": "execute_result",
          "data": {
            "text/plain": [
              "1782"
            ]
          },
          "metadata": {},
          "execution_count": 106
        }
      ]
    },
    {
      "cell_type": "code",
      "source": [
        "#checking the highest device with the highest no of samples \n",
        "alldata_wo_eq.dev.value_counts()"
      ],
      "metadata": {
        "id": "iafgRb8MYY4W",
        "colab": {
          "base_uri": "https://localhost:8080/"
        },
        "outputId": "a9e8da7c-6823-4d7c-a58c-6b588c4a17e2"
      },
      "execution_count": 107,
      "outputs": [
        {
          "output_type": "execute_result",
          "data": {
            "text/plain": [
              "Infusionspump, volym                             18798\n",
              "Dialysapparat, hemo                              15682\n",
              "Infusionspump, sprut- Nätdriven                  14825\n",
              "Patientmonitor multiparameter                    13188\n",
              "Termometer öron IR                                7159\n",
              "                                                 ...  \n",
              "Patientpositioneringssystem, bild/strålterapi        1\n",
              "Stativ                                               1\n",
              "Verktygslåda                                         1\n",
              "HjärtLungmaskin-Vakumregulator                       1\n",
              "Förslutningsapparat för mikroplatta/or               1\n",
              "Name: dev, Length: 1782, dtype: int64"
            ]
          },
          "metadata": {},
          "execution_count": 107
        }
      ]
    },
    {
      "cell_type": "code",
      "source": [
        "#devices counter\n",
        "dev_count=alldata_wo_eq.dev.value_counts()"
      ],
      "metadata": {
        "id": "WS_4LwYdgkqv"
      },
      "execution_count": 108,
      "outputs": []
    },
    {
      "cell_type": "code",
      "source": [
        "dev_count.head(20)"
      ],
      "metadata": {
        "id": "gwANdMAxg-HU",
        "colab": {
          "base_uri": "https://localhost:8080/"
        },
        "outputId": "3960eda3-b76c-4098-b6bb-879e9743bc2b"
      },
      "execution_count": 109,
      "outputs": [
        {
          "output_type": "execute_result",
          "data": {
            "text/plain": [
              "Infusionspump, volym                             18798\n",
              "Dialysapparat, hemo                              15682\n",
              "Infusionspump, sprut- Nätdriven                  14825\n",
              "Patientmonitor multiparameter                    13188\n",
              "Termometer öron IR                                7159\n",
              "Oxygenkoncentrator stationär                      6247\n",
              "Lungventilator för hemsjukvård                    5893\n",
              "Lungventilator intensivvård                       5110\n",
              "Centrifug, laboratorie, allmän användning IVD     4894\n",
              "EKG-apparat                                       4700\n",
              "Ultraljudssystem, bildgivande universellt         4360\n",
              "Dator, panel (Medical grade)                      4264\n",
              "Diatermiapparat, kirurgisk                        4044\n",
              "Patientmonitor enkelmodul                         3897\n",
              "Patientmonitor                                    3867\n",
              "Anestesiarbetsstation                             3705\n",
              "Pulsoximeter nätdriven                            3663\n",
              "Infusionspump                                     3609\n",
              "Infusionspump, analgesi patientstyrd              3459\n",
              "CPAP-enhet                                        3419\n",
              "Name: dev, dtype: int64"
            ]
          },
          "metadata": {},
          "execution_count": 109
        }
      ]
    },
    {
      "cell_type": "markdown",
      "metadata": {
        "id": "k4f-bvjZr6qO"
      },
      "source": [
        "Query different devices"
      ]
    },
    {
      "cell_type": "markdown",
      "source": [
        "oxygen concentrators"
      ],
      "metadata": {
        "id": "h9jgSVh8k5Yf"
      }
    },
    {
      "cell_type": "code",
      "source": [
        "dataoxyhos1=alldata_wo_eq.query(\"dev == 'Oxygenkoncentrator stationär'\")\n",
        "\n"
      ],
      "metadata": {
        "id": "nBMmBoS5cJAN"
      },
      "execution_count": 110,
      "outputs": []
    },
    {
      "cell_type": "code",
      "source": [
        "dataoxyhos1.head(3)"
      ],
      "metadata": {
        "id": "Z4wwI3KLlap0",
        "colab": {
          "base_uri": "https://localhost:8080/",
          "height": 144
        },
        "outputId": "5a05dd2e-84a3-4c2c-fd94-cc101a19fc63"
      },
      "execution_count": 111,
      "outputs": [
        {
          "output_type": "execute_result",
          "data": {
            "text/plain": [
              "       Equip.reg_date                           dev  calc.Risk    ID_y  \\\n",
              "111459     2001-01-01  Oxygenkoncentrator stationär       31.0  486294   \n",
              "111459     2001-01-01  Oxygenkoncentrator stationär       31.0  495127   \n",
              "111459     2001-01-01  Oxygenkoncentrator stationär       31.0  425799   \n",
              "\n",
              "                         issued  inventarieID  Count_wo  meantime   age  \n",
              "111459  2002-02-19 00:00:00.000      111459.0         5       626  4799  \n",
              "111459  2005-03-03 00:00:00.000      111459.0         5       626  4799  \n",
              "111459  2009-08-04 00:00:00.000      111459.0         5       626  4799  "
            ],
            "text/html": [
              "\n",
              "  <div id=\"df-40f1341a-4eea-4e66-a29f-f2749cff8999\">\n",
              "    <div class=\"colab-df-container\">\n",
              "      <div>\n",
              "<style scoped>\n",
              "    .dataframe tbody tr th:only-of-type {\n",
              "        vertical-align: middle;\n",
              "    }\n",
              "\n",
              "    .dataframe tbody tr th {\n",
              "        vertical-align: top;\n",
              "    }\n",
              "\n",
              "    .dataframe thead th {\n",
              "        text-align: right;\n",
              "    }\n",
              "</style>\n",
              "<table border=\"1\" class=\"dataframe\">\n",
              "  <thead>\n",
              "    <tr style=\"text-align: right;\">\n",
              "      <th></th>\n",
              "      <th>Equip.reg_date</th>\n",
              "      <th>dev</th>\n",
              "      <th>calc.Risk</th>\n",
              "      <th>ID_y</th>\n",
              "      <th>issued</th>\n",
              "      <th>inventarieID</th>\n",
              "      <th>Count_wo</th>\n",
              "      <th>meantime</th>\n",
              "      <th>age</th>\n",
              "    </tr>\n",
              "  </thead>\n",
              "  <tbody>\n",
              "    <tr>\n",
              "      <th>111459</th>\n",
              "      <td>2001-01-01</td>\n",
              "      <td>Oxygenkoncentrator stationär</td>\n",
              "      <td>31.0</td>\n",
              "      <td>486294</td>\n",
              "      <td>2002-02-19 00:00:00.000</td>\n",
              "      <td>111459.0</td>\n",
              "      <td>5</td>\n",
              "      <td>626</td>\n",
              "      <td>4799</td>\n",
              "    </tr>\n",
              "    <tr>\n",
              "      <th>111459</th>\n",
              "      <td>2001-01-01</td>\n",
              "      <td>Oxygenkoncentrator stationär</td>\n",
              "      <td>31.0</td>\n",
              "      <td>495127</td>\n",
              "      <td>2005-03-03 00:00:00.000</td>\n",
              "      <td>111459.0</td>\n",
              "      <td>5</td>\n",
              "      <td>626</td>\n",
              "      <td>4799</td>\n",
              "    </tr>\n",
              "    <tr>\n",
              "      <th>111459</th>\n",
              "      <td>2001-01-01</td>\n",
              "      <td>Oxygenkoncentrator stationär</td>\n",
              "      <td>31.0</td>\n",
              "      <td>425799</td>\n",
              "      <td>2009-08-04 00:00:00.000</td>\n",
              "      <td>111459.0</td>\n",
              "      <td>5</td>\n",
              "      <td>626</td>\n",
              "      <td>4799</td>\n",
              "    </tr>\n",
              "  </tbody>\n",
              "</table>\n",
              "</div>\n",
              "      <button class=\"colab-df-convert\" onclick=\"convertToInteractive('df-40f1341a-4eea-4e66-a29f-f2749cff8999')\"\n",
              "              title=\"Convert this dataframe to an interactive table.\"\n",
              "              style=\"display:none;\">\n",
              "        \n",
              "  <svg xmlns=\"http://www.w3.org/2000/svg\" height=\"24px\"viewBox=\"0 0 24 24\"\n",
              "       width=\"24px\">\n",
              "    <path d=\"M0 0h24v24H0V0z\" fill=\"none\"/>\n",
              "    <path d=\"M18.56 5.44l.94 2.06.94-2.06 2.06-.94-2.06-.94-.94-2.06-.94 2.06-2.06.94zm-11 1L8.5 8.5l.94-2.06 2.06-.94-2.06-.94L8.5 2.5l-.94 2.06-2.06.94zm10 10l.94 2.06.94-2.06 2.06-.94-2.06-.94-.94-2.06-.94 2.06-2.06.94z\"/><path d=\"M17.41 7.96l-1.37-1.37c-.4-.4-.92-.59-1.43-.59-.52 0-1.04.2-1.43.59L10.3 9.45l-7.72 7.72c-.78.78-.78 2.05 0 2.83L4 21.41c.39.39.9.59 1.41.59.51 0 1.02-.2 1.41-.59l7.78-7.78 2.81-2.81c.8-.78.8-2.07 0-2.86zM5.41 20L4 18.59l7.72-7.72 1.47 1.35L5.41 20z\"/>\n",
              "  </svg>\n",
              "      </button>\n",
              "      \n",
              "  <style>\n",
              "    .colab-df-container {\n",
              "      display:flex;\n",
              "      flex-wrap:wrap;\n",
              "      gap: 12px;\n",
              "    }\n",
              "\n",
              "    .colab-df-convert {\n",
              "      background-color: #E8F0FE;\n",
              "      border: none;\n",
              "      border-radius: 50%;\n",
              "      cursor: pointer;\n",
              "      display: none;\n",
              "      fill: #1967D2;\n",
              "      height: 32px;\n",
              "      padding: 0 0 0 0;\n",
              "      width: 32px;\n",
              "    }\n",
              "\n",
              "    .colab-df-convert:hover {\n",
              "      background-color: #E2EBFA;\n",
              "      box-shadow: 0px 1px 2px rgba(60, 64, 67, 0.3), 0px 1px 3px 1px rgba(60, 64, 67, 0.15);\n",
              "      fill: #174EA6;\n",
              "    }\n",
              "\n",
              "    [theme=dark] .colab-df-convert {\n",
              "      background-color: #3B4455;\n",
              "      fill: #D2E3FC;\n",
              "    }\n",
              "\n",
              "    [theme=dark] .colab-df-convert:hover {\n",
              "      background-color: #434B5C;\n",
              "      box-shadow: 0px 1px 3px 1px rgba(0, 0, 0, 0.15);\n",
              "      filter: drop-shadow(0px 1px 2px rgba(0, 0, 0, 0.3));\n",
              "      fill: #FFFFFF;\n",
              "    }\n",
              "  </style>\n",
              "\n",
              "      <script>\n",
              "        const buttonEl =\n",
              "          document.querySelector('#df-40f1341a-4eea-4e66-a29f-f2749cff8999 button.colab-df-convert');\n",
              "        buttonEl.style.display =\n",
              "          google.colab.kernel.accessAllowed ? 'block' : 'none';\n",
              "\n",
              "        async function convertToInteractive(key) {\n",
              "          const element = document.querySelector('#df-40f1341a-4eea-4e66-a29f-f2749cff8999');\n",
              "          const dataTable =\n",
              "            await google.colab.kernel.invokeFunction('convertToInteractive',\n",
              "                                                     [key], {});\n",
              "          if (!dataTable) return;\n",
              "\n",
              "          const docLinkHtml = 'Like what you see? Visit the ' +\n",
              "            '<a target=\"_blank\" href=https://colab.research.google.com/notebooks/data_table.ipynb>data table notebook</a>'\n",
              "            + ' to learn more about interactive tables.';\n",
              "          element.innerHTML = '';\n",
              "          dataTable['output_type'] = 'display_data';\n",
              "          await google.colab.output.renderOutput(dataTable, element);\n",
              "          const docLink = document.createElement('div');\n",
              "          docLink.innerHTML = docLinkHtml;\n",
              "          element.appendChild(docLink);\n",
              "        }\n",
              "      </script>\n",
              "    </div>\n",
              "  </div>\n",
              "  "
            ]
          },
          "metadata": {},
          "execution_count": 111
        }
      ]
    },
    {
      "cell_type": "markdown",
      "metadata": {
        "id": "gpvMB-o0r_7y"
      },
      "source": [
        "anathesia machines"
      ]
    },
    {
      "cell_type": "code",
      "execution_count": 112,
      "metadata": {
        "id": "AFU__LDV3KN-",
        "colab": {
          "base_uri": "https://localhost:8080/",
          "height": 144
        },
        "outputId": "a507d86f-39fa-485d-bc25-2fa8f2f8c340"
      },
      "outputs": [
        {
          "output_type": "execute_result",
          "data": {
            "text/plain": [
              "      Equip.reg_date                    dev  calc.Risk    ID_y  \\\n",
              "68212     2000-01-01  Anestesiarbetsstation       31.0  340382   \n",
              "68212     2000-01-01  Anestesiarbetsstation       31.0  340387   \n",
              "68212     2000-01-01  Anestesiarbetsstation       31.0  357998   \n",
              "\n",
              "                        issued  inventarieID  Count_wo  meantime   age  \n",
              "68212  2002-04-16 00:00:00.000       68212.0        12       298  6453  \n",
              "68212  2004-01-12 00:00:00.000       68212.0        12       298  6453  \n",
              "68212  2010-08-17 00:00:00.000       68212.0        12       298  6453  "
            ],
            "text/html": [
              "\n",
              "  <div id=\"df-02fbad79-f074-4d5e-87f1-56b6360d3347\">\n",
              "    <div class=\"colab-df-container\">\n",
              "      <div>\n",
              "<style scoped>\n",
              "    .dataframe tbody tr th:only-of-type {\n",
              "        vertical-align: middle;\n",
              "    }\n",
              "\n",
              "    .dataframe tbody tr th {\n",
              "        vertical-align: top;\n",
              "    }\n",
              "\n",
              "    .dataframe thead th {\n",
              "        text-align: right;\n",
              "    }\n",
              "</style>\n",
              "<table border=\"1\" class=\"dataframe\">\n",
              "  <thead>\n",
              "    <tr style=\"text-align: right;\">\n",
              "      <th></th>\n",
              "      <th>Equip.reg_date</th>\n",
              "      <th>dev</th>\n",
              "      <th>calc.Risk</th>\n",
              "      <th>ID_y</th>\n",
              "      <th>issued</th>\n",
              "      <th>inventarieID</th>\n",
              "      <th>Count_wo</th>\n",
              "      <th>meantime</th>\n",
              "      <th>age</th>\n",
              "    </tr>\n",
              "  </thead>\n",
              "  <tbody>\n",
              "    <tr>\n",
              "      <th>68212</th>\n",
              "      <td>2000-01-01</td>\n",
              "      <td>Anestesiarbetsstation</td>\n",
              "      <td>31.0</td>\n",
              "      <td>340382</td>\n",
              "      <td>2002-04-16 00:00:00.000</td>\n",
              "      <td>68212.0</td>\n",
              "      <td>12</td>\n",
              "      <td>298</td>\n",
              "      <td>6453</td>\n",
              "    </tr>\n",
              "    <tr>\n",
              "      <th>68212</th>\n",
              "      <td>2000-01-01</td>\n",
              "      <td>Anestesiarbetsstation</td>\n",
              "      <td>31.0</td>\n",
              "      <td>340387</td>\n",
              "      <td>2004-01-12 00:00:00.000</td>\n",
              "      <td>68212.0</td>\n",
              "      <td>12</td>\n",
              "      <td>298</td>\n",
              "      <td>6453</td>\n",
              "    </tr>\n",
              "    <tr>\n",
              "      <th>68212</th>\n",
              "      <td>2000-01-01</td>\n",
              "      <td>Anestesiarbetsstation</td>\n",
              "      <td>31.0</td>\n",
              "      <td>357998</td>\n",
              "      <td>2010-08-17 00:00:00.000</td>\n",
              "      <td>68212.0</td>\n",
              "      <td>12</td>\n",
              "      <td>298</td>\n",
              "      <td>6453</td>\n",
              "    </tr>\n",
              "  </tbody>\n",
              "</table>\n",
              "</div>\n",
              "      <button class=\"colab-df-convert\" onclick=\"convertToInteractive('df-02fbad79-f074-4d5e-87f1-56b6360d3347')\"\n",
              "              title=\"Convert this dataframe to an interactive table.\"\n",
              "              style=\"display:none;\">\n",
              "        \n",
              "  <svg xmlns=\"http://www.w3.org/2000/svg\" height=\"24px\"viewBox=\"0 0 24 24\"\n",
              "       width=\"24px\">\n",
              "    <path d=\"M0 0h24v24H0V0z\" fill=\"none\"/>\n",
              "    <path d=\"M18.56 5.44l.94 2.06.94-2.06 2.06-.94-2.06-.94-.94-2.06-.94 2.06-2.06.94zm-11 1L8.5 8.5l.94-2.06 2.06-.94-2.06-.94L8.5 2.5l-.94 2.06-2.06.94zm10 10l.94 2.06.94-2.06 2.06-.94-2.06-.94-.94-2.06-.94 2.06-2.06.94z\"/><path d=\"M17.41 7.96l-1.37-1.37c-.4-.4-.92-.59-1.43-.59-.52 0-1.04.2-1.43.59L10.3 9.45l-7.72 7.72c-.78.78-.78 2.05 0 2.83L4 21.41c.39.39.9.59 1.41.59.51 0 1.02-.2 1.41-.59l7.78-7.78 2.81-2.81c.8-.78.8-2.07 0-2.86zM5.41 20L4 18.59l7.72-7.72 1.47 1.35L5.41 20z\"/>\n",
              "  </svg>\n",
              "      </button>\n",
              "      \n",
              "  <style>\n",
              "    .colab-df-container {\n",
              "      display:flex;\n",
              "      flex-wrap:wrap;\n",
              "      gap: 12px;\n",
              "    }\n",
              "\n",
              "    .colab-df-convert {\n",
              "      background-color: #E8F0FE;\n",
              "      border: none;\n",
              "      border-radius: 50%;\n",
              "      cursor: pointer;\n",
              "      display: none;\n",
              "      fill: #1967D2;\n",
              "      height: 32px;\n",
              "      padding: 0 0 0 0;\n",
              "      width: 32px;\n",
              "    }\n",
              "\n",
              "    .colab-df-convert:hover {\n",
              "      background-color: #E2EBFA;\n",
              "      box-shadow: 0px 1px 2px rgba(60, 64, 67, 0.3), 0px 1px 3px 1px rgba(60, 64, 67, 0.15);\n",
              "      fill: #174EA6;\n",
              "    }\n",
              "\n",
              "    [theme=dark] .colab-df-convert {\n",
              "      background-color: #3B4455;\n",
              "      fill: #D2E3FC;\n",
              "    }\n",
              "\n",
              "    [theme=dark] .colab-df-convert:hover {\n",
              "      background-color: #434B5C;\n",
              "      box-shadow: 0px 1px 3px 1px rgba(0, 0, 0, 0.15);\n",
              "      filter: drop-shadow(0px 1px 2px rgba(0, 0, 0, 0.3));\n",
              "      fill: #FFFFFF;\n",
              "    }\n",
              "  </style>\n",
              "\n",
              "      <script>\n",
              "        const buttonEl =\n",
              "          document.querySelector('#df-02fbad79-f074-4d5e-87f1-56b6360d3347 button.colab-df-convert');\n",
              "        buttonEl.style.display =\n",
              "          google.colab.kernel.accessAllowed ? 'block' : 'none';\n",
              "\n",
              "        async function convertToInteractive(key) {\n",
              "          const element = document.querySelector('#df-02fbad79-f074-4d5e-87f1-56b6360d3347');\n",
              "          const dataTable =\n",
              "            await google.colab.kernel.invokeFunction('convertToInteractive',\n",
              "                                                     [key], {});\n",
              "          if (!dataTable) return;\n",
              "\n",
              "          const docLinkHtml = 'Like what you see? Visit the ' +\n",
              "            '<a target=\"_blank\" href=https://colab.research.google.com/notebooks/data_table.ipynb>data table notebook</a>'\n",
              "            + ' to learn more about interactive tables.';\n",
              "          element.innerHTML = '';\n",
              "          dataTable['output_type'] = 'display_data';\n",
              "          await google.colab.output.renderOutput(dataTable, element);\n",
              "          const docLink = document.createElement('div');\n",
              "          docLink.innerHTML = docLinkHtml;\n",
              "          element.appendChild(docLink);\n",
              "        }\n",
              "      </script>\n",
              "    </div>\n",
              "  </div>\n",
              "  "
            ]
          },
          "metadata": {},
          "execution_count": 112
        }
      ],
      "source": [
        "data22=alldata_wo_eq.query(\"dev == 'Anestesiarbetsstation'\")\n",
        "data32=alldata_wo_eq.query(\"dev == 'Modul till anestesiarbetsstation'\")\n",
        "data42=alldata_wo_eq.query(\"dev == 'Anestesimedelsförgasare, isofluran'\")\n",
        "data52=alldata_wo_eq.query(\"dev == 'Anestesimedel Förgasare'\")\n",
        "data62=alldata_wo_eq.query(\"dev == 'Anestesiapparat mobil'\")\n",
        "data72=alldata_wo_eq.query(\"dev == 'Lungventilator anestesi'\")\n",
        "data_aneshos1woeq = pd.concat([data22, data32, data42, data52, data62, data72], axis=0)\n",
        "data_aneshos1woeq.head(3)\n"
      ]
    },
    {
      "cell_type": "code",
      "execution_count": 113,
      "metadata": {
        "id": "ZupgEUiVdVvS"
      },
      "outputs": [],
      "source": [
        "data_aneshos1woeq['issued']=pd.to_datetime(data_aneshos1woeq['issued'])"
      ]
    },
    {
      "cell_type": "code",
      "execution_count": 114,
      "metadata": {
        "id": "ECBFi8504WZi",
        "colab": {
          "base_uri": "https://localhost:8080/"
        },
        "outputId": "565b4a75-4293-4bed-8cc4-73a15d5212c9"
      },
      "outputs": [
        {
          "output_type": "execute_result",
          "data": {
            "text/plain": [
              "(6915, 9)"
            ]
          },
          "metadata": {},
          "execution_count": 114
        }
      ],
      "source": [
        "data_aneshos1woeq.shape"
      ]
    },
    {
      "cell_type": "markdown",
      "metadata": {
        "id": "inUwboe549iI"
      },
      "source": [
        "**plotting data points**"
      ]
    },
    {
      "cell_type": "code",
      "execution_count": 115,
      "metadata": {
        "id": "dJiQXuT749JR",
        "colab": {
          "base_uri": "https://localhost:8080/",
          "height": 356
        },
        "outputId": "545526be-01bf-44a8-ebbe-2d35a8d0126f"
      },
      "outputs": [
        {
          "output_type": "stream",
          "name": "stderr",
          "text": [
            "WARNING:matplotlib.axes._axes:*c* argument looks like a single numeric RGB or RGBA sequence, which should be avoided as value-mapping will have precedence in case its length matches with *x* & *y*.  Please use the *color* keyword-argument or provide a 2-D array with a single row if you intend to specify the same RGB or RGBA value for all points.\n"
          ]
        },
        {
          "output_type": "execute_result",
          "data": {
            "text/plain": [
              "<matplotlib.axes._subplots.AxesSubplot at 0x7f3c5a3959d0>"
            ]
          },
          "metadata": {},
          "execution_count": 115
        },
        {
          "output_type": "display_data",
          "data": {
            "text/plain": [
              "<Figure size 432x288 with 1 Axes>"
            ],
            "image/png": "[encoded data removed]"
          },
          "metadata": {}
        }
      ],
      "source": [
        "data_aneshos1woeq.plot(y='ID_y',x='issued',kind='scatter',title='workorder versus dates of issuance')"
      ]
    },
    {
      "cell_type": "code",
      "execution_count": 116,
      "metadata": {
        "id": "S05LuaVVbNH7",
        "colab": {
          "base_uri": "https://localhost:8080/",
          "height": 356
        },
        "outputId": "e2dbca35-bea0-4a04-fe28-fc84ea477cd2"
      },
      "outputs": [
        {
          "output_type": "stream",
          "name": "stderr",
          "text": [
            "WARNING:matplotlib.axes._axes:*c* argument looks like a single numeric RGB or RGBA sequence, which should be avoided as value-mapping will have precedence in case its length matches with *x* & *y*.  Please use the *color* keyword-argument or provide a 2-D array with a single row if you intend to specify the same RGB or RGBA value for all points.\n"
          ]
        },
        {
          "output_type": "execute_result",
          "data": {
            "text/plain": [
              "<matplotlib.axes._subplots.AxesSubplot at 0x7f3c5a5bc340>"
            ]
          },
          "metadata": {},
          "execution_count": 116
        },
        {
          "output_type": "display_data",
          "data": {
            "text/plain": [
              "<Figure size 432x288 with 1 Axes>"
            ],
            "image/png": "[encoded data removed]"
          },
          "metadata": {}
        }
      ],
      "source": [
        "data_aneshos1woeq.plot(y='age',x='issued',kind='scatter',title='age with workorders')"
      ]
    },
    {
      "cell_type": "code",
      "execution_count": 117,
      "metadata": {
        "id": "vfgqd1C2eXRt",
        "colab": {
          "base_uri": "https://localhost:8080/",
          "height": 356
        },
        "outputId": "c19223ad-2f53-4668-fbdd-c222f310f36f"
      },
      "outputs": [
        {
          "output_type": "stream",
          "name": "stderr",
          "text": [
            "WARNING:matplotlib.axes._axes:*c* argument looks like a single numeric RGB or RGBA sequence, which should be avoided as value-mapping will have precedence in case its length matches with *x* & *y*.  Please use the *color* keyword-argument or provide a 2-D array with a single row if you intend to specify the same RGB or RGBA value for all points.\n"
          ]
        },
        {
          "output_type": "execute_result",
          "data": {
            "text/plain": [
              "<matplotlib.axes._subplots.AxesSubplot at 0x7f3c5a53e2e0>"
            ]
          },
          "metadata": {},
          "execution_count": 117
        },
        {
          "output_type": "display_data",
          "data": {
            "text/plain": [
              "<Figure size 432x288 with 1 Axes>"
            ],
            "image/png": "[encoded data removed]"
          },
          "metadata": {}
        }
      ],
      "source": [
        "data_aneshos1woeq.plot(x='age',y='Count_wo',kind='scatter',title='age with workorders')"
      ]
    },
    {
      "cell_type": "markdown",
      "metadata": {
        "id": "5rqgQDa-8Hz-"
      },
      "source": [
        "# **CONNECTING PM-data With WO COMBINED DATA**"
      ]
    },
    {
      "cell_type": "code",
      "execution_count": 123,
      "metadata": {
        "id": "Ptz9JTrW8ZjC"
      },
      "outputs": [],
      "source": [
        "inner_mergeWO_pm = pd.merge(inner_merged_total_WO,fin1,left_index=True, right_index=True)"
      ]
    },
    {
      "cell_type": "code",
      "execution_count": 124,
      "metadata": {
        "id": "1aaS4IMk9ZKT",
        "colab": {
          "base_uri": "https://localhost:8080/",
          "height": 824
        },
        "outputId": "ba6c5c90-7db4-41fa-98d8-34f946bf392b"
      },
      "outputs": [
        {
          "output_type": "execute_result",
          "data": {
            "text/plain": [
              "             ID                   issued                Completed  \\\n",
              "1364.0  1233471  2019-05-03 00:00:00.000  2019-05-09 00:00:00.000   \n",
              "1364.0   662950  2017-05-26 00:00:00.000  2017-05-26 00:00:00.000   \n",
              "1364.0   612067  2016-01-04 00:00:00.000  2016-01-04 00:00:00.000   \n",
              "1364.0   393467  2012-07-23 00:00:00.000  2012-12-21 00:00:00.000   \n",
              "1364.0  1237176  2019-05-21 00:00:00.000  2019-05-21 00:00:00.000   \n",
              "1364.0  1222558  2019-02-28 00:00:00.000  2019-02-28 00:00:00.000   \n",
              "1364.0  1167578  2018-04-24 00:00:00.000  2018-04-24 00:00:00.000   \n",
              "1364.0   510206  2013-02-14 00:00:00.000  2013-02-14 00:00:00.000   \n",
              "1364.0   397564  2012-10-09 00:00:00.000  2012-10-09 00:00:00.000   \n",
              "1364.0   394949  2012-08-24 00:00:00.000  2013-01-28 00:00:00.000   \n",
              "1364.0   578868  2015-02-11 00:00:00.000  2015-02-11 00:00:00.000   \n",
              "1364.0   363896  2012-02-07 00:00:00.000  2012-02-23 00:00:00.000   \n",
              "1364.0   615761  2016-02-10 00:00:00.000  2016-02-10 00:00:00.000   \n",
              "1364.0   671169  2017-08-24 00:00:00.000  2017-08-24 00:00:00.000   \n",
              "1364.0  1285076  2020-02-08 00:00:00.000  2020-02-08 00:00:00.000   \n",
              "\n",
              "                    AOEkKlarDat  InventarieID  inventarieID     last_wo  \\\n",
              "1364.0  2019-05-09 00:00:00.000        1364.0        1364.0  2020-08-13   \n",
              "1364.0  2017-05-26 00:00:00.000        1364.0        1364.0  2020-08-13   \n",
              "1364.0  2016-01-04 00:00:00.000        1364.0        1364.0  2020-08-13   \n",
              "1364.0  2012-12-21 00:00:00.000        1364.0        1364.0  2020-08-13   \n",
              "1364.0  2019-05-21 00:00:00.000        1364.0        1364.0  2020-08-13   \n",
              "1364.0  2019-02-28 00:00:00.000        1364.0        1364.0  2020-08-13   \n",
              "1364.0  2018-04-24 00:00:00.000        1364.0        1364.0  2020-08-13   \n",
              "1364.0  2013-02-14 00:00:00.000        1364.0        1364.0  2020-08-13   \n",
              "1364.0  2012-10-09 00:00:00.000        1364.0        1364.0  2020-08-13   \n",
              "1364.0  2013-01-28 00:00:00.000        1364.0        1364.0  2020-08-13   \n",
              "1364.0  2015-02-11 00:00:00.000        1364.0        1364.0  2020-08-13   \n",
              "1364.0  2012-02-23 00:00:00.000        1364.0        1364.0  2020-08-13   \n",
              "1364.0  2016-02-10 00:00:00.000        1364.0        1364.0  2020-08-13   \n",
              "1364.0  2017-08-24 00:00:00.000        1364.0        1364.0  2020-08-13   \n",
              "1364.0  2020-02-08 00:00:00.000        1364.0        1364.0  2020-08-13   \n",
              "\n",
              "          first_wo  Count_wo  meantime  invID     last_pm    first_pm  \\\n",
              "1364.0  2011-03-25        65        52   1364  2019-10-24  2019-10-24   \n",
              "1364.0  2011-03-25        65        52   1364  2019-10-24  2019-10-24   \n",
              "1364.0  2011-03-25        65        52   1364  2019-10-24  2019-10-24   \n",
              "1364.0  2011-03-25        65        52   1364  2019-10-24  2019-10-24   \n",
              "1364.0  2011-03-25        65        52   1364  2019-10-24  2019-10-24   \n",
              "1364.0  2011-03-25        65        52   1364  2019-10-24  2019-10-24   \n",
              "1364.0  2011-03-25        65        52   1364  2019-10-24  2019-10-24   \n",
              "1364.0  2011-03-25        65        52   1364  2019-10-24  2019-10-24   \n",
              "1364.0  2011-03-25        65        52   1364  2019-10-24  2019-10-24   \n",
              "1364.0  2011-03-25        65        52   1364  2019-10-24  2019-10-24   \n",
              "1364.0  2011-03-25        65        52   1364  2019-10-24  2019-10-24   \n",
              "1364.0  2011-03-25        65        52   1364  2019-10-24  2019-10-24   \n",
              "1364.0  2011-03-25        65        52   1364  2019-10-24  2019-10-24   \n",
              "1364.0  2011-03-25        65        52   1364  2019-10-24  2019-10-24   \n",
              "1364.0  2011-03-25        65        52   1364  2019-10-24  2019-10-24   \n",
              "\n",
              "        count_pm  meantime_pm  \n",
              "1364.0         1            0  \n",
              "1364.0         1            0  \n",
              "1364.0         1            0  \n",
              "1364.0         1            0  \n",
              "1364.0         1            0  \n",
              "1364.0         1            0  \n",
              "1364.0         1            0  \n",
              "1364.0         1            0  \n",
              "1364.0         1            0  \n",
              "1364.0         1            0  \n",
              "1364.0         1            0  \n",
              "1364.0         1            0  \n",
              "1364.0         1            0  \n",
              "1364.0         1            0  \n",
              "1364.0         1            0  "
            ],
            "text/html": [
              "\n",
              "  <div id=\"df-7ef2e564-7131-4066-8a5f-3b2688af566c\">\n",
              "    <div class=\"colab-df-container\">\n",
              "      <div>\n",
              "<style scoped>\n",
              "    .dataframe tbody tr th:only-of-type {\n",
              "        vertical-align: middle;\n",
              "    }\n",
              "\n",
              "    .dataframe tbody tr th {\n",
              "        vertical-align: top;\n",
              "    }\n",
              "\n",
              "    .dataframe thead th {\n",
              "        text-align: right;\n",
              "    }\n",
              "</style>\n",
              "<table border=\"1\" class=\"dataframe\">\n",
              "  <thead>\n",
              "    <tr style=\"text-align: right;\">\n",
              "      <th></th>\n",
              "      <th>ID</th>\n",
              "      <th>issued</th>\n",
              "      <th>Completed</th>\n",
              "      <th>AOEkKlarDat</th>\n",
              "      <th>InventarieID</th>\n",
              "      <th>inventarieID</th>\n",
              "      <th>last_wo</th>\n",
              "      <th>first_wo</th>\n",
              "      <th>Count_wo</th>\n",
              "      <th>meantime</th>\n",
              "      <th>invID</th>\n",
              "      <th>last_pm</th>\n",
              "      <th>first_pm</th>\n",
              "      <th>count_pm</th>\n",
              "      <th>meantime_pm</th>\n",
              "    </tr>\n",
              "  </thead>\n",
              "  <tbody>\n",
              "    <tr>\n",
              "      <th>1364.0</th>\n",
              "      <td>1233471</td>\n",
              "      <td>2019-05-03 00:00:00.000</td>\n",
              "      <td>2019-05-09 00:00:00.000</td>\n",
              "      <td>2019-05-09 00:00:00.000</td>\n",
              "      <td>1364.0</td>\n",
              "      <td>1364.0</td>\n",
              "      <td>2020-08-13</td>\n",
              "      <td>2011-03-25</td>\n",
              "      <td>65</td>\n",
              "      <td>52</td>\n",
              "      <td>1364</td>\n",
              "      <td>2019-10-24</td>\n",
              "      <td>2019-10-24</td>\n",
              "      <td>1</td>\n",
              "      <td>0</td>\n",
              "    </tr>\n",
              "    <tr>\n",
              "      <th>1364.0</th>\n",
              "      <td>662950</td>\n",
              "      <td>2017-05-26 00:00:00.000</td>\n",
              "      <td>2017-05-26 00:00:00.000</td>\n",
              "      <td>2017-05-26 00:00:00.000</td>\n",
              "      <td>1364.0</td>\n",
              "      <td>1364.0</td>\n",
              "      <td>2020-08-13</td>\n",
              "      <td>2011-03-25</td>\n",
              "      <td>65</td>\n",
              "      <td>52</td>\n",
              "      <td>1364</td>\n",
              "      <td>2019-10-24</td>\n",
              "      <td>2019-10-24</td>\n",
              "      <td>1</td>\n",
              "      <td>0</td>\n",
              "    </tr>\n",
              "    <tr>\n",
              "      <th>1364.0</th>\n",
              "      <td>612067</td>\n",
              "      <td>2016-01-04 00:00:00.000</td>\n",
              "      <td>2016-01-04 00:00:00.000</td>\n",
              "      <td>2016-01-04 00:00:00.000</td>\n",
              "      <td>1364.0</td>\n",
              "      <td>1364.0</td>\n",
              "      <td>2020-08-13</td>\n",
              "      <td>2011-03-25</td>\n",
              "      <td>65</td>\n",
              "      <td>52</td>\n",
              "      <td>1364</td>\n",
              "      <td>2019-10-24</td>\n",
              "      <td>2019-10-24</td>\n",
              "      <td>1</td>\n",
              "      <td>0</td>\n",
              "    </tr>\n",
              "    <tr>\n",
              "      <th>1364.0</th>\n",
              "      <td>393467</td>\n",
              "      <td>2012-07-23 00:00:00.000</td>\n",
              "      <td>2012-12-21 00:00:00.000</td>\n",
              "      <td>2012-12-21 00:00:00.000</td>\n",
              "      <td>1364.0</td>\n",
              "      <td>1364.0</td>\n",
              "      <td>2020-08-13</td>\n",
              "      <td>2011-03-25</td>\n",
              "      <td>65</td>\n",
              "      <td>52</td>\n",
              "      <td>1364</td>\n",
              "      <td>2019-10-24</td>\n",
              "      <td>2019-10-24</td>\n",
              "      <td>1</td>\n",
              "      <td>0</td>\n",
              "    </tr>\n",
              "    <tr>\n",
              "      <th>1364.0</th>\n",
              "      <td>1237176</td>\n",
              "      <td>2019-05-21 00:00:00.000</td>\n",
              "      <td>2019-05-21 00:00:00.000</td>\n",
              "      <td>2019-05-21 00:00:00.000</td>\n",
              "      <td>1364.0</td>\n",
              "      <td>1364.0</td>\n",
              "      <td>2020-08-13</td>\n",
              "      <td>2011-03-25</td>\n",
              "      <td>65</td>\n",
              "      <td>52</td>\n",
              "      <td>1364</td>\n",
              "      <td>2019-10-24</td>\n",
              "      <td>2019-10-24</td>\n",
              "      <td>1</td>\n",
              "      <td>0</td>\n",
              "    </tr>\n",
              "    <tr>\n",
              "      <th>1364.0</th>\n",
              "      <td>1222558</td>\n",
              "      <td>2019-02-28 00:00:00.000</td>\n",
              "      <td>2019-02-28 00:00:00.000</td>\n",
              "      <td>2019-02-28 00:00:00.000</td>\n",
              "      <td>1364.0</td>\n",
              "      <td>1364.0</td>\n",
              "      <td>2020-08-13</td>\n",
              "      <td>2011-03-25</td>\n",
              "      <td>65</td>\n",
              "      <td>52</td>\n",
              "      <td>1364</td>\n",
              "      <td>2019-10-24</td>\n",
              "      <td>2019-10-24</td>\n",
              "      <td>1</td>\n",
              "      <td>0</td>\n",
              "    </tr>\n",
              "    <tr>\n",
              "      <th>1364.0</th>\n",
              "      <td>1167578</td>\n",
              "      <td>2018-04-24 00:00:00.000</td>\n",
              "      <td>2018-04-24 00:00:00.000</td>\n",
              "      <td>2018-04-24 00:00:00.000</td>\n",
              "      <td>1364.0</td>\n",
              "      <td>1364.0</td>\n",
              "      <td>2020-08-13</td>\n",
              "      <td>2011-03-25</td>\n",
              "      <td>65</td>\n",
              "      <td>52</td>\n",
              "      <td>1364</td>\n",
              "      <td>2019-10-24</td>\n",
              "      <td>2019-10-24</td>\n",
              "      <td>1</td>\n",
              "      <td>0</td>\n",
              "    </tr>\n",
              "    <tr>\n",
              "      <th>1364.0</th>\n",
              "      <td>510206</td>\n",
              "      <td>2013-02-14 00:00:00.000</td>\n",
              "      <td>2013-02-14 00:00:00.000</td>\n",
              "      <td>2013-02-14 00:00:00.000</td>\n",
              "      <td>1364.0</td>\n",
              "      <td>1364.0</td>\n",
              "      <td>2020-08-13</td>\n",
              "      <td>2011-03-25</td>\n",
              "      <td>65</td>\n",
              "      <td>52</td>\n",
              "      <td>1364</td>\n",
              "      <td>2019-10-24</td>\n",
              "      <td>2019-10-24</td>\n",
              "      <td>1</td>\n",
              "      <td>0</td>\n",
              "    </tr>\n",
              "    <tr>\n",
              "      <th>1364.0</th>\n",
              "      <td>397564</td>\n",
              "      <td>2012-10-09 00:00:00.000</td>\n",
              "      <td>2012-10-09 00:00:00.000</td>\n",
              "      <td>2012-10-09 00:00:00.000</td>\n",
              "      <td>1364.0</td>\n",
              "      <td>1364.0</td>\n",
              "      <td>2020-08-13</td>\n",
              "      <td>2011-03-25</td>\n",
              "      <td>65</td>\n",
              "      <td>52</td>\n",
              "      <td>1364</td>\n",
              "      <td>2019-10-24</td>\n",
              "      <td>2019-10-24</td>\n",
              "      <td>1</td>\n",
              "      <td>0</td>\n",
              "    </tr>\n",
              "    <tr>\n",
              "      <th>1364.0</th>\n",
              "      <td>394949</td>\n",
              "      <td>2012-08-24 00:00:00.000</td>\n",
              "      <td>2013-01-28 00:00:00.000</td>\n",
              "      <td>2013-01-28 00:00:00.000</td>\n",
              "      <td>1364.0</td>\n",
              "      <td>1364.0</td>\n",
              "      <td>2020-08-13</td>\n",
              "      <td>2011-03-25</td>\n",
              "      <td>65</td>\n",
              "      <td>52</td>\n",
              "      <td>1364</td>\n",
              "      <td>2019-10-24</td>\n",
              "      <td>2019-10-24</td>\n",
              "      <td>1</td>\n",
              "      <td>0</td>\n",
              "    </tr>\n",
              "    <tr>\n",
              "      <th>1364.0</th>\n",
              "      <td>578868</td>\n",
              "      <td>2015-02-11 00:00:00.000</td>\n",
              "      <td>2015-02-11 00:00:00.000</td>\n",
              "      <td>2015-02-11 00:00:00.000</td>\n",
              "      <td>1364.0</td>\n",
              "      <td>1364.0</td>\n",
              "      <td>2020-08-13</td>\n",
              "      <td>2011-03-25</td>\n",
              "      <td>65</td>\n",
              "      <td>52</td>\n",
              "      <td>1364</td>\n",
              "      <td>2019-10-24</td>\n",
              "      <td>2019-10-24</td>\n",
              "      <td>1</td>\n",
              "      <td>0</td>\n",
              "    </tr>\n",
              "    <tr>\n",
              "      <th>1364.0</th>\n",
              "      <td>363896</td>\n",
              "      <td>2012-02-07 00:00:00.000</td>\n",
              "      <td>2012-02-23 00:00:00.000</td>\n",
              "      <td>2012-02-23 00:00:00.000</td>\n",
              "      <td>1364.0</td>\n",
              "      <td>1364.0</td>\n",
              "      <td>2020-08-13</td>\n",
              "      <td>2011-03-25</td>\n",
              "      <td>65</td>\n",
              "      <td>52</td>\n",
              "      <td>1364</td>\n",
              "      <td>2019-10-24</td>\n",
              "      <td>2019-10-24</td>\n",
              "      <td>1</td>\n",
              "      <td>0</td>\n",
              "    </tr>\n",
              "    <tr>\n",
              "      <th>1364.0</th>\n",
              "      <td>615761</td>\n",
              "      <td>2016-02-10 00:00:00.000</td>\n",
              "      <td>2016-02-10 00:00:00.000</td>\n",
              "      <td>2016-02-10 00:00:00.000</td>\n",
              "      <td>1364.0</td>\n",
              "      <td>1364.0</td>\n",
              "      <td>2020-08-13</td>\n",
              "      <td>2011-03-25</td>\n",
              "      <td>65</td>\n",
              "      <td>52</td>\n",
              "      <td>1364</td>\n",
              "      <td>2019-10-24</td>\n",
              "      <td>2019-10-24</td>\n",
              "      <td>1</td>\n",
              "      <td>0</td>\n",
              "    </tr>\n",
              "    <tr>\n",
              "      <th>1364.0</th>\n",
              "      <td>671169</td>\n",
              "      <td>2017-08-24 00:00:00.000</td>\n",
              "      <td>2017-08-24 00:00:00.000</td>\n",
              "      <td>2017-08-24 00:00:00.000</td>\n",
              "      <td>1364.0</td>\n",
              "      <td>1364.0</td>\n",
              "      <td>2020-08-13</td>\n",
              "      <td>2011-03-25</td>\n",
              "      <td>65</td>\n",
              "      <td>52</td>\n",
              "      <td>1364</td>\n",
              "      <td>2019-10-24</td>\n",
              "      <td>2019-10-24</td>\n",
              "      <td>1</td>\n",
              "      <td>0</td>\n",
              "    </tr>\n",
              "    <tr>\n",
              "      <th>1364.0</th>\n",
              "      <td>1285076</td>\n",
              "      <td>2020-02-08 00:00:00.000</td>\n",
              "      <td>2020-02-08 00:00:00.000</td>\n",
              "      <td>2020-02-08 00:00:00.000</td>\n",
              "      <td>1364.0</td>\n",
              "      <td>1364.0</td>\n",
              "      <td>2020-08-13</td>\n",
              "      <td>2011-03-25</td>\n",
              "      <td>65</td>\n",
              "      <td>52</td>\n",
              "      <td>1364</td>\n",
              "      <td>2019-10-24</td>\n",
              "      <td>2019-10-24</td>\n",
              "      <td>1</td>\n",
              "      <td>0</td>\n",
              "    </tr>\n",
              "  </tbody>\n",
              "</table>\n",
              "</div>\n",
              "      <button class=\"colab-df-convert\" onclick=\"convertToInteractive('df-7ef2e564-7131-4066-8a5f-3b2688af566c')\"\n",
              "              title=\"Convert this dataframe to an interactive table.\"\n",
              "              style=\"display:none;\">\n",
              "        \n",
              "  <svg xmlns=\"http://www.w3.org/2000/svg\" height=\"24px\"viewBox=\"0 0 24 24\"\n",
              "       width=\"24px\">\n",
              "    <path d=\"M0 0h24v24H0V0z\" fill=\"none\"/>\n",
              "    <path d=\"M18.56 5.44l.94 2.06.94-2.06 2.06-.94-2.06-.94-.94-2.06-.94 2.06-2.06.94zm-11 1L8.5 8.5l.94-2.06 2.06-.94-2.06-.94L8.5 2.5l-.94 2.06-2.06.94zm10 10l.94 2.06.94-2.06 2.06-.94-2.06-.94-.94-2.06-.94 2.06-2.06.94z\"/><path d=\"M17.41 7.96l-1.37-1.37c-.4-.4-.92-.59-1.43-.59-.52 0-1.04.2-1.43.59L10.3 9.45l-7.72 7.72c-.78.78-.78 2.05 0 2.83L4 21.41c.39.39.9.59 1.41.59.51 0 1.02-.2 1.41-.59l7.78-7.78 2.81-2.81c.8-.78.8-2.07 0-2.86zM5.41 20L4 18.59l7.72-7.72 1.47 1.35L5.41 20z\"/>\n",
              "  </svg>\n",
              "      </button>\n",
              "      \n",
              "  <style>\n",
              "    .colab-df-container {\n",
              "      display:flex;\n",
              "      flex-wrap:wrap;\n",
              "      gap: 12px;\n",
              "    }\n",
              "\n",
              "    .colab-df-convert {\n",
              "      background-color: #E8F0FE;\n",
              "      border: none;\n",
              "      border-radius: 50%;\n",
              "      cursor: pointer;\n",
              "      display: none;\n",
              "      fill: #1967D2;\n",
              "      height: 32px;\n",
              "      padding: 0 0 0 0;\n",
              "      width: 32px;\n",
              "    }\n",
              "\n",
              "    .colab-df-convert:hover {\n",
              "      background-color: #E2EBFA;\n",
              "      box-shadow: 0px 1px 2px rgba(60, 64, 67, 0.3), 0px 1px 3px 1px rgba(60, 64, 67, 0.15);\n",
              "      fill: #174EA6;\n",
              "    }\n",
              "\n",
              "    [theme=dark] .colab-df-convert {\n",
              "      background-color: #3B4455;\n",
              "      fill: #D2E3FC;\n",
              "    }\n",
              "\n",
              "    [theme=dark] .colab-df-convert:hover {\n",
              "      background-color: #434B5C;\n",
              "      box-shadow: 0px 1px 3px 1px rgba(0, 0, 0, 0.15);\n",
              "      filter: drop-shadow(0px 1px 2px rgba(0, 0, 0, 0.3));\n",
              "      fill: #FFFFFF;\n",
              "    }\n",
              "  </style>\n",
              "\n",
              "      <script>\n",
              "        const buttonEl =\n",
              "          document.querySelector('#df-7ef2e564-7131-4066-8a5f-3b2688af566c button.colab-df-convert');\n",
              "        buttonEl.style.display =\n",
              "          google.colab.kernel.accessAllowed ? 'block' : 'none';\n",
              "\n",
              "        async function convertToInteractive(key) {\n",
              "          const element = document.querySelector('#df-7ef2e564-7131-4066-8a5f-3b2688af566c');\n",
              "          const dataTable =\n",
              "            await google.colab.kernel.invokeFunction('convertToInteractive',\n",
              "                                                     [key], {});\n",
              "          if (!dataTable) return;\n",
              "\n",
              "          const docLinkHtml = 'Like what you see? Visit the ' +\n",
              "            '<a target=\"_blank\" href=https://colab.research.google.com/notebooks/data_table.ipynb>data table notebook</a>'\n",
              "            + ' to learn more about interactive tables.';\n",
              "          element.innerHTML = '';\n",
              "          dataTable['output_type'] = 'display_data';\n",
              "          await google.colab.output.renderOutput(dataTable, element);\n",
              "          const docLink = document.createElement('div');\n",
              "          docLink.innerHTML = docLinkHtml;\n",
              "          element.appendChild(docLink);\n",
              "        }\n",
              "      </script>\n",
              "    </div>\n",
              "  </div>\n",
              "  "
            ]
          },
          "metadata": {},
          "execution_count": 124
        }
      ],
      "source": [
        "inner_mergeWO_pm.head(15)"
      ]
    },
    {
      "cell_type": "markdown",
      "metadata": {
        "id": "a6tANVDTBFBQ"
      },
      "source": [
        "# **Connecting pm and wo with equipments(all data together)**"
      ]
    },
    {
      "cell_type": "markdown",
      "metadata": {
        "id": "i-oNkxyirkE8"
      },
      "source": [
        "bringing eq data and setting ID field as an index to prepare for merge"
      ]
    },
    {
      "cell_type": "code",
      "execution_count": 125,
      "metadata": {
        "id": "tVDq5I1Z2C0f",
        "colab": {
          "base_uri": "https://localhost:8080/"
        },
        "outputId": "ae4f6237-2c1d-4640-8589-06e1aefda5f3"
      },
      "outputs": [
        {
          "output_type": "execute_result",
          "data": {
            "text/plain": [
              "(83584, 8)"
            ]
          },
          "metadata": {},
          "execution_count": 125
        }
      ],
      "source": [
        "fin.shape"
      ]
    },
    {
      "cell_type": "code",
      "execution_count": 126,
      "metadata": {
        "id": "8zHlAsZv2IRm"
      },
      "outputs": [],
      "source": [
        "eq=fin.set_index('ID',drop=False)"
      ]
    },
    {
      "cell_type": "code",
      "execution_count": 127,
      "metadata": {
        "id": "BFi2glbF2eu-",
        "colab": {
          "base_uri": "https://localhost:8080/",
          "height": 175
        },
        "outputId": "0a6fdc76-6e0d-4fb4-c3c0-e3232d7ff136"
      },
      "outputs": [
        {
          "output_type": "execute_result",
          "data": {
            "text/plain": [
              "          InvNr           Equip.reg_date            Scrapped_date      ID  \\\n",
              "ID                                                                          \n",
              "68264   C951-02  2001-02-08 00:00:00.000  2018-12-19 00:00:00.000   68264   \n",
              "112347     P384  1981-01-01 00:00:00.000  2012-07-19 00:00:00.000  112347   \n",
              "88325     C0297  1985-01-01 00:00:00.000  2015-12-16 00:00:00.000   88325   \n",
              "\n",
              "                         dev Brand      Model  calc.Risk  \n",
              "ID                                                        \n",
              "68264               Endoskop  Wolf  Wolf 5512       31.0  \n",
              "112347  Ljuskälla f endoskop  Wolf       4015       31.0  \n",
              "88325   Ljuskälla f endoskop  Wolf       4015       31.0  "
            ],
            "text/html": [
              "\n",
              "  <div id=\"df-c3aa8c7d-fdcc-488e-ae2a-e4b8ef469207\">\n",
              "    <div class=\"colab-df-container\">\n",
              "      <div>\n",
              "<style scoped>\n",
              "    .dataframe tbody tr th:only-of-type {\n",
              "        vertical-align: middle;\n",
              "    }\n",
              "\n",
              "    .dataframe tbody tr th {\n",
              "        vertical-align: top;\n",
              "    }\n",
              "\n",
              "    .dataframe thead th {\n",
              "        text-align: right;\n",
              "    }\n",
              "</style>\n",
              "<table border=\"1\" class=\"dataframe\">\n",
              "  <thead>\n",
              "    <tr style=\"text-align: right;\">\n",
              "      <th></th>\n",
              "      <th>InvNr</th>\n",
              "      <th>Equip.reg_date</th>\n",
              "      <th>Scrapped_date</th>\n",
              "      <th>ID</th>\n",
              "      <th>dev</th>\n",
              "      <th>Brand</th>\n",
              "      <th>Model</th>\n",
              "      <th>calc.Risk</th>\n",
              "    </tr>\n",
              "    <tr>\n",
              "      <th>ID</th>\n",
              "      <th></th>\n",
              "      <th></th>\n",
              "      <th></th>\n",
              "      <th></th>\n",
              "      <th></th>\n",
              "      <th></th>\n",
              "      <th></th>\n",
              "      <th></th>\n",
              "    </tr>\n",
              "  </thead>\n",
              "  <tbody>\n",
              "    <tr>\n",
              "      <th>68264</th>\n",
              "      <td>C951-02</td>\n",
              "      <td>2001-02-08 00:00:00.000</td>\n",
              "      <td>2018-12-19 00:00:00.000</td>\n",
              "      <td>68264</td>\n",
              "      <td>Endoskop</td>\n",
              "      <td>Wolf</td>\n",
              "      <td>Wolf 5512</td>\n",
              "      <td>31.0</td>\n",
              "    </tr>\n",
              "    <tr>\n",
              "      <th>112347</th>\n",
              "      <td>P384</td>\n",
              "      <td>1981-01-01 00:00:00.000</td>\n",
              "      <td>2012-07-19 00:00:00.000</td>\n",
              "      <td>112347</td>\n",
              "      <td>Ljuskälla f endoskop</td>\n",
              "      <td>Wolf</td>\n",
              "      <td>4015</td>\n",
              "      <td>31.0</td>\n",
              "    </tr>\n",
              "    <tr>\n",
              "      <th>88325</th>\n",
              "      <td>C0297</td>\n",
              "      <td>1985-01-01 00:00:00.000</td>\n",
              "      <td>2015-12-16 00:00:00.000</td>\n",
              "      <td>88325</td>\n",
              "      <td>Ljuskälla f endoskop</td>\n",
              "      <td>Wolf</td>\n",
              "      <td>4015</td>\n",
              "      <td>31.0</td>\n",
              "    </tr>\n",
              "  </tbody>\n",
              "</table>\n",
              "</div>\n",
              "      <button class=\"colab-df-convert\" onclick=\"convertToInteractive('df-c3aa8c7d-fdcc-488e-ae2a-e4b8ef469207')\"\n",
              "              title=\"Convert this dataframe to an interactive table.\"\n",
              "              style=\"display:none;\">\n",
              "        \n",
              "  <svg xmlns=\"http://www.w3.org/2000/svg\" height=\"24px\"viewBox=\"0 0 24 24\"\n",
              "       width=\"24px\">\n",
              "    <path d=\"M0 0h24v24H0V0z\" fill=\"none\"/>\n",
              "    <path d=\"M18.56 5.44l.94 2.06.94-2.06 2.06-.94-2.06-.94-.94-2.06-.94 2.06-2.06.94zm-11 1L8.5 8.5l.94-2.06 2.06-.94-2.06-.94L8.5 2.5l-.94 2.06-2.06.94zm10 10l.94 2.06.94-2.06 2.06-.94-2.06-.94-.94-2.06-.94 2.06-2.06.94z\"/><path d=\"M17.41 7.96l-1.37-1.37c-.4-.4-.92-.59-1.43-.59-.52 0-1.04.2-1.43.59L10.3 9.45l-7.72 7.72c-.78.78-.78 2.05 0 2.83L4 21.41c.39.39.9.59 1.41.59.51 0 1.02-.2 1.41-.59l7.78-7.78 2.81-2.81c.8-.78.8-2.07 0-2.86zM5.41 20L4 18.59l7.72-7.72 1.47 1.35L5.41 20z\"/>\n",
              "  </svg>\n",
              "      </button>\n",
              "      \n",
              "  <style>\n",
              "    .colab-df-container {\n",
              "      display:flex;\n",
              "      flex-wrap:wrap;\n",
              "      gap: 12px;\n",
              "    }\n",
              "\n",
              "    .colab-df-convert {\n",
              "      background-color: #E8F0FE;\n",
              "      border: none;\n",
              "      border-radius: 50%;\n",
              "      cursor: pointer;\n",
              "      display: none;\n",
              "      fill: #1967D2;\n",
              "      height: 32px;\n",
              "      padding: 0 0 0 0;\n",
              "      width: 32px;\n",
              "    }\n",
              "\n",
              "    .colab-df-convert:hover {\n",
              "      background-color: #E2EBFA;\n",
              "      box-shadow: 0px 1px 2px rgba(60, 64, 67, 0.3), 0px 1px 3px 1px rgba(60, 64, 67, 0.15);\n",
              "      fill: #174EA6;\n",
              "    }\n",
              "\n",
              "    [theme=dark] .colab-df-convert {\n",
              "      background-color: #3B4455;\n",
              "      fill: #D2E3FC;\n",
              "    }\n",
              "\n",
              "    [theme=dark] .colab-df-convert:hover {\n",
              "      background-color: #434B5C;\n",
              "      box-shadow: 0px 1px 3px 1px rgba(0, 0, 0, 0.15);\n",
              "      filter: drop-shadow(0px 1px 2px rgba(0, 0, 0, 0.3));\n",
              "      fill: #FFFFFF;\n",
              "    }\n",
              "  </style>\n",
              "\n",
              "      <script>\n",
              "        const buttonEl =\n",
              "          document.querySelector('#df-c3aa8c7d-fdcc-488e-ae2a-e4b8ef469207 button.colab-df-convert');\n",
              "        buttonEl.style.display =\n",
              "          google.colab.kernel.accessAllowed ? 'block' : 'none';\n",
              "\n",
              "        async function convertToInteractive(key) {\n",
              "          const element = document.querySelector('#df-c3aa8c7d-fdcc-488e-ae2a-e4b8ef469207');\n",
              "          const dataTable =\n",
              "            await google.colab.kernel.invokeFunction('convertToInteractive',\n",
              "                                                     [key], {});\n",
              "          if (!dataTable) return;\n",
              "\n",
              "          const docLinkHtml = 'Like what you see? Visit the ' +\n",
              "            '<a target=\"_blank\" href=https://colab.research.google.com/notebooks/data_table.ipynb>data table notebook</a>'\n",
              "            + ' to learn more about interactive tables.';\n",
              "          element.innerHTML = '';\n",
              "          dataTable['output_type'] = 'display_data';\n",
              "          await google.colab.output.renderOutput(dataTable, element);\n",
              "          const docLink = document.createElement('div');\n",
              "          docLink.innerHTML = docLinkHtml;\n",
              "          element.appendChild(docLink);\n",
              "        }\n",
              "      </script>\n",
              "    </div>\n",
              "  </div>\n",
              "  "
            ]
          },
          "metadata": {},
          "execution_count": 127
        }
      ],
      "source": [
        "eq.head(3)"
      ]
    },
    {
      "cell_type": "code",
      "execution_count": 128,
      "metadata": {
        "id": "a5_R_wj-8DOn"
      },
      "outputs": [],
      "source": [
        "all_data_together= pd.merge(eq,inner_mergeWO_pm,left_index=True, right_index=True)"
      ]
    },
    {
      "cell_type": "code",
      "execution_count": 129,
      "metadata": {
        "id": "pFxh_J858wYc",
        "colab": {
          "base_uri": "https://localhost:8080/",
          "height": 804
        },
        "outputId": "c03aee4f-4d91-438a-dceb-f70955e5f2a3"
      },
      "outputs": [
        {
          "output_type": "execute_result",
          "data": {
            "text/plain": [
              "        InvNr           Equip.reg_date            Scrapped_date  ID_x  \\\n",
              "1364  9004411  2010-01-01 00:00:00.000  2021-09-21 00:00:00.000  1364   \n",
              "1364  9004411  2010-01-01 00:00:00.000  2021-09-21 00:00:00.000  1364   \n",
              "1364  9004411  2010-01-01 00:00:00.000  2021-09-21 00:00:00.000  1364   \n",
              "1364  9004411  2010-01-01 00:00:00.000  2021-09-21 00:00:00.000  1364   \n",
              "1364  9004411  2010-01-01 00:00:00.000  2021-09-21 00:00:00.000  1364   \n",
              "1364  9004411  2010-01-01 00:00:00.000  2021-09-21 00:00:00.000  1364   \n",
              "1364  9004411  2010-01-01 00:00:00.000  2021-09-21 00:00:00.000  1364   \n",
              "1364  9004411  2010-01-01 00:00:00.000  2021-09-21 00:00:00.000  1364   \n",
              "1364  9004411  2010-01-01 00:00:00.000  2021-09-21 00:00:00.000  1364   \n",
              "1364  9004411  2010-01-01 00:00:00.000  2021-09-21 00:00:00.000  1364   \n",
              "\n",
              "                                              dev          Brand  \\\n",
              "1364  Röntgengenomlysningssystem, mobilt digitalt  GE Healthcare   \n",
              "1364  Röntgengenomlysningssystem, mobilt digitalt  GE Healthcare   \n",
              "1364  Röntgengenomlysningssystem, mobilt digitalt  GE Healthcare   \n",
              "1364  Röntgengenomlysningssystem, mobilt digitalt  GE Healthcare   \n",
              "1364  Röntgengenomlysningssystem, mobilt digitalt  GE Healthcare   \n",
              "1364  Röntgengenomlysningssystem, mobilt digitalt  GE Healthcare   \n",
              "1364  Röntgengenomlysningssystem, mobilt digitalt  GE Healthcare   \n",
              "1364  Röntgengenomlysningssystem, mobilt digitalt  GE Healthcare   \n",
              "1364  Röntgengenomlysningssystem, mobilt digitalt  GE Healthcare   \n",
              "1364  Röntgengenomlysningssystem, mobilt digitalt  GE Healthcare   \n",
              "\n",
              "                    Model  calc.Risk     ID_y                   issued  ...  \\\n",
              "1364  OEC Fluorostar 7900       18.0  1233471  2019-05-03 00:00:00.000  ...   \n",
              "1364  OEC Fluorostar 7900       18.0   662950  2017-05-26 00:00:00.000  ...   \n",
              "1364  OEC Fluorostar 7900       18.0   612067  2016-01-04 00:00:00.000  ...   \n",
              "1364  OEC Fluorostar 7900       18.0   393467  2012-07-23 00:00:00.000  ...   \n",
              "1364  OEC Fluorostar 7900       18.0  1237176  2019-05-21 00:00:00.000  ...   \n",
              "1364  OEC Fluorostar 7900       18.0  1222558  2019-02-28 00:00:00.000  ...   \n",
              "1364  OEC Fluorostar 7900       18.0  1167578  2018-04-24 00:00:00.000  ...   \n",
              "1364  OEC Fluorostar 7900       18.0   510206  2013-02-14 00:00:00.000  ...   \n",
              "1364  OEC Fluorostar 7900       18.0   397564  2012-10-09 00:00:00.000  ...   \n",
              "1364  OEC Fluorostar 7900       18.0   394949  2012-08-24 00:00:00.000  ...   \n",
              "\n",
              "     inventarieID     last_wo    first_wo  Count_wo meantime invID  \\\n",
              "1364       1364.0  2020-08-13  2011-03-25        65       52  1364   \n",
              "1364       1364.0  2020-08-13  2011-03-25        65       52  1364   \n",
              "1364       1364.0  2020-08-13  2011-03-25        65       52  1364   \n",
              "1364       1364.0  2020-08-13  2011-03-25        65       52  1364   \n",
              "1364       1364.0  2020-08-13  2011-03-25        65       52  1364   \n",
              "1364       1364.0  2020-08-13  2011-03-25        65       52  1364   \n",
              "1364       1364.0  2020-08-13  2011-03-25        65       52  1364   \n",
              "1364       1364.0  2020-08-13  2011-03-25        65       52  1364   \n",
              "1364       1364.0  2020-08-13  2011-03-25        65       52  1364   \n",
              "1364       1364.0  2020-08-13  2011-03-25        65       52  1364   \n",
              "\n",
              "         last_pm    first_pm  count_pm meantime_pm  \n",
              "1364  2019-10-24  2019-10-24         1           0  \n",
              "1364  2019-10-24  2019-10-24         1           0  \n",
              "1364  2019-10-24  2019-10-24         1           0  \n",
              "1364  2019-10-24  2019-10-24         1           0  \n",
              "1364  2019-10-24  2019-10-24         1           0  \n",
              "1364  2019-10-24  2019-10-24         1           0  \n",
              "1364  2019-10-24  2019-10-24         1           0  \n",
              "1364  2019-10-24  2019-10-24         1           0  \n",
              "1364  2019-10-24  2019-10-24         1           0  \n",
              "1364  2019-10-24  2019-10-24         1           0  \n",
              "\n",
              "[10 rows x 23 columns]"
            ],
            "text/html": [
              "\n",
              "  <div id=\"df-6c1e1adb-f8d7-4fa4-b581-27c36bf25b85\">\n",
              "    <div class=\"colab-df-container\">\n",
              "      <div>\n",
              "<style scoped>\n",
              "    .dataframe tbody tr th:only-of-type {\n",
              "        vertical-align: middle;\n",
              "    }\n",
              "\n",
              "    .dataframe tbody tr th {\n",
              "        vertical-align: top;\n",
              "    }\n",
              "\n",
              "    .dataframe thead th {\n",
              "        text-align: right;\n",
              "    }\n",
              "</style>\n",
              "<table border=\"1\" class=\"dataframe\">\n",
              "  <thead>\n",
              "    <tr style=\"text-align: right;\">\n",
              "      <th></th>\n",
              "      <th>InvNr</th>\n",
              "      <th>Equip.reg_date</th>\n",
              "      <th>Scrapped_date</th>\n",
              "      <th>ID_x</th>\n",
              "      <th>dev</th>\n",
              "      <th>Brand</th>\n",
              "      <th>Model</th>\n",
              "      <th>calc.Risk</th>\n",
              "      <th>ID_y</th>\n",
              "      <th>issued</th>\n",
              "      <th>...</th>\n",
              "      <th>inventarieID</th>\n",
              "      <th>last_wo</th>\n",
              "      <th>first_wo</th>\n",
              "      <th>Count_wo</th>\n",
              "      <th>meantime</th>\n",
              "      <th>invID</th>\n",
              "      <th>last_pm</th>\n",
              "      <th>first_pm</th>\n",
              "      <th>count_pm</th>\n",
              "      <th>meantime_pm</th>\n",
              "    </tr>\n",
              "  </thead>\n",
              "  <tbody>\n",
              "    <tr>\n",
              "      <th>1364</th>\n",
              "      <td>9004411</td>\n",
              "      <td>2010-01-01 00:00:00.000</td>\n",
              "      <td>2021-09-21 00:00:00.000</td>\n",
              "      <td>1364</td>\n",
              "      <td>Röntgengenomlysningssystem, mobilt digitalt</td>\n",
              "      <td>GE Healthcare</td>\n",
              "      <td>OEC Fluorostar 7900</td>\n",
              "      <td>18.0</td>\n",
              "      <td>1233471</td>\n",
              "      <td>2019-05-03 00:00:00.000</td>\n",
              "      <td>...</td>\n",
              "      <td>1364.0</td>\n",
              "      <td>2020-08-13</td>\n",
              "      <td>2011-03-25</td>\n",
              "      <td>65</td>\n",
              "      <td>52</td>\n",
              "      <td>1364</td>\n",
              "      <td>2019-10-24</td>\n",
              "      <td>2019-10-24</td>\n",
              "      <td>1</td>\n",
              "      <td>0</td>\n",
              "    </tr>\n",
              "    <tr>\n",
              "      <th>1364</th>\n",
              "      <td>9004411</td>\n",
              "      <td>2010-01-01 00:00:00.000</td>\n",
              "      <td>2021-09-21 00:00:00.000</td>\n",
              "      <td>1364</td>\n",
              "      <td>Röntgengenomlysningssystem, mobilt digitalt</td>\n",
              "      <td>GE Healthcare</td>\n",
              "      <td>OEC Fluorostar 7900</td>\n",
              "      <td>18.0</td>\n",
              "      <td>662950</td>\n",
              "      <td>2017-05-26 00:00:00.000</td>\n",
              "      <td>...</td>\n",
              "      <td>1364.0</td>\n",
              "      <td>2020-08-13</td>\n",
              "      <td>2011-03-25</td>\n",
              "      <td>65</td>\n",
              "      <td>52</td>\n",
              "      <td>1364</td>\n",
              "      <td>2019-10-24</td>\n",
              "      <td>2019-10-24</td>\n",
              "      <td>1</td>\n",
              "      <td>0</td>\n",
              "    </tr>\n",
              "    <tr>\n",
              "      <th>1364</th>\n",
              "      <td>9004411</td>\n",
              "      <td>2010-01-01 00:00:00.000</td>\n",
              "      <td>2021-09-21 00:00:00.000</td>\n",
              "      <td>1364</td>\n",
              "      <td>Röntgengenomlysningssystem, mobilt digitalt</td>\n",
              "      <td>GE Healthcare</td>\n",
              "      <td>OEC Fluorostar 7900</td>\n",
              "      <td>18.0</td>\n",
              "      <td>612067</td>\n",
              "      <td>2016-01-04 00:00:00.000</td>\n",
              "      <td>...</td>\n",
              "      <td>1364.0</td>\n",
              "      <td>2020-08-13</td>\n",
              "      <td>2011-03-25</td>\n",
              "      <td>65</td>\n",
              "      <td>52</td>\n",
              "      <td>1364</td>\n",
              "      <td>2019-10-24</td>\n",
              "      <td>2019-10-24</td>\n",
              "      <td>1</td>\n",
              "      <td>0</td>\n",
              "    </tr>\n",
              "    <tr>\n",
              "      <th>1364</th>\n",
              "      <td>9004411</td>\n",
              "      <td>2010-01-01 00:00:00.000</td>\n",
              "      <td>2021-09-21 00:00:00.000</td>\n",
              "      <td>1364</td>\n",
              "      <td>Röntgengenomlysningssystem, mobilt digitalt</td>\n",
              "      <td>GE Healthcare</td>\n",
              "      <td>OEC Fluorostar 7900</td>\n",
              "      <td>18.0</td>\n",
              "      <td>393467</td>\n",
              "      <td>2012-07-23 00:00:00.000</td>\n",
              "      <td>...</td>\n",
              "      <td>1364.0</td>\n",
              "      <td>2020-08-13</td>\n",
              "      <td>2011-03-25</td>\n",
              "      <td>65</td>\n",
              "      <td>52</td>\n",
              "      <td>1364</td>\n",
              "      <td>2019-10-24</td>\n",
              "      <td>2019-10-24</td>\n",
              "      <td>1</td>\n",
              "      <td>0</td>\n",
              "    </tr>\n",
              "    <tr>\n",
              "      <th>1364</th>\n",
              "      <td>9004411</td>\n",
              "      <td>2010-01-01 00:00:00.000</td>\n",
              "      <td>2021-09-21 00:00:00.000</td>\n",
              "      <td>1364</td>\n",
              "      <td>Röntgengenomlysningssystem, mobilt digitalt</td>\n",
              "      <td>GE Healthcare</td>\n",
              "      <td>OEC Fluorostar 7900</td>\n",
              "      <td>18.0</td>\n",
              "      <td>1237176</td>\n",
              "      <td>2019-05-21 00:00:00.000</td>\n",
              "      <td>...</td>\n",
              "      <td>1364.0</td>\n",
              "      <td>2020-08-13</td>\n",
              "      <td>2011-03-25</td>\n",
              "      <td>65</td>\n",
              "      <td>52</td>\n",
              "      <td>1364</td>\n",
              "      <td>2019-10-24</td>\n",
              "      <td>2019-10-24</td>\n",
              "      <td>1</td>\n",
              "      <td>0</td>\n",
              "    </tr>\n",
              "    <tr>\n",
              "      <th>1364</th>\n",
              "      <td>9004411</td>\n",
              "      <td>2010-01-01 00:00:00.000</td>\n",
              "      <td>2021-09-21 00:00:00.000</td>\n",
              "      <td>1364</td>\n",
              "      <td>Röntgengenomlysningssystem, mobilt digitalt</td>\n",
              "      <td>GE Healthcare</td>\n",
              "      <td>OEC Fluorostar 7900</td>\n",
              "      <td>18.0</td>\n",
              "      <td>1222558</td>\n",
              "      <td>2019-02-28 00:00:00.000</td>\n",
              "      <td>...</td>\n",
              "      <td>1364.0</td>\n",
              "      <td>2020-08-13</td>\n",
              "      <td>2011-03-25</td>\n",
              "      <td>65</td>\n",
              "      <td>52</td>\n",
              "      <td>1364</td>\n",
              "      <td>2019-10-24</td>\n",
              "      <td>2019-10-24</td>\n",
              "      <td>1</td>\n",
              "      <td>0</td>\n",
              "    </tr>\n",
              "    <tr>\n",
              "      <th>1364</th>\n",
              "      <td>9004411</td>\n",
              "      <td>2010-01-01 00:00:00.000</td>\n",
              "      <td>2021-09-21 00:00:00.000</td>\n",
              "      <td>1364</td>\n",
              "      <td>Röntgengenomlysningssystem, mobilt digitalt</td>\n",
              "      <td>GE Healthcare</td>\n",
              "      <td>OEC Fluorostar 7900</td>\n",
              "      <td>18.0</td>\n",
              "      <td>1167578</td>\n",
              "      <td>2018-04-24 00:00:00.000</td>\n",
              "      <td>...</td>\n",
              "      <td>1364.0</td>\n",
              "      <td>2020-08-13</td>\n",
              "      <td>2011-03-25</td>\n",
              "      <td>65</td>\n",
              "      <td>52</td>\n",
              "      <td>1364</td>\n",
              "      <td>2019-10-24</td>\n",
              "      <td>2019-10-24</td>\n",
              "      <td>1</td>\n",
              "      <td>0</td>\n",
              "    </tr>\n",
              "    <tr>\n",
              "      <th>1364</th>\n",
              "      <td>9004411</td>\n",
              "      <td>2010-01-01 00:00:00.000</td>\n",
              "      <td>2021-09-21 00:00:00.000</td>\n",
              "      <td>1364</td>\n",
              "      <td>Röntgengenomlysningssystem, mobilt digitalt</td>\n",
              "      <td>GE Healthcare</td>\n",
              "      <td>OEC Fluorostar 7900</td>\n",
              "      <td>18.0</td>\n",
              "      <td>510206</td>\n",
              "      <td>2013-02-14 00:00:00.000</td>\n",
              "      <td>...</td>\n",
              "      <td>1364.0</td>\n",
              "      <td>2020-08-13</td>\n",
              "      <td>2011-03-25</td>\n",
              "      <td>65</td>\n",
              "      <td>52</td>\n",
              "      <td>1364</td>\n",
              "      <td>2019-10-24</td>\n",
              "      <td>2019-10-24</td>\n",
              "      <td>1</td>\n",
              "      <td>0</td>\n",
              "    </tr>\n",
              "    <tr>\n",
              "      <th>1364</th>\n",
              "      <td>9004411</td>\n",
              "      <td>2010-01-01 00:00:00.000</td>\n",
              "      <td>2021-09-21 00:00:00.000</td>\n",
              "      <td>1364</td>\n",
              "      <td>Röntgengenomlysningssystem, mobilt digitalt</td>\n",
              "      <td>GE Healthcare</td>\n",
              "      <td>OEC Fluorostar 7900</td>\n",
              "      <td>18.0</td>\n",
              "      <td>397564</td>\n",
              "      <td>2012-10-09 00:00:00.000</td>\n",
              "      <td>...</td>\n",
              "      <td>1364.0</td>\n",
              "      <td>2020-08-13</td>\n",
              "      <td>2011-03-25</td>\n",
              "      <td>65</td>\n",
              "      <td>52</td>\n",
              "      <td>1364</td>\n",
              "      <td>2019-10-24</td>\n",
              "      <td>2019-10-24</td>\n",
              "      <td>1</td>\n",
              "      <td>0</td>\n",
              "    </tr>\n",
              "    <tr>\n",
              "      <th>1364</th>\n",
              "      <td>9004411</td>\n",
              "      <td>2010-01-01 00:00:00.000</td>\n",
              "      <td>2021-09-21 00:00:00.000</td>\n",
              "      <td>1364</td>\n",
              "      <td>Röntgengenomlysningssystem, mobilt digitalt</td>\n",
              "      <td>GE Healthcare</td>\n",
              "      <td>OEC Fluorostar 7900</td>\n",
              "      <td>18.0</td>\n",
              "      <td>394949</td>\n",
              "      <td>2012-08-24 00:00:00.000</td>\n",
              "      <td>...</td>\n",
              "      <td>1364.0</td>\n",
              "      <td>2020-08-13</td>\n",
              "      <td>2011-03-25</td>\n",
              "      <td>65</td>\n",
              "      <td>52</td>\n",
              "      <td>1364</td>\n",
              "      <td>2019-10-24</td>\n",
              "      <td>2019-10-24</td>\n",
              "      <td>1</td>\n",
              "      <td>0</td>\n",
              "    </tr>\n",
              "  </tbody>\n",
              "</table>\n",
              "<p>10 rows × 23 columns</p>\n",
              "</div>\n",
              "      <button class=\"colab-df-convert\" onclick=\"convertToInteractive('df-6c1e1adb-f8d7-4fa4-b581-27c36bf25b85')\"\n",
              "              title=\"Convert this dataframe to an interactive table.\"\n",
              "              style=\"display:none;\">\n",
              "        \n",
              "  <svg xmlns=\"http://www.w3.org/2000/svg\" height=\"24px\"viewBox=\"0 0 24 24\"\n",
              "       width=\"24px\">\n",
              "    <path d=\"M0 0h24v24H0V0z\" fill=\"none\"/>\n",
              "    <path d=\"M18.56 5.44l.94 2.06.94-2.06 2.06-.94-2.06-.94-.94-2.06-.94 2.06-2.06.94zm-11 1L8.5 8.5l.94-2.06 2.06-.94-2.06-.94L8.5 2.5l-.94 2.06-2.06.94zm10 10l.94 2.06.94-2.06 2.06-.94-2.06-.94-.94-2.06-.94 2.06-2.06.94z\"/><path d=\"M17.41 7.96l-1.37-1.37c-.4-.4-.92-.59-1.43-.59-.52 0-1.04.2-1.43.59L10.3 9.45l-7.72 7.72c-.78.78-.78 2.05 0 2.83L4 21.41c.39.39.9.59 1.41.59.51 0 1.02-.2 1.41-.59l7.78-7.78 2.81-2.81c.8-.78.8-2.07 0-2.86zM5.41 20L4 18.59l7.72-7.72 1.47 1.35L5.41 20z\"/>\n",
              "  </svg>\n",
              "      </button>\n",
              "      \n",
              "  <style>\n",
              "    .colab-df-container {\n",
              "      display:flex;\n",
              "      flex-wrap:wrap;\n",
              "      gap: 12px;\n",
              "    }\n",
              "\n",
              "    .colab-df-convert {\n",
              "      background-color: #E8F0FE;\n",
              "      border: none;\n",
              "      border-radius: 50%;\n",
              "      cursor: pointer;\n",
              "      display: none;\n",
              "      fill: #1967D2;\n",
              "      height: 32px;\n",
              "      padding: 0 0 0 0;\n",
              "      width: 32px;\n",
              "    }\n",
              "\n",
              "    .colab-df-convert:hover {\n",
              "      background-color: #E2EBFA;\n",
              "      box-shadow: 0px 1px 2px rgba(60, 64, 67, 0.3), 0px 1px 3px 1px rgba(60, 64, 67, 0.15);\n",
              "      fill: #174EA6;\n",
              "    }\n",
              "\n",
              "    [theme=dark] .colab-df-convert {\n",
              "      background-color: #3B4455;\n",
              "      fill: #D2E3FC;\n",
              "    }\n",
              "\n",
              "    [theme=dark] .colab-df-convert:hover {\n",
              "      background-color: #434B5C;\n",
              "      box-shadow: 0px 1px 3px 1px rgba(0, 0, 0, 0.15);\n",
              "      filter: drop-shadow(0px 1px 2px rgba(0, 0, 0, 0.3));\n",
              "      fill: #FFFFFF;\n",
              "    }\n",
              "  </style>\n",
              "\n",
              "      <script>\n",
              "        const buttonEl =\n",
              "          document.querySelector('#df-6c1e1adb-f8d7-4fa4-b581-27c36bf25b85 button.colab-df-convert');\n",
              "        buttonEl.style.display =\n",
              "          google.colab.kernel.accessAllowed ? 'block' : 'none';\n",
              "\n",
              "        async function convertToInteractive(key) {\n",
              "          const element = document.querySelector('#df-6c1e1adb-f8d7-4fa4-b581-27c36bf25b85');\n",
              "          const dataTable =\n",
              "            await google.colab.kernel.invokeFunction('convertToInteractive',\n",
              "                                                     [key], {});\n",
              "          if (!dataTable) return;\n",
              "\n",
              "          const docLinkHtml = 'Like what you see? Visit the ' +\n",
              "            '<a target=\"_blank\" href=https://colab.research.google.com/notebooks/data_table.ipynb>data table notebook</a>'\n",
              "            + ' to learn more about interactive tables.';\n",
              "          element.innerHTML = '';\n",
              "          dataTable['output_type'] = 'display_data';\n",
              "          await google.colab.output.renderOutput(dataTable, element);\n",
              "          const docLink = document.createElement('div');\n",
              "          docLink.innerHTML = docLinkHtml;\n",
              "          element.appendChild(docLink);\n",
              "        }\n",
              "      </script>\n",
              "    </div>\n",
              "  </div>\n",
              "  "
            ]
          },
          "metadata": {},
          "execution_count": 129
        }
      ],
      "source": [
        "all_data_together.head(10)"
      ]
    },
    {
      "cell_type": "markdown",
      "source": [
        "sorting based on inventariedID and issued **date**"
      ],
      "metadata": {
        "id": "zrAFl4pEvQQO"
      }
    },
    {
      "cell_type": "code",
      "source": [
        "all_data_together=all_data_together.sort_values(by=['inventarieID','issued'])"
      ],
      "metadata": {
        "id": "t6CQqjHEvdXb"
      },
      "execution_count": 130,
      "outputs": []
    },
    {
      "cell_type": "code",
      "execution_count": 131,
      "metadata": {
        "id": "WDnY86t3Pyt3"
      },
      "outputs": [],
      "source": [
        "all_data_together=all_data_together.drop(columns=['InvNr','Completed','InventarieID','invID'])"
      ]
    },
    {
      "cell_type": "code",
      "execution_count": 132,
      "metadata": {
        "id": "KJD_lUWoRhD9",
        "colab": {
          "base_uri": "https://localhost:8080/"
        },
        "outputId": "71545266-ac58-43a2-dace-ce67a055cee4"
      },
      "outputs": [
        {
          "output_type": "execute_result",
          "data": {
            "text/plain": [
              "(205291, 19)"
            ]
          },
          "metadata": {},
          "execution_count": 132
        }
      ],
      "source": [
        "all_data_together.shape"
      ]
    },
    {
      "cell_type": "code",
      "source": [
        "all_data_together.head(10)"
      ],
      "metadata": {
        "id": "g36tAHyDxLTf",
        "colab": {
          "base_uri": "https://localhost:8080/",
          "height": 774
        },
        "outputId": "b90cf3e5-703f-4a82-f27e-44f27d4d186a"
      },
      "execution_count": 133,
      "outputs": [
        {
          "output_type": "execute_result",
          "data": {
            "text/plain": [
              "               Equip.reg_date            Scrapped_date  ID_x  \\\n",
              "1364  2010-01-01 00:00:00.000  2021-09-21 00:00:00.000  1364   \n",
              "1364  2010-01-01 00:00:00.000  2021-09-21 00:00:00.000  1364   \n",
              "1364  2010-01-01 00:00:00.000  2021-09-21 00:00:00.000  1364   \n",
              "1364  2010-01-01 00:00:00.000  2021-09-21 00:00:00.000  1364   \n",
              "1364  2010-01-01 00:00:00.000  2021-09-21 00:00:00.000  1364   \n",
              "1364  2010-01-01 00:00:00.000  2021-09-21 00:00:00.000  1364   \n",
              "1364  2010-01-01 00:00:00.000  2021-09-21 00:00:00.000  1364   \n",
              "1364  2010-01-01 00:00:00.000  2021-09-21 00:00:00.000  1364   \n",
              "1364  2010-01-01 00:00:00.000  2021-09-21 00:00:00.000  1364   \n",
              "1364  2010-01-01 00:00:00.000  2021-09-21 00:00:00.000  1364   \n",
              "\n",
              "                                              dev          Brand  \\\n",
              "1364  Röntgengenomlysningssystem, mobilt digitalt  GE Healthcare   \n",
              "1364  Röntgengenomlysningssystem, mobilt digitalt  GE Healthcare   \n",
              "1364  Röntgengenomlysningssystem, mobilt digitalt  GE Healthcare   \n",
              "1364  Röntgengenomlysningssystem, mobilt digitalt  GE Healthcare   \n",
              "1364  Röntgengenomlysningssystem, mobilt digitalt  GE Healthcare   \n",
              "1364  Röntgengenomlysningssystem, mobilt digitalt  GE Healthcare   \n",
              "1364  Röntgengenomlysningssystem, mobilt digitalt  GE Healthcare   \n",
              "1364  Röntgengenomlysningssystem, mobilt digitalt  GE Healthcare   \n",
              "1364  Röntgengenomlysningssystem, mobilt digitalt  GE Healthcare   \n",
              "1364  Röntgengenomlysningssystem, mobilt digitalt  GE Healthcare   \n",
              "\n",
              "                    Model  calc.Risk    ID_y                   issued  \\\n",
              "1364  OEC Fluorostar 7900       18.0  242555  2011-03-25 00:00:00.000   \n",
              "1364  OEC Fluorostar 7900       18.0  282186  2011-05-14 00:00:00.000   \n",
              "1364  OEC Fluorostar 7900       18.0  282305  2011-05-18 00:00:00.000   \n",
              "1364  OEC Fluorostar 7900       18.0  359761  2011-10-25 00:00:00.000   \n",
              "1364  OEC Fluorostar 7900       18.0  362353  2012-01-02 00:00:00.000   \n",
              "1364  OEC Fluorostar 7900       18.0  363896  2012-02-07 00:00:00.000   \n",
              "1364  OEC Fluorostar 7900       18.0  391369  2012-06-18 00:00:00.000   \n",
              "1364  OEC Fluorostar 7900       18.0  393299  2012-07-18 00:00:00.000   \n",
              "1364  OEC Fluorostar 7900       18.0  393467  2012-07-23 00:00:00.000   \n",
              "1364  OEC Fluorostar 7900       18.0  394949  2012-08-24 00:00:00.000   \n",
              "\n",
              "                  AOEkKlarDat  inventarieID     last_wo    first_wo  Count_wo  \\\n",
              "1364  2011-03-25 00:00:00.000        1364.0  2020-08-13  2011-03-25        65   \n",
              "1364  2011-05-14 00:00:00.000        1364.0  2020-08-13  2011-03-25        65   \n",
              "1364  2011-05-18 00:00:00.000        1364.0  2020-08-13  2011-03-25        65   \n",
              "1364  2011-10-26 00:00:00.000        1364.0  2020-08-13  2011-03-25        65   \n",
              "1364  2012-01-02 00:00:00.000        1364.0  2020-08-13  2011-03-25        65   \n",
              "1364  2012-02-23 00:00:00.000        1364.0  2020-08-13  2011-03-25        65   \n",
              "1364  2012-06-18 00:00:00.000        1364.0  2020-08-13  2011-03-25        65   \n",
              "1364  2012-12-21 00:00:00.000        1364.0  2020-08-13  2011-03-25        65   \n",
              "1364  2012-12-21 00:00:00.000        1364.0  2020-08-13  2011-03-25        65   \n",
              "1364  2013-01-28 00:00:00.000        1364.0  2020-08-13  2011-03-25        65   \n",
              "\n",
              "      meantime     last_pm    first_pm  count_pm  meantime_pm  \n",
              "1364        52  2019-10-24  2019-10-24         1            0  \n",
              "1364        52  2019-10-24  2019-10-24         1            0  \n",
              "1364        52  2019-10-24  2019-10-24         1            0  \n",
              "1364        52  2019-10-24  2019-10-24         1            0  \n",
              "1364        52  2019-10-24  2019-10-24         1            0  \n",
              "1364        52  2019-10-24  2019-10-24         1            0  \n",
              "1364        52  2019-10-24  2019-10-24         1            0  \n",
              "1364        52  2019-10-24  2019-10-24         1            0  \n",
              "1364        52  2019-10-24  2019-10-24         1            0  \n",
              "1364        52  2019-10-24  2019-10-24         1            0  "
            ],
            "text/html": [
              "\n",
              "  <div id=\"df-56816dd4-d15f-4c92-ae99-cd33824a7806\">\n",
              "    <div class=\"colab-df-container\">\n",
              "      <div>\n",
              "<style scoped>\n",
              "    .dataframe tbody tr th:only-of-type {\n",
              "        vertical-align: middle;\n",
              "    }\n",
              "\n",
              "    .dataframe tbody tr th {\n",
              "        vertical-align: top;\n",
              "    }\n",
              "\n",
              "    .dataframe thead th {\n",
              "        text-align: right;\n",
              "    }\n",
              "</style>\n",
              "<table border=\"1\" class=\"dataframe\">\n",
              "  <thead>\n",
              "    <tr style=\"text-align: right;\">\n",
              "      <th></th>\n",
              "      <th>Equip.reg_date</th>\n",
              "      <th>Scrapped_date</th>\n",
              "      <th>ID_x</th>\n",
              "      <th>dev</th>\n",
              "      <th>Brand</th>\n",
              "      <th>Model</th>\n",
              "      <th>calc.Risk</th>\n",
              "      <th>ID_y</th>\n",
              "      <th>issued</th>\n",
              "      <th>AOEkKlarDat</th>\n",
              "      <th>inventarieID</th>\n",
              "      <th>last_wo</th>\n",
              "      <th>first_wo</th>\n",
              "      <th>Count_wo</th>\n",
              "      <th>meantime</th>\n",
              "      <th>last_pm</th>\n",
              "      <th>first_pm</th>\n",
              "      <th>count_pm</th>\n",
              "      <th>meantime_pm</th>\n",
              "    </tr>\n",
              "  </thead>\n",
              "  <tbody>\n",
              "    <tr>\n",
              "      <th>1364</th>\n",
              "      <td>2010-01-01 00:00:00.000</td>\n",
              "      <td>2021-09-21 00:00:00.000</td>\n",
              "      <td>1364</td>\n",
              "      <td>Röntgengenomlysningssystem, mobilt digitalt</td>\n",
              "      <td>GE Healthcare</td>\n",
              "      <td>OEC Fluorostar 7900</td>\n",
              "      <td>18.0</td>\n",
              "      <td>242555</td>\n",
              "      <td>2011-03-25 00:00:00.000</td>\n",
              "      <td>2011-03-25 00:00:00.000</td>\n",
              "      <td>1364.0</td>\n",
              "      <td>2020-08-13</td>\n",
              "      <td>2011-03-25</td>\n",
              "      <td>65</td>\n",
              "      <td>52</td>\n",
              "      <td>2019-10-24</td>\n",
              "      <td>2019-10-24</td>\n",
              "      <td>1</td>\n",
              "      <td>0</td>\n",
              "    </tr>\n",
              "    <tr>\n",
              "      <th>1364</th>\n",
              "      <td>2010-01-01 00:00:00.000</td>\n",
              "      <td>2021-09-21 00:00:00.000</td>\n",
              "      <td>1364</td>\n",
              "      <td>Röntgengenomlysningssystem, mobilt digitalt</td>\n",
              "      <td>GE Healthcare</td>\n",
              "      <td>OEC Fluorostar 7900</td>\n",
              "      <td>18.0</td>\n",
              "      <td>282186</td>\n",
              "      <td>2011-05-14 00:00:00.000</td>\n",
              "      <td>2011-05-14 00:00:00.000</td>\n",
              "      <td>1364.0</td>\n",
              "      <td>2020-08-13</td>\n",
              "      <td>2011-03-25</td>\n",
              "      <td>65</td>\n",
              "      <td>52</td>\n",
              "      <td>2019-10-24</td>\n",
              "      <td>2019-10-24</td>\n",
              "      <td>1</td>\n",
              "      <td>0</td>\n",
              "    </tr>\n",
              "    <tr>\n",
              "      <th>1364</th>\n",
              "      <td>2010-01-01 00:00:00.000</td>\n",
              "      <td>2021-09-21 00:00:00.000</td>\n",
              "      <td>1364</td>\n",
              "      <td>Röntgengenomlysningssystem, mobilt digitalt</td>\n",
              "      <td>GE Healthcare</td>\n",
              "      <td>OEC Fluorostar 7900</td>\n",
              "      <td>18.0</td>\n",
              "      <td>282305</td>\n",
              "      <td>2011-05-18 00:00:00.000</td>\n",
              "      <td>2011-05-18 00:00:00.000</td>\n",
              "      <td>1364.0</td>\n",
              "      <td>2020-08-13</td>\n",
              "      <td>2011-03-25</td>\n",
              "      <td>65</td>\n",
              "      <td>52</td>\n",
              "      <td>2019-10-24</td>\n",
              "      <td>2019-10-24</td>\n",
              "      <td>1</td>\n",
              "      <td>0</td>\n",
              "    </tr>\n",
              "    <tr>\n",
              "      <th>1364</th>\n",
              "      <td>2010-01-01 00:00:00.000</td>\n",
              "      <td>2021-09-21 00:00:00.000</td>\n",
              "      <td>1364</td>\n",
              "      <td>Röntgengenomlysningssystem, mobilt digitalt</td>\n",
              "      <td>GE Healthcare</td>\n",
              "      <td>OEC Fluorostar 7900</td>\n",
              "      <td>18.0</td>\n",
              "      <td>359761</td>\n",
              "      <td>2011-10-25 00:00:00.000</td>\n",
              "      <td>2011-10-26 00:00:00.000</td>\n",
              "      <td>1364.0</td>\n",
              "      <td>2020-08-13</td>\n",
              "      <td>2011-03-25</td>\n",
              "      <td>65</td>\n",
              "      <td>52</td>\n",
              "      <td>2019-10-24</td>\n",
              "      <td>2019-10-24</td>\n",
              "      <td>1</td>\n",
              "      <td>0</td>\n",
              "    </tr>\n",
              "    <tr>\n",
              "      <th>1364</th>\n",
              "      <td>2010-01-01 00:00:00.000</td>\n",
              "      <td>2021-09-21 00:00:00.000</td>\n",
              "      <td>1364</td>\n",
              "      <td>Röntgengenomlysningssystem, mobilt digitalt</td>\n",
              "      <td>GE Healthcare</td>\n",
              "      <td>OEC Fluorostar 7900</td>\n",
              "      <td>18.0</td>\n",
              "      <td>362353</td>\n",
              "      <td>2012-01-02 00:00:00.000</td>\n",
              "      <td>2012-01-02 00:00:00.000</td>\n",
              "      <td>1364.0</td>\n",
              "      <td>2020-08-13</td>\n",
              "      <td>2011-03-25</td>\n",
              "      <td>65</td>\n",
              "      <td>52</td>\n",
              "      <td>2019-10-24</td>\n",
              "      <td>2019-10-24</td>\n",
              "      <td>1</td>\n",
              "      <td>0</td>\n",
              "    </tr>\n",
              "    <tr>\n",
              "      <th>1364</th>\n",
              "      <td>2010-01-01 00:00:00.000</td>\n",
              "      <td>2021-09-21 00:00:00.000</td>\n",
              "      <td>1364</td>\n",
              "      <td>Röntgengenomlysningssystem, mobilt digitalt</td>\n",
              "      <td>GE Healthcare</td>\n",
              "      <td>OEC Fluorostar 7900</td>\n",
              "      <td>18.0</td>\n",
              "      <td>363896</td>\n",
              "      <td>2012-02-07 00:00:00.000</td>\n",
              "      <td>2012-02-23 00:00:00.000</td>\n",
              "      <td>1364.0</td>\n",
              "      <td>2020-08-13</td>\n",
              "      <td>2011-03-25</td>\n",
              "      <td>65</td>\n",
              "      <td>52</td>\n",
              "      <td>2019-10-24</td>\n",
              "      <td>2019-10-24</td>\n",
              "      <td>1</td>\n",
              "      <td>0</td>\n",
              "    </tr>\n",
              "    <tr>\n",
              "      <th>1364</th>\n",
              "      <td>2010-01-01 00:00:00.000</td>\n",
              "      <td>2021-09-21 00:00:00.000</td>\n",
              "      <td>1364</td>\n",
              "      <td>Röntgengenomlysningssystem, mobilt digitalt</td>\n",
              "      <td>GE Healthcare</td>\n",
              "      <td>OEC Fluorostar 7900</td>\n",
              "      <td>18.0</td>\n",
              "      <td>391369</td>\n",
              "      <td>2012-06-18 00:00:00.000</td>\n",
              "      <td>2012-06-18 00:00:00.000</td>\n",
              "      <td>1364.0</td>\n",
              "      <td>2020-08-13</td>\n",
              "      <td>2011-03-25</td>\n",
              "      <td>65</td>\n",
              "      <td>52</td>\n",
              "      <td>2019-10-24</td>\n",
              "      <td>2019-10-24</td>\n",
              "      <td>1</td>\n",
              "      <td>0</td>\n",
              "    </tr>\n",
              "    <tr>\n",
              "      <th>1364</th>\n",
              "      <td>2010-01-01 00:00:00.000</td>\n",
              "      <td>2021-09-21 00:00:00.000</td>\n",
              "      <td>1364</td>\n",
              "      <td>Röntgengenomlysningssystem, mobilt digitalt</td>\n",
              "      <td>GE Healthcare</td>\n",
              "      <td>OEC Fluorostar 7900</td>\n",
              "      <td>18.0</td>\n",
              "      <td>393299</td>\n",
              "      <td>2012-07-18 00:00:00.000</td>\n",
              "      <td>2012-12-21 00:00:00.000</td>\n",
              "      <td>1364.0</td>\n",
              "      <td>2020-08-13</td>\n",
              "      <td>2011-03-25</td>\n",
              "      <td>65</td>\n",
              "      <td>52</td>\n",
              "      <td>2019-10-24</td>\n",
              "      <td>2019-10-24</td>\n",
              "      <td>1</td>\n",
              "      <td>0</td>\n",
              "    </tr>\n",
              "    <tr>\n",
              "      <th>1364</th>\n",
              "      <td>2010-01-01 00:00:00.000</td>\n",
              "      <td>2021-09-21 00:00:00.000</td>\n",
              "      <td>1364</td>\n",
              "      <td>Röntgengenomlysningssystem, mobilt digitalt</td>\n",
              "      <td>GE Healthcare</td>\n",
              "      <td>OEC Fluorostar 7900</td>\n",
              "      <td>18.0</td>\n",
              "      <td>393467</td>\n",
              "      <td>2012-07-23 00:00:00.000</td>\n",
              "      <td>2012-12-21 00:00:00.000</td>\n",
              "      <td>1364.0</td>\n",
              "      <td>2020-08-13</td>\n",
              "      <td>2011-03-25</td>\n",
              "      <td>65</td>\n",
              "      <td>52</td>\n",
              "      <td>2019-10-24</td>\n",
              "      <td>2019-10-24</td>\n",
              "      <td>1</td>\n",
              "      <td>0</td>\n",
              "    </tr>\n",
              "    <tr>\n",
              "      <th>1364</th>\n",
              "      <td>2010-01-01 00:00:00.000</td>\n",
              "      <td>2021-09-21 00:00:00.000</td>\n",
              "      <td>1364</td>\n",
              "      <td>Röntgengenomlysningssystem, mobilt digitalt</td>\n",
              "      <td>GE Healthcare</td>\n",
              "      <td>OEC Fluorostar 7900</td>\n",
              "      <td>18.0</td>\n",
              "      <td>394949</td>\n",
              "      <td>2012-08-24 00:00:00.000</td>\n",
              "      <td>2013-01-28 00:00:00.000</td>\n",
              "      <td>1364.0</td>\n",
              "      <td>2020-08-13</td>\n",
              "      <td>2011-03-25</td>\n",
              "      <td>65</td>\n",
              "      <td>52</td>\n",
              "      <td>2019-10-24</td>\n",
              "      <td>2019-10-24</td>\n",
              "      <td>1</td>\n",
              "      <td>0</td>\n",
              "    </tr>\n",
              "  </tbody>\n",
              "</table>\n",
              "</div>\n",
              "      <button class=\"colab-df-convert\" onclick=\"convertToInteractive('df-56816dd4-d15f-4c92-ae99-cd33824a7806')\"\n",
              "              title=\"Convert this dataframe to an interactive table.\"\n",
              "              style=\"display:none;\">\n",
              "        \n",
              "  <svg xmlns=\"http://www.w3.org/2000/svg\" height=\"24px\"viewBox=\"0 0 24 24\"\n",
              "       width=\"24px\">\n",
              "    <path d=\"M0 0h24v24H0V0z\" fill=\"none\"/>\n",
              "    <path d=\"M18.56 5.44l.94 2.06.94-2.06 2.06-.94-2.06-.94-.94-2.06-.94 2.06-2.06.94zm-11 1L8.5 8.5l.94-2.06 2.06-.94-2.06-.94L8.5 2.5l-.94 2.06-2.06.94zm10 10l.94 2.06.94-2.06 2.06-.94-2.06-.94-.94-2.06-.94 2.06-2.06.94z\"/><path d=\"M17.41 7.96l-1.37-1.37c-.4-.4-.92-.59-1.43-.59-.52 0-1.04.2-1.43.59L10.3 9.45l-7.72 7.72c-.78.78-.78 2.05 0 2.83L4 21.41c.39.39.9.59 1.41.59.51 0 1.02-.2 1.41-.59l7.78-7.78 2.81-2.81c.8-.78.8-2.07 0-2.86zM5.41 20L4 18.59l7.72-7.72 1.47 1.35L5.41 20z\"/>\n",
              "  </svg>\n",
              "      </button>\n",
              "      \n",
              "  <style>\n",
              "    .colab-df-container {\n",
              "      display:flex;\n",
              "      flex-wrap:wrap;\n",
              "      gap: 12px;\n",
              "    }\n",
              "\n",
              "    .colab-df-convert {\n",
              "      background-color: #E8F0FE;\n",
              "      border: none;\n",
              "      border-radius: 50%;\n",
              "      cursor: pointer;\n",
              "      display: none;\n",
              "      fill: #1967D2;\n",
              "      height: 32px;\n",
              "      padding: 0 0 0 0;\n",
              "      width: 32px;\n",
              "    }\n",
              "\n",
              "    .colab-df-convert:hover {\n",
              "      background-color: #E2EBFA;\n",
              "      box-shadow: 0px 1px 2px rgba(60, 64, 67, 0.3), 0px 1px 3px 1px rgba(60, 64, 67, 0.15);\n",
              "      fill: #174EA6;\n",
              "    }\n",
              "\n",
              "    [theme=dark] .colab-df-convert {\n",
              "      background-color: #3B4455;\n",
              "      fill: #D2E3FC;\n",
              "    }\n",
              "\n",
              "    [theme=dark] .colab-df-convert:hover {\n",
              "      background-color: #434B5C;\n",
              "      box-shadow: 0px 1px 3px 1px rgba(0, 0, 0, 0.15);\n",
              "      filter: drop-shadow(0px 1px 2px rgba(0, 0, 0, 0.3));\n",
              "      fill: #FFFFFF;\n",
              "    }\n",
              "  </style>\n",
              "\n",
              "      <script>\n",
              "        const buttonEl =\n",
              "          document.querySelector('#df-56816dd4-d15f-4c92-ae99-cd33824a7806 button.colab-df-convert');\n",
              "        buttonEl.style.display =\n",
              "          google.colab.kernel.accessAllowed ? 'block' : 'none';\n",
              "\n",
              "        async function convertToInteractive(key) {\n",
              "          const element = document.querySelector('#df-56816dd4-d15f-4c92-ae99-cd33824a7806');\n",
              "          const dataTable =\n",
              "            await google.colab.kernel.invokeFunction('convertToInteractive',\n",
              "                                                     [key], {});\n",
              "          if (!dataTable) return;\n",
              "\n",
              "          const docLinkHtml = 'Like what you see? Visit the ' +\n",
              "            '<a target=\"_blank\" href=https://colab.research.google.com/notebooks/data_table.ipynb>data table notebook</a>'\n",
              "            + ' to learn more about interactive tables.';\n",
              "          element.innerHTML = '';\n",
              "          dataTable['output_type'] = 'display_data';\n",
              "          await google.colab.output.renderOutput(dataTable, element);\n",
              "          const docLink = document.createElement('div');\n",
              "          docLink.innerHTML = docLinkHtml;\n",
              "          element.appendChild(docLink);\n",
              "        }\n",
              "      </script>\n",
              "    </div>\n",
              "  </div>\n",
              "  "
            ]
          },
          "metadata": {},
          "execution_count": 133
        }
      ]
    },
    {
      "cell_type": "markdown",
      "source": [
        "# regression model"
      ],
      "metadata": {
        "id": "vSUoLaChcFEu"
      }
    },
    {
      "cell_type": "code",
      "source": [],
      "metadata": {
        "id": "hqVDfRBDaLe3"
      },
      "execution_count": 134,
      "outputs": []
    },
    {
      "cell_type": "code",
      "source": [
        "Y_pmattributehos1_oxy=pm_wo_attributes_oxygen['wotime_diff']\n",
        "X_pmattributehos1_oxy=pm_wo_attributes_oxygen.drop(['wotime_diff'],axis=1)\n"
      ],
      "metadata": {
        "id": "G1glVnMPcHzi",
        "colab": {
          "base_uri": "https://localhost:8080/",
          "height": 182
        },
        "outputId": "997793e3-5789-4029-ba5f-ae3d2c4549dd"
      },
      "execution_count": 135,
      "outputs": [
        {
          "output_type": "error",
          "ename": "NameError",
          "evalue": "ignored",
          "traceback": [
            "\u001b[0;31m---------------------------------------------------------------------------\u001b[0m",
            "\u001b[0;31mNameError\u001b[0m                                 Traceback (most recent call last)",
            "\u001b[0;32m<ipython-input-135-04691ef72397>\u001b[0m in \u001b[0;36m<module>\u001b[0;34m\u001b[0m\n\u001b[0;32m----> 1\u001b[0;31m \u001b[0mY_pmattributehos1_oxy\u001b[0m\u001b[0;34m=\u001b[0m\u001b[0mpm_wo_attributes_oxygen\u001b[0m\u001b[0;34m[\u001b[0m\u001b[0;34m'wotime_diff'\u001b[0m\u001b[0;34m]\u001b[0m\u001b[0;34m\u001b[0m\u001b[0;34m\u001b[0m\u001b[0m\n\u001b[0m\u001b[1;32m      2\u001b[0m \u001b[0mX_pmattributehos1_oxy\u001b[0m\u001b[0;34m=\u001b[0m\u001b[0mpm_wo_attributes_oxygen\u001b[0m\u001b[0;34m.\u001b[0m\u001b[0mdrop\u001b[0m\u001b[0;34m(\u001b[0m\u001b[0;34m[\u001b[0m\u001b[0;34m'wotime_diff'\u001b[0m\u001b[0;34m]\u001b[0m\u001b[0;34m,\u001b[0m\u001b[0maxis\u001b[0m\u001b[0;34m=\u001b[0m\u001b[0;36m1\u001b[0m\u001b[0;34m)\u001b[0m\u001b[0;34m\u001b[0m\u001b[0;34m\u001b[0m\u001b[0m\n",
            "\u001b[0;31mNameError\u001b[0m: name 'pm_wo_attributes_oxygen' is not defined"
          ]
        }
      ]
    },
    {
      "cell_type": "code",
      "source": [
        "Y_pmattributehos1_oxy.head(3)"
      ],
      "metadata": {
        "id": "4-92ureddErQ"
      },
      "execution_count": null,
      "outputs": []
    },
    {
      "cell_type": "code",
      "source": [
        "X_pmattributehos1_oxy.head(3)"
      ],
      "metadata": {
        "id": "liBXvLp8dLK2"
      },
      "execution_count": null,
      "outputs": []
    },
    {
      "cell_type": "code",
      "source": [
        "predictions_anes_pmplus"
      ],
      "metadata": {
        "id": "L6wiDjuogDKK"
      },
      "execution_count": null,
      "outputs": []
    },
    {
      "cell_type": "code",
      "source": [
        "predictions_anes_pmplus= model_anes_pmplus.predict(X_test_aneshos1_pm)\n"
      ],
      "metadata": {
        "id": "dIJmSdVgfmiC"
      },
      "execution_count": null,
      "outputs": []
    },
    {
      "cell_type": "code",
      "source": [
        "model_anes_pmplus.fit(X_train_aneshos1_pm,y_train_aneshos1_pm)"
      ],
      "metadata": {
        "id": "fWSooWYKfYOl"
      },
      "execution_count": null,
      "outputs": []
    },
    {
      "cell_type": "markdown",
      "metadata": {
        "id": "zKMM9uHSTn75"
      },
      "source": [
        "# **Multiple Regression model for Work Orders and Failing time -Anathesia device**"
      ]
    },
    {
      "cell_type": "code",
      "execution_count": 136,
      "metadata": {
        "id": "R8BrfOsHUDx7"
      },
      "outputs": [],
      "source": [
        "from sklearn import linear_model\n",
        "from sklearn.linear_model import LinearRegression\n",
        "from sklearn.metrics import mean_squared_error, mean_absolute_error\n",
        "from sklearn import preprocessing"
      ]
    },
    {
      "cell_type": "code",
      "execution_count": 137,
      "metadata": {
        "id": "qOApF6jVR_vQ",
        "colab": {
          "base_uri": "https://localhost:8080/"
        },
        "outputId": "003dd8b0-05b7-4602-86fa-97d39e9d730f"
      },
      "outputs": [
        {
          "output_type": "execute_result",
          "data": {
            "text/plain": [
              "(6915, 9)"
            ]
          },
          "metadata": {},
          "execution_count": 137
        }
      ],
      "source": [
        "data_aneshos1woeq.shape"
      ]
    },
    {
      "cell_type": "markdown",
      "metadata": {
        "id": "zOeP_z2Z_vWp"
      },
      "source": [
        "model pre-processing and feature engineering"
      ]
    },
    {
      "cell_type": "markdown",
      "metadata": {
        "id": "3iA01uMzV8aT"
      },
      "source": [
        "table find difference between fault date and register date \n",
        "\n",
        "*   List item\n",
        "*   List item\n",
        "\n"
      ]
    },
    {
      "cell_type": "code",
      "execution_count": 138,
      "metadata": {
        "id": "zPUBAVvOWHBK"
      },
      "outputs": [],
      "source": [
        "data_aneshos1woeq['wotime_diff']=(data_aneshos1woeq['issued']-data_aneshos1woeq['Equip.reg_date']).dt.days"
      ]
    },
    {
      "cell_type": "code",
      "execution_count": 139,
      "metadata": {
        "id": "708n_SkfXxy8",
        "colab": {
          "base_uri": "https://localhost:8080/",
          "height": 0
        },
        "outputId": "3520f3e9-a86c-48e4-820b-15ebb310fdda"
      },
      "outputs": [
        {
          "output_type": "execute_result",
          "data": {
            "text/plain": [
              "      Equip.reg_date                    dev  calc.Risk    ID_y     issued  \\\n",
              "68212     2000-01-01  Anestesiarbetsstation       31.0  340382 2002-04-16   \n",
              "68212     2000-01-01  Anestesiarbetsstation       31.0  340387 2004-01-12   \n",
              "68212     2000-01-01  Anestesiarbetsstation       31.0  357998 2010-08-17   \n",
              "68212     2000-01-01  Anestesiarbetsstation       31.0  340385 2003-10-17   \n",
              "68212     2000-01-01  Anestesiarbetsstation       31.0  340383 2003-06-25   \n",
              "68212     2000-01-01  Anestesiarbetsstation       31.0  340378 2001-02-06   \n",
              "68212     2000-01-01  Anestesiarbetsstation       31.0  340381 2002-03-19   \n",
              "68212     2000-01-01  Anestesiarbetsstation       31.0  340379 2001-12-06   \n",
              "68212     2000-01-01  Anestesiarbetsstation       31.0  340380 2002-02-01   \n",
              "68212     2000-01-01  Anestesiarbetsstation       31.0  340377 2001-02-16   \n",
              "68212     2000-01-01  Anestesiarbetsstation       31.0  340386 2003-10-17   \n",
              "68212     2000-01-01  Anestesiarbetsstation       31.0  340384 2003-07-02   \n",
              "68212     2000-01-01  Anestesiarbetsstation       31.0  340376 2000-10-30   \n",
              "68212     2000-01-01  Anestesiarbetsstation       31.0  340388 2004-05-03   \n",
              "68213     2000-01-01  Anestesiarbetsstation       31.0  340399 2004-02-20   \n",
              "68213     2000-01-01  Anestesiarbetsstation       31.0  340397 2004-02-09   \n",
              "68213     2000-01-01  Anestesiarbetsstation       31.0  340398 2004-02-23   \n",
              "68213     2000-01-01  Anestesiarbetsstation       31.0  340391 2001-01-18   \n",
              "68213     2000-01-01  Anestesiarbetsstation       31.0  340389 2000-10-30   \n",
              "68213     2000-01-01  Anestesiarbetsstation       31.0  340396 2003-10-30   \n",
              "68213     2000-01-01  Anestesiarbetsstation       31.0  340392 2002-02-01   \n",
              "68213     2000-01-01  Anestesiarbetsstation       31.0  340395 2004-02-25   \n",
              "68213     2000-01-01  Anestesiarbetsstation       31.0  340390 2001-01-16   \n",
              "68213     2000-01-01  Anestesiarbetsstation       31.0  340394 2002-06-04   \n",
              "68213     2000-01-01  Anestesiarbetsstation       31.0  340393 2002-09-04   \n",
              "77202     2003-01-01  Anestesiarbetsstation       31.0  401032 2012-07-06   \n",
              "77202     2003-01-01  Anestesiarbetsstation       31.0  252359 2009-07-01   \n",
              "77202     2003-01-01  Anestesiarbetsstation       31.0  312977 2005-05-16   \n",
              "77202     2003-01-01  Anestesiarbetsstation       31.0  312980 2006-12-05   \n",
              "77202     2003-01-01  Anestesiarbetsstation       31.0  264763 2010-07-09   \n",
              "\n",
              "       inventarieID  Count_wo  meantime   age  wotime_diff  \n",
              "68212       68212.0        12       298  6453          836  \n",
              "68212       68212.0        12       298  6453         1472  \n",
              "68212       68212.0        12       298  6453         3881  \n",
              "68212       68212.0        12       298  6453         1385  \n",
              "68212       68212.0        12       298  6453         1271  \n",
              "68212       68212.0        12       298  6453          402  \n",
              "68212       68212.0        12       298  6453          808  \n",
              "68212       68212.0        12       298  6453          705  \n",
              "68212       68212.0        12       298  6453          762  \n",
              "68212       68212.0        12       298  6453          412  \n",
              "68212       68212.0        12       298  6453         1385  \n",
              "68212       68212.0        12       298  6453         1278  \n",
              "68212       68212.0        12       298  6453          303  \n",
              "68212       68212.0        12       298  6453         1584  \n",
              "68213       68213.0         9       134  6453         1511  \n",
              "68213       68213.0         9       134  6453         1500  \n",
              "68213       68213.0         9       134  6453         1514  \n",
              "68213       68213.0         9       134  6453          383  \n",
              "68213       68213.0         9       134  6453          303  \n",
              "68213       68213.0         9       134  6453         1398  \n",
              "68213       68213.0         9       134  6453          762  \n",
              "68213       68213.0         9       134  6453         1516  \n",
              "68213       68213.0         9       134  6453          381  \n",
              "68213       68213.0         9       134  6453          885  \n",
              "68213       68213.0         9       134  6453          977  \n",
              "77202       77202.0         9       385  5914         3474  \n",
              "77202       77202.0         9       385  5914         2373  \n",
              "77202       77202.0         9       385  5914          866  \n",
              "77202       77202.0         9       385  5914         1434  \n",
              "77202       77202.0         9       385  5914         2746  "
            ],
            "text/html": [
              "\n",
              "  <div id=\"df-966fe103-d37f-44e0-a545-7eae3880b17e\">\n",
              "    <div class=\"colab-df-container\">\n",
              "      <div>\n",
              "<style scoped>\n",
              "    .dataframe tbody tr th:only-of-type {\n",
              "        vertical-align: middle;\n",
              "    }\n",
              "\n",
              "    .dataframe tbody tr th {\n",
              "        vertical-align: top;\n",
              "    }\n",
              "\n",
              "    .dataframe thead th {\n",
              "        text-align: right;\n",
              "    }\n",
              "</style>\n",
              "<table border=\"1\" class=\"dataframe\">\n",
              "  <thead>\n",
              "    <tr style=\"text-align: right;\">\n",
              "      <th></th>\n",
              "      <th>Equip.reg_date</th>\n",
              "      <th>dev</th>\n",
              "      <th>calc.Risk</th>\n",
              "      <th>ID_y</th>\n",
              "      <th>issued</th>\n",
              "      <th>inventarieID</th>\n",
              "      <th>Count_wo</th>\n",
              "      <th>meantime</th>\n",
              "      <th>age</th>\n",
              "      <th>wotime_diff</th>\n",
              "    </tr>\n",
              "  </thead>\n",
              "  <tbody>\n",
              "    <tr>\n",
              "      <th>68212</th>\n",
              "      <td>2000-01-01</td>\n",
              "      <td>Anestesiarbetsstation</td>\n",
              "      <td>31.0</td>\n",
              "      <td>340382</td>\n",
              "      <td>2002-04-16</td>\n",
              "      <td>68212.0</td>\n",
              "      <td>12</td>\n",
              "      <td>298</td>\n",
              "      <td>6453</td>\n",
              "      <td>836</td>\n",
              "    </tr>\n",
              "    <tr>\n",
              "      <th>68212</th>\n",
              "      <td>2000-01-01</td>\n",
              "      <td>Anestesiarbetsstation</td>\n",
              "      <td>31.0</td>\n",
              "      <td>340387</td>\n",
              "      <td>2004-01-12</td>\n",
              "      <td>68212.0</td>\n",
              "      <td>12</td>\n",
              "      <td>298</td>\n",
              "      <td>6453</td>\n",
              "      <td>1472</td>\n",
              "    </tr>\n",
              "    <tr>\n",
              "      <th>68212</th>\n",
              "      <td>2000-01-01</td>\n",
              "      <td>Anestesiarbetsstation</td>\n",
              "      <td>31.0</td>\n",
              "      <td>357998</td>\n",
              "      <td>2010-08-17</td>\n",
              "      <td>68212.0</td>\n",
              "      <td>12</td>\n",
              "      <td>298</td>\n",
              "      <td>6453</td>\n",
              "      <td>3881</td>\n",
              "    </tr>\n",
              "    <tr>\n",
              "      <th>68212</th>\n",
              "      <td>2000-01-01</td>\n",
              "      <td>Anestesiarbetsstation</td>\n",
              "      <td>31.0</td>\n",
              "      <td>340385</td>\n",
              "      <td>2003-10-17</td>\n",
              "      <td>68212.0</td>\n",
              "      <td>12</td>\n",
              "      <td>298</td>\n",
              "      <td>6453</td>\n",
              "      <td>1385</td>\n",
              "    </tr>\n",
              "    <tr>\n",
              "      <th>68212</th>\n",
              "      <td>2000-01-01</td>\n",
              "      <td>Anestesiarbetsstation</td>\n",
              "      <td>31.0</td>\n",
              "      <td>340383</td>\n",
              "      <td>2003-06-25</td>\n",
              "      <td>68212.0</td>\n",
              "      <td>12</td>\n",
              "      <td>298</td>\n",
              "      <td>6453</td>\n",
              "      <td>1271</td>\n",
              "    </tr>\n",
              "    <tr>\n",
              "      <th>68212</th>\n",
              "      <td>2000-01-01</td>\n",
              "      <td>Anestesiarbetsstation</td>\n",
              "      <td>31.0</td>\n",
              "      <td>340378</td>\n",
              "      <td>2001-02-06</td>\n",
              "      <td>68212.0</td>\n",
              "      <td>12</td>\n",
              "      <td>298</td>\n",
              "      <td>6453</td>\n",
              "      <td>402</td>\n",
              "    </tr>\n",
              "    <tr>\n",
              "      <th>68212</th>\n",
              "      <td>2000-01-01</td>\n",
              "      <td>Anestesiarbetsstation</td>\n",
              "      <td>31.0</td>\n",
              "      <td>340381</td>\n",
              "      <td>2002-03-19</td>\n",
              "      <td>68212.0</td>\n",
              "      <td>12</td>\n",
              "      <td>298</td>\n",
              "      <td>6453</td>\n",
              "      <td>808</td>\n",
              "    </tr>\n",
              "    <tr>\n",
              "      <th>68212</th>\n",
              "      <td>2000-01-01</td>\n",
              "      <td>Anestesiarbetsstation</td>\n",
              "      <td>31.0</td>\n",
              "      <td>340379</td>\n",
              "      <td>2001-12-06</td>\n",
              "      <td>68212.0</td>\n",
              "      <td>12</td>\n",
              "      <td>298</td>\n",
              "      <td>6453</td>\n",
              "      <td>705</td>\n",
              "    </tr>\n",
              "    <tr>\n",
              "      <th>68212</th>\n",
              "      <td>2000-01-01</td>\n",
              "      <td>Anestesiarbetsstation</td>\n",
              "      <td>31.0</td>\n",
              "      <td>340380</td>\n",
              "      <td>2002-02-01</td>\n",
              "      <td>68212.0</td>\n",
              "      <td>12</td>\n",
              "      <td>298</td>\n",
              "      <td>6453</td>\n",
              "      <td>762</td>\n",
              "    </tr>\n",
              "    <tr>\n",
              "      <th>68212</th>\n",
              "      <td>2000-01-01</td>\n",
              "      <td>Anestesiarbetsstation</td>\n",
              "      <td>31.0</td>\n",
              "      <td>340377</td>\n",
              "      <td>2001-02-16</td>\n",
              "      <td>68212.0</td>\n",
              "      <td>12</td>\n",
              "      <td>298</td>\n",
              "      <td>6453</td>\n",
              "      <td>412</td>\n",
              "    </tr>\n",
              "    <tr>\n",
              "      <th>68212</th>\n",
              "      <td>2000-01-01</td>\n",
              "      <td>Anestesiarbetsstation</td>\n",
              "      <td>31.0</td>\n",
              "      <td>340386</td>\n",
              "      <td>2003-10-17</td>\n",
              "      <td>68212.0</td>\n",
              "      <td>12</td>\n",
              "      <td>298</td>\n",
              "      <td>6453</td>\n",
              "      <td>1385</td>\n",
              "    </tr>\n",
              "    <tr>\n",
              "      <th>68212</th>\n",
              "      <td>2000-01-01</td>\n",
              "      <td>Anestesiarbetsstation</td>\n",
              "      <td>31.0</td>\n",
              "      <td>340384</td>\n",
              "      <td>2003-07-02</td>\n",
              "      <td>68212.0</td>\n",
              "      <td>12</td>\n",
              "      <td>298</td>\n",
              "      <td>6453</td>\n",
              "      <td>1278</td>\n",
              "    </tr>\n",
              "    <tr>\n",
              "      <th>68212</th>\n",
              "      <td>2000-01-01</td>\n",
              "      <td>Anestesiarbetsstation</td>\n",
              "      <td>31.0</td>\n",
              "      <td>340376</td>\n",
              "      <td>2000-10-30</td>\n",
              "      <td>68212.0</td>\n",
              "      <td>12</td>\n",
              "      <td>298</td>\n",
              "      <td>6453</td>\n",
              "      <td>303</td>\n",
              "    </tr>\n",
              "    <tr>\n",
              "      <th>68212</th>\n",
              "      <td>2000-01-01</td>\n",
              "      <td>Anestesiarbetsstation</td>\n",
              "      <td>31.0</td>\n",
              "      <td>340388</td>\n",
              "      <td>2004-05-03</td>\n",
              "      <td>68212.0</td>\n",
              "      <td>12</td>\n",
              "      <td>298</td>\n",
              "      <td>6453</td>\n",
              "      <td>1584</td>\n",
              "    </tr>\n",
              "    <tr>\n",
              "      <th>68213</th>\n",
              "      <td>2000-01-01</td>\n",
              "      <td>Anestesiarbetsstation</td>\n",
              "      <td>31.0</td>\n",
              "      <td>340399</td>\n",
              "      <td>2004-02-20</td>\n",
              "      <td>68213.0</td>\n",
              "      <td>9</td>\n",
              "      <td>134</td>\n",
              "      <td>6453</td>\n",
              "      <td>1511</td>\n",
              "    </tr>\n",
              "    <tr>\n",
              "      <th>68213</th>\n",
              "      <td>2000-01-01</td>\n",
              "      <td>Anestesiarbetsstation</td>\n",
              "      <td>31.0</td>\n",
              "      <td>340397</td>\n",
              "      <td>2004-02-09</td>\n",
              "      <td>68213.0</td>\n",
              "      <td>9</td>\n",
              "      <td>134</td>\n",
              "      <td>6453</td>\n",
              "      <td>1500</td>\n",
              "    </tr>\n",
              "    <tr>\n",
              "      <th>68213</th>\n",
              "      <td>2000-01-01</td>\n",
              "      <td>Anestesiarbetsstation</td>\n",
              "      <td>31.0</td>\n",
              "      <td>340398</td>\n",
              "      <td>2004-02-23</td>\n",
              "      <td>68213.0</td>\n",
              "      <td>9</td>\n",
              "      <td>134</td>\n",
              "      <td>6453</td>\n",
              "      <td>1514</td>\n",
              "    </tr>\n",
              "    <tr>\n",
              "      <th>68213</th>\n",
              "      <td>2000-01-01</td>\n",
              "      <td>Anestesiarbetsstation</td>\n",
              "      <td>31.0</td>\n",
              "      <td>340391</td>\n",
              "      <td>2001-01-18</td>\n",
              "      <td>68213.0</td>\n",
              "      <td>9</td>\n",
              "      <td>134</td>\n",
              "      <td>6453</td>\n",
              "      <td>383</td>\n",
              "    </tr>\n",
              "    <tr>\n",
              "      <th>68213</th>\n",
              "      <td>2000-01-01</td>\n",
              "      <td>Anestesiarbetsstation</td>\n",
              "      <td>31.0</td>\n",
              "      <td>340389</td>\n",
              "      <td>2000-10-30</td>\n",
              "      <td>68213.0</td>\n",
              "      <td>9</td>\n",
              "      <td>134</td>\n",
              "      <td>6453</td>\n",
              "      <td>303</td>\n",
              "    </tr>\n",
              "    <tr>\n",
              "      <th>68213</th>\n",
              "      <td>2000-01-01</td>\n",
              "      <td>Anestesiarbetsstation</td>\n",
              "      <td>31.0</td>\n",
              "      <td>340396</td>\n",
              "      <td>2003-10-30</td>\n",
              "      <td>68213.0</td>\n",
              "      <td>9</td>\n",
              "      <td>134</td>\n",
              "      <td>6453</td>\n",
              "      <td>1398</td>\n",
              "    </tr>\n",
              "    <tr>\n",
              "      <th>68213</th>\n",
              "      <td>2000-01-01</td>\n",
              "      <td>Anestesiarbetsstation</td>\n",
              "      <td>31.0</td>\n",
              "      <td>340392</td>\n",
              "      <td>2002-02-01</td>\n",
              "      <td>68213.0</td>\n",
              "      <td>9</td>\n",
              "      <td>134</td>\n",
              "      <td>6453</td>\n",
              "      <td>762</td>\n",
              "    </tr>\n",
              "    <tr>\n",
              "      <th>68213</th>\n",
              "      <td>2000-01-01</td>\n",
              "      <td>Anestesiarbetsstation</td>\n",
              "      <td>31.0</td>\n",
              "      <td>340395</td>\n",
              "      <td>2004-02-25</td>\n",
              "      <td>68213.0</td>\n",
              "      <td>9</td>\n",
              "      <td>134</td>\n",
              "      <td>6453</td>\n",
              "      <td>1516</td>\n",
              "    </tr>\n",
              "    <tr>\n",
              "      <th>68213</th>\n",
              "      <td>2000-01-01</td>\n",
              "      <td>Anestesiarbetsstation</td>\n",
              "      <td>31.0</td>\n",
              "      <td>340390</td>\n",
              "      <td>2001-01-16</td>\n",
              "      <td>68213.0</td>\n",
              "      <td>9</td>\n",
              "      <td>134</td>\n",
              "      <td>6453</td>\n",
              "      <td>381</td>\n",
              "    </tr>\n",
              "    <tr>\n",
              "      <th>68213</th>\n",
              "      <td>2000-01-01</td>\n",
              "      <td>Anestesiarbetsstation</td>\n",
              "      <td>31.0</td>\n",
              "      <td>340394</td>\n",
              "      <td>2002-06-04</td>\n",
              "      <td>68213.0</td>\n",
              "      <td>9</td>\n",
              "      <td>134</td>\n",
              "      <td>6453</td>\n",
              "      <td>885</td>\n",
              "    </tr>\n",
              "    <tr>\n",
              "      <th>68213</th>\n",
              "      <td>2000-01-01</td>\n",
              "      <td>Anestesiarbetsstation</td>\n",
              "      <td>31.0</td>\n",
              "      <td>340393</td>\n",
              "      <td>2002-09-04</td>\n",
              "      <td>68213.0</td>\n",
              "      <td>9</td>\n",
              "      <td>134</td>\n",
              "      <td>6453</td>\n",
              "      <td>977</td>\n",
              "    </tr>\n",
              "    <tr>\n",
              "      <th>77202</th>\n",
              "      <td>2003-01-01</td>\n",
              "      <td>Anestesiarbetsstation</td>\n",
              "      <td>31.0</td>\n",
              "      <td>401032</td>\n",
              "      <td>2012-07-06</td>\n",
              "      <td>77202.0</td>\n",
              "      <td>9</td>\n",
              "      <td>385</td>\n",
              "      <td>5914</td>\n",
              "      <td>3474</td>\n",
              "    </tr>\n",
              "    <tr>\n",
              "      <th>77202</th>\n",
              "      <td>2003-01-01</td>\n",
              "      <td>Anestesiarbetsstation</td>\n",
              "      <td>31.0</td>\n",
              "      <td>252359</td>\n",
              "      <td>2009-07-01</td>\n",
              "      <td>77202.0</td>\n",
              "      <td>9</td>\n",
              "      <td>385</td>\n",
              "      <td>5914</td>\n",
              "      <td>2373</td>\n",
              "    </tr>\n",
              "    <tr>\n",
              "      <th>77202</th>\n",
              "      <td>2003-01-01</td>\n",
              "      <td>Anestesiarbetsstation</td>\n",
              "      <td>31.0</td>\n",
              "      <td>312977</td>\n",
              "      <td>2005-05-16</td>\n",
              "      <td>77202.0</td>\n",
              "      <td>9</td>\n",
              "      <td>385</td>\n",
              "      <td>5914</td>\n",
              "      <td>866</td>\n",
              "    </tr>\n",
              "    <tr>\n",
              "      <th>77202</th>\n",
              "      <td>2003-01-01</td>\n",
              "      <td>Anestesiarbetsstation</td>\n",
              "      <td>31.0</td>\n",
              "      <td>312980</td>\n",
              "      <td>2006-12-05</td>\n",
              "      <td>77202.0</td>\n",
              "      <td>9</td>\n",
              "      <td>385</td>\n",
              "      <td>5914</td>\n",
              "      <td>1434</td>\n",
              "    </tr>\n",
              "    <tr>\n",
              "      <th>77202</th>\n",
              "      <td>2003-01-01</td>\n",
              "      <td>Anestesiarbetsstation</td>\n",
              "      <td>31.0</td>\n",
              "      <td>264763</td>\n",
              "      <td>2010-07-09</td>\n",
              "      <td>77202.0</td>\n",
              "      <td>9</td>\n",
              "      <td>385</td>\n",
              "      <td>5914</td>\n",
              "      <td>2746</td>\n",
              "    </tr>\n",
              "  </tbody>\n",
              "</table>\n",
              "</div>\n",
              "      <button class=\"colab-df-convert\" onclick=\"convertToInteractive('df-966fe103-d37f-44e0-a545-7eae3880b17e')\"\n",
              "              title=\"Convert this dataframe to an interactive table.\"\n",
              "              style=\"display:none;\">\n",
              "        \n",
              "  <svg xmlns=\"http://www.w3.org/2000/svg\" height=\"24px\"viewBox=\"0 0 24 24\"\n",
              "       width=\"24px\">\n",
              "    <path d=\"M0 0h24v24H0V0z\" fill=\"none\"/>\n",
              "    <path d=\"M18.56 5.44l.94 2.06.94-2.06 2.06-.94-2.06-.94-.94-2.06-.94 2.06-2.06.94zm-11 1L8.5 8.5l.94-2.06 2.06-.94-2.06-.94L8.5 2.5l-.94 2.06-2.06.94zm10 10l.94 2.06.94-2.06 2.06-.94-2.06-.94-.94-2.06-.94 2.06-2.06.94z\"/><path d=\"M17.41 7.96l-1.37-1.37c-.4-.4-.92-.59-1.43-.59-.52 0-1.04.2-1.43.59L10.3 9.45l-7.72 7.72c-.78.78-.78 2.05 0 2.83L4 21.41c.39.39.9.59 1.41.59.51 0 1.02-.2 1.41-.59l7.78-7.78 2.81-2.81c.8-.78.8-2.07 0-2.86zM5.41 20L4 18.59l7.72-7.72 1.47 1.35L5.41 20z\"/>\n",
              "  </svg>\n",
              "      </button>\n",
              "      \n",
              "  <style>\n",
              "    .colab-df-container {\n",
              "      display:flex;\n",
              "      flex-wrap:wrap;\n",
              "      gap: 12px;\n",
              "    }\n",
              "\n",
              "    .colab-df-convert {\n",
              "      background-color: #E8F0FE;\n",
              "      border: none;\n",
              "      border-radius: 50%;\n",
              "      cursor: pointer;\n",
              "      display: none;\n",
              "      fill: #1967D2;\n",
              "      height: 32px;\n",
              "      padding: 0 0 0 0;\n",
              "      width: 32px;\n",
              "    }\n",
              "\n",
              "    .colab-df-convert:hover {\n",
              "      background-color: #E2EBFA;\n",
              "      box-shadow: 0px 1px 2px rgba(60, 64, 67, 0.3), 0px 1px 3px 1px rgba(60, 64, 67, 0.15);\n",
              "      fill: #174EA6;\n",
              "    }\n",
              "\n",
              "    [theme=dark] .colab-df-convert {\n",
              "      background-color: #3B4455;\n",
              "      fill: #D2E3FC;\n",
              "    }\n",
              "\n",
              "    [theme=dark] .colab-df-convert:hover {\n",
              "      background-color: #434B5C;\n",
              "      box-shadow: 0px 1px 3px 1px rgba(0, 0, 0, 0.15);\n",
              "      filter: drop-shadow(0px 1px 2px rgba(0, 0, 0, 0.3));\n",
              "      fill: #FFFFFF;\n",
              "    }\n",
              "  </style>\n",
              "\n",
              "      <script>\n",
              "        const buttonEl =\n",
              "          document.querySelector('#df-966fe103-d37f-44e0-a545-7eae3880b17e button.colab-df-convert');\n",
              "        buttonEl.style.display =\n",
              "          google.colab.kernel.accessAllowed ? 'block' : 'none';\n",
              "\n",
              "        async function convertToInteractive(key) {\n",
              "          const element = document.querySelector('#df-966fe103-d37f-44e0-a545-7eae3880b17e');\n",
              "          const dataTable =\n",
              "            await google.colab.kernel.invokeFunction('convertToInteractive',\n",
              "                                                     [key], {});\n",
              "          if (!dataTable) return;\n",
              "\n",
              "          const docLinkHtml = 'Like what you see? Visit the ' +\n",
              "            '<a target=\"_blank\" href=https://colab.research.google.com/notebooks/data_table.ipynb>data table notebook</a>'\n",
              "            + ' to learn more about interactive tables.';\n",
              "          element.innerHTML = '';\n",
              "          dataTable['output_type'] = 'display_data';\n",
              "          await google.colab.output.renderOutput(dataTable, element);\n",
              "          const docLink = document.createElement('div');\n",
              "          docLink.innerHTML = docLinkHtml;\n",
              "          element.appendChild(docLink);\n",
              "        }\n",
              "      </script>\n",
              "    </div>\n",
              "  </div>\n",
              "  "
            ]
          },
          "metadata": {},
          "execution_count": 139
        }
      ],
      "source": [
        "data_aneshos1woeq.head(30)"
      ]
    },
    {
      "cell_type": "markdown",
      "metadata": {
        "id": "9adGWBCJarvT"
      },
      "source": [
        "it is not practical for the model to predict certain date and day , it more commonly practices that there is a time window for the decision to be taken ."
      ]
    },
    {
      "cell_type": "code",
      "source": [
        "data_aneshos1woeq.plot(x='age',y='wotime_diff',kind='scatter')"
      ],
      "metadata": {
        "id": "nCV7qQO7L6nz",
        "colab": {
          "base_uri": "https://localhost:8080/",
          "height": 0
        },
        "outputId": "dc33416b-250e-47a2-858c-455bbdda09ac"
      },
      "execution_count": 140,
      "outputs": [
        {
          "output_type": "stream",
          "name": "stderr",
          "text": [
            "WARNING:matplotlib.axes._axes:*c* argument looks like a single numeric RGB or RGBA sequence, which should be avoided as value-mapping will have precedence in case its length matches with *x* & *y*.  Please use the *color* keyword-argument or provide a 2-D array with a single row if you intend to specify the same RGB or RGBA value for all points.\n"
          ]
        },
        {
          "output_type": "execute_result",
          "data": {
            "text/plain": [
              "<matplotlib.axes._subplots.AxesSubplot at 0x7f3c5acd08e0>"
            ]
          },
          "metadata": {},
          "execution_count": 140
        },
        {
          "output_type": "display_data",
          "data": {
            "text/plain": [
              "<Figure size 432x288 with 1 Axes>"
            ],
            "image/png": "[encoded data removed]"
          },
          "metadata": {}
        }
      ]
    },
    {
      "cell_type": "code",
      "source": [
        "data_aneshos1woeq.plot(x='Count_wo',y='wotime_diff',kind='scatter')"
      ],
      "metadata": {
        "id": "xKhojRnkMghr",
        "colab": {
          "base_uri": "https://localhost:8080/",
          "height": 0
        },
        "outputId": "95a6d966-577d-45ae-b0a2-7f4c1ddff790"
      },
      "execution_count": 141,
      "outputs": [
        {
          "output_type": "stream",
          "name": "stderr",
          "text": [
            "WARNING:matplotlib.axes._axes:*c* argument looks like a single numeric RGB or RGBA sequence, which should be avoided as value-mapping will have precedence in case its length matches with *x* & *y*.  Please use the *color* keyword-argument or provide a 2-D array with a single row if you intend to specify the same RGB or RGBA value for all points.\n"
          ]
        },
        {
          "output_type": "execute_result",
          "data": {
            "text/plain": [
              "<matplotlib.axes._subplots.AxesSubplot at 0x7f3c6f43c790>"
            ]
          },
          "metadata": {},
          "execution_count": 141
        },
        {
          "output_type": "display_data",
          "data": {
            "text/plain": [
              "<Figure size 432x288 with 1 Axes>"
            ],
            "image/png": "[encoded data removed]"
          },
          "metadata": {}
        }
      ]
    },
    {
      "cell_type": "code",
      "execution_count": 142,
      "metadata": {
        "id": "cJJD0IO6XHpq",
        "colab": {
          "base_uri": "https://localhost:8080/",
          "height": 0
        },
        "outputId": "0cc36232-226d-4fe3-92c2-5e570136b193"
      },
      "outputs": [
        {
          "output_type": "execute_result",
          "data": {
            "text/plain": [
              "         calc.Risk          ID_y   inventarieID     Count_wo     meantime  \\\n",
              "count  6915.000000  6.915000e+03    6915.000000  6915.000000  6915.000000   \n",
              "mean     30.575127  6.589781e+05  159796.021403    18.919595   282.545047   \n",
              "std       0.566866  2.801951e+05   66727.606017    16.801394   303.558948   \n",
              "min      26.000000  2.427710e+05   65639.000000     1.000000     0.000000   \n",
              "25%      30.000000  3.318115e+05   85327.000000     4.000000    93.000000   \n",
              "50%      31.000000  7.146740e+05  203594.000000    14.000000   191.000000   \n",
              "75%      31.000000  8.514420e+05  219390.000000    31.000000   371.000000   \n",
              "max      31.000000  1.421170e+06  283749.000000    62.000000  2535.000000   \n",
              "\n",
              "                age   wotime_diff  \n",
              "count   6915.000000   6915.000000  \n",
              "mean    5822.736949   2881.210701  \n",
              "std     3929.198786   5140.988341  \n",
              "min      184.000000 -37620.000000  \n",
              "25%     4092.000000   1079.500000  \n",
              "50%     4649.000000   2363.000000  \n",
              "75%     5914.000000   3885.500000  \n",
              "max    43492.000000  43492.000000  "
            ],
            "text/html": [
              "\n",
              "  <div id=\"df-68670f83-09e5-46d4-9c0d-8f9fd044621e\">\n",
              "    <div class=\"colab-df-container\">\n",
              "      <div>\n",
              "<style scoped>\n",
              "    .dataframe tbody tr th:only-of-type {\n",
              "        vertical-align: middle;\n",
              "    }\n",
              "\n",
              "    .dataframe tbody tr th {\n",
              "        vertical-align: top;\n",
              "    }\n",
              "\n",
              "    .dataframe thead th {\n",
              "        text-align: right;\n",
              "    }\n",
              "</style>\n",
              "<table border=\"1\" class=\"dataframe\">\n",
              "  <thead>\n",
              "    <tr style=\"text-align: right;\">\n",
              "      <th></th>\n",
              "      <th>calc.Risk</th>\n",
              "      <th>ID_y</th>\n",
              "      <th>inventarieID</th>\n",
              "      <th>Count_wo</th>\n",
              "      <th>meantime</th>\n",
              "      <th>age</th>\n",
              "      <th>wotime_diff</th>\n",
              "    </tr>\n",
              "  </thead>\n",
              "  <tbody>\n",
              "    <tr>\n",
              "      <th>count</th>\n",
              "      <td>6915.000000</td>\n",
              "      <td>6.915000e+03</td>\n",
              "      <td>6915.000000</td>\n",
              "      <td>6915.000000</td>\n",
              "      <td>6915.000000</td>\n",
              "      <td>6915.000000</td>\n",
              "      <td>6915.000000</td>\n",
              "    </tr>\n",
              "    <tr>\n",
              "      <th>mean</th>\n",
              "      <td>30.575127</td>\n",
              "      <td>6.589781e+05</td>\n",
              "      <td>159796.021403</td>\n",
              "      <td>18.919595</td>\n",
              "      <td>282.545047</td>\n",
              "      <td>5822.736949</td>\n",
              "      <td>2881.210701</td>\n",
              "    </tr>\n",
              "    <tr>\n",
              "      <th>std</th>\n",
              "      <td>0.566866</td>\n",
              "      <td>2.801951e+05</td>\n",
              "      <td>66727.606017</td>\n",
              "      <td>16.801394</td>\n",
              "      <td>303.558948</td>\n",
              "      <td>3929.198786</td>\n",
              "      <td>5140.988341</td>\n",
              "    </tr>\n",
              "    <tr>\n",
              "      <th>min</th>\n",
              "      <td>26.000000</td>\n",
              "      <td>2.427710e+05</td>\n",
              "      <td>65639.000000</td>\n",
              "      <td>1.000000</td>\n",
              "      <td>0.000000</td>\n",
              "      <td>184.000000</td>\n",
              "      <td>-37620.000000</td>\n",
              "    </tr>\n",
              "    <tr>\n",
              "      <th>25%</th>\n",
              "      <td>30.000000</td>\n",
              "      <td>3.318115e+05</td>\n",
              "      <td>85327.000000</td>\n",
              "      <td>4.000000</td>\n",
              "      <td>93.000000</td>\n",
              "      <td>4092.000000</td>\n",
              "      <td>1079.500000</td>\n",
              "    </tr>\n",
              "    <tr>\n",
              "      <th>50%</th>\n",
              "      <td>31.000000</td>\n",
              "      <td>7.146740e+05</td>\n",
              "      <td>203594.000000</td>\n",
              "      <td>14.000000</td>\n",
              "      <td>191.000000</td>\n",
              "      <td>4649.000000</td>\n",
              "      <td>2363.000000</td>\n",
              "    </tr>\n",
              "    <tr>\n",
              "      <th>75%</th>\n",
              "      <td>31.000000</td>\n",
              "      <td>8.514420e+05</td>\n",
              "      <td>219390.000000</td>\n",
              "      <td>31.000000</td>\n",
              "      <td>371.000000</td>\n",
              "      <td>5914.000000</td>\n",
              "      <td>3885.500000</td>\n",
              "    </tr>\n",
              "    <tr>\n",
              "      <th>max</th>\n",
              "      <td>31.000000</td>\n",
              "      <td>1.421170e+06</td>\n",
              "      <td>283749.000000</td>\n",
              "      <td>62.000000</td>\n",
              "      <td>2535.000000</td>\n",
              "      <td>43492.000000</td>\n",
              "      <td>43492.000000</td>\n",
              "    </tr>\n",
              "  </tbody>\n",
              "</table>\n",
              "</div>\n",
              "      <button class=\"colab-df-convert\" onclick=\"convertToInteractive('df-68670f83-09e5-46d4-9c0d-8f9fd044621e')\"\n",
              "              title=\"Convert this dataframe to an interactive table.\"\n",
              "              style=\"display:none;\">\n",
              "        \n",
              "  <svg xmlns=\"http://www.w3.org/2000/svg\" height=\"24px\"viewBox=\"0 0 24 24\"\n",
              "       width=\"24px\">\n",
              "    <path d=\"M0 0h24v24H0V0z\" fill=\"none\"/>\n",
              "    <path d=\"M18.56 5.44l.94 2.06.94-2.06 2.06-.94-2.06-.94-.94-2.06-.94 2.06-2.06.94zm-11 1L8.5 8.5l.94-2.06 2.06-.94-2.06-.94L8.5 2.5l-.94 2.06-2.06.94zm10 10l.94 2.06.94-2.06 2.06-.94-2.06-.94-.94-2.06-.94 2.06-2.06.94z\"/><path d=\"M17.41 7.96l-1.37-1.37c-.4-.4-.92-.59-1.43-.59-.52 0-1.04.2-1.43.59L10.3 9.45l-7.72 7.72c-.78.78-.78 2.05 0 2.83L4 21.41c.39.39.9.59 1.41.59.51 0 1.02-.2 1.41-.59l7.78-7.78 2.81-2.81c.8-.78.8-2.07 0-2.86zM5.41 20L4 18.59l7.72-7.72 1.47 1.35L5.41 20z\"/>\n",
              "  </svg>\n",
              "      </button>\n",
              "      \n",
              "  <style>\n",
              "    .colab-df-container {\n",
              "      display:flex;\n",
              "      flex-wrap:wrap;\n",
              "      gap: 12px;\n",
              "    }\n",
              "\n",
              "    .colab-df-convert {\n",
              "      background-color: #E8F0FE;\n",
              "      border: none;\n",
              "      border-radius: 50%;\n",
              "      cursor: pointer;\n",
              "      display: none;\n",
              "      fill: #1967D2;\n",
              "      height: 32px;\n",
              "      padding: 0 0 0 0;\n",
              "      width: 32px;\n",
              "    }\n",
              "\n",
              "    .colab-df-convert:hover {\n",
              "      background-color: #E2EBFA;\n",
              "      box-shadow: 0px 1px 2px rgba(60, 64, 67, 0.3), 0px 1px 3px 1px rgba(60, 64, 67, 0.15);\n",
              "      fill: #174EA6;\n",
              "    }\n",
              "\n",
              "    [theme=dark] .colab-df-convert {\n",
              "      background-color: #3B4455;\n",
              "      fill: #D2E3FC;\n",
              "    }\n",
              "\n",
              "    [theme=dark] .colab-df-convert:hover {\n",
              "      background-color: #434B5C;\n",
              "      box-shadow: 0px 1px 3px 1px rgba(0, 0, 0, 0.15);\n",
              "      filter: drop-shadow(0px 1px 2px rgba(0, 0, 0, 0.3));\n",
              "      fill: #FFFFFF;\n",
              "    }\n",
              "  </style>\n",
              "\n",
              "      <script>\n",
              "        const buttonEl =\n",
              "          document.querySelector('#df-68670f83-09e5-46d4-9c0d-8f9fd044621e button.colab-df-convert');\n",
              "        buttonEl.style.display =\n",
              "          google.colab.kernel.accessAllowed ? 'block' : 'none';\n",
              "\n",
              "        async function convertToInteractive(key) {\n",
              "          const element = document.querySelector('#df-68670f83-09e5-46d4-9c0d-8f9fd044621e');\n",
              "          const dataTable =\n",
              "            await google.colab.kernel.invokeFunction('convertToInteractive',\n",
              "                                                     [key], {});\n",
              "          if (!dataTable) return;\n",
              "\n",
              "          const docLinkHtml = 'Like what you see? Visit the ' +\n",
              "            '<a target=\"_blank\" href=https://colab.research.google.com/notebooks/data_table.ipynb>data table notebook</a>'\n",
              "            + ' to learn more about interactive tables.';\n",
              "          element.innerHTML = '';\n",
              "          dataTable['output_type'] = 'display_data';\n",
              "          await google.colab.output.renderOutput(dataTable, element);\n",
              "          const docLink = document.createElement('div');\n",
              "          docLink.innerHTML = docLinkHtml;\n",
              "          element.appendChild(docLink);\n",
              "        }\n",
              "      </script>\n",
              "    </div>\n",
              "  </div>\n",
              "  "
            ]
          },
          "metadata": {},
          "execution_count": 142
        }
      ],
      "source": [
        "data_aneshos1woeq.describe()"
      ]
    },
    {
      "cell_type": "code",
      "execution_count": 143,
      "metadata": {
        "id": "myULHFA6W9Qr",
        "colab": {
          "base_uri": "https://localhost:8080/",
          "height": 0
        },
        "outputId": "073d8420-dbb5-46d7-b518-b485ce84b8a1"
      },
      "outputs": [
        {
          "output_type": "execute_result",
          "data": {
            "text/plain": [
              "<seaborn.axisgrid.PairGrid at 0x7f3c5b15cfd0>"
            ]
          },
          "metadata": {},
          "execution_count": 143
        },
        {
          "output_type": "display_data",
          "data": {
            "text/plain": [
              "<Figure size 1260x1260 with 56 Axes>"
            ],
            "image/png": "[encoded data removed]"
          },
          "metadata": {}
        }
      ],
      "source": [
        "sns.pairplot(data_aneshos1woeq.corr())"
      ]
    },
    {
      "cell_type": "code",
      "execution_count": 144,
      "metadata": {
        "id": "kLUeiIRrVy43"
      },
      "outputs": [],
      "source": [
        "Y_reghos1=data_aneshos1woeq['wotime_diff']\n",
        "X_reghos1=data_aneshos1woeq.drop(['dev','ID_y','issued','Equip.reg_date','wotime_diff','inventarieID'],axis=1)\n"
      ]
    },
    {
      "cell_type": "markdown",
      "source": [],
      "metadata": {
        "id": "E12Izcl7uYr3"
      }
    },
    {
      "cell_type": "code",
      "execution_count": 145,
      "metadata": {
        "id": "fCEcY4bfEW11",
        "colab": {
          "base_uri": "https://localhost:8080/"
        },
        "outputId": "8932f9ad-3f3d-4477-ddc7-db2b742754fd"
      },
      "outputs": [
        {
          "output_type": "execute_result",
          "data": {
            "text/plain": [
              "68212     836\n",
              "68212    1472\n",
              "68212    3881\n",
              "Name: wotime_diff, dtype: int64"
            ]
          },
          "metadata": {},
          "execution_count": 145
        }
      ],
      "source": [
        "Y_reghos1.head(3)"
      ]
    },
    {
      "cell_type": "code",
      "execution_count": 146,
      "metadata": {
        "id": "r0XjsGhuEwS4"
      },
      "outputs": [],
      "source": [
        "X_train_aneshos1, X_test_aneshos1, y_train_aneshos1, y_test_aneshos1 = train_test_split(\n",
        "    X_reghos1, Y_reghos1, test_size=0.3, random_state=101)"
      ]
    },
    {
      "cell_type": "code",
      "execution_count": 147,
      "metadata": {
        "id": "Y1yol12AFYDn",
        "colab": {
          "base_uri": "https://localhost:8080/"
        },
        "outputId": "3669906b-8235-4d53-ac7d-be752c5fb7c5"
      },
      "outputs": [
        {
          "output_type": "execute_result",
          "data": {
            "text/plain": [
              "224950    6128\n",
              "81838      771\n",
              "93489     4062\n",
              "Name: wotime_diff, dtype: int64"
            ]
          },
          "metadata": {},
          "execution_count": 147
        }
      ],
      "source": [
        "y_test_aneshos1.head(3)"
      ]
    },
    {
      "cell_type": "code",
      "execution_count": 148,
      "metadata": {
        "id": "nKdbpKNhF2T7"
      },
      "outputs": [],
      "source": [
        "# creating a regression model\n",
        "model_anes = LinearRegression()\n"
      ]
    },
    {
      "cell_type": "code",
      "execution_count": 149,
      "metadata": {
        "id": "MrzJbNmRGA4r",
        "colab": {
          "base_uri": "https://localhost:8080/"
        },
        "outputId": "a72acaec-5e8c-44b0-c2c2-733ae97f4c6d"
      },
      "outputs": [
        {
          "output_type": "execute_result",
          "data": {
            "text/plain": [
              "LinearRegression()"
            ]
          },
          "metadata": {},
          "execution_count": 149
        }
      ],
      "source": [
        "model_anes.fit(X_train_aneshos1,y_train_aneshos1)"
      ]
    },
    {
      "cell_type": "code",
      "execution_count": 150,
      "metadata": {
        "id": "154E-fqhGVZ7"
      },
      "outputs": [],
      "source": [
        "predictions_anes= model_anes.predict(X_test_aneshos1)\n"
      ]
    },
    {
      "cell_type": "code",
      "execution_count": 151,
      "metadata": {
        "id": "0Dqgpmd3HDmb",
        "colab": {
          "base_uri": "https://localhost:8080/"
        },
        "outputId": "6d340b12-2642-4149-edaf-2376dd91f4a1"
      },
      "outputs": [
        {
          "output_type": "execute_result",
          "data": {
            "text/plain": [
              "array([4703.24686136, 1472.45080206, 1304.04745048, ..., 3560.04275472,\n",
              "       8146.62160612,   31.39283313])"
            ]
          },
          "metadata": {},
          "execution_count": 151
        }
      ],
      "source": [
        " predictions_anes"
      ]
    },
    {
      "cell_type": "code",
      "source": [
        "predictions_anes.shape"
      ],
      "metadata": {
        "id": "I1GzWnluFGp4",
        "colab": {
          "base_uri": "https://localhost:8080/"
        },
        "outputId": "2409bbc9-be89-4e9f-fe6c-6f836a764dd6"
      },
      "execution_count": 152,
      "outputs": [
        {
          "output_type": "execute_result",
          "data": {
            "text/plain": [
              "(2075,)"
            ]
          },
          "metadata": {},
          "execution_count": 152
        }
      ]
    },
    {
      "cell_type": "code",
      "source": [
        "predictions_anes_df=pd.DataFrame(predictions_anes)"
      ],
      "metadata": {
        "id": "YaKyQ9rItbj8"
      },
      "execution_count": 153,
      "outputs": []
    },
    {
      "cell_type": "code",
      "source": [
        "age_col=pd.DataFrame(X_reghos1['age'])\n",
        "age_col=age_col.reset_index()"
      ],
      "metadata": {
        "id": "GRvL2GqPfmXQ"
      },
      "execution_count": 154,
      "outputs": []
    },
    {
      "cell_type": "code",
      "source": [
        "age_col.head(3)"
      ],
      "metadata": {
        "id": "iWrFVQgigCuW",
        "colab": {
          "base_uri": "https://localhost:8080/",
          "height": 0
        },
        "outputId": "b1917fd3-f581-41de-8151-b0724aaf0074"
      },
      "execution_count": 155,
      "outputs": [
        {
          "output_type": "execute_result",
          "data": {
            "text/plain": [
              "   index   age\n",
              "0  68212  6453\n",
              "1  68212  6453\n",
              "2  68212  6453"
            ],
            "text/html": [
              "\n",
              "  <div id=\"df-1ff77c3d-d2b3-4d8e-a033-2715746f515b\">\n",
              "    <div class=\"colab-df-container\">\n",
              "      <div>\n",
              "<style scoped>\n",
              "    .dataframe tbody tr th:only-of-type {\n",
              "        vertical-align: middle;\n",
              "    }\n",
              "\n",
              "    .dataframe tbody tr th {\n",
              "        vertical-align: top;\n",
              "    }\n",
              "\n",
              "    .dataframe thead th {\n",
              "        text-align: right;\n",
              "    }\n",
              "</style>\n",
              "<table border=\"1\" class=\"dataframe\">\n",
              "  <thead>\n",
              "    <tr style=\"text-align: right;\">\n",
              "      <th></th>\n",
              "      <th>index</th>\n",
              "      <th>age</th>\n",
              "    </tr>\n",
              "  </thead>\n",
              "  <tbody>\n",
              "    <tr>\n",
              "      <th>0</th>\n",
              "      <td>68212</td>\n",
              "      <td>6453</td>\n",
              "    </tr>\n",
              "    <tr>\n",
              "      <th>1</th>\n",
              "      <td>68212</td>\n",
              "      <td>6453</td>\n",
              "    </tr>\n",
              "    <tr>\n",
              "      <th>2</th>\n",
              "      <td>68212</td>\n",
              "      <td>6453</td>\n",
              "    </tr>\n",
              "  </tbody>\n",
              "</table>\n",
              "</div>\n",
              "      <button class=\"colab-df-convert\" onclick=\"convertToInteractive('df-1ff77c3d-d2b3-4d8e-a033-2715746f515b')\"\n",
              "              title=\"Convert this dataframe to an interactive table.\"\n",
              "              style=\"display:none;\">\n",
              "        \n",
              "  <svg xmlns=\"http://www.w3.org/2000/svg\" height=\"24px\"viewBox=\"0 0 24 24\"\n",
              "       width=\"24px\">\n",
              "    <path d=\"M0 0h24v24H0V0z\" fill=\"none\"/>\n",
              "    <path d=\"M18.56 5.44l.94 2.06.94-2.06 2.06-.94-2.06-.94-.94-2.06-.94 2.06-2.06.94zm-11 1L8.5 8.5l.94-2.06 2.06-.94-2.06-.94L8.5 2.5l-.94 2.06-2.06.94zm10 10l.94 2.06.94-2.06 2.06-.94-2.06-.94-.94-2.06-.94 2.06-2.06.94z\"/><path d=\"M17.41 7.96l-1.37-1.37c-.4-.4-.92-.59-1.43-.59-.52 0-1.04.2-1.43.59L10.3 9.45l-7.72 7.72c-.78.78-.78 2.05 0 2.83L4 21.41c.39.39.9.59 1.41.59.51 0 1.02-.2 1.41-.59l7.78-7.78 2.81-2.81c.8-.78.8-2.07 0-2.86zM5.41 20L4 18.59l7.72-7.72 1.47 1.35L5.41 20z\"/>\n",
              "  </svg>\n",
              "      </button>\n",
              "      \n",
              "  <style>\n",
              "    .colab-df-container {\n",
              "      display:flex;\n",
              "      flex-wrap:wrap;\n",
              "      gap: 12px;\n",
              "    }\n",
              "\n",
              "    .colab-df-convert {\n",
              "      background-color: #E8F0FE;\n",
              "      border: none;\n",
              "      border-radius: 50%;\n",
              "      cursor: pointer;\n",
              "      display: none;\n",
              "      fill: #1967D2;\n",
              "      height: 32px;\n",
              "      padding: 0 0 0 0;\n",
              "      width: 32px;\n",
              "    }\n",
              "\n",
              "    .colab-df-convert:hover {\n",
              "      background-color: #E2EBFA;\n",
              "      box-shadow: 0px 1px 2px rgba(60, 64, 67, 0.3), 0px 1px 3px 1px rgba(60, 64, 67, 0.15);\n",
              "      fill: #174EA6;\n",
              "    }\n",
              "\n",
              "    [theme=dark] .colab-df-convert {\n",
              "      background-color: #3B4455;\n",
              "      fill: #D2E3FC;\n",
              "    }\n",
              "\n",
              "    [theme=dark] .colab-df-convert:hover {\n",
              "      background-color: #434B5C;\n",
              "      box-shadow: 0px 1px 3px 1px rgba(0, 0, 0, 0.15);\n",
              "      filter: drop-shadow(0px 1px 2px rgba(0, 0, 0, 0.3));\n",
              "      fill: #FFFFFF;\n",
              "    }\n",
              "  </style>\n",
              "\n",
              "      <script>\n",
              "        const buttonEl =\n",
              "          document.querySelector('#df-1ff77c3d-d2b3-4d8e-a033-2715746f515b button.colab-df-convert');\n",
              "        buttonEl.style.display =\n",
              "          google.colab.kernel.accessAllowed ? 'block' : 'none';\n",
              "\n",
              "        async function convertToInteractive(key) {\n",
              "          const element = document.querySelector('#df-1ff77c3d-d2b3-4d8e-a033-2715746f515b');\n",
              "          const dataTable =\n",
              "            await google.colab.kernel.invokeFunction('convertToInteractive',\n",
              "                                                     [key], {});\n",
              "          if (!dataTable) return;\n",
              "\n",
              "          const docLinkHtml = 'Like what you see? Visit the ' +\n",
              "            '<a target=\"_blank\" href=https://colab.research.google.com/notebooks/data_table.ipynb>data table notebook</a>'\n",
              "            + ' to learn more about interactive tables.';\n",
              "          element.innerHTML = '';\n",
              "          dataTable['output_type'] = 'display_data';\n",
              "          await google.colab.output.renderOutput(dataTable, element);\n",
              "          const docLink = document.createElement('div');\n",
              "          docLink.innerHTML = docLinkHtml;\n",
              "          element.appendChild(docLink);\n",
              "        }\n",
              "      </script>\n",
              "    </div>\n",
              "  </div>\n",
              "  "
            ]
          },
          "metadata": {},
          "execution_count": 155
        }
      ]
    },
    {
      "cell_type": "code",
      "source": [
        "pred_fin=pd.concat([predictions_anes_df,age_col],axis=1)"
      ],
      "metadata": {
        "id": "MioG-eywgQl_"
      },
      "execution_count": 156,
      "outputs": []
    },
    {
      "cell_type": "code",
      "source": [
        "pred_fin.drop(columns=['index'],axis=1)"
      ],
      "metadata": {
        "id": "AtVsCcuDjEWw",
        "colab": {
          "base_uri": "https://localhost:8080/",
          "height": 0
        },
        "outputId": "3390984a-7f3a-46fc-8afb-bfec39230de2"
      },
      "execution_count": 157,
      "outputs": [
        {
          "output_type": "execute_result",
          "data": {
            "text/plain": [
              "                0    age\n",
              "0     4703.246861   6453\n",
              "1     1472.450802   6453\n",
              "2     1304.047450   6453\n",
              "3     1005.412485   6453\n",
              "4     1250.977232   6453\n",
              "...           ...    ...\n",
              "6910          NaN  15389\n",
              "6911          NaN  15389\n",
              "6912          NaN  15389\n",
              "6913          NaN  14538\n",
              "6914          NaN  14538\n",
              "\n",
              "[6915 rows x 2 columns]"
            ],
            "text/html": [
              "\n",
              "  <div id=\"df-16cd5ec5-b8e3-4ca3-b2bf-fd6cac2550f0\">\n",
              "    <div class=\"colab-df-container\">\n",
              "      <div>\n",
              "<style scoped>\n",
              "    .dataframe tbody tr th:only-of-type {\n",
              "        vertical-align: middle;\n",
              "    }\n",
              "\n",
              "    .dataframe tbody tr th {\n",
              "        vertical-align: top;\n",
              "    }\n",
              "\n",
              "    .dataframe thead th {\n",
              "        text-align: right;\n",
              "    }\n",
              "</style>\n",
              "<table border=\"1\" class=\"dataframe\">\n",
              "  <thead>\n",
              "    <tr style=\"text-align: right;\">\n",
              "      <th></th>\n",
              "      <th>0</th>\n",
              "      <th>age</th>\n",
              "    </tr>\n",
              "  </thead>\n",
              "  <tbody>\n",
              "    <tr>\n",
              "      <th>0</th>\n",
              "      <td>4703.246861</td>\n",
              "      <td>6453</td>\n",
              "    </tr>\n",
              "    <tr>\n",
              "      <th>1</th>\n",
              "      <td>1472.450802</td>\n",
              "      <td>6453</td>\n",
              "    </tr>\n",
              "    <tr>\n",
              "      <th>2</th>\n",
              "      <td>1304.047450</td>\n",
              "      <td>6453</td>\n",
              "    </tr>\n",
              "    <tr>\n",
              "      <th>3</th>\n",
              "      <td>1005.412485</td>\n",
              "      <td>6453</td>\n",
              "    </tr>\n",
              "    <tr>\n",
              "      <th>4</th>\n",
              "      <td>1250.977232</td>\n",
              "      <td>6453</td>\n",
              "    </tr>\n",
              "    <tr>\n",
              "      <th>...</th>\n",
              "      <td>...</td>\n",
              "      <td>...</td>\n",
              "    </tr>\n",
              "    <tr>\n",
              "      <th>6910</th>\n",
              "      <td>NaN</td>\n",
              "      <td>15389</td>\n",
              "    </tr>\n",
              "    <tr>\n",
              "      <th>6911</th>\n",
              "      <td>NaN</td>\n",
              "      <td>15389</td>\n",
              "    </tr>\n",
              "    <tr>\n",
              "      <th>6912</th>\n",
              "      <td>NaN</td>\n",
              "      <td>15389</td>\n",
              "    </tr>\n",
              "    <tr>\n",
              "      <th>6913</th>\n",
              "      <td>NaN</td>\n",
              "      <td>14538</td>\n",
              "    </tr>\n",
              "    <tr>\n",
              "      <th>6914</th>\n",
              "      <td>NaN</td>\n",
              "      <td>14538</td>\n",
              "    </tr>\n",
              "  </tbody>\n",
              "</table>\n",
              "<p>6915 rows × 2 columns</p>\n",
              "</div>\n",
              "      <button class=\"colab-df-convert\" onclick=\"convertToInteractive('df-16cd5ec5-b8e3-4ca3-b2bf-fd6cac2550f0')\"\n",
              "              title=\"Convert this dataframe to an interactive table.\"\n",
              "              style=\"display:none;\">\n",
              "        \n",
              "  <svg xmlns=\"http://www.w3.org/2000/svg\" height=\"24px\"viewBox=\"0 0 24 24\"\n",
              "       width=\"24px\">\n",
              "    <path d=\"M0 0h24v24H0V0z\" fill=\"none\"/>\n",
              "    <path d=\"M18.56 5.44l.94 2.06.94-2.06 2.06-.94-2.06-.94-.94-2.06-.94 2.06-2.06.94zm-11 1L8.5 8.5l.94-2.06 2.06-.94-2.06-.94L8.5 2.5l-.94 2.06-2.06.94zm10 10l.94 2.06.94-2.06 2.06-.94-2.06-.94-.94-2.06-.94 2.06-2.06.94z\"/><path d=\"M17.41 7.96l-1.37-1.37c-.4-.4-.92-.59-1.43-.59-.52 0-1.04.2-1.43.59L10.3 9.45l-7.72 7.72c-.78.78-.78 2.05 0 2.83L4 21.41c.39.39.9.59 1.41.59.51 0 1.02-.2 1.41-.59l7.78-7.78 2.81-2.81c.8-.78.8-2.07 0-2.86zM5.41 20L4 18.59l7.72-7.72 1.47 1.35L5.41 20z\"/>\n",
              "  </svg>\n",
              "      </button>\n",
              "      \n",
              "  <style>\n",
              "    .colab-df-container {\n",
              "      display:flex;\n",
              "      flex-wrap:wrap;\n",
              "      gap: 12px;\n",
              "    }\n",
              "\n",
              "    .colab-df-convert {\n",
              "      background-color: #E8F0FE;\n",
              "      border: none;\n",
              "      border-radius: 50%;\n",
              "      cursor: pointer;\n",
              "      display: none;\n",
              "      fill: #1967D2;\n",
              "      height: 32px;\n",
              "      padding: 0 0 0 0;\n",
              "      width: 32px;\n",
              "    }\n",
              "\n",
              "    .colab-df-convert:hover {\n",
              "      background-color: #E2EBFA;\n",
              "      box-shadow: 0px 1px 2px rgba(60, 64, 67, 0.3), 0px 1px 3px 1px rgba(60, 64, 67, 0.15);\n",
              "      fill: #174EA6;\n",
              "    }\n",
              "\n",
              "    [theme=dark] .colab-df-convert {\n",
              "      background-color: #3B4455;\n",
              "      fill: #D2E3FC;\n",
              "    }\n",
              "\n",
              "    [theme=dark] .colab-df-convert:hover {\n",
              "      background-color: #434B5C;\n",
              "      box-shadow: 0px 1px 3px 1px rgba(0, 0, 0, 0.15);\n",
              "      filter: drop-shadow(0px 1px 2px rgba(0, 0, 0, 0.3));\n",
              "      fill: #FFFFFF;\n",
              "    }\n",
              "  </style>\n",
              "\n",
              "      <script>\n",
              "        const buttonEl =\n",
              "          document.querySelector('#df-16cd5ec5-b8e3-4ca3-b2bf-fd6cac2550f0 button.colab-df-convert');\n",
              "        buttonEl.style.display =\n",
              "          google.colab.kernel.accessAllowed ? 'block' : 'none';\n",
              "\n",
              "        async function convertToInteractive(key) {\n",
              "          const element = document.querySelector('#df-16cd5ec5-b8e3-4ca3-b2bf-fd6cac2550f0');\n",
              "          const dataTable =\n",
              "            await google.colab.kernel.invokeFunction('convertToInteractive',\n",
              "                                                     [key], {});\n",
              "          if (!dataTable) return;\n",
              "\n",
              "          const docLinkHtml = 'Like what you see? Visit the ' +\n",
              "            '<a target=\"_blank\" href=https://colab.research.google.com/notebooks/data_table.ipynb>data table notebook</a>'\n",
              "            + ' to learn more about interactive tables.';\n",
              "          element.innerHTML = '';\n",
              "          dataTable['output_type'] = 'display_data';\n",
              "          await google.colab.output.renderOutput(dataTable, element);\n",
              "          const docLink = document.createElement('div');\n",
              "          docLink.innerHTML = docLinkHtml;\n",
              "          element.appendChild(docLink);\n",
              "        }\n",
              "      </script>\n",
              "    </div>\n",
              "  </div>\n",
              "  "
            ]
          },
          "metadata": {},
          "execution_count": 157
        }
      ]
    },
    {
      "cell_type": "code",
      "source": [
        "pred_fin.columns = ['index','wo_timeprednonorm','age']\n"
      ],
      "metadata": {
        "id": "9ZvQdkiMjkFl"
      },
      "execution_count": 158,
      "outputs": []
    },
    {
      "cell_type": "code",
      "source": [
        "pred_fin.head(3)"
      ],
      "metadata": {
        "id": "AxdppLDmkOXZ",
        "colab": {
          "base_uri": "https://localhost:8080/",
          "height": 0
        },
        "outputId": "6722c278-818d-4235-b283-eb5c87eaa620"
      },
      "execution_count": 159,
      "outputs": [
        {
          "output_type": "execute_result",
          "data": {
            "text/plain": [
              "         index  wo_timeprednonorm   age\n",
              "0  4703.246861              68212  6453\n",
              "1  1472.450802              68212  6453\n",
              "2  1304.047450              68212  6453"
            ],
            "text/html": [
              "\n",
              "  <div id=\"df-4b4a5a33-47d0-4116-99df-4e63d5c52672\">\n",
              "    <div class=\"colab-df-container\">\n",
              "      <div>\n",
              "<style scoped>\n",
              "    .dataframe tbody tr th:only-of-type {\n",
              "        vertical-align: middle;\n",
              "    }\n",
              "\n",
              "    .dataframe tbody tr th {\n",
              "        vertical-align: top;\n",
              "    }\n",
              "\n",
              "    .dataframe thead th {\n",
              "        text-align: right;\n",
              "    }\n",
              "</style>\n",
              "<table border=\"1\" class=\"dataframe\">\n",
              "  <thead>\n",
              "    <tr style=\"text-align: right;\">\n",
              "      <th></th>\n",
              "      <th>index</th>\n",
              "      <th>wo_timeprednonorm</th>\n",
              "      <th>age</th>\n",
              "    </tr>\n",
              "  </thead>\n",
              "  <tbody>\n",
              "    <tr>\n",
              "      <th>0</th>\n",
              "      <td>4703.246861</td>\n",
              "      <td>68212</td>\n",
              "      <td>6453</td>\n",
              "    </tr>\n",
              "    <tr>\n",
              "      <th>1</th>\n",
              "      <td>1472.450802</td>\n",
              "      <td>68212</td>\n",
              "      <td>6453</td>\n",
              "    </tr>\n",
              "    <tr>\n",
              "      <th>2</th>\n",
              "      <td>1304.047450</td>\n",
              "      <td>68212</td>\n",
              "      <td>6453</td>\n",
              "    </tr>\n",
              "  </tbody>\n",
              "</table>\n",
              "</div>\n",
              "      <button class=\"colab-df-convert\" onclick=\"convertToInteractive('df-4b4a5a33-47d0-4116-99df-4e63d5c52672')\"\n",
              "              title=\"Convert this dataframe to an interactive table.\"\n",
              "              style=\"display:none;\">\n",
              "        \n",
              "  <svg xmlns=\"http://www.w3.org/2000/svg\" height=\"24px\"viewBox=\"0 0 24 24\"\n",
              "       width=\"24px\">\n",
              "    <path d=\"M0 0h24v24H0V0z\" fill=\"none\"/>\n",
              "    <path d=\"M18.56 5.44l.94 2.06.94-2.06 2.06-.94-2.06-.94-.94-2.06-.94 2.06-2.06.94zm-11 1L8.5 8.5l.94-2.06 2.06-.94-2.06-.94L8.5 2.5l-.94 2.06-2.06.94zm10 10l.94 2.06.94-2.06 2.06-.94-2.06-.94-.94-2.06-.94 2.06-2.06.94z\"/><path d=\"M17.41 7.96l-1.37-1.37c-.4-.4-.92-.59-1.43-.59-.52 0-1.04.2-1.43.59L10.3 9.45l-7.72 7.72c-.78.78-.78 2.05 0 2.83L4 21.41c.39.39.9.59 1.41.59.51 0 1.02-.2 1.41-.59l7.78-7.78 2.81-2.81c.8-.78.8-2.07 0-2.86zM5.41 20L4 18.59l7.72-7.72 1.47 1.35L5.41 20z\"/>\n",
              "  </svg>\n",
              "      </button>\n",
              "      \n",
              "  <style>\n",
              "    .colab-df-container {\n",
              "      display:flex;\n",
              "      flex-wrap:wrap;\n",
              "      gap: 12px;\n",
              "    }\n",
              "\n",
              "    .colab-df-convert {\n",
              "      background-color: #E8F0FE;\n",
              "      border: none;\n",
              "      border-radius: 50%;\n",
              "      cursor: pointer;\n",
              "      display: none;\n",
              "      fill: #1967D2;\n",
              "      height: 32px;\n",
              "      padding: 0 0 0 0;\n",
              "      width: 32px;\n",
              "    }\n",
              "\n",
              "    .colab-df-convert:hover {\n",
              "      background-color: #E2EBFA;\n",
              "      box-shadow: 0px 1px 2px rgba(60, 64, 67, 0.3), 0px 1px 3px 1px rgba(60, 64, 67, 0.15);\n",
              "      fill: #174EA6;\n",
              "    }\n",
              "\n",
              "    [theme=dark] .colab-df-convert {\n",
              "      background-color: #3B4455;\n",
              "      fill: #D2E3FC;\n",
              "    }\n",
              "\n",
              "    [theme=dark] .colab-df-convert:hover {\n",
              "      background-color: #434B5C;\n",
              "      box-shadow: 0px 1px 3px 1px rgba(0, 0, 0, 0.15);\n",
              "      filter: drop-shadow(0px 1px 2px rgba(0, 0, 0, 0.3));\n",
              "      fill: #FFFFFF;\n",
              "    }\n",
              "  </style>\n",
              "\n",
              "      <script>\n",
              "        const buttonEl =\n",
              "          document.querySelector('#df-4b4a5a33-47d0-4116-99df-4e63d5c52672 button.colab-df-convert');\n",
              "        buttonEl.style.display =\n",
              "          google.colab.kernel.accessAllowed ? 'block' : 'none';\n",
              "\n",
              "        async function convertToInteractive(key) {\n",
              "          const element = document.querySelector('#df-4b4a5a33-47d0-4116-99df-4e63d5c52672');\n",
              "          const dataTable =\n",
              "            await google.colab.kernel.invokeFunction('convertToInteractive',\n",
              "                                                     [key], {});\n",
              "          if (!dataTable) return;\n",
              "\n",
              "          const docLinkHtml = 'Like what you see? Visit the ' +\n",
              "            '<a target=\"_blank\" href=https://colab.research.google.com/notebooks/data_table.ipynb>data table notebook</a>'\n",
              "            + ' to learn more about interactive tables.';\n",
              "          element.innerHTML = '';\n",
              "          dataTable['output_type'] = 'display_data';\n",
              "          await google.colab.output.renderOutput(dataTable, element);\n",
              "          const docLink = document.createElement('div');\n",
              "          docLink.innerHTML = docLinkHtml;\n",
              "          element.appendChild(docLink);\n",
              "        }\n",
              "      </script>\n",
              "    </div>\n",
              "  </div>\n",
              "  "
            ]
          },
          "metadata": {},
          "execution_count": 159
        }
      ]
    },
    {
      "cell_type": "code",
      "execution_count": 160,
      "metadata": {
        "id": "b-x4N_nGHgAi",
        "colab": {
          "base_uri": "https://localhost:8080/"
        },
        "outputId": "1daa55f2-10b7-4b1c-dba2-1620982359f8"
      },
      "outputs": [
        {
          "output_type": "stream",
          "name": "stdout",
          "text": [
            "mean_squared_error :  12577537.348852385\n",
            "mean_absolute_error :  1657.9922815489542\n"
          ]
        }
      ],
      "source": [
        "# model evaluation\n",
        "print(\n",
        "'mean_squared_error : ', mean_squared_error(y_test_aneshos1, predictions_anes_df))\n",
        "print(\n",
        "'mean_absolute_error : ', mean_absolute_error(y_test_aneshos1, predictions_anes_df))\n"
      ]
    },
    {
      "cell_type": "markdown",
      "source": [
        "**Trying normalization and see if it works better in Abosolute mean error**"
      ],
      "metadata": {
        "id": "MhUTM5jbnrkH"
      }
    },
    {
      "cell_type": "code",
      "source": [
        "from sklearn.preprocessing import MinMaxScaler"
      ],
      "metadata": {
        "id": "gTs23CKWnxsg"
      },
      "execution_count": 161,
      "outputs": []
    },
    {
      "cell_type": "code",
      "source": [
        "scaler=MinMaxScaler()\n",
        "scaler.fit(X_reghos1)\n",
        "scaled=scaler.fit_transform(X_reghos1)\n",
        "scaled_df=pd.DataFrame(scaled,columns=X_reghos1.columns)"
      ],
      "metadata": {
        "id": "--mziKSEzWDx"
      },
      "execution_count": 162,
      "outputs": []
    },
    {
      "cell_type": "code",
      "source": [
        "scaled_df.shape"
      ],
      "metadata": {
        "id": "IhMICSP227iV",
        "colab": {
          "base_uri": "https://localhost:8080/"
        },
        "outputId": "d4f8d089-7441-4b5e-89d4-4ad2f858da01"
      },
      "execution_count": 163,
      "outputs": [
        {
          "output_type": "execute_result",
          "data": {
            "text/plain": [
              "(6915, 4)"
            ]
          },
          "metadata": {},
          "execution_count": 163
        }
      ]
    },
    {
      "cell_type": "code",
      "source": [
        "scaled_df.head(3)\n"
      ],
      "metadata": {
        "id": "YDs6TeJGFOua",
        "colab": {
          "base_uri": "https://localhost:8080/",
          "height": 0
        },
        "outputId": "e5152731-fa80-4186-bf1e-c8e8bbe3a21b"
      },
      "execution_count": 164,
      "outputs": [
        {
          "output_type": "execute_result",
          "data": {
            "text/plain": [
              "   calc.Risk  Count_wo  meantime       age\n",
              "0        1.0  0.180328  0.117554  0.144754\n",
              "1        1.0  0.180328  0.117554  0.144754\n",
              "2        1.0  0.180328  0.117554  0.144754"
            ],
            "text/html": [
              "\n",
              "  <div id=\"df-cb9b7744-6273-4100-884c-46e11daa8393\">\n",
              "    <div class=\"colab-df-container\">\n",
              "      <div>\n",
              "<style scoped>\n",
              "    .dataframe tbody tr th:only-of-type {\n",
              "        vertical-align: middle;\n",
              "    }\n",
              "\n",
              "    .dataframe tbody tr th {\n",
              "        vertical-align: top;\n",
              "    }\n",
              "\n",
              "    .dataframe thead th {\n",
              "        text-align: right;\n",
              "    }\n",
              "</style>\n",
              "<table border=\"1\" class=\"dataframe\">\n",
              "  <thead>\n",
              "    <tr style=\"text-align: right;\">\n",
              "      <th></th>\n",
              "      <th>calc.Risk</th>\n",
              "      <th>Count_wo</th>\n",
              "      <th>meantime</th>\n",
              "      <th>age</th>\n",
              "    </tr>\n",
              "  </thead>\n",
              "  <tbody>\n",
              "    <tr>\n",
              "      <th>0</th>\n",
              "      <td>1.0</td>\n",
              "      <td>0.180328</td>\n",
              "      <td>0.117554</td>\n",
              "      <td>0.144754</td>\n",
              "    </tr>\n",
              "    <tr>\n",
              "      <th>1</th>\n",
              "      <td>1.0</td>\n",
              "      <td>0.180328</td>\n",
              "      <td>0.117554</td>\n",
              "      <td>0.144754</td>\n",
              "    </tr>\n",
              "    <tr>\n",
              "      <th>2</th>\n",
              "      <td>1.0</td>\n",
              "      <td>0.180328</td>\n",
              "      <td>0.117554</td>\n",
              "      <td>0.144754</td>\n",
              "    </tr>\n",
              "  </tbody>\n",
              "</table>\n",
              "</div>\n",
              "      <button class=\"colab-df-convert\" onclick=\"convertToInteractive('df-cb9b7744-6273-4100-884c-46e11daa8393')\"\n",
              "              title=\"Convert this dataframe to an interactive table.\"\n",
              "              style=\"display:none;\">\n",
              "        \n",
              "  <svg xmlns=\"http://www.w3.org/2000/svg\" height=\"24px\"viewBox=\"0 0 24 24\"\n",
              "       width=\"24px\">\n",
              "    <path d=\"M0 0h24v24H0V0z\" fill=\"none\"/>\n",
              "    <path d=\"M18.56 5.44l.94 2.06.94-2.06 2.06-.94-2.06-.94-.94-2.06-.94 2.06-2.06.94zm-11 1L8.5 8.5l.94-2.06 2.06-.94-2.06-.94L8.5 2.5l-.94 2.06-2.06.94zm10 10l.94 2.06.94-2.06 2.06-.94-2.06-.94-.94-2.06-.94 2.06-2.06.94z\"/><path d=\"M17.41 7.96l-1.37-1.37c-.4-.4-.92-.59-1.43-.59-.52 0-1.04.2-1.43.59L10.3 9.45l-7.72 7.72c-.78.78-.78 2.05 0 2.83L4 21.41c.39.39.9.59 1.41.59.51 0 1.02-.2 1.41-.59l7.78-7.78 2.81-2.81c.8-.78.8-2.07 0-2.86zM5.41 20L4 18.59l7.72-7.72 1.47 1.35L5.41 20z\"/>\n",
              "  </svg>\n",
              "      </button>\n",
              "      \n",
              "  <style>\n",
              "    .colab-df-container {\n",
              "      display:flex;\n",
              "      flex-wrap:wrap;\n",
              "      gap: 12px;\n",
              "    }\n",
              "\n",
              "    .colab-df-convert {\n",
              "      background-color: #E8F0FE;\n",
              "      border: none;\n",
              "      border-radius: 50%;\n",
              "      cursor: pointer;\n",
              "      display: none;\n",
              "      fill: #1967D2;\n",
              "      height: 32px;\n",
              "      padding: 0 0 0 0;\n",
              "      width: 32px;\n",
              "    }\n",
              "\n",
              "    .colab-df-convert:hover {\n",
              "      background-color: #E2EBFA;\n",
              "      box-shadow: 0px 1px 2px rgba(60, 64, 67, 0.3), 0px 1px 3px 1px rgba(60, 64, 67, 0.15);\n",
              "      fill: #174EA6;\n",
              "    }\n",
              "\n",
              "    [theme=dark] .colab-df-convert {\n",
              "      background-color: #3B4455;\n",
              "      fill: #D2E3FC;\n",
              "    }\n",
              "\n",
              "    [theme=dark] .colab-df-convert:hover {\n",
              "      background-color: #434B5C;\n",
              "      box-shadow: 0px 1px 3px 1px rgba(0, 0, 0, 0.15);\n",
              "      filter: drop-shadow(0px 1px 2px rgba(0, 0, 0, 0.3));\n",
              "      fill: #FFFFFF;\n",
              "    }\n",
              "  </style>\n",
              "\n",
              "      <script>\n",
              "        const buttonEl =\n",
              "          document.querySelector('#df-cb9b7744-6273-4100-884c-46e11daa8393 button.colab-df-convert');\n",
              "        buttonEl.style.display =\n",
              "          google.colab.kernel.accessAllowed ? 'block' : 'none';\n",
              "\n",
              "        async function convertToInteractive(key) {\n",
              "          const element = document.querySelector('#df-cb9b7744-6273-4100-884c-46e11daa8393');\n",
              "          const dataTable =\n",
              "            await google.colab.kernel.invokeFunction('convertToInteractive',\n",
              "                                                     [key], {});\n",
              "          if (!dataTable) return;\n",
              "\n",
              "          const docLinkHtml = 'Like what you see? Visit the ' +\n",
              "            '<a target=\"_blank\" href=https://colab.research.google.com/notebooks/data_table.ipynb>data table notebook</a>'\n",
              "            + ' to learn more about interactive tables.';\n",
              "          element.innerHTML = '';\n",
              "          dataTable['output_type'] = 'display_data';\n",
              "          await google.colab.output.renderOutput(dataTable, element);\n",
              "          const docLink = document.createElement('div');\n",
              "          docLink.innerHTML = docLinkHtml;\n",
              "          element.appendChild(docLink);\n",
              "        }\n",
              "      </script>\n",
              "    </div>\n",
              "  </div>\n",
              "  "
            ]
          },
          "metadata": {},
          "execution_count": 164
        }
      ]
    },
    {
      "cell_type": "code",
      "source": [
        "X_train_aneshos1norm, X_test_aneshos1norm, y_train_aneshos1norm, y_test_aneshos1norm = train_test_split(\n",
        "    scaled_df, Y_reghos1,test_size=0.3, random_state=101)"
      ],
      "metadata": {
        "id": "piA2BE0cGeTs"
      },
      "execution_count": 165,
      "outputs": []
    },
    {
      "cell_type": "code",
      "source": [
        "Y_reghos1.head(3)"
      ],
      "metadata": {
        "id": "GVfLJjHAHAKb",
        "colab": {
          "base_uri": "https://localhost:8080/"
        },
        "outputId": "206c3eb5-0da5-438f-c412-dabc7cf7a33a"
      },
      "execution_count": 166,
      "outputs": [
        {
          "output_type": "execute_result",
          "data": {
            "text/plain": [
              "68212     836\n",
              "68212    1472\n",
              "68212    3881\n",
              "Name: wotime_diff, dtype: int64"
            ]
          },
          "metadata": {},
          "execution_count": 166
        }
      ]
    },
    {
      "cell_type": "code",
      "source": [
        "model_anesnorm = LinearRegression()\n"
      ],
      "metadata": {
        "id": "ateHCskDHjIm"
      },
      "execution_count": 167,
      "outputs": []
    },
    {
      "cell_type": "code",
      "source": [
        "model_anesnorm.fit(X_train_aneshos1norm,y_train_aneshos1norm)"
      ],
      "metadata": {
        "id": "N2Gc0uJ5Hl40",
        "colab": {
          "base_uri": "https://localhost:8080/"
        },
        "outputId": "eed3badb-a43b-448c-8b77-1c631c11b565"
      },
      "execution_count": 168,
      "outputs": [
        {
          "output_type": "execute_result",
          "data": {
            "text/plain": [
              "LinearRegression()"
            ]
          },
          "metadata": {},
          "execution_count": 168
        }
      ]
    },
    {
      "cell_type": "code",
      "source": [
        "predictions_anesnorm= model_anesnorm.predict(X_test_aneshos1norm)\n"
      ],
      "metadata": {
        "id": "70ldjrynH74T"
      },
      "execution_count": 169,
      "outputs": []
    },
    {
      "cell_type": "code",
      "source": [
        "predictions_anesnorm"
      ],
      "metadata": {
        "id": "VtpAWCpGIS2i",
        "colab": {
          "base_uri": "https://localhost:8080/"
        },
        "outputId": "c5c5100a-3d75-44f9-87cd-e602cffe8422"
      },
      "execution_count": 170,
      "outputs": [
        {
          "output_type": "execute_result",
          "data": {
            "text/plain": [
              "array([4703.24686136, 1472.45080206, 1304.04745048, ..., 3560.04275472,\n",
              "       8146.62160612,   31.39283313])"
            ]
          },
          "metadata": {},
          "execution_count": 170
        }
      ]
    },
    {
      "cell_type": "code",
      "source": [
        "predictions_anes_dfnorm=pd.DataFrame(predictions_anesnorm)"
      ],
      "metadata": {
        "id": "p2GL5DUWJxW7"
      },
      "execution_count": 171,
      "outputs": []
    },
    {
      "cell_type": "code",
      "source": [
        "predictions_anes_dfnorm.head(3)"
      ],
      "metadata": {
        "id": "GNPc2n8lQmll",
        "colab": {
          "base_uri": "https://localhost:8080/",
          "height": 0
        },
        "outputId": "76281949-00d6-49aa-8023-d6f63d16ecd8"
      },
      "execution_count": 172,
      "outputs": [
        {
          "output_type": "execute_result",
          "data": {
            "text/plain": [
              "             0\n",
              "0  4703.246861\n",
              "1  1472.450802\n",
              "2  1304.047450"
            ],
            "text/html": [
              "\n",
              "  <div id=\"df-fdb636a2-864f-4f46-bb60-4d335138d0d3\">\n",
              "    <div class=\"colab-df-container\">\n",
              "      <div>\n",
              "<style scoped>\n",
              "    .dataframe tbody tr th:only-of-type {\n",
              "        vertical-align: middle;\n",
              "    }\n",
              "\n",
              "    .dataframe tbody tr th {\n",
              "        vertical-align: top;\n",
              "    }\n",
              "\n",
              "    .dataframe thead th {\n",
              "        text-align: right;\n",
              "    }\n",
              "</style>\n",
              "<table border=\"1\" class=\"dataframe\">\n",
              "  <thead>\n",
              "    <tr style=\"text-align: right;\">\n",
              "      <th></th>\n",
              "      <th>0</th>\n",
              "    </tr>\n",
              "  </thead>\n",
              "  <tbody>\n",
              "    <tr>\n",
              "      <th>0</th>\n",
              "      <td>4703.246861</td>\n",
              "    </tr>\n",
              "    <tr>\n",
              "      <th>1</th>\n",
              "      <td>1472.450802</td>\n",
              "    </tr>\n",
              "    <tr>\n",
              "      <th>2</th>\n",
              "      <td>1304.047450</td>\n",
              "    </tr>\n",
              "  </tbody>\n",
              "</table>\n",
              "</div>\n",
              "      <button class=\"colab-df-convert\" onclick=\"convertToInteractive('df-fdb636a2-864f-4f46-bb60-4d335138d0d3')\"\n",
              "              title=\"Convert this dataframe to an interactive table.\"\n",
              "              style=\"display:none;\">\n",
              "        \n",
              "  <svg xmlns=\"http://www.w3.org/2000/svg\" height=\"24px\"viewBox=\"0 0 24 24\"\n",
              "       width=\"24px\">\n",
              "    <path d=\"M0 0h24v24H0V0z\" fill=\"none\"/>\n",
              "    <path d=\"M18.56 5.44l.94 2.06.94-2.06 2.06-.94-2.06-.94-.94-2.06-.94 2.06-2.06.94zm-11 1L8.5 8.5l.94-2.06 2.06-.94-2.06-.94L8.5 2.5l-.94 2.06-2.06.94zm10 10l.94 2.06.94-2.06 2.06-.94-2.06-.94-.94-2.06-.94 2.06-2.06.94z\"/><path d=\"M17.41 7.96l-1.37-1.37c-.4-.4-.92-.59-1.43-.59-.52 0-1.04.2-1.43.59L10.3 9.45l-7.72 7.72c-.78.78-.78 2.05 0 2.83L4 21.41c.39.39.9.59 1.41.59.51 0 1.02-.2 1.41-.59l7.78-7.78 2.81-2.81c.8-.78.8-2.07 0-2.86zM5.41 20L4 18.59l7.72-7.72 1.47 1.35L5.41 20z\"/>\n",
              "  </svg>\n",
              "      </button>\n",
              "      \n",
              "  <style>\n",
              "    .colab-df-container {\n",
              "      display:flex;\n",
              "      flex-wrap:wrap;\n",
              "      gap: 12px;\n",
              "    }\n",
              "\n",
              "    .colab-df-convert {\n",
              "      background-color: #E8F0FE;\n",
              "      border: none;\n",
              "      border-radius: 50%;\n",
              "      cursor: pointer;\n",
              "      display: none;\n",
              "      fill: #1967D2;\n",
              "      height: 32px;\n",
              "      padding: 0 0 0 0;\n",
              "      width: 32px;\n",
              "    }\n",
              "\n",
              "    .colab-df-convert:hover {\n",
              "      background-color: #E2EBFA;\n",
              "      box-shadow: 0px 1px 2px rgba(60, 64, 67, 0.3), 0px 1px 3px 1px rgba(60, 64, 67, 0.15);\n",
              "      fill: #174EA6;\n",
              "    }\n",
              "\n",
              "    [theme=dark] .colab-df-convert {\n",
              "      background-color: #3B4455;\n",
              "      fill: #D2E3FC;\n",
              "    }\n",
              "\n",
              "    [theme=dark] .colab-df-convert:hover {\n",
              "      background-color: #434B5C;\n",
              "      box-shadow: 0px 1px 3px 1px rgba(0, 0, 0, 0.15);\n",
              "      filter: drop-shadow(0px 1px 2px rgba(0, 0, 0, 0.3));\n",
              "      fill: #FFFFFF;\n",
              "    }\n",
              "  </style>\n",
              "\n",
              "      <script>\n",
              "        const buttonEl =\n",
              "          document.querySelector('#df-fdb636a2-864f-4f46-bb60-4d335138d0d3 button.colab-df-convert');\n",
              "        buttonEl.style.display =\n",
              "          google.colab.kernel.accessAllowed ? 'block' : 'none';\n",
              "\n",
              "        async function convertToInteractive(key) {\n",
              "          const element = document.querySelector('#df-fdb636a2-864f-4f46-bb60-4d335138d0d3');\n",
              "          const dataTable =\n",
              "            await google.colab.kernel.invokeFunction('convertToInteractive',\n",
              "                                                     [key], {});\n",
              "          if (!dataTable) return;\n",
              "\n",
              "          const docLinkHtml = 'Like what you see? Visit the ' +\n",
              "            '<a target=\"_blank\" href=https://colab.research.google.com/notebooks/data_table.ipynb>data table notebook</a>'\n",
              "            + ' to learn more about interactive tables.';\n",
              "          element.innerHTML = '';\n",
              "          dataTable['output_type'] = 'display_data';\n",
              "          await google.colab.output.renderOutput(dataTable, element);\n",
              "          const docLink = document.createElement('div');\n",
              "          docLink.innerHTML = docLinkHtml;\n",
              "          element.appendChild(docLink);\n",
              "        }\n",
              "      </script>\n",
              "    </div>\n",
              "  </div>\n",
              "  "
            ]
          },
          "metadata": {},
          "execution_count": 172
        }
      ]
    },
    {
      "cell_type": "code",
      "source": [
        "predictions_anes_dfnorm.columns = ['wo_timepred']\n"
      ],
      "metadata": {
        "id": "boG8J87uRTia"
      },
      "execution_count": 173,
      "outputs": []
    },
    {
      "cell_type": "code",
      "source": [
        "predictions_anes_dfnorm.head(3)"
      ],
      "metadata": {
        "id": "dmCuahp0RkpD",
        "colab": {
          "base_uri": "https://localhost:8080/",
          "height": 0
        },
        "outputId": "265e5a04-5a9d-451e-a9b6-a9016eb671b5"
      },
      "execution_count": 174,
      "outputs": [
        {
          "output_type": "execute_result",
          "data": {
            "text/plain": [
              "   wo_timepred\n",
              "0  4703.246861\n",
              "1  1472.450802\n",
              "2  1304.047450"
            ],
            "text/html": [
              "\n",
              "  <div id=\"df-be663b6b-4b47-4cf1-92c6-5de37d96a217\">\n",
              "    <div class=\"colab-df-container\">\n",
              "      <div>\n",
              "<style scoped>\n",
              "    .dataframe tbody tr th:only-of-type {\n",
              "        vertical-align: middle;\n",
              "    }\n",
              "\n",
              "    .dataframe tbody tr th {\n",
              "        vertical-align: top;\n",
              "    }\n",
              "\n",
              "    .dataframe thead th {\n",
              "        text-align: right;\n",
              "    }\n",
              "</style>\n",
              "<table border=\"1\" class=\"dataframe\">\n",
              "  <thead>\n",
              "    <tr style=\"text-align: right;\">\n",
              "      <th></th>\n",
              "      <th>wo_timepred</th>\n",
              "    </tr>\n",
              "  </thead>\n",
              "  <tbody>\n",
              "    <tr>\n",
              "      <th>0</th>\n",
              "      <td>4703.246861</td>\n",
              "    </tr>\n",
              "    <tr>\n",
              "      <th>1</th>\n",
              "      <td>1472.450802</td>\n",
              "    </tr>\n",
              "    <tr>\n",
              "      <th>2</th>\n",
              "      <td>1304.047450</td>\n",
              "    </tr>\n",
              "  </tbody>\n",
              "</table>\n",
              "</div>\n",
              "      <button class=\"colab-df-convert\" onclick=\"convertToInteractive('df-be663b6b-4b47-4cf1-92c6-5de37d96a217')\"\n",
              "              title=\"Convert this dataframe to an interactive table.\"\n",
              "              style=\"display:none;\">\n",
              "        \n",
              "  <svg xmlns=\"http://www.w3.org/2000/svg\" height=\"24px\"viewBox=\"0 0 24 24\"\n",
              "       width=\"24px\">\n",
              "    <path d=\"M0 0h24v24H0V0z\" fill=\"none\"/>\n",
              "    <path d=\"M18.56 5.44l.94 2.06.94-2.06 2.06-.94-2.06-.94-.94-2.06-.94 2.06-2.06.94zm-11 1L8.5 8.5l.94-2.06 2.06-.94-2.06-.94L8.5 2.5l-.94 2.06-2.06.94zm10 10l.94 2.06.94-2.06 2.06-.94-2.06-.94-.94-2.06-.94 2.06-2.06.94z\"/><path d=\"M17.41 7.96l-1.37-1.37c-.4-.4-.92-.59-1.43-.59-.52 0-1.04.2-1.43.59L10.3 9.45l-7.72 7.72c-.78.78-.78 2.05 0 2.83L4 21.41c.39.39.9.59 1.41.59.51 0 1.02-.2 1.41-.59l7.78-7.78 2.81-2.81c.8-.78.8-2.07 0-2.86zM5.41 20L4 18.59l7.72-7.72 1.47 1.35L5.41 20z\"/>\n",
              "  </svg>\n",
              "      </button>\n",
              "      \n",
              "  <style>\n",
              "    .colab-df-container {\n",
              "      display:flex;\n",
              "      flex-wrap:wrap;\n",
              "      gap: 12px;\n",
              "    }\n",
              "\n",
              "    .colab-df-convert {\n",
              "      background-color: #E8F0FE;\n",
              "      border: none;\n",
              "      border-radius: 50%;\n",
              "      cursor: pointer;\n",
              "      display: none;\n",
              "      fill: #1967D2;\n",
              "      height: 32px;\n",
              "      padding: 0 0 0 0;\n",
              "      width: 32px;\n",
              "    }\n",
              "\n",
              "    .colab-df-convert:hover {\n",
              "      background-color: #E2EBFA;\n",
              "      box-shadow: 0px 1px 2px rgba(60, 64, 67, 0.3), 0px 1px 3px 1px rgba(60, 64, 67, 0.15);\n",
              "      fill: #174EA6;\n",
              "    }\n",
              "\n",
              "    [theme=dark] .colab-df-convert {\n",
              "      background-color: #3B4455;\n",
              "      fill: #D2E3FC;\n",
              "    }\n",
              "\n",
              "    [theme=dark] .colab-df-convert:hover {\n",
              "      background-color: #434B5C;\n",
              "      box-shadow: 0px 1px 3px 1px rgba(0, 0, 0, 0.15);\n",
              "      filter: drop-shadow(0px 1px 2px rgba(0, 0, 0, 0.3));\n",
              "      fill: #FFFFFF;\n",
              "    }\n",
              "  </style>\n",
              "\n",
              "      <script>\n",
              "        const buttonEl =\n",
              "          document.querySelector('#df-be663b6b-4b47-4cf1-92c6-5de37d96a217 button.colab-df-convert');\n",
              "        buttonEl.style.display =\n",
              "          google.colab.kernel.accessAllowed ? 'block' : 'none';\n",
              "\n",
              "        async function convertToInteractive(key) {\n",
              "          const element = document.querySelector('#df-be663b6b-4b47-4cf1-92c6-5de37d96a217');\n",
              "          const dataTable =\n",
              "            await google.colab.kernel.invokeFunction('convertToInteractive',\n",
              "                                                     [key], {});\n",
              "          if (!dataTable) return;\n",
              "\n",
              "          const docLinkHtml = 'Like what you see? Visit the ' +\n",
              "            '<a target=\"_blank\" href=https://colab.research.google.com/notebooks/data_table.ipynb>data table notebook</a>'\n",
              "            + ' to learn more about interactive tables.';\n",
              "          element.innerHTML = '';\n",
              "          dataTable['output_type'] = 'display_data';\n",
              "          await google.colab.output.renderOutput(dataTable, element);\n",
              "          const docLink = document.createElement('div');\n",
              "          docLink.innerHTML = docLinkHtml;\n",
              "          element.appendChild(docLink);\n",
              "        }\n",
              "      </script>\n",
              "    </div>\n",
              "  </div>\n",
              "  "
            ]
          },
          "metadata": {},
          "execution_count": 174
        }
      ]
    },
    {
      "cell_type": "code",
      "execution_count": 175,
      "metadata": {
        "id": "lUY16EvmJxW7",
        "colab": {
          "base_uri": "https://localhost:8080/"
        },
        "outputId": "4051d422-16aa-4ad8-ace3-6508bd308c13"
      },
      "outputs": [
        {
          "output_type": "stream",
          "name": "stdout",
          "text": [
            "mean_squared_error :  12577537.348852385\n",
            "mean_absolute_error :  1657.9922815489551\n"
          ]
        }
      ],
      "source": [
        "# model evaluation\n",
        "print(\n",
        "'mean_squared_error : ', mean_squared_error(y_test_aneshos1, predictions_anes_dfnorm))\n",
        "print(\n",
        "'mean_absolute_error : ', mean_absolute_error(y_test_aneshos1, predictions_anes_dfnorm))\n"
      ]
    },
    {
      "cell_type": "markdown",
      "source": [
        "# **Regression model for oxygen concentrators**"
      ],
      "metadata": {
        "id": "FYREGAJxb7ZK"
      }
    },
    {
      "cell_type": "code",
      "execution_count": null,
      "metadata": {
        "id": "KKoHgrINjjHR"
      },
      "outputs": [],
      "source": [
        "from sklearn import linear_model\n",
        "from sklearn.linear_model import LinearRegression\n",
        "from sklearn.metrics import mean_squared_error, mean_absolute_error\n",
        "from sklearn import preprocessing"
      ]
    },
    {
      "cell_type": "code",
      "source": [
        "dataoxyhos1.shape"
      ],
      "metadata": {
        "id": "SJtZg7pJcDYr"
      },
      "execution_count": null,
      "outputs": []
    },
    {
      "cell_type": "code",
      "source": [
        "dataoxyhos1.nunique()"
      ],
      "metadata": {
        "id": "xRf-XwLH-1Vk"
      },
      "execution_count": null,
      "outputs": []
    },
    {
      "cell_type": "code",
      "execution_count": null,
      "metadata": {
        "id": "wMZXwbO8kCNI"
      },
      "outputs": [],
      "source": [
        "dataoxyhos1['Equip.reg_date']=pd.to_datetime(dataoxyhos1['Equip.reg_date'])\n",
        "dataoxyhos1['issued']=pd.to_datetime(dataoxyhos1['issued'])\n",
        "\n"
      ]
    },
    {
      "cell_type": "code",
      "execution_count": null,
      "metadata": {
        "id": "2nvWyDDpkCNJ"
      },
      "outputs": [],
      "source": [
        "dataoxyhos1.drop(columns=['dev','inventarieID','ID_y'],inplace=True)"
      ]
    },
    {
      "cell_type": "code",
      "execution_count": null,
      "metadata": {
        "id": "myhKJD7ojjHR"
      },
      "outputs": [],
      "source": [
        "dataoxyhos1['wotime_diff']=(dataoxyhos1['issued']-dataoxyhos1['Equip.reg_date']).dt.days"
      ]
    },
    {
      "cell_type": "code",
      "execution_count": null,
      "metadata": {
        "id": "1RiIadbajjHS"
      },
      "outputs": [],
      "source": [
        "dataoxyhos1.corr()"
      ]
    },
    {
      "cell_type": "code",
      "source": [
        "dataoxyhos1.describe()"
      ],
      "metadata": {
        "id": "UX089HVL9zXs"
      },
      "execution_count": null,
      "outputs": []
    },
    {
      "cell_type": "code",
      "execution_count": null,
      "metadata": {
        "id": "ilhMCiiejjHS"
      },
      "outputs": [],
      "source": [
        "Y_oxygen=dataoxyhos1['wotime_diff']\n",
        "X_oxygen=dataoxyhos1.drop(['issued','Equip.reg_date','wotime_diff'],axis=1)\n"
      ]
    },
    {
      "cell_type": "code",
      "source": [
        "X_train_oxy1, X_test_oxy1, y_train_oxy1, y_test_oxy1 = train_test_split(X_oxygen,Y_oxygen, test_size=0.3, random_state=101)"
      ],
      "metadata": {
        "id": "PssByIBUVO3x"
      },
      "execution_count": null,
      "outputs": []
    },
    {
      "cell_type": "code",
      "execution_count": null,
      "metadata": {
        "id": "DRVNaaI5jjHT"
      },
      "outputs": [],
      "source": [
        "y_train_oxy1.head(3)"
      ]
    },
    {
      "cell_type": "code",
      "source": [
        "model_oxy = LinearRegression()\n",
        "model_oxy.fit(X_train_oxy1,y_train_oxy1)"
      ],
      "metadata": {
        "id": "hLqCLlH2WJjq"
      },
      "execution_count": null,
      "outputs": []
    },
    {
      "cell_type": "code",
      "source": [
        "predictions_oxy=model_oxy.predict(X_test_oxy1)"
      ],
      "metadata": {
        "id": "PKzHUuG4WiLs"
      },
      "execution_count": null,
      "outputs": []
    },
    {
      "cell_type": "code",
      "source": [
        "# model evaluation\n",
        "print(\n",
        "'mean_squared_error : ', mean_squared_error(y_test_oxy1, predictions_oxy))\n",
        "print(\n",
        "'mean_absolute_error : ', mean_absolute_error(y_test_oxy1, predictions_oxy))\n"
      ],
      "metadata": {
        "id": "jqk2tL_yW_oz"
      },
      "execution_count": null,
      "outputs": []
    },
    {
      "cell_type": "markdown",
      "source": [
        "# **oxygen concentrators with pm attributes **"
      ],
      "metadata": {
        "id": "usCdmJXt4fAF"
      }
    },
    {
      "cell_type": "code",
      "source": [
        "Y_oxygen.shape"
      ],
      "metadata": {
        "id": "QJIh20sU4k8i"
      },
      "execution_count": null,
      "outputs": []
    },
    {
      "cell_type": "code",
      "source": [],
      "metadata": {
        "id": "N-VeqnIX6dZ8"
      },
      "execution_count": null,
      "outputs": []
    },
    {
      "cell_type": "code",
      "source": [
        "X_oxygen_pm=pd.merge(X_oxygen,fin1,left_index=True,right_index=True)"
      ],
      "metadata": {
        "id": "ngKso5kO4_mM"
      },
      "execution_count": null,
      "outputs": []
    },
    {
      "cell_type": "code",
      "source": [
        "X_oxygen_pm.drop(columns=['invID','last_pm','first_pm'])"
      ],
      "metadata": {
        "id": "3yM5f8Bj5X2W"
      },
      "execution_count": null,
      "outputs": []
    },
    {
      "cell_type": "markdown",
      "source": [
        "# **Multiple regression model after adding more attributes from preventive mainntenance data**"
      ],
      "metadata": {
        "id": "ieUMrGNhzzUP"
      }
    },
    {
      "cell_type": "code",
      "source": [
        "fin1.head(3)"
      ],
      "metadata": {
        "id": "VoVHmmo53DhW"
      },
      "execution_count": null,
      "outputs": []
    },
    {
      "cell_type": "code",
      "source": [
        "fin1.drop(columns=['last_pm','first_pm'])"
      ],
      "metadata": {
        "id": "23WMZXKQ3KGI"
      },
      "execution_count": null,
      "outputs": []
    },
    {
      "cell_type": "code",
      "source": [
        "#adding some pm data to this dataset\n",
        "pm_wo_attributes=pd.merge(data_aneshos1woeq,fin1,left_index=True,right_index=True)"
      ],
      "metadata": {
        "id": "b-SNzfhc2V2x"
      },
      "execution_count": null,
      "outputs": []
    },
    {
      "cell_type": "code",
      "source": [
        "pm_wo_attributes.shape"
      ],
      "metadata": {
        "id": "b8NjoQGf4U79"
      },
      "execution_count": null,
      "outputs": []
    },
    {
      "cell_type": "code",
      "source": [
        "pm_wo_attributes.head(3)"
      ],
      "metadata": {
        "id": "OmLQ4GZZ6kwI"
      },
      "execution_count": null,
      "outputs": []
    },
    {
      "cell_type": "code",
      "source": [
        "pm_wo_attributes.drop(columns=['calc.Risk','inventarieID','invID','last_pm','first_pm'],inplace=True)"
      ],
      "metadata": {
        "id": "AB87EZcg60wr"
      },
      "execution_count": null,
      "outputs": []
    },
    {
      "cell_type": "code",
      "source": [
        "from sklearn import linear_model\n",
        "from sklearn.linear_model import LinearRegression\n",
        "from sklearn.metrics import mean_squared_error, mean_absolute_error\n",
        "from sklearn import preprocessing"
      ],
      "metadata": {
        "id": "DRVfuxVqMwtQ"
      },
      "execution_count": null,
      "outputs": []
    },
    {
      "cell_type": "code",
      "source": [
        "pm_wo_attributes['wotime_diff']=(pm_wo_attributes['issued']-pm_wo_attributes['Equip.reg_date']).dt.days"
      ],
      "metadata": {
        "id": "dAbJ_sw3XL-l"
      },
      "execution_count": null,
      "outputs": []
    },
    {
      "cell_type": "code",
      "source": [
        "pm_wo_attributes.head(3)"
      ],
      "metadata": {
        "id": "cvWkpAm7YFY9"
      },
      "execution_count": null,
      "outputs": []
    },
    {
      "cell_type": "code",
      "source": [
        "#let us get rid of these negative values first \n",
        "pm_wo_attributes2 =pm_wo_attributes[pm_wo_attributes['wotime_diff']>=0]"
      ],
      "metadata": {
        "id": "TMwPhbGKO9Gt"
      },
      "execution_count": null,
      "outputs": []
    },
    {
      "cell_type": "code",
      "source": [
        "pm_wo_attributes2.plot(x='count_pm',y='wotime_diff',kind='scatter')"
      ],
      "metadata": {
        "id": "HqgYypecOeop"
      },
      "execution_count": null,
      "outputs": []
    },
    {
      "cell_type": "code",
      "source": [
        "pm_wo_attributes2.plot(x='meantime_pm',y='wotime_diff',kind='scatter')"
      ],
      "metadata": {
        "id": "a9XUYNGdQ3sc"
      },
      "execution_count": null,
      "outputs": []
    },
    {
      "cell_type": "code",
      "source": [
        "pm_wo_attributes2.describe()"
      ],
      "metadata": {
        "id": "_LzCHpXQRdWK"
      },
      "execution_count": null,
      "outputs": []
    },
    {
      "cell_type": "code",
      "source": [
        "sns.pairplot(pm_wo_attributes2.corr())"
      ],
      "metadata": {
        "id": "TIkNEe_PYbiS"
      },
      "execution_count": null,
      "outputs": []
    },
    {
      "cell_type": "code",
      "source": [
        "Y_pmattributehos1=pm_wo_attributes2['wotime_diff']\n",
        "X_pmattributehos1=pm_wo_attributes2.drop(['Equip.reg_date','dev','ID_y','issued','wotime_diff'],axis=1)\n"
      ],
      "metadata": {
        "id": "9rdUatLZZ73v"
      },
      "execution_count": null,
      "outputs": []
    },
    {
      "cell_type": "code",
      "source": [
        "X_pmattributehos1.shape"
      ],
      "metadata": {
        "id": "BNqD3_mCcBGT"
      },
      "execution_count": null,
      "outputs": []
    },
    {
      "cell_type": "code",
      "source": [
        "X_train_aneshos1_pm, X_test_aneshos1_pm, y_train_aneshos1_pm, y_test_aneshos1_pm = train_test_split(X_pmattributehos1,Y_pmattributehos1, test_size=0.3, random_state=101)"
      ],
      "metadata": {
        "id": "ZsGjosTicWZ3"
      },
      "execution_count": null,
      "outputs": []
    },
    {
      "cell_type": "code",
      "source": [
        "y_test_aneshos1_pm.shape"
      ],
      "metadata": {
        "id": "SIeWN0lSdDdA"
      },
      "execution_count": null,
      "outputs": []
    },
    {
      "cell_type": "code",
      "source": [
        "# creating a regression model\n",
        "model_anes_pmplus = LinearRegression()\n"
      ],
      "metadata": {
        "id": "gghQZZwpdl5V"
      },
      "execution_count": null,
      "outputs": []
    },
    {
      "cell_type": "code",
      "execution_count": null,
      "metadata": {
        "id": "SFadMc5wGhv0"
      },
      "outputs": [],
      "source": [
        "all_data_together.shape"
      ]
    },
    {
      "cell_type": "code",
      "execution_count": null,
      "metadata": {
        "id": "UKI2W6ZgHIoQ"
      },
      "outputs": [],
      "source": [
        "all_data_together.count()"
      ]
    },
    {
      "cell_type": "code",
      "execution_count": null,
      "metadata": {
        "id": "K99NU0XLKuyD"
      },
      "outputs": [],
      "source": [
        "all_data_together.drop(columns=['Model','AOEkKlarDat','first_pm','last_pm','inventarieID'],inplace=True)"
      ]
    },
    {
      "cell_type": "code",
      "execution_count": null,
      "metadata": {
        "id": "UosVaztCL6jU"
      },
      "outputs": [],
      "source": [
        "all_data_together.head(3)"
      ]
    },
    {
      "cell_type": "markdown",
      "metadata": {
        "id": "d7Sx4ClyRPeO"
      },
      "source": [
        "**change equipment register dates outliers by creating new age column then see outliers within the age** but then this will not be an accurate approach"
      ]
    },
    {
      "cell_type": "code",
      "execution_count": null,
      "metadata": {
        "id": "196VwfTPBfBM"
      },
      "outputs": [],
      "source": [
        "all_data_together.describe()"
      ]
    },
    {
      "cell_type": "code",
      "execution_count": null,
      "metadata": {
        "id": "PLo1xFEkDxJP"
      },
      "outputs": [],
      "source": [
        "all_data_together['Equip.reg_date']=pd.to_datetime(all_data_together['Equip.reg_date'])\n",
        "all_data_together['Scrapped_date']=pd.to_datetime(all_data_together['Scrapped_date'])"
      ]
    },
    {
      "cell_type": "code",
      "execution_count": null,
      "metadata": {
        "id": "_mRDRWS6IpM7"
      },
      "outputs": [],
      "source": [
        "all_data_together.head(3)"
      ]
    },
    {
      "cell_type": "markdown",
      "metadata": {
        "id": "2WiRI4LXCYLr"
      },
      "source": [
        "plotting equipment reg date"
      ]
    },
    {
      "cell_type": "code",
      "execution_count": null,
      "metadata": {
        "id": "MP7yDpJHHeVH"
      },
      "outputs": [],
      "source": [
        "all_data_together.plot(x='Equip.reg_date',y='ID_x',kind='scatter',title='different equipment installation date over years against equipment ID')"
      ]
    },
    {
      "cell_type": "markdown",
      "metadata": {
        "id": "Eos6mu9HUQgF"
      },
      "source": [
        "will try to check for the number of samples which has outlier values"
      ]
    },
    {
      "cell_type": "markdown",
      "metadata": {
        "id": "apaaJ32jXU3o"
      },
      "source": [
        "this nearly 3000 samples of data as outliers "
      ]
    },
    {
      "cell_type": "code",
      "execution_count": null,
      "metadata": {
        "id": "Kq1uooMnTAEA"
      },
      "outputs": [],
      "source": [
        "no_outlier=all_data_together.loc[all_data_together['Equip.reg_date']>='1980-01-01']"
      ]
    },
    {
      "cell_type": "code",
      "execution_count": null,
      "metadata": {
        "id": "rSM5pwMnW2iB"
      },
      "outputs": [],
      "source": [
        "no_outlier.shape"
      ]
    },
    {
      "cell_type": "markdown",
      "metadata": {
        "id": "dsCpsf-XY-IR"
      },
      "source": []
    },
    {
      "cell_type": "code",
      "execution_count": null,
      "metadata": {
        "id": "pcMnYn_nYyp0"
      },
      "outputs": [],
      "source": [
        "yes_outlier=all_data_together.loc[all_data_together['Equip.reg_date']<='1980-01-01']"
      ]
    },
    {
      "cell_type": "code",
      "execution_count": null,
      "metadata": {
        "id": "k-HFBUITZeFd"
      },
      "outputs": [],
      "source": [
        "yes_outlier.shape"
      ]
    },
    {
      "cell_type": "code",
      "execution_count": null,
      "metadata": {
        "id": "7gs7dXFnZnTv"
      },
      "outputs": [],
      "source": [
        "yes_outlier"
      ]
    },
    {
      "cell_type": "markdown",
      "metadata": {
        "id": "bsD0fGUnZ5D4"
      },
      "source": [
        "we have to remove duplicates from these data\n",
        "the function in pandas to do this is (drop_duplicates), it takes subset as the column to check for duplicates in and takes keep argument to choose first or last row to keep in case if found duplicates. "
      ]
    },
    {
      "cell_type": "code",
      "execution_count": null,
      "metadata": {
        "id": "SWFdPhkFaDd8"
      },
      "outputs": [],
      "source": [
        "no_outlier.drop_duplicates(subset='ID_x',keep='last',inplace=True)"
      ]
    },
    {
      "cell_type": "code",
      "execution_count": null,
      "metadata": {
        "id": "QCHsURcfeA83"
      },
      "outputs": [],
      "source": [
        "no_outlier.shape"
      ]
    },
    {
      "cell_type": "markdown",
      "metadata": {
        "id": "Cnfzi1f4eOr2"
      },
      "source": [
        "as you can see after removing duplicates data due to having many work order or pm activity for the same device , this is the real data remaining 20,921 samples"
      ]
    },
    {
      "cell_type": "code",
      "source": [
        "# Defining the Input layer and FIRST hidden layer, both are same!\n",
        "model_mix.add(Dense(units=5, input_dim=5, kernel_initializer='normal', activation='sigmoid'))\n",
        "#Defining the Second layer of the model\n",
        "# after the first layer we don't have to specify input_dim as keras configure it automatically\n",
        "model_mix.add(Dense(units=5, kernel_initializer='normal', activation='relu'))\n",
        "\n",
        "# The output neuron is a single fully connected node \n",
        "# Since we will be predicting a single number\n",
        "model_mix.add(Dense(1, kernel_initializer='normal'))\n",
        "\n",
        "# Compiling the model\n",
        "model_mix.compile(loss='mean_absolute_error', optimizer='adam')\n",
        "\n",
        "# Fitting the ANN to the Training set\n",
        "model_mix.fit(X_train_aneshos1_pm_ann,y_train_aneshos1_pm_ann,batch_size = 10, epochs =100, verbose=1)"
      ],
      "metadata": {
        "id": "zWGB4Cp8zBff"
      },
      "execution_count": null,
      "outputs": []
    },
    {
      "cell_type": "code",
      "source": [
        "model_ann = Sequential()\n"
      ],
      "metadata": {
        "id": "027V4fkpYzR8"
      },
      "execution_count": null,
      "outputs": []
    },
    {
      "cell_type": "code",
      "source": [
        "# Defining the Input layer and FIRST hidden layer, both are same!\n",
        "model_ann.add(Dense(units=5, input_dim=5, kernel_initializer='normal', activation='relu'))\n",
        "#Defining the Second layer of the model\n",
        "# after the first layer we don't have to specify input_dim as keras configure it automatically\n",
        "model_ann.add(Dense(units=5, kernel_initializer='normal', activation='relu'))\n",
        "\n",
        "# The output neuron is a single fully connected node \n",
        "# Since we will be predicting a single number\n",
        "model_ann.add(Dense(1, kernel_initializer='normal'))\n",
        "\n",
        "# Compiling the model\n",
        "model_ann.compile(loss='mean_absolute_error', optimizer='adam')\n",
        "\n",
        "# Fitting the ANN to the Training set\n",
        "model_ann.fit(X_train_aneshos1_pm_ann,y_train_aneshos1_pm_ann,batch_size = 10, epochs = 100, verbose=1)"
      ],
      "metadata": {
        "id": "sUaKa5UeZPwP"
      },
      "execution_count": null,
      "outputs": []
    },
    {
      "cell_type": "code",
      "source": [
        "model_ann_Tanh= Sequential()"
      ],
      "metadata": {
        "id": "6zmm7VmNhoqf"
      },
      "execution_count": null,
      "outputs": []
    },
    {
      "cell_type": "code",
      "source": [
        "# Defining the Input layer and FIRST hidden layer, both are same!\n",
        "model_ann_Tanh.add(Dense(units=5, input_dim=5, kernel_initializer='normal', activation='tanh'))\n",
        "#Defining the Second layer of the model\n",
        "# after the first layer we don't have to specify input_dim as keras configure it automatically\n",
        "model_ann_Tanh.add(Dense(units=5, kernel_initializer='normal', activation='tanh'))\n",
        "\n",
        "# The output neuron is a single fully connected node \n",
        "# Since we will be predicting a single number\n",
        "model_ann_Tanh.add(Dense(1, kernel_initializer='normal'))\n",
        "\n",
        "# Compiling the model\n",
        "model_ann_Tanh.compile(loss='mean_absolute_error', optimizer='adam')\n",
        "\n",
        "# Fitting the ANN to the Training set\n",
        "model_ann_Tanh.fit(X_train_aneshos1_pm_ann,y_train_aneshos1_pm_ann,batch_size = 10, epochs =40, verbose=1)"
      ],
      "metadata": {
        "id": "wq5VtnyBh24x"
      },
      "execution_count": null,
      "outputs": []
    },
    {
      "cell_type": "code",
      "source": [
        "model_sigmo=Sequential()"
      ],
      "metadata": {
        "id": "txUPtp9T1w17"
      },
      "execution_count": null,
      "outputs": []
    },
    {
      "cell_type": "code",
      "source": [
        "# Defining the Input layer and FIRST hidden layer, both are same!\n",
        "model_ann.add(Dense(units=5, input_dim=5, kernel_initializer='normal', activation='sigmoid'))\n",
        "#Defining the Second layer of the model\n",
        "# after the first layer we don't have to specify input_dim as keras configure it automatically\n",
        "model_ann_Tanh.add(Dense(units=5, kernel_initializer='normal', activation='sigmoid'))\n",
        "\n",
        "# The output neuron is a single fully connected node \n",
        "# Since we will be predicting a single number\n",
        "model_ann_Tanh.add(Dense(1, kernel_initializer='normal'))\n",
        "\n",
        "# Compiling the model\n",
        "model_ann_Tanh.compile(loss='mean_absolute_error', optimizer='adam')\n",
        "\n",
        "# Fitting the ANN to the Training set\n",
        "model_ann_Tanh.fit(X_train_aneshos1_pm_ann,y_train_aneshos1_pm_ann,batch_size = 10, epochs =40, verbose=1)"
      ],
      "metadata": {
        "id": "nBXepSGR16IM"
      },
      "execution_count": null,
      "outputs": []
    },
    {
      "cell_type": "code",
      "source": [
        "model_mix=Sequential()"
      ],
      "metadata": {
        "id": "lzFaSuI1zIL8"
      },
      "execution_count": null,
      "outputs": []
    },
    {
      "cell_type": "markdown",
      "source": [
        "***ANN Model***"
      ],
      "metadata": {
        "id": "xi-VbzfYgW8W"
      }
    },
    {
      "cell_type": "markdown",
      "source": [
        "# **multiple regression model for anathesia device type by device type**"
      ],
      "metadata": {
        "id": "ZRzoOnMRk76Y"
      }
    },
    {
      "cell_type": "code",
      "source": [],
      "metadata": {
        "id": "ILRN_XZIYAJD"
      },
      "execution_count": null,
      "outputs": []
    },
    {
      "cell_type": "code",
      "source": [],
      "metadata": {
        "id": "LF2_TjbdYAMS"
      },
      "execution_count": null,
      "outputs": []
    },
    {
      "cell_type": "markdown",
      "source": [
        "**starting with *Anestesiarbetsstation* device type**"
      ],
      "metadata": {
        "id": "djaHE1lTqKcC"
      }
    },
    {
      "cell_type": "code",
      "source": [
        "data22.head(3)"
      ],
      "metadata": {
        "id": "5mHqRp9vlGxZ"
      },
      "execution_count": null,
      "outputs": []
    },
    {
      "cell_type": "code",
      "source": [
        "#deciding number of samples\n",
        "data22.count()"
      ],
      "metadata": {
        "id": "GlsHc1Wqk7ch"
      },
      "execution_count": null,
      "outputs": []
    },
    {
      "cell_type": "code",
      "source": [
        "data22.isnull().sum()"
      ],
      "metadata": {
        "id": "ZVvaFfzHqFkN"
      },
      "execution_count": null,
      "outputs": []
    },
    {
      "cell_type": "code",
      "source": [
        "data22['issued']=pd.to_datetime(data22['issued'])"
      ],
      "metadata": {
        "id": "6AaLyr0brS2v"
      },
      "execution_count": null,
      "outputs": []
    },
    {
      "cell_type": "code",
      "source": [
        "data22.head(2)"
      ],
      "metadata": {
        "id": "pmZHV_Cqr3t9"
      },
      "execution_count": null,
      "outputs": []
    },
    {
      "cell_type": "code",
      "source": [
        "data22.issued.value_counts()"
      ],
      "metadata": {
        "id": "63P-Qh8iyiSz"
      },
      "execution_count": null,
      "outputs": []
    },
    {
      "cell_type": "code",
      "source": [
        "type1_anesstation=data22.sort_values(by=\"issued\")"
      ],
      "metadata": {
        "id": "xfzGztJx14q1"
      },
      "execution_count": null,
      "outputs": []
    },
    {
      "cell_type": "code",
      "source": [
        "type1_anesstation.head(2)"
      ],
      "metadata": {
        "id": "EW6EHZU12QbN"
      },
      "execution_count": null,
      "outputs": []
    },
    {
      "cell_type": "code",
      "source": [
        "type1_anesstation.plot(y='inventarieID',x='issued',kind='scatter')"
      ],
      "metadata": {
        "id": "VPn8bFOR2c9j"
      },
      "execution_count": null,
      "outputs": []
    },
    {
      "cell_type": "code",
      "source": [
        "type1_anesstation.plot(y='inventarieID',x='Equip.reg_date',kind='scatter')"
      ],
      "metadata": {
        "id": "HEwGpUqc3z7K"
      },
      "execution_count": null,
      "outputs": []
    },
    {
      "cell_type": "code",
      "source": [
        "#deleting these outliers in wo issuance\n",
        "df1_filtered = type1_anesstation[type1_anesstation['issued'] >='1997-01-01']\n"
      ],
      "metadata": {
        "id": "anZmtgAS3Mzz"
      },
      "execution_count": null,
      "outputs": []
    },
    {
      "cell_type": "code",
      "source": [
        "df1_filtered.head(3)"
      ],
      "metadata": {
        "id": "lQCgZkL9FBoJ"
      },
      "execution_count": null,
      "outputs": []
    },
    {
      "cell_type": "code",
      "source": [
        "df1_filtered.shape"
      ],
      "metadata": {
        "id": "DQ_X4swIFM0J"
      },
      "execution_count": null,
      "outputs": []
    },
    {
      "cell_type": "code",
      "source": [
        "df1_filtered['wotime_diff']=(df1_filtered['issued']-df1_filtered['Equip.reg_date']).dt.days"
      ],
      "metadata": {
        "id": "Chqz9FuXFS97"
      },
      "execution_count": null,
      "outputs": []
    },
    {
      "cell_type": "code",
      "source": [
        "df1_filtered.head(2)"
      ],
      "metadata": {
        "id": "FacLAy7KiBvg"
      },
      "execution_count": null,
      "outputs": []
    },
    {
      "cell_type": "code",
      "source": [
        "#sort values by wotime_diff\n",
        "df1_filtered.sort_values(by='wotime_diff')"
      ],
      "metadata": {
        "id": "mYUsiNC0ihg6"
      },
      "execution_count": null,
      "outputs": []
    },
    {
      "cell_type": "markdown",
      "source": [
        "# **OXYGEN CONCENTRATOR Model after adding more adding pm attributes**"
      ],
      "metadata": {
        "id": "jh5Yq6YdYCrf"
      }
    },
    {
      "cell_type": "code",
      "source": [
        "pm_wo_attributes_oxygen=pd.merge(dataoxyhos1,fin1,left_index=True,right_index=True)"
      ],
      "metadata": {
        "id": "sD6LC662Z-Bc"
      },
      "execution_count": null,
      "outputs": []
    },
    {
      "cell_type": "code",
      "source": [
        "pm_wo_attributes_oxygen.head(3)"
      ],
      "metadata": {
        "id": "2sUaVrTPaPpy"
      },
      "execution_count": null,
      "outputs": []
    },
    {
      "cell_type": "code",
      "source": [
        "pm_wo_attributes_oxygen.shape"
      ],
      "metadata": {
        "id": "nZ0vEWLHan_2"
      },
      "execution_count": null,
      "outputs": []
    },
    {
      "cell_type": "code",
      "source": [
        "pm_wo_attributes_oxygen.drop(columns=['Equip.reg_date','issued','invID','last_pm','first_pm'])"
      ],
      "metadata": {
        "id": "8xuWaJzfasqo"
      },
      "execution_count": null,
      "outputs": []
    },
    {
      "cell_type": "markdown",
      "metadata": {
        "id": "JL-s73_4jLn4"
      },
      "source": [
        "# **Multiple Regression model for Work Orders and Failing time -Anathesia device**"
      ]
    },
    {
      "cell_type": "code",
      "execution_count": null,
      "metadata": {
        "id": "g2sjfp44jLn5"
      },
      "outputs": [],
      "source": [
        "from sklearn import linear_model\n",
        "from sklearn.linear_model import LinearRegression\n",
        "from sklearn.metrics import mean_squared_error, mean_absolute_error\n",
        "from sklearn import preprocessing"
      ]
    },
    {
      "cell_type": "code",
      "execution_count": null,
      "metadata": {
        "id": "ggEFG41XjLn5"
      },
      "outputs": [],
      "source": [
        "data_aneshos1woeq.shape"
      ]
    },
    {
      "cell_type": "code",
      "execution_count": null,
      "metadata": {
        "id": "WdlwCuwOjLn6"
      },
      "outputs": [],
      "source": [
        "data_aneshos1woeq.head(3)"
      ]
    },
    {
      "cell_type": "markdown",
      "metadata": {
        "id": "_d1cttMejLn6"
      },
      "source": [
        "model pre-processing"
      ]
    },
    {
      "cell_type": "markdown",
      "metadata": {
        "id": "KgXjIVavjLn6"
      },
      "source": [
        "we need to create a table which uses issued wo dates to get a number called fail_point in the device age and then use this table as a label for the rows and feed to the regression model as the dependent variable "
      ]
    },
    {
      "cell_type": "markdown",
      "metadata": {
        "id": "cYyzAdh0jLn6"
      },
      "source": [
        "table find difference between fault date and register date "
      ]
    },
    {
      "cell_type": "code",
      "execution_count": null,
      "metadata": {
        "id": "e4VOt_gIjLn7"
      },
      "outputs": [],
      "source": [
        "data_aneshos1woeq['wotime_diff']=(data_aneshos1woeq['issued']-data_aneshos1woeq['Equip.reg_date']).dt.days"
      ]
    },
    {
      "cell_type": "code",
      "execution_count": null,
      "metadata": {
        "id": "V77kHR64jLn7"
      },
      "outputs": [],
      "source": [
        "data_aneshos1woeq.head(12)"
      ]
    },
    {
      "cell_type": "markdown",
      "metadata": {
        "id": "LsWFIL7djLn7"
      },
      "source": [
        "it is not practical for the model to predict certain date and day , it more commonly practices that there is a time window for the decision to be taken ."
      ]
    },
    {
      "cell_type": "code",
      "execution_count": null,
      "metadata": {
        "id": "3DaCfvvAjLn7"
      },
      "outputs": [],
      "source": [
        "data_aneshos1woeq.describe()"
      ]
    },
    {
      "cell_type": "code",
      "execution_count": null,
      "metadata": {
        "id": "4zW_zpA4jLn8"
      },
      "outputs": [],
      "source": [
        "data_aneshos1woeq.corr()"
      ]
    },
    {
      "cell_type": "code",
      "execution_count": null,
      "metadata": {
        "id": "GtQQUEMsjLn8"
      },
      "outputs": [],
      "source": [
        "Y=data_aneshos1woeq['wotime_diff']\n",
        "X=data_aneshos1woeq.drop(['dev','ID_y','issued','Equip.reg_date','wotime_diff','inventarieID'],axis=1)\n"
      ]
    },
    {
      "cell_type": "code",
      "execution_count": null,
      "metadata": {
        "id": "jNp-QPB5jLn8"
      },
      "outputs": [],
      "source": [
        "X.head(3)"
      ]
    },
    {
      "cell_type": "code",
      "execution_count": null,
      "metadata": {
        "id": "UqCeaD-UjLn8"
      },
      "outputs": [],
      "source": [
        "X_train_aneshos1, X_test_aneshos1, y_train_aneshos1, y_test_aneshos1 = train_test_split(\n",
        "    X, Y, test_size=0.3, random_state=101)"
      ]
    },
    {
      "cell_type": "code",
      "source": [
        "y_test_aneshos1"
      ],
      "metadata": {
        "id": "gNuuMV3-jLn9"
      },
      "execution_count": null,
      "outputs": []
    },
    {
      "cell_type": "code",
      "execution_count": null,
      "metadata": {
        "id": "5kfAsHh2jLn9"
      },
      "outputs": [],
      "source": [
        "y_test_aneshos1.head(3)"
      ]
    },
    {
      "cell_type": "code",
      "execution_count": null,
      "metadata": {
        "id": "OwqQEQgBjLn9"
      },
      "outputs": [],
      "source": [
        "# creating a regression model\n",
        "model_anes = LinearRegression()\n"
      ]
    },
    {
      "cell_type": "code",
      "execution_count": null,
      "metadata": {
        "id": "jklUBya1jLn-"
      },
      "outputs": [],
      "source": [
        "model_anes.fit(X_train_aneshos1,y_train_aneshos1)"
      ]
    },
    {
      "cell_type": "code",
      "execution_count": null,
      "metadata": {
        "id": "rK18B8rKjLn-"
      },
      "outputs": [],
      "source": [
        "predictions_anes= model_anes.predict(X_test_aneshos1)\n"
      ]
    },
    {
      "cell_type": "code",
      "execution_count": null,
      "metadata": {
        "id": "x4mUitd6jLn-"
      },
      "outputs": [],
      "source": [
        " predictions_anes"
      ]
    },
    {
      "cell_type": "code",
      "source": [
        "predictions_anes=predictions_anes.round(0)"
      ],
      "metadata": {
        "id": "gAAc4favjLn-"
      },
      "execution_count": null,
      "outputs": []
    },
    {
      "cell_type": "code",
      "source": [
        "predictions_anes.shape"
      ],
      "metadata": {
        "id": "LA2burLVjLn-"
      },
      "execution_count": null,
      "outputs": []
    },
    {
      "cell_type": "code",
      "source": [
        "predictions_anes"
      ],
      "metadata": {
        "id": "Ntzm2JxAjLn_"
      },
      "execution_count": null,
      "outputs": []
    },
    {
      "cell_type": "code",
      "execution_count": null,
      "metadata": {
        "id": "S7xs-WZ2jLn_"
      },
      "outputs": [],
      "source": [
        "con_df=pd.DataFrame(predictions_anes)\n",
        "type(con_df)"
      ]
    },
    {
      "cell_type": "code",
      "execution_count": null,
      "metadata": {
        "id": "cpGt5DjbjLn_"
      },
      "outputs": [],
      "source": [
        "con_df"
      ]
    },
    {
      "cell_type": "code",
      "execution_count": null,
      "metadata": {
        "id": "x18A15scjLn_"
      },
      "outputs": [],
      "source": [
        "# model evaluation\n",
        "print(\n",
        "'mean_squared_error : ', mean_squared_error(y_test_aneshos1, predictions_anes))\n",
        "print(\n",
        "'mean_absolute_error : ', mean_absolute_error(y_test_aneshos1, predictions_anes))\n"
      ]
    },
    {
      "cell_type": "markdown",
      "metadata": {
        "id": "LoP-WpSycYe3"
      },
      "source": [
        "# **Connecting pm history data with wo data and equipment tables**"
      ]
    },
    {
      "cell_type": "code",
      "execution_count": null,
      "metadata": {
        "id": "ydYZ9Nozcr56"
      },
      "outputs": [],
      "source": [
        "inner_merge_pmhistwithwo = pd.merge(inner_merged_total_WO,fin1,left_index=True, right_index=True)"
      ]
    },
    {
      "cell_type": "code",
      "execution_count": null,
      "metadata": {
        "id": "n8mvwXmx9qgJ"
      },
      "outputs": [],
      "source": []
    },
    {
      "cell_type": "markdown",
      "source": [
        "# **processing data with the new ideas**"
      ],
      "metadata": {
        "id": "dOETptaB3Mzb"
      }
    },
    {
      "cell_type": "code",
      "source": [
        "all_data_together.head(3)"
      ],
      "metadata": {
        "id": "ZY1tGKVI3iHJ"
      },
      "execution_count": null,
      "outputs": []
    },
    {
      "cell_type": "markdown",
      "source": [
        "we need to avoid having the same numbers of workorders and meantime between work orders in all device samples , we need to do this by creating unique data for the device each time the wo happens to help the model learn more about age and meantime of each issued work order alone ."
      ],
      "metadata": {
        "id": "AN16TSqM5YB1"
      }
    },
    {
      "cell_type": "code",
      "source": [],
      "metadata": {
        "id": "3CUAFpIe53m7"
      },
      "execution_count": null,
      "outputs": []
    },
    {
      "cell_type": "markdown",
      "metadata": {
        "id": "iedG5KOZTsJq"
      },
      "source": [
        "# **Oxygenkoncentrator**\n"
      ]
    },
    {
      "cell_type": "code",
      "execution_count": null,
      "metadata": {
        "id": "pP9AmD2SUXGm"
      },
      "outputs": [],
      "source": [
        "\n",
        "all_data_together1_oxygen=no_outlier.query(\"dev == 'Oxygenkoncentrator stationär'\")\n"
      ]
    },
    {
      "cell_type": "code",
      "execution_count": null,
      "metadata": {
        "id": "I-7nbzmDVgnb"
      },
      "outputs": [],
      "source": [
        "all_data_together1_oxygen.shape"
      ]
    },
    {
      "cell_type": "markdown",
      "metadata": {
        "id": "0xO20Rb2R8QA"
      },
      "source": [
        "based on the different work order no. the device main data remains the same across different work orders , so we need to take out any identical data for the same device by comparing records together in all columns and get unique sets of devices with unique inventarieID for each one."
      ]
    },
    {
      "cell_type": "code",
      "execution_count": null,
      "metadata": {
        "id": "B1D0KwE6XqZE"
      },
      "outputs": [],
      "source": [
        "Testa1=all_data_together1_oxygen.drop_duplicates(subset='ID_x')"
      ]
    },
    {
      "cell_type": "code",
      "execution_count": null,
      "metadata": {
        "id": "U4RqCaNyRa5V"
      },
      "outputs": [],
      "source": [
        "Testa1.shape"
      ]
    },
    {
      "cell_type": "code",
      "execution_count": null,
      "metadata": {
        "id": "ul54NOpUcYL6"
      },
      "outputs": [],
      "source": [
        "Testa1.head(3)"
      ]
    },
    {
      "cell_type": "markdown",
      "metadata": {
        "id": "UR0Hvv41Q5m1"
      },
      "source": [
        "age of device new column by converting dates into datetime objects"
      ]
    },
    {
      "cell_type": "code",
      "execution_count": null,
      "metadata": {
        "id": "y2lvG9ZIRBET"
      },
      "outputs": [],
      "source": [
        "Testa1['Equip.reg_date']=pd.to_datetime(Testa1['Equip.reg_date'])"
      ]
    },
    {
      "cell_type": "code",
      "execution_count": null,
      "metadata": {
        "id": "3nfiT0iMfB2b"
      },
      "outputs": [],
      "source": [
        "Testa1['Scrapped_date']=pd.to_datetime(Testa1['Scrapped_date'])"
      ]
    },
    {
      "cell_type": "code",
      "execution_count": null,
      "metadata": {
        "id": "lcFnNGjdfJQm"
      },
      "outputs": [],
      "source": [
        "Testa1.head(3)"
      ]
    },
    {
      "cell_type": "code",
      "execution_count": null,
      "metadata": {
        "id": "e72xBA4DfhRd"
      },
      "outputs": [],
      "source": [
        "Testa1[\"age\"]=(Testa1[\"Scrapped_date\"]-Testa1[\"Equip.reg_date\"]).dt.days\n"
      ]
    },
    {
      "cell_type": "code",
      "execution_count": null,
      "metadata": {
        "id": "i3P29Q3Zgg-T"
      },
      "outputs": [],
      "source": [
        "Testa1.head(4)"
      ]
    },
    {
      "cell_type": "code",
      "execution_count": null,
      "metadata": {
        "id": "fZgQFoyu5RBT"
      },
      "outputs": [],
      "source": [
        "Testa1.info()"
      ]
    },
    {
      "cell_type": "code",
      "execution_count": null,
      "metadata": {
        "id": "wUhof4l96Cog"
      },
      "outputs": [],
      "source": [
        "Testa1.describe()"
      ]
    },
    {
      "cell_type": "code",
      "execution_count": null,
      "metadata": {
        "id": "MeDFfa6h5ed1"
      },
      "outputs": [],
      "source": [
        "Testa1.corr()"
      ]
    },
    {
      "cell_type": "markdown",
      "metadata": {
        "id": "dN2YIIevO2i4"
      },
      "source": [
        "# Decision tree with oxgen concentrators"
      ]
    },
    {
      "cell_type": "markdown",
      "metadata": {
        "id": "8HqhGBxlO8C5"
      },
      "source": [
        "labeling data based on the meantime between work orders"
      ]
    },
    {
      "cell_type": "code",
      "execution_count": null,
      "metadata": {
        "id": "m1UG8Ze1O4ap"
      },
      "outputs": [],
      "source": [
        "Testa1[\"Label\"]=np.where(Testa1['meantime']<=236,0,1)\n",
        "#0 represents healthy device and 1 represents unhealthy de"
      ]
    },
    {
      "cell_type": "code",
      "execution_count": null,
      "metadata": {
        "id": "fCb2VRs4Z2CI"
      },
      "outputs": [],
      "source": [
        " Y=Testa1[\"Label\"].copy()\n",
        " "
      ]
    },
    {
      "cell_type": "code",
      "execution_count": null,
      "metadata": {
        "id": "06GrKJdSOvP1"
      },
      "outputs": [],
      "source": [
        "Testa1.head(3)"
      ]
    },
    {
      "cell_type": "markdown",
      "metadata": {
        "id": "0O2e6s34RFUA"
      },
      "source": [
        "taking meantime column out before feeding the model"
      ]
    },
    {
      "cell_type": "code",
      "execution_count": null,
      "metadata": {
        "id": "mTpQVq_oRKYj"
      },
      "outputs": [],
      "source": [
        "Testa1.drop(columns=['Equip.reg_date','Scrapped_date','Brand','meantime'],inplace=True)"
      ]
    },
    {
      "cell_type": "code",
      "execution_count": null,
      "metadata": {
        "id": "4pqdZDsnYVPS"
      },
      "outputs": [],
      "source": [
        "Testa1.drop(columns=['ID_x','ID_y','last_wo'],inplace=True)"
      ]
    },
    {
      "cell_type": "code",
      "execution_count": null,
      "metadata": {
        "id": "jz7qyBQ0Y9Ae"
      },
      "outputs": [],
      "source": [
        "Testa1.head(3)"
      ]
    },
    {
      "cell_type": "code",
      "execution_count": null,
      "metadata": {
        "id": "Xq2fXwdcZJhK"
      },
      "outputs": [],
      "source": [
        "Testa1.drop(columns=['dev'],inplace=True)"
      ]
    },
    {
      "cell_type": "code",
      "execution_count": null,
      "metadata": {
        "id": "nr1mnpimZj_I"
      },
      "outputs": [],
      "source": [
        "Testa1.shape"
      ]
    },
    {
      "cell_type": "code",
      "execution_count": null,
      "metadata": {
        "id": "vxVrYa8dZWlx"
      },
      "outputs": [],
      "source": [
        "X=Testa1\n",
        "Y.head(3)"
      ]
    },
    {
      "cell_type": "code",
      "execution_count": null,
      "metadata": {
        "id": "qRWF6hE9bsmr"
      },
      "outputs": [],
      "source": [
        "X_train, X_test, y_train, y_test = train_test_split( \n",
        "          X, Y, test_size = 0.3, random_state = 100)"
      ]
    },
    {
      "cell_type": "code",
      "execution_count": null,
      "metadata": {
        "id": "ALTzwsV3b7EK"
      },
      "outputs": [],
      "source": [
        "X_train.shape\n"
      ]
    },
    {
      "cell_type": "code",
      "execution_count": null,
      "metadata": {
        "id": "40XXLqxUcP5R"
      },
      "outputs": [],
      "source": [
        "y_train.shape"
      ]
    },
    {
      "cell_type": "code",
      "execution_count": null,
      "metadata": {
        "id": "E4fnxayaclcc"
      },
      "outputs": [],
      "source": [
        "clf_gini02 = DecisionTreeClassifier(criterion = \"gini\", random_state = 100,max_depth=5, min_samples_leaf=5)\n"
      ]
    },
    {
      "cell_type": "code",
      "execution_count": null,
      "metadata": {
        "id": "u5imVZpzc4xF"
      },
      "outputs": [],
      "source": [
        "History=clf_gini02.fit(X_train, y_train)"
      ]
    },
    {
      "cell_type": "code",
      "execution_count": null,
      "metadata": {
        "id": "xOQPUvlveH6U"
      },
      "outputs": [],
      "source": [
        "X_test.count()"
      ]
    },
    {
      "cell_type": "code",
      "execution_count": null,
      "metadata": {
        "id": "Pd9B93-LeAFq"
      },
      "outputs": [],
      "source": [
        "y_pred = History.predict(X_test)\n",
        "print(\"Predicted values:\")\n",
        "print(y_pred)"
      ]
    },
    {
      "cell_type": "code",
      "execution_count": null,
      "metadata": {
        "id": "5Dzsnjq6eUmZ"
      },
      "outputs": [],
      "source": [
        "cm = confusion_matrix(y_test, y_pred)"
      ]
    },
    {
      "cell_type": "code",
      "execution_count": null,
      "metadata": {
        "id": "FP02ONc0eeop"
      },
      "outputs": [],
      "source": [
        "disp = ConfusionMatrixDisplay(confusion_matrix=cm)\n",
        "disp.plot(cmap=plt.cm.Blues)\n",
        "plt.gcf().set_size_inches(12,6)\n",
        "plt.xticks(rotation = 90) # Rotates X-Axis Ticks by 45-degrees\n",
        "plt.show()"
      ]
    },
    {
      "cell_type": "markdown",
      "metadata": {
        "id": "dKXCauoM_EUF"
      },
      "source": [
        "# **patient monitor with Decision tree **"
      ]
    },
    {
      "cell_type": "code",
      "execution_count": null,
      "metadata": {
        "id": "14ezYuFs_TUj"
      },
      "outputs": [],
      "source": [
        "all_data_together_pamonitor=no_outlier.query(\"dev == 'Patientmonitor multiparameter'\")\n"
      ]
    },
    {
      "cell_type": "code",
      "execution_count": null,
      "metadata": {
        "id": "HQ0Kp4Aj_uWB"
      },
      "outputs": [],
      "source": [
        "all_data_together_pamonitor.shape"
      ]
    },
    {
      "cell_type": "code",
      "execution_count": null,
      "metadata": {
        "id": "hLIknpHe_z7k"
      },
      "outputs": [],
      "source": [
        "all_data_together_pamonitor.head(3)"
      ]
    },
    {
      "cell_type": "code",
      "execution_count": null,
      "metadata": {
        "id": "XbEFyzxpANfD"
      },
      "outputs": [],
      "source": [
        "testa2=all_data_together_pamonitor.drop_duplicates(subset='ID_x')"
      ]
    },
    {
      "cell_type": "code",
      "execution_count": null,
      "metadata": {
        "id": "_t2aS6CrAgfe"
      },
      "outputs": [],
      "source": [
        "testa2.shape"
      ]
    },
    {
      "cell_type": "code",
      "execution_count": null,
      "metadata": {
        "id": "zbp4LG6YBnYq"
      },
      "outputs": [],
      "source": [
        "testa2['Equip.reg_date']=pd.to_datetime(testa2['Equip.reg_date'])"
      ]
    },
    {
      "cell_type": "code",
      "execution_count": null,
      "metadata": {
        "id": "8ZtnTAAkBnYs"
      },
      "outputs": [],
      "source": [
        "testa2['Scrapped_date']=pd.to_datetime(testa2['Scrapped_date'])"
      ]
    },
    {
      "cell_type": "code",
      "execution_count": null,
      "metadata": {
        "id": "QDnT97NyBnYs"
      },
      "outputs": [],
      "source": [
        "testa2.head(3)"
      ]
    },
    {
      "cell_type": "code",
      "execution_count": null,
      "metadata": {
        "id": "YMh5018ZBnYt"
      },
      "outputs": [],
      "source": [
        "testa2[\"age\"]=(testa2[\"Scrapped_date\"]-testa2[\"Equip.reg_date\"]).dt.days\n"
      ]
    },
    {
      "cell_type": "code",
      "execution_count": null,
      "metadata": {
        "id": "A2xZL963BnYu"
      },
      "outputs": [],
      "source": [
        "testa2.head(4)"
      ]
    },
    {
      "cell_type": "code",
      "execution_count": null,
      "metadata": {
        "id": "c-xtvqlIBnYv"
      },
      "outputs": [],
      "source": [
        "testa2.info()"
      ]
    },
    {
      "cell_type": "code",
      "execution_count": null,
      "metadata": {
        "id": "mmr9YIgyBnYv"
      },
      "outputs": [],
      "source": [
        "testa2.describe()"
      ]
    },
    {
      "cell_type": "code",
      "execution_count": null,
      "metadata": {
        "id": "-c8JJmT7BnYw"
      },
      "outputs": [],
      "source": [
        "testa2.corr()"
      ]
    },
    {
      "cell_type": "code",
      "execution_count": null,
      "metadata": {
        "id": "8VMDXlyw0GxS"
      },
      "outputs": [],
      "source": [
        "testa2[\"Label\"]=np.where(testa2['meantime']<=236,0,1)\n"
      ]
    },
    {
      "cell_type": "code",
      "execution_count": null,
      "metadata": {
        "id": "-a7UZ9un004w"
      },
      "outputs": [],
      "source": [
        " Y=testa2[\"Label\"].copy()\n"
      ]
    },
    {
      "cell_type": "code",
      "execution_count": null,
      "metadata": {
        "id": "hQa8GTSI1CJM"
      },
      "outputs": [],
      "source": [
        "Y.head(3)"
      ]
    },
    {
      "cell_type": "code",
      "execution_count": null,
      "metadata": {
        "id": "F9OcHifh1GsR"
      },
      "outputs": [],
      "source": [
        "testa2.drop(columns=['ID_x','ID_y','meantime'],inplace=True)"
      ]
    },
    {
      "cell_type": "code",
      "execution_count": null,
      "metadata": {
        "id": "I825M3cl1xKU"
      },
      "outputs": [],
      "source": [
        "testa2.head(3)"
      ]
    },
    {
      "cell_type": "code",
      "execution_count": null,
      "metadata": {
        "id": "fsUi5pqe13ts"
      },
      "outputs": [],
      "source": [
        "testa2.drop(columns=['dev','Brand','last_wo','Equip.reg_date','Scrapped_date'])"
      ]
    },
    {
      "cell_type": "code",
      "execution_count": null,
      "metadata": {
        "id": "jJaPixjb3lLc"
      },
      "outputs": [],
      "source": [
        "X01=testa2.drop(columns=['Label','dev','Equip.reg_date','Scrapped_date','Brand','last_wo'])\n",
        "Y01=Y"
      ]
    },
    {
      "cell_type": "code",
      "execution_count": null,
      "metadata": {
        "id": "wWic3rVm3O1o"
      },
      "outputs": [],
      "source": [
        "X_train01, X_test01, y_train01, y_test01 = train_test_split( \n",
        "          X01, Y01, test_size = 0.3, random_state = 100)"
      ]
    },
    {
      "cell_type": "code",
      "execution_count": null,
      "metadata": {
        "id": "oWnA1dnm35TJ"
      },
      "outputs": [],
      "source": [
        "y_train01.head(5)"
      ]
    },
    {
      "cell_type": "code",
      "execution_count": null,
      "metadata": {
        "id": "M08AFUxr4YSL"
      },
      "outputs": [],
      "source": [
        "clf_gini01 = DecisionTreeClassifier(criterion = \"gini\", random_state = 100,max_depth=5, min_samples_leaf=5)\n"
      ]
    },
    {
      "cell_type": "code",
      "execution_count": null,
      "metadata": {
        "id": "p0ILPScc-K1Z"
      },
      "outputs": [],
      "source": [
        "X_train01.head(3)"
      ]
    },
    {
      "cell_type": "code",
      "execution_count": null,
      "metadata": {
        "id": "FW2VdteL4iRZ"
      },
      "outputs": [],
      "source": [
        "History01=clf_gini01.fit(X_train01, y_train01)"
      ]
    },
    {
      "cell_type": "code",
      "execution_count": null,
      "metadata": {
        "id": "wL0TSNch_S1U"
      },
      "outputs": [],
      "source": [
        "y_pred01 = History01.predict(X_test01)\n",
        "print(\"Predicted values:\")\n",
        "print(y_pred01)"
      ]
    },
    {
      "cell_type": "code",
      "execution_count": null,
      "metadata": {
        "id": "cGWSYe1T_-KT"
      },
      "outputs": [],
      "source": [
        "cm01 = confusion_matrix(y_test01, y_pred01)"
      ]
    },
    {
      "cell_type": "code",
      "execution_count": null,
      "metadata": {
        "id": "AErBw84kAISj"
      },
      "outputs": [],
      "source": [
        "disp = ConfusionMatrixDisplay(confusion_matrix=cm01)\n",
        "disp.plot(cmap=plt.cm.Blues)\n",
        "plt.gcf().set_size_inches(8,15)\n",
        "plt.xticks(rotation = 90) # Rotates X-Axis Ticks by 45-degrees\n",
        "plt.show()"
      ]
    },
    {
      "cell_type": "markdown",
      "metadata": {
        "id": "GkNlY3uaAeu3"
      },
      "source": [
        "# **anathesia with decision tree**"
      ]
    },
    {
      "cell_type": "code",
      "execution_count": null,
      "metadata": {
        "id": "BS5dnz8cBoNj"
      },
      "outputs": [],
      "source": [
        "all_data_together.shape"
      ]
    },
    {
      "cell_type": "code",
      "execution_count": null,
      "metadata": {
        "id": "g4UCueAKCLDZ"
      },
      "outputs": [],
      "source": [
        "data2=all_data_together.query(\"dev == 'Anestesiarbetsstation'\")\n",
        "data3=all_data_together.query(\"dev == 'Modul till anestesiarbetsstation'\")\n",
        "data4=all_data_together.query(\"dev == 'Anestesimedelsförgasare, isofluran'\")\n",
        "data5=all_data_together.query(\"dev == 'Anestesimedel Förgasare'\")\n",
        "data6=all_data_together.query(\"dev == 'Anestesiapparat mobil'\")\n",
        "data7=all_data_together.query(\"dev == 'Lungventilator anestesi'\")\n",
        "data_anes = pd.concat([data2, data3, data4, data5, data6, data7], axis=0)\n",
        "data_anes.head(3)"
      ]
    },
    {
      "cell_type": "code",
      "execution_count": null,
      "metadata": {
        "id": "Vg9g6SpjCyLz"
      },
      "outputs": [],
      "source": [
        "data_anes.shape"
      ]
    },
    {
      "cell_type": "code",
      "execution_count": null,
      "metadata": {
        "id": "hpQCRtSwD2Rk"
      },
      "outputs": [],
      "source": [
        "#take out duplicatestesta2=all_data_together_pamonitor.drop_duplicates(subset='ID_x')\n",
        "\n",
        "testa3=data_anes.drop_duplicates(subset='ID_x')"
      ]
    },
    {
      "cell_type": "code",
      "execution_count": null,
      "metadata": {
        "id": "30a9XF1aEP5W"
      },
      "outputs": [],
      "source": [
        "testa3.shape"
      ]
    },
    {
      "cell_type": "code",
      "execution_count": null,
      "metadata": {
        "id": "KozJXUs4I5jK"
      },
      "outputs": [],
      "source": [
        "testa3['Equip.reg_date']=pd.to_datetime(testa3['Equip.reg_date'])"
      ]
    },
    {
      "cell_type": "code",
      "execution_count": null,
      "metadata": {
        "id": "gbyqfNpcI5jL"
      },
      "outputs": [],
      "source": [
        "testa3['Scrapped_date']=pd.to_datetime(testa3['Scrapped_date'])"
      ]
    },
    {
      "cell_type": "code",
      "execution_count": null,
      "metadata": {
        "id": "yCLCUvxGI5jL"
      },
      "outputs": [],
      "source": [
        "testa3.head(3)"
      ]
    },
    {
      "cell_type": "code",
      "execution_count": null,
      "metadata": {
        "id": "2H99GIusI5jM"
      },
      "outputs": [],
      "source": [
        "testa3[\"age\"]=(testa3[\"Scrapped_date\"]-testa3[\"Equip.reg_date\"]).dt.days\n"
      ]
    },
    {
      "cell_type": "code",
      "execution_count": null,
      "metadata": {
        "id": "Ww5Qzk_hI5jM"
      },
      "outputs": [],
      "source": [
        "testa3.head(4)"
      ]
    },
    {
      "cell_type": "code",
      "execution_count": null,
      "metadata": {
        "id": "O1bQIdoKI5jN"
      },
      "outputs": [],
      "source": [
        "testa3.info()"
      ]
    },
    {
      "cell_type": "code",
      "execution_count": null,
      "metadata": {
        "id": "bCQUZBduI5jN"
      },
      "outputs": [],
      "source": [
        "testa3.describe()"
      ]
    },
    {
      "cell_type": "code",
      "execution_count": null,
      "metadata": {
        "id": "_M8NNk2OI5jO"
      },
      "outputs": [],
      "source": [
        "testa3.corr()"
      ]
    },
    {
      "cell_type": "code",
      "execution_count": null,
      "metadata": {
        "id": "2vecyBtfI5jP"
      },
      "outputs": [],
      "source": [
        "testa3[\"Label\"]=np.where(testa3['meantime']>=306,0,1)\n",
        "#0 means there is no problem with the device\n",
        "#1 means there is  a problem with the device\n"
      ]
    },
    {
      "cell_type": "code",
      "execution_count": null,
      "metadata": {
        "id": "ai_c4jFgI5jP"
      },
      "outputs": [],
      "source": [
        " Y=testa3[\"Label\"].copy()\n"
      ]
    },
    {
      "cell_type": "code",
      "execution_count": null,
      "metadata": {
        "id": "YlUO2udKI5jQ"
      },
      "outputs": [],
      "source": [
        "Y.head(3)"
      ]
    },
    {
      "cell_type": "code",
      "execution_count": null,
      "metadata": {
        "id": "vsL2xzEzI5jR"
      },
      "outputs": [],
      "source": [
        "testa3.drop(columns=['dev','Brand','last_wo','Equip.reg_date','Scrapped_date'])"
      ]
    },
    {
      "cell_type": "code",
      "execution_count": null,
      "metadata": {
        "id": "-e0quRvSI5jS"
      },
      "outputs": [],
      "source": [
        "X02=testa3.drop(columns=['Label','dev','Equip.reg_date','Scrapped_date','Brand','last_wo','issued','first_wo'])\n",
        "Y02=Y"
      ]
    },
    {
      "cell_type": "code",
      "execution_count": null,
      "metadata": {
        "id": "xgj6_oUqI5jT"
      },
      "outputs": [],
      "source": [
        "X_train02, X_test02, y_train02, y_test02 = train_test_split( \n",
        "          X02, Y02, test_size = 0.3, random_state = 100)"
      ]
    },
    {
      "cell_type": "code",
      "execution_count": null,
      "metadata": {
        "id": "qRz-SWttI5jT"
      },
      "outputs": [],
      "source": [
        "y_train02.head(5)"
      ]
    },
    {
      "cell_type": "code",
      "execution_count": null,
      "metadata": {
        "id": "ujln6mGpI5jU"
      },
      "outputs": [],
      "source": [
        "clf_gini_ana = DecisionTreeClassifier(criterion = \"gini\", random_state = 100,max_depth=5, min_samples_leaf=5)\n"
      ]
    },
    {
      "cell_type": "code",
      "execution_count": null,
      "metadata": {
        "id": "l6kOHtc9I5jV"
      },
      "outputs": [],
      "source": [
        "X_train02.head(3)"
      ]
    },
    {
      "cell_type": "code",
      "execution_count": null,
      "metadata": {
        "id": "PmCfG_5JI5jV"
      },
      "outputs": [],
      "source": [
        "History02=clf_gini_ana.fit(X_train02, y_train02)"
      ]
    },
    {
      "cell_type": "code",
      "execution_count": null,
      "metadata": {
        "id": "ToDP04lHI5jW"
      },
      "outputs": [],
      "source": [
        "y_pred02 = History02.predict(X_test02)\n",
        "print(\"Predicted values:\")\n",
        "print(y_pred02)"
      ]
    },
    {
      "cell_type": "code",
      "execution_count": null,
      "metadata": {
        "id": "2gcMCYpoI5jW"
      },
      "outputs": [],
      "source": [
        "cm024 = confusion_matrix(y_test02, y_pred02)"
      ]
    },
    {
      "cell_type": "code",
      "execution_count": null,
      "metadata": {
        "id": "A2ji3lD9I5jX"
      },
      "outputs": [],
      "source": [
        "disp = ConfusionMatrixDisplay(confusion_matrix=cm024)\n",
        "disp.plot(cmap=plt.cm.Blues)\n",
        "plt.gcf().set_size_inches(8,15)\n",
        "plt.xticks(rotation = 90) # Rotates X-Axis Ticks by 45-degrees\n",
        "plt.show()"
      ]
    },
    {
      "cell_type": "markdown",
      "metadata": {
        "id": "tm4IEqe9C7Uk"
      },
      "source": [
        "# **Anathesia with Neural networks**"
      ]
    },
    {
      "cell_type": "code",
      "execution_count": null,
      "metadata": {
        "id": "j2KMpdRwDehb"
      },
      "outputs": [],
      "source": [
        "import tensorflow as tf\n",
        "import time\n",
        "import datetime\n",
        "import matplotlib.pyplot as plt\n",
        "from sklearn.metrics import confusion_matrix\n",
        "from sklearn.preprocessing import StandardScaler\n",
        "from sklearn.model_selection import train_test_split\n",
        "from sklearn import metrics\n",
        "from sklearn.covariance import EllipticEnvelope\n",
        "from glob import glob\n",
        "import re\n",
        "import gc\n",
        "import seaborn as sns"
      ]
    },
    {
      "cell_type": "code",
      "execution_count": null,
      "metadata": {
        "id": "nkYuAHQcIGWm"
      },
      "outputs": [],
      "source": [
        "from tensorflow import keras\n"
      ]
    },
    {
      "cell_type": "code",
      "execution_count": null,
      "metadata": {
        "id": "D-KJ6X9NxqEH"
      },
      "outputs": [],
      "source": [
        "from pandas.core.arrays.sparse import dtype\n"
      ]
    },
    {
      "cell_type": "code",
      "execution_count": null,
      "metadata": {
        "id": "PiSXCCDvILhV"
      },
      "outputs": [],
      "source": [
        "from sklearn import preprocessing"
      ]
    },
    {
      "cell_type": "code",
      "execution_count": null,
      "metadata": {
        "id": "0obHgF67C6Uw"
      },
      "outputs": [],
      "source": [
        "labels=['Healthy_device','Unhealthy_device']"
      ]
    },
    {
      "cell_type": "code",
      "execution_count": null,
      "metadata": {
        "id": "6a1UCUGeMCx4"
      },
      "outputs": [],
      "source": [
        "data_anes.head(3)"
      ]
    },
    {
      "cell_type": "code",
      "execution_count": null,
      "metadata": {
        "id": "20t6p1IRNF0m"
      },
      "outputs": [],
      "source": [
        "test_ana=data_anes.drop_duplicates(subset='ID_x')"
      ]
    },
    {
      "cell_type": "code",
      "execution_count": null,
      "metadata": {
        "id": "Mit8Nk2sNM1Q"
      },
      "outputs": [],
      "source": [
        "test_ana.shape"
      ]
    },
    {
      "cell_type": "code",
      "execution_count": null,
      "metadata": {
        "id": "w8-unkx8NghS"
      },
      "outputs": [],
      "source": [
        "test_ana[\"age\"]=(test_ana[\"Scrapped_date\"]-test_ana[\"Equip.reg_date\"]).dt.days\n"
      ]
    },
    {
      "cell_type": "code",
      "execution_count": null,
      "metadata": {
        "id": "hzdFn6kCOh7P"
      },
      "outputs": [],
      "source": [
        "test_ana[\"Label\"]=np.where(test_ana['meantime']>=306,0,1)\n"
      ]
    },
    {
      "cell_type": "code",
      "execution_count": null,
      "metadata": {
        "id": "2wAQFXujN84m"
      },
      "outputs": [],
      "source": [
        "test_ana.shape"
      ]
    },
    {
      "cell_type": "code",
      "execution_count": null,
      "metadata": {
        "id": "pfLV_gWeQaYb"
      },
      "outputs": [],
      "source": [
        "test_ana.head(3)"
      ]
    },
    {
      "cell_type": "code",
      "execution_count": null,
      "metadata": {
        "id": "glKWZLB6QquQ"
      },
      "outputs": [],
      "source": [
        "test_ana.drop(columns=['Equip.reg_date','Scrapped_date','ID_x','dev','Brand','calc.Risk','ID_y','last_wo','meantime'],inplace=True)"
      ]
    },
    {
      "cell_type": "code",
      "execution_count": null,
      "metadata": {
        "id": "Ywvm0Bv9Ryy-"
      },
      "outputs": [],
      "source": [
        "test_ana.head(3)"
      ]
    },
    {
      "cell_type": "markdown",
      "metadata": {
        "id": "pcTqu6CdJN_j"
      },
      "source": [
        "Hyper-parameters and input data"
      ]
    },
    {
      "cell_type": "code",
      "execution_count": null,
      "metadata": {
        "id": "DRynIk43IK3B"
      },
      "outputs": [],
      "source": [
        "training_data = testa3.sample(frac=0.8, random_state=25)\n",
        "testing_data = testa3.drop(training_data.index)\n",
        "\n",
        "print(f\"No.of training examples: {training_data.shape[0]}\")\n",
        "print(f\"No.of testing examples: {testing_data.shape[0]}\")"
      ]
    },
    {
      "cell_type": "code",
      "execution_count": null,
      "metadata": {
        "id": "kSOS_ox2BH1p"
      },
      "outputs": [],
      "source": [
        "X_train=training_data.filter(['calc.Risk','Count_wo','count_pm','meantime_pm','age','label'])"
      ]
    },
    {
      "cell_type": "code",
      "execution_count": null,
      "metadata": {
        "id": "WXfh6ONpC8un"
      },
      "outputs": [],
      "source": [
        "X_train.head(3)"
      ]
    },
    {
      "cell_type": "code",
      "execution_count": null,
      "metadata": {
        "id": "ROqqcGLDWecO"
      },
      "outputs": [],
      "source": [
        "training_data.head()"
      ]
    },
    {
      "cell_type": "code",
      "execution_count": null,
      "metadata": {
        "id": "b8Lup1iD0m7a"
      },
      "outputs": [],
      "source": [
        "model = keras.models.Sequential()\n",
        "model.add(keras.layers.Flatten())\n",
        "model.add(keras.layers.Dense(50, activation=\"sigmoid\"))\n",
        "model.add(keras.layers.Dense(25, activation=\"sigmoid\"))\n",
        "model.add(keras.layers.Dense(2, activation=\"sigmoid\"))"
      ]
    },
    {
      "cell_type": "code",
      "execution_count": null,
      "metadata": {
        "id": "m-Lqyp3c24Tz"
      },
      "outputs": [],
      "source": [
        "keras.backend.clear_session()\n",
        "np.random.seed(60)\n",
        "tf.random.set_seed(50)"
      ]
    },
    {
      "cell_type": "code",
      "execution_count": null,
      "metadata": {
        "id": "SF2NjvCo3In-"
      },
      "outputs": [],
      "source": [
        "model.compile(loss=\"sparse_categorical_crossentropy\",\n",
        "              optimizer=\"sgd\",\n",
        "              metrics=[\"accuracy\"])"
      ]
    },
    {
      "cell_type": "markdown",
      "source": [
        "# **experiment of differntiating issued dates work order 22/11/2022**"
      ],
      "metadata": {
        "id": "Gb1tJJ5sdjUo"
      }
    },
    {
      "cell_type": "code",
      "source": [
        "data_aneshos1woeq.head(10)"
      ],
      "metadata": {
        "id": "lO42fwdriHNe"
      },
      "execution_count": null,
      "outputs": []
    },
    {
      "cell_type": "markdown",
      "source": [
        "will sort by inventaried id and keep it in different new data frame"
      ],
      "metadata": {
        "id": "LKGBrr5UgCbL"
      }
    },
    {
      "cell_type": "code",
      "source": [
        "df_sortinver= data_aneshos1woeq.sort_values(by=['inventarieID','issued'])"
      ],
      "metadata": {
        "id": "G_T8DQf3h0hz"
      },
      "execution_count": null,
      "outputs": []
    },
    {
      "cell_type": "code",
      "source": [
        "df_sortinver.tail(20)"
      ],
      "metadata": {
        "id": "LfI-i7pPj9Qd"
      },
      "execution_count": null,
      "outputs": []
    },
    {
      "cell_type": "code",
      "source": [
        "(df_sortinver.iloc[:,6:6:1]).shape"
      ],
      "metadata": {
        "id": "ARtUR0Ioj52s"
      },
      "execution_count": null,
      "outputs": []
    },
    {
      "cell_type": "code",
      "source": [
        "df_sortinver.iloc[:,5:6:1]"
      ],
      "metadata": {
        "id": "qsQNDZQNlw4r"
      },
      "execution_count": null,
      "outputs": []
    },
    {
      "cell_type": "code",
      "source": [
        "len(df_sortinver)"
      ],
      "metadata": {
        "id": "xQdSWVp8N6-e"
      },
      "execution_count": null,
      "outputs": []
    },
    {
      "cell_type": "markdown",
      "source": [
        "how can we read single value within a column?"
      ],
      "metadata": {
        "id": "v3bSfgcp-1OS"
      }
    },
    {
      "cell_type": "code",
      "source": [
        "(df_sortinver.iloc[2]).Count_wo"
      ],
      "metadata": {
        "id": "OnqhbfO--7Zd"
      },
      "execution_count": null,
      "outputs": []
    },
    {
      "cell_type": "markdown",
      "metadata": {
        "id": "fBDRxDm3pitQ"
      },
      "source": [
        "# **Studies on preventive maintenance activities**"
      ]
    },
    {
      "cell_type": "markdown",
      "metadata": {
        "id": "q80vk5LH2E6n"
      },
      "source": [
        "# **from all data patterns **"
      ]
    },
    {
      "cell_type": "code",
      "execution_count": null,
      "metadata": {
        "id": "Nng_o0Jz2LLw"
      },
      "outputs": [],
      "source": [
        "all_data_together.head(3)"
      ]
    },
    {
      "cell_type": "code",
      "execution_count": null,
      "metadata": {
        "id": "qiesTIIh26NY"
      },
      "outputs": [],
      "source": [
        "all_data_together.shape"
      ]
    },
    {
      "cell_type": "markdown",
      "metadata": {
        "id": "IKVhXM7v3kH5"
      },
      "source": [
        "oxygen concentrators average preventive maintenance data "
      ]
    },
    {
      "cell_type": "markdown",
      "metadata": {
        "id": "zKkj3L5gjn-R"
      },
      "source": [
        "age has strong correlation with count of work orders done , does it has a correlation with meanttime between work orders ?"
      ]
    },
    {
      "cell_type": "code",
      "execution_count": null,
      "metadata": {
        "id": "3iCYfft43qMw"
      },
      "outputs": [],
      "source": [
        "Testa1.describe()"
      ]
    },
    {
      "cell_type": "code",
      "execution_count": null,
      "metadata": {
        "id": "n75j2Fsp6llk"
      },
      "outputs": [],
      "source": [
        "Testa1.corr()"
      ]
    },
    {
      "cell_type": "markdown",
      "metadata": {
        "id": "lKqca0fl6yRi"
      },
      "source": [
        "there is a high correlation between count of workorders and age \n",
        "also there is high correlation between count of pm and meantime between pm\n",
        "-what we are interested is finding \n",
        "1-average time between pm for oxygen concenterators and the average age for these devices?"
      ]
    },
    {
      "cell_type": "markdown",
      "metadata": {
        "id": "nI0N4pit74r_"
      },
      "source": [
        "**average meatime between pm activities for the oxygen concentrators is 5.7 months or 173 days .**"
      ]
    },
    {
      "cell_type": "markdown",
      "metadata": {
        "id": "Z18skH2a8Qb_"
      },
      "source": [
        "**average age for oxygen concentrators is 2329 days or 6.4 years.**"
      ]
    },
    {
      "cell_type": "markdown",
      "metadata": {
        "id": "UhtKhb3d8tFI"
      },
      "source": [
        "**average workorders within life time of an oxygen concentrator is 5 work orders and average meantime between workorders is 242 days or 8 months **"
      ]
    },
    {
      "cell_type": "markdown",
      "metadata": {
        "id": "REw_OmqFB-V8"
      },
      "source": [
        "**we need to select all data which has it pm activities for more than 5.7 months and see if we get more work orders or not ?**"
      ]
    },
    {
      "cell_type": "code",
      "execution_count": null,
      "metadata": {
        "id": "UfR-kAWtCkY4"
      },
      "outputs": [],
      "source": [
        "from numpy.core.multiarray import where\n",
        "Testa1[\"Label_delay\"]=np.where(Testa1['meantime_pm']>=173,1,0)\n"
      ]
    },
    {
      "cell_type": "code",
      "execution_count": null,
      "metadata": {
        "id": "9ZEkKg7sD506"
      },
      "outputs": [],
      "source": [
        "Testa1.head(3)"
      ]
    },
    {
      "cell_type": "code",
      "execution_count": null,
      "metadata": {
        "id": "QIGMGaTA69N7"
      },
      "outputs": [],
      "source": [
        "Testa1.shape"
      ]
    },
    {
      "cell_type": "code",
      "execution_count": null,
      "metadata": {
        "id": "Ipf6Xi2MU3A2"
      },
      "outputs": [],
      "source": [
        "Testa1.Label_delay.value_counts()"
      ]
    },
    {
      "cell_type": "code",
      "execution_count": null,
      "metadata": {
        "id": "f7dVUHfWjDHT"
      },
      "outputs": [],
      "source": [
        "Testa1.corr()"
      ]
    },
    {
      "cell_type": "markdown",
      "metadata": {
        "id": "r8kXpG627qNb"
      },
      "source": [
        "# **PM_His7**"
      ]
    },
    {
      "cell_type": "markdown",
      "metadata": {
        "id": "6It3bwKSkTj3"
      },
      "source": [
        "***glossary for PM-his7 data : ***\n",
        "\n",
        "[blnRecurring] LW: Is scheduled as recurring. Meaning it after the PM is completed, another PM session will be scheduled.\n",
        "      ,[intTimeInterval] LW: The period between the recurring schedules. Related to if bInRecurring is true.\n",
        "      ,[PM_TimeIntervalUnitID] LW: The unit type of the period between the recurring schedules i.e. days, months. bInRecurring is true.\n",
        "      ,[intTimeIntervalRecommended] LW: Is this data populated? It’s the same as [PM_TimeInterval] but what is recommend by the manufacturer.\n",
        "      ,[PM_TimeIntervalUnitIDRecommended] LW: Is this data populated? It’s the same as [PM_TimeIntervalUnitID] but what is recommend by the manufacturer.\n",
        "      ,[intEstimatedPMTimeHours] LW: Estimation of how long the PM will take to perform\n",
        "      ,convert(date,[datLatest]) LW: Latest performed PM.\n",
        "      ,convert(date,[datNext]) LW: The upcoming PM to be performed.\n",
        "      ,[InventarierID] LW: Equipment ID\n",
        "      ,workorderid AS [ArborderID] LW: Work Order ID\n",
        "      ,[blnHiddenPMClock] LW: Not sure, could you give examples of how the data looks?\n",
        "      ,[DeviatingTimeIntervalRecommended] LW: Is this data populated?\n",
        "        ,DATEDIFF(DD,[datLatest],[datCreated]) AS PM_diff LW: The number of days between when the PM should have been performed and when it was performed."
      ]
    },
    {
      "cell_type": "code",
      "execution_count": null,
      "metadata": {
        "id": "x6WaNsZW7qNc"
      },
      "outputs": [],
      "source": [
        "df8=(r\"/content/drive/MyDrive/Thesis_datasets/New-data-SoftPro/Hospitals1/pm_history.csv\")"
      ]
    },
    {
      "cell_type": "code",
      "execution_count": null,
      "metadata": {
        "id": "dNY75fwu7qNd"
      },
      "outputs": [],
      "source": [
        " data8= pd.read_csv(df8,sep=';',header=0)"
      ]
    },
    {
      "cell_type": "code",
      "execution_count": null,
      "metadata": {
        "id": "1u0YmN4q7qNe"
      },
      "outputs": [],
      "source": [
        "data8"
      ]
    },
    {
      "cell_type": "code",
      "execution_count": null,
      "metadata": {
        "id": "U-yDs85O7qNe"
      },
      "outputs": [],
      "source": [
        "data8.isnull().sum()"
      ]
    },
    {
      "cell_type": "code",
      "execution_count": null,
      "metadata": {
        "id": "cvcVRSln7qNg"
      },
      "outputs": [],
      "source": [
        "#dict = {'FUSenaste': 'prevPm',\n",
        "       # 'FUIntNasta': 'nexPm',\n",
        "        #'InkDat':'Equip.reg_date',\n",
        "        #'SkrotDatum':'Scrapped_date',\n",
        "        #'Benamn':'dev',\n",
        "      #'Fabrikat':'Brand',\n",
        "        #'Modell':'Model',\n",
        "        #'intRisktal':'calc.Risk'}"
      ]
    },
    {
      "cell_type": "code",
      "execution_count": null,
      "metadata": {
        "id": "rnRXf2cd7qNh"
      },
      "outputs": [],
      "source": [
        "#fin.rename(columns=dict,inplace=True)"
      ]
    },
    {
      "cell_type": "code",
      "execution_count": null,
      "metadata": {
        "id": "ai1GYugK7qNh"
      },
      "outputs": [],
      "source": [
        "len(data8)"
      ]
    },
    {
      "cell_type": "markdown",
      "metadata": {
        "id": "jOqIgCP67qNi"
      },
      "source": [
        "**substitute scrapped null values with data collection**"
      ]
    },
    {
      "cell_type": "code",
      "execution_count": null,
      "metadata": {
        "id": "972gSjD67qNk"
      },
      "outputs": [],
      "source": [
        "data8.dropna(inplace=True)"
      ]
    },
    {
      "cell_type": "code",
      "execution_count": null,
      "metadata": {
        "id": "NrI-xJKm7qNl"
      },
      "outputs": [],
      "source": [
        "data8.shape"
      ]
    },
    {
      "cell_type": "code",
      "execution_count": null,
      "metadata": {
        "id": "mmeDO7-q_jri"
      },
      "outputs": [],
      "source": [
        "data8"
      ]
    },
    {
      "cell_type": "markdown",
      "metadata": {
        "id": "ewSPlq7Sp20L"
      },
      "source": [
        "loading all preventive maintenance queries again,this time we need to connect those data to specific devices so that we can relate between equipment , age and pm data using inventarierID as a reference \n",
        "\n",
        "---\n",
        "\n"
      ]
    },
    {
      "cell_type": "code",
      "execution_count": null,
      "metadata": {
        "id": "nv9L7yLNWwCs"
      },
      "outputs": [],
      "source": [
        "data8.set_index('InventarierID',inplace=True)"
      ]
    },
    {
      "cell_type": "code",
      "execution_count": null,
      "metadata": {
        "id": "Gh4RNaRIXDqk"
      },
      "outputs": [],
      "source": [
        "data8.head(3)"
      ]
    },
    {
      "cell_type": "code",
      "execution_count": null,
      "metadata": {
        "id": "OwLr94AF12vB"
      },
      "outputs": [],
      "source": [
        "all_pm_fields= pd.merge(eq,data8,left_index=True, right_index=True)"
      ]
    },
    {
      "cell_type": "code",
      "execution_count": null,
      "metadata": {
        "id": "gKisN5ev7ot6"
      },
      "outputs": [],
      "source": [
        "all_pm_fields.head(5)"
      ]
    },
    {
      "cell_type": "code",
      "execution_count": null,
      "metadata": {
        "id": "ZCTIR3J4XzEc"
      },
      "outputs": [],
      "source": [
        "all_pm_fields.shape"
      ]
    },
    {
      "cell_type": "code",
      "execution_count": null,
      "metadata": {
        "id": "Lj88MdJIYKGZ"
      },
      "outputs": [],
      "source": [
        "oxygen=all_pm_fields.query(\"dev=='Anestesiarbetsstation'\")\n",
        "\n"
      ]
    },
    {
      "cell_type": "code",
      "execution_count": null,
      "metadata": {
        "id": "FVtvRFQ6Ygwe"
      },
      "outputs": [],
      "source": [
        "oxygen"
      ]
    },
    {
      "cell_type": "markdown",
      "metadata": {
        "id": "mU6A6rl-r2cy"
      },
      "source": [
        "# **Using Anashesia devices data samples**"
      ]
    },
    {
      "cell_type": "code",
      "execution_count": null,
      "metadata": {
        "id": "4RSqWvTer9ZA"
      },
      "outputs": [],
      "source": [
        "data_anes.head(3)"
      ]
    },
    {
      "cell_type": "markdown",
      "metadata": {
        "id": "PJ-kAvJCwEhB"
      },
      "source": [
        "testa3 are the anestesiarbetsstation"
      ]
    },
    {
      "cell_type": "code",
      "execution_count": null,
      "metadata": {
        "id": "DmlncXy7aspR"
      },
      "outputs": [],
      "source": [
        "testa3.head(2)"
      ]
    },
    {
      "cell_type": "code",
      "execution_count": null,
      "metadata": {
        "id": "nIjZwRfvwuT0"
      },
      "outputs": [],
      "source": [
        "testa3.corr()"
      ]
    },
    {
      "cell_type": "markdown",
      "metadata": {
        "id": "RXmSBBlUzxca"
      },
      "source": [
        "we should plot each two elements correlated with each others"
      ]
    },
    {
      "cell_type": "code",
      "execution_count": null,
      "metadata": {
        "id": "4Ns5ZB720BeF"
      },
      "outputs": [],
      "source": [
        "\n",
        "testa3.hist(figsize=(15,18))"
      ]
    },
    {
      "cell_type": "code",
      "execution_count": null,
      "metadata": {
        "id": "xGG6DJ8GBvHW"
      },
      "outputs": [],
      "source": [
        "testa3.describe()"
      ]
    },
    {
      "cell_type": "code",
      "execution_count": null,
      "metadata": {
        "id": "OVa1GhUBCb6k"
      },
      "outputs": [],
      "source": [
        "testa3.Label.value_counts()"
      ]
    },
    {
      "cell_type": "markdown",
      "metadata": {
        "id": "PxIr9Wu9E6GF"
      },
      "source": [
        "**average meantime between pm activities for anestesia devices is 179 which means 6 months **"
      ]
    },
    {
      "cell_type": "markdown",
      "metadata": {
        "id": "dW9pFnlYNsZ8"
      },
      "source": [
        "average age based on the 50 percentiles 4738 days which is 13 years "
      ]
    },
    {
      "cell_type": "markdown",
      "metadata": {
        "id": "lAZx107-Rng9"
      },
      "source": [
        "I need to put who ever is falling behind this average in different data frame and study what happens when the meantime between pm  goes "
      ]
    },
    {
      "cell_type": "code",
      "execution_count": null,
      "metadata": {
        "id": "CaRmgDxeEk3O"
      },
      "outputs": [],
      "source": [
        "delayed=testa3.loc[testa3['meantime_pm'] >=179]"
      ]
    },
    {
      "cell_type": "code",
      "execution_count": null,
      "metadata": {
        "id": "HNbVVLz6XZLb"
      },
      "outputs": [],
      "source": [
        "delayed"
      ]
    },
    {
      "cell_type": "code",
      "execution_count": null,
      "metadata": {
        "id": "X3Kg1g24mDRK"
      },
      "outputs": [],
      "source": [
        "delayed.corr()"
      ]
    },
    {
      "cell_type": "code",
      "execution_count": null,
      "metadata": {
        "id": "ucQVfvE2luPe"
      },
      "outputs": [],
      "source": [
        "delayed.plot(y='age',x='meantime_pm',kind='scatter')"
      ]
    },
    {
      "cell_type": "code",
      "execution_count": null,
      "metadata": {
        "id": "GHvQnMbrm1RQ"
      },
      "outputs": [],
      "source": [
        "delayed.plot(y='Count_wo',x='meantime_pm',kind='scatter')"
      ]
    },
    {
      "cell_type": "code",
      "execution_count": null,
      "metadata": {
        "id": "x0LI6-qMR63x"
      },
      "outputs": [],
      "source": [
        "delayed.plot(x='meantime_pm',y='Label',kind='scatter')"
      ]
    },
    {
      "cell_type": "markdown",
      "metadata": {
        "id": "inqVzGG-RihX"
      },
      "source": [
        "### **In-time and within range pm activities **"
      ]
    },
    {
      "cell_type": "code",
      "execution_count": null,
      "metadata": {
        "id": "D3q1VdfAMjfP"
      },
      "outputs": [],
      "source": [
        "in_time=testa3.loc[testa3['meantime_pm']<=179]"
      ]
    },
    {
      "cell_type": "code",
      "execution_count": null,
      "metadata": {
        "id": "2EWZgl-7Oz_D"
      },
      "outputs": [],
      "source": [
        "in_time"
      ]
    },
    {
      "cell_type": "code",
      "execution_count": null,
      "metadata": {
        "id": "tXhaW-6mniPM"
      },
      "outputs": [],
      "source": [
        "in_time.plot(y='age',x='meantime_pm',kind='scatter')"
      ]
    },
    {
      "cell_type": "code",
      "execution_count": null,
      "metadata": {
        "id": "Hvn2DnROV6zY"
      },
      "outputs": [],
      "source": [
        "in_time.plot(y='Count_wo',x='meantime_pm',kind='scatter')"
      ]
    },
    {
      "cell_type": "code",
      "execution_count": null,
      "metadata": {
        "id": "JH7fh0PDWb62"
      },
      "outputs": [],
      "source": [
        "in_time.plot(x='meantime_pm',y='Label',kind='scatter')"
      ]
    },
    {
      "cell_type": "markdown",
      "metadata": {
        "id": "Azud0xUnqtCp"
      },
      "source": [
        "### **  Writing python function for processing data blocks**"
      ]
    },
    {
      "cell_type": "code",
      "execution_count": null,
      "metadata": {
        "id": "rPzdr7qYqscG"
      },
      "outputs": [],
      "source": []
    },
    {
      "cell_type": "markdown",
      "metadata": {
        "id": "TlkVcBXWr5mf"
      },
      "source": [
        "# **Hospital 2 **"
      ]
    },
    {
      "cell_type": "markdown",
      "metadata": {
        "id": "fdtVNPIwB-Mc"
      },
      "source": [
        "# **EQ2**"
      ]
    },
    {
      "cell_type": "code",
      "execution_count": null,
      "metadata": {
        "id": "JIetGviqSwzv"
      },
      "outputs": [],
      "source": [
        "initial=(r'/content/drive/MyDrive/Thesis_datasets/New-data-SoftPro/Hospital2/eq2.csv')"
      ]
    },
    {
      "cell_type": "code",
      "execution_count": null,
      "metadata": {
        "id": "_Vpt9zi7C2SD"
      },
      "outputs": [],
      "source": [
        "data9=pd.read_csv(initial,sep=';',names=['InvNr',\t'InkDat',\t'Skrotad',\t'flReplacementCost',\t'flPurchaseCost',\t'SkrotDatum',\t'ID',\t'PMLMaintenanceRequirementID',\t'PMLMissionCriticalID',\t'PMLRiscID',\t'Benamn','Fabrikat',\t'Modell','Handelsnamn','intRisktal',\t'strRiscName',\t'intRiscSeverityLevel',\t'FUSenaste',\t'FUIntNasta','PMLMaintenanceRequirementDescription','PMLMissionCriticalDescription',\t'PMLRiscDescription'])"
      ]
    },
    {
      "cell_type": "code",
      "execution_count": null,
      "metadata": {
        "id": "jKpoxtXlVOWI"
      },
      "outputs": [],
      "source": [
        "data9.shape"
      ]
    },
    {
      "cell_type": "code",
      "execution_count": null,
      "metadata": {
        "id": "sVcOdW_vVUD1"
      },
      "outputs": [],
      "source": [
        "data9.head(4)"
      ]
    },
    {
      "cell_type": "markdown",
      "metadata": {
        "id": "o_WKJ0iXL6Bb"
      },
      "source": [
        "# **pm**"
      ]
    },
    {
      "cell_type": "code",
      "execution_count": null,
      "metadata": {
        "id": "aWGi3PT8L-A3"
      },
      "outputs": [],
      "source": [
        "init3=(r\"/content/drive/MyDrive/Thesis_datasets/New-data-SoftPro/Hospital2/pm.csv\")"
      ]
    },
    {
      "cell_type": "code",
      "execution_count": null,
      "metadata": {
        "id": "wDoOFjV8Q4jM"
      },
      "outputs": [],
      "source": [
        "data10=pd.read_csv(init3,sep=';',parse_dates=True)"
      ]
    },
    {
      "cell_type": "code",
      "execution_count": null,
      "metadata": {
        "id": "bSAF-Wv-Rn1N"
      },
      "outputs": [],
      "source": [
        "data10.head(3)"
      ]
    },
    {
      "cell_type": "markdown",
      "metadata": {
        "id": "_dB0iiWFSAAl"
      },
      "source": []
    },
    {
      "cell_type": "markdown",
      "metadata": {
        "id": "4rNf6cc1YZgK"
      },
      "source": [
        "# **pm-hist**"
      ]
    },
    {
      "cell_type": "code",
      "execution_count": null,
      "metadata": {
        "id": "8Rrne1PjY-t0"
      },
      "outputs": [],
      "source": [
        "inithos_2=(r\"/content/drive/MyDrive/Thesis_datasets/New-data-SoftPro/Hospital2/pm_hist.csv\")"
      ]
    },
    {
      "cell_type": "code",
      "execution_count": null,
      "metadata": {
        "id": "zN4-FgH5Y-t1"
      },
      "outputs": [],
      "source": [
        "pmhist_hosp2=pd.read_csv(inithos_2,sep=';',parse_dates=True)"
      ]
    },
    {
      "cell_type": "code",
      "execution_count": null,
      "metadata": {
        "id": "oZ8ejlWpY-t1"
      },
      "outputs": [],
      "source": [
        "pmhist_hosp2.head(4)"
      ]
    },
    {
      "cell_type": "code",
      "execution_count": null,
      "metadata": {
        "id": "-3ocgCd1YWse"
      },
      "outputs": [],
      "source": []
    },
    {
      "cell_type": "markdown",
      "metadata": {
        "id": "V9oBHTl55H6v"
      },
      "source": [
        "# **Hospital7**"
      ]
    },
    {
      "cell_type": "markdown",
      "metadata": {
        "id": "E9qXSGg65q3d"
      },
      "source": [
        "# **Eq7**"
      ]
    },
    {
      "cell_type": "code",
      "execution_count": null,
      "metadata": {
        "id": "CO8Az9sv5pvL"
      },
      "outputs": [],
      "source": [
        "data11=pd.read_csv('/content/drive/MyDrive/Thesis_datasets/New-data-SoftPro/Hospital7/ks_inv.csv',sep=';',parse_dates=True)"
      ]
    },
    {
      "cell_type": "code",
      "execution_count": null,
      "metadata": {
        "id": "bzAxEM2070Wl"
      },
      "outputs": [],
      "source": [
        "data11.head(3)"
      ]
    },
    {
      "cell_type": "markdown",
      "metadata": {
        "id": "EH90c0LN8kcl"
      },
      "source": [
        "# **Hospital 8**"
      ]
    },
    {
      "cell_type": "markdown",
      "metadata": {
        "id": "hrxQXx6e-IMl"
      },
      "source": [
        "# **EQ8**"
      ]
    },
    {
      "cell_type": "code",
      "execution_count": null,
      "metadata": {
        "id": "GzFbw6c_8oGa"
      },
      "outputs": [],
      "source": [
        "data12=pd.read_csv('/content/drive/MyDrive/Thesis_datasets/New-data-SoftPro/hospital8/nu_inv.csv',sep=';')"
      ]
    },
    {
      "cell_type": "code",
      "execution_count": null,
      "metadata": {
        "id": "Y2FunLBX9_8D"
      },
      "outputs": [],
      "source": [
        "data12.head(3)"
      ]
    },
    {
      "cell_type": "code",
      "execution_count": null,
      "metadata": {
        "id": "pcytT5v4-SFN"
      },
      "outputs": [],
      "source": [
        "data12.shape"
      ]
    },
    {
      "cell_type": "code",
      "execution_count": null,
      "metadata": {
        "id": "_MA8-dIm9_th"
      },
      "outputs": [],
      "source": []
    },
    {
      "cell_type": "markdown",
      "metadata": {
        "id": "JxLdCqTc-ZZA"
      },
      "source": [
        "# **pm**"
      ]
    },
    {
      "cell_type": "code",
      "execution_count": null,
      "metadata": {
        "id": "l12rveCN-gIR"
      },
      "outputs": [],
      "source": [
        "data13=pd.read_csv('/content/drive/MyDrive/Thesis_datasets/New-data-SoftPro/hospital8/nu_pm.csv',sep=';')"
      ]
    },
    {
      "cell_type": "code",
      "execution_count": null,
      "metadata": {
        "id": "2PTbLyoj-uBk"
      },
      "outputs": [],
      "source": [
        "data13.shape"
      ]
    },
    {
      "cell_type": "code",
      "execution_count": null,
      "metadata": {
        "id": "yGFRNk9p-2iS"
      },
      "outputs": [],
      "source": [
        "data13.head(3)"
      ]
    },
    {
      "cell_type": "markdown",
      "metadata": {
        "id": "AokovEG3EcXK"
      },
      "source": [
        "# **Hospital11**"
      ]
    },
    {
      "cell_type": "markdown",
      "metadata": {
        "id": "iDjok7iUEx38"
      },
      "source": [
        "### **EQ11**"
      ]
    },
    {
      "cell_type": "code",
      "execution_count": null,
      "metadata": {
        "id": "mrfNNi2cE1mN"
      },
      "outputs": [],
      "source": [
        "data14=pd.read_csv('/content/drive/MyDrive/Thesis_datasets/New-data-SoftPro/Hospital11/SU_inv.csv',sep=';',parse_dates=True)"
      ]
    },
    {
      "cell_type": "code",
      "execution_count": null,
      "metadata": {
        "id": "gxqL__5SEry3"
      },
      "outputs": [],
      "source": [
        "data14.shape"
      ]
    },
    {
      "cell_type": "code",
      "execution_count": null,
      "metadata": {
        "id": "tw5GWHVWkutz"
      },
      "outputs": [],
      "source": [
        "data14.columns=['InvNr','InkDat','Skrotad','flReplacementCost','flPurchaseCost','SkrotDatum','ID','PMLMaintenanceRequirementID','PMLMissionCriticalID','PMLRiscID','Benamn','Fabrikat','Modell','Handelsnamn','intRisktal','strRiscName','intRiscSeverityLevel','FUSenaste','FUIntNasta','PMLMaintenanceRequirementDescription','PMLMissionCriticalDescription','PMLRiscDescription']"
      ]
    },
    {
      "cell_type": "code",
      "execution_count": null,
      "metadata": {
        "id": "JkUuaKaOnE2b"
      },
      "outputs": [],
      "source": [
        "data14.head(3)"
      ]
    },
    {
      "cell_type": "code",
      "execution_count": null,
      "metadata": {
        "id": "4imJgP2BnHIM"
      },
      "outputs": [],
      "source": [
        "eq_hos11=data14.drop(columns=['intRiscSeverityLevel','Skrotad','flReplacementCost','flPurchaseCost','PMLMaintenanceRequirementID','PMLMissionCriticalID','PMLRiscID','strRiscName','Handelsnamn','PMLMaintenanceRequirementDescription','PMLMissionCriticalDescription','PMLRiscDescription','FUSenaste','FUIntNasta'])"
      ]
    },
    {
      "cell_type": "code",
      "execution_count": null,
      "metadata": {
        "id": "6MGvXNHnok6r"
      },
      "outputs": [],
      "source": [
        "eq_hos11.head(3)"
      ]
    },
    {
      "cell_type": "code",
      "execution_count": null,
      "metadata": {
        "id": "-atrd_Uho1oB"
      },
      "outputs": [],
      "source": [
        "dict3 = {'FUSenaste': 'prevPm',\n",
        "        'FUIntNasta': 'nexPm',\n",
        "        'InkDat':'Equip.reg_date',\n",
        "        'SkrotDatum':'Scrapped_date',\n",
        "        'Benamn':'dev',\n",
        "      'Fabrikat':'Brand',\n",
        "        'Modell':'Model',\n",
        "        'intRisktal':'calc.Risk'}"
      ]
    },
    {
      "cell_type": "code",
      "execution_count": null,
      "metadata": {
        "id": "23U-c11cpD17"
      },
      "outputs": [],
      "source": [
        "eq_hos11.rename(columns=dict,inplace=True)"
      ]
    },
    {
      "cell_type": "code",
      "execution_count": null,
      "metadata": {
        "id": "STXPFAPrpSB0"
      },
      "outputs": [],
      "source": [
        "eq_hos11"
      ]
    },
    {
      "cell_type": "code",
      "execution_count": null,
      "metadata": {
        "id": "MBh6YBOIqyoK"
      },
      "outputs": [],
      "source": [
        "eq_hos11.shape"
      ]
    },
    {
      "cell_type": "code",
      "execution_count": null,
      "metadata": {
        "id": "dI6Nv4E6se7R"
      },
      "outputs": [],
      "source": [
        "eq_hos11.isnull().sum()"
      ]
    },
    {
      "cell_type": "markdown",
      "metadata": {
        "id": "3QzkOD70tBfV"
      },
      "source": [
        "we will try to fill in the calculate risk columns for the devices and for scarpped date with today date."
      ]
    },
    {
      "cell_type": "code",
      "execution_count": null,
      "metadata": {
        "id": "sFqbuGRzupmB"
      },
      "outputs": [],
      "source": [
        "#we need to convert dates into parsed ones and datetime object\n",
        "eq_hos11['Equip.reg_date']=pd.to_datetime(eq_hos11['Equip.reg_date'])\n",
        "eq_hos11['Scrapped_date']=pd.to_datetime(eq_hos11['Scrapped_date'])"
      ]
    },
    {
      "cell_type": "markdown",
      "metadata": {
        "id": "bjVUbJfe3tvK"
      },
      "source": [
        "adding scrapped_date to the july last date as this the time when we got htis data and scrapped date refers to in service functioning devices\n",
        "12 july 2022"
      ]
    },
    {
      "cell_type": "code",
      "execution_count": null,
      "metadata": {
        "id": "Z-4QDJjO4a8f"
      },
      "outputs": [],
      "source": [
        "eq_hos11['Scrapped_date'].fillna('2022-07-23',inplace=True)"
      ]
    },
    {
      "cell_type": "code",
      "execution_count": null,
      "metadata": {
        "id": "gWx6E4T55pTW"
      },
      "outputs": [],
      "source": [
        "eq_hos11.isnull().sum()"
      ]
    },
    {
      "cell_type": "code",
      "execution_count": null,
      "metadata": {
        "id": "SKmgCAhN5_PY"
      },
      "outputs": [],
      "source": [
        "eq_hos11['calc.Risk'].fillna('20',inplace=True)"
      ]
    },
    {
      "cell_type": "code",
      "execution_count": null,
      "metadata": {
        "id": "IIYEQRpquD4C"
      },
      "outputs": [],
      "source": [
        "eq_hos11.isnull().sum()"
      ]
    },
    {
      "cell_type": "code",
      "execution_count": null,
      "metadata": {
        "id": "Xu2fx5NlqAdt"
      },
      "outputs": [],
      "source": [
        "eq_hos11.dropna(inplace=True)"
      ]
    },
    {
      "cell_type": "code",
      "execution_count": null,
      "metadata": {
        "id": "O0NT8Wv-paq7"
      },
      "outputs": [],
      "source": [
        "eq_hos11.shape"
      ]
    },
    {
      "cell_type": "markdown",
      "metadata": {
        "id": "T4rU_n2XDvBJ"
      },
      "source": [
        "**pm_history**"
      ]
    },
    {
      "cell_type": "code",
      "execution_count": null,
      "metadata": {
        "id": "oWCvb1NVDzuh"
      },
      "outputs": [],
      "source": [
        "pm_hist=pd.read_csv('/content/drive/MyDrive/Thesis_datasets/New-data-SoftPro/Hospital11/su_pm_hist.csv', sep=';')"
      ]
    },
    {
      "cell_type": "code",
      "execution_count": null,
      "metadata": {
        "id": "AVJISUbi-2dp"
      },
      "outputs": [],
      "source": [
        "pm_hist.shape"
      ]
    },
    {
      "cell_type": "code",
      "execution_count": null,
      "metadata": {
        "id": "IUPP6vrRERyz"
      },
      "outputs": [],
      "source": [
        "pm_hist.head(3)"
      ]
    },
    {
      "cell_type": "markdown",
      "metadata": {
        "id": "kXhpI68DFoBx"
      },
      "source": [
        "### **pm**"
      ]
    },
    {
      "cell_type": "code",
      "execution_count": null,
      "metadata": {
        "id": "gHust0FMFtrm"
      },
      "outputs": [],
      "source": [
        "pm=pd.read_csv('/content/drive/MyDrive/Thesis_datasets/New-data-SoftPro/Hospital11/su_pm.csv',sep=';')"
      ]
    },
    {
      "cell_type": "code",
      "execution_count": null,
      "metadata": {
        "id": "KgcOtK3SF5tH"
      },
      "outputs": [],
      "source": [
        "pm.shape"
      ]
    },
    {
      "cell_type": "code",
      "execution_count": null,
      "metadata": {
        "id": "qbzwI5pAF83i"
      },
      "outputs": [],
      "source": [
        "pm.head(3)"
      ]
    },
    {
      "cell_type": "code",
      "execution_count": null,
      "metadata": {
        "id": "YpBqP5zXRJv7"
      },
      "outputs": [],
      "source": [
        "pm.columns=['Id','EquipmentId','NextPM','LastPM','Interval','IsRecurring']"
      ]
    },
    {
      "cell_type": "markdown",
      "metadata": {
        "id": "QKi3doIQGQlX"
      },
      "source": [
        "**pm-overdue**"
      ]
    },
    {
      "cell_type": "code",
      "execution_count": null,
      "metadata": {
        "id": "fl72MlE8GXFX"
      },
      "outputs": [],
      "source": [
        "pm_over=pd.read_csv('/content/drive/MyDrive/Thesis_datasets/New-data-SoftPro/Hospital11/su_pm_overdue.csv',sep=';')"
      ]
    },
    {
      "cell_type": "code",
      "execution_count": null,
      "metadata": {
        "id": "9ozN9lHIGhrL"
      },
      "outputs": [],
      "source": [
        "pm_over.shape"
      ]
    },
    {
      "cell_type": "code",
      "execution_count": null,
      "metadata": {
        "id": "hftkceHVGwBm"
      },
      "outputs": [],
      "source": [
        "pm_over.head(3)"
      ]
    },
    {
      "cell_type": "markdown",
      "metadata": {
        "id": "sAHzVK9EHaFT"
      },
      "source": [
        "### **pmdata**"
      ]
    },
    {
      "cell_type": "code",
      "execution_count": null,
      "metadata": {
        "id": "9OQmQgFZHktx"
      },
      "outputs": [],
      "source": [
        "pmdata=pd.read_csv('/content/drive/MyDrive/Thesis_datasets/New-data-SoftPro/Hospital11/su_pmdata.csv',sep=';',names=['invID','last_pm','first_pm','count_pm','meantime_pm'])"
      ]
    },
    {
      "cell_type": "code",
      "execution_count": null,
      "metadata": {
        "id": "HPkocO8VHOzo"
      },
      "outputs": [],
      "source": [
        "pmdata.shape"
      ]
    },
    {
      "cell_type": "code",
      "execution_count": null,
      "metadata": {
        "id": "7XkDDRbRHywG"
      },
      "outputs": [],
      "source": [
        "pmdata.head(4)"
      ]
    },
    {
      "cell_type": "code",
      "execution_count": null,
      "metadata": {
        "id": "G6UhHWrEUP52"
      },
      "outputs": [],
      "source": [
        "pmdata.isnull().sum()\n",
        "\n",
        "pmdata.set_index('invID',drop=False,inplace=True)\n",
        "\n",
        "pmdata.head(3)"
      ]
    },
    {
      "cell_type": "markdown",
      "metadata": {
        "id": "27AovULMuRL4"
      },
      "source": [
        "# **PM-His7**"
      ]
    },
    {
      "cell_type": "markdown",
      "metadata": {
        "id": "NRvLmZOZuBEO"
      },
      "source": [
        "***glossary for PM-his7 data : ***\n",
        "\n",
        "[blnRecurring] LW: Is scheduled as recurring. Meaning it after the PM is completed, another PM session will be scheduled.\n",
        "      ,[intTimeInterval] LW: The period between the recurring schedules. Related to if bInRecurring is true.\n",
        "      ,[PM_TimeIntervalUnitID] LW: The unit type of the period between the recurring schedules i.e. days, months. bInRecurring is true.\n",
        "      ,[intTimeIntervalRecommended] LW: Is this data populated? It’s the same as [PM_TimeInterval] but what is recommend by the manufacturer.\n",
        "      ,[PM_TimeIntervalUnitIDRecommended] LW: Is this data populated? It’s the same as [PM_TimeIntervalUnitID] but what is recommend by the manufacturer.\n",
        "      ,[intEstimatedPMTimeHours] LW: Estimation of how long the PM will take to perform\n",
        "      ,convert(date,[datLatest]) LW: Latest performed PM.\n",
        "      ,convert(date,[datNext]) LW: The upcoming PM to be performed.\n",
        "      ,[InventarierID] LW: Equipment ID\n",
        "      ,workorderid AS [ArborderID] LW: Work Order ID\n",
        "      ,[blnHiddenPMClock] LW: Not sure, could you give examples of how the data looks?\n",
        "      ,[DeviatingTimeIntervalRecommended] LW: Is this data populated?\n",
        "        ,DATEDIFF(DD,[datLatest],[datCreated]) AS PM_diff LW: The number of days between when the PM should have been performed and when it was performed."
      ]
    },
    {
      "cell_type": "code",
      "execution_count": null,
      "metadata": {
        "id": "VYP5w9yMuBEQ"
      },
      "outputs": [],
      "source": [
        "df15=(r\"/content/drive/MyDrive/Thesis_datasets/New-data-SoftPro/Hospital11/su_pm_hist.csv\")"
      ]
    },
    {
      "cell_type": "code",
      "execution_count": null,
      "metadata": {
        "id": "5IQkiNaluBEQ"
      },
      "outputs": [],
      "source": [
        " data15= pd.read_csv(df15,sep=';',header=0)"
      ]
    },
    {
      "cell_type": "code",
      "execution_count": null,
      "metadata": {
        "id": "46Ii44LzuBER"
      },
      "outputs": [],
      "source": [
        "data15"
      ]
    },
    {
      "cell_type": "code",
      "execution_count": null,
      "metadata": {
        "id": "BEo6XR1muBES"
      },
      "outputs": [],
      "source": [
        "data8.isnull().sum()"
      ]
    },
    {
      "cell_type": "code",
      "execution_count": null,
      "metadata": {
        "id": "L1Q0nKE5uBES"
      },
      "outputs": [],
      "source": [
        "#dict = {'FUSenaste': 'prevPm',\n",
        "       # 'FUIntNasta': 'nexPm',\n",
        "        #'InkDat':'Equip.reg_date',\n",
        "        #'SkrotDatum':'Scrapped_date',\n",
        "        #'Benamn':'dev',\n",
        "      #'Fabrikat':'Brand',\n",
        "        #'Modell':'Model',\n",
        "        #'intRisktal':'calc.Risk'}"
      ]
    },
    {
      "cell_type": "code",
      "execution_count": null,
      "metadata": {
        "id": "9bmTQL5QuBET"
      },
      "outputs": [],
      "source": [
        "#fin.rename(columns=dict,inplace=True)"
      ]
    },
    {
      "cell_type": "code",
      "execution_count": null,
      "metadata": {
        "id": "ZSn-NW9zuBEU"
      },
      "outputs": [],
      "source": [
        "len(data8)"
      ]
    },
    {
      "cell_type": "code",
      "execution_count": null,
      "metadata": {
        "id": "VWEePLVjuBEU"
      },
      "outputs": [],
      "source": [
        "data8.dropna(inplace=True)"
      ]
    },
    {
      "cell_type": "code",
      "execution_count": null,
      "metadata": {
        "id": "g5CGUScMuBEV"
      },
      "outputs": [],
      "source": [
        "data8.shape"
      ]
    },
    {
      "cell_type": "code",
      "execution_count": null,
      "metadata": {
        "id": "DW4eCxdruBEV"
      },
      "outputs": [],
      "source": [
        "data8"
      ]
    },
    {
      "cell_type": "code",
      "execution_count": null,
      "metadata": {
        "id": "8-sLjwg3uBEW"
      },
      "outputs": [],
      "source": [
        "data8.set_index('InventarierID',inplace=True)"
      ]
    },
    {
      "cell_type": "code",
      "execution_count": null,
      "metadata": {
        "id": "c2Lfo2rIuBEW"
      },
      "outputs": [],
      "source": [
        "data8.head(3)"
      ]
    },
    {
      "cell_type": "code",
      "execution_count": null,
      "metadata": {
        "id": "IXnfgAnouBEX"
      },
      "outputs": [],
      "source": [
        "all_pm_fields= pd.merge(eq,data8,left_index=True, right_index=True)"
      ]
    },
    {
      "cell_type": "code",
      "execution_count": null,
      "metadata": {
        "id": "N84jII78uBEX"
      },
      "outputs": [],
      "source": [
        "all_pm_fields.head(5)"
      ]
    },
    {
      "cell_type": "code",
      "execution_count": null,
      "metadata": {
        "id": "gPpf1u9iuBEY"
      },
      "outputs": [],
      "source": [
        "all_pm_fields.shape"
      ]
    },
    {
      "cell_type": "markdown",
      "metadata": {
        "id": "qhv729EXIN61"
      },
      "source": [
        "### **wo**"
      ]
    },
    {
      "cell_type": "code",
      "execution_count": null,
      "metadata": {
        "id": "PSQ-Vn94IS90"
      },
      "outputs": [],
      "source": [
        "data16=pd.read_csv('/content/drive/MyDrive/Thesis_datasets/New-data-SoftPro/Hospital11/su_wo.csv',sep=';',names=['ID','issued','Completed','fin_com','InventarieID'])"
      ]
    },
    {
      "cell_type": "code",
      "execution_count": null,
      "metadata": {
        "id": "-LmFIqaiV5Fl"
      },
      "outputs": [],
      "source": [
        "data16.head(3)"
      ]
    },
    {
      "cell_type": "code",
      "execution_count": null,
      "metadata": {
        "id": "sV-9L9GfV5Fm"
      },
      "outputs": [],
      "source": [
        "data16.isnull().sum()"
      ]
    },
    {
      "cell_type": "code",
      "execution_count": null,
      "metadata": {
        "id": "RaDLityoV5Fn"
      },
      "outputs": [],
      "source": [
        "data16.set_index('InventarieID',inplace=True,drop=False)"
      ]
    },
    {
      "cell_type": "code",
      "execution_count": null,
      "metadata": {
        "id": "TgAdzTmGV5Fo"
      },
      "outputs": [],
      "source": [
        "data16.head(3)"
      ]
    },
    {
      "cell_type": "code",
      "execution_count": null,
      "metadata": {
        "id": "jFqbRff3IDbQ"
      },
      "outputs": [],
      "source": [
        "data16.shape"
      ]
    },
    {
      "cell_type": "markdown",
      "metadata": {
        "id": "M_PowYOqIw3f"
      },
      "source": [
        "### **wodata**"
      ]
    },
    {
      "cell_type": "code",
      "execution_count": null,
      "metadata": {
        "id": "aY-Y6oXAI8ad"
      },
      "outputs": [],
      "source": [
        "wodata=pd.read_csv('/content/drive/MyDrive/Thesis_datasets/New-data-SoftPro/Hospital11/su_wodata.csv',sep=';',names=['inventarieID','last_wo','first_wo','Count_wo','meantime'])"
      ]
    },
    {
      "cell_type": "code",
      "execution_count": null,
      "metadata": {
        "id": "p2p8k3etXRz8"
      },
      "outputs": [],
      "source": [
        "wodata.head(3)"
      ]
    },
    {
      "cell_type": "code",
      "execution_count": null,
      "metadata": {
        "id": "iqsuWnIxXRz9"
      },
      "outputs": [],
      "source": [
        "wodata.shape"
      ]
    },
    {
      "cell_type": "code",
      "execution_count": null,
      "metadata": {
        "id": "wbYgaXkJXRz-"
      },
      "outputs": [],
      "source": [
        "wodata.set_index('inventarieID',inplace=True,drop=False)"
      ]
    },
    {
      "cell_type": "code",
      "execution_count": null,
      "metadata": {
        "id": "jUKABBlKXRz_"
      },
      "outputs": [],
      "source": [
        "wodata.head(3)"
      ]
    },
    {
      "cell_type": "markdown",
      "metadata": {
        "id": "pVz2L0roJXHX"
      },
      "source": [
        "# **Connecting columns together**"
      ]
    },
    {
      "cell_type": "code",
      "execution_count": null,
      "metadata": {
        "id": "SbmFR3y2daPq"
      },
      "outputs": [],
      "source": [
        "inner_merged_total_WO1 = pd.merge(wodata,data16,left_index=True, right_index=True)"
      ]
    },
    {
      "cell_type": "code",
      "execution_count": null,
      "metadata": {
        "id": "GeFntcv3daPr"
      },
      "outputs": [],
      "source": [
        "inner_merged_total_WO1.shape"
      ]
    },
    {
      "cell_type": "code",
      "execution_count": null,
      "metadata": {
        "id": "Ud1QyEfVdaPs"
      },
      "outputs": [],
      "source": [
        "inner_merged_total_WO1.head(5)"
      ]
    },
    {
      "cell_type": "code",
      "execution_count": null,
      "metadata": {
        "id": "fIHgRHMcdaPt"
      },
      "outputs": [],
      "source": [
        "test12=inner_merged_total_WO1.query(\"inventarieID==2.0\")\n",
        "test12"
      ]
    },
    {
      "cell_type": "code",
      "execution_count": null,
      "metadata": {
        "id": "2GahQs3AdaPu"
      },
      "outputs": [],
      "source": [
        "inner_merged_total_WO1.count()"
      ]
    },
    {
      "cell_type": "markdown",
      "metadata": {
        "id": "QgweLPdOe3fF"
      },
      "source": [
        "# **Connecting pm data with wo data**"
      ]
    },
    {
      "cell_type": "code",
      "execution_count": null,
      "metadata": {
        "id": "nzUcHGxKfMOg"
      },
      "outputs": [],
      "source": [
        "inner_mergeWO_pm2 = pd.merge(inner_merged_total_WO1,pmdata,left_index=True, right_index=True)"
      ]
    },
    {
      "cell_type": "code",
      "execution_count": null,
      "metadata": {
        "id": "60hYPMhRfMOi"
      },
      "outputs": [],
      "source": [
        "inner_mergeWO_pm2.head(5)"
      ]
    },
    {
      "cell_type": "markdown",
      "metadata": {
        "id": "YyP5gxCLgSql"
      },
      "source": [
        "# **Connecting all data together**"
      ]
    },
    {
      "cell_type": "code",
      "execution_count": null,
      "metadata": {
        "id": "BU6PEIH0gX1V"
      },
      "outputs": [],
      "source": [
        "eq_hos11.set_index('ID',drop=False,inplace=True)"
      ]
    },
    {
      "cell_type": "code",
      "execution_count": null,
      "metadata": {
        "id": "_9hEgPOPgX1V"
      },
      "outputs": [],
      "source": [
        "eq_hos11.head(3)"
      ]
    }
  ],
  "metadata": {
    "colab": {
      "collapsed_sections": [
        "rJalYvreSct_",
        "HxQj_jDxy_7T",
        "vB6E0JkD6haT",
        "mg5iri2Q0WMF",
        "eehY9Ti-JRNZ",
        "BjFvwT7xIqSE",
        "xZ_dQGKgik85",
        "5rqgQDa-8Hz-",
        "iedG5KOZTsJq",
        "dKXCauoM_EUF",
        "tm4IEqe9C7Uk",
        "fBDRxDm3pitQ",
        "r8kXpG627qNb",
        "Azud0xUnqtCp",
        "AokovEG3EcXK",
        "iDjok7iUEx38",
        "pVz2L0roJXHX",
        "QgweLPdOe3fF"
      ],
      "provenance": [],
      "toc_visible": true,
      "include_colab_link": true
    },
    "kernelspec": {
      "display_name": "Python 3",
      "name": "python3"
    },
    "language_info": {
      "name": "python"
    }
  },
  "nbformat": 4,
  "nbformat_minor": 0
}