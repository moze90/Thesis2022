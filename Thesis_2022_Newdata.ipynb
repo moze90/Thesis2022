{
  "cells": [
    {
      "cell_type": "markdown",
      "metadata": {
        "id": "view-in-github",
        "colab_type": "text"
      },
      "source": [
        "<a href=\"https://colab.research.google.com/github/moze90/Thesis2022/blob/main/Thesis_2022_Newdata.ipynb\" target=\"_parent\"><img src=\"https://colab.research.google.com/assets/colab-badge.svg\" alt=\"Open In Colab\"/></a>"
      ]
    },
    {
      "cell_type": "code",
      "execution_count": null,
      "metadata": {
        "id": "TEvk_9_uZhzh"
      },
      "outputs": [],
      "source": [
        "import numpy as np\n",
        "import pandas as pd\n",
        "import matplotlib.pyplot as plt\n",
        "import seaborn as sns\n",
        "sns.set(color_codes=True)\n",
        "import warnings\n",
        "warnings.filterwarnings(\"ignore\")\n",
        "from glob import glob\n",
        "import re\n",
        "import gc\n",
        "import csv\n",
        "from scipy.stats import zscore\n",
        "from datetime import datetime\n",
        "from pandas.io.parsers.readers import read_csv\n",
        "from sklearn.covariance import EllipticEnvelope\n",
        "from sklearn.preprocessing import StandardScaler\n",
        "from sklearn.model_selection import train_test_split\n",
        "from sklearn.tree import DecisionTreeClassifier\n",
        "from sklearn.metrics import classification_report\n",
        "from sklearn.metrics import accuracy_score\n",
        "from sklearn.metrics import confusion_matrix\n",
        "from sklearn.metrics import ConfusionMatrixDisplay\n",
        "from sklearn import metrics"
      ]
    },
    {
      "cell_type": "code",
      "execution_count": null,
      "metadata": {
        "colab": {
          "base_uri": "https://localhost:8080/"
        },
        "id": "fuTRrQI343OZ",
        "outputId": "2320e0dd-ddc0-4411-8e41-df4c778088df"
      },
      "outputs": [
        {
          "name": "stdout",
          "output_type": "stream",
          "text": [
            "Mounted at /content/drive\n"
          ]
        }
      ],
      "source": [
        "from google.colab import drive\n",
        "drive.mount('/content/drive')"
      ]
    },
    {
      "cell_type": "markdown",
      "metadata": {
        "id": "XDKkLsdHV4oS"
      },
      "source": [
        "**DATA PREPROCESSING**"
      ]
    },
    {
      "cell_type": "markdown",
      "metadata": {
        "id": "rJalYvreSct_"
      },
      "source": [
        "# **new EQ**"
      ]
    },
    {
      "cell_type": "markdown",
      "metadata": {
        "id": "LKQuUlWVuXP9"
      },
      "source": [
        "**First step:removing null values**"
      ]
    },
    {
      "cell_type": "code",
      "execution_count": null,
      "metadata": {
        "id": "8tP-2p4cSLtI"
      },
      "outputs": [],
      "source": [
        "df1=(r\"/content/drive/MyDrive/Thesis_datasets/New-data-SoftPro/Hospitals1/eq.csv\")"
      ]
    },
    {
      "cell_type": "code",
      "execution_count": null,
      "metadata": {
        "id": "dkXq8CYpSw1a"
      },
      "outputs": [],
      "source": [
        " data1= pd.read_csv(df1,sep=';',header=0,parse_dates=True)"
      ]
    },
    {
      "cell_type": "code",
      "execution_count": null,
      "metadata": {
        "colab": {
          "base_uri": "https://localhost:8080/"
        },
        "id": "ooaMHqouNchi",
        "outputId": "2574736e-51ae-401f-943a-c81f241b8b61"
      },
      "outputs": [
        {
          "data": {
            "text/html": [
              "\n",
              "  <div id=\"df-09baa7c1-b9ac-4fb3-96bc-4fd2d5b98207\">\n",
              "    <div class=\"colab-df-container\">\n",
              "      <div>\n",
              "<style scoped>\n",
              "    .dataframe tbody tr th:only-of-type {\n",
              "        vertical-align: middle;\n",
              "    }\n",
              "\n",
              "    .dataframe tbody tr th {\n",
              "        vertical-align: top;\n",
              "    }\n",
              "\n",
              "    .dataframe thead th {\n",
              "        text-align: right;\n",
              "    }\n",
              "</style>\n",
              "<table border=\"1\" class=\"dataframe\">\n",
              "  <thead>\n",
              "    <tr style=\"text-align: right;\">\n",
              "      <th></th>\n",
              "      <th>InvNr</th>\n",
              "      <th>InkDat</th>\n",
              "      <th>Skrotad</th>\n",
              "      <th>flReplacementCost</th>\n",
              "      <th>flPurchaseCost</th>\n",
              "      <th>SkrotDatum</th>\n",
              "      <th>ID</th>\n",
              "      <th>PMLMaintenanceRequirementID</th>\n",
              "      <th>PMLMissionCriticalID</th>\n",
              "      <th>PMLRiscID</th>\n",
              "      <th>...</th>\n",
              "      <th>Modell</th>\n",
              "      <th>Handelsnamn</th>\n",
              "      <th>intRisktal</th>\n",
              "      <th>strRiscName</th>\n",
              "      <th>intRiscSeverityLevel</th>\n",
              "      <th>FUSenaste</th>\n",
              "      <th>FUIntNasta</th>\n",
              "      <th>PMLMaintenanceRequirementDescription</th>\n",
              "      <th>PMLMissionCriticalDescription</th>\n",
              "      <th>PMLRiscDescription</th>\n",
              "    </tr>\n",
              "  </thead>\n",
              "  <tbody>\n",
              "    <tr>\n",
              "      <th>0</th>\n",
              "      <td>C951-01</td>\n",
              "      <td>2001-01-01 00:00:00.000</td>\n",
              "      <td>2</td>\n",
              "      <td>0</td>\n",
              "      <td>33210</td>\n",
              "      <td>NaN</td>\n",
              "      <td>68263</td>\n",
              "      <td>NaN</td>\n",
              "      <td>NaN</td>\n",
              "      <td>NaN</td>\n",
              "      <td>...</td>\n",
              "      <td>Wolf 5512</td>\n",
              "      <td>NaN</td>\n",
              "      <td>20.0</td>\n",
              "      <td>20</td>\n",
              "      <td>20.0</td>\n",
              "      <td>2004-06-15 00:00:00.000</td>\n",
              "      <td>NaN</td>\n",
              "      <td>NaN</td>\n",
              "      <td>NaN</td>\n",
              "      <td>NaN</td>\n",
              "    </tr>\n",
              "  </tbody>\n",
              "</table>\n",
              "<p>1 rows × 22 columns</p>\n",
              "</div>\n",
              "      <button class=\"colab-df-convert\" onclick=\"convertToInteractive('df-09baa7c1-b9ac-4fb3-96bc-4fd2d5b98207')\"\n",
              "              title=\"Convert this dataframe to an interactive table.\"\n",
              "              style=\"display:none;\">\n",
              "        \n",
              "  <svg xmlns=\"http://www.w3.org/2000/svg\" height=\"24px\"viewBox=\"0 0 24 24\"\n",
              "       width=\"24px\">\n",
              "    <path d=\"M0 0h24v24H0V0z\" fill=\"none\"/>\n",
              "    <path d=\"M18.56 5.44l.94 2.06.94-2.06 2.06-.94-2.06-.94-.94-2.06-.94 2.06-2.06.94zm-11 1L8.5 8.5l.94-2.06 2.06-.94-2.06-.94L8.5 2.5l-.94 2.06-2.06.94zm10 10l.94 2.06.94-2.06 2.06-.94-2.06-.94-.94-2.06-.94 2.06-2.06.94z\"/><path d=\"M17.41 7.96l-1.37-1.37c-.4-.4-.92-.59-1.43-.59-.52 0-1.04.2-1.43.59L10.3 9.45l-7.72 7.72c-.78.78-.78 2.05 0 2.83L4 21.41c.39.39.9.59 1.41.59.51 0 1.02-.2 1.41-.59l7.78-7.78 2.81-2.81c.8-.78.8-2.07 0-2.86zM5.41 20L4 18.59l7.72-7.72 1.47 1.35L5.41 20z\"/>\n",
              "  </svg>\n",
              "      </button>\n",
              "      \n",
              "  <style>\n",
              "    .colab-df-container {\n",
              "      display:flex;\n",
              "      flex-wrap:wrap;\n",
              "      gap: 12px;\n",
              "    }\n",
              "\n",
              "    .colab-df-convert {\n",
              "      background-color: #E8F0FE;\n",
              "      border: none;\n",
              "      border-radius: 50%;\n",
              "      cursor: pointer;\n",
              "      display: none;\n",
              "      fill: #1967D2;\n",
              "      height: 32px;\n",
              "      padding: 0 0 0 0;\n",
              "      width: 32px;\n",
              "    }\n",
              "\n",
              "    .colab-df-convert:hover {\n",
              "      background-color: #E2EBFA;\n",
              "      box-shadow: 0px 1px 2px rgba(60, 64, 67, 0.3), 0px 1px 3px 1px rgba(60, 64, 67, 0.15);\n",
              "      fill: #174EA6;\n",
              "    }\n",
              "\n",
              "    [theme=dark] .colab-df-convert {\n",
              "      background-color: #3B4455;\n",
              "      fill: #D2E3FC;\n",
              "    }\n",
              "\n",
              "    [theme=dark] .colab-df-convert:hover {\n",
              "      background-color: #434B5C;\n",
              "      box-shadow: 0px 1px 3px 1px rgba(0, 0, 0, 0.15);\n",
              "      filter: drop-shadow(0px 1px 2px rgba(0, 0, 0, 0.3));\n",
              "      fill: #FFFFFF;\n",
              "    }\n",
              "  </style>\n",
              "\n",
              "      <script>\n",
              "        const buttonEl =\n",
              "          document.querySelector('#df-09baa7c1-b9ac-4fb3-96bc-4fd2d5b98207 button.colab-df-convert');\n",
              "        buttonEl.style.display =\n",
              "          google.colab.kernel.accessAllowed ? 'block' : 'none';\n",
              "\n",
              "        async function convertToInteractive(key) {\n",
              "          const element = document.querySelector('#df-09baa7c1-b9ac-4fb3-96bc-4fd2d5b98207');\n",
              "          const dataTable =\n",
              "            await google.colab.kernel.invokeFunction('convertToInteractive',\n",
              "                                                     [key], {});\n",
              "          if (!dataTable) return;\n",
              "\n",
              "          const docLinkHtml = 'Like what you see? Visit the ' +\n",
              "            '<a target=\"_blank\" href=https://colab.research.google.com/notebooks/data_table.ipynb>data table notebook</a>'\n",
              "            + ' to learn more about interactive tables.';\n",
              "          element.innerHTML = '';\n",
              "          dataTable['output_type'] = 'display_data';\n",
              "          await google.colab.output.renderOutput(dataTable, element);\n",
              "          const docLink = document.createElement('div');\n",
              "          docLink.innerHTML = docLinkHtml;\n",
              "          element.appendChild(docLink);\n",
              "        }\n",
              "      </script>\n",
              "    </div>\n",
              "  </div>\n",
              "  "
            ],
            "text/plain": [
              "     InvNr                   InkDat  Skrotad flReplacementCost flPurchaseCost  \\\n",
              "0  C951-01  2001-01-01 00:00:00.000        2                 0          33210   \n",
              "\n",
              "  SkrotDatum     ID  PMLMaintenanceRequirementID  PMLMissionCriticalID  \\\n",
              "0        NaN  68263                          NaN                   NaN   \n",
              "\n",
              "   PMLRiscID  ...     Modell Handelsnamn intRisktal strRiscName  \\\n",
              "0        NaN  ...  Wolf 5512         NaN       20.0          20   \n",
              "\n",
              "   intRiscSeverityLevel                FUSenaste  FUIntNasta  \\\n",
              "0                  20.0  2004-06-15 00:00:00.000         NaN   \n",
              "\n",
              "  PMLMaintenanceRequirementDescription PMLMissionCriticalDescription  \\\n",
              "0                                  NaN                           NaN   \n",
              "\n",
              "   PMLRiscDescription  \n",
              "0                 NaN  \n",
              "\n",
              "[1 rows x 22 columns]"
            ]
          },
          "execution_count": 5,
          "metadata": {},
          "output_type": "execute_result"
        }
      ],
      "source": [
        "data1.head(1)"
      ]
    },
    {
      "cell_type": "code",
      "execution_count": null,
      "metadata": {
        "colab": {
          "base_uri": "https://localhost:8080/"
        },
        "id": "wQ32CbQmNuIZ",
        "outputId": "8b32b1f3-cac6-4628-b591-411fc6cf7b04"
      },
      "outputs": [
        {
          "data": {
            "text/plain": [
              "InvNr                                     2344\n",
              "InkDat                                   13883\n",
              "Skrotad                                      0\n",
              "flReplacementCost                        65477\n",
              "flPurchaseCost                            6997\n",
              "SkrotDatum                              129351\n",
              "ID                                           0\n",
              "PMLMaintenanceRequirementID             226918\n",
              "PMLMissionCriticalID                    226943\n",
              "PMLRiscID                               226946\n",
              "Benamn                                    2025\n",
              "Fabrikat                                  2099\n",
              "Modell                                    2150\n",
              "Handelsnamn                             224409\n",
              "intRisktal                                9497\n",
              "strRiscName                               9497\n",
              "intRiscSeverityLevel                      9497\n",
              "FUSenaste                               146508\n",
              "FUIntNasta                              178383\n",
              "PMLMaintenanceRequirementDescription    226918\n",
              "PMLMissionCriticalDescription           226943\n",
              "PMLRiscDescription                      226946\n",
              "dtype: int64"
            ]
          },
          "execution_count": 6,
          "metadata": {},
          "output_type": "execute_result"
        }
      ],
      "source": [
        "data1.isnull().sum()"
      ]
    },
    {
      "cell_type": "code",
      "execution_count": null,
      "metadata": {
        "id": "-qG_yaMuWLhz"
      },
      "outputs": [],
      "source": [
        "fin=data1.drop(columns=['intRiscSeverityLevel','Skrotad','flReplacementCost','flPurchaseCost','PMLMaintenanceRequirementID','PMLMissionCriticalID','PMLRiscID','strRiscName','Handelsnamn','PMLMaintenanceRequirementDescription','PMLMissionCriticalDescription','PMLRiscDescription','FUSenaste','FUIntNasta'])"
      ]
    },
    {
      "cell_type": "code",
      "execution_count": null,
      "metadata": {
        "colab": {
          "base_uri": "https://localhost:8080/"
        },
        "id": "LwjY3N_zTLc5",
        "outputId": "f1dbca73-6570-4a6a-de62-ddee21429375"
      },
      "outputs": [
        {
          "data": {
            "text/html": [
              "\n",
              "  <div id=\"df-7b56f000-8059-4591-9c5d-5efc275aafd7\">\n",
              "    <div class=\"colab-df-container\">\n",
              "      <div>\n",
              "<style scoped>\n",
              "    .dataframe tbody tr th:only-of-type {\n",
              "        vertical-align: middle;\n",
              "    }\n",
              "\n",
              "    .dataframe tbody tr th {\n",
              "        vertical-align: top;\n",
              "    }\n",
              "\n",
              "    .dataframe thead th {\n",
              "        text-align: right;\n",
              "    }\n",
              "</style>\n",
              "<table border=\"1\" class=\"dataframe\">\n",
              "  <thead>\n",
              "    <tr style=\"text-align: right;\">\n",
              "      <th></th>\n",
              "      <th>InvNr</th>\n",
              "      <th>InkDat</th>\n",
              "      <th>SkrotDatum</th>\n",
              "      <th>ID</th>\n",
              "      <th>Benamn</th>\n",
              "      <th>Fabrikat</th>\n",
              "      <th>Modell</th>\n",
              "      <th>intRisktal</th>\n",
              "    </tr>\n",
              "  </thead>\n",
              "  <tbody>\n",
              "    <tr>\n",
              "      <th>0</th>\n",
              "      <td>C951-01</td>\n",
              "      <td>2001-01-01 00:00:00.000</td>\n",
              "      <td>NaN</td>\n",
              "      <td>68263</td>\n",
              "      <td>Endoskop</td>\n",
              "      <td>Wolf</td>\n",
              "      <td>Wolf 5512</td>\n",
              "      <td>20.0</td>\n",
              "    </tr>\n",
              "    <tr>\n",
              "      <th>1</th>\n",
              "      <td>C951-02</td>\n",
              "      <td>2001-02-08 00:00:00.000</td>\n",
              "      <td>2018-12-19 00:00:00.000</td>\n",
              "      <td>68264</td>\n",
              "      <td>Endoskop</td>\n",
              "      <td>Wolf</td>\n",
              "      <td>Wolf 5512</td>\n",
              "      <td>31.0</td>\n",
              "    </tr>\n",
              "    <tr>\n",
              "      <th>2</th>\n",
              "      <td>111444</td>\n",
              "      <td>2005-01-01 00:00:00.000</td>\n",
              "      <td>NaN</td>\n",
              "      <td>86743</td>\n",
              "      <td>Endoskop</td>\n",
              "      <td>Wolf</td>\n",
              "      <td>Wolf 5512</td>\n",
              "      <td>20.0</td>\n",
              "    </tr>\n",
              "    <tr>\n",
              "      <th>3</th>\n",
              "      <td>9013559</td>\n",
              "      <td>2008-01-01 00:00:00.000</td>\n",
              "      <td>NaN</td>\n",
              "      <td>140398</td>\n",
              "      <td>Ljuskälla f endoskop</td>\n",
              "      <td>Wolf</td>\n",
              "      <td>4015</td>\n",
              "      <td>13.0</td>\n",
              "    </tr>\n",
              "  </tbody>\n",
              "</table>\n",
              "</div>\n",
              "      <button class=\"colab-df-convert\" onclick=\"convertToInteractive('df-7b56f000-8059-4591-9c5d-5efc275aafd7')\"\n",
              "              title=\"Convert this dataframe to an interactive table.\"\n",
              "              style=\"display:none;\">\n",
              "        \n",
              "  <svg xmlns=\"http://www.w3.org/2000/svg\" height=\"24px\"viewBox=\"0 0 24 24\"\n",
              "       width=\"24px\">\n",
              "    <path d=\"M0 0h24v24H0V0z\" fill=\"none\"/>\n",
              "    <path d=\"M18.56 5.44l.94 2.06.94-2.06 2.06-.94-2.06-.94-.94-2.06-.94 2.06-2.06.94zm-11 1L8.5 8.5l.94-2.06 2.06-.94-2.06-.94L8.5 2.5l-.94 2.06-2.06.94zm10 10l.94 2.06.94-2.06 2.06-.94-2.06-.94-.94-2.06-.94 2.06-2.06.94z\"/><path d=\"M17.41 7.96l-1.37-1.37c-.4-.4-.92-.59-1.43-.59-.52 0-1.04.2-1.43.59L10.3 9.45l-7.72 7.72c-.78.78-.78 2.05 0 2.83L4 21.41c.39.39.9.59 1.41.59.51 0 1.02-.2 1.41-.59l7.78-7.78 2.81-2.81c.8-.78.8-2.07 0-2.86zM5.41 20L4 18.59l7.72-7.72 1.47 1.35L5.41 20z\"/>\n",
              "  </svg>\n",
              "      </button>\n",
              "      \n",
              "  <style>\n",
              "    .colab-df-container {\n",
              "      display:flex;\n",
              "      flex-wrap:wrap;\n",
              "      gap: 12px;\n",
              "    }\n",
              "\n",
              "    .colab-df-convert {\n",
              "      background-color: #E8F0FE;\n",
              "      border: none;\n",
              "      border-radius: 50%;\n",
              "      cursor: pointer;\n",
              "      display: none;\n",
              "      fill: #1967D2;\n",
              "      height: 32px;\n",
              "      padding: 0 0 0 0;\n",
              "      width: 32px;\n",
              "    }\n",
              "\n",
              "    .colab-df-convert:hover {\n",
              "      background-color: #E2EBFA;\n",
              "      box-shadow: 0px 1px 2px rgba(60, 64, 67, 0.3), 0px 1px 3px 1px rgba(60, 64, 67, 0.15);\n",
              "      fill: #174EA6;\n",
              "    }\n",
              "\n",
              "    [theme=dark] .colab-df-convert {\n",
              "      background-color: #3B4455;\n",
              "      fill: #D2E3FC;\n",
              "    }\n",
              "\n",
              "    [theme=dark] .colab-df-convert:hover {\n",
              "      background-color: #434B5C;\n",
              "      box-shadow: 0px 1px 3px 1px rgba(0, 0, 0, 0.15);\n",
              "      filter: drop-shadow(0px 1px 2px rgba(0, 0, 0, 0.3));\n",
              "      fill: #FFFFFF;\n",
              "    }\n",
              "  </style>\n",
              "\n",
              "      <script>\n",
              "        const buttonEl =\n",
              "          document.querySelector('#df-7b56f000-8059-4591-9c5d-5efc275aafd7 button.colab-df-convert');\n",
              "        buttonEl.style.display =\n",
              "          google.colab.kernel.accessAllowed ? 'block' : 'none';\n",
              "\n",
              "        async function convertToInteractive(key) {\n",
              "          const element = document.querySelector('#df-7b56f000-8059-4591-9c5d-5efc275aafd7');\n",
              "          const dataTable =\n",
              "            await google.colab.kernel.invokeFunction('convertToInteractive',\n",
              "                                                     [key], {});\n",
              "          if (!dataTable) return;\n",
              "\n",
              "          const docLinkHtml = 'Like what you see? Visit the ' +\n",
              "            '<a target=\"_blank\" href=https://colab.research.google.com/notebooks/data_table.ipynb>data table notebook</a>'\n",
              "            + ' to learn more about interactive tables.';\n",
              "          element.innerHTML = '';\n",
              "          dataTable['output_type'] = 'display_data';\n",
              "          await google.colab.output.renderOutput(dataTable, element);\n",
              "          const docLink = document.createElement('div');\n",
              "          docLink.innerHTML = docLinkHtml;\n",
              "          element.appendChild(docLink);\n",
              "        }\n",
              "      </script>\n",
              "    </div>\n",
              "  </div>\n",
              "  "
            ],
            "text/plain": [
              "     InvNr                   InkDat               SkrotDatum      ID  \\\n",
              "0  C951-01  2001-01-01 00:00:00.000                      NaN   68263   \n",
              "1  C951-02  2001-02-08 00:00:00.000  2018-12-19 00:00:00.000   68264   \n",
              "2   111444  2005-01-01 00:00:00.000                      NaN   86743   \n",
              "3  9013559  2008-01-01 00:00:00.000                      NaN  140398   \n",
              "\n",
              "                 Benamn Fabrikat     Modell  intRisktal  \n",
              "0              Endoskop     Wolf  Wolf 5512        20.0  \n",
              "1              Endoskop     Wolf  Wolf 5512        31.0  \n",
              "2              Endoskop     Wolf  Wolf 5512        20.0  \n",
              "3  Ljuskälla f endoskop     Wolf       4015        13.0  "
            ]
          },
          "execution_count": 8,
          "metadata": {},
          "output_type": "execute_result"
        }
      ],
      "source": [
        "fin.head(4)"
      ]
    },
    {
      "cell_type": "code",
      "execution_count": null,
      "metadata": {
        "id": "K0kmEYAFhH12"
      },
      "outputs": [],
      "source": [
        "dict = {'FUSenaste': 'prevPm',\n",
        "        'FUIntNasta': 'nexPm',\n",
        "        'InkDat':'Equip.reg_date',\n",
        "        'SkrotDatum':'Scrapped_date',\n",
        "        'Benamn':'dev',\n",
        "      'Fabrikat':'Brand',\n",
        "        'Modell':'Model',\n",
        "        'intRisktal':'calc.Risk'}"
      ]
    },
    {
      "cell_type": "code",
      "execution_count": null,
      "metadata": {
        "id": "NezTyHSZhomT"
      },
      "outputs": [],
      "source": [
        "fin.rename(columns=dict,inplace=True)"
      ]
    },
    {
      "cell_type": "code",
      "execution_count": null,
      "metadata": {
        "colab": {
          "base_uri": "https://localhost:8080/"
        },
        "id": "qvxywb1sU4gR",
        "outputId": "421b8f3c-e9ad-44bd-8da4-900d82151f16"
      },
      "outputs": [
        {
          "data": {
            "text/plain": [
              "227003"
            ]
          },
          "execution_count": 11,
          "metadata": {},
          "output_type": "execute_result"
        }
      ],
      "source": [
        "len(fin)"
      ]
    },
    {
      "cell_type": "markdown",
      "metadata": {
        "id": "3_3yXoQXYWQO"
      },
      "source": [
        "**substitute scrapped null values with data collection**"
      ]
    },
    {
      "cell_type": "code",
      "execution_count": null,
      "metadata": {
        "colab": {
          "base_uri": "https://localhost:8080/"
        },
        "id": "L57Jsju-fHuq",
        "outputId": "2dea60d0-98a0-41c8-8a43-8c4481cd22c9"
      },
      "outputs": [
        {
          "data": {
            "text/plain": [
              "InvNr               2344\n",
              "Equip.reg_date     13883\n",
              "Scrapped_date     129351\n",
              "ID                     0\n",
              "dev                 2025\n",
              "Brand               2099\n",
              "Model               2150\n",
              "calc.Risk           9497\n",
              "dtype: int64"
            ]
          },
          "execution_count": 12,
          "metadata": {},
          "output_type": "execute_result"
        }
      ],
      "source": [
        "fin.isnull().sum()"
      ]
    },
    {
      "cell_type": "code",
      "execution_count": null,
      "metadata": {
        "id": "nGmDmhoWTwnl"
      },
      "outputs": [],
      "source": [
        "dict1 = {'InkDat': 'Equip.reg_date',\n",
        "        'SkrotDatum': 'Scrapped_date',\n",
        "        'Benamn':'dev',\n",
        "        'Fabrikat':'Brand',\n",
        "        'Modell':'Model',\n",
        "        'intRisktal':'cal.Risk'}"
      ]
    },
    {
      "cell_type": "code",
      "execution_count": null,
      "metadata": {
        "colab": {
          "base_uri": "https://localhost:8080/"
        },
        "id": "oY_aSLOP6VV0",
        "outputId": "ad581031-072b-4d35-9d64-41043f761e8c"
      },
      "outputs": [
        {
          "data": {
            "text/html": [
              "\n",
              "  <div id=\"df-60452fd0-c81d-484a-9d62-4d083cd909b3\">\n",
              "    <div class=\"colab-df-container\">\n",
              "      <div>\n",
              "<style scoped>\n",
              "    .dataframe tbody tr th:only-of-type {\n",
              "        vertical-align: middle;\n",
              "    }\n",
              "\n",
              "    .dataframe tbody tr th {\n",
              "        vertical-align: top;\n",
              "    }\n",
              "\n",
              "    .dataframe thead th {\n",
              "        text-align: right;\n",
              "    }\n",
              "</style>\n",
              "<table border=\"1\" class=\"dataframe\">\n",
              "  <thead>\n",
              "    <tr style=\"text-align: right;\">\n",
              "      <th></th>\n",
              "      <th>InvNr</th>\n",
              "      <th>Equip.reg_date</th>\n",
              "      <th>Scrapped_date</th>\n",
              "      <th>ID</th>\n",
              "      <th>dev</th>\n",
              "      <th>Brand</th>\n",
              "      <th>Model</th>\n",
              "      <th>calc.Risk</th>\n",
              "    </tr>\n",
              "  </thead>\n",
              "  <tbody>\n",
              "    <tr>\n",
              "      <th>0</th>\n",
              "      <td>C951-01</td>\n",
              "      <td>2001-01-01 00:00:00.000</td>\n",
              "      <td>NaN</td>\n",
              "      <td>68263</td>\n",
              "      <td>Endoskop</td>\n",
              "      <td>Wolf</td>\n",
              "      <td>Wolf 5512</td>\n",
              "      <td>20.0</td>\n",
              "    </tr>\n",
              "    <tr>\n",
              "      <th>1</th>\n",
              "      <td>C951-02</td>\n",
              "      <td>2001-02-08 00:00:00.000</td>\n",
              "      <td>2018-12-19 00:00:00.000</td>\n",
              "      <td>68264</td>\n",
              "      <td>Endoskop</td>\n",
              "      <td>Wolf</td>\n",
              "      <td>Wolf 5512</td>\n",
              "      <td>31.0</td>\n",
              "    </tr>\n",
              "    <tr>\n",
              "      <th>2</th>\n",
              "      <td>111444</td>\n",
              "      <td>2005-01-01 00:00:00.000</td>\n",
              "      <td>NaN</td>\n",
              "      <td>86743</td>\n",
              "      <td>Endoskop</td>\n",
              "      <td>Wolf</td>\n",
              "      <td>Wolf 5512</td>\n",
              "      <td>20.0</td>\n",
              "    </tr>\n",
              "  </tbody>\n",
              "</table>\n",
              "</div>\n",
              "      <button class=\"colab-df-convert\" onclick=\"convertToInteractive('df-60452fd0-c81d-484a-9d62-4d083cd909b3')\"\n",
              "              title=\"Convert this dataframe to an interactive table.\"\n",
              "              style=\"display:none;\">\n",
              "        \n",
              "  <svg xmlns=\"http://www.w3.org/2000/svg\" height=\"24px\"viewBox=\"0 0 24 24\"\n",
              "       width=\"24px\">\n",
              "    <path d=\"M0 0h24v24H0V0z\" fill=\"none\"/>\n",
              "    <path d=\"M18.56 5.44l.94 2.06.94-2.06 2.06-.94-2.06-.94-.94-2.06-.94 2.06-2.06.94zm-11 1L8.5 8.5l.94-2.06 2.06-.94-2.06-.94L8.5 2.5l-.94 2.06-2.06.94zm10 10l.94 2.06.94-2.06 2.06-.94-2.06-.94-.94-2.06-.94 2.06-2.06.94z\"/><path d=\"M17.41 7.96l-1.37-1.37c-.4-.4-.92-.59-1.43-.59-.52 0-1.04.2-1.43.59L10.3 9.45l-7.72 7.72c-.78.78-.78 2.05 0 2.83L4 21.41c.39.39.9.59 1.41.59.51 0 1.02-.2 1.41-.59l7.78-7.78 2.81-2.81c.8-.78.8-2.07 0-2.86zM5.41 20L4 18.59l7.72-7.72 1.47 1.35L5.41 20z\"/>\n",
              "  </svg>\n",
              "      </button>\n",
              "      \n",
              "  <style>\n",
              "    .colab-df-container {\n",
              "      display:flex;\n",
              "      flex-wrap:wrap;\n",
              "      gap: 12px;\n",
              "    }\n",
              "\n",
              "    .colab-df-convert {\n",
              "      background-color: #E8F0FE;\n",
              "      border: none;\n",
              "      border-radius: 50%;\n",
              "      cursor: pointer;\n",
              "      display: none;\n",
              "      fill: #1967D2;\n",
              "      height: 32px;\n",
              "      padding: 0 0 0 0;\n",
              "      width: 32px;\n",
              "    }\n",
              "\n",
              "    .colab-df-convert:hover {\n",
              "      background-color: #E2EBFA;\n",
              "      box-shadow: 0px 1px 2px rgba(60, 64, 67, 0.3), 0px 1px 3px 1px rgba(60, 64, 67, 0.15);\n",
              "      fill: #174EA6;\n",
              "    }\n",
              "\n",
              "    [theme=dark] .colab-df-convert {\n",
              "      background-color: #3B4455;\n",
              "      fill: #D2E3FC;\n",
              "    }\n",
              "\n",
              "    [theme=dark] .colab-df-convert:hover {\n",
              "      background-color: #434B5C;\n",
              "      box-shadow: 0px 1px 3px 1px rgba(0, 0, 0, 0.15);\n",
              "      filter: drop-shadow(0px 1px 2px rgba(0, 0, 0, 0.3));\n",
              "      fill: #FFFFFF;\n",
              "    }\n",
              "  </style>\n",
              "\n",
              "      <script>\n",
              "        const buttonEl =\n",
              "          document.querySelector('#df-60452fd0-c81d-484a-9d62-4d083cd909b3 button.colab-df-convert');\n",
              "        buttonEl.style.display =\n",
              "          google.colab.kernel.accessAllowed ? 'block' : 'none';\n",
              "\n",
              "        async function convertToInteractive(key) {\n",
              "          const element = document.querySelector('#df-60452fd0-c81d-484a-9d62-4d083cd909b3');\n",
              "          const dataTable =\n",
              "            await google.colab.kernel.invokeFunction('convertToInteractive',\n",
              "                                                     [key], {});\n",
              "          if (!dataTable) return;\n",
              "\n",
              "          const docLinkHtml = 'Like what you see? Visit the ' +\n",
              "            '<a target=\"_blank\" href=https://colab.research.google.com/notebooks/data_table.ipynb>data table notebook</a>'\n",
              "            + ' to learn more about interactive tables.';\n",
              "          element.innerHTML = '';\n",
              "          dataTable['output_type'] = 'display_data';\n",
              "          await google.colab.output.renderOutput(dataTable, element);\n",
              "          const docLink = document.createElement('div');\n",
              "          docLink.innerHTML = docLinkHtml;\n",
              "          element.appendChild(docLink);\n",
              "        }\n",
              "      </script>\n",
              "    </div>\n",
              "  </div>\n",
              "  "
            ],
            "text/plain": [
              "     InvNr           Equip.reg_date            Scrapped_date     ID       dev  \\\n",
              "0  C951-01  2001-01-01 00:00:00.000                      NaN  68263  Endoskop   \n",
              "1  C951-02  2001-02-08 00:00:00.000  2018-12-19 00:00:00.000  68264  Endoskop   \n",
              "2   111444  2005-01-01 00:00:00.000                      NaN  86743  Endoskop   \n",
              "\n",
              "  Brand      Model  calc.Risk  \n",
              "0  Wolf  Wolf 5512       20.0  \n",
              "1  Wolf  Wolf 5512       31.0  \n",
              "2  Wolf  Wolf 5512       20.0  "
            ]
          },
          "execution_count": 14,
          "metadata": {},
          "output_type": "execute_result"
        }
      ],
      "source": [
        "fin.head(3)"
      ]
    },
    {
      "cell_type": "code",
      "execution_count": null,
      "metadata": {
        "id": "upiAi31Tb6Vd"
      },
      "outputs": [],
      "source": [
        "fin.dropna(inplace=True)"
      ]
    },
    {
      "cell_type": "code",
      "execution_count": null,
      "metadata": {
        "colab": {
          "base_uri": "https://localhost:8080/"
        },
        "id": "2vI5vS2W3q4v",
        "outputId": "f62785c0-a273-4a5d-fe73-7f13260aa82f"
      },
      "outputs": [
        {
          "data": {
            "text/plain": [
              "(83584, 8)"
            ]
          },
          "execution_count": 16,
          "metadata": {},
          "output_type": "execute_result"
        }
      ],
      "source": [
        "fin.shape"
      ]
    },
    {
      "cell_type": "code",
      "execution_count": null,
      "metadata": {
        "id": "3UIEhF6ZQMA4"
      },
      "outputs": [],
      "source": [
        "fin.set_index('ID',inplace=True,drop=False)"
      ]
    },
    {
      "cell_type": "code",
      "execution_count": null,
      "metadata": {
        "colab": {
          "base_uri": "https://localhost:8080/"
        },
        "id": "Vmo2ndIrQXES",
        "outputId": "74305467-b2c6-474e-be8c-1f487b813c42"
      },
      "outputs": [
        {
          "data": {
            "text/html": [
              "\n",
              "  <div id=\"df-80d85020-6b3c-44c3-ac00-a9681f39a1b7\">\n",
              "    <div class=\"colab-df-container\">\n",
              "      <div>\n",
              "<style scoped>\n",
              "    .dataframe tbody tr th:only-of-type {\n",
              "        vertical-align: middle;\n",
              "    }\n",
              "\n",
              "    .dataframe tbody tr th {\n",
              "        vertical-align: top;\n",
              "    }\n",
              "\n",
              "    .dataframe thead th {\n",
              "        text-align: right;\n",
              "    }\n",
              "</style>\n",
              "<table border=\"1\" class=\"dataframe\">\n",
              "  <thead>\n",
              "    <tr style=\"text-align: right;\">\n",
              "      <th></th>\n",
              "      <th>InvNr</th>\n",
              "      <th>Equip.reg_date</th>\n",
              "      <th>Scrapped_date</th>\n",
              "      <th>ID</th>\n",
              "      <th>dev</th>\n",
              "      <th>Brand</th>\n",
              "      <th>Model</th>\n",
              "      <th>calc.Risk</th>\n",
              "    </tr>\n",
              "    <tr>\n",
              "      <th>ID</th>\n",
              "      <th></th>\n",
              "      <th></th>\n",
              "      <th></th>\n",
              "      <th></th>\n",
              "      <th></th>\n",
              "      <th></th>\n",
              "      <th></th>\n",
              "      <th></th>\n",
              "    </tr>\n",
              "  </thead>\n",
              "  <tbody>\n",
              "    <tr>\n",
              "      <th>68264</th>\n",
              "      <td>C951-02</td>\n",
              "      <td>2001-02-08 00:00:00.000</td>\n",
              "      <td>2018-12-19 00:00:00.000</td>\n",
              "      <td>68264</td>\n",
              "      <td>Endoskop</td>\n",
              "      <td>Wolf</td>\n",
              "      <td>Wolf 5512</td>\n",
              "      <td>31.0</td>\n",
              "    </tr>\n",
              "    <tr>\n",
              "      <th>112347</th>\n",
              "      <td>P384</td>\n",
              "      <td>1981-01-01 00:00:00.000</td>\n",
              "      <td>2012-07-19 00:00:00.000</td>\n",
              "      <td>112347</td>\n",
              "      <td>Ljuskälla f endoskop</td>\n",
              "      <td>Wolf</td>\n",
              "      <td>4015</td>\n",
              "      <td>31.0</td>\n",
              "    </tr>\n",
              "    <tr>\n",
              "      <th>88325</th>\n",
              "      <td>C0297</td>\n",
              "      <td>1985-01-01 00:00:00.000</td>\n",
              "      <td>2015-12-16 00:00:00.000</td>\n",
              "      <td>88325</td>\n",
              "      <td>Ljuskälla f endoskop</td>\n",
              "      <td>Wolf</td>\n",
              "      <td>4015</td>\n",
              "      <td>31.0</td>\n",
              "    </tr>\n",
              "  </tbody>\n",
              "</table>\n",
              "</div>\n",
              "      <button class=\"colab-df-convert\" onclick=\"convertToInteractive('df-80d85020-6b3c-44c3-ac00-a9681f39a1b7')\"\n",
              "              title=\"Convert this dataframe to an interactive table.\"\n",
              "              style=\"display:none;\">\n",
              "        \n",
              "  <svg xmlns=\"http://www.w3.org/2000/svg\" height=\"24px\"viewBox=\"0 0 24 24\"\n",
              "       width=\"24px\">\n",
              "    <path d=\"M0 0h24v24H0V0z\" fill=\"none\"/>\n",
              "    <path d=\"M18.56 5.44l.94 2.06.94-2.06 2.06-.94-2.06-.94-.94-2.06-.94 2.06-2.06.94zm-11 1L8.5 8.5l.94-2.06 2.06-.94-2.06-.94L8.5 2.5l-.94 2.06-2.06.94zm10 10l.94 2.06.94-2.06 2.06-.94-2.06-.94-.94-2.06-.94 2.06-2.06.94z\"/><path d=\"M17.41 7.96l-1.37-1.37c-.4-.4-.92-.59-1.43-.59-.52 0-1.04.2-1.43.59L10.3 9.45l-7.72 7.72c-.78.78-.78 2.05 0 2.83L4 21.41c.39.39.9.59 1.41.59.51 0 1.02-.2 1.41-.59l7.78-7.78 2.81-2.81c.8-.78.8-2.07 0-2.86zM5.41 20L4 18.59l7.72-7.72 1.47 1.35L5.41 20z\"/>\n",
              "  </svg>\n",
              "      </button>\n",
              "      \n",
              "  <style>\n",
              "    .colab-df-container {\n",
              "      display:flex;\n",
              "      flex-wrap:wrap;\n",
              "      gap: 12px;\n",
              "    }\n",
              "\n",
              "    .colab-df-convert {\n",
              "      background-color: #E8F0FE;\n",
              "      border: none;\n",
              "      border-radius: 50%;\n",
              "      cursor: pointer;\n",
              "      display: none;\n",
              "      fill: #1967D2;\n",
              "      height: 32px;\n",
              "      padding: 0 0 0 0;\n",
              "      width: 32px;\n",
              "    }\n",
              "\n",
              "    .colab-df-convert:hover {\n",
              "      background-color: #E2EBFA;\n",
              "      box-shadow: 0px 1px 2px rgba(60, 64, 67, 0.3), 0px 1px 3px 1px rgba(60, 64, 67, 0.15);\n",
              "      fill: #174EA6;\n",
              "    }\n",
              "\n",
              "    [theme=dark] .colab-df-convert {\n",
              "      background-color: #3B4455;\n",
              "      fill: #D2E3FC;\n",
              "    }\n",
              "\n",
              "    [theme=dark] .colab-df-convert:hover {\n",
              "      background-color: #434B5C;\n",
              "      box-shadow: 0px 1px 3px 1px rgba(0, 0, 0, 0.15);\n",
              "      filter: drop-shadow(0px 1px 2px rgba(0, 0, 0, 0.3));\n",
              "      fill: #FFFFFF;\n",
              "    }\n",
              "  </style>\n",
              "\n",
              "      <script>\n",
              "        const buttonEl =\n",
              "          document.querySelector('#df-80d85020-6b3c-44c3-ac00-a9681f39a1b7 button.colab-df-convert');\n",
              "        buttonEl.style.display =\n",
              "          google.colab.kernel.accessAllowed ? 'block' : 'none';\n",
              "\n",
              "        async function convertToInteractive(key) {\n",
              "          const element = document.querySelector('#df-80d85020-6b3c-44c3-ac00-a9681f39a1b7');\n",
              "          const dataTable =\n",
              "            await google.colab.kernel.invokeFunction('convertToInteractive',\n",
              "                                                     [key], {});\n",
              "          if (!dataTable) return;\n",
              "\n",
              "          const docLinkHtml = 'Like what you see? Visit the ' +\n",
              "            '<a target=\"_blank\" href=https://colab.research.google.com/notebooks/data_table.ipynb>data table notebook</a>'\n",
              "            + ' to learn more about interactive tables.';\n",
              "          element.innerHTML = '';\n",
              "          dataTable['output_type'] = 'display_data';\n",
              "          await google.colab.output.renderOutput(dataTable, element);\n",
              "          const docLink = document.createElement('div');\n",
              "          docLink.innerHTML = docLinkHtml;\n",
              "          element.appendChild(docLink);\n",
              "        }\n",
              "      </script>\n",
              "    </div>\n",
              "  </div>\n",
              "  "
            ],
            "text/plain": [
              "          InvNr           Equip.reg_date            Scrapped_date      ID  \\\n",
              "ID                                                                          \n",
              "68264   C951-02  2001-02-08 00:00:00.000  2018-12-19 00:00:00.000   68264   \n",
              "112347     P384  1981-01-01 00:00:00.000  2012-07-19 00:00:00.000  112347   \n",
              "88325     C0297  1985-01-01 00:00:00.000  2015-12-16 00:00:00.000   88325   \n",
              "\n",
              "                         dev Brand      Model  calc.Risk  \n",
              "ID                                                        \n",
              "68264               Endoskop  Wolf  Wolf 5512       31.0  \n",
              "112347  Ljuskälla f endoskop  Wolf       4015       31.0  \n",
              "88325   Ljuskälla f endoskop  Wolf       4015       31.0  "
            ]
          },
          "execution_count": 18,
          "metadata": {},
          "output_type": "execute_result"
        }
      ],
      "source": [
        "fin.head(3)"
      ]
    },
    {
      "cell_type": "markdown",
      "metadata": {
        "id": "HxQj_jDxy_7T"
      },
      "source": [
        "# ***pm***"
      ]
    },
    {
      "cell_type": "code",
      "execution_count": null,
      "metadata": {
        "id": "KF4GJYRKzIau"
      },
      "outputs": [],
      "source": [
        "df3=(r\"/content/drive/MyDrive/Thesis_datasets/New-data-SoftPro/Hospitals1/pm.csv\")"
      ]
    },
    {
      "cell_type": "code",
      "execution_count": null,
      "metadata": {
        "id": "n1CP2xfpzkV-"
      },
      "outputs": [],
      "source": [
        "fin3=read_csv(df3,sep=';')"
      ]
    },
    {
      "cell_type": "code",
      "execution_count": null,
      "metadata": {
        "colab": {
          "base_uri": "https://localhost:8080/"
        },
        "id": "RSwQ4C2Tz-wh",
        "outputId": "e33a136a-d0e5-4406-e302-ea3a30b2b319"
      },
      "outputs": [
        {
          "data": {
            "text/html": [
              "\n",
              "  <div id=\"df-8e68d1eb-ec8b-497f-8e36-5c336769b4f5\">\n",
              "    <div class=\"colab-df-container\">\n",
              "      <div>\n",
              "<style scoped>\n",
              "    .dataframe tbody tr th:only-of-type {\n",
              "        vertical-align: middle;\n",
              "    }\n",
              "\n",
              "    .dataframe tbody tr th {\n",
              "        vertical-align: top;\n",
              "    }\n",
              "\n",
              "    .dataframe thead th {\n",
              "        text-align: right;\n",
              "    }\n",
              "</style>\n",
              "<table border=\"1\" class=\"dataframe\">\n",
              "  <thead>\n",
              "    <tr style=\"text-align: right;\">\n",
              "      <th></th>\n",
              "      <th>Id</th>\n",
              "      <th>EquipmentId</th>\n",
              "      <th>NextPM</th>\n",
              "      <th>LastPM</th>\n",
              "      <th>Interval</th>\n",
              "      <th>IsRecurring</th>\n",
              "    </tr>\n",
              "  </thead>\n",
              "  <tbody>\n",
              "    <tr>\n",
              "      <th>0</th>\n",
              "      <td>7838</td>\n",
              "      <td>17635.0</td>\n",
              "      <td>2007-01-01 00:00:00.000</td>\n",
              "      <td>2006-01-12 00:00:00.000</td>\n",
              "      <td>12 Månader</td>\n",
              "      <td>1</td>\n",
              "    </tr>\n",
              "    <tr>\n",
              "      <th>1</th>\n",
              "      <td>27837</td>\n",
              "      <td>65129.0</td>\n",
              "      <td>2003-06-15 00:00:00.000</td>\n",
              "      <td>2001-06-15 00:00:00.000</td>\n",
              "      <td>24 Månader</td>\n",
              "      <td>1</td>\n",
              "    </tr>\n",
              "    <tr>\n",
              "      <th>2</th>\n",
              "      <td>27838</td>\n",
              "      <td>65130.0</td>\n",
              "      <td>2007-07-01 00:00:00.000</td>\n",
              "      <td>2005-07-25 00:00:00.000</td>\n",
              "      <td>24 Månader</td>\n",
              "      <td>1</td>\n",
              "    </tr>\n",
              "  </tbody>\n",
              "</table>\n",
              "</div>\n",
              "      <button class=\"colab-df-convert\" onclick=\"convertToInteractive('df-8e68d1eb-ec8b-497f-8e36-5c336769b4f5')\"\n",
              "              title=\"Convert this dataframe to an interactive table.\"\n",
              "              style=\"display:none;\">\n",
              "        \n",
              "  <svg xmlns=\"http://www.w3.org/2000/svg\" height=\"24px\"viewBox=\"0 0 24 24\"\n",
              "       width=\"24px\">\n",
              "    <path d=\"M0 0h24v24H0V0z\" fill=\"none\"/>\n",
              "    <path d=\"M18.56 5.44l.94 2.06.94-2.06 2.06-.94-2.06-.94-.94-2.06-.94 2.06-2.06.94zm-11 1L8.5 8.5l.94-2.06 2.06-.94-2.06-.94L8.5 2.5l-.94 2.06-2.06.94zm10 10l.94 2.06.94-2.06 2.06-.94-2.06-.94-.94-2.06-.94 2.06-2.06.94z\"/><path d=\"M17.41 7.96l-1.37-1.37c-.4-.4-.92-.59-1.43-.59-.52 0-1.04.2-1.43.59L10.3 9.45l-7.72 7.72c-.78.78-.78 2.05 0 2.83L4 21.41c.39.39.9.59 1.41.59.51 0 1.02-.2 1.41-.59l7.78-7.78 2.81-2.81c.8-.78.8-2.07 0-2.86zM5.41 20L4 18.59l7.72-7.72 1.47 1.35L5.41 20z\"/>\n",
              "  </svg>\n",
              "      </button>\n",
              "      \n",
              "  <style>\n",
              "    .colab-df-container {\n",
              "      display:flex;\n",
              "      flex-wrap:wrap;\n",
              "      gap: 12px;\n",
              "    }\n",
              "\n",
              "    .colab-df-convert {\n",
              "      background-color: #E8F0FE;\n",
              "      border: none;\n",
              "      border-radius: 50%;\n",
              "      cursor: pointer;\n",
              "      display: none;\n",
              "      fill: #1967D2;\n",
              "      height: 32px;\n",
              "      padding: 0 0 0 0;\n",
              "      width: 32px;\n",
              "    }\n",
              "\n",
              "    .colab-df-convert:hover {\n",
              "      background-color: #E2EBFA;\n",
              "      box-shadow: 0px 1px 2px rgba(60, 64, 67, 0.3), 0px 1px 3px 1px rgba(60, 64, 67, 0.15);\n",
              "      fill: #174EA6;\n",
              "    }\n",
              "\n",
              "    [theme=dark] .colab-df-convert {\n",
              "      background-color: #3B4455;\n",
              "      fill: #D2E3FC;\n",
              "    }\n",
              "\n",
              "    [theme=dark] .colab-df-convert:hover {\n",
              "      background-color: #434B5C;\n",
              "      box-shadow: 0px 1px 3px 1px rgba(0, 0, 0, 0.15);\n",
              "      filter: drop-shadow(0px 1px 2px rgba(0, 0, 0, 0.3));\n",
              "      fill: #FFFFFF;\n",
              "    }\n",
              "  </style>\n",
              "\n",
              "      <script>\n",
              "        const buttonEl =\n",
              "          document.querySelector('#df-8e68d1eb-ec8b-497f-8e36-5c336769b4f5 button.colab-df-convert');\n",
              "        buttonEl.style.display =\n",
              "          google.colab.kernel.accessAllowed ? 'block' : 'none';\n",
              "\n",
              "        async function convertToInteractive(key) {\n",
              "          const element = document.querySelector('#df-8e68d1eb-ec8b-497f-8e36-5c336769b4f5');\n",
              "          const dataTable =\n",
              "            await google.colab.kernel.invokeFunction('convertToInteractive',\n",
              "                                                     [key], {});\n",
              "          if (!dataTable) return;\n",
              "\n",
              "          const docLinkHtml = 'Like what you see? Visit the ' +\n",
              "            '<a target=\"_blank\" href=https://colab.research.google.com/notebooks/data_table.ipynb>data table notebook</a>'\n",
              "            + ' to learn more about interactive tables.';\n",
              "          element.innerHTML = '';\n",
              "          dataTable['output_type'] = 'display_data';\n",
              "          await google.colab.output.renderOutput(dataTable, element);\n",
              "          const docLink = document.createElement('div');\n",
              "          docLink.innerHTML = docLinkHtml;\n",
              "          element.appendChild(docLink);\n",
              "        }\n",
              "      </script>\n",
              "    </div>\n",
              "  </div>\n",
              "  "
            ],
            "text/plain": [
              "      Id  EquipmentId                   NextPM                   LastPM  \\\n",
              "0   7838      17635.0  2007-01-01 00:00:00.000  2006-01-12 00:00:00.000   \n",
              "1  27837      65129.0  2003-06-15 00:00:00.000  2001-06-15 00:00:00.000   \n",
              "2  27838      65130.0  2007-07-01 00:00:00.000  2005-07-25 00:00:00.000   \n",
              "\n",
              "     Interval  IsRecurring  \n",
              "0  12 Månader            1  \n",
              "1  24 Månader            1  \n",
              "2  24 Månader            1  "
            ]
          },
          "execution_count": 21,
          "metadata": {},
          "output_type": "execute_result"
        }
      ],
      "source": [
        "fin3.head(3)"
      ]
    },
    {
      "cell_type": "code",
      "execution_count": null,
      "metadata": {
        "colab": {
          "base_uri": "https://localhost:8080/"
        },
        "id": "bHt6JNpbeEyP",
        "outputId": "5253f973-3bb7-48d5-ffea-52846d40366b"
      },
      "outputs": [
        {
          "data": {
            "text/plain": [
              "Id                 0\n",
              "EquipmentId     4081\n",
              "NextPM          4921\n",
              "LastPM         47521\n",
              "Interval       13329\n",
              "IsRecurring        0\n",
              "dtype: int64"
            ]
          },
          "execution_count": 22,
          "metadata": {},
          "output_type": "execute_result"
        }
      ],
      "source": [
        "fin3.isnull().sum()"
      ]
    },
    {
      "cell_type": "code",
      "execution_count": null,
      "metadata": {
        "colab": {
          "base_uri": "https://localhost:8080/"
        },
        "id": "qhJ3D6deeTyR",
        "outputId": "743cda55-0f35-439f-e46c-5451e9970187"
      },
      "outputs": [
        {
          "data": {
            "text/plain": [
              "117291"
            ]
          },
          "execution_count": 23,
          "metadata": {},
          "output_type": "execute_result"
        }
      ],
      "source": [
        "len(fin3)"
      ]
    },
    {
      "cell_type": "code",
      "execution_count": null,
      "metadata": {
        "id": "8dGIKm60elwK"
      },
      "outputs": [],
      "source": [
        "fin3.dropna(inplace=True)"
      ]
    },
    {
      "cell_type": "code",
      "execution_count": null,
      "metadata": {
        "colab": {
          "base_uri": "https://localhost:8080/"
        },
        "id": "flfUh3OverUX",
        "outputId": "37d0b692-1f6f-4f1c-ecf6-00424e037ea0"
      },
      "outputs": [
        {
          "data": {
            "text/plain": [
              "68762"
            ]
          },
          "execution_count": 25,
          "metadata": {},
          "output_type": "execute_result"
        }
      ],
      "source": [
        "len(fin3)"
      ]
    },
    {
      "cell_type": "code",
      "execution_count": null,
      "metadata": {
        "colab": {
          "base_uri": "https://localhost:8080/"
        },
        "id": "IE57B6TMezYN",
        "outputId": "719c5738-9a26-49a1-d971-e130b4f0a35a"
      },
      "outputs": [
        {
          "data": {
            "text/plain": [
              "Id             0\n",
              "EquipmentId    0\n",
              "NextPM         0\n",
              "LastPM         0\n",
              "Interval       0\n",
              "IsRecurring    0\n",
              "dtype: int64"
            ]
          },
          "execution_count": 26,
          "metadata": {},
          "output_type": "execute_result"
        }
      ],
      "source": [
        "fin3.isnull().sum()"
      ]
    },
    {
      "cell_type": "code",
      "execution_count": null,
      "metadata": {
        "colab": {
          "base_uri": "https://localhost:8080/"
        },
        "id": "Icd8oVnz76q_",
        "outputId": "f03a636b-6a61-4c10-87fb-11fff1d2cbab"
      },
      "outputs": [
        {
          "data": {
            "text/plain": [
              "Id             68762\n",
              "EquipmentId    68762\n",
              "NextPM         68762\n",
              "LastPM         68762\n",
              "Interval       68762\n",
              "IsRecurring    68762\n",
              "dtype: int64"
            ]
          },
          "execution_count": 27,
          "metadata": {},
          "output_type": "execute_result"
        }
      ],
      "source": [
        "fin3.count()"
      ]
    },
    {
      "cell_type": "code",
      "execution_count": null,
      "metadata": {
        "colab": {
          "base_uri": "https://localhost:8080/"
        },
        "id": "KTzzEO136Xaf",
        "outputId": "0aff8c28-cc9a-4bba-bb10-19f1c3f34ac2"
      },
      "outputs": [
        {
          "data": {
            "text/html": [
              "\n",
              "  <div id=\"df-23074768-a530-4a27-a67b-53936d951109\">\n",
              "    <div class=\"colab-df-container\">\n",
              "      <div>\n",
              "<style scoped>\n",
              "    .dataframe tbody tr th:only-of-type {\n",
              "        vertical-align: middle;\n",
              "    }\n",
              "\n",
              "    .dataframe tbody tr th {\n",
              "        vertical-align: top;\n",
              "    }\n",
              "\n",
              "    .dataframe thead th {\n",
              "        text-align: right;\n",
              "    }\n",
              "</style>\n",
              "<table border=\"1\" class=\"dataframe\">\n",
              "  <thead>\n",
              "    <tr style=\"text-align: right;\">\n",
              "      <th></th>\n",
              "      <th>Id</th>\n",
              "      <th>EquipmentId</th>\n",
              "      <th>NextPM</th>\n",
              "      <th>LastPM</th>\n",
              "      <th>Interval</th>\n",
              "      <th>IsRecurring</th>\n",
              "    </tr>\n",
              "    <tr>\n",
              "      <th>EquipmentId</th>\n",
              "      <th></th>\n",
              "      <th></th>\n",
              "      <th></th>\n",
              "      <th></th>\n",
              "      <th></th>\n",
              "      <th></th>\n",
              "    </tr>\n",
              "  </thead>\n",
              "  <tbody>\n",
              "    <tr>\n",
              "      <th>17635.0</th>\n",
              "      <td>7838</td>\n",
              "      <td>17635.0</td>\n",
              "      <td>2007-01-01 00:00:00.000</td>\n",
              "      <td>2006-01-12 00:00:00.000</td>\n",
              "      <td>12 Månader</td>\n",
              "      <td>1</td>\n",
              "    </tr>\n",
              "    <tr>\n",
              "      <th>65129.0</th>\n",
              "      <td>27837</td>\n",
              "      <td>65129.0</td>\n",
              "      <td>2003-06-15 00:00:00.000</td>\n",
              "      <td>2001-06-15 00:00:00.000</td>\n",
              "      <td>24 Månader</td>\n",
              "      <td>1</td>\n",
              "    </tr>\n",
              "    <tr>\n",
              "      <th>65130.0</th>\n",
              "      <td>27838</td>\n",
              "      <td>65130.0</td>\n",
              "      <td>2007-07-01 00:00:00.000</td>\n",
              "      <td>2005-07-25 00:00:00.000</td>\n",
              "      <td>24 Månader</td>\n",
              "      <td>1</td>\n",
              "    </tr>\n",
              "    <tr>\n",
              "      <th>65131.0</th>\n",
              "      <td>27839</td>\n",
              "      <td>65131.0</td>\n",
              "      <td>2006-06-01 00:00:00.000</td>\n",
              "      <td>2004-06-01 00:00:00.000</td>\n",
              "      <td>24 Månader</td>\n",
              "      <td>1</td>\n",
              "    </tr>\n",
              "    <tr>\n",
              "      <th>65132.0</th>\n",
              "      <td>27840</td>\n",
              "      <td>65132.0</td>\n",
              "      <td>2003-06-26 00:00:00.000</td>\n",
              "      <td>2001-06-26 00:00:00.000</td>\n",
              "      <td>24 Månader</td>\n",
              "      <td>1</td>\n",
              "    </tr>\n",
              "    <tr>\n",
              "      <th>...</th>\n",
              "      <td>...</td>\n",
              "      <td>...</td>\n",
              "      <td>...</td>\n",
              "      <td>...</td>\n",
              "      <td>...</td>\n",
              "      <td>...</td>\n",
              "    </tr>\n",
              "    <tr>\n",
              "      <th>305222.0</th>\n",
              "      <td>253852</td>\n",
              "      <td>305222.0</td>\n",
              "      <td>2022-09-01 00:00:00.000</td>\n",
              "      <td>2021-09-01 00:00:00.000</td>\n",
              "      <td>12 Månader</td>\n",
              "      <td>1</td>\n",
              "    </tr>\n",
              "    <tr>\n",
              "      <th>305223.0</th>\n",
              "      <td>253853</td>\n",
              "      <td>305223.0</td>\n",
              "      <td>2022-09-01 00:00:00.000</td>\n",
              "      <td>2021-09-01 00:00:00.000</td>\n",
              "      <td>12 Månader</td>\n",
              "      <td>1</td>\n",
              "    </tr>\n",
              "    <tr>\n",
              "      <th>305224.0</th>\n",
              "      <td>253854</td>\n",
              "      <td>305224.0</td>\n",
              "      <td>2022-09-01 00:00:00.000</td>\n",
              "      <td>2021-09-01 00:00:00.000</td>\n",
              "      <td>12 Månader</td>\n",
              "      <td>1</td>\n",
              "    </tr>\n",
              "    <tr>\n",
              "      <th>102939.0</th>\n",
              "      <td>253857</td>\n",
              "      <td>102939.0</td>\n",
              "      <td>2023-02-25 00:00:00.000</td>\n",
              "      <td>2022-02-25 00:00:00.000</td>\n",
              "      <td>12 Månader</td>\n",
              "      <td>1</td>\n",
              "    </tr>\n",
              "    <tr>\n",
              "      <th>295928.0</th>\n",
              "      <td>253859</td>\n",
              "      <td>295928.0</td>\n",
              "      <td>2022-02-24 00:00:00.000</td>\n",
              "      <td>2021-02-24 00:00:00.000</td>\n",
              "      <td>12 Månader</td>\n",
              "      <td>1</td>\n",
              "    </tr>\n",
              "  </tbody>\n",
              "</table>\n",
              "<p>68762 rows × 6 columns</p>\n",
              "</div>\n",
              "      <button class=\"colab-df-convert\" onclick=\"convertToInteractive('df-23074768-a530-4a27-a67b-53936d951109')\"\n",
              "              title=\"Convert this dataframe to an interactive table.\"\n",
              "              style=\"display:none;\">\n",
              "        \n",
              "  <svg xmlns=\"http://www.w3.org/2000/svg\" height=\"24px\"viewBox=\"0 0 24 24\"\n",
              "       width=\"24px\">\n",
              "    <path d=\"M0 0h24v24H0V0z\" fill=\"none\"/>\n",
              "    <path d=\"M18.56 5.44l.94 2.06.94-2.06 2.06-.94-2.06-.94-.94-2.06-.94 2.06-2.06.94zm-11 1L8.5 8.5l.94-2.06 2.06-.94-2.06-.94L8.5 2.5l-.94 2.06-2.06.94zm10 10l.94 2.06.94-2.06 2.06-.94-2.06-.94-.94-2.06-.94 2.06-2.06.94z\"/><path d=\"M17.41 7.96l-1.37-1.37c-.4-.4-.92-.59-1.43-.59-.52 0-1.04.2-1.43.59L10.3 9.45l-7.72 7.72c-.78.78-.78 2.05 0 2.83L4 21.41c.39.39.9.59 1.41.59.51 0 1.02-.2 1.41-.59l7.78-7.78 2.81-2.81c.8-.78.8-2.07 0-2.86zM5.41 20L4 18.59l7.72-7.72 1.47 1.35L5.41 20z\"/>\n",
              "  </svg>\n",
              "      </button>\n",
              "      \n",
              "  <style>\n",
              "    .colab-df-container {\n",
              "      display:flex;\n",
              "      flex-wrap:wrap;\n",
              "      gap: 12px;\n",
              "    }\n",
              "\n",
              "    .colab-df-convert {\n",
              "      background-color: #E8F0FE;\n",
              "      border: none;\n",
              "      border-radius: 50%;\n",
              "      cursor: pointer;\n",
              "      display: none;\n",
              "      fill: #1967D2;\n",
              "      height: 32px;\n",
              "      padding: 0 0 0 0;\n",
              "      width: 32px;\n",
              "    }\n",
              "\n",
              "    .colab-df-convert:hover {\n",
              "      background-color: #E2EBFA;\n",
              "      box-shadow: 0px 1px 2px rgba(60, 64, 67, 0.3), 0px 1px 3px 1px rgba(60, 64, 67, 0.15);\n",
              "      fill: #174EA6;\n",
              "    }\n",
              "\n",
              "    [theme=dark] .colab-df-convert {\n",
              "      background-color: #3B4455;\n",
              "      fill: #D2E3FC;\n",
              "    }\n",
              "\n",
              "    [theme=dark] .colab-df-convert:hover {\n",
              "      background-color: #434B5C;\n",
              "      box-shadow: 0px 1px 3px 1px rgba(0, 0, 0, 0.15);\n",
              "      filter: drop-shadow(0px 1px 2px rgba(0, 0, 0, 0.3));\n",
              "      fill: #FFFFFF;\n",
              "    }\n",
              "  </style>\n",
              "\n",
              "      <script>\n",
              "        const buttonEl =\n",
              "          document.querySelector('#df-23074768-a530-4a27-a67b-53936d951109 button.colab-df-convert');\n",
              "        buttonEl.style.display =\n",
              "          google.colab.kernel.accessAllowed ? 'block' : 'none';\n",
              "\n",
              "        async function convertToInteractive(key) {\n",
              "          const element = document.querySelector('#df-23074768-a530-4a27-a67b-53936d951109');\n",
              "          const dataTable =\n",
              "            await google.colab.kernel.invokeFunction('convertToInteractive',\n",
              "                                                     [key], {});\n",
              "          if (!dataTable) return;\n",
              "\n",
              "          const docLinkHtml = 'Like what you see? Visit the ' +\n",
              "            '<a target=\"_blank\" href=https://colab.research.google.com/notebooks/data_table.ipynb>data table notebook</a>'\n",
              "            + ' to learn more about interactive tables.';\n",
              "          element.innerHTML = '';\n",
              "          dataTable['output_type'] = 'display_data';\n",
              "          await google.colab.output.renderOutput(dataTable, element);\n",
              "          const docLink = document.createElement('div');\n",
              "          docLink.innerHTML = docLinkHtml;\n",
              "          element.appendChild(docLink);\n",
              "        }\n",
              "      </script>\n",
              "    </div>\n",
              "  </div>\n",
              "  "
            ],
            "text/plain": [
              "                 Id  EquipmentId                   NextPM  \\\n",
              "EquipmentId                                                 \n",
              "17635.0        7838      17635.0  2007-01-01 00:00:00.000   \n",
              "65129.0       27837      65129.0  2003-06-15 00:00:00.000   \n",
              "65130.0       27838      65130.0  2007-07-01 00:00:00.000   \n",
              "65131.0       27839      65131.0  2006-06-01 00:00:00.000   \n",
              "65132.0       27840      65132.0  2003-06-26 00:00:00.000   \n",
              "...             ...          ...                      ...   \n",
              "305222.0     253852     305222.0  2022-09-01 00:00:00.000   \n",
              "305223.0     253853     305223.0  2022-09-01 00:00:00.000   \n",
              "305224.0     253854     305224.0  2022-09-01 00:00:00.000   \n",
              "102939.0     253857     102939.0  2023-02-25 00:00:00.000   \n",
              "295928.0     253859     295928.0  2022-02-24 00:00:00.000   \n",
              "\n",
              "                              LastPM    Interval  IsRecurring  \n",
              "EquipmentId                                                    \n",
              "17635.0      2006-01-12 00:00:00.000  12 Månader            1  \n",
              "65129.0      2001-06-15 00:00:00.000  24 Månader            1  \n",
              "65130.0      2005-07-25 00:00:00.000  24 Månader            1  \n",
              "65131.0      2004-06-01 00:00:00.000  24 Månader            1  \n",
              "65132.0      2001-06-26 00:00:00.000  24 Månader            1  \n",
              "...                              ...         ...          ...  \n",
              "305222.0     2021-09-01 00:00:00.000  12 Månader            1  \n",
              "305223.0     2021-09-01 00:00:00.000  12 Månader            1  \n",
              "305224.0     2021-09-01 00:00:00.000  12 Månader            1  \n",
              "102939.0     2022-02-25 00:00:00.000  12 Månader            1  \n",
              "295928.0     2021-02-24 00:00:00.000  12 Månader            1  \n",
              "\n",
              "[68762 rows x 6 columns]"
            ]
          },
          "execution_count": 28,
          "metadata": {},
          "output_type": "execute_result"
        }
      ],
      "source": [
        "fin3.set_index('EquipmentId',drop=False)"
      ]
    },
    {
      "cell_type": "markdown",
      "metadata": {
        "id": "vB6E0JkD6haT"
      },
      "source": [
        "# **pm data**"
      ]
    },
    {
      "cell_type": "code",
      "execution_count": null,
      "metadata": {
        "id": "ppVPrvZF6mCR"
      },
      "outputs": [],
      "source": [
        "df2=(r\"/content/drive/MyDrive/Thesis_datasets/New-data-SoftPro/Hospitals1/pm_data.csv\")"
      ]
    },
    {
      "cell_type": "code",
      "execution_count": null,
      "metadata": {
        "id": "vAmnGJWM69go"
      },
      "outputs": [],
      "source": [
        "fin1=read_csv(df2,sep=';',names=['invID','last_pm','first_pm','count_pm','meantime_pm'])"
      ]
    },
    {
      "cell_type": "code",
      "execution_count": null,
      "metadata": {
        "colab": {
          "base_uri": "https://localhost:8080/"
        },
        "id": "_ataeb37PofY",
        "outputId": "9b2d01ec-ab8f-4398-aa03-e693d2dcc9f2"
      },
      "outputs": [
        {
          "data": {
            "text/plain": [
              "80503"
            ]
          },
          "execution_count": 31,
          "metadata": {},
          "output_type": "execute_result"
        }
      ],
      "source": [
        "len(fin1)"
      ]
    },
    {
      "cell_type": "code",
      "execution_count": null,
      "metadata": {
        "colab": {
          "base_uri": "https://localhost:8080/"
        },
        "id": "xraeB_Xm7y3Y",
        "outputId": "4330ee50-6b39-4baa-82ff-e59070676cd2"
      },
      "outputs": [
        {
          "data": {
            "text/html": [
              "\n",
              "  <div id=\"df-7ce5da7a-b8d6-407c-90d6-4e8301c27e30\">\n",
              "    <div class=\"colab-df-container\">\n",
              "      <div>\n",
              "<style scoped>\n",
              "    .dataframe tbody tr th:only-of-type {\n",
              "        vertical-align: middle;\n",
              "    }\n",
              "\n",
              "    .dataframe tbody tr th {\n",
              "        vertical-align: top;\n",
              "    }\n",
              "\n",
              "    .dataframe thead th {\n",
              "        text-align: right;\n",
              "    }\n",
              "</style>\n",
              "<table border=\"1\" class=\"dataframe\">\n",
              "  <thead>\n",
              "    <tr style=\"text-align: right;\">\n",
              "      <th></th>\n",
              "      <th>invID</th>\n",
              "      <th>last_pm</th>\n",
              "      <th>first_pm</th>\n",
              "      <th>count_pm</th>\n",
              "      <th>meantime_pm</th>\n",
              "    </tr>\n",
              "  </thead>\n",
              "  <tbody>\n",
              "    <tr>\n",
              "      <th>0</th>\n",
              "      <td>204282</td>\n",
              "      <td>2020-03-04</td>\n",
              "      <td>2009-03-31</td>\n",
              "      <td>11</td>\n",
              "      <td>362</td>\n",
              "    </tr>\n",
              "    <tr>\n",
              "      <th>1</th>\n",
              "      <td>255222</td>\n",
              "      <td>2021-06-28</td>\n",
              "      <td>2018-03-20</td>\n",
              "      <td>4</td>\n",
              "      <td>299</td>\n",
              "    </tr>\n",
              "    <tr>\n",
              "      <th>2</th>\n",
              "      <td>208527</td>\n",
              "      <td>2015-06-22</td>\n",
              "      <td>2015-06-22</td>\n",
              "      <td>1</td>\n",
              "      <td>0</td>\n",
              "    </tr>\n",
              "  </tbody>\n",
              "</table>\n",
              "</div>\n",
              "      <button class=\"colab-df-convert\" onclick=\"convertToInteractive('df-7ce5da7a-b8d6-407c-90d6-4e8301c27e30')\"\n",
              "              title=\"Convert this dataframe to an interactive table.\"\n",
              "              style=\"display:none;\">\n",
              "        \n",
              "  <svg xmlns=\"http://www.w3.org/2000/svg\" height=\"24px\"viewBox=\"0 0 24 24\"\n",
              "       width=\"24px\">\n",
              "    <path d=\"M0 0h24v24H0V0z\" fill=\"none\"/>\n",
              "    <path d=\"M18.56 5.44l.94 2.06.94-2.06 2.06-.94-2.06-.94-.94-2.06-.94 2.06-2.06.94zm-11 1L8.5 8.5l.94-2.06 2.06-.94-2.06-.94L8.5 2.5l-.94 2.06-2.06.94zm10 10l.94 2.06.94-2.06 2.06-.94-2.06-.94-.94-2.06-.94 2.06-2.06.94z\"/><path d=\"M17.41 7.96l-1.37-1.37c-.4-.4-.92-.59-1.43-.59-.52 0-1.04.2-1.43.59L10.3 9.45l-7.72 7.72c-.78.78-.78 2.05 0 2.83L4 21.41c.39.39.9.59 1.41.59.51 0 1.02-.2 1.41-.59l7.78-7.78 2.81-2.81c.8-.78.8-2.07 0-2.86zM5.41 20L4 18.59l7.72-7.72 1.47 1.35L5.41 20z\"/>\n",
              "  </svg>\n",
              "      </button>\n",
              "      \n",
              "  <style>\n",
              "    .colab-df-container {\n",
              "      display:flex;\n",
              "      flex-wrap:wrap;\n",
              "      gap: 12px;\n",
              "    }\n",
              "\n",
              "    .colab-df-convert {\n",
              "      background-color: #E8F0FE;\n",
              "      border: none;\n",
              "      border-radius: 50%;\n",
              "      cursor: pointer;\n",
              "      display: none;\n",
              "      fill: #1967D2;\n",
              "      height: 32px;\n",
              "      padding: 0 0 0 0;\n",
              "      width: 32px;\n",
              "    }\n",
              "\n",
              "    .colab-df-convert:hover {\n",
              "      background-color: #E2EBFA;\n",
              "      box-shadow: 0px 1px 2px rgba(60, 64, 67, 0.3), 0px 1px 3px 1px rgba(60, 64, 67, 0.15);\n",
              "      fill: #174EA6;\n",
              "    }\n",
              "\n",
              "    [theme=dark] .colab-df-convert {\n",
              "      background-color: #3B4455;\n",
              "      fill: #D2E3FC;\n",
              "    }\n",
              "\n",
              "    [theme=dark] .colab-df-convert:hover {\n",
              "      background-color: #434B5C;\n",
              "      box-shadow: 0px 1px 3px 1px rgba(0, 0, 0, 0.15);\n",
              "      filter: drop-shadow(0px 1px 2px rgba(0, 0, 0, 0.3));\n",
              "      fill: #FFFFFF;\n",
              "    }\n",
              "  </style>\n",
              "\n",
              "      <script>\n",
              "        const buttonEl =\n",
              "          document.querySelector('#df-7ce5da7a-b8d6-407c-90d6-4e8301c27e30 button.colab-df-convert');\n",
              "        buttonEl.style.display =\n",
              "          google.colab.kernel.accessAllowed ? 'block' : 'none';\n",
              "\n",
              "        async function convertToInteractive(key) {\n",
              "          const element = document.querySelector('#df-7ce5da7a-b8d6-407c-90d6-4e8301c27e30');\n",
              "          const dataTable =\n",
              "            await google.colab.kernel.invokeFunction('convertToInteractive',\n",
              "                                                     [key], {});\n",
              "          if (!dataTable) return;\n",
              "\n",
              "          const docLinkHtml = 'Like what you see? Visit the ' +\n",
              "            '<a target=\"_blank\" href=https://colab.research.google.com/notebooks/data_table.ipynb>data table notebook</a>'\n",
              "            + ' to learn more about interactive tables.';\n",
              "          element.innerHTML = '';\n",
              "          dataTable['output_type'] = 'display_data';\n",
              "          await google.colab.output.renderOutput(dataTable, element);\n",
              "          const docLink = document.createElement('div');\n",
              "          docLink.innerHTML = docLinkHtml;\n",
              "          element.appendChild(docLink);\n",
              "        }\n",
              "      </script>\n",
              "    </div>\n",
              "  </div>\n",
              "  "
            ],
            "text/plain": [
              "    invID     last_pm    first_pm  count_pm  meantime_pm\n",
              "0  204282  2020-03-04  2009-03-31        11          362\n",
              "1  255222  2021-06-28  2018-03-20         4          299\n",
              "2  208527  2015-06-22  2015-06-22         1            0"
            ]
          },
          "execution_count": 32,
          "metadata": {},
          "output_type": "execute_result"
        }
      ],
      "source": [
        "fin1.head(3)"
      ]
    },
    {
      "cell_type": "code",
      "execution_count": null,
      "metadata": {
        "colab": {
          "base_uri": "https://localhost:8080/"
        },
        "id": "FLnKwIR0doJx",
        "outputId": "7b7aeaa2-f819-4d89-e439-c1e2c3a4eeb6"
      },
      "outputs": [
        {
          "data": {
            "text/plain": [
              "invID          0\n",
              "last_pm        0\n",
              "first_pm       0\n",
              "count_pm       0\n",
              "meantime_pm    0\n",
              "dtype: int64"
            ]
          },
          "execution_count": 33,
          "metadata": {},
          "output_type": "execute_result"
        }
      ],
      "source": [
        "fin1.isnull().sum()"
      ]
    },
    {
      "cell_type": "code",
      "execution_count": null,
      "metadata": {
        "colab": {
          "base_uri": "https://localhost:8080/"
        },
        "id": "7BWSk2F5BKte",
        "outputId": "55b52617-26a4-49dd-e859-ce09df0f0191"
      },
      "outputs": [
        {
          "data": {
            "text/plain": [
              "invID          0\n",
              "last_pm        0\n",
              "first_pm       0\n",
              "count_pm       0\n",
              "meantime_pm    0\n",
              "dtype: int64"
            ]
          },
          "execution_count": 34,
          "metadata": {},
          "output_type": "execute_result"
        }
      ],
      "source": [
        "fin1.isnull().sum()"
      ]
    },
    {
      "cell_type": "code",
      "execution_count": null,
      "metadata": {
        "colab": {
          "base_uri": "https://localhost:8080/"
        },
        "id": "8QBAealAEh8k",
        "outputId": "3844c2d0-4a09-498c-ed53-890499f1cd23"
      },
      "outputs": [
        {
          "data": {
            "text/plain": [
              "invID          80503\n",
              "last_pm        80503\n",
              "first_pm       80503\n",
              "count_pm       80503\n",
              "meantime_pm    80503\n",
              "dtype: int64"
            ]
          },
          "execution_count": 35,
          "metadata": {},
          "output_type": "execute_result"
        }
      ],
      "source": [
        "fin1.count()"
      ]
    },
    {
      "cell_type": "code",
      "execution_count": null,
      "metadata": {
        "id": "WxtFQSUG7u0n"
      },
      "outputs": [],
      "source": [
        "fin1.set_index('invID',drop=False,inplace=True)"
      ]
    },
    {
      "cell_type": "code",
      "execution_count": null,
      "metadata": {
        "colab": {
          "base_uri": "https://localhost:8080/"
        },
        "id": "G4ULDnLe8BBF",
        "outputId": "b6c449a6-ad14-446e-beb6-fb80269f5668"
      },
      "outputs": [
        {
          "data": {
            "text/html": [
              "\n",
              "  <div id=\"df-023e6f61-c439-4002-9ed9-7487a3e5c8ab\">\n",
              "    <div class=\"colab-df-container\">\n",
              "      <div>\n",
              "<style scoped>\n",
              "    .dataframe tbody tr th:only-of-type {\n",
              "        vertical-align: middle;\n",
              "    }\n",
              "\n",
              "    .dataframe tbody tr th {\n",
              "        vertical-align: top;\n",
              "    }\n",
              "\n",
              "    .dataframe thead th {\n",
              "        text-align: right;\n",
              "    }\n",
              "</style>\n",
              "<table border=\"1\" class=\"dataframe\">\n",
              "  <thead>\n",
              "    <tr style=\"text-align: right;\">\n",
              "      <th></th>\n",
              "      <th>invID</th>\n",
              "      <th>last_pm</th>\n",
              "      <th>first_pm</th>\n",
              "      <th>count_pm</th>\n",
              "      <th>meantime_pm</th>\n",
              "    </tr>\n",
              "    <tr>\n",
              "      <th>invID</th>\n",
              "      <th></th>\n",
              "      <th></th>\n",
              "      <th></th>\n",
              "      <th></th>\n",
              "      <th></th>\n",
              "    </tr>\n",
              "  </thead>\n",
              "  <tbody>\n",
              "    <tr>\n",
              "      <th>204282</th>\n",
              "      <td>204282</td>\n",
              "      <td>2020-03-04</td>\n",
              "      <td>2009-03-31</td>\n",
              "      <td>11</td>\n",
              "      <td>362</td>\n",
              "    </tr>\n",
              "    <tr>\n",
              "      <th>255222</th>\n",
              "      <td>255222</td>\n",
              "      <td>2021-06-28</td>\n",
              "      <td>2018-03-20</td>\n",
              "      <td>4</td>\n",
              "      <td>299</td>\n",
              "    </tr>\n",
              "    <tr>\n",
              "      <th>208527</th>\n",
              "      <td>208527</td>\n",
              "      <td>2015-06-22</td>\n",
              "      <td>2015-06-22</td>\n",
              "      <td>1</td>\n",
              "      <td>0</td>\n",
              "    </tr>\n",
              "  </tbody>\n",
              "</table>\n",
              "</div>\n",
              "      <button class=\"colab-df-convert\" onclick=\"convertToInteractive('df-023e6f61-c439-4002-9ed9-7487a3e5c8ab')\"\n",
              "              title=\"Convert this dataframe to an interactive table.\"\n",
              "              style=\"display:none;\">\n",
              "        \n",
              "  <svg xmlns=\"http://www.w3.org/2000/svg\" height=\"24px\"viewBox=\"0 0 24 24\"\n",
              "       width=\"24px\">\n",
              "    <path d=\"M0 0h24v24H0V0z\" fill=\"none\"/>\n",
              "    <path d=\"M18.56 5.44l.94 2.06.94-2.06 2.06-.94-2.06-.94-.94-2.06-.94 2.06-2.06.94zm-11 1L8.5 8.5l.94-2.06 2.06-.94-2.06-.94L8.5 2.5l-.94 2.06-2.06.94zm10 10l.94 2.06.94-2.06 2.06-.94-2.06-.94-.94-2.06-.94 2.06-2.06.94z\"/><path d=\"M17.41 7.96l-1.37-1.37c-.4-.4-.92-.59-1.43-.59-.52 0-1.04.2-1.43.59L10.3 9.45l-7.72 7.72c-.78.78-.78 2.05 0 2.83L4 21.41c.39.39.9.59 1.41.59.51 0 1.02-.2 1.41-.59l7.78-7.78 2.81-2.81c.8-.78.8-2.07 0-2.86zM5.41 20L4 18.59l7.72-7.72 1.47 1.35L5.41 20z\"/>\n",
              "  </svg>\n",
              "      </button>\n",
              "      \n",
              "  <style>\n",
              "    .colab-df-container {\n",
              "      display:flex;\n",
              "      flex-wrap:wrap;\n",
              "      gap: 12px;\n",
              "    }\n",
              "\n",
              "    .colab-df-convert {\n",
              "      background-color: #E8F0FE;\n",
              "      border: none;\n",
              "      border-radius: 50%;\n",
              "      cursor: pointer;\n",
              "      display: none;\n",
              "      fill: #1967D2;\n",
              "      height: 32px;\n",
              "      padding: 0 0 0 0;\n",
              "      width: 32px;\n",
              "    }\n",
              "\n",
              "    .colab-df-convert:hover {\n",
              "      background-color: #E2EBFA;\n",
              "      box-shadow: 0px 1px 2px rgba(60, 64, 67, 0.3), 0px 1px 3px 1px rgba(60, 64, 67, 0.15);\n",
              "      fill: #174EA6;\n",
              "    }\n",
              "\n",
              "    [theme=dark] .colab-df-convert {\n",
              "      background-color: #3B4455;\n",
              "      fill: #D2E3FC;\n",
              "    }\n",
              "\n",
              "    [theme=dark] .colab-df-convert:hover {\n",
              "      background-color: #434B5C;\n",
              "      box-shadow: 0px 1px 3px 1px rgba(0, 0, 0, 0.15);\n",
              "      filter: drop-shadow(0px 1px 2px rgba(0, 0, 0, 0.3));\n",
              "      fill: #FFFFFF;\n",
              "    }\n",
              "  </style>\n",
              "\n",
              "      <script>\n",
              "        const buttonEl =\n",
              "          document.querySelector('#df-023e6f61-c439-4002-9ed9-7487a3e5c8ab button.colab-df-convert');\n",
              "        buttonEl.style.display =\n",
              "          google.colab.kernel.accessAllowed ? 'block' : 'none';\n",
              "\n",
              "        async function convertToInteractive(key) {\n",
              "          const element = document.querySelector('#df-023e6f61-c439-4002-9ed9-7487a3e5c8ab');\n",
              "          const dataTable =\n",
              "            await google.colab.kernel.invokeFunction('convertToInteractive',\n",
              "                                                     [key], {});\n",
              "          if (!dataTable) return;\n",
              "\n",
              "          const docLinkHtml = 'Like what you see? Visit the ' +\n",
              "            '<a target=\"_blank\" href=https://colab.research.google.com/notebooks/data_table.ipynb>data table notebook</a>'\n",
              "            + ' to learn more about interactive tables.';\n",
              "          element.innerHTML = '';\n",
              "          dataTable['output_type'] = 'display_data';\n",
              "          await google.colab.output.renderOutput(dataTable, element);\n",
              "          const docLink = document.createElement('div');\n",
              "          docLink.innerHTML = docLinkHtml;\n",
              "          element.appendChild(docLink);\n",
              "        }\n",
              "      </script>\n",
              "    </div>\n",
              "  </div>\n",
              "  "
            ],
            "text/plain": [
              "         invID     last_pm    first_pm  count_pm  meantime_pm\n",
              "invID                                                        \n",
              "204282  204282  2020-03-04  2009-03-31        11          362\n",
              "255222  255222  2021-06-28  2018-03-20         4          299\n",
              "208527  208527  2015-06-22  2015-06-22         1            0"
            ]
          },
          "execution_count": 37,
          "metadata": {},
          "output_type": "execute_result"
        }
      ],
      "source": [
        "fin1.head(3)"
      ]
    },
    {
      "cell_type": "markdown",
      "metadata": {
        "id": "mg5iri2Q0WMF"
      },
      "source": [
        "\n",
        "# pm **history**"
      ]
    },
    {
      "cell_type": "code",
      "execution_count": null,
      "metadata": {
        "id": "AvuIZFFJ0wlg"
      },
      "outputs": [],
      "source": [
        "df4=(r\"/content/drive/MyDrive/Thesis_datasets/New-data-SoftPro/Hospitals1/pm_history.csv\")"
      ]
    },
    {
      "cell_type": "code",
      "execution_count": null,
      "metadata": {
        "id": "kqLXENEE1Auc"
      },
      "outputs": [],
      "source": [
        "fin4=read_csv(df4,sep=';')"
      ]
    },
    {
      "cell_type": "code",
      "execution_count": null,
      "metadata": {
        "id": "GlqhsafD1fX-"
      },
      "outputs": [],
      "source": [
        "fin4.head(3)"
      ]
    },
    {
      "cell_type": "code",
      "execution_count": null,
      "metadata": {
        "id": "LjQOMlyibRE4"
      },
      "outputs": [],
      "source": [
        "fin4.shape"
      ]
    },
    {
      "cell_type": "code",
      "execution_count": null,
      "metadata": {
        "id": "dd5mW3iFftTf"
      },
      "outputs": [],
      "source": [
        "fin4.isnull().sum()"
      ]
    },
    {
      "cell_type": "markdown",
      "metadata": {
        "id": "_TUllsYLeZFe"
      },
      "source": [
        "we need to study devices which have recurring pm activities"
      ]
    },
    {
      "cell_type": "code",
      "execution_count": null,
      "metadata": {
        "id": "tXBnZ-zaelLo"
      },
      "outputs": [],
      "source": [
        "fin4['blnRecurring'].value_counts()"
      ]
    },
    {
      "cell_type": "code",
      "execution_count": null,
      "metadata": {
        "id": "i1BVkT4xdvN6"
      },
      "outputs": [],
      "source": [
        "recurring_hos1=fin4.loc[fin4['blnRecurring']== 1]"
      ]
    },
    {
      "cell_type": "code",
      "execution_count": null,
      "metadata": {
        "id": "Q5IaEa2VidUi"
      },
      "outputs": [],
      "source": [
        "recurring_hos1.shape"
      ]
    },
    {
      "cell_type": "markdown",
      "metadata": {
        "id": "hEDepVQjkBOC"
      },
      "source": [
        "now that we have got only the devices with recurring pm activities , we need to drop all irrelevent columns before translating the rest of the columns "
      ]
    },
    {
      "cell_type": "code",
      "execution_count": null,
      "metadata": {
        "id": "1yKP5QMRkfSe"
      },
      "outputs": [],
      "source": [
        "recurring_hos1.drop(columns=['blnRecurring','intTimeIntervalRecommended','intEstimatedPMTimeHours','(No column name).1','(No column name).2','blnHiddenPMClock'],inplace=True)"
      ]
    },
    {
      "cell_type": "code",
      "execution_count": null,
      "metadata": {
        "id": "CdfTtALxFEqq"
      },
      "outputs": [],
      "source": [
        "recurring_hos1"
      ]
    },
    {
      "cell_type": "markdown",
      "metadata": {
        "id": "xdqT8l-e4UpJ"
      },
      "source": [
        "# WO"
      ]
    },
    {
      "cell_type": "code",
      "execution_count": null,
      "metadata": {
        "id": "GQFzX9Pb4aJ9"
      },
      "outputs": [],
      "source": [
        "df6=(r\"/content/drive/MyDrive/Thesis_datasets/New-data-SoftPro/Hospitals1/wo.csv\")"
      ]
    },
    {
      "cell_type": "code",
      "execution_count": null,
      "metadata": {
        "id": "pcsEIlFeM_Lu"
      },
      "outputs": [],
      "source": [
        "dic={'ID':'ID','AORegDat':'issued','AOKlarDat':'Completed','AOEKlarDat':'fin_com','InventarieID':'InventarieID'}"
      ]
    },
    {
      "cell_type": "code",
      "execution_count": null,
      "metadata": {
        "id": "5n9pqO1K4gGS"
      },
      "outputs": [],
      "source": [
        "fin6=read_csv(df6,sep=';')"
      ]
    },
    {
      "cell_type": "code",
      "execution_count": null,
      "metadata": {
        "id": "_Ut6ayGBOAW4"
      },
      "outputs": [],
      "source": [
        "fin6.rename(columns=dic,inplace=True)"
      ]
    },
    {
      "cell_type": "code",
      "execution_count": null,
      "metadata": {
        "id": "-Bwvi4IUAONb"
      },
      "outputs": [],
      "source": [
        "fin6.query(\"InventarieID==\t220059.0\")"
      ]
    },
    {
      "cell_type": "code",
      "execution_count": null,
      "metadata": {
        "id": "useONue-4wKx"
      },
      "outputs": [],
      "source": [
        "fin6.head(10)"
      ]
    },
    {
      "cell_type": "code",
      "execution_count": null,
      "metadata": {
        "id": "AgJRZttuPD5H"
      },
      "outputs": [],
      "source": [
        "fin6.isnull().sum()"
      ]
    },
    {
      "cell_type": "code",
      "execution_count": null,
      "metadata": {
        "id": "uFD5CdFIPOtG"
      },
      "outputs": [],
      "source": [
        "fin6.dropna(inplace=True)"
      ]
    },
    {
      "cell_type": "code",
      "execution_count": null,
      "metadata": {
        "id": "WMthOu6mLjZs"
      },
      "outputs": [],
      "source": [
        "fin6.shape"
      ]
    },
    {
      "cell_type": "code",
      "execution_count": null,
      "metadata": {
        "id": "nr5TkiWwjRpD"
      },
      "outputs": [],
      "source": [
        "fin6.set_index('InventarieID',inplace=True,drop=False)"
      ]
    },
    {
      "cell_type": "code",
      "execution_count": null,
      "metadata": {
        "id": "vtFWaTgijfAI"
      },
      "outputs": [],
      "source": [
        "fin6.head(3)"
      ]
    },
    {
      "cell_type": "code",
      "execution_count": null,
      "metadata": {
        "id": "dTxqCo4Lr29b"
      },
      "outputs": [],
      "source": [
        "#sorting the dataframe based on the inventarieID descedning order\n",
        "fin6=fin6.sort_index()\n"
      ]
    },
    {
      "cell_type": "code",
      "execution_count": null,
      "metadata": {
        "id": "7hfIUoApsUYK"
      },
      "outputs": [],
      "source": [
        "fin6.iloc[[101]]"
      ]
    },
    {
      "cell_type": "markdown",
      "metadata": {
        "id": "6LOqYCPP2yQE"
      },
      "source": [
        "# **wo data**"
      ]
    },
    {
      "cell_type": "code",
      "execution_count": null,
      "metadata": {
        "id": "12CvdEid2xuI"
      },
      "outputs": [],
      "source": [
        "df7=(r\"/content/drive/MyDrive/Thesis_datasets/New-data-SoftPro/Hospitals1/WO_data.csv\")"
      ]
    },
    {
      "cell_type": "code",
      "execution_count": null,
      "metadata": {
        "id": "njx5WjHV6SzN"
      },
      "outputs": [],
      "source": [
        "fin7=pd.read_csv(df7,sep=';',names=['inventarieID','last_wo','first_wo','Count_wo','meantime'])\n"
      ]
    },
    {
      "cell_type": "code",
      "execution_count": null,
      "metadata": {
        "id": "ybQjxPr_7F4B"
      },
      "outputs": [],
      "source": [
        "fin7.head(3)"
      ]
    },
    {
      "cell_type": "code",
      "execution_count": null,
      "metadata": {
        "id": "yFtAS6gMVMsc"
      },
      "outputs": [],
      "source": [
        "fin7.dropna(inplace=True)"
      ]
    },
    {
      "cell_type": "code",
      "execution_count": null,
      "metadata": {
        "id": "t4x8la3dVVse"
      },
      "outputs": [],
      "source": [
        "fin7.shape"
      ]
    },
    {
      "cell_type": "code",
      "execution_count": null,
      "metadata": {
        "id": "SXcMCA0jjmu2"
      },
      "outputs": [],
      "source": [
        "fin7.set_index('inventarieID',inplace=True,drop=False)"
      ]
    },
    {
      "cell_type": "code",
      "execution_count": null,
      "metadata": {
        "id": "H--8Km8rjzuT"
      },
      "outputs": [],
      "source": [
        "fin7.head(3)"
      ]
    },
    {
      "cell_type": "code",
      "execution_count": null,
      "metadata": {
        "id": "DH06MFG6nWQi"
      },
      "outputs": [],
      "source": []
    },
    {
      "cell_type": "markdown",
      "metadata": {
        "id": "eehY9Ti-JRNZ"
      },
      "source": [
        "# **Connecting recurring hospital pm history data with equipment data to query based on specific devices**"
      ]
    },
    {
      "cell_type": "code",
      "execution_count": null,
      "metadata": {
        "colab": {
          "background_save": true
        },
        "id": "zN_eR6ySN7c1"
      },
      "outputs": [],
      "source": [
        "recurring_hos1.set_index('InventarierID',inplace=True,drop=False)"
      ]
    },
    {
      "cell_type": "code",
      "execution_count": null,
      "metadata": {
        "colab": {
          "background_save": true
        },
        "id": "LWh08uAFPbi2",
        "outputId": "0ab15bc5-277f-411a-f6d8-deade26487d8"
      },
      "outputs": [
        {
          "data": {
            "text/html": [
              "\n",
              "  <div id=\"df-04c8b50b-3fb0-4ffe-93a6-edc9f5cd0cce\">\n",
              "    <div class=\"colab-df-container\">\n",
              "      <div>\n",
              "<style scoped>\n",
              "    .dataframe tbody tr th:only-of-type {\n",
              "        vertical-align: middle;\n",
              "    }\n",
              "\n",
              "    .dataframe tbody tr th {\n",
              "        vertical-align: top;\n",
              "    }\n",
              "\n",
              "    .dataframe thead th {\n",
              "        text-align: right;\n",
              "    }\n",
              "</style>\n",
              "<table border=\"1\" class=\"dataframe\">\n",
              "  <thead>\n",
              "    <tr style=\"text-align: right;\">\n",
              "      <th></th>\n",
              "      <th>(No column name)</th>\n",
              "      <th>ID</th>\n",
              "      <th>intTimeInterval</th>\n",
              "      <th>PM_TimeIntervalUnitID</th>\n",
              "      <th>PM_TimeIntervalUnitIDRecommended</th>\n",
              "      <th>InventarierID</th>\n",
              "      <th>ArborderID</th>\n",
              "      <th>DeviatingTimeIntervalRecommended</th>\n",
              "      <th>PM_diff</th>\n",
              "    </tr>\n",
              "    <tr>\n",
              "      <th>InventarierID</th>\n",
              "      <th></th>\n",
              "      <th></th>\n",
              "      <th></th>\n",
              "      <th></th>\n",
              "      <th></th>\n",
              "      <th></th>\n",
              "      <th></th>\n",
              "      <th></th>\n",
              "      <th></th>\n",
              "    </tr>\n",
              "  </thead>\n",
              "  <tbody>\n",
              "    <tr>\n",
              "      <th>65129</th>\n",
              "      <td>2011-04-03</td>\n",
              "      <td>27837</td>\n",
              "      <td>24.0</td>\n",
              "      <td>2.0</td>\n",
              "      <td>NaN</td>\n",
              "      <td>65129</td>\n",
              "      <td>NaN</td>\n",
              "      <td>1</td>\n",
              "      <td>3579</td>\n",
              "    </tr>\n",
              "    <tr>\n",
              "      <th>65375</th>\n",
              "      <td>2011-04-03</td>\n",
              "      <td>28001</td>\n",
              "      <td>24.0</td>\n",
              "      <td>2.0</td>\n",
              "      <td>NaN</td>\n",
              "      <td>65375</td>\n",
              "      <td>NaN</td>\n",
              "      <td>1</td>\n",
              "      <td>2573</td>\n",
              "    </tr>\n",
              "    <tr>\n",
              "      <th>65657</th>\n",
              "      <td>2011-04-03</td>\n",
              "      <td>28245</td>\n",
              "      <td>12.0</td>\n",
              "      <td>2.0</td>\n",
              "      <td>NaN</td>\n",
              "      <td>65657</td>\n",
              "      <td>NaN</td>\n",
              "      <td>1</td>\n",
              "      <td>2823</td>\n",
              "    </tr>\n",
              "  </tbody>\n",
              "</table>\n",
              "</div>\n",
              "      <button class=\"colab-df-convert\" onclick=\"convertToInteractive('df-04c8b50b-3fb0-4ffe-93a6-edc9f5cd0cce')\"\n",
              "              title=\"Convert this dataframe to an interactive table.\"\n",
              "              style=\"display:none;\">\n",
              "        \n",
              "  <svg xmlns=\"http://www.w3.org/2000/svg\" height=\"24px\"viewBox=\"0 0 24 24\"\n",
              "       width=\"24px\">\n",
              "    <path d=\"M0 0h24v24H0V0z\" fill=\"none\"/>\n",
              "    <path d=\"M18.56 5.44l.94 2.06.94-2.06 2.06-.94-2.06-.94-.94-2.06-.94 2.06-2.06.94zm-11 1L8.5 8.5l.94-2.06 2.06-.94-2.06-.94L8.5 2.5l-.94 2.06-2.06.94zm10 10l.94 2.06.94-2.06 2.06-.94-2.06-.94-.94-2.06-.94 2.06-2.06.94z\"/><path d=\"M17.41 7.96l-1.37-1.37c-.4-.4-.92-.59-1.43-.59-.52 0-1.04.2-1.43.59L10.3 9.45l-7.72 7.72c-.78.78-.78 2.05 0 2.83L4 21.41c.39.39.9.59 1.41.59.51 0 1.02-.2 1.41-.59l7.78-7.78 2.81-2.81c.8-.78.8-2.07 0-2.86zM5.41 20L4 18.59l7.72-7.72 1.47 1.35L5.41 20z\"/>\n",
              "  </svg>\n",
              "      </button>\n",
              "      \n",
              "  <style>\n",
              "    .colab-df-container {\n",
              "      display:flex;\n",
              "      flex-wrap:wrap;\n",
              "      gap: 12px;\n",
              "    }\n",
              "\n",
              "    .colab-df-convert {\n",
              "      background-color: #E8F0FE;\n",
              "      border: none;\n",
              "      border-radius: 50%;\n",
              "      cursor: pointer;\n",
              "      display: none;\n",
              "      fill: #1967D2;\n",
              "      height: 32px;\n",
              "      padding: 0 0 0 0;\n",
              "      width: 32px;\n",
              "    }\n",
              "\n",
              "    .colab-df-convert:hover {\n",
              "      background-color: #E2EBFA;\n",
              "      box-shadow: 0px 1px 2px rgba(60, 64, 67, 0.3), 0px 1px 3px 1px rgba(60, 64, 67, 0.15);\n",
              "      fill: #174EA6;\n",
              "    }\n",
              "\n",
              "    [theme=dark] .colab-df-convert {\n",
              "      background-color: #3B4455;\n",
              "      fill: #D2E3FC;\n",
              "    }\n",
              "\n",
              "    [theme=dark] .colab-df-convert:hover {\n",
              "      background-color: #434B5C;\n",
              "      box-shadow: 0px 1px 3px 1px rgba(0, 0, 0, 0.15);\n",
              "      filter: drop-shadow(0px 1px 2px rgba(0, 0, 0, 0.3));\n",
              "      fill: #FFFFFF;\n",
              "    }\n",
              "  </style>\n",
              "\n",
              "      <script>\n",
              "        const buttonEl =\n",
              "          document.querySelector('#df-04c8b50b-3fb0-4ffe-93a6-edc9f5cd0cce button.colab-df-convert');\n",
              "        buttonEl.style.display =\n",
              "          google.colab.kernel.accessAllowed ? 'block' : 'none';\n",
              "\n",
              "        async function convertToInteractive(key) {\n",
              "          const element = document.querySelector('#df-04c8b50b-3fb0-4ffe-93a6-edc9f5cd0cce');\n",
              "          const dataTable =\n",
              "            await google.colab.kernel.invokeFunction('convertToInteractive',\n",
              "                                                     [key], {});\n",
              "          if (!dataTable) return;\n",
              "\n",
              "          const docLinkHtml = 'Like what you see? Visit the ' +\n",
              "            '<a target=\"_blank\" href=https://colab.research.google.com/notebooks/data_table.ipynb>data table notebook</a>'\n",
              "            + ' to learn more about interactive tables.';\n",
              "          element.innerHTML = '';\n",
              "          dataTable['output_type'] = 'display_data';\n",
              "          await google.colab.output.renderOutput(dataTable, element);\n",
              "          const docLink = document.createElement('div');\n",
              "          docLink.innerHTML = docLinkHtml;\n",
              "          element.appendChild(docLink);\n",
              "        }\n",
              "      </script>\n",
              "    </div>\n",
              "  </div>\n",
              "  "
            ],
            "text/plain": [
              "              (No column name)     ID  intTimeInterval  PM_TimeIntervalUnitID  \\\n",
              "InventarierID                                                                   \n",
              "65129               2011-04-03  27837             24.0                    2.0   \n",
              "65375               2011-04-03  28001             24.0                    2.0   \n",
              "65657               2011-04-03  28245             12.0                    2.0   \n",
              "\n",
              "               PM_TimeIntervalUnitIDRecommended  InventarierID  ArborderID  \\\n",
              "InventarierID                                                                \n",
              "65129                                       NaN          65129         NaN   \n",
              "65375                                       NaN          65375         NaN   \n",
              "65657                                       NaN          65657         NaN   \n",
              "\n",
              "               DeviatingTimeIntervalRecommended  PM_diff  \n",
              "InventarierID                                             \n",
              "65129                                         1     3579  \n",
              "65375                                         1     2573  \n",
              "65657                                         1     2823  "
            ]
          },
          "execution_count": 69,
          "metadata": {},
          "output_type": "execute_result"
        }
      ],
      "source": [
        "recurring_hos1.head(3)"
      ]
    },
    {
      "cell_type": "code",
      "execution_count": null,
      "metadata": {
        "colab": {
          "background_save": true
        },
        "id": "2QCdEoFKJhVd"
      },
      "outputs": [],
      "source": [
        "pmhist_eq=pd.merge(fin,recurring_hos1,left_index=True,right_index=True)"
      ]
    },
    {
      "cell_type": "code",
      "execution_count": null,
      "metadata": {
        "colab": {
          "background_save": true
        },
        "id": "k6AGfuZDSTxt",
        "outputId": "2e1c7a62-4f1d-476c-f6aa-533f2dc583f7"
      },
      "outputs": [
        {
          "data": {
            "text/plain": [
              "(86612, 17)"
            ]
          },
          "execution_count": 71,
          "metadata": {},
          "output_type": "execute_result"
        }
      ],
      "source": [
        "pmhist_eq.shape"
      ]
    },
    {
      "cell_type": "code",
      "execution_count": null,
      "metadata": {
        "colab": {
          "background_save": true
        },
        "id": "sk41cQIJxoii"
      },
      "outputs": [],
      "source": [
        "deviate_hos1=pmhist_eq.loc[pmhist_eq['DeviatingTimeIntervalRecommended'] == 1]"
      ]
    },
    {
      "cell_type": "code",
      "execution_count": null,
      "metadata": {
        "colab": {
          "background_save": true
        },
        "id": "1i_TZvkYzYzr",
        "outputId": "f4f80cb6-7082-4676-9d3a-e0d212ba8eeb"
      },
      "outputs": [
        {
          "data": {
            "text/html": [
              "\n",
              "  <div id=\"df-425f2e04-542d-4372-8828-c19dab9dc425\">\n",
              "    <div class=\"colab-df-container\">\n",
              "      <div>\n",
              "<style scoped>\n",
              "    .dataframe tbody tr th:only-of-type {\n",
              "        vertical-align: middle;\n",
              "    }\n",
              "\n",
              "    .dataframe tbody tr th {\n",
              "        vertical-align: top;\n",
              "    }\n",
              "\n",
              "    .dataframe thead th {\n",
              "        text-align: right;\n",
              "    }\n",
              "</style>\n",
              "<table border=\"1\" class=\"dataframe\">\n",
              "  <thead>\n",
              "    <tr style=\"text-align: right;\">\n",
              "      <th></th>\n",
              "      <th>InvNr</th>\n",
              "      <th>Equip.reg_date</th>\n",
              "      <th>Scrapped_date</th>\n",
              "      <th>ID_x</th>\n",
              "      <th>dev</th>\n",
              "      <th>Brand</th>\n",
              "      <th>Model</th>\n",
              "      <th>calc.Risk</th>\n",
              "      <th>(No column name)</th>\n",
              "      <th>ID_y</th>\n",
              "      <th>intTimeInterval</th>\n",
              "      <th>PM_TimeIntervalUnitID</th>\n",
              "      <th>PM_TimeIntervalUnitIDRecommended</th>\n",
              "      <th>InventarierID</th>\n",
              "      <th>ArborderID</th>\n",
              "      <th>DeviatingTimeIntervalRecommended</th>\n",
              "      <th>PM_diff</th>\n",
              "    </tr>\n",
              "  </thead>\n",
              "  <tbody>\n",
              "    <tr>\n",
              "      <th>17500</th>\n",
              "      <td>9004181</td>\n",
              "      <td>2007-01-01 00:00:00.000</td>\n",
              "      <td>2013-11-13 00:00:00.000</td>\n",
              "      <td>17500</td>\n",
              "      <td>Lungröntgenlab</td>\n",
              "      <td>Fuji</td>\n",
              "      <td>Velocity</td>\n",
              "      <td>31.0</td>\n",
              "      <td>2011-02-28</td>\n",
              "      <td>7800</td>\n",
              "      <td>12.0</td>\n",
              "      <td>2.0</td>\n",
              "      <td>NaN</td>\n",
              "      <td>17500</td>\n",
              "      <td>NaN</td>\n",
              "      <td>1</td>\n",
              "      <td>4112</td>\n",
              "    </tr>\n",
              "    <tr>\n",
              "      <th>17635</th>\n",
              "      <td>R1273-01</td>\n",
              "      <td>1998-01-01 00:00:00.000</td>\n",
              "      <td>2009-12-15 00:00:00.000</td>\n",
              "      <td>17635</td>\n",
              "      <td>Undersökningsstativ/system</td>\n",
              "      <td>Siemens</td>\n",
              "      <td>Siemens Symphony</td>\n",
              "      <td>31.0</td>\n",
              "      <td>2011-02-28</td>\n",
              "      <td>7838</td>\n",
              "      <td>12.0</td>\n",
              "      <td>2.0</td>\n",
              "      <td>NaN</td>\n",
              "      <td>17635</td>\n",
              "      <td>NaN</td>\n",
              "      <td>1</td>\n",
              "      <td>1873</td>\n",
              "    </tr>\n",
              "    <tr>\n",
              "      <th>65129</th>\n",
              "      <td>C105-66</td>\n",
              "      <td>1991-01-01 00:00:00.000</td>\n",
              "      <td>2003-12-15 00:00:00.000</td>\n",
              "      <td>65129</td>\n",
              "      <td>Infusionspump</td>\n",
              "      <td>Cardinal Health</td>\n",
              "      <td>IVAC 561</td>\n",
              "      <td>31.0</td>\n",
              "      <td>2011-04-03</td>\n",
              "      <td>27837</td>\n",
              "      <td>24.0</td>\n",
              "      <td>2.0</td>\n",
              "      <td>NaN</td>\n",
              "      <td>65129</td>\n",
              "      <td>NaN</td>\n",
              "      <td>1</td>\n",
              "      <td>3579</td>\n",
              "    </tr>\n",
              "    <tr>\n",
              "      <th>65130</th>\n",
              "      <td>C105-67</td>\n",
              "      <td>1991-01-01 00:00:00.000</td>\n",
              "      <td>2006-04-03 00:00:00.000</td>\n",
              "      <td>65130</td>\n",
              "      <td>Infusionspump</td>\n",
              "      <td>Cardinal Health</td>\n",
              "      <td>IVAC 561</td>\n",
              "      <td>31.0</td>\n",
              "      <td>2011-04-03</td>\n",
              "      <td>27838</td>\n",
              "      <td>24.0</td>\n",
              "      <td>2.0</td>\n",
              "      <td>NaN</td>\n",
              "      <td>65130</td>\n",
              "      <td>NaN</td>\n",
              "      <td>1</td>\n",
              "      <td>2078</td>\n",
              "    </tr>\n",
              "    <tr>\n",
              "      <th>65131</th>\n",
              "      <td>C105-68</td>\n",
              "      <td>1991-01-01 00:00:00.000</td>\n",
              "      <td>2006-08-21 00:00:00.000</td>\n",
              "      <td>65131</td>\n",
              "      <td>Infusionspump</td>\n",
              "      <td>Cardinal Health</td>\n",
              "      <td>IVAC 561</td>\n",
              "      <td>31.0</td>\n",
              "      <td>2011-04-03</td>\n",
              "      <td>27839</td>\n",
              "      <td>24.0</td>\n",
              "      <td>2.0</td>\n",
              "      <td>NaN</td>\n",
              "      <td>65131</td>\n",
              "      <td>NaN</td>\n",
              "      <td>1</td>\n",
              "      <td>2497</td>\n",
              "    </tr>\n",
              "    <tr>\n",
              "      <th>...</th>\n",
              "      <td>...</td>\n",
              "      <td>...</td>\n",
              "      <td>...</td>\n",
              "      <td>...</td>\n",
              "      <td>...</td>\n",
              "      <td>...</td>\n",
              "      <td>...</td>\n",
              "      <td>...</td>\n",
              "      <td>...</td>\n",
              "      <td>...</td>\n",
              "      <td>...</td>\n",
              "      <td>...</td>\n",
              "      <td>...</td>\n",
              "      <td>...</td>\n",
              "      <td>...</td>\n",
              "      <td>...</td>\n",
              "      <td>...</td>\n",
              "    </tr>\n",
              "    <tr>\n",
              "      <th>252318</th>\n",
              "      <td>000887</td>\n",
              "      <td>2009-12-12 00:00:00.000</td>\n",
              "      <td>2012-08-29 00:00:00.000</td>\n",
              "      <td>252318</td>\n",
              "      <td>Projektor</td>\n",
              "      <td>LG</td>\n",
              "      <td>DX630</td>\n",
              "      <td>31.0</td>\n",
              "      <td>2012-02-16</td>\n",
              "      <td>1590757</td>\n",
              "      <td>6.0</td>\n",
              "      <td>2.0</td>\n",
              "      <td>NaN</td>\n",
              "      <td>252318</td>\n",
              "      <td>1160730.0</td>\n",
              "      <td>1</td>\n",
              "      <td>0</td>\n",
              "    </tr>\n",
              "    <tr>\n",
              "      <th>252318</th>\n",
              "      <td>000887</td>\n",
              "      <td>2009-12-12 00:00:00.000</td>\n",
              "      <td>2012-08-29 00:00:00.000</td>\n",
              "      <td>252318</td>\n",
              "      <td>Projektor</td>\n",
              "      <td>LG</td>\n",
              "      <td>DX630</td>\n",
              "      <td>31.0</td>\n",
              "      <td>2012-02-16</td>\n",
              "      <td>1590787</td>\n",
              "      <td>6.0</td>\n",
              "      <td>2.0</td>\n",
              "      <td>NaN</td>\n",
              "      <td>252318</td>\n",
              "      <td>1160731.0</td>\n",
              "      <td>1</td>\n",
              "      <td>0</td>\n",
              "    </tr>\n",
              "    <tr>\n",
              "      <th>252599</th>\n",
              "      <td>002523</td>\n",
              "      <td>2012-02-23 00:00:00.000</td>\n",
              "      <td>2016-11-07 00:00:00.000</td>\n",
              "      <td>252599</td>\n",
              "      <td>Dator, bärbar/surfplatta (Medical grade)</td>\n",
              "      <td>Dell</td>\n",
              "      <td>Latitude E6320</td>\n",
              "      <td>31.0</td>\n",
              "      <td>2016-11-07</td>\n",
              "      <td>1590800</td>\n",
              "      <td>12.0</td>\n",
              "      <td>2.0</td>\n",
              "      <td>2.0</td>\n",
              "      <td>252599</td>\n",
              "      <td>1160873.0</td>\n",
              "      <td>1</td>\n",
              "      <td>0</td>\n",
              "    </tr>\n",
              "    <tr>\n",
              "      <th>252706</th>\n",
              "      <td>002531</td>\n",
              "      <td>2012-09-13 00:00:00.000</td>\n",
              "      <td>2021-05-31 00:00:00.000</td>\n",
              "      <td>252706</td>\n",
              "      <td>Dator, bärbar/surfplatta (Medical grade)</td>\n",
              "      <td>Dell</td>\n",
              "      <td>Latitude E6230</td>\n",
              "      <td>31.0</td>\n",
              "      <td>2016-02-09</td>\n",
              "      <td>1590775</td>\n",
              "      <td>12.0</td>\n",
              "      <td>2.0</td>\n",
              "      <td>NaN</td>\n",
              "      <td>252706</td>\n",
              "      <td>1160880.0</td>\n",
              "      <td>1</td>\n",
              "      <td>0</td>\n",
              "    </tr>\n",
              "    <tr>\n",
              "      <th>254524</th>\n",
              "      <td>E403-35</td>\n",
              "      <td>1900-01-01 00:00:00.000</td>\n",
              "      <td>2022-01-19 00:00:00.000</td>\n",
              "      <td>254524</td>\n",
              "      <td>Mikroskop Korneal-Hornhinne</td>\n",
              "      <td>Haag-Streit</td>\n",
              "      <td>900 BM</td>\n",
              "      <td>31.0</td>\n",
              "      <td>2009-03-10</td>\n",
              "      <td>1590721</td>\n",
              "      <td>24.0</td>\n",
              "      <td>2.0</td>\n",
              "      <td>NaN</td>\n",
              "      <td>254524</td>\n",
              "      <td>1160629.0</td>\n",
              "      <td>1</td>\n",
              "      <td>0</td>\n",
              "    </tr>\n",
              "  </tbody>\n",
              "</table>\n",
              "<p>75186 rows × 17 columns</p>\n",
              "</div>\n",
              "      <button class=\"colab-df-convert\" onclick=\"convertToInteractive('df-425f2e04-542d-4372-8828-c19dab9dc425')\"\n",
              "              title=\"Convert this dataframe to an interactive table.\"\n",
              "              style=\"display:none;\">\n",
              "        \n",
              "  <svg xmlns=\"http://www.w3.org/2000/svg\" height=\"24px\"viewBox=\"0 0 24 24\"\n",
              "       width=\"24px\">\n",
              "    <path d=\"M0 0h24v24H0V0z\" fill=\"none\"/>\n",
              "    <path d=\"M18.56 5.44l.94 2.06.94-2.06 2.06-.94-2.06-.94-.94-2.06-.94 2.06-2.06.94zm-11 1L8.5 8.5l.94-2.06 2.06-.94-2.06-.94L8.5 2.5l-.94 2.06-2.06.94zm10 10l.94 2.06.94-2.06 2.06-.94-2.06-.94-.94-2.06-.94 2.06-2.06.94z\"/><path d=\"M17.41 7.96l-1.37-1.37c-.4-.4-.92-.59-1.43-.59-.52 0-1.04.2-1.43.59L10.3 9.45l-7.72 7.72c-.78.78-.78 2.05 0 2.83L4 21.41c.39.39.9.59 1.41.59.51 0 1.02-.2 1.41-.59l7.78-7.78 2.81-2.81c.8-.78.8-2.07 0-2.86zM5.41 20L4 18.59l7.72-7.72 1.47 1.35L5.41 20z\"/>\n",
              "  </svg>\n",
              "      </button>\n",
              "      \n",
              "  <style>\n",
              "    .colab-df-container {\n",
              "      display:flex;\n",
              "      flex-wrap:wrap;\n",
              "      gap: 12px;\n",
              "    }\n",
              "\n",
              "    .colab-df-convert {\n",
              "      background-color: #E8F0FE;\n",
              "      border: none;\n",
              "      border-radius: 50%;\n",
              "      cursor: pointer;\n",
              "      display: none;\n",
              "      fill: #1967D2;\n",
              "      height: 32px;\n",
              "      padding: 0 0 0 0;\n",
              "      width: 32px;\n",
              "    }\n",
              "\n",
              "    .colab-df-convert:hover {\n",
              "      background-color: #E2EBFA;\n",
              "      box-shadow: 0px 1px 2px rgba(60, 64, 67, 0.3), 0px 1px 3px 1px rgba(60, 64, 67, 0.15);\n",
              "      fill: #174EA6;\n",
              "    }\n",
              "\n",
              "    [theme=dark] .colab-df-convert {\n",
              "      background-color: #3B4455;\n",
              "      fill: #D2E3FC;\n",
              "    }\n",
              "\n",
              "    [theme=dark] .colab-df-convert:hover {\n",
              "      background-color: #434B5C;\n",
              "      box-shadow: 0px 1px 3px 1px rgba(0, 0, 0, 0.15);\n",
              "      filter: drop-shadow(0px 1px 2px rgba(0, 0, 0, 0.3));\n",
              "      fill: #FFFFFF;\n",
              "    }\n",
              "  </style>\n",
              "\n",
              "      <script>\n",
              "        const buttonEl =\n",
              "          document.querySelector('#df-425f2e04-542d-4372-8828-c19dab9dc425 button.colab-df-convert');\n",
              "        buttonEl.style.display =\n",
              "          google.colab.kernel.accessAllowed ? 'block' : 'none';\n",
              "\n",
              "        async function convertToInteractive(key) {\n",
              "          const element = document.querySelector('#df-425f2e04-542d-4372-8828-c19dab9dc425');\n",
              "          const dataTable =\n",
              "            await google.colab.kernel.invokeFunction('convertToInteractive',\n",
              "                                                     [key], {});\n",
              "          if (!dataTable) return;\n",
              "\n",
              "          const docLinkHtml = 'Like what you see? Visit the ' +\n",
              "            '<a target=\"_blank\" href=https://colab.research.google.com/notebooks/data_table.ipynb>data table notebook</a>'\n",
              "            + ' to learn more about interactive tables.';\n",
              "          element.innerHTML = '';\n",
              "          dataTable['output_type'] = 'display_data';\n",
              "          await google.colab.output.renderOutput(dataTable, element);\n",
              "          const docLink = document.createElement('div');\n",
              "          docLink.innerHTML = docLinkHtml;\n",
              "          element.appendChild(docLink);\n",
              "        }\n",
              "      </script>\n",
              "    </div>\n",
              "  </div>\n",
              "  "
            ],
            "text/plain": [
              "           InvNr           Equip.reg_date            Scrapped_date    ID_x  \\\n",
              "17500    9004181  2007-01-01 00:00:00.000  2013-11-13 00:00:00.000   17500   \n",
              "17635   R1273-01  1998-01-01 00:00:00.000  2009-12-15 00:00:00.000   17635   \n",
              "65129    C105-66  1991-01-01 00:00:00.000  2003-12-15 00:00:00.000   65129   \n",
              "65130    C105-67  1991-01-01 00:00:00.000  2006-04-03 00:00:00.000   65130   \n",
              "65131    C105-68  1991-01-01 00:00:00.000  2006-08-21 00:00:00.000   65131   \n",
              "...          ...                      ...                      ...     ...   \n",
              "252318    000887  2009-12-12 00:00:00.000  2012-08-29 00:00:00.000  252318   \n",
              "252318    000887  2009-12-12 00:00:00.000  2012-08-29 00:00:00.000  252318   \n",
              "252599    002523  2012-02-23 00:00:00.000  2016-11-07 00:00:00.000  252599   \n",
              "252706    002531  2012-09-13 00:00:00.000  2021-05-31 00:00:00.000  252706   \n",
              "254524   E403-35  1900-01-01 00:00:00.000  2022-01-19 00:00:00.000  254524   \n",
              "\n",
              "                                             dev            Brand  \\\n",
              "17500                             Lungröntgenlab             Fuji   \n",
              "17635                 Undersökningsstativ/system          Siemens   \n",
              "65129                              Infusionspump  Cardinal Health   \n",
              "65130                              Infusionspump  Cardinal Health   \n",
              "65131                              Infusionspump  Cardinal Health   \n",
              "...                                          ...              ...   \n",
              "252318                                 Projektor               LG   \n",
              "252318                                 Projektor               LG   \n",
              "252599  Dator, bärbar/surfplatta (Medical grade)             Dell   \n",
              "252706  Dator, bärbar/surfplatta (Medical grade)             Dell   \n",
              "254524               Mikroskop Korneal-Hornhinne      Haag-Streit   \n",
              "\n",
              "                   Model  calc.Risk (No column name)     ID_y  \\\n",
              "17500           Velocity       31.0       2011-02-28     7800   \n",
              "17635   Siemens Symphony       31.0       2011-02-28     7838   \n",
              "65129           IVAC 561       31.0       2011-04-03    27837   \n",
              "65130           IVAC 561       31.0       2011-04-03    27838   \n",
              "65131           IVAC 561       31.0       2011-04-03    27839   \n",
              "...                  ...        ...              ...      ...   \n",
              "252318             DX630       31.0       2012-02-16  1590757   \n",
              "252318             DX630       31.0       2012-02-16  1590787   \n",
              "252599    Latitude E6320       31.0       2016-11-07  1590800   \n",
              "252706    Latitude E6230       31.0       2016-02-09  1590775   \n",
              "254524            900 BM       31.0       2009-03-10  1590721   \n",
              "\n",
              "        intTimeInterval  PM_TimeIntervalUnitID  \\\n",
              "17500              12.0                    2.0   \n",
              "17635              12.0                    2.0   \n",
              "65129              24.0                    2.0   \n",
              "65130              24.0                    2.0   \n",
              "65131              24.0                    2.0   \n",
              "...                 ...                    ...   \n",
              "252318              6.0                    2.0   \n",
              "252318              6.0                    2.0   \n",
              "252599             12.0                    2.0   \n",
              "252706             12.0                    2.0   \n",
              "254524             24.0                    2.0   \n",
              "\n",
              "        PM_TimeIntervalUnitIDRecommended  InventarierID  ArborderID  \\\n",
              "17500                                NaN          17500         NaN   \n",
              "17635                                NaN          17635         NaN   \n",
              "65129                                NaN          65129         NaN   \n",
              "65130                                NaN          65130         NaN   \n",
              "65131                                NaN          65131         NaN   \n",
              "...                                  ...            ...         ...   \n",
              "252318                               NaN         252318   1160730.0   \n",
              "252318                               NaN         252318   1160731.0   \n",
              "252599                               2.0         252599   1160873.0   \n",
              "252706                               NaN         252706   1160880.0   \n",
              "254524                               NaN         254524   1160629.0   \n",
              "\n",
              "        DeviatingTimeIntervalRecommended  PM_diff  \n",
              "17500                                  1     4112  \n",
              "17635                                  1     1873  \n",
              "65129                                  1     3579  \n",
              "65130                                  1     2078  \n",
              "65131                                  1     2497  \n",
              "...                                  ...      ...  \n",
              "252318                                 1        0  \n",
              "252318                                 1        0  \n",
              "252599                                 1        0  \n",
              "252706                                 1        0  \n",
              "254524                                 1        0  \n",
              "\n",
              "[75186 rows x 17 columns]"
            ]
          },
          "execution_count": 73,
          "metadata": {},
          "output_type": "execute_result"
        }
      ],
      "source": [
        "deviate_hos1"
      ]
    },
    {
      "cell_type": "code",
      "execution_count": null,
      "metadata": {
        "colab": {
          "background_save": true
        },
        "id": "qI7M8jzO0FtN"
      },
      "outputs": [],
      "source": [
        "deviate_hos1.drop(columns=['DeviatingTimeIntervalRecommended'],inplace=True)"
      ]
    },
    {
      "cell_type": "code",
      "execution_count": null,
      "metadata": {
        "colab": {
          "background_save": true
        },
        "id": "L8wVv3hm1MCa",
        "outputId": "e4f2bcd4-eeb9-43f8-d2cc-277abf1afab9"
      },
      "outputs": [
        {
          "data": {
            "text/plain": [
              "(75186, 16)"
            ]
          },
          "execution_count": 75,
          "metadata": {},
          "output_type": "execute_result"
        }
      ],
      "source": [
        "deviate_hos1.shape"
      ]
    },
    {
      "cell_type": "code",
      "execution_count": null,
      "metadata": {
        "colab": {
          "background_save": true
        },
        "id": "sWKRBTej1WtN"
      },
      "outputs": [],
      "source": [
        "non_deviatehos1=pmhist_eq.loc[pmhist_eq['DeviatingTimeIntervalRecommended']==0]"
      ]
    },
    {
      "cell_type": "code",
      "execution_count": null,
      "metadata": {
        "colab": {
          "background_save": true
        },
        "id": "yC0Phcgx3GOW",
        "outputId": "73665ff6-7d65-4c1e-c315-d19f3f4170ce"
      },
      "outputs": [
        {
          "data": {
            "text/html": [
              "\n",
              "  <div id=\"df-b0d49800-0a29-4342-be36-c6a5386bd601\">\n",
              "    <div class=\"colab-df-container\">\n",
              "      <div>\n",
              "<style scoped>\n",
              "    .dataframe tbody tr th:only-of-type {\n",
              "        vertical-align: middle;\n",
              "    }\n",
              "\n",
              "    .dataframe tbody tr th {\n",
              "        vertical-align: top;\n",
              "    }\n",
              "\n",
              "    .dataframe thead th {\n",
              "        text-align: right;\n",
              "    }\n",
              "</style>\n",
              "<table border=\"1\" class=\"dataframe\">\n",
              "  <thead>\n",
              "    <tr style=\"text-align: right;\">\n",
              "      <th></th>\n",
              "      <th>InvNr</th>\n",
              "      <th>Equip.reg_date</th>\n",
              "      <th>Scrapped_date</th>\n",
              "      <th>ID_x</th>\n",
              "      <th>dev</th>\n",
              "      <th>Brand</th>\n",
              "      <th>Model</th>\n",
              "      <th>calc.Risk</th>\n",
              "      <th>(No column name)</th>\n",
              "      <th>ID_y</th>\n",
              "      <th>intTimeInterval</th>\n",
              "      <th>PM_TimeIntervalUnitID</th>\n",
              "      <th>PM_TimeIntervalUnitIDRecommended</th>\n",
              "      <th>InventarierID</th>\n",
              "      <th>ArborderID</th>\n",
              "      <th>DeviatingTimeIntervalRecommended</th>\n",
              "      <th>PM_diff</th>\n",
              "    </tr>\n",
              "  </thead>\n",
              "  <tbody>\n",
              "    <tr>\n",
              "      <th>39879</th>\n",
              "      <td>9004189</td>\n",
              "      <td>2008-01-01 00:00:00.000</td>\n",
              "      <td>2021-09-21 00:00:00.000</td>\n",
              "      <td>39879</td>\n",
              "      <td>Ultraljudssystem, bildgivande universellt</td>\n",
              "      <td>Acuson</td>\n",
              "      <td>Sequoia 512</td>\n",
              "      <td>18.0</td>\n",
              "      <td>2021-03-05</td>\n",
              "      <td>220794</td>\n",
              "      <td>12.0</td>\n",
              "      <td>2.0</td>\n",
              "      <td>NaN</td>\n",
              "      <td>39879</td>\n",
              "      <td>1360473.0</td>\n",
              "      <td>0</td>\n",
              "      <td>0</td>\n",
              "    </tr>\n",
              "    <tr>\n",
              "      <th>41575</th>\n",
              "      <td>9045655</td>\n",
              "      <td>2011-01-01 00:00:00.000</td>\n",
              "      <td>2021-12-20 00:00:00.000</td>\n",
              "      <td>41575</td>\n",
              "      <td>Röntgensystem för benabsorptionsmätning, dubbe...</td>\n",
              "      <td>Hologic</td>\n",
              "      <td>Discovery A</td>\n",
              "      <td>16.0</td>\n",
              "      <td>2021-09-06</td>\n",
              "      <td>216789</td>\n",
              "      <td>6.0</td>\n",
              "      <td>2.0</td>\n",
              "      <td>NaN</td>\n",
              "      <td>41575</td>\n",
              "      <td>1398455.0</td>\n",
              "      <td>0</td>\n",
              "      <td>33</td>\n",
              "    </tr>\n",
              "    <tr>\n",
              "      <th>41575</th>\n",
              "      <td>9045655</td>\n",
              "      <td>2011-01-01 00:00:00.000</td>\n",
              "      <td>2021-12-20 00:00:00.000</td>\n",
              "      <td>41575</td>\n",
              "      <td>Röntgensystem för benabsorptionsmätning, dubbe...</td>\n",
              "      <td>Hologic</td>\n",
              "      <td>Discovery A</td>\n",
              "      <td>16.0</td>\n",
              "      <td>2020-08-13</td>\n",
              "      <td>216789</td>\n",
              "      <td>12.0</td>\n",
              "      <td>2.0</td>\n",
              "      <td>NaN</td>\n",
              "      <td>41575</td>\n",
              "      <td>1320087.0</td>\n",
              "      <td>0</td>\n",
              "      <td>0</td>\n",
              "    </tr>\n",
              "    <tr>\n",
              "      <th>41575</th>\n",
              "      <td>9045655</td>\n",
              "      <td>2011-01-01 00:00:00.000</td>\n",
              "      <td>2021-12-20 00:00:00.000</td>\n",
              "      <td>41575</td>\n",
              "      <td>Röntgensystem för benabsorptionsmätning, dubbe...</td>\n",
              "      <td>Hologic</td>\n",
              "      <td>Discovery A</td>\n",
              "      <td>16.0</td>\n",
              "      <td>2020-05-05</td>\n",
              "      <td>216789</td>\n",
              "      <td>12.0</td>\n",
              "      <td>2.0</td>\n",
              "      <td>NaN</td>\n",
              "      <td>41575</td>\n",
              "      <td>1300740.0</td>\n",
              "      <td>0</td>\n",
              "      <td>266</td>\n",
              "    </tr>\n",
              "    <tr>\n",
              "      <th>41575</th>\n",
              "      <td>9045655</td>\n",
              "      <td>2011-01-01 00:00:00.000</td>\n",
              "      <td>2021-12-20 00:00:00.000</td>\n",
              "      <td>41575</td>\n",
              "      <td>Röntgensystem för benabsorptionsmätning, dubbe...</td>\n",
              "      <td>Hologic</td>\n",
              "      <td>Discovery A</td>\n",
              "      <td>16.0</td>\n",
              "      <td>2021-02-22</td>\n",
              "      <td>216789</td>\n",
              "      <td>6.0</td>\n",
              "      <td>2.0</td>\n",
              "      <td>NaN</td>\n",
              "      <td>41575</td>\n",
              "      <td>1357755.0</td>\n",
              "      <td>0</td>\n",
              "      <td>11</td>\n",
              "    </tr>\n",
              "    <tr>\n",
              "      <th>...</th>\n",
              "      <td>...</td>\n",
              "      <td>...</td>\n",
              "      <td>...</td>\n",
              "      <td>...</td>\n",
              "      <td>...</td>\n",
              "      <td>...</td>\n",
              "      <td>...</td>\n",
              "      <td>...</td>\n",
              "      <td>...</td>\n",
              "      <td>...</td>\n",
              "      <td>...</td>\n",
              "      <td>...</td>\n",
              "      <td>...</td>\n",
              "      <td>...</td>\n",
              "      <td>...</td>\n",
              "      <td>...</td>\n",
              "      <td>...</td>\n",
              "    </tr>\n",
              "    <tr>\n",
              "      <th>300077</th>\n",
              "      <td>1984-881</td>\n",
              "      <td>2019-08-14 00:00:00.000</td>\n",
              "      <td>2022-02-17 00:00:00.000</td>\n",
              "      <td>300077</td>\n",
              "      <td>Termometer öron IR</td>\n",
              "      <td>Braun</td>\n",
              "      <td>ThermoScan Pro 6000</td>\n",
              "      <td>13.0</td>\n",
              "      <td>2022-02-17</td>\n",
              "      <td>236157</td>\n",
              "      <td>12.0</td>\n",
              "      <td>2.0</td>\n",
              "      <td>2.0</td>\n",
              "      <td>300077</td>\n",
              "      <td>1426779.0</td>\n",
              "      <td>0</td>\n",
              "      <td>0</td>\n",
              "    </tr>\n",
              "    <tr>\n",
              "      <th>301900</th>\n",
              "      <td>351114</td>\n",
              "      <td>2001-03-04 00:00:00.000</td>\n",
              "      <td>2021-10-05 00:00:00.000</td>\n",
              "      <td>301900</td>\n",
              "      <td>Patientsäng el</td>\n",
              "      <td>Proton Caretec</td>\n",
              "      <td>10101</td>\n",
              "      <td>6.0</td>\n",
              "      <td>2021-07-13</td>\n",
              "      <td>241464</td>\n",
              "      <td>12.0</td>\n",
              "      <td>2.0</td>\n",
              "      <td>NaN</td>\n",
              "      <td>301900</td>\n",
              "      <td>1387727.0</td>\n",
              "      <td>0</td>\n",
              "      <td>0</td>\n",
              "    </tr>\n",
              "    <tr>\n",
              "      <th>301957</th>\n",
              "      <td>351171</td>\n",
              "      <td>2008-04-24 00:00:00.000</td>\n",
              "      <td>2021-10-05 00:00:00.000</td>\n",
              "      <td>301957</td>\n",
              "      <td>Patientsäng el</td>\n",
              "      <td>Proton Caretec</td>\n",
              "      <td>17603</td>\n",
              "      <td>6.0</td>\n",
              "      <td>2021-08-06</td>\n",
              "      <td>241122</td>\n",
              "      <td>12.0</td>\n",
              "      <td>2.0</td>\n",
              "      <td>NaN</td>\n",
              "      <td>301957</td>\n",
              "      <td>1392348.0</td>\n",
              "      <td>0</td>\n",
              "      <td>69</td>\n",
              "    </tr>\n",
              "    <tr>\n",
              "      <th>301957</th>\n",
              "      <td>351171</td>\n",
              "      <td>2008-04-24 00:00:00.000</td>\n",
              "      <td>2021-10-05 00:00:00.000</td>\n",
              "      <td>301957</td>\n",
              "      <td>Patientsäng el</td>\n",
              "      <td>Proton Caretec</td>\n",
              "      <td>17603</td>\n",
              "      <td>6.0</td>\n",
              "      <td>2021-08-17</td>\n",
              "      <td>241122</td>\n",
              "      <td>12.0</td>\n",
              "      <td>2.0</td>\n",
              "      <td>NaN</td>\n",
              "      <td>301957</td>\n",
              "      <td>1394217.0</td>\n",
              "      <td>0</td>\n",
              "      <td>81</td>\n",
              "    </tr>\n",
              "    <tr>\n",
              "      <th>305767</th>\n",
              "      <td>3645-001</td>\n",
              "      <td>2021-07-14 00:00:00.000</td>\n",
              "      <td>2021-10-12 00:00:00.000</td>\n",
              "      <td>305767</td>\n",
              "      <td>Centrifug, laboratorie, allmän användning IVD</td>\n",
              "      <td>Sigma</td>\n",
              "      <td>2-7</td>\n",
              "      <td>22.0</td>\n",
              "      <td>2021-10-12</td>\n",
              "      <td>245519</td>\n",
              "      <td>12.0</td>\n",
              "      <td>2.0</td>\n",
              "      <td>NaN</td>\n",
              "      <td>305767</td>\n",
              "      <td>1405772.0</td>\n",
              "      <td>0</td>\n",
              "      <td>0</td>\n",
              "    </tr>\n",
              "  </tbody>\n",
              "</table>\n",
              "<p>11426 rows × 17 columns</p>\n",
              "</div>\n",
              "      <button class=\"colab-df-convert\" onclick=\"convertToInteractive('df-b0d49800-0a29-4342-be36-c6a5386bd601')\"\n",
              "              title=\"Convert this dataframe to an interactive table.\"\n",
              "              style=\"display:none;\">\n",
              "        \n",
              "  <svg xmlns=\"http://www.w3.org/2000/svg\" height=\"24px\"viewBox=\"0 0 24 24\"\n",
              "       width=\"24px\">\n",
              "    <path d=\"M0 0h24v24H0V0z\" fill=\"none\"/>\n",
              "    <path d=\"M18.56 5.44l.94 2.06.94-2.06 2.06-.94-2.06-.94-.94-2.06-.94 2.06-2.06.94zm-11 1L8.5 8.5l.94-2.06 2.06-.94-2.06-.94L8.5 2.5l-.94 2.06-2.06.94zm10 10l.94 2.06.94-2.06 2.06-.94-2.06-.94-.94-2.06-.94 2.06-2.06.94z\"/><path d=\"M17.41 7.96l-1.37-1.37c-.4-.4-.92-.59-1.43-.59-.52 0-1.04.2-1.43.59L10.3 9.45l-7.72 7.72c-.78.78-.78 2.05 0 2.83L4 21.41c.39.39.9.59 1.41.59.51 0 1.02-.2 1.41-.59l7.78-7.78 2.81-2.81c.8-.78.8-2.07 0-2.86zM5.41 20L4 18.59l7.72-7.72 1.47 1.35L5.41 20z\"/>\n",
              "  </svg>\n",
              "      </button>\n",
              "      \n",
              "  <style>\n",
              "    .colab-df-container {\n",
              "      display:flex;\n",
              "      flex-wrap:wrap;\n",
              "      gap: 12px;\n",
              "    }\n",
              "\n",
              "    .colab-df-convert {\n",
              "      background-color: #E8F0FE;\n",
              "      border: none;\n",
              "      border-radius: 50%;\n",
              "      cursor: pointer;\n",
              "      display: none;\n",
              "      fill: #1967D2;\n",
              "      height: 32px;\n",
              "      padding: 0 0 0 0;\n",
              "      width: 32px;\n",
              "    }\n",
              "\n",
              "    .colab-df-convert:hover {\n",
              "      background-color: #E2EBFA;\n",
              "      box-shadow: 0px 1px 2px rgba(60, 64, 67, 0.3), 0px 1px 3px 1px rgba(60, 64, 67, 0.15);\n",
              "      fill: #174EA6;\n",
              "    }\n",
              "\n",
              "    [theme=dark] .colab-df-convert {\n",
              "      background-color: #3B4455;\n",
              "      fill: #D2E3FC;\n",
              "    }\n",
              "\n",
              "    [theme=dark] .colab-df-convert:hover {\n",
              "      background-color: #434B5C;\n",
              "      box-shadow: 0px 1px 3px 1px rgba(0, 0, 0, 0.15);\n",
              "      filter: drop-shadow(0px 1px 2px rgba(0, 0, 0, 0.3));\n",
              "      fill: #FFFFFF;\n",
              "    }\n",
              "  </style>\n",
              "\n",
              "      <script>\n",
              "        const buttonEl =\n",
              "          document.querySelector('#df-b0d49800-0a29-4342-be36-c6a5386bd601 button.colab-df-convert');\n",
              "        buttonEl.style.display =\n",
              "          google.colab.kernel.accessAllowed ? 'block' : 'none';\n",
              "\n",
              "        async function convertToInteractive(key) {\n",
              "          const element = document.querySelector('#df-b0d49800-0a29-4342-be36-c6a5386bd601');\n",
              "          const dataTable =\n",
              "            await google.colab.kernel.invokeFunction('convertToInteractive',\n",
              "                                                     [key], {});\n",
              "          if (!dataTable) return;\n",
              "\n",
              "          const docLinkHtml = 'Like what you see? Visit the ' +\n",
              "            '<a target=\"_blank\" href=https://colab.research.google.com/notebooks/data_table.ipynb>data table notebook</a>'\n",
              "            + ' to learn more about interactive tables.';\n",
              "          element.innerHTML = '';\n",
              "          dataTable['output_type'] = 'display_data';\n",
              "          await google.colab.output.renderOutput(dataTable, element);\n",
              "          const docLink = document.createElement('div');\n",
              "          docLink.innerHTML = docLinkHtml;\n",
              "          element.appendChild(docLink);\n",
              "        }\n",
              "      </script>\n",
              "    </div>\n",
              "  </div>\n",
              "  "
            ],
            "text/plain": [
              "           InvNr           Equip.reg_date            Scrapped_date    ID_x  \\\n",
              "39879    9004189  2008-01-01 00:00:00.000  2021-09-21 00:00:00.000   39879   \n",
              "41575    9045655  2011-01-01 00:00:00.000  2021-12-20 00:00:00.000   41575   \n",
              "41575    9045655  2011-01-01 00:00:00.000  2021-12-20 00:00:00.000   41575   \n",
              "41575    9045655  2011-01-01 00:00:00.000  2021-12-20 00:00:00.000   41575   \n",
              "41575    9045655  2011-01-01 00:00:00.000  2021-12-20 00:00:00.000   41575   \n",
              "...          ...                      ...                      ...     ...   \n",
              "300077  1984-881  2019-08-14 00:00:00.000  2022-02-17 00:00:00.000  300077   \n",
              "301900    351114  2001-03-04 00:00:00.000  2021-10-05 00:00:00.000  301900   \n",
              "301957    351171  2008-04-24 00:00:00.000  2021-10-05 00:00:00.000  301957   \n",
              "301957    351171  2008-04-24 00:00:00.000  2021-10-05 00:00:00.000  301957   \n",
              "305767  3645-001  2021-07-14 00:00:00.000  2021-10-12 00:00:00.000  305767   \n",
              "\n",
              "                                                      dev           Brand  \\\n",
              "39879           Ultraljudssystem, bildgivande universellt          Acuson   \n",
              "41575   Röntgensystem för benabsorptionsmätning, dubbe...         Hologic   \n",
              "41575   Röntgensystem för benabsorptionsmätning, dubbe...         Hologic   \n",
              "41575   Röntgensystem för benabsorptionsmätning, dubbe...         Hologic   \n",
              "41575   Röntgensystem för benabsorptionsmätning, dubbe...         Hologic   \n",
              "...                                                   ...             ...   \n",
              "300077                                 Termometer öron IR           Braun   \n",
              "301900                                     Patientsäng el  Proton Caretec   \n",
              "301957                                     Patientsäng el  Proton Caretec   \n",
              "301957                                     Patientsäng el  Proton Caretec   \n",
              "305767      Centrifug, laboratorie, allmän användning IVD           Sigma   \n",
              "\n",
              "                      Model  calc.Risk (No column name)    ID_y  \\\n",
              "39879           Sequoia 512       18.0       2021-03-05  220794   \n",
              "41575           Discovery A       16.0       2021-09-06  216789   \n",
              "41575           Discovery A       16.0       2020-08-13  216789   \n",
              "41575           Discovery A       16.0       2020-05-05  216789   \n",
              "41575           Discovery A       16.0       2021-02-22  216789   \n",
              "...                     ...        ...              ...     ...   \n",
              "300077  ThermoScan Pro 6000       13.0       2022-02-17  236157   \n",
              "301900                10101        6.0       2021-07-13  241464   \n",
              "301957                17603        6.0       2021-08-06  241122   \n",
              "301957                17603        6.0       2021-08-17  241122   \n",
              "305767                  2-7       22.0       2021-10-12  245519   \n",
              "\n",
              "        intTimeInterval  PM_TimeIntervalUnitID  \\\n",
              "39879              12.0                    2.0   \n",
              "41575               6.0                    2.0   \n",
              "41575              12.0                    2.0   \n",
              "41575              12.0                    2.0   \n",
              "41575               6.0                    2.0   \n",
              "...                 ...                    ...   \n",
              "300077             12.0                    2.0   \n",
              "301900             12.0                    2.0   \n",
              "301957             12.0                    2.0   \n",
              "301957             12.0                    2.0   \n",
              "305767             12.0                    2.0   \n",
              "\n",
              "        PM_TimeIntervalUnitIDRecommended  InventarierID  ArborderID  \\\n",
              "39879                                NaN          39879   1360473.0   \n",
              "41575                                NaN          41575   1398455.0   \n",
              "41575                                NaN          41575   1320087.0   \n",
              "41575                                NaN          41575   1300740.0   \n",
              "41575                                NaN          41575   1357755.0   \n",
              "...                                  ...            ...         ...   \n",
              "300077                               2.0         300077   1426779.0   \n",
              "301900                               NaN         301900   1387727.0   \n",
              "301957                               NaN         301957   1392348.0   \n",
              "301957                               NaN         301957   1394217.0   \n",
              "305767                               NaN         305767   1405772.0   \n",
              "\n",
              "        DeviatingTimeIntervalRecommended  PM_diff  \n",
              "39879                                  0        0  \n",
              "41575                                  0       33  \n",
              "41575                                  0        0  \n",
              "41575                                  0      266  \n",
              "41575                                  0       11  \n",
              "...                                  ...      ...  \n",
              "300077                                 0        0  \n",
              "301900                                 0        0  \n",
              "301957                                 0       69  \n",
              "301957                                 0       81  \n",
              "305767                                 0        0  \n",
              "\n",
              "[11426 rows x 17 columns]"
            ]
          },
          "execution_count": 77,
          "metadata": {},
          "output_type": "execute_result"
        }
      ],
      "source": [
        "non_deviatehos1"
      ]
    },
    {
      "cell_type": "code",
      "execution_count": null,
      "metadata": {
        "colab": {
          "background_save": true
        },
        "id": "4DA8iftY4Afe",
        "outputId": "df1a4fa0-332e-4568-b3e4-72c5a8f365c7"
      },
      "outputs": [
        {
          "data": {
            "text/plain": [
              "(11426, 17)"
            ]
          },
          "execution_count": 78,
          "metadata": {},
          "output_type": "execute_result"
        }
      ],
      "source": [
        "non_deviatehos1.shape"
      ]
    },
    {
      "cell_type": "markdown",
      "metadata": {
        "id": "Aedacy3dTwLa"
      },
      "source": [
        "query our usual devices from those lists of deviated and non-deviated "
      ]
    },
    {
      "cell_type": "markdown",
      "metadata": {
        "id": "P9GvhR3IUx-e"
      },
      "source": [
        "**patient monitor**"
      ]
    },
    {
      "cell_type": "code",
      "execution_count": null,
      "metadata": {
        "colab": {
          "background_save": true
        },
        "id": "Ux5otxVfT4fE"
      },
      "outputs": [],
      "source": [
        "dev_pa=deviate_hos1.query(\"dev == 'Patientmonitor multiparameter'\")"
      ]
    },
    {
      "cell_type": "code",
      "execution_count": null,
      "metadata": {
        "colab": {
          "background_save": true
        },
        "id": "w0iJF2ZQVPmj",
        "outputId": "79eaff60-a32d-4084-d638-94dcdc69340a"
      },
      "outputs": [
        {
          "data": {
            "text/plain": [
              "(6053, 16)"
            ]
          },
          "execution_count": 80,
          "metadata": {},
          "output_type": "execute_result"
        }
      ],
      "source": [
        "dev_pa.shape"
      ]
    },
    {
      "cell_type": "code",
      "execution_count": null,
      "metadata": {
        "colab": {
          "background_save": true
        },
        "id": "2jKjQ1E8VXze"
      },
      "outputs": [],
      "source": [
        "nondev_pa=non_deviatehos1.query(\"dev =='patientmonitor multiparameter'\")"
      ]
    },
    {
      "cell_type": "code",
      "execution_count": null,
      "metadata": {
        "colab": {
          "background_save": true
        },
        "id": "MS66riluWJCq",
        "outputId": "6f96c601-c7d3-4e98-e3da-75903ce74879"
      },
      "outputs": [
        {
          "data": {
            "text/plain": [
              "(0, 17)"
            ]
          },
          "execution_count": 82,
          "metadata": {},
          "output_type": "execute_result"
        }
      ],
      "source": [
        "nondev_pa.shape"
      ]
    },
    {
      "cell_type": "markdown",
      "metadata": {
        "id": "zCzKyZJxWZrL"
      },
      "source": [
        "**anathesai**"
      ]
    },
    {
      "cell_type": "code",
      "execution_count": null,
      "metadata": {
        "colab": {
          "background_save": true
        },
        "id": "y95v4kHpWcs_"
      },
      "outputs": [],
      "source": [
        "data50=deviate_hos1.query(\"dev == 'Anestesiarbetsstation'\")\n",
        "data30=ata2=deviate_hos1.query(\"dev == 'Anestesiarbetsstation'\")\n",
        "data35=deviate_hos1.query(\"dev == 'Modul till anestesiarbetsstation'\")\n",
        "data40=deviate_hos1.query(\"dev == 'Anestesimedelsförgasare, isofluran'\")\n",
        "data55=deviate_hos1.query(\"dev == 'Anestesimedel Förgasare'\")\n",
        "data60=deviate_hos1.query(\"dev == 'Anestesiapparat mobil'\")\n",
        "data70=deviate_hos1.query(\"dev == 'Lungventilator anestesi'\")\n",
        "deviatedata_anes = pd.concat([data50, data30,data35,data50, data40, data55, data60, data70], axis=0)"
      ]
    },
    {
      "cell_type": "code",
      "execution_count": null,
      "metadata": {
        "colab": {
          "background_save": true
        },
        "id": "ykfwgr7KWWVE",
        "outputId": "e0866808-a6b8-4d87-d251-fba9882df38b"
      },
      "outputs": [
        {
          "data": {
            "text/plain": [
              "(3050, 16)"
            ]
          },
          "execution_count": 84,
          "metadata": {},
          "output_type": "execute_result"
        }
      ],
      "source": [
        "deviatedata_anes.shape"
      ]
    },
    {
      "cell_type": "code",
      "execution_count": null,
      "metadata": {
        "colab": {
          "background_save": true
        },
        "id": "XHYyaz2CYWwX"
      },
      "outputs": [],
      "source": [
        "data51=non_deviatehos1.query(\"dev == 'Anestesiarbetsstation'\")\n",
        "data31=ata2=non_deviatehos1.query(\"dev == 'Anestesiarbetsstation'\")\n",
        "data36=deviate_hos1.query(\"dev == 'Modul till anestesiarbetsstation'\")\n",
        "data41=deviate_hos1.query(\"dev == 'Anestesimedelsförgasare, isofluran'\")\n",
        "data56=deviate_hos1.query(\"dev == 'Anestesimedel Förgasare'\")\n",
        "data61=deviate_hos1.query(\"dev == 'Anestesiapparat mobil'\")\n",
        "data71=deviate_hos1.query(\"dev == 'Lungventilator anestesi'\")\n",
        "non_deviatedata_anes = pd.concat([data51, data31,data36,data51, data41, data56, data61, data71], axis=0)"
      ]
    },
    {
      "cell_type": "code",
      "execution_count": null,
      "metadata": {
        "colab": {
          "background_save": true
        },
        "id": "-BdPcDdqZHyJ",
        "outputId": "3ca15c9f-60b5-4459-a8c7-d8e9ea8c5ef4"
      },
      "outputs": [
        {
          "data": {
            "text/plain": [
              "(1247, 17)"
            ]
          },
          "execution_count": 86,
          "metadata": {},
          "output_type": "execute_result"
        }
      ],
      "source": [
        "non_deviatedata_anes.shape"
      ]
    },
    {
      "cell_type": "markdown",
      "metadata": {
        "id": "D31XnUlW10Zo"
      },
      "source": [
        "**pm overdue**"
      ]
    },
    {
      "cell_type": "code",
      "execution_count": null,
      "metadata": {
        "colab": {
          "background_save": true
        },
        "id": "F0EhtZ9O2LkY"
      },
      "outputs": [],
      "source": [
        "df5=(r\"/content/drive/MyDrive/Thesis_datasets/New-data-SoftPro/Hospitals1/PM_overdue.csv\")"
      ]
    },
    {
      "cell_type": "code",
      "execution_count": null,
      "metadata": {
        "colab": {
          "background_save": true
        },
        "id": "sbO4L0G32imv"
      },
      "outputs": [],
      "source": [
        "fin5=read_csv(df5,sep=';',names=['inID','V1','V2','V3'])"
      ]
    },
    {
      "cell_type": "code",
      "execution_count": null,
      "metadata": {
        "colab": {
          "background_save": true
        },
        "id": "-CO-KAFI2rdz",
        "outputId": "edf4f044-b57e-446e-ac5c-d53322100dc7"
      },
      "outputs": [
        {
          "data": {
            "text/html": [
              "\n",
              "  <div id=\"df-3041264b-330f-4a04-8133-dc7a7a178278\">\n",
              "    <div class=\"colab-df-container\">\n",
              "      <div>\n",
              "<style scoped>\n",
              "    .dataframe tbody tr th:only-of-type {\n",
              "        vertical-align: middle;\n",
              "    }\n",
              "\n",
              "    .dataframe tbody tr th {\n",
              "        vertical-align: top;\n",
              "    }\n",
              "\n",
              "    .dataframe thead th {\n",
              "        text-align: right;\n",
              "    }\n",
              "</style>\n",
              "<table border=\"1\" class=\"dataframe\">\n",
              "  <thead>\n",
              "    <tr style=\"text-align: right;\">\n",
              "      <th></th>\n",
              "      <th>inID</th>\n",
              "      <th>V1</th>\n",
              "      <th>V2</th>\n",
              "      <th>V3</th>\n",
              "    </tr>\n",
              "  </thead>\n",
              "  <tbody>\n",
              "    <tr>\n",
              "      <th>0</th>\n",
              "      <td>89667</td>\n",
              "      <td>4</td>\n",
              "      <td>0</td>\n",
              "      <td>1</td>\n",
              "    </tr>\n",
              "    <tr>\n",
              "      <th>1</th>\n",
              "      <td>140607</td>\n",
              "      <td>6</td>\n",
              "      <td>0</td>\n",
              "      <td>0</td>\n",
              "    </tr>\n",
              "    <tr>\n",
              "      <th>2</th>\n",
              "      <td>93912</td>\n",
              "      <td>5</td>\n",
              "      <td>0</td>\n",
              "      <td>1</td>\n",
              "    </tr>\n",
              "  </tbody>\n",
              "</table>\n",
              "</div>\n",
              "      <button class=\"colab-df-convert\" onclick=\"convertToInteractive('df-3041264b-330f-4a04-8133-dc7a7a178278')\"\n",
              "              title=\"Convert this dataframe to an interactive table.\"\n",
              "              style=\"display:none;\">\n",
              "        \n",
              "  <svg xmlns=\"http://www.w3.org/2000/svg\" height=\"24px\"viewBox=\"0 0 24 24\"\n",
              "       width=\"24px\">\n",
              "    <path d=\"M0 0h24v24H0V0z\" fill=\"none\"/>\n",
              "    <path d=\"M18.56 5.44l.94 2.06.94-2.06 2.06-.94-2.06-.94-.94-2.06-.94 2.06-2.06.94zm-11 1L8.5 8.5l.94-2.06 2.06-.94-2.06-.94L8.5 2.5l-.94 2.06-2.06.94zm10 10l.94 2.06.94-2.06 2.06-.94-2.06-.94-.94-2.06-.94 2.06-2.06.94z\"/><path d=\"M17.41 7.96l-1.37-1.37c-.4-.4-.92-.59-1.43-.59-.52 0-1.04.2-1.43.59L10.3 9.45l-7.72 7.72c-.78.78-.78 2.05 0 2.83L4 21.41c.39.39.9.59 1.41.59.51 0 1.02-.2 1.41-.59l7.78-7.78 2.81-2.81c.8-.78.8-2.07 0-2.86zM5.41 20L4 18.59l7.72-7.72 1.47 1.35L5.41 20z\"/>\n",
              "  </svg>\n",
              "      </button>\n",
              "      \n",
              "  <style>\n",
              "    .colab-df-container {\n",
              "      display:flex;\n",
              "      flex-wrap:wrap;\n",
              "      gap: 12px;\n",
              "    }\n",
              "\n",
              "    .colab-df-convert {\n",
              "      background-color: #E8F0FE;\n",
              "      border: none;\n",
              "      border-radius: 50%;\n",
              "      cursor: pointer;\n",
              "      display: none;\n",
              "      fill: #1967D2;\n",
              "      height: 32px;\n",
              "      padding: 0 0 0 0;\n",
              "      width: 32px;\n",
              "    }\n",
              "\n",
              "    .colab-df-convert:hover {\n",
              "      background-color: #E2EBFA;\n",
              "      box-shadow: 0px 1px 2px rgba(60, 64, 67, 0.3), 0px 1px 3px 1px rgba(60, 64, 67, 0.15);\n",
              "      fill: #174EA6;\n",
              "    }\n",
              "\n",
              "    [theme=dark] .colab-df-convert {\n",
              "      background-color: #3B4455;\n",
              "      fill: #D2E3FC;\n",
              "    }\n",
              "\n",
              "    [theme=dark] .colab-df-convert:hover {\n",
              "      background-color: #434B5C;\n",
              "      box-shadow: 0px 1px 3px 1px rgba(0, 0, 0, 0.15);\n",
              "      filter: drop-shadow(0px 1px 2px rgba(0, 0, 0, 0.3));\n",
              "      fill: #FFFFFF;\n",
              "    }\n",
              "  </style>\n",
              "\n",
              "      <script>\n",
              "        const buttonEl =\n",
              "          document.querySelector('#df-3041264b-330f-4a04-8133-dc7a7a178278 button.colab-df-convert');\n",
              "        buttonEl.style.display =\n",
              "          google.colab.kernel.accessAllowed ? 'block' : 'none';\n",
              "\n",
              "        async function convertToInteractive(key) {\n",
              "          const element = document.querySelector('#df-3041264b-330f-4a04-8133-dc7a7a178278');\n",
              "          const dataTable =\n",
              "            await google.colab.kernel.invokeFunction('convertToInteractive',\n",
              "                                                     [key], {});\n",
              "          if (!dataTable) return;\n",
              "\n",
              "          const docLinkHtml = 'Like what you see? Visit the ' +\n",
              "            '<a target=\"_blank\" href=https://colab.research.google.com/notebooks/data_table.ipynb>data table notebook</a>'\n",
              "            + ' to learn more about interactive tables.';\n",
              "          element.innerHTML = '';\n",
              "          dataTable['output_type'] = 'display_data';\n",
              "          await google.colab.output.renderOutput(dataTable, element);\n",
              "          const docLink = document.createElement('div');\n",
              "          docLink.innerHTML = docLinkHtml;\n",
              "          element.appendChild(docLink);\n",
              "        }\n",
              "      </script>\n",
              "    </div>\n",
              "  </div>\n",
              "  "
            ],
            "text/plain": [
              "     inID  V1  V2  V3\n",
              "0   89667   4   0   1\n",
              "1  140607   6   0   0\n",
              "2   93912   5   0   1"
            ]
          },
          "execution_count": 89,
          "metadata": {},
          "output_type": "execute_result"
        }
      ],
      "source": [
        "fin5.head(3)"
      ]
    },
    {
      "cell_type": "markdown",
      "metadata": {
        "id": "BjFvwT7xIqSE"
      },
      "source": [
        "# Connecting **wo** AND **WO_data** files based on inventarieID \n"
      ]
    },
    {
      "cell_type": "code",
      "execution_count": null,
      "metadata": {
        "colab": {
          "background_save": true
        },
        "id": "9zBxKXtxW702"
      },
      "outputs": [],
      "source": [
        "inner_merged_total_WO = pd.merge(fin6,fin7,left_index=True, right_index=True)"
      ]
    },
    {
      "cell_type": "markdown",
      "metadata": {
        "id": "nZ8NUsh6gd96"
      },
      "source": []
    },
    {
      "cell_type": "code",
      "execution_count": null,
      "metadata": {
        "colab": {
          "background_save": true
        },
        "id": "JjWGMmU_koBe",
        "outputId": "2c43396b-5700-497a-b33d-28ced27b40b0"
      },
      "outputs": [
        {
          "data": {
            "text/plain": [
              "(707677, 10)"
            ]
          },
          "execution_count": 91,
          "metadata": {},
          "output_type": "execute_result"
        }
      ],
      "source": [
        "inner_merged_total_WO.shape"
      ]
    },
    {
      "cell_type": "code",
      "execution_count": null,
      "metadata": {
        "colab": {
          "background_save": true
        },
        "id": "7cpiqkpAk5lF",
        "outputId": "e1dcadbb-652f-4de3-cbc3-a93eea805f45"
      },
      "outputs": [
        {
          "data": {
            "text/html": [
              "\n",
              "  <div id=\"df-ff2e8893-1811-4ba0-9ac8-a19930ca6def\">\n",
              "    <div class=\"colab-df-container\">\n",
              "      <div>\n",
              "<style scoped>\n",
              "    .dataframe tbody tr th:only-of-type {\n",
              "        vertical-align: middle;\n",
              "    }\n",
              "\n",
              "    .dataframe tbody tr th {\n",
              "        vertical-align: top;\n",
              "    }\n",
              "\n",
              "    .dataframe thead th {\n",
              "        text-align: right;\n",
              "    }\n",
              "</style>\n",
              "<table border=\"1\" class=\"dataframe\">\n",
              "  <thead>\n",
              "    <tr style=\"text-align: right;\">\n",
              "      <th></th>\n",
              "      <th>ID</th>\n",
              "      <th>issued</th>\n",
              "      <th>Completed</th>\n",
              "      <th>AOEkKlarDat</th>\n",
              "      <th>InventarieID</th>\n",
              "      <th>inventarieID</th>\n",
              "      <th>last_wo</th>\n",
              "      <th>first_wo</th>\n",
              "      <th>Count_wo</th>\n",
              "      <th>meantime</th>\n",
              "    </tr>\n",
              "  </thead>\n",
              "  <tbody>\n",
              "    <tr>\n",
              "      <th>1364.0</th>\n",
              "      <td>1233471</td>\n",
              "      <td>2019-05-03 00:00:00.000</td>\n",
              "      <td>2019-05-09 00:00:00.000</td>\n",
              "      <td>2019-05-09 00:00:00.000</td>\n",
              "      <td>1364.0</td>\n",
              "      <td>1364.0</td>\n",
              "      <td>2020-08-13</td>\n",
              "      <td>2011-03-25</td>\n",
              "      <td>65</td>\n",
              "      <td>52</td>\n",
              "    </tr>\n",
              "    <tr>\n",
              "      <th>1364.0</th>\n",
              "      <td>662950</td>\n",
              "      <td>2017-05-26 00:00:00.000</td>\n",
              "      <td>2017-05-26 00:00:00.000</td>\n",
              "      <td>2017-05-26 00:00:00.000</td>\n",
              "      <td>1364.0</td>\n",
              "      <td>1364.0</td>\n",
              "      <td>2020-08-13</td>\n",
              "      <td>2011-03-25</td>\n",
              "      <td>65</td>\n",
              "      <td>52</td>\n",
              "    </tr>\n",
              "    <tr>\n",
              "      <th>1364.0</th>\n",
              "      <td>612067</td>\n",
              "      <td>2016-01-04 00:00:00.000</td>\n",
              "      <td>2016-01-04 00:00:00.000</td>\n",
              "      <td>2016-01-04 00:00:00.000</td>\n",
              "      <td>1364.0</td>\n",
              "      <td>1364.0</td>\n",
              "      <td>2020-08-13</td>\n",
              "      <td>2011-03-25</td>\n",
              "      <td>65</td>\n",
              "      <td>52</td>\n",
              "    </tr>\n",
              "    <tr>\n",
              "      <th>1364.0</th>\n",
              "      <td>393467</td>\n",
              "      <td>2012-07-23 00:00:00.000</td>\n",
              "      <td>2012-12-21 00:00:00.000</td>\n",
              "      <td>2012-12-21 00:00:00.000</td>\n",
              "      <td>1364.0</td>\n",
              "      <td>1364.0</td>\n",
              "      <td>2020-08-13</td>\n",
              "      <td>2011-03-25</td>\n",
              "      <td>65</td>\n",
              "      <td>52</td>\n",
              "    </tr>\n",
              "    <tr>\n",
              "      <th>1364.0</th>\n",
              "      <td>1237176</td>\n",
              "      <td>2019-05-21 00:00:00.000</td>\n",
              "      <td>2019-05-21 00:00:00.000</td>\n",
              "      <td>2019-05-21 00:00:00.000</td>\n",
              "      <td>1364.0</td>\n",
              "      <td>1364.0</td>\n",
              "      <td>2020-08-13</td>\n",
              "      <td>2011-03-25</td>\n",
              "      <td>65</td>\n",
              "      <td>52</td>\n",
              "    </tr>\n",
              "    <tr>\n",
              "      <th>1364.0</th>\n",
              "      <td>1222558</td>\n",
              "      <td>2019-02-28 00:00:00.000</td>\n",
              "      <td>2019-02-28 00:00:00.000</td>\n",
              "      <td>2019-02-28 00:00:00.000</td>\n",
              "      <td>1364.0</td>\n",
              "      <td>1364.0</td>\n",
              "      <td>2020-08-13</td>\n",
              "      <td>2011-03-25</td>\n",
              "      <td>65</td>\n",
              "      <td>52</td>\n",
              "    </tr>\n",
              "    <tr>\n",
              "      <th>1364.0</th>\n",
              "      <td>1167578</td>\n",
              "      <td>2018-04-24 00:00:00.000</td>\n",
              "      <td>2018-04-24 00:00:00.000</td>\n",
              "      <td>2018-04-24 00:00:00.000</td>\n",
              "      <td>1364.0</td>\n",
              "      <td>1364.0</td>\n",
              "      <td>2020-08-13</td>\n",
              "      <td>2011-03-25</td>\n",
              "      <td>65</td>\n",
              "      <td>52</td>\n",
              "    </tr>\n",
              "    <tr>\n",
              "      <th>1364.0</th>\n",
              "      <td>510206</td>\n",
              "      <td>2013-02-14 00:00:00.000</td>\n",
              "      <td>2013-02-14 00:00:00.000</td>\n",
              "      <td>2013-02-14 00:00:00.000</td>\n",
              "      <td>1364.0</td>\n",
              "      <td>1364.0</td>\n",
              "      <td>2020-08-13</td>\n",
              "      <td>2011-03-25</td>\n",
              "      <td>65</td>\n",
              "      <td>52</td>\n",
              "    </tr>\n",
              "    <tr>\n",
              "      <th>1364.0</th>\n",
              "      <td>397564</td>\n",
              "      <td>2012-10-09 00:00:00.000</td>\n",
              "      <td>2012-10-09 00:00:00.000</td>\n",
              "      <td>2012-10-09 00:00:00.000</td>\n",
              "      <td>1364.0</td>\n",
              "      <td>1364.0</td>\n",
              "      <td>2020-08-13</td>\n",
              "      <td>2011-03-25</td>\n",
              "      <td>65</td>\n",
              "      <td>52</td>\n",
              "    </tr>\n",
              "    <tr>\n",
              "      <th>1364.0</th>\n",
              "      <td>394949</td>\n",
              "      <td>2012-08-24 00:00:00.000</td>\n",
              "      <td>2013-01-28 00:00:00.000</td>\n",
              "      <td>2013-01-28 00:00:00.000</td>\n",
              "      <td>1364.0</td>\n",
              "      <td>1364.0</td>\n",
              "      <td>2020-08-13</td>\n",
              "      <td>2011-03-25</td>\n",
              "      <td>65</td>\n",
              "      <td>52</td>\n",
              "    </tr>\n",
              "  </tbody>\n",
              "</table>\n",
              "</div>\n",
              "      <button class=\"colab-df-convert\" onclick=\"convertToInteractive('df-ff2e8893-1811-4ba0-9ac8-a19930ca6def')\"\n",
              "              title=\"Convert this dataframe to an interactive table.\"\n",
              "              style=\"display:none;\">\n",
              "        \n",
              "  <svg xmlns=\"http://www.w3.org/2000/svg\" height=\"24px\"viewBox=\"0 0 24 24\"\n",
              "       width=\"24px\">\n",
              "    <path d=\"M0 0h24v24H0V0z\" fill=\"none\"/>\n",
              "    <path d=\"M18.56 5.44l.94 2.06.94-2.06 2.06-.94-2.06-.94-.94-2.06-.94 2.06-2.06.94zm-11 1L8.5 8.5l.94-2.06 2.06-.94-2.06-.94L8.5 2.5l-.94 2.06-2.06.94zm10 10l.94 2.06.94-2.06 2.06-.94-2.06-.94-.94-2.06-.94 2.06-2.06.94z\"/><path d=\"M17.41 7.96l-1.37-1.37c-.4-.4-.92-.59-1.43-.59-.52 0-1.04.2-1.43.59L10.3 9.45l-7.72 7.72c-.78.78-.78 2.05 0 2.83L4 21.41c.39.39.9.59 1.41.59.51 0 1.02-.2 1.41-.59l7.78-7.78 2.81-2.81c.8-.78.8-2.07 0-2.86zM5.41 20L4 18.59l7.72-7.72 1.47 1.35L5.41 20z\"/>\n",
              "  </svg>\n",
              "      </button>\n",
              "      \n",
              "  <style>\n",
              "    .colab-df-container {\n",
              "      display:flex;\n",
              "      flex-wrap:wrap;\n",
              "      gap: 12px;\n",
              "    }\n",
              "\n",
              "    .colab-df-convert {\n",
              "      background-color: #E8F0FE;\n",
              "      border: none;\n",
              "      border-radius: 50%;\n",
              "      cursor: pointer;\n",
              "      display: none;\n",
              "      fill: #1967D2;\n",
              "      height: 32px;\n",
              "      padding: 0 0 0 0;\n",
              "      width: 32px;\n",
              "    }\n",
              "\n",
              "    .colab-df-convert:hover {\n",
              "      background-color: #E2EBFA;\n",
              "      box-shadow: 0px 1px 2px rgba(60, 64, 67, 0.3), 0px 1px 3px 1px rgba(60, 64, 67, 0.15);\n",
              "      fill: #174EA6;\n",
              "    }\n",
              "\n",
              "    [theme=dark] .colab-df-convert {\n",
              "      background-color: #3B4455;\n",
              "      fill: #D2E3FC;\n",
              "    }\n",
              "\n",
              "    [theme=dark] .colab-df-convert:hover {\n",
              "      background-color: #434B5C;\n",
              "      box-shadow: 0px 1px 3px 1px rgba(0, 0, 0, 0.15);\n",
              "      filter: drop-shadow(0px 1px 2px rgba(0, 0, 0, 0.3));\n",
              "      fill: #FFFFFF;\n",
              "    }\n",
              "  </style>\n",
              "\n",
              "      <script>\n",
              "        const buttonEl =\n",
              "          document.querySelector('#df-ff2e8893-1811-4ba0-9ac8-a19930ca6def button.colab-df-convert');\n",
              "        buttonEl.style.display =\n",
              "          google.colab.kernel.accessAllowed ? 'block' : 'none';\n",
              "\n",
              "        async function convertToInteractive(key) {\n",
              "          const element = document.querySelector('#df-ff2e8893-1811-4ba0-9ac8-a19930ca6def');\n",
              "          const dataTable =\n",
              "            await google.colab.kernel.invokeFunction('convertToInteractive',\n",
              "                                                     [key], {});\n",
              "          if (!dataTable) return;\n",
              "\n",
              "          const docLinkHtml = 'Like what you see? Visit the ' +\n",
              "            '<a target=\"_blank\" href=https://colab.research.google.com/notebooks/data_table.ipynb>data table notebook</a>'\n",
              "            + ' to learn more about interactive tables.';\n",
              "          element.innerHTML = '';\n",
              "          dataTable['output_type'] = 'display_data';\n",
              "          await google.colab.output.renderOutput(dataTable, element);\n",
              "          const docLink = document.createElement('div');\n",
              "          docLink.innerHTML = docLinkHtml;\n",
              "          element.appendChild(docLink);\n",
              "        }\n",
              "      </script>\n",
              "    </div>\n",
              "  </div>\n",
              "  "
            ],
            "text/plain": [
              "             ID                   issued                Completed  \\\n",
              "1364.0  1233471  2019-05-03 00:00:00.000  2019-05-09 00:00:00.000   \n",
              "1364.0   662950  2017-05-26 00:00:00.000  2017-05-26 00:00:00.000   \n",
              "1364.0   612067  2016-01-04 00:00:00.000  2016-01-04 00:00:00.000   \n",
              "1364.0   393467  2012-07-23 00:00:00.000  2012-12-21 00:00:00.000   \n",
              "1364.0  1237176  2019-05-21 00:00:00.000  2019-05-21 00:00:00.000   \n",
              "1364.0  1222558  2019-02-28 00:00:00.000  2019-02-28 00:00:00.000   \n",
              "1364.0  1167578  2018-04-24 00:00:00.000  2018-04-24 00:00:00.000   \n",
              "1364.0   510206  2013-02-14 00:00:00.000  2013-02-14 00:00:00.000   \n",
              "1364.0   397564  2012-10-09 00:00:00.000  2012-10-09 00:00:00.000   \n",
              "1364.0   394949  2012-08-24 00:00:00.000  2013-01-28 00:00:00.000   \n",
              "\n",
              "                    AOEkKlarDat  InventarieID  inventarieID     last_wo  \\\n",
              "1364.0  2019-05-09 00:00:00.000        1364.0        1364.0  2020-08-13   \n",
              "1364.0  2017-05-26 00:00:00.000        1364.0        1364.0  2020-08-13   \n",
              "1364.0  2016-01-04 00:00:00.000        1364.0        1364.0  2020-08-13   \n",
              "1364.0  2012-12-21 00:00:00.000        1364.0        1364.0  2020-08-13   \n",
              "1364.0  2019-05-21 00:00:00.000        1364.0        1364.0  2020-08-13   \n",
              "1364.0  2019-02-28 00:00:00.000        1364.0        1364.0  2020-08-13   \n",
              "1364.0  2018-04-24 00:00:00.000        1364.0        1364.0  2020-08-13   \n",
              "1364.0  2013-02-14 00:00:00.000        1364.0        1364.0  2020-08-13   \n",
              "1364.0  2012-10-09 00:00:00.000        1364.0        1364.0  2020-08-13   \n",
              "1364.0  2013-01-28 00:00:00.000        1364.0        1364.0  2020-08-13   \n",
              "\n",
              "          first_wo  Count_wo  meantime  \n",
              "1364.0  2011-03-25        65        52  \n",
              "1364.0  2011-03-25        65        52  \n",
              "1364.0  2011-03-25        65        52  \n",
              "1364.0  2011-03-25        65        52  \n",
              "1364.0  2011-03-25        65        52  \n",
              "1364.0  2011-03-25        65        52  \n",
              "1364.0  2011-03-25        65        52  \n",
              "1364.0  2011-03-25        65        52  \n",
              "1364.0  2011-03-25        65        52  \n",
              "1364.0  2011-03-25        65        52  "
            ]
          },
          "execution_count": 92,
          "metadata": {},
          "output_type": "execute_result"
        }
      ],
      "source": [
        "inner_merged_total_WO.head(10)"
      ]
    },
    {
      "cell_type": "code",
      "execution_count": null,
      "metadata": {
        "id": "PlAQ8ppmp6J2"
      },
      "outputs": [],
      "source": [
        "inner_merged_total_WO.value_counts()"
      ]
    },
    {
      "cell_type": "code",
      "execution_count": null,
      "metadata": {
        "id": "S9ShvDProjRY"
      },
      "outputs": [],
      "source": [
        "test1=inner_merged_total_WO.query(\"inventarieID==92123.0\")\n",
        "test1.shape\n",
        "test1"
      ]
    },
    {
      "cell_type": "code",
      "execution_count": null,
      "metadata": {
        "id": "w5YrZfTlmyni"
      },
      "outputs": [],
      "source": [
        "inner_merged_total_WO.count()"
      ]
    },
    {
      "cell_type": "code",
      "execution_count": null,
      "metadata": {
        "id": "LraPbW_-rwH8"
      },
      "outputs": [],
      "source": []
    },
    {
      "cell_type": "code",
      "execution_count": null,
      "metadata": {
        "id": "7FAKRaOyr-7K"
      },
      "outputs": [],
      "source": []
    },
    {
      "cell_type": "markdown",
      "metadata": {
        "id": "d8xW2PbQsQcq"
      },
      "source": [
        "# **Connecting work orders data with equipment data first **"
      ]
    },
    {
      "cell_type": "code",
      "execution_count": null,
      "metadata": {
        "id": "qQ1vts4TsYBO"
      },
      "outputs": [],
      "source": [
        "alldata_wo_eq=pd.merge(fin,inner_merged_total_WO,left_index=True,right_index=True)"
      ]
    },
    {
      "cell_type": "code",
      "execution_count": null,
      "metadata": {
        "id": "eK8iVG6jZayj"
      },
      "outputs": [],
      "source": []
    },
    {
      "cell_type": "markdown",
      "metadata": {
        "id": "RwfU8egxoQ8B"
      },
      "source": []
    },
    {
      "cell_type": "code",
      "execution_count": null,
      "metadata": {
        "id": "MQnmKoaUyhdd"
      },
      "outputs": [],
      "source": [
        "alldata_wo_eq.shape"
      ]
    },
    {
      "cell_type": "code",
      "execution_count": null,
      "metadata": {
        "id": "kccr3Z9J00vG"
      },
      "outputs": [],
      "source": [
        "tes=alldata_wo_eq.query(\"ID_x == 1364\")"
      ]
    },
    {
      "cell_type": "code",
      "execution_count": null,
      "metadata": {
        "id": "JMqaALq31aXr"
      },
      "outputs": [],
      "source": [
        "tes"
      ]
    },
    {
      "cell_type": "code",
      "execution_count": null,
      "metadata": {
        "id": "uLa8AiKHy2nz"
      },
      "outputs": [],
      "source": [
        "alldata_wo_eq.drop(columns=['InvNr','Brand','Model','AOEkKlarDat','Completed','last_wo','first_wo','ID_x'],inplace=True)"
      ]
    },
    {
      "cell_type": "code",
      "execution_count": null,
      "metadata": {
        "id": "B39g7tlq27XG"
      },
      "outputs": [],
      "source": [
        "alldata_wo_eq.head(3)"
      ]
    },
    {
      "cell_type": "markdown",
      "metadata": {
        "id": "eDyxvGfBU9n_"
      },
      "source": [
        "**Obtain Age column**"
      ]
    },
    {
      "cell_type": "code",
      "execution_count": null,
      "metadata": {
        "id": "fNVO8RHHVLrw"
      },
      "outputs": [],
      "source": [
        "alldata_wo_eq['Equip.reg_date']=pd.to_datetime(alldata_wo_eq['Equip.reg_date'])\n",
        "alldata_wo_eq['Scrapped_date']=pd.to_datetime(alldata_wo_eq['Scrapped_date'])\n",
        "\n"
      ]
    },
    {
      "cell_type": "code",
      "execution_count": null,
      "metadata": {
        "id": "ms3SsJfPXAjX"
      },
      "outputs": [],
      "source": [
        "alldata_wo_eq['age']=(alldata_wo_eq['Scrapped_date']-alldata_wo_eq['Equip.reg_date']).dt.days\n"
      ]
    },
    {
      "cell_type": "code",
      "execution_count": null,
      "metadata": {
        "id": "UyWmrmiZXuYf"
      },
      "outputs": [],
      "source": [
        "alldata_wo_eq.drop(columns=['Scrapped_date','InventarieID'],inplace=True)"
      ]
    },
    {
      "cell_type": "code",
      "execution_count": null,
      "metadata": {
        "id": "wMDNYBB4XhbC"
      },
      "outputs": [],
      "source": [
        "alldata_wo_eq.head(3)"
      ]
    },
    {
      "cell_type": "code",
      "execution_count": null,
      "metadata": {
        "id": "sQfQ1by_fbn7"
      },
      "outputs": [],
      "source": [
        "# we have got 1782 registered devices within our data set\n",
        "alldata_wo_eq.dev.nunique()"
      ]
    },
    {
      "cell_type": "code",
      "execution_count": null,
      "metadata": {
        "id": "iafgRb8MYY4W"
      },
      "outputs": [],
      "source": [
        "#checking the highest device with the highest no of samples \n",
        "alldata_wo_eq.dev.value_counts()"
      ]
    },
    {
      "cell_type": "code",
      "execution_count": null,
      "metadata": {
        "id": "WS_4LwYdgkqv"
      },
      "outputs": [],
      "source": [
        "#devices counter\n",
        "dev_count=alldata_wo_eq.dev.value_counts()"
      ]
    },
    {
      "cell_type": "code",
      "execution_count": null,
      "metadata": {
        "id": "gwANdMAxg-HU"
      },
      "outputs": [],
      "source": [
        "dev_count.head(20)"
      ]
    },
    {
      "cell_type": "markdown",
      "metadata": {
        "id": "k4f-bvjZr6qO"
      },
      "source": [
        "Query different devices"
      ]
    },
    {
      "cell_type": "markdown",
      "metadata": {
        "id": "h9jgSVh8k5Yf"
      },
      "source": [
        "oxygen concentrators"
      ]
    },
    {
      "cell_type": "code",
      "execution_count": null,
      "metadata": {
        "id": "nBMmBoS5cJAN"
      },
      "outputs": [],
      "source": [
        "dataoxyhos1=alldata_wo_eq.query(\"dev == 'Oxygenkoncentrator stationär'\")\n",
        "\n"
      ]
    },
    {
      "cell_type": "code",
      "execution_count": null,
      "metadata": {
        "id": "Z4wwI3KLlap0"
      },
      "outputs": [],
      "source": [
        "dataoxyhos1.head(3)"
      ]
    },
    {
      "cell_type": "markdown",
      "metadata": {
        "id": "gpvMB-o0r_7y"
      },
      "source": [
        "anathesia machines"
      ]
    },
    {
      "cell_type": "code",
      "execution_count": null,
      "metadata": {
        "id": "AFU__LDV3KN-"
      },
      "outputs": [],
      "source": [
        "data22=alldata_wo_eq.query(\"dev == 'Anestesiarbetsstation'\")\n",
        "data32=alldata_wo_eq.query(\"dev == 'Modul till anestesiarbetsstation'\")\n",
        "data42=alldata_wo_eq.query(\"dev == 'Anestesimedelsförgasare, isofluran'\")\n",
        "data52=alldata_wo_eq.query(\"dev == 'Anestesimedel Förgasare'\")\n",
        "data62=alldata_wo_eq.query(\"dev == 'Anestesiapparat mobil'\")\n",
        "data72=alldata_wo_eq.query(\"dev == 'Lungventilator anestesi'\")\n",
        "data_aneshos1woeq = pd.concat([data22, data32, data42, data52, data62, data72], axis=0)\n",
        "data_aneshos1woeq.head(3)\n"
      ]
    },
    {
      "cell_type": "code",
      "execution_count": null,
      "metadata": {
        "id": "ZupgEUiVdVvS"
      },
      "outputs": [],
      "source": [
        "data_aneshos1woeq['issued']=pd.to_datetime(data_aneshos1woeq['issued'])"
      ]
    },
    {
      "cell_type": "code",
      "execution_count": null,
      "metadata": {
        "id": "ECBFi8504WZi"
      },
      "outputs": [],
      "source": [
        "data_aneshos1woeq.shape"
      ]
    },
    {
      "cell_type": "markdown",
      "metadata": {
        "id": "inUwboe549iI"
      },
      "source": [
        "**plotting data points**"
      ]
    },
    {
      "cell_type": "code",
      "execution_count": null,
      "metadata": {
        "id": "dJiQXuT749JR"
      },
      "outputs": [],
      "source": [
        "data_aneshos1woeq.plot(y='ID_y',x='issued',kind='scatter',title='workorder versus dates of issuance')"
      ]
    },
    {
      "cell_type": "code",
      "execution_count": null,
      "metadata": {
        "id": "S05LuaVVbNH7"
      },
      "outputs": [],
      "source": [
        "data_aneshos1woeq.plot(y='age',x='issued',kind='scatter',title='age with workorders')"
      ]
    },
    {
      "cell_type": "code",
      "execution_count": null,
      "metadata": {
        "id": "vfgqd1C2eXRt"
      },
      "outputs": [],
      "source": [
        "data_aneshos1woeq.plot(x='age',y='Count_wo',kind='scatter',title='age with workorders')"
      ]
    },
    {
      "cell_type": "markdown",
      "metadata": {
        "id": "a6tANVDTBFBQ"
      },
      "source": [
        "# **Connecting pm and wo with equipments(all data together)**"
      ]
    },
    {
      "cell_type": "markdown",
      "metadata": {
        "id": "i-oNkxyirkE8"
      },
      "source": [
        "bringing eq data and setting ID field as an index to prepare for merge"
      ]
    },
    {
      "cell_type": "code",
      "execution_count": null,
      "metadata": {
        "id": "tVDq5I1Z2C0f"
      },
      "outputs": [],
      "source": [
        "fin.shape"
      ]
    },
    {
      "cell_type": "code",
      "execution_count": null,
      "metadata": {
        "id": "8zHlAsZv2IRm"
      },
      "outputs": [],
      "source": [
        "eq=fin.set_index('ID',drop=False)"
      ]
    },
    {
      "cell_type": "code",
      "execution_count": null,
      "metadata": {
        "id": "BFi2glbF2eu-"
      },
      "outputs": [],
      "source": [
        "eq.head(3)"
      ]
    },
    {
      "cell_type": "markdown",
      "metadata": {
        "id": "CmsUgKewt938"
      },
      "source": [
        "### **CONNECTING PM-data With WO COMBINED DATA** **bold text**"
      ]
    },
    {
      "cell_type": "code",
      "execution_count": null,
      "metadata": {
        "id": "wk3RiWX8tqZx"
      },
      "outputs": [],
      "source": [
        "inner_mergeWO_pm = pd.merge(inner_merged_total_WO,fin1,left_index=True, right_index=True)"
      ]
    },
    {
      "cell_type": "code",
      "execution_count": null,
      "metadata": {
        "id": "a5_R_wj-8DOn"
      },
      "outputs": [],
      "source": [
        "all_data_together= pd.merge(eq,inner_mergeWO_pm,left_index=True, right_index=True)"
      ]
    },
    {
      "cell_type": "code",
      "execution_count": null,
      "metadata": {
        "id": "pFxh_J858wYc"
      },
      "outputs": [],
      "source": [
        "all_data_together.head(10)"
      ]
    },
    {
      "cell_type": "markdown",
      "metadata": {
        "id": "zrAFl4pEvQQO"
      },
      "source": [
        "sorting based on inventariedID and issued **date**"
      ]
    },
    {
      "cell_type": "code",
      "execution_count": null,
      "metadata": {
        "id": "t6CQqjHEvdXb"
      },
      "outputs": [],
      "source": [
        "all_data_together=all_data_together.sort_values(by=['inventarieID','issued'])"
      ]
    },
    {
      "cell_type": "code",
      "execution_count": null,
      "metadata": {
        "id": "WDnY86t3Pyt3"
      },
      "outputs": [],
      "source": [
        "all_data_together=all_data_together.drop(columns=['InvNr','Completed','InventarieID','invID'])"
      ]
    },
    {
      "cell_type": "code",
      "execution_count": null,
      "metadata": {
        "id": "KJD_lUWoRhD9"
      },
      "outputs": [],
      "source": [
        "all_data_together.shape"
      ]
    },
    {
      "cell_type": "code",
      "execution_count": null,
      "metadata": {
        "id": "g36tAHyDxLTf"
      },
      "outputs": [],
      "source": [
        "all_data_together.head(10)"
      ]
    },
    {
      "cell_type": "markdown",
      "metadata": {
        "id": "zKMM9uHSTn75"
      },
      "source": [
        "# **Multiple Regression model for Work Orders and Failing time -Anathesia device**"
      ]
    },
    {
      "cell_type": "code",
      "execution_count": null,
      "metadata": {
        "id": "R8BrfOsHUDx7"
      },
      "outputs": [],
      "source": [
        "from sklearn import linear_model\n",
        "from sklearn.linear_model import LinearRegression\n",
        "from sklearn.metrics import mean_squared_error, mean_absolute_error\n",
        "from sklearn import preprocessing"
      ]
    },
    {
      "cell_type": "code",
      "execution_count": null,
      "metadata": {
        "id": "qOApF6jVR_vQ"
      },
      "outputs": [],
      "source": [
        "data_aneshos1woeq.shape"
      ]
    },
    {
      "cell_type": "markdown",
      "metadata": {
        "id": "zOeP_z2Z_vWp"
      },
      "source": [
        "model pre-processing"
      ]
    },
    {
      "cell_type": "markdown",
      "metadata": {
        "id": "3iA01uMzV8aT"
      },
      "source": [
        "table find difference between fault date and register date "
      ]
    },
    {
      "cell_type": "code",
      "execution_count": null,
      "metadata": {
        "id": "zPUBAVvOWHBK"
      },
      "outputs": [],
      "source": [
        "data_aneshos1woeq['wotime_diff']=(data_aneshos1woeq['issued']-data_aneshos1woeq['Equip.reg_date']).dt.days"
      ]
    },
    {
      "cell_type": "code",
      "execution_count": null,
      "metadata": {
        "id": "708n_SkfXxy8"
      },
      "outputs": [],
      "source": [
        "data_aneshos1woeq.tail(15)"
      ]
    },
    {
      "cell_type": "markdown",
      "metadata": {
        "id": "9adGWBCJarvT"
      },
      "source": [
        "it is not practical for the model to predict certain date and day , it more commonly practices that there is a time window for the decision to be taken ."
      ]
    },
    {
      "cell_type": "markdown",
      "metadata": {
        "id": "iV_OfzBTpWhw"
      },
      "source": [
        " **Exploratory data analysis**"
      ]
    },
    {
      "cell_type": "markdown",
      "metadata": {
        "id": "1ePV4Hnbppex"
      },
      "source": [
        "Anathesia devices"
      ]
    },
    {
      "cell_type": "code",
      "execution_count": null,
      "metadata": {
        "id": "ElePzGrrpflU"
      },
      "outputs": [],
      "source": [
        "data_aneshos1woeq.head(3)"
      ]
    },
    {
      "cell_type": "code",
      "execution_count": null,
      "metadata": {
        "id": "xKhojRnkMghr"
      },
      "outputs": [],
      "source": [
        "#plotting age\n",
        "data_aneshos1woeq.plot(x='Count_wo',y='wotime_diff',kind='scatter')"
      ]
    },
    {
      "cell_type": "code",
      "execution_count": null,
      "metadata": {
        "id": "myULHFA6W9Qr"
      },
      "outputs": [],
      "source": [
        "sns.pairplot(data_aneshos1woeq.corr())"
      ]
    },
    {
      "cell_type": "code",
      "execution_count": null,
      "metadata": {
        "id": "kLUeiIRrVy43"
      },
      "outputs": [],
      "source": [
        "Y_reghos1=data_aneshos1woeq['wotime_diff']\n",
        "X_reghos1=data_aneshos1woeq.drop(['dev','ID_y','issued','Equip.reg_date','wotime_diff','inventarieID'],axis=1)\n"
      ]
    },
    {
      "cell_type": "markdown",
      "metadata": {
        "id": "E12Izcl7uYr3"
      },
      "source": []
    },
    {
      "cell_type": "code",
      "execution_count": null,
      "metadata": {
        "id": "fCEcY4bfEW11"
      },
      "outputs": [],
      "source": [
        "Y_reghos1.head(3)"
      ]
    },
    {
      "cell_type": "code",
      "execution_count": null,
      "metadata": {
        "id": "r0XjsGhuEwS4"
      },
      "outputs": [],
      "source": [
        "X_train_aneshos1, X_test_aneshos1, y_train_aneshos1, y_test_aneshos1 = train_test_split(\n",
        "    X_reghos1, Y_reghos1, test_size=0.3, random_state=101)"
      ]
    },
    {
      "cell_type": "code",
      "execution_count": null,
      "metadata": {
        "id": "Y1yol12AFYDn"
      },
      "outputs": [],
      "source": [
        "y_test_aneshos1.head(3)"
      ]
    },
    {
      "cell_type": "code",
      "execution_count": null,
      "metadata": {
        "id": "nKdbpKNhF2T7"
      },
      "outputs": [],
      "source": [
        "# creating a regression model\n",
        "model_anes = LinearRegression()\n"
      ]
    },
    {
      "cell_type": "code",
      "execution_count": null,
      "metadata": {
        "id": "MrzJbNmRGA4r"
      },
      "outputs": [],
      "source": [
        "model_anes.fit(X_train_aneshos1,y_train_aneshos1)"
      ]
    },
    {
      "cell_type": "code",
      "execution_count": null,
      "metadata": {
        "id": "154E-fqhGVZ7"
      },
      "outputs": [],
      "source": [
        "predictions_anes= model_anes.predict(X_test_aneshos1)\n"
      ]
    },
    {
      "cell_type": "code",
      "execution_count": null,
      "metadata": {
        "id": "0Dqgpmd3HDmb"
      },
      "outputs": [],
      "source": [
        " predictions_anes"
      ]
    },
    {
      "cell_type": "code",
      "execution_count": null,
      "metadata": {
        "id": "I1GzWnluFGp4"
      },
      "outputs": [],
      "source": [
        "predictions_anes.shape"
      ]
    },
    {
      "cell_type": "code",
      "execution_count": null,
      "metadata": {
        "id": "YaKyQ9rItbj8"
      },
      "outputs": [],
      "source": [
        "predictions_anes_df=pd.DataFrame(predictions_anes)"
      ]
    },
    {
      "cell_type": "code",
      "execution_count": null,
      "metadata": {
        "id": "GRvL2GqPfmXQ"
      },
      "outputs": [],
      "source": [
        "age_col=pd.DataFrame(X_reghos1['age'])\n",
        "age_col=age_col.reset_index()"
      ]
    },
    {
      "cell_type": "code",
      "execution_count": null,
      "metadata": {
        "id": "iWrFVQgigCuW"
      },
      "outputs": [],
      "source": [
        "age_col.head(3)"
      ]
    },
    {
      "cell_type": "code",
      "execution_count": null,
      "metadata": {
        "id": "MioG-eywgQl_"
      },
      "outputs": [],
      "source": [
        "pred_fin=pd.concat([predictions_anes_df,age_col],axis=1)"
      ]
    },
    {
      "cell_type": "code",
      "execution_count": null,
      "metadata": {
        "id": "AtVsCcuDjEWw"
      },
      "outputs": [],
      "source": [
        "pred_fin.drop(columns=['index'],axis=1)"
      ]
    },
    {
      "cell_type": "code",
      "execution_count": null,
      "metadata": {
        "id": "9ZvQdkiMjkFl"
      },
      "outputs": [],
      "source": [
        "pred_fin.columns = ['index','wo_timeprednonorm','age']\n"
      ]
    },
    {
      "cell_type": "code",
      "execution_count": null,
      "metadata": {
        "id": "AxdppLDmkOXZ"
      },
      "outputs": [],
      "source": [
        "pred_fin.head(3)"
      ]
    },
    {
      "cell_type": "code",
      "execution_count": null,
      "metadata": {
        "id": "b-x4N_nGHgAi"
      },
      "outputs": [],
      "source": [
        "# model evaluation\n",
        "print(\n",
        "'mean_squared_error : ', mean_squared_error(y_test_aneshos1, predictions_anes_df))\n",
        "print(\n",
        "'mean_absolute_error : ', mean_absolute_error(y_test_aneshos1, predictions_anes_df))\n"
      ]
    },
    {
      "cell_type": "markdown",
      "metadata": {
        "id": "QfjvaBzmK7-h"
      },
      "source": [
        "# **EDA2**"
      ]
    },
    {
      "cell_type": "code",
      "execution_count": null,
      "metadata": {
        "id": "BiV8zOoZAUw1"
      },
      "outputs": [],
      "source": [
        "#it is a lot better to take one or two devices as samples to see the workrder patterns\n",
        "\n",
        "indexed_MD=data_aneshos1woeq.loc[231344]"
      ]
    },
    {
      "cell_type": "code",
      "execution_count": null,
      "metadata": {
        "id": "qgAM4KuzK_jE"
      },
      "outputs": [],
      "source": [
        "indexed_MD"
      ]
    },
    {
      "cell_type": "code",
      "execution_count": null,
      "metadata": {
        "id": "YhifQGQwK3JY"
      },
      "outputs": [],
      "source": [
        "indexed_MD.set_index('issued',inplace=True,drop=False)"
      ]
    },
    {
      "cell_type": "code",
      "execution_count": null,
      "metadata": {
        "id": "ctxY-xizO8SH"
      },
      "outputs": [],
      "source": [
        "indexed_MD.index"
      ]
    },
    {
      "cell_type": "markdown",
      "metadata": {
        "id": "MhUTM5jbnrkH"
      },
      "source": [
        "**Trying normalization and see if it works**"
      ]
    },
    {
      "cell_type": "code",
      "execution_count": null,
      "metadata": {
        "id": "gTs23CKWnxsg"
      },
      "outputs": [],
      "source": [
        "from sklearn.preprocessing import MinMaxScaler"
      ]
    },
    {
      "cell_type": "code",
      "execution_count": null,
      "metadata": {
        "id": "--mziKSEzWDx"
      },
      "outputs": [],
      "source": [
        "scaler=MinMaxScaler()\n",
        "scaler.fit(X_reghos1)\n",
        "scaled=scaler.fit_transform(X_reghos1)\n",
        "scaled_df=pd.DataFrame(scaled,columns=X_reghos1.columns)"
      ]
    },
    {
      "cell_type": "code",
      "execution_count": null,
      "metadata": {
        "id": "IhMICSP227iV"
      },
      "outputs": [],
      "source": [
        "scaled_df.shape"
      ]
    },
    {
      "cell_type": "code",
      "execution_count": null,
      "metadata": {
        "id": "YDs6TeJGFOua"
      },
      "outputs": [],
      "source": [
        "scaled_df.head(3)\n"
      ]
    },
    {
      "cell_type": "code",
      "execution_count": null,
      "metadata": {
        "id": "piA2BE0cGeTs"
      },
      "outputs": [],
      "source": [
        "X_train_aneshos1norm, X_test_aneshos1norm, y_train_aneshos1norm, y_test_aneshos1norm = train_test_split(\n",
        "    scaled_df, Y_reghos1,test_size=0.3, random_state=101)"
      ]
    },
    {
      "cell_type": "code",
      "execution_count": null,
      "metadata": {
        "id": "GVfLJjHAHAKb"
      },
      "outputs": [],
      "source": [
        "Y_reghos1.head(3)"
      ]
    },
    {
      "cell_type": "code",
      "execution_count": null,
      "metadata": {
        "id": "ateHCskDHjIm"
      },
      "outputs": [],
      "source": [
        "model_anesnorm = LinearRegression()\n"
      ]
    },
    {
      "cell_type": "code",
      "execution_count": null,
      "metadata": {
        "id": "N2Gc0uJ5Hl40"
      },
      "outputs": [],
      "source": [
        "model_anesnorm.fit(X_train_aneshos1norm,y_train_aneshos1norm)"
      ]
    },
    {
      "cell_type": "code",
      "execution_count": null,
      "metadata": {
        "id": "70ldjrynH74T"
      },
      "outputs": [],
      "source": [
        "predictions_anesnorm= model_anesnorm.predict(X_test_aneshos1norm)\n"
      ]
    },
    {
      "cell_type": "code",
      "execution_count": null,
      "metadata": {
        "id": "VtpAWCpGIS2i"
      },
      "outputs": [],
      "source": [
        "predictions_anesnorm"
      ]
    },
    {
      "cell_type": "code",
      "execution_count": null,
      "metadata": {
        "id": "p2GL5DUWJxW7"
      },
      "outputs": [],
      "source": [
        "predictions_anes_dfnorm=pd.DataFrame(predictions_anesnorm)"
      ]
    },
    {
      "cell_type": "code",
      "execution_count": null,
      "metadata": {
        "id": "GNPc2n8lQmll"
      },
      "outputs": [],
      "source": [
        "predictions_anes_dfnorm.head(3)"
      ]
    },
    {
      "cell_type": "code",
      "execution_count": null,
      "metadata": {
        "id": "boG8J87uRTia"
      },
      "outputs": [],
      "source": [
        "predictions_anes_dfnorm.columns = ['wo_timepred']\n"
      ]
    },
    {
      "cell_type": "code",
      "execution_count": null,
      "metadata": {
        "id": "dmCuahp0RkpD"
      },
      "outputs": [],
      "source": [
        "predictions_anes_dfnorm.head(3)"
      ]
    },
    {
      "cell_type": "code",
      "execution_count": null,
      "metadata": {
        "id": "lUY16EvmJxW7"
      },
      "outputs": [],
      "source": [
        "# model evaluation\n",
        "print(\n",
        "'mean_squared_error : ', mean_squared_error(y_test_aneshos1, predictions_anes_dfnorm))\n",
        "print(\n",
        "'mean_absolute_error : ', mean_absolute_error(y_test_aneshos1, predictions_anes_dfnorm))\n"
      ]
    },
    {
      "cell_type": "markdown",
      "metadata": {
        "id": "jh5Yq6YdYCrf"
      },
      "source": [
        "# **OXYGEN CONCENTRATOR Model after adding more adding pm attributes**"
      ]
    },
    {
      "cell_type": "code",
      "execution_count": null,
      "metadata": {
        "id": "sD6LC662Z-Bc"
      },
      "outputs": [],
      "source": [
        "pm_wo_attributes_oxygen=pd.merge(dataoxyhos1,fin1,left_index=True,right_index=True)"
      ]
    },
    {
      "cell_type": "code",
      "execution_count": null,
      "metadata": {
        "id": "2sUaVrTPaPpy"
      },
      "outputs": [],
      "source": [
        "pm_wo_attributes_oxygen.head(3)"
      ]
    },
    {
      "cell_type": "code",
      "execution_count": null,
      "metadata": {
        "id": "nZ0vEWLHan_2"
      },
      "outputs": [],
      "source": [
        "pm_wo_attributes_oxygen.shape"
      ]
    },
    {
      "cell_type": "code",
      "execution_count": null,
      "metadata": {
        "id": "kV548J26JVnC"
      },
      "outputs": [],
      "source": [
        "pm_wo_attributes_oxygen['Equip.reg_date']=pd.to_datetime(pm_wo_attributes_oxygen['Equip.reg_date'])\n",
        "pm_wo_attributes_oxygen['issued']=pd.to_datetime(pm_wo_attributes_oxygen['issued'])\n"
      ]
    },
    {
      "cell_type": "code",
      "execution_count": null,
      "metadata": {
        "id": "1epBWcWMI4KL"
      },
      "outputs": [],
      "source": [
        "pm_wo_attributes_oxygen['wotime_diff']=(pm_wo_attributes_oxygen['issued']-pm_wo_attributes_oxygen['Equip.reg_date']).dt.days"
      ]
    },
    {
      "cell_type": "code",
      "execution_count": null,
      "metadata": {
        "id": "8xuWaJzfasqo"
      },
      "outputs": [],
      "source": [
        "pm_wo_attributes_oxygen.drop(columns=['Equip.reg_date','issued','invID','last_pm','first_pm','calc.Risk'],inplace=True)"
      ]
    },
    {
      "cell_type": "markdown",
      "metadata": {
        "id": "FYREGAJxb7ZK"
      },
      "source": [
        "# **Regression model for oxygen concentrators**"
      ]
    },
    {
      "cell_type": "code",
      "execution_count": null,
      "metadata": {
        "id": "KKoHgrINjjHR"
      },
      "outputs": [],
      "source": [
        "from sklearn import linear_model\n",
        "from sklearn.linear_model import LinearRegression\n",
        "from sklearn.metrics import mean_squared_error, mean_absolute_error\n",
        "from sklearn import preprocessing"
      ]
    },
    {
      "cell_type": "code",
      "execution_count": null,
      "metadata": {
        "id": "SJtZg7pJcDYr"
      },
      "outputs": [],
      "source": [
        "dataoxyhos1.shape"
      ]
    },
    {
      "cell_type": "code",
      "execution_count": null,
      "metadata": {
        "id": "xRf-XwLH-1Vk"
      },
      "outputs": [],
      "source": [
        "dataoxyhos1.nunique()"
      ]
    },
    {
      "cell_type": "code",
      "execution_count": null,
      "metadata": {
        "id": "wMZXwbO8kCNI"
      },
      "outputs": [],
      "source": [
        "dataoxyhos1['Equip.reg_date']=pd.to_datetime(dataoxyhos1['Equip.reg_date'])\n",
        "dataoxyhos1['issued']=pd.to_datetime(dataoxyhos1['issued'])\n",
        "\n"
      ]
    },
    {
      "cell_type": "code",
      "execution_count": null,
      "metadata": {
        "id": "2nvWyDDpkCNJ"
      },
      "outputs": [],
      "source": [
        "dataoxyhos1.drop(columns=['dev','inventarieID','ID_y'],inplace=True)"
      ]
    },
    {
      "cell_type": "code",
      "execution_count": null,
      "metadata": {
        "id": "myhKJD7ojjHR"
      },
      "outputs": [],
      "source": [
        "dataoxyhos1['wotime_diff']=(dataoxyhos1['issued']-dataoxyhos1['Equip.reg_date']).dt.days"
      ]
    },
    {
      "cell_type": "code",
      "execution_count": null,
      "metadata": {
        "id": "1RiIadbajjHS"
      },
      "outputs": [],
      "source": [
        "dataoxyhos1.corr()"
      ]
    },
    {
      "cell_type": "code",
      "execution_count": null,
      "metadata": {
        "id": "UX089HVL9zXs"
      },
      "outputs": [],
      "source": [
        "dataoxyhos1.describe()"
      ]
    },
    {
      "cell_type": "code",
      "execution_count": null,
      "metadata": {
        "id": "ilhMCiiejjHS"
      },
      "outputs": [],
      "source": [
        "Y_oxygen=dataoxyhos1['wotime_diff']\n",
        "X_oxygen=dataoxyhos1.drop(['issued','Equip.reg_date','wotime_diff'],axis=1)\n"
      ]
    },
    {
      "cell_type": "code",
      "execution_count": null,
      "metadata": {
        "id": "PssByIBUVO3x"
      },
      "outputs": [],
      "source": [
        "X_train_oxy1, X_test_oxy1, y_train_oxy1, y_test_oxy1 = train_test_split(X_oxygen,Y_oxygen, test_size=0.3, random_state=101)"
      ]
    },
    {
      "cell_type": "code",
      "execution_count": null,
      "metadata": {
        "id": "DRVNaaI5jjHT"
      },
      "outputs": [],
      "source": [
        "y_train_oxy1.head(3)"
      ]
    },
    {
      "cell_type": "code",
      "execution_count": null,
      "metadata": {
        "id": "hLqCLlH2WJjq"
      },
      "outputs": [],
      "source": [
        "model_oxy = LinearRegression()\n",
        "model_oxy.fit(X_train_oxy1,y_train_oxy1)"
      ]
    },
    {
      "cell_type": "code",
      "execution_count": null,
      "metadata": {
        "id": "PKzHUuG4WiLs"
      },
      "outputs": [],
      "source": [
        "predictions_oxy=model_oxy.predict(X_test_oxy1)"
      ]
    },
    {
      "cell_type": "code",
      "execution_count": null,
      "metadata": {
        "id": "jqk2tL_yW_oz"
      },
      "outputs": [],
      "source": [
        "# model evaluation\n",
        "print(\n",
        "'mean_squared_error : ', mean_squared_error(y_test_oxy1, predictions_oxy))\n",
        "print(\n",
        "'mean_absolute_error : ', mean_absolute_error(y_test_oxy1, predictions_oxy))\n"
      ]
    },
    {
      "cell_type": "markdown",
      "metadata": {
        "id": "ndyKcQQX0fZf"
      },
      "source": [
        "# **Patient_monitor experiments**"
      ]
    },
    {
      "cell_type": "code",
      "execution_count": null,
      "metadata": {
        "id": "o9y_2Bb-0mdB"
      },
      "outputs": [],
      "source": [
        "patient_monitor=all_data_together.query(\"dev == 'Patientmonitor multiparameter'\")\n"
      ]
    },
    {
      "cell_type": "code",
      "execution_count": null,
      "metadata": {
        "id": "NSGlQmZc0eEK"
      },
      "outputs": [],
      "source": [
        "patient_monitor.head(3)"
      ]
    },
    {
      "cell_type": "code",
      "execution_count": null,
      "metadata": {
        "id": "9RYDy91N1OL9"
      },
      "outputs": [],
      "source": [
        "patient_monitor.shape"
      ]
    },
    {
      "cell_type": "code",
      "execution_count": null,
      "metadata": {
        "id": "WHmNx-INDFNR"
      },
      "outputs": [],
      "source": [
        "refined_patient_monitor=patient_monitor.drop(columns=['Brand','ID_x','dev','Brand','calc.Risk', 'ID_y','last_wo','first_wo'])"
      ]
    },
    {
      "cell_type": "code",
      "execution_count": null,
      "metadata": {
        "id": "sSuBd-bLHCQL"
      },
      "outputs": [],
      "source": [
        "refined_patient_monitor.head(3)"
      ]
    },
    {
      "cell_type": "code",
      "execution_count": null,
      "metadata": {
        "id": "gOfAd7g9I7-b"
      },
      "outputs": [],
      "source": [
        "refined_patient_monitor['Equip.reg_date']=pd.to_datetime(refined_patient_monitor['Equip.reg_date'])\n",
        "refined_patient_monitor['issued']=pd.to_datetime(refined_patient_monitor['issued'])\n",
        "refined_patient_monitor['Scrapped_date']=pd.to_datetime(refined_patient_monitor['Scrapped_date'])\n",
        "\n",
        "\n"
      ]
    },
    {
      "cell_type": "code",
      "execution_count": null,
      "metadata": {
        "id": "joST1UEuJWJX"
      },
      "outputs": [],
      "source": [
        "refined_patient_monitor['wotime_diff']=(refined_patient_monitor['issued']-refined_patient_monitor['Equip.reg_date']).dt.days\n",
        "refined_patient_monitor['age']=(refined_patient_monitor['Scrapped_date']-refined_patient_monitor['Equip.reg_date']).dt.days"
      ]
    },
    {
      "cell_type": "code",
      "execution_count": null,
      "metadata": {
        "id": "jpEDmWlaKBh9"
      },
      "outputs": [],
      "source": [
        "refined_patient_monitor.head(3)"
      ]
    },
    {
      "cell_type": "code",
      "execution_count": null,
      "metadata": {
        "id": "hwJaw2N1Ox1R"
      },
      "outputs": [],
      "source": [
        "refined_patient_monitor.shape"
      ]
    },
    {
      "cell_type": "code",
      "execution_count": null,
      "metadata": {
        "id": "7iFcxAlpOMZ7"
      },
      "outputs": [],
      "source": [
        "#taking out outliers \n",
        "refined_patient_monitor.plot(x='Equip.reg_date',y='Scrapped_date',kind='scatter')\n"
      ]
    },
    {
      "cell_type": "code",
      "execution_count": null,
      "metadata": {
        "id": "K0Ll0SjQQnOK"
      },
      "outputs": [],
      "source": [
        "no_outlier_pamonitor=refined_patient_monitor.loc[refined_patient_monitor['wotime_diff']>=1]"
      ]
    },
    {
      "cell_type": "code",
      "execution_count": null,
      "metadata": {
        "id": "Mc9Lq2Bx_Lma"
      },
      "outputs": [],
      "source": [
        "no_outlier_pamonitor.corr()"
      ]
    },
    {
      "cell_type": "code",
      "execution_count": null,
      "metadata": {
        "id": "dh-b03gnQ_bN"
      },
      "outputs": [],
      "source": [
        "no_outlier_pamonitor.shape"
      ]
    },
    {
      "cell_type": "code",
      "execution_count": null,
      "metadata": {
        "id": "_VX-MDkMT_oT"
      },
      "outputs": [],
      "source": [
        "from sklearn import linear_model\n",
        "from sklearn.linear_model import LinearRegression\n",
        "from sklearn.metrics import mean_squared_error, mean_absolute_error\n",
        "from sklearn import preprocessing"
      ]
    },
    {
      "cell_type": "code",
      "execution_count": null,
      "metadata": {
        "id": "vkeQ9vfeUX6n"
      },
      "outputs": [],
      "source": [
        "X_PA=no_outlier_pamonitor.drop(['Equip.reg_date','Scrapped_date','issued','AOEkKlarDat','Model','last_pm','first_pm','inventarieID'],axis=1)\n",
        "Y_PA=no_outlier_pamonitor['wotime_diff']"
      ]
    },
    {
      "cell_type": "code",
      "execution_count": null,
      "metadata": {
        "id": "TygeNIr9pBGi"
      },
      "outputs": [],
      "source": [
        "Y_PA.head(10)"
      ]
    },
    {
      "cell_type": "code",
      "execution_count": null,
      "metadata": {
        "id": "D4e1jBaTT_oU"
      },
      "outputs": [],
      "source": [
        "X_train_pamonitor, X_test_pamonitor, y_train_pamonitor, y_test_pamonitor = train_test_split(X_PA,Y_PA, test_size=0.3, random_state=101)"
      ]
    },
    {
      "cell_type": "code",
      "execution_count": null,
      "metadata": {
        "id": "FiiKat2BHFtl"
      },
      "outputs": [],
      "source": [
        "X_train_pamonitor.head()"
      ]
    },
    {
      "cell_type": "code",
      "execution_count": null,
      "metadata": {
        "id": "OcBBAABQT_oU"
      },
      "outputs": [],
      "source": [
        "# creating a regression model\n",
        "model_PA = LinearRegression()\n"
      ]
    },
    {
      "cell_type": "code",
      "execution_count": null,
      "metadata": {
        "id": "np7z0Xt8WCQM"
      },
      "outputs": [],
      "source": [
        "model_PA.fit(X_train_pamonitor,y_train_pamonitor)"
      ]
    },
    {
      "cell_type": "code",
      "execution_count": null,
      "metadata": {
        "id": "tRTkg9jUXP9D"
      },
      "outputs": [],
      "source": [
        "predictions_PA= model_PA.predict(X_test_pamonitor)\n"
      ]
    },
    {
      "cell_type": "code",
      "execution_count": null,
      "metadata": {
        "id": "8i-_gM8CXd-L"
      },
      "outputs": [],
      "source": [
        "predictions_PA=pd.DataFrame(predictions_PA)"
      ]
    },
    {
      "cell_type": "code",
      "execution_count": null,
      "metadata": {
        "id": "OdysvxqaYrOA"
      },
      "outputs": [],
      "source": [
        "predictions_PA.head(10)"
      ]
    },
    {
      "cell_type": "code",
      "execution_count": null,
      "metadata": {
        "id": "Gg-Mh8xbY4PR"
      },
      "outputs": [],
      "source": [
        "y_test_pamonitor.head(10)"
      ]
    },
    {
      "cell_type": "code",
      "execution_count": null,
      "metadata": {
        "id": "AkfjAdTzX3Tf"
      },
      "outputs": [],
      "source": [
        "# model evaluation\n",
        "print(\n",
        "'mean_squared_error : ', mean_squared_error(y_test_pamonitor, predictions_PA))\n",
        "print(\n",
        "'mean_absolute_error : ', mean_absolute_error(y_test_pamonitor, predictions_PA))\n"
      ]
    },
    {
      "cell_type": "markdown",
      "metadata": {
        "id": "xO7IioE7If6Q"
      },
      "source": [
        "# **Chosen devices in one regression model experiment**"
      ]
    },
    {
      "cell_type": "code",
      "execution_count": null,
      "metadata": {
        "id": "E8txjQT7k8pd"
      },
      "outputs": [],
      "source": [
        "#after combining wo data with preventive mainteance data in one dataframe,we want to query the chosen device of anathesia and oxygen concentrators:\n",
        "all_data_together.head(3)"
      ]
    },
    {
      "cell_type": "code",
      "execution_count": null,
      "metadata": {
        "id": "9wttjNasly1u"
      },
      "outputs": [],
      "source": [
        "refined_all_data=all_data_together.drop(['ID_x','AOEkKlarDat','inventarieID','last_wo','first_wo','last_pm','first_pm'],axis=1)"
      ]
    },
    {
      "cell_type": "code",
      "execution_count": null,
      "metadata": {
        "id": "jqdalEnnKqW6"
      },
      "outputs": [],
      "source": [
        "refined_all_data.head(3)"
      ]
    },
    {
      "cell_type": "code",
      "execution_count": null,
      "metadata": {
        "id": "niHTy3pApcua"
      },
      "outputs": [],
      "source": [
        "data157=refined_all_data.query(\"dev == 'Anestesiarbetsstation'\")\n",
        "data156=refined_all_data.query(\"dev == 'Anestesiarbetsstation'\")\n",
        "data155=refined_all_data.query(\"dev == 'Modul till anestesiarbetsstation'\")\n",
        "data154=refined_all_data.query(\"dev == 'Anestesimedelsförgasare, isofluran'\")\n",
        "data153=refined_all_data.query(\"dev == 'Anestesimedel Förgasare'\")\n",
        "data152=refined_all_data.query(\"dev == 'Anestesiapparat mobil'\")\n",
        "data151=refined_all_data.query(\"dev == 'Lungventilator anestesi'\")\n",
        "data_anesWo_pm = pd.concat([data157, data156,data155,data154, data153, data152, data151], axis=0)"
      ]
    },
    {
      "cell_type": "code",
      "execution_count": null,
      "metadata": {
        "id": "pwFnldEzrKi0"
      },
      "outputs": [],
      "source": [
        "data_anesWo_pm.shape"
      ]
    },
    {
      "cell_type": "code",
      "execution_count": null,
      "metadata": {
        "id": "Bm1znrzoruo9"
      },
      "outputs": [],
      "source": [
        "#query oxygen concentrators\n",
        "data_oxy_wo_pm=refined_all_data.query(\"dev == 'Oxygenkoncentrator stationär'\")"
      ]
    },
    {
      "cell_type": "code",
      "execution_count": null,
      "metadata": {
        "id": "QIJVJAvwsc4J"
      },
      "outputs": [],
      "source": [
        "data_oxy_wo_pm.shape"
      ]
    },
    {
      "cell_type": "code",
      "execution_count": null,
      "metadata": {
        "id": "eilu_lhIss4U"
      },
      "outputs": [],
      "source": [
        "oxyplusana_wo_pm=pd.concat([data_oxy_wo_pm,data_anesWo_pm], axis=0)"
      ]
    },
    {
      "cell_type": "code",
      "execution_count": null,
      "metadata": {
        "id": "_sDhd7kXtQRa"
      },
      "outputs": [],
      "source": [
        "oxyplusana_wo_pm.shape"
      ]
    },
    {
      "cell_type": "code",
      "execution_count": null,
      "metadata": {
        "id": "YxD4y2MJtU8Z"
      },
      "outputs": [],
      "source": [
        "oxyplusana_wo_pm.head(3)"
      ]
    },
    {
      "cell_type": "code",
      "execution_count": null,
      "metadata": {
        "id": "JC6zIpI6te5x"
      },
      "outputs": [],
      "source": [
        "#preprocessing of these data before merge with patient monitor data.\n",
        "oxyplusana_wo_pm['Equip.reg_date']=pd.to_datetime(oxyplusana_wo_pm['Equip.reg_date'])\n",
        "oxyplusana_wo_pm['Scrapped_date']=pd.to_datetime(oxyplusana_wo_pm['Scrapped_date'])\n",
        "oxyplusana_wo_pm['issued']=pd.to_datetime(oxyplusana_wo_pm['issued'])"
      ]
    },
    {
      "cell_type": "code",
      "execution_count": null,
      "metadata": {
        "id": "Hqmh3iMaunBx"
      },
      "outputs": [],
      "source": [
        "oxyplusana_wo_pm['wotime_diff']=(oxyplusana_wo_pm['issued']-oxyplusana_wo_pm['Equip.reg_date']).dt.days"
      ]
    },
    {
      "cell_type": "code",
      "execution_count": null,
      "metadata": {
        "id": "Cra-fQR2uRBa"
      },
      "outputs": [],
      "source": [
        "oxyplusana_wo_pm['age']=(oxyplusana_wo_pm['Scrapped_date']-oxyplusana_wo_pm['Equip.reg_date']).dt.days\n"
      ]
    },
    {
      "cell_type": "code",
      "execution_count": null,
      "metadata": {
        "id": "NH7vP6u0vI-7"
      },
      "outputs": [],
      "source": [
        "oxyplusana_wo_pm.drop(['Equip.reg_date','Scrapped_date','dev','Brand','Model','calc.Risk','ID_y','issued'],axis=1,inplace=True)"
      ]
    },
    {
      "cell_type": "code",
      "execution_count": null,
      "metadata": {
        "id": "gwKuJW-XzRmL"
      },
      "outputs": [],
      "source": [
        "oxyplusana_wo_pm.head(3)"
      ]
    },
    {
      "cell_type": "code",
      "execution_count": null,
      "metadata": {
        "id": "aHkIgh_LKy8K"
      },
      "outputs": [],
      "source": [
        "X_PA.head(3)"
      ]
    },
    {
      "cell_type": "code",
      "execution_count": null,
      "metadata": {
        "id": "_AEi_RI3IoH7"
      },
      "outputs": [],
      "source": [
        "#concat all devices(anathesia,oxygenconcentrator and patient monitor)\n",
        "alldevices_regression=pd.concat((oxyplusana_wo_pm,X_PA),axis=0)"
      ]
    },
    {
      "cell_type": "code",
      "execution_count": null,
      "metadata": {
        "id": "shJE2p-R1ZbF"
      },
      "outputs": [],
      "source": [
        "x_alla=alldevices_regression.drop(['wotime_diff'],axis=1)\n",
        "y_alla=alldevices_regression.drop(['Count_wo','meantime','count_pm','meantime_pm','age'],axis=1)\n",
        "  "
      ]
    },
    {
      "cell_type": "code",
      "execution_count": null,
      "metadata": {
        "id": "1TS-MWe75FSR"
      },
      "outputs": [],
      "source": [
        "y_alla.head(3)"
      ]
    },
    {
      "cell_type": "code",
      "execution_count": null,
      "metadata": {
        "id": "wc9nKpVd3M9I"
      },
      "outputs": [],
      "source": [
        "x_alla_training,x_alla_test,y_alla_training,y_alla_test=train_test_split(x_alla,y_alla,test_size=0.3,random_state=101)"
      ]
    },
    {
      "cell_type": "code",
      "execution_count": null,
      "metadata": {
        "id": "uezZfyZF5ude"
      },
      "outputs": [],
      "source": [
        "x_alla_training.shape"
      ]
    },
    {
      "cell_type": "code",
      "execution_count": null,
      "metadata": {
        "id": "qmQURIxy5yZT"
      },
      "outputs": [],
      "source": [
        "y_alla_training.shape"
      ]
    },
    {
      "cell_type": "code",
      "execution_count": null,
      "metadata": {
        "id": "G2ZbJy5a4Pbx"
      },
      "outputs": [],
      "source": [
        "from sklearn import linear_model\n",
        "from sklearn.linear_model import LinearRegression\n",
        "from sklearn.metrics import mean_squared_error, mean_absolute_error\n",
        "from sklearn import preprocessing"
      ]
    },
    {
      "cell_type": "code",
      "execution_count": null,
      "metadata": {
        "id": "KWwMldC7z0P0"
      },
      "outputs": [],
      "source": [
        "#now we apply the model \n",
        "regress_alldevices=LinearRegression()"
      ]
    },
    {
      "cell_type": "code",
      "execution_count": null,
      "metadata": {
        "id": "6_zOAOyB4jJI"
      },
      "outputs": [],
      "source": [
        "modelen=regress_alldevices.fit(x_alla_training,y_alla_training)"
      ]
    },
    {
      "cell_type": "code",
      "execution_count": null,
      "metadata": {
        "id": "3_goYOcS7JfJ"
      },
      "outputs": [],
      "source": [
        "predictions_alla=modelen.predict(x_alla_test)"
      ]
    },
    {
      "cell_type": "code",
      "execution_count": null,
      "metadata": {
        "id": "qlJqRcfp7afw"
      },
      "outputs": [],
      "source": [
        "# model evaluation\n",
        "print(\n",
        "'mean_squared_error : ', mean_squared_error(y_alla_test, predictions_alla))\n",
        "print(\n",
        "'mean_absolute_error : ', mean_absolute_error(y_alla_test, predictions_alla))\n"
      ]
    },
    {
      "cell_type": "markdown",
      "metadata": {
        "id": "1jsJr6cWphUf"
      },
      "source": [
        "# **#  Ridge regression for regression_patient monitor**"
      ]
    },
    {
      "cell_type": "code",
      "execution_count": null,
      "metadata": {
        "id": "CURTTaBBp7bF"
      },
      "outputs": [],
      "source": [
        "import pandas as pd\n",
        "from numpy import arange\n",
        "from sklearn.linear_model import Ridge\n",
        "from sklearn.linear_model import RidgeCV\n",
        "from sklearn.model_selection import RepeatedKFold"
      ]
    },
    {
      "cell_type": "code",
      "execution_count": null,
      "metadata": {
        "id": "SwW4NVsAr4AN"
      },
      "outputs": [],
      "source": [
        "X_PA=no_outlier_pamonitor.drop(['Equip.reg_date','Scrapped_date','issued','AOEkKlarDat','Model','last_pm','first_pm','inventarieID'],axis=1)\n",
        "Y_PA=no_outlier_pamonitor['wotime_diff']"
      ]
    },
    {
      "cell_type": "code",
      "execution_count": null,
      "metadata": {
        "id": "26wCSM-QuR-U"
      },
      "outputs": [],
      "source": [
        "X_train_pamonitor_ridge, X_test_pamonitor_ridge, y_train_pamonitor_ridge, y_test_pamonitor_ridge = train_test_split(X_PA,Y_PA, test_size=0.3, random_state=101)"
      ]
    },
    {
      "cell_type": "code",
      "execution_count": null,
      "metadata": {
        "id": "vOkNdyIOy4al"
      },
      "outputs": [],
      "source": [
        "X_train_pamonitor_ridge.head(3)"
      ]
    },
    {
      "cell_type": "code",
      "execution_count": null,
      "metadata": {
        "id": "xzeleikDtCmd"
      },
      "outputs": [],
      "source": [
        "#define cross-validation method to evaluate model\n",
        "cv = RepeatedKFold(n_splits=10, n_repeats=3, random_state=1)"
      ]
    },
    {
      "cell_type": "code",
      "execution_count": null,
      "metadata": {
        "id": "1V07_pDStIG1"
      },
      "outputs": [],
      "source": [
        "#define model\n",
        "model_ridge = RidgeCV(alphas=arange(0, 0.5, 0.01), cv=cv, scoring='neg_mean_absolute_error')"
      ]
    },
    {
      "cell_type": "code",
      "execution_count": null,
      "metadata": {
        "id": "_jMp87iCtWDT"
      },
      "outputs": [],
      "source": [
        "#fit model\n",
        "model_ridge.fit(X_train_pamonitor_ridge,y_train_pamonitor_ridge)\n",
        "\n",
        "#display lambda that produced the lowest test MSE\n",
        "print(model_ridge.alpha_)"
      ]
    },
    {
      "cell_type": "code",
      "execution_count": null,
      "metadata": {
        "id": "Mhol_YpcuFV8"
      },
      "outputs": [],
      "source": [
        "predictions_paridge=model_ridge.predict(X_test_pamonitor_ridge)"
      ]
    },
    {
      "cell_type": "code",
      "execution_count": null,
      "metadata": {
        "id": "IxZrm_blu6Ws"
      },
      "outputs": [],
      "source": [
        "# model evaluation\n",
        "print(\n",
        "'mean_squared_error : ', mean_squared_error(y_test_pamonitor,predictions_paridge))\n",
        "print(\n",
        "'mean_absolute_error : ', mean_absolute_error(y_test_pamonitor_ridge,predictions_paridge))\n"
      ]
    },
    {
      "cell_type": "code",
      "execution_count": null,
      "metadata": {
        "id": "nAUDFxlaRSGH"
      },
      "outputs": [],
      "source": [
        "predictions_paridge"
      ]
    },
    {
      "cell_type": "code",
      "execution_count": null,
      "metadata": {
        "id": "32ityDlQRbUN"
      },
      "outputs": [],
      "source": [
        "y_test_pamonitor"
      ]
    },
    {
      "cell_type": "code",
      "execution_count": null,
      "metadata": {
        "id": "5oSV3-SaZe3I"
      },
      "outputs": [],
      "source": [
        "from sklearn.linear_model import Lasso"
      ]
    },
    {
      "cell_type": "code",
      "execution_count": null,
      "metadata": {
        "id": "mxCDAzagac8I"
      },
      "outputs": [],
      "source": [
        "lasso = Lasso(alpha=1.0)"
      ]
    },
    {
      "cell_type": "code",
      "execution_count": null,
      "metadata": {
        "id": "s_cabAMKakEY"
      },
      "outputs": [],
      "source": [
        "lasso.fit(X_train_pamonitor_ridge,y_train_pamonitor_ridge)\n"
      ]
    },
    {
      "cell_type": "code",
      "execution_count": null,
      "metadata": {
        "id": "Vhu2w61ma3qR"
      },
      "outputs": [],
      "source": [
        "lasso.score(X_test_pamonitor_ridge,y_test_pamonitor_ridge), lasso.score(X_train_pamonitor_ridge,y_train_pamonitor_ridge)"
      ]
    },
    {
      "cell_type": "code",
      "execution_count": null,
      "metadata": {
        "id": "ZSgRvXPHbY4c"
      },
      "outputs": [],
      "source": [
        "predictions_lasso=lasso.predict(X_test_pamonitor_ridge)"
      ]
    },
    {
      "cell_type": "code",
      "execution_count": null,
      "metadata": {
        "id": "8fBHLQIdbhkr"
      },
      "outputs": [],
      "source": [
        "# model evaluation\n",
        "print(\n",
        "'mean_squared_error : ', mean_squared_error(y_test_pamonitor,predictions_lasso))\n",
        "print(\n",
        "'mean_absolute_error : ', mean_absolute_error(y_test_pamonitor_ridge,predictions_lasso))\n"
      ]
    },
    {
      "cell_type": "markdown",
      "metadata": {
        "id": "lQpEIMEovEfB"
      },
      "source": [
        "# **Ridge regression for oxygen concentrators without pm data (only wo data )**"
      ]
    },
    {
      "cell_type": "code",
      "execution_count": null,
      "metadata": {
        "id": "CJkP2e11vbq8"
      },
      "outputs": [],
      "source": [
        "import pandas as pd\n",
        "from numpy import arange\n",
        "from sklearn.linear_model import Ridge\n",
        "from sklearn.linear_model import RidgeCV\n",
        "from sklearn.model_selection import RepeatedKFold"
      ]
    },
    {
      "cell_type": "code",
      "execution_count": null,
      "metadata": {
        "id": "GJRzyX2Tv7Lr"
      },
      "outputs": [],
      "source": [
        "Y_oxygen=dataoxyhos1['wotime_diff']\n",
        "X_oxygen=dataoxyhos1.drop(['issued','Equip.reg_date','wotime_diff'],axis=1)\n"
      ]
    },
    {
      "cell_type": "code",
      "execution_count": null,
      "metadata": {
        "id": "LW4ajMqjvbq8"
      },
      "outputs": [],
      "source": [
        "X_train_oxy_ridge, X_test_oxy_ridge, y_train_oxy_ridge, y_test_oxy_ridge = train_test_split(X_oxygen,Y_oxygen, test_size=0.3, random_state=101)"
      ]
    },
    {
      "cell_type": "code",
      "execution_count": null,
      "metadata": {
        "id": "sVpXcsJ1zd1m"
      },
      "outputs": [],
      "source": [
        "X_train_oxy_ridge.head(3)"
      ]
    },
    {
      "cell_type": "code",
      "execution_count": null,
      "metadata": {
        "id": "OH-yWUn_vbq8"
      },
      "outputs": [],
      "source": [
        "#define cross-validation method to evaluate model\n",
        "cv = RepeatedKFold(n_splits=10, n_repeats=3, random_state=1)"
      ]
    },
    {
      "cell_type": "code",
      "execution_count": null,
      "metadata": {
        "id": "7kgU4PSlvbq8"
      },
      "outputs": [],
      "source": [
        "#define model\n",
        "model_ridge_oxy = RidgeCV(alphas=arange(0, 0.5, 0.01), cv=cv, scoring='neg_mean_absolute_error')"
      ]
    },
    {
      "cell_type": "code",
      "execution_count": null,
      "metadata": {
        "id": "EkTGDcFjvbq8"
      },
      "outputs": [],
      "source": [
        "#fit model\n",
        "model_ridge_oxy.fit(X_train_oxy_ridge,y_train_oxy_ridge)\n",
        "\n",
        "#display lambda that produced the lowest test MSE\n",
        "print(model_ridge_oxy.alpha_)"
      ]
    },
    {
      "cell_type": "code",
      "execution_count": null,
      "metadata": {
        "id": "rQjb2AKIvbq8"
      },
      "outputs": [],
      "source": [
        "predictions_oxyridge=model_ridge_oxy.predict(X_test_oxy_ridge)"
      ]
    },
    {
      "cell_type": "code",
      "execution_count": null,
      "metadata": {
        "id": "zaz72Lbmvbq9"
      },
      "outputs": [],
      "source": [
        "# model evaluation\n",
        "print(\n",
        "'mean_squared_error : ', mean_squared_error(y_test_oxy_ridge,predictions_oxyridge))\n",
        "print(\n",
        "'mean_absolute_error : ', mean_absolute_error(y_test_oxy_ridge,predictions_oxyridge))\n"
      ]
    },
    {
      "cell_type": "markdown",
      "metadata": {
        "id": "GNfDUhkzz6y5"
      },
      "source": [
        "# **Ridge regression for oxygen concentrators with PM data "
      ]
    },
    {
      "cell_type": "code",
      "execution_count": null,
      "metadata": {
        "id": "nwy0niePyGDi"
      },
      "outputs": [],
      "source": [
        "import pandas as pd\n",
        "from numpy import arange\n",
        "from sklearn.linear_model import Ridge\n",
        "from sklearn.linear_model import RidgeCV\n",
        "from sklearn.model_selection import RepeatedKFold"
      ]
    },
    {
      "cell_type": "code",
      "execution_count": null,
      "metadata": {
        "id": "NhSnKcSNKnk2"
      },
      "outputs": [],
      "source": [
        "pm_wo_attributes_oxygen.head(3)"
      ]
    },
    {
      "cell_type": "code",
      "execution_count": null,
      "metadata": {
        "id": "NPTB9u0iyGDi"
      },
      "outputs": [],
      "source": [
        "Y_oxygen_pm=pm_wo_attributes_oxygen['wotime_diff']\n"
      ]
    },
    {
      "cell_type": "code",
      "execution_count": null,
      "metadata": {
        "id": "Jh1lGaDbNlEb"
      },
      "outputs": [],
      "source": [
        "X_oxygen_pm=pm_wo_attributes_oxygen.drop(columns=['wotime_diff','dev','ID_y','inventarieID'])"
      ]
    },
    {
      "cell_type": "code",
      "execution_count": null,
      "metadata": {
        "id": "UhJkB2a5LH0v"
      },
      "outputs": [],
      "source": [
        "X_oxygen_pm.head(3)"
      ]
    },
    {
      "cell_type": "code",
      "execution_count": null,
      "metadata": {
        "id": "qtQJxhH0yGDi"
      },
      "outputs": [],
      "source": [
        "X_train_oxy_ridge_pm, X_test_oxy_ridge_pm, y_train_oxy_ridge_pm, y_test_oxy_ridge_pm = train_test_split(X_oxygen_pm,Y_oxygen_pm, test_size=0.3, random_state=101)"
      ]
    },
    {
      "cell_type": "code",
      "execution_count": null,
      "metadata": {
        "id": "wLL3ev0wHeWp"
      },
      "outputs": [],
      "source": [
        "X_train_oxy_ridge_pm.head(3)"
      ]
    },
    {
      "cell_type": "code",
      "execution_count": null,
      "metadata": {
        "id": "ESVhaDbzyGDi"
      },
      "outputs": [],
      "source": [
        "#define cross-validation method to evaluate model\n",
        "cv4 = RepeatedKFold(n_splits=10, n_repeats=3, random_state=1)"
      ]
    },
    {
      "cell_type": "code",
      "execution_count": null,
      "metadata": {
        "id": "Qxp2bBNUyGDi"
      },
      "outputs": [],
      "source": [
        "#define model\n",
        "model_ridge_oxy_pm = RidgeCV(alphas=arange(0, 1, 0.01), cv=cv, scoring='neg_mean_absolute_error')"
      ]
    },
    {
      "cell_type": "code",
      "execution_count": null,
      "metadata": {
        "id": "rY3nEhEEyGDi"
      },
      "outputs": [],
      "source": [
        "#fit model\n",
        "model_ridge_oxy_pm.fit(X_train_oxy_ridge_pm,y_train_oxy_ridge_pm)\n",
        "\n",
        "#display lambda that produced the lowest test MSE\n",
        "print(model_ridge_oxy_pm.alpha_)\n",
        "\n",
        "0.99"
      ]
    },
    {
      "cell_type": "code",
      "execution_count": null,
      "metadata": {
        "id": "BNGO8ZefyGDj"
      },
      "outputs": [],
      "source": [
        "predictions_oxyridge_pm=model_ridge_oxy_pm.predict(X_test_oxy_ridge_pm)"
      ]
    },
    {
      "cell_type": "code",
      "execution_count": null,
      "metadata": {
        "id": "RFX-XgFLyGDj"
      },
      "outputs": [],
      "source": [
        "# model evaluation\n",
        "print(\n",
        "'mean_squared_error : ', mean_squared_error(y_test_oxy_ridge_pm,predictions_oxyridge_pm))\n",
        "print(\n",
        "'mean_absolute_error : ', mean_absolute_error(y_test_oxy_ridge_pm,predictions_oxyridge_pm))\n"
      ]
    },
    {
      "cell_type": "markdown",
      "metadata": {
        "id": "-JRwC99NO_Lm"
      },
      "source": [
        "# **Ridge regression for anathesia without pm**"
      ]
    },
    {
      "cell_type": "code",
      "execution_count": null,
      "metadata": {
        "id": "bfFNSsbHXH_3"
      },
      "outputs": [],
      "source": [
        "import pandas as pd\n",
        "from numpy import arange\n",
        "from sklearn.linear_model import Ridge\n",
        "from sklearn.linear_model import RidgeCV\n",
        "from sklearn.model_selection import RepeatedKFold"
      ]
    },
    {
      "cell_type": "code",
      "execution_count": null,
      "metadata": {
        "id": "S_8L7pe0Xgwk"
      },
      "outputs": [],
      "source": [
        "Y_reghos2_ridge=data_aneshos1woeq['wotime_diff']\n",
        "X_reghos2_ridge=data_aneshos1woeq.drop(['dev','ID_y','issued','Equip.reg_date','wotime_diff','inventarieID'],axis=1)\n"
      ]
    },
    {
      "cell_type": "code",
      "execution_count": null,
      "metadata": {
        "id": "d4bT3j8vYenC"
      },
      "outputs": [],
      "source": [
        "X_reghos2_ridge.head(3)"
      ]
    },
    {
      "cell_type": "code",
      "execution_count": null,
      "metadata": {
        "id": "ztV1h0BMh2Yg"
      },
      "outputs": [],
      "source": [
        "import matplotlib.pyplot as plt\n",
        "\n",
        "x = data_aneshos1woeq['Equip.reg_date']\n",
        "plt.hist(x)\n",
        "plt.show()"
      ]
    },
    {
      "cell_type": "code",
      "execution_count": null,
      "metadata": {
        "id": "24_HZnX_XH_3"
      },
      "outputs": [],
      "source": [
        "X_train_anathesia_ridge, X_test_anathesia_ridge, y_train_anathesia_ridge, y_test_anathesia_ridge = train_test_split(X_reghos2_ridge,Y_reghos2_ridge, test_size=0.3, random_state=101)"
      ]
    },
    {
      "cell_type": "code",
      "execution_count": null,
      "metadata": {
        "id": "0Oxu_2B7XH_3"
      },
      "outputs": [],
      "source": [
        "X_train_anathesia_ridge.head(3)"
      ]
    },
    {
      "cell_type": "code",
      "execution_count": null,
      "metadata": {
        "id": "30Nfg1sRXH_3"
      },
      "outputs": [],
      "source": [
        "#define cross-validation method to evaluate model\n",
        "cv5 = RepeatedKFold(n_splits=10, n_repeats=3, random_state=1)"
      ]
    },
    {
      "cell_type": "code",
      "execution_count": null,
      "metadata": {
        "id": "RlZmna2gXH_3"
      },
      "outputs": [],
      "source": [
        "#define model\n",
        "model_ridge_ana = RidgeCV(alphas=arange(0, 1, 0.01), cv=cv, scoring='neg_mean_absolute_error')"
      ]
    },
    {
      "cell_type": "code",
      "execution_count": null,
      "metadata": {
        "id": "Y2MuIO27XH_3"
      },
      "outputs": [],
      "source": [
        "#fit model\n",
        "model_ridge_ana.fit(X_train_anathesia_ridge,y_train_anathesia_ridge)\n",
        "\n",
        "#display lambda that produced the lowest test MSE\n",
        "print(model_ridge_ana.alpha_)\n",
        "\n",
        "0.99"
      ]
    },
    {
      "cell_type": "code",
      "execution_count": null,
      "metadata": {
        "id": "oWh63_mLXH_4"
      },
      "outputs": [],
      "source": [
        "predictions_anaridge=model_ridge_ana.predict(X_test_anathesia_ridge)"
      ]
    },
    {
      "cell_type": "code",
      "execution_count": null,
      "metadata": {
        "id": "huwTa73tXH_4"
      },
      "outputs": [],
      "source": [
        "# model evaluation\n",
        "print(\n",
        "'mean_squared_error : ', mean_squared_error(y_test_anathesia_ridge,predictions_anaridge))\n",
        "print(\n",
        "'mean_absolute_error : ', mean_absolute_error(y_test_anathesia_ridge,predictions_anaridge))\n"
      ]
    },
    {
      "cell_type": "markdown",
      "metadata": {
        "id": "GAMIXBVPQZ5Y"
      },
      "source": [
        "# **Ridge regression for anathesia with pm data included**"
      ]
    },
    {
      "cell_type": "code",
      "execution_count": null,
      "metadata": {
        "id": "d_KWeYmea4WT"
      },
      "outputs": [],
      "source": [
        "data_anesWo_pm.head(3)"
      ]
    },
    {
      "cell_type": "code",
      "execution_count": null,
      "metadata": {
        "id": "BHJJ2LOXbNXc"
      },
      "outputs": [],
      "source": [
        "data_anesWo_pm['Equip.reg_date']=(pd.to_datetime(data_anesWo_pm['Equip.reg_date']))\n",
        "data_anesWo_pm['Scrapped_date']=(pd.to_datetime(data_anesWo_pm['Scrapped_date']))\n",
        "data_anesWo_pm['issued']=(pd.to_datetime(data_anesWo_pm['issued']))\n",
        "data_anesWo_pm['age']=(data_anesWo_pm['Scrapped_date']-data_anesWo_pm['Equip.reg_date']).dt.days\n",
        "data_anesWo_pm['wotime_diff']=(data_anesWo_pm['issued']-data_anesWo_pm['Equip.reg_date']).dt.days"
      ]
    },
    {
      "cell_type": "code",
      "execution_count": null,
      "metadata": {
        "id": "AThOeCh1eQax"
      },
      "outputs": [],
      "source": [
        "data_anesWo_pm.shape"
      ]
    },
    {
      "cell_type": "code",
      "execution_count": null,
      "metadata": {
        "id": "q9J7OHFFf2PT"
      },
      "outputs": [],
      "source": [
        " import matplotlib.pyplot as plt\n",
        "\n",
        "x = data_anesWo_pm['Equip.reg_date']\n",
        "plt.hist(x)\n",
        "plt.show()"
      ]
    },
    {
      "cell_type": "code",
      "execution_count": null,
      "metadata": {
        "id": "SVx7rlQfenG5"
      },
      "outputs": [],
      "source": [
        "#taking out outliers\n",
        "noutlier_data_anesWo_pm=data_anesWo_pm.loc[data_anesWo_pm['Equip.reg_date']<='1990-01-01']"
      ]
    },
    {
      "cell_type": "code",
      "execution_count": null,
      "metadata": {
        "id": "CyCXPAh7fbDz"
      },
      "outputs": [],
      "source": [
        "noutlier_data_anesWo_pm.shape"
      ]
    },
    {
      "cell_type": "code",
      "execution_count": null,
      "metadata": {
        "id": "Pfi4ppajQgAP"
      },
      "outputs": [],
      "source": [
        "#let us take out all the unnecessary columns from our way \n",
        "data_anesWo_pm.drop(columns=[])"
      ]
    },
    {
      "cell_type": "code",
      "execution_count": null,
      "metadata": {
        "id": "E4IrjM80TjvS"
      },
      "outputs": [],
      "source": []
    },
    {
      "cell_type": "markdown",
      "metadata": {
        "id": "IiFrL9jUfppr"
      },
      "source": [
        "# **Decsion tree for regression compared to linear regression flavours**"
      ]
    },
    {
      "cell_type": "markdown",
      "metadata": {
        "id": "dQzgfKk6f_kE"
      },
      "source": [
        "# Anathesia decision tree "
      ]
    },
    {
      "cell_type": "code",
      "execution_count": null,
      "metadata": {
        "id": "ExIA2XUugSaL"
      },
      "outputs": [],
      "source": [
        "import pandas as pd\n",
        "from numpy import arange\n",
        "from sklearn.linear_model import Ridge\n",
        "from sklearn.linear_model import RidgeCV\n",
        "from sklearn.model_selection import RepeatedKFold"
      ]
    },
    {
      "cell_type": "code",
      "execution_count": null,
      "metadata": {
        "id": "pslFDpVogSaM"
      },
      "outputs": [],
      "source": [
        "Y_reghos2_ridge=data_aneshos1woeq['wotime_diff']\n",
        "X_reghos2_ridge=data_aneshos1woeq.drop(['dev','ID_y','issued','Equip.reg_date','wotime_diff','inventarieID'],axis=1)\n"
      ]
    },
    {
      "cell_type": "code",
      "execution_count": null,
      "metadata": {
        "id": "nYoQjjelgSaM"
      },
      "outputs": [],
      "source": [
        "X_reghos2_ridge.head(3)"
      ]
    },
    {
      "cell_type": "code",
      "execution_count": null,
      "metadata": {
        "id": "E2j5H5bBgSaN"
      },
      "outputs": [],
      "source": [
        "import matplotlib.pyplot as plt\n",
        "\n",
        "x = data_aneshos1woeq['Equip.reg_date']\n",
        "plt.hist(x)\n",
        "plt.show()"
      ]
    },
    {
      "cell_type": "code",
      "execution_count": null,
      "metadata": {
        "id": "x7bLC98kgSaN"
      },
      "outputs": [],
      "source": [
        "X_train_anathesia_ridge, X_test_anathesia_ridge, y_train_anathesia_ridge, y_test_anathesia_ridge = train_test_split(X_reghos2_ridge,Y_reghos2_ridge, test_size=0.3, random_state=101)"
      ]
    },
    {
      "cell_type": "code",
      "execution_count": null,
      "metadata": {
        "id": "ns2gkIFJgSaN"
      },
      "outputs": [],
      "source": [
        "X_train_anathesia_ridge.head(3)"
      ]
    },
    {
      "cell_type": "code",
      "execution_count": null,
      "metadata": {
        "id": "L8eUvrF4jDjK"
      },
      "outputs": [],
      "source": [
        "from sklearn.model_selection import train_test_split # for splitting the data\n",
        "from sklearn.metrics import mean_squared_error # for calculating the cost function\n",
        "from sklearn.tree import DecisionTreeRegressor # for building the model"
      ]
    },
    {
      "cell_type": "code",
      "execution_count": null,
      "metadata": {
        "id": "cel7ZKpKihYk"
      },
      "outputs": [],
      "source": [
        "# Initializing the Decision Tree Regression model\n",
        "model_DT= DecisionTreeRegressor(random_state = 0)\n",
        "\n",
        "# Fitting the Decision Tree Regression model to the data\n",
        "model_DT.fit(X_train_anathesia_ridge,y_train_anathesia_ridge)"
      ]
    },
    {
      "cell_type": "code",
      "execution_count": null,
      "metadata": {
        "id": "av9vVD2XjHe2"
      },
      "outputs": [],
      "source": [
        "# Predicting the target values of the test set\n",
        "y_pred_dt = model_DT.predict(X_test_anathesia_ridge)\n",
        "\n",
        "# RMSE (Root Mean Square Error)\n",
        "rmse = float(format(np.sqrt(mean_squared_error(y_test_anathesia_ridge, y_pred_dt)), '.3f'))\n",
        "print(\"\\nRMSE: \", rmse)\n",
        "RMSE: 133.351"
      ]
    },
    {
      "cell_type": "code",
      "execution_count": null,
      "metadata": {
        "id": "y-4a72woj3qy"
      },
      "outputs": [],
      "source": [
        "print(\n",
        "'mean_absolute_error : ', mean_absolute_error(y_test_anathesia_ridge,y_pred_dt))"
      ]
    },
    {
      "cell_type": "code",
      "execution_count": null,
      "metadata": {
        "id": "ruoAidvbsJsv"
      },
      "outputs": [],
      "source": [
        "# model evaluation\n",
        "print(\n",
        "'mean_squared_error : ', mean_squared_error(y_test_anathesia_ridge,y_pred_dt))\n"
      ]
    },
    {
      "cell_type": "code",
      "execution_count": null,
      "metadata": {
        "id": "0eavTtLysZXc"
      },
      "outputs": [],
      "source": []
    },
    {
      "cell_type": "markdown",
      "metadata": {
        "id": "cmrz72Z3kLtm"
      },
      "source": [
        "# **patient monitor**"
      ]
    },
    {
      "cell_type": "code",
      "execution_count": null,
      "metadata": {
        "id": "ZeebMTkFlBrD"
      },
      "outputs": [],
      "source": [
        "X_PA=no_outlier_pamonitor.drop(['Equip.reg_date','Scrapped_date','issued','AOEkKlarDat','Model','last_pm','first_pm','inventarieID'],axis=1)\n",
        "Y_PA=no_outlier_pamonitor['wotime_diff']"
      ]
    },
    {
      "cell_type": "code",
      "execution_count": null,
      "metadata": {
        "id": "gxzy7f-Dkl2y"
      },
      "outputs": [],
      "source": [
        "X_train_pamonitor_ridge, X_test_pamonitor_ridge, y_train_pamonitor_ridge, y_test_pamonitor_ridge = train_test_split(X_PA,Y_PA, test_size=0.3, random_state=101)"
      ]
    },
    {
      "cell_type": "code",
      "execution_count": null,
      "metadata": {
        "id": "KRFvRncKkl2y"
      },
      "outputs": [],
      "source": [
        "X_train_pamonitor_ridge.head(3)"
      ]
    },
    {
      "cell_type": "code",
      "execution_count": null,
      "metadata": {
        "id": "bTJ006c9kl2z"
      },
      "outputs": [],
      "source": [
        " # Initializing the Decision Tree Regression model\n",
        "model_pa = DecisionTreeRegressor(random_state = 0)\n",
        "\n",
        "# Fitting the Decision Tree Regression model to the data\n",
        "model_pa.fit(X_train_pamonitor_ridge,y_train_pamonitor_ridge)"
      ]
    },
    {
      "cell_type": "code",
      "execution_count": null,
      "metadata": {
        "id": "JiflsyBHkl20"
      },
      "outputs": [],
      "source": [
        "predictions_pa_dt=model_pa.predict(X_test_pamonitor_ridge)"
      ]
    },
    {
      "cell_type": "code",
      "execution_count": null,
      "metadata": {
        "id": "J-xluRJ-kl21"
      },
      "outputs": [],
      "source": [
        "# model evaluation\n",
        "print(\n",
        "'mean_squared_error : ', mean_squared_error(y_test_pamonitor,predictions_pa_dt))\n",
        "print(\n",
        "'mean_absolute_error : ', mean_absolute_error(y_test_pamonitor_ridge,predictions_pa_dt))\n"
      ]
    },
    {
      "cell_type": "markdown",
      "metadata": {
        "id": "g_k5UD5WmM3r"
      },
      "source": [
        "# **OXYGEN concentrator"
      ]
    },
    {
      "cell_type": "code",
      "execution_count": null,
      "metadata": {
        "id": "sz95HUXRm0G2"
      },
      "outputs": [],
      "source": [
        "import pandas as pd\n",
        "from numpy import arange\n",
        "from sklearn.linear_model import Ridge\n",
        "from sklearn.linear_model import RidgeCV\n",
        "from sklearn.model_selection import RepeatedKFold"
      ]
    },
    {
      "cell_type": "code",
      "execution_count": null,
      "metadata": {
        "id": "pNjWjkGom0G3"
      },
      "outputs": [],
      "source": [
        "pm_wo_attributes_oxygen.head(3)"
      ]
    },
    {
      "cell_type": "code",
      "execution_count": null,
      "metadata": {
        "id": "gCdHfn4tm0G4"
      },
      "outputs": [],
      "source": [
        "Y_oxygen_pm=pm_wo_attributes_oxygen['wotime_diff']\n"
      ]
    },
    {
      "cell_type": "code",
      "execution_count": null,
      "metadata": {
        "id": "kzAX0J5dm0G4"
      },
      "outputs": [],
      "source": [
        "X_oxygen_pm=pm_wo_attributes_oxygen.drop(columns=['wotime_diff','dev','ID_y','inventarieID'])"
      ]
    },
    {
      "cell_type": "code",
      "execution_count": null,
      "metadata": {
        "id": "c-MBl-LLm0G5"
      },
      "outputs": [],
      "source": [
        "X_oxygen_pm.head(3)"
      ]
    },
    {
      "cell_type": "code",
      "execution_count": null,
      "metadata": {
        "id": "Fl2iBmdtm0G6"
      },
      "outputs": [],
      "source": [
        "X_train_oxy_ridge_pm, X_test_oxy_ridge_pm, y_train_oxy_ridge_pm, y_test_oxy_ridge_pm = train_test_split(X_oxygen_pm,Y_oxygen_pm, test_size=0.3, random_state=101)"
      ]
    },
    {
      "cell_type": "code",
      "execution_count": null,
      "metadata": {
        "id": "GTc-twwNm0G6"
      },
      "outputs": [],
      "source": [
        "X_train_oxy_ridge_pm.head(3)"
      ]
    },
    {
      "cell_type": "code",
      "execution_count": null,
      "metadata": {
        "id": "py_DtOBInFXX"
      },
      "outputs": [],
      "source": [
        "# Initializing the Decision Tree Regression model\n",
        "model_oxy_dt = DecisionTreeRegressor(random_state = 0)\n",
        "\n",
        "# Fitting the Decision Tree Regression model to the data\n",
        "model_oxy_dt.fit(X_train_oxy_ridge_pm, y_train_oxy_ridge_pm)"
      ]
    },
    {
      "cell_type": "code",
      "execution_count": null,
      "metadata": {
        "id": "jYXKOC-vm0G-"
      },
      "outputs": [],
      "source": [
        "predictions_oxdt_pm=model_oxy_dt.predict(X_test_oxy_ridge_pm)"
      ]
    },
    {
      "cell_type": "code",
      "execution_count": null,
      "metadata": {
        "id": "Ooan04EPm0G_"
      },
      "outputs": [],
      "source": [
        "# model evaluation\n",
        "print(\n",
        "'mean_squared_error : ', mean_squared_error(y_test_oxy_ridge_pm,predictions_oxdt_pm))\n",
        "print(\n",
        "'mean_absolute_error : ', mean_absolute_error(y_test_oxy_ridge_pm,predictions_oxdt_pm))\n"
      ]
    },
    {
      "cell_type": "code",
      "execution_count": null,
      "metadata": {
        "id": "4CQOW-jImKKZ"
      },
      "outputs": [],
      "source": []
    },
    {
      "cell_type": "markdown",
      "metadata": {
        "id": "Gb1tJJ5sdjUo"
      },
      "source": [
        "# **experiment of differntiating issued dates work order 22/11/2022**"
      ]
    },
    {
      "cell_type": "code",
      "execution_count": null,
      "metadata": {
        "id": "lO42fwdriHNe"
      },
      "outputs": [],
      "source": [
        "data_aneshos1woeq.head(10)"
      ]
    },
    {
      "cell_type": "markdown",
      "metadata": {
        "id": "LKGBrr5UgCbL"
      },
      "source": [
        "will sort by inventaried id and keep it in different new data frame"
      ]
    },
    {
      "cell_type": "code",
      "execution_count": null,
      "metadata": {
        "id": "G_T8DQf3h0hz"
      },
      "outputs": [],
      "source": [
        "df_sortinver= data_aneshos1woeq.sort_values(by=['inventarieID','issued'])"
      ]
    },
    {
      "cell_type": "code",
      "execution_count": null,
      "metadata": {
        "id": "LfI-i7pPj9Qd"
      },
      "outputs": [],
      "source": [
        "df_sortinver.tail(20)"
      ]
    },
    {
      "cell_type": "code",
      "execution_count": null,
      "metadata": {
        "id": "ARtUR0Ioj52s"
      },
      "outputs": [],
      "source": [
        "(df_sortinver.iloc[:,6:6:1]).shape"
      ]
    },
    {
      "cell_type": "code",
      "execution_count": null,
      "metadata": {
        "id": "qsQNDZQNlw4r"
      },
      "outputs": [],
      "source": [
        "df_sortinver.iloc[:,5:6:1]"
      ]
    },
    {
      "cell_type": "code",
      "execution_count": null,
      "metadata": {
        "id": "xQdSWVp8N6-e"
      },
      "outputs": [],
      "source": [
        "len(df_sortinver)"
      ]
    },
    {
      "cell_type": "markdown",
      "metadata": {
        "id": "v3bSfgcp-1OS"
      },
      "source": [
        "how can we read single value within a column?"
      ]
    },
    {
      "cell_type": "code",
      "execution_count": null,
      "metadata": {
        "id": "OnqhbfO--7Zd"
      },
      "outputs": [],
      "source": [
        "(df_sortinver.iloc[2]).Count_wo"
      ]
    },
    {
      "cell_type": "markdown",
      "metadata": {
        "id": "fBDRxDm3pitQ"
      },
      "source": [
        "# **Studies on preventive maintenance activities**"
      ]
    },
    {
      "cell_type": "markdown",
      "metadata": {
        "id": "q80vk5LH2E6n"
      },
      "source": [
        "# **from all data patterns **"
      ]
    },
    {
      "cell_type": "code",
      "execution_count": null,
      "metadata": {
        "id": "Nng_o0Jz2LLw"
      },
      "outputs": [],
      "source": [
        "all_data_together.head(3)"
      ]
    },
    {
      "cell_type": "code",
      "execution_count": null,
      "metadata": {
        "id": "qiesTIIh26NY"
      },
      "outputs": [],
      "source": [
        "all_data_together.shape"
      ]
    },
    {
      "cell_type": "markdown",
      "metadata": {
        "id": "IKVhXM7v3kH5"
      },
      "source": [
        "oxygen concentrators average preventive maintenance data "
      ]
    },
    {
      "cell_type": "markdown",
      "metadata": {
        "id": "zKkj3L5gjn-R"
      },
      "source": [
        "age has strong correlation with count of work orders done , does it has a correlation with meanttime between work orders ?"
      ]
    },
    {
      "cell_type": "markdown",
      "metadata": {
        "id": "lKqca0fl6yRi"
      },
      "source": [
        "there is a high correlation between count of workorders and age \n",
        "also there is high correlation between count of pm and meantime between pm\n",
        "-what we are interested is finding \n",
        "1-average time between pm for oxygen concenterators and the average age for these devices?"
      ]
    },
    {
      "cell_type": "markdown",
      "metadata": {
        "id": "nI0N4pit74r_"
      },
      "source": [
        "**average meatime between pm activities for the oxygen concentrators is 5.7 months or 173 days .**"
      ]
    },
    {
      "cell_type": "markdown",
      "metadata": {
        "id": "Z18skH2a8Qb_"
      },
      "source": [
        "**average age for oxygen concentrators is 2329 days or 6.4 years.**"
      ]
    },
    {
      "cell_type": "markdown",
      "metadata": {
        "id": "UhtKhb3d8tFI"
      },
      "source": [
        "**average workorders within life time of an oxygen concentrator is 5 work orders and average meantime between workorders is 242 days or 8 months **"
      ]
    },
    {
      "cell_type": "markdown",
      "metadata": {
        "id": "REw_OmqFB-V8"
      },
      "source": [
        "**we need to select all data which has it pm activities for more than 5.7 months and see if we get more work orders or not ?**"
      ]
    },
    {
      "cell_type": "markdown",
      "metadata": {
        "id": "6It3bwKSkTj3"
      },
      "source": [
        "***glossary for PM-his7 data : ***\n",
        "\n",
        "[blnRecurring] LW: Is scheduled as recurring. Meaning it after the PM is completed, another PM session will be scheduled.\n",
        "      ,[intTimeInterval] LW: The period between the recurring schedules. Related to if bInRecurring is true.\n",
        "      ,[PM_TimeIntervalUnitID] LW: The unit type of the period between the recurring schedules i.e. days, months. bInRecurring is true.\n",
        "      ,[intTimeIntervalRecommended] LW: Is this data populated? It’s the same as [PM_TimeInterval] but what is recommend by the manufacturer.\n",
        "      ,[PM_TimeIntervalUnitIDRecommended] LW: Is this data populated? It’s the same as [PM_TimeIntervalUnitID] but what is recommend by the manufacturer.\n",
        "      ,[intEstimatedPMTimeHours] LW: Estimation of how long the PM will take to perform\n",
        "      ,convert(date,[datLatest]) LW: Latest performed PM.\n",
        "      ,convert(date,[datNext]) LW: The upcoming PM to be performed.\n",
        "      ,[InventarierID] LW: Equipment ID\n",
        "      ,workorderid AS [ArborderID] LW: Work Order ID\n",
        "      ,[blnHiddenPMClock] LW: Not sure, could you give examples of how the data looks?\n",
        "      ,[DeviatingTimeIntervalRecommended] LW: Is this data populated?\n",
        "        ,DATEDIFF(DD,[datLatest],[datCreated]) AS PM_diff LW: The number of days between when the PM should have been performed and when it was performed."
      ]
    },
    {
      "cell_type": "code",
      "execution_count": null,
      "metadata": {
        "id": "x6WaNsZW7qNc"
      },
      "outputs": [],
      "source": [
        "df8=(r\"/content/drive/MyDrive/Thesis_datasets/New-data-SoftPro/Hospitals1/pm_history.csv\")"
      ]
    },
    {
      "cell_type": "code",
      "execution_count": null,
      "metadata": {
        "id": "dNY75fwu7qNd"
      },
      "outputs": [],
      "source": [
        " data8= pd.read_csv(df8,sep=';',header=0)"
      ]
    },
    {
      "cell_type": "code",
      "execution_count": null,
      "metadata": {
        "id": "1u0YmN4q7qNe"
      },
      "outputs": [],
      "source": [
        "data8"
      ]
    },
    {
      "cell_type": "code",
      "execution_count": null,
      "metadata": {
        "id": "U-yDs85O7qNe"
      },
      "outputs": [],
      "source": [
        "data8.isnull().sum()"
      ]
    },
    {
      "cell_type": "code",
      "execution_count": null,
      "metadata": {
        "id": "cvcVRSln7qNg"
      },
      "outputs": [],
      "source": [
        "#dict = {'FUSenaste': 'prevPm',\n",
        "       # 'FUIntNasta': 'nexPm',\n",
        "        #'InkDat':'Equip.reg_date',\n",
        "        #'SkrotDatum':'Scrapped_date',\n",
        "        #'Benamn':'dev',\n",
        "      #'Fabrikat':'Brand',\n",
        "        #'Modell':'Model',\n",
        "        #'intRisktal':'calc.Risk'}"
      ]
    },
    {
      "cell_type": "code",
      "execution_count": null,
      "metadata": {
        "id": "rnRXf2cd7qNh"
      },
      "outputs": [],
      "source": [
        "#fin.rename(columns=dict,inplace=True)"
      ]
    },
    {
      "cell_type": "code",
      "execution_count": null,
      "metadata": {
        "id": "ai1GYugK7qNh"
      },
      "outputs": [],
      "source": [
        "len(data8)"
      ]
    },
    {
      "cell_type": "markdown",
      "metadata": {
        "id": "jOqIgCP67qNi"
      },
      "source": [
        "**substitute scrapped null values with data collection**"
      ]
    },
    {
      "cell_type": "code",
      "execution_count": null,
      "metadata": {
        "id": "972gSjD67qNk"
      },
      "outputs": [],
      "source": [
        "data8.dropna(inplace=True)"
      ]
    },
    {
      "cell_type": "code",
      "execution_count": null,
      "metadata": {
        "id": "NrI-xJKm7qNl"
      },
      "outputs": [],
      "source": [
        "data8.shape"
      ]
    },
    {
      "cell_type": "code",
      "execution_count": null,
      "metadata": {
        "id": "mmeDO7-q_jri"
      },
      "outputs": [],
      "source": [
        "data8"
      ]
    },
    {
      "cell_type": "markdown",
      "metadata": {
        "id": "ewSPlq7Sp20L"
      },
      "source": [
        "loading all preventive maintenance queries again,this time we need to connect those data to specific devices so that we can relate between equipment , age and pm data using inventarierID as a reference \n",
        "\n",
        "---\n",
        "\n"
      ]
    },
    {
      "cell_type": "code",
      "execution_count": null,
      "metadata": {
        "id": "nv9L7yLNWwCs"
      },
      "outputs": [],
      "source": [
        "data8.set_index('InventarierID',inplace=True)"
      ]
    },
    {
      "cell_type": "code",
      "execution_count": null,
      "metadata": {
        "id": "Gh4RNaRIXDqk"
      },
      "outputs": [],
      "source": [
        "data8.head(3)"
      ]
    },
    {
      "cell_type": "code",
      "execution_count": null,
      "metadata": {
        "id": "OwLr94AF12vB"
      },
      "outputs": [],
      "source": [
        "all_pm_fields= pd.merge(eq,data8,left_index=True, right_index=True)"
      ]
    },
    {
      "cell_type": "code",
      "execution_count": null,
      "metadata": {
        "id": "gKisN5ev7ot6"
      },
      "outputs": [],
      "source": [
        "all_pm_fields.head(5)"
      ]
    },
    {
      "cell_type": "code",
      "execution_count": null,
      "metadata": {
        "id": "ZCTIR3J4XzEc"
      },
      "outputs": [],
      "source": [
        "all_pm_fields.shape"
      ]
    },
    {
      "cell_type": "code",
      "execution_count": null,
      "metadata": {
        "id": "Lj88MdJIYKGZ"
      },
      "outputs": [],
      "source": [
        "oxygen=all_pm_fields.query(\"dev=='Anestesiarbetsstation'\")\n",
        "\n"
      ]
    },
    {
      "cell_type": "code",
      "execution_count": null,
      "metadata": {
        "id": "FVtvRFQ6Ygwe"
      },
      "outputs": [],
      "source": [
        "oxygen"
      ]
    }
  ],
  "metadata": {
    "colab": {
      "collapsed_sections": [
        "rJalYvreSct_",
        "HxQj_jDxy_7T",
        "vB6E0JkD6haT",
        "mg5iri2Q0WMF",
        "xdqT8l-e4UpJ",
        "6LOqYCPP2yQE",
        "BjFvwT7xIqSE",
        "fBDRxDm3pitQ"
      ],
      "toc_visible": true,
      "provenance": [],
      "include_colab_link": true
    },
    "kernelspec": {
      "display_name": "Python 3",
      "name": "python3"
    },
    "language_info": {
      "name": "python"
    }
  },
  "nbformat": 4,
  "nbformat_minor": 0
}