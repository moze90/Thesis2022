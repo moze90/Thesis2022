{
  "cells": [
    {
      "cell_type": "markdown",
      "metadata": {
        "id": "view-in-github",
        "colab_type": "text"
      },
      "source": [
        "<a href=\"https://colab.research.google.com/github/moze90/Thesis2022/blob/main/Thesis_2022_Newdata.ipynb\" target=\"_parent\"><img src=\"https://colab.research.google.com/assets/colab-badge.svg\" alt=\"Open In Colab\"/></a>"
      ]
    },
    {
      "cell_type": "code",
      "execution_count": 1,
      "metadata": {
        "id": "TEvk_9_uZhzh"
      },
      "outputs": [],
      "source": [
        "import numpy as np\n",
        "import pandas as pd\n",
        "import matplotlib.pyplot as plt\n",
        "import seaborn as sns\n",
        "sns.set(color_codes=True)\n",
        "import warnings\n",
        "warnings.filterwarnings(\"ignore\")\n",
        "from glob import glob\n",
        "import re\n",
        "import gc\n",
        "import csv\n",
        "from scipy.stats import zscore\n",
        "from datetime import datetime\n",
        "from pandas.io.parsers.readers import read_csv\n",
        "from sklearn.covariance import EllipticEnvelope\n",
        "from sklearn.preprocessing import StandardScaler\n",
        "from sklearn.model_selection import train_test_split\n",
        "from sklearn.tree import DecisionTreeClassifier\n",
        "from sklearn.metrics import classification_report\n",
        "from sklearn.metrics import accuracy_score\n",
        "from sklearn.metrics import confusion_matrix\n",
        "from sklearn.metrics import ConfusionMatrixDisplay\n",
        "from sklearn import metrics"
      ]
    },
    {
      "cell_type": "code",
      "execution_count": 2,
      "metadata": {
        "colab": {
          "base_uri": "https://localhost:8080/"
        },
        "id": "fuTRrQI343OZ",
        "outputId": "d5182936-fe18-4843-b30d-64d543d7d713"
      },
      "outputs": [
        {
          "output_type": "stream",
          "name": "stdout",
          "text": [
            "Mounted at /content/drive\n"
          ]
        }
      ],
      "source": [
        "from google.colab import drive\n",
        "drive.mount('/content/drive')"
      ]
    },
    {
      "cell_type": "markdown",
      "metadata": {
        "id": "XDKkLsdHV4oS"
      },
      "source": [
        "**DATA PREPROCESSING**"
      ]
    },
    {
      "cell_type": "markdown",
      "metadata": {
        "id": "rJalYvreSct_"
      },
      "source": [
        "# **new EQ**"
      ]
    },
    {
      "cell_type": "markdown",
      "metadata": {
        "id": "LKQuUlWVuXP9"
      },
      "source": [
        "**First step:removing null values**"
      ]
    },
    {
      "cell_type": "code",
      "execution_count": 3,
      "metadata": {
        "id": "8tP-2p4cSLtI"
      },
      "outputs": [],
      "source": [
        "df1=(r\"/content/drive/MyDrive/Thesis_datasets/New-data-SoftPro/Hospitals1/eq.csv\")"
      ]
    },
    {
      "cell_type": "code",
      "execution_count": 4,
      "metadata": {
        "id": "dkXq8CYpSw1a"
      },
      "outputs": [],
      "source": [
        " data1= pd.read_csv(df1,sep=';',header=0,parse_dates=True)"
      ]
    },
    {
      "cell_type": "code",
      "execution_count": 5,
      "metadata": {
        "colab": {
          "base_uri": "https://localhost:8080/",
          "height": 0
        },
        "id": "ooaMHqouNchi",
        "outputId": "41835e6c-c860-4d73-e8f1-bef53525f0f4"
      },
      "outputs": [
        {
          "output_type": "execute_result",
          "data": {
            "text/plain": [
              "     InvNr                   InkDat  Skrotad flReplacementCost flPurchaseCost  \\\n",
              "0  C951-01  2001-01-01 00:00:00.000        2                 0          33210   \n",
              "\n",
              "  SkrotDatum     ID  PMLMaintenanceRequirementID  PMLMissionCriticalID  \\\n",
              "0        NaN  68263                          NaN                   NaN   \n",
              "\n",
              "   PMLRiscID  ...     Modell Handelsnamn intRisktal strRiscName  \\\n",
              "0        NaN  ...  Wolf 5512         NaN       20.0          20   \n",
              "\n",
              "   intRiscSeverityLevel                FUSenaste  FUIntNasta  \\\n",
              "0                  20.0  2004-06-15 00:00:00.000         NaN   \n",
              "\n",
              "  PMLMaintenanceRequirementDescription PMLMissionCriticalDescription  \\\n",
              "0                                  NaN                           NaN   \n",
              "\n",
              "   PMLRiscDescription  \n",
              "0                 NaN  \n",
              "\n",
              "[1 rows x 22 columns]"
            ],
            "text/html": [
              "\n",
              "  <div id=\"df-c3c6bb65-43a4-4610-ae59-ca04f46e9f01\">\n",
              "    <div class=\"colab-df-container\">\n",
              "      <div>\n",
              "<style scoped>\n",
              "    .dataframe tbody tr th:only-of-type {\n",
              "        vertical-align: middle;\n",
              "    }\n",
              "\n",
              "    .dataframe tbody tr th {\n",
              "        vertical-align: top;\n",
              "    }\n",
              "\n",
              "    .dataframe thead th {\n",
              "        text-align: right;\n",
              "    }\n",
              "</style>\n",
              "<table border=\"1\" class=\"dataframe\">\n",
              "  <thead>\n",
              "    <tr style=\"text-align: right;\">\n",
              "      <th></th>\n",
              "      <th>InvNr</th>\n",
              "      <th>InkDat</th>\n",
              "      <th>Skrotad</th>\n",
              "      <th>flReplacementCost</th>\n",
              "      <th>flPurchaseCost</th>\n",
              "      <th>SkrotDatum</th>\n",
              "      <th>ID</th>\n",
              "      <th>PMLMaintenanceRequirementID</th>\n",
              "      <th>PMLMissionCriticalID</th>\n",
              "      <th>PMLRiscID</th>\n",
              "      <th>...</th>\n",
              "      <th>Modell</th>\n",
              "      <th>Handelsnamn</th>\n",
              "      <th>intRisktal</th>\n",
              "      <th>strRiscName</th>\n",
              "      <th>intRiscSeverityLevel</th>\n",
              "      <th>FUSenaste</th>\n",
              "      <th>FUIntNasta</th>\n",
              "      <th>PMLMaintenanceRequirementDescription</th>\n",
              "      <th>PMLMissionCriticalDescription</th>\n",
              "      <th>PMLRiscDescription</th>\n",
              "    </tr>\n",
              "  </thead>\n",
              "  <tbody>\n",
              "    <tr>\n",
              "      <th>0</th>\n",
              "      <td>C951-01</td>\n",
              "      <td>2001-01-01 00:00:00.000</td>\n",
              "      <td>2</td>\n",
              "      <td>0</td>\n",
              "      <td>33210</td>\n",
              "      <td>NaN</td>\n",
              "      <td>68263</td>\n",
              "      <td>NaN</td>\n",
              "      <td>NaN</td>\n",
              "      <td>NaN</td>\n",
              "      <td>...</td>\n",
              "      <td>Wolf 5512</td>\n",
              "      <td>NaN</td>\n",
              "      <td>20.0</td>\n",
              "      <td>20</td>\n",
              "      <td>20.0</td>\n",
              "      <td>2004-06-15 00:00:00.000</td>\n",
              "      <td>NaN</td>\n",
              "      <td>NaN</td>\n",
              "      <td>NaN</td>\n",
              "      <td>NaN</td>\n",
              "    </tr>\n",
              "  </tbody>\n",
              "</table>\n",
              "<p>1 rows × 22 columns</p>\n",
              "</div>\n",
              "      <button class=\"colab-df-convert\" onclick=\"convertToInteractive('df-c3c6bb65-43a4-4610-ae59-ca04f46e9f01')\"\n",
              "              title=\"Convert this dataframe to an interactive table.\"\n",
              "              style=\"display:none;\">\n",
              "        \n",
              "  <svg xmlns=\"http://www.w3.org/2000/svg\" height=\"24px\"viewBox=\"0 0 24 24\"\n",
              "       width=\"24px\">\n",
              "    <path d=\"M0 0h24v24H0V0z\" fill=\"none\"/>\n",
              "    <path d=\"M18.56 5.44l.94 2.06.94-2.06 2.06-.94-2.06-.94-.94-2.06-.94 2.06-2.06.94zm-11 1L8.5 8.5l.94-2.06 2.06-.94-2.06-.94L8.5 2.5l-.94 2.06-2.06.94zm10 10l.94 2.06.94-2.06 2.06-.94-2.06-.94-.94-2.06-.94 2.06-2.06.94z\"/><path d=\"M17.41 7.96l-1.37-1.37c-.4-.4-.92-.59-1.43-.59-.52 0-1.04.2-1.43.59L10.3 9.45l-7.72 7.72c-.78.78-.78 2.05 0 2.83L4 21.41c.39.39.9.59 1.41.59.51 0 1.02-.2 1.41-.59l7.78-7.78 2.81-2.81c.8-.78.8-2.07 0-2.86zM5.41 20L4 18.59l7.72-7.72 1.47 1.35L5.41 20z\"/>\n",
              "  </svg>\n",
              "      </button>\n",
              "      \n",
              "  <style>\n",
              "    .colab-df-container {\n",
              "      display:flex;\n",
              "      flex-wrap:wrap;\n",
              "      gap: 12px;\n",
              "    }\n",
              "\n",
              "    .colab-df-convert {\n",
              "      background-color: #E8F0FE;\n",
              "      border: none;\n",
              "      border-radius: 50%;\n",
              "      cursor: pointer;\n",
              "      display: none;\n",
              "      fill: #1967D2;\n",
              "      height: 32px;\n",
              "      padding: 0 0 0 0;\n",
              "      width: 32px;\n",
              "    }\n",
              "\n",
              "    .colab-df-convert:hover {\n",
              "      background-color: #E2EBFA;\n",
              "      box-shadow: 0px 1px 2px rgba(60, 64, 67, 0.3), 0px 1px 3px 1px rgba(60, 64, 67, 0.15);\n",
              "      fill: #174EA6;\n",
              "    }\n",
              "\n",
              "    [theme=dark] .colab-df-convert {\n",
              "      background-color: #3B4455;\n",
              "      fill: #D2E3FC;\n",
              "    }\n",
              "\n",
              "    [theme=dark] .colab-df-convert:hover {\n",
              "      background-color: #434B5C;\n",
              "      box-shadow: 0px 1px 3px 1px rgba(0, 0, 0, 0.15);\n",
              "      filter: drop-shadow(0px 1px 2px rgba(0, 0, 0, 0.3));\n",
              "      fill: #FFFFFF;\n",
              "    }\n",
              "  </style>\n",
              "\n",
              "      <script>\n",
              "        const buttonEl =\n",
              "          document.querySelector('#df-c3c6bb65-43a4-4610-ae59-ca04f46e9f01 button.colab-df-convert');\n",
              "        buttonEl.style.display =\n",
              "          google.colab.kernel.accessAllowed ? 'block' : 'none';\n",
              "\n",
              "        async function convertToInteractive(key) {\n",
              "          const element = document.querySelector('#df-c3c6bb65-43a4-4610-ae59-ca04f46e9f01');\n",
              "          const dataTable =\n",
              "            await google.colab.kernel.invokeFunction('convertToInteractive',\n",
              "                                                     [key], {});\n",
              "          if (!dataTable) return;\n",
              "\n",
              "          const docLinkHtml = 'Like what you see? Visit the ' +\n",
              "            '<a target=\"_blank\" href=https://colab.research.google.com/notebooks/data_table.ipynb>data table notebook</a>'\n",
              "            + ' to learn more about interactive tables.';\n",
              "          element.innerHTML = '';\n",
              "          dataTable['output_type'] = 'display_data';\n",
              "          await google.colab.output.renderOutput(dataTable, element);\n",
              "          const docLink = document.createElement('div');\n",
              "          docLink.innerHTML = docLinkHtml;\n",
              "          element.appendChild(docLink);\n",
              "        }\n",
              "      </script>\n",
              "    </div>\n",
              "  </div>\n",
              "  "
            ]
          },
          "metadata": {},
          "execution_count": 5
        }
      ],
      "source": [
        "data1.head(1)"
      ]
    },
    {
      "cell_type": "code",
      "execution_count": 6,
      "metadata": {
        "colab": {
          "base_uri": "https://localhost:8080/"
        },
        "id": "wQ32CbQmNuIZ",
        "outputId": "51e6d396-9c44-4e64-c021-c44fa714305a"
      },
      "outputs": [
        {
          "output_type": "execute_result",
          "data": {
            "text/plain": [
              "InvNr                                     2344\n",
              "InkDat                                   13883\n",
              "Skrotad                                      0\n",
              "flReplacementCost                        65477\n",
              "flPurchaseCost                            6997\n",
              "SkrotDatum                              129351\n",
              "ID                                           0\n",
              "PMLMaintenanceRequirementID             226918\n",
              "PMLMissionCriticalID                    226943\n",
              "PMLRiscID                               226946\n",
              "Benamn                                    2025\n",
              "Fabrikat                                  2099\n",
              "Modell                                    2150\n",
              "Handelsnamn                             224409\n",
              "intRisktal                                9497\n",
              "strRiscName                               9497\n",
              "intRiscSeverityLevel                      9497\n",
              "FUSenaste                               146508\n",
              "FUIntNasta                              178383\n",
              "PMLMaintenanceRequirementDescription    226918\n",
              "PMLMissionCriticalDescription           226943\n",
              "PMLRiscDescription                      226946\n",
              "dtype: int64"
            ]
          },
          "metadata": {},
          "execution_count": 6
        }
      ],
      "source": [
        "data1.isnull().sum()"
      ]
    },
    {
      "cell_type": "code",
      "execution_count": 7,
      "metadata": {
        "id": "-qG_yaMuWLhz"
      },
      "outputs": [],
      "source": [
        "fin=data1.drop(columns=['intRiscSeverityLevel','Skrotad','flReplacementCost','flPurchaseCost','PMLMaintenanceRequirementID','PMLMissionCriticalID','PMLRiscID','strRiscName','Handelsnamn','PMLMaintenanceRequirementDescription','PMLMissionCriticalDescription','PMLRiscDescription','FUSenaste','FUIntNasta'])"
      ]
    },
    {
      "cell_type": "code",
      "execution_count": 8,
      "metadata": {
        "colab": {
          "base_uri": "https://localhost:8080/",
          "height": 0
        },
        "id": "LwjY3N_zTLc5",
        "outputId": "4df6c070-a230-4a36-da11-97d06bb14baf"
      },
      "outputs": [
        {
          "output_type": "execute_result",
          "data": {
            "text/plain": [
              "     InvNr                   InkDat               SkrotDatum      ID  \\\n",
              "0  C951-01  2001-01-01 00:00:00.000                      NaN   68263   \n",
              "1  C951-02  2001-02-08 00:00:00.000  2018-12-19 00:00:00.000   68264   \n",
              "2   111444  2005-01-01 00:00:00.000                      NaN   86743   \n",
              "3  9013559  2008-01-01 00:00:00.000                      NaN  140398   \n",
              "\n",
              "                 Benamn Fabrikat     Modell  intRisktal  \n",
              "0              Endoskop     Wolf  Wolf 5512        20.0  \n",
              "1              Endoskop     Wolf  Wolf 5512        31.0  \n",
              "2              Endoskop     Wolf  Wolf 5512        20.0  \n",
              "3  Ljuskälla f endoskop     Wolf       4015        13.0  "
            ],
            "text/html": [
              "\n",
              "  <div id=\"df-4a5b0e62-558e-4cb8-97e6-771559142cfe\">\n",
              "    <div class=\"colab-df-container\">\n",
              "      <div>\n",
              "<style scoped>\n",
              "    .dataframe tbody tr th:only-of-type {\n",
              "        vertical-align: middle;\n",
              "    }\n",
              "\n",
              "    .dataframe tbody tr th {\n",
              "        vertical-align: top;\n",
              "    }\n",
              "\n",
              "    .dataframe thead th {\n",
              "        text-align: right;\n",
              "    }\n",
              "</style>\n",
              "<table border=\"1\" class=\"dataframe\">\n",
              "  <thead>\n",
              "    <tr style=\"text-align: right;\">\n",
              "      <th></th>\n",
              "      <th>InvNr</th>\n",
              "      <th>InkDat</th>\n",
              "      <th>SkrotDatum</th>\n",
              "      <th>ID</th>\n",
              "      <th>Benamn</th>\n",
              "      <th>Fabrikat</th>\n",
              "      <th>Modell</th>\n",
              "      <th>intRisktal</th>\n",
              "    </tr>\n",
              "  </thead>\n",
              "  <tbody>\n",
              "    <tr>\n",
              "      <th>0</th>\n",
              "      <td>C951-01</td>\n",
              "      <td>2001-01-01 00:00:00.000</td>\n",
              "      <td>NaN</td>\n",
              "      <td>68263</td>\n",
              "      <td>Endoskop</td>\n",
              "      <td>Wolf</td>\n",
              "      <td>Wolf 5512</td>\n",
              "      <td>20.0</td>\n",
              "    </tr>\n",
              "    <tr>\n",
              "      <th>1</th>\n",
              "      <td>C951-02</td>\n",
              "      <td>2001-02-08 00:00:00.000</td>\n",
              "      <td>2018-12-19 00:00:00.000</td>\n",
              "      <td>68264</td>\n",
              "      <td>Endoskop</td>\n",
              "      <td>Wolf</td>\n",
              "      <td>Wolf 5512</td>\n",
              "      <td>31.0</td>\n",
              "    </tr>\n",
              "    <tr>\n",
              "      <th>2</th>\n",
              "      <td>111444</td>\n",
              "      <td>2005-01-01 00:00:00.000</td>\n",
              "      <td>NaN</td>\n",
              "      <td>86743</td>\n",
              "      <td>Endoskop</td>\n",
              "      <td>Wolf</td>\n",
              "      <td>Wolf 5512</td>\n",
              "      <td>20.0</td>\n",
              "    </tr>\n",
              "    <tr>\n",
              "      <th>3</th>\n",
              "      <td>9013559</td>\n",
              "      <td>2008-01-01 00:00:00.000</td>\n",
              "      <td>NaN</td>\n",
              "      <td>140398</td>\n",
              "      <td>Ljuskälla f endoskop</td>\n",
              "      <td>Wolf</td>\n",
              "      <td>4015</td>\n",
              "      <td>13.0</td>\n",
              "    </tr>\n",
              "  </tbody>\n",
              "</table>\n",
              "</div>\n",
              "      <button class=\"colab-df-convert\" onclick=\"convertToInteractive('df-4a5b0e62-558e-4cb8-97e6-771559142cfe')\"\n",
              "              title=\"Convert this dataframe to an interactive table.\"\n",
              "              style=\"display:none;\">\n",
              "        \n",
              "  <svg xmlns=\"http://www.w3.org/2000/svg\" height=\"24px\"viewBox=\"0 0 24 24\"\n",
              "       width=\"24px\">\n",
              "    <path d=\"M0 0h24v24H0V0z\" fill=\"none\"/>\n",
              "    <path d=\"M18.56 5.44l.94 2.06.94-2.06 2.06-.94-2.06-.94-.94-2.06-.94 2.06-2.06.94zm-11 1L8.5 8.5l.94-2.06 2.06-.94-2.06-.94L8.5 2.5l-.94 2.06-2.06.94zm10 10l.94 2.06.94-2.06 2.06-.94-2.06-.94-.94-2.06-.94 2.06-2.06.94z\"/><path d=\"M17.41 7.96l-1.37-1.37c-.4-.4-.92-.59-1.43-.59-.52 0-1.04.2-1.43.59L10.3 9.45l-7.72 7.72c-.78.78-.78 2.05 0 2.83L4 21.41c.39.39.9.59 1.41.59.51 0 1.02-.2 1.41-.59l7.78-7.78 2.81-2.81c.8-.78.8-2.07 0-2.86zM5.41 20L4 18.59l7.72-7.72 1.47 1.35L5.41 20z\"/>\n",
              "  </svg>\n",
              "      </button>\n",
              "      \n",
              "  <style>\n",
              "    .colab-df-container {\n",
              "      display:flex;\n",
              "      flex-wrap:wrap;\n",
              "      gap: 12px;\n",
              "    }\n",
              "\n",
              "    .colab-df-convert {\n",
              "      background-color: #E8F0FE;\n",
              "      border: none;\n",
              "      border-radius: 50%;\n",
              "      cursor: pointer;\n",
              "      display: none;\n",
              "      fill: #1967D2;\n",
              "      height: 32px;\n",
              "      padding: 0 0 0 0;\n",
              "      width: 32px;\n",
              "    }\n",
              "\n",
              "    .colab-df-convert:hover {\n",
              "      background-color: #E2EBFA;\n",
              "      box-shadow: 0px 1px 2px rgba(60, 64, 67, 0.3), 0px 1px 3px 1px rgba(60, 64, 67, 0.15);\n",
              "      fill: #174EA6;\n",
              "    }\n",
              "\n",
              "    [theme=dark] .colab-df-convert {\n",
              "      background-color: #3B4455;\n",
              "      fill: #D2E3FC;\n",
              "    }\n",
              "\n",
              "    [theme=dark] .colab-df-convert:hover {\n",
              "      background-color: #434B5C;\n",
              "      box-shadow: 0px 1px 3px 1px rgba(0, 0, 0, 0.15);\n",
              "      filter: drop-shadow(0px 1px 2px rgba(0, 0, 0, 0.3));\n",
              "      fill: #FFFFFF;\n",
              "    }\n",
              "  </style>\n",
              "\n",
              "      <script>\n",
              "        const buttonEl =\n",
              "          document.querySelector('#df-4a5b0e62-558e-4cb8-97e6-771559142cfe button.colab-df-convert');\n",
              "        buttonEl.style.display =\n",
              "          google.colab.kernel.accessAllowed ? 'block' : 'none';\n",
              "\n",
              "        async function convertToInteractive(key) {\n",
              "          const element = document.querySelector('#df-4a5b0e62-558e-4cb8-97e6-771559142cfe');\n",
              "          const dataTable =\n",
              "            await google.colab.kernel.invokeFunction('convertToInteractive',\n",
              "                                                     [key], {});\n",
              "          if (!dataTable) return;\n",
              "\n",
              "          const docLinkHtml = 'Like what you see? Visit the ' +\n",
              "            '<a target=\"_blank\" href=https://colab.research.google.com/notebooks/data_table.ipynb>data table notebook</a>'\n",
              "            + ' to learn more about interactive tables.';\n",
              "          element.innerHTML = '';\n",
              "          dataTable['output_type'] = 'display_data';\n",
              "          await google.colab.output.renderOutput(dataTable, element);\n",
              "          const docLink = document.createElement('div');\n",
              "          docLink.innerHTML = docLinkHtml;\n",
              "          element.appendChild(docLink);\n",
              "        }\n",
              "      </script>\n",
              "    </div>\n",
              "  </div>\n",
              "  "
            ]
          },
          "metadata": {},
          "execution_count": 8
        }
      ],
      "source": [
        "fin.head(4)"
      ]
    },
    {
      "cell_type": "code",
      "execution_count": 9,
      "metadata": {
        "id": "K0kmEYAFhH12"
      },
      "outputs": [],
      "source": [
        "dict = {'FUSenaste': 'prevPm',\n",
        "        'FUIntNasta': 'nexPm',\n",
        "        'InkDat':'Equip.reg_date',\n",
        "        'SkrotDatum':'Scrapped_date',\n",
        "        'Benamn':'dev',\n",
        "      'Fabrikat':'Brand',\n",
        "        'Modell':'Model',\n",
        "        'intRisktal':'calc.Risk'}"
      ]
    },
    {
      "cell_type": "code",
      "execution_count": 10,
      "metadata": {
        "id": "NezTyHSZhomT"
      },
      "outputs": [],
      "source": [
        "fin.rename(columns=dict,inplace=True)"
      ]
    },
    {
      "cell_type": "code",
      "execution_count": 11,
      "metadata": {
        "colab": {
          "base_uri": "https://localhost:8080/"
        },
        "id": "qvxywb1sU4gR",
        "outputId": "46cb4c4a-4d48-469d-f5ef-9d548033fdc9"
      },
      "outputs": [
        {
          "output_type": "execute_result",
          "data": {
            "text/plain": [
              "227003"
            ]
          },
          "metadata": {},
          "execution_count": 11
        }
      ],
      "source": [
        "len(fin)"
      ]
    },
    {
      "cell_type": "markdown",
      "metadata": {
        "id": "3_3yXoQXYWQO"
      },
      "source": [
        "**substitute scrapped null values with data collection**"
      ]
    },
    {
      "cell_type": "code",
      "execution_count": 12,
      "metadata": {
        "colab": {
          "base_uri": "https://localhost:8080/"
        },
        "id": "L57Jsju-fHuq",
        "outputId": "538b485d-239c-465b-8fa2-af297348efc3"
      },
      "outputs": [
        {
          "output_type": "execute_result",
          "data": {
            "text/plain": [
              "InvNr               2344\n",
              "Equip.reg_date     13883\n",
              "Scrapped_date     129351\n",
              "ID                     0\n",
              "dev                 2025\n",
              "Brand               2099\n",
              "Model               2150\n",
              "calc.Risk           9497\n",
              "dtype: int64"
            ]
          },
          "metadata": {},
          "execution_count": 12
        }
      ],
      "source": [
        "fin.isnull().sum()"
      ]
    },
    {
      "cell_type": "code",
      "execution_count": 13,
      "metadata": {
        "id": "nGmDmhoWTwnl"
      },
      "outputs": [],
      "source": [
        "dict1 = {'InkDat': 'Equip.reg_date',\n",
        "        'SkrotDatum': 'Scrapped_date',\n",
        "        'Benamn':'dev',\n",
        "        'Fabrikat':'Brand',\n",
        "        'Modell':'Model',\n",
        "        'intRisktal':'cal.Risk'}"
      ]
    },
    {
      "cell_type": "code",
      "execution_count": 14,
      "metadata": {
        "colab": {
          "base_uri": "https://localhost:8080/",
          "height": 0
        },
        "id": "oY_aSLOP6VV0",
        "outputId": "cc2eae13-c650-488e-e9a5-a784a4266797"
      },
      "outputs": [
        {
          "output_type": "execute_result",
          "data": {
            "text/plain": [
              "     InvNr           Equip.reg_date            Scrapped_date     ID       dev  \\\n",
              "0  C951-01  2001-01-01 00:00:00.000                      NaN  68263  Endoskop   \n",
              "1  C951-02  2001-02-08 00:00:00.000  2018-12-19 00:00:00.000  68264  Endoskop   \n",
              "2   111444  2005-01-01 00:00:00.000                      NaN  86743  Endoskop   \n",
              "\n",
              "  Brand      Model  calc.Risk  \n",
              "0  Wolf  Wolf 5512       20.0  \n",
              "1  Wolf  Wolf 5512       31.0  \n",
              "2  Wolf  Wolf 5512       20.0  "
            ],
            "text/html": [
              "\n",
              "  <div id=\"df-8ea99d95-5566-4c56-9521-85c059a75510\">\n",
              "    <div class=\"colab-df-container\">\n",
              "      <div>\n",
              "<style scoped>\n",
              "    .dataframe tbody tr th:only-of-type {\n",
              "        vertical-align: middle;\n",
              "    }\n",
              "\n",
              "    .dataframe tbody tr th {\n",
              "        vertical-align: top;\n",
              "    }\n",
              "\n",
              "    .dataframe thead th {\n",
              "        text-align: right;\n",
              "    }\n",
              "</style>\n",
              "<table border=\"1\" class=\"dataframe\">\n",
              "  <thead>\n",
              "    <tr style=\"text-align: right;\">\n",
              "      <th></th>\n",
              "      <th>InvNr</th>\n",
              "      <th>Equip.reg_date</th>\n",
              "      <th>Scrapped_date</th>\n",
              "      <th>ID</th>\n",
              "      <th>dev</th>\n",
              "      <th>Brand</th>\n",
              "      <th>Model</th>\n",
              "      <th>calc.Risk</th>\n",
              "    </tr>\n",
              "  </thead>\n",
              "  <tbody>\n",
              "    <tr>\n",
              "      <th>0</th>\n",
              "      <td>C951-01</td>\n",
              "      <td>2001-01-01 00:00:00.000</td>\n",
              "      <td>NaN</td>\n",
              "      <td>68263</td>\n",
              "      <td>Endoskop</td>\n",
              "      <td>Wolf</td>\n",
              "      <td>Wolf 5512</td>\n",
              "      <td>20.0</td>\n",
              "    </tr>\n",
              "    <tr>\n",
              "      <th>1</th>\n",
              "      <td>C951-02</td>\n",
              "      <td>2001-02-08 00:00:00.000</td>\n",
              "      <td>2018-12-19 00:00:00.000</td>\n",
              "      <td>68264</td>\n",
              "      <td>Endoskop</td>\n",
              "      <td>Wolf</td>\n",
              "      <td>Wolf 5512</td>\n",
              "      <td>31.0</td>\n",
              "    </tr>\n",
              "    <tr>\n",
              "      <th>2</th>\n",
              "      <td>111444</td>\n",
              "      <td>2005-01-01 00:00:00.000</td>\n",
              "      <td>NaN</td>\n",
              "      <td>86743</td>\n",
              "      <td>Endoskop</td>\n",
              "      <td>Wolf</td>\n",
              "      <td>Wolf 5512</td>\n",
              "      <td>20.0</td>\n",
              "    </tr>\n",
              "  </tbody>\n",
              "</table>\n",
              "</div>\n",
              "      <button class=\"colab-df-convert\" onclick=\"convertToInteractive('df-8ea99d95-5566-4c56-9521-85c059a75510')\"\n",
              "              title=\"Convert this dataframe to an interactive table.\"\n",
              "              style=\"display:none;\">\n",
              "        \n",
              "  <svg xmlns=\"http://www.w3.org/2000/svg\" height=\"24px\"viewBox=\"0 0 24 24\"\n",
              "       width=\"24px\">\n",
              "    <path d=\"M0 0h24v24H0V0z\" fill=\"none\"/>\n",
              "    <path d=\"M18.56 5.44l.94 2.06.94-2.06 2.06-.94-2.06-.94-.94-2.06-.94 2.06-2.06.94zm-11 1L8.5 8.5l.94-2.06 2.06-.94-2.06-.94L8.5 2.5l-.94 2.06-2.06.94zm10 10l.94 2.06.94-2.06 2.06-.94-2.06-.94-.94-2.06-.94 2.06-2.06.94z\"/><path d=\"M17.41 7.96l-1.37-1.37c-.4-.4-.92-.59-1.43-.59-.52 0-1.04.2-1.43.59L10.3 9.45l-7.72 7.72c-.78.78-.78 2.05 0 2.83L4 21.41c.39.39.9.59 1.41.59.51 0 1.02-.2 1.41-.59l7.78-7.78 2.81-2.81c.8-.78.8-2.07 0-2.86zM5.41 20L4 18.59l7.72-7.72 1.47 1.35L5.41 20z\"/>\n",
              "  </svg>\n",
              "      </button>\n",
              "      \n",
              "  <style>\n",
              "    .colab-df-container {\n",
              "      display:flex;\n",
              "      flex-wrap:wrap;\n",
              "      gap: 12px;\n",
              "    }\n",
              "\n",
              "    .colab-df-convert {\n",
              "      background-color: #E8F0FE;\n",
              "      border: none;\n",
              "      border-radius: 50%;\n",
              "      cursor: pointer;\n",
              "      display: none;\n",
              "      fill: #1967D2;\n",
              "      height: 32px;\n",
              "      padding: 0 0 0 0;\n",
              "      width: 32px;\n",
              "    }\n",
              "\n",
              "    .colab-df-convert:hover {\n",
              "      background-color: #E2EBFA;\n",
              "      box-shadow: 0px 1px 2px rgba(60, 64, 67, 0.3), 0px 1px 3px 1px rgba(60, 64, 67, 0.15);\n",
              "      fill: #174EA6;\n",
              "    }\n",
              "\n",
              "    [theme=dark] .colab-df-convert {\n",
              "      background-color: #3B4455;\n",
              "      fill: #D2E3FC;\n",
              "    }\n",
              "\n",
              "    [theme=dark] .colab-df-convert:hover {\n",
              "      background-color: #434B5C;\n",
              "      box-shadow: 0px 1px 3px 1px rgba(0, 0, 0, 0.15);\n",
              "      filter: drop-shadow(0px 1px 2px rgba(0, 0, 0, 0.3));\n",
              "      fill: #FFFFFF;\n",
              "    }\n",
              "  </style>\n",
              "\n",
              "      <script>\n",
              "        const buttonEl =\n",
              "          document.querySelector('#df-8ea99d95-5566-4c56-9521-85c059a75510 button.colab-df-convert');\n",
              "        buttonEl.style.display =\n",
              "          google.colab.kernel.accessAllowed ? 'block' : 'none';\n",
              "\n",
              "        async function convertToInteractive(key) {\n",
              "          const element = document.querySelector('#df-8ea99d95-5566-4c56-9521-85c059a75510');\n",
              "          const dataTable =\n",
              "            await google.colab.kernel.invokeFunction('convertToInteractive',\n",
              "                                                     [key], {});\n",
              "          if (!dataTable) return;\n",
              "\n",
              "          const docLinkHtml = 'Like what you see? Visit the ' +\n",
              "            '<a target=\"_blank\" href=https://colab.research.google.com/notebooks/data_table.ipynb>data table notebook</a>'\n",
              "            + ' to learn more about interactive tables.';\n",
              "          element.innerHTML = '';\n",
              "          dataTable['output_type'] = 'display_data';\n",
              "          await google.colab.output.renderOutput(dataTable, element);\n",
              "          const docLink = document.createElement('div');\n",
              "          docLink.innerHTML = docLinkHtml;\n",
              "          element.appendChild(docLink);\n",
              "        }\n",
              "      </script>\n",
              "    </div>\n",
              "  </div>\n",
              "  "
            ]
          },
          "metadata": {},
          "execution_count": 14
        }
      ],
      "source": [
        "fin.head(3)"
      ]
    },
    {
      "cell_type": "code",
      "execution_count": 15,
      "metadata": {
        "id": "upiAi31Tb6Vd"
      },
      "outputs": [],
      "source": [
        "fin.dropna(inplace=True)"
      ]
    },
    {
      "cell_type": "code",
      "execution_count": 16,
      "metadata": {
        "colab": {
          "base_uri": "https://localhost:8080/"
        },
        "id": "2vI5vS2W3q4v",
        "outputId": "3367032f-0145-4301-9fbe-696be00d781a"
      },
      "outputs": [
        {
          "output_type": "execute_result",
          "data": {
            "text/plain": [
              "(83584, 8)"
            ]
          },
          "metadata": {},
          "execution_count": 16
        }
      ],
      "source": [
        "fin.shape"
      ]
    },
    {
      "cell_type": "code",
      "execution_count": 17,
      "metadata": {
        "id": "3UIEhF6ZQMA4"
      },
      "outputs": [],
      "source": [
        "fin.set_index('ID',inplace=True,drop=False)"
      ]
    },
    {
      "cell_type": "code",
      "execution_count": 18,
      "metadata": {
        "colab": {
          "base_uri": "https://localhost:8080/",
          "height": 0
        },
        "id": "Vmo2ndIrQXES",
        "outputId": "810a0a55-2e6d-45bf-db45-2c68605e1c8d"
      },
      "outputs": [
        {
          "output_type": "execute_result",
          "data": {
            "text/plain": [
              "          InvNr           Equip.reg_date            Scrapped_date      ID  \\\n",
              "ID                                                                          \n",
              "68264   C951-02  2001-02-08 00:00:00.000  2018-12-19 00:00:00.000   68264   \n",
              "112347     P384  1981-01-01 00:00:00.000  2012-07-19 00:00:00.000  112347   \n",
              "88325     C0297  1985-01-01 00:00:00.000  2015-12-16 00:00:00.000   88325   \n",
              "\n",
              "                         dev Brand      Model  calc.Risk  \n",
              "ID                                                        \n",
              "68264               Endoskop  Wolf  Wolf 5512       31.0  \n",
              "112347  Ljuskälla f endoskop  Wolf       4015       31.0  \n",
              "88325   Ljuskälla f endoskop  Wolf       4015       31.0  "
            ],
            "text/html": [
              "\n",
              "  <div id=\"df-63ff67fb-11fa-4079-a81d-751fc9829e1d\">\n",
              "    <div class=\"colab-df-container\">\n",
              "      <div>\n",
              "<style scoped>\n",
              "    .dataframe tbody tr th:only-of-type {\n",
              "        vertical-align: middle;\n",
              "    }\n",
              "\n",
              "    .dataframe tbody tr th {\n",
              "        vertical-align: top;\n",
              "    }\n",
              "\n",
              "    .dataframe thead th {\n",
              "        text-align: right;\n",
              "    }\n",
              "</style>\n",
              "<table border=\"1\" class=\"dataframe\">\n",
              "  <thead>\n",
              "    <tr style=\"text-align: right;\">\n",
              "      <th></th>\n",
              "      <th>InvNr</th>\n",
              "      <th>Equip.reg_date</th>\n",
              "      <th>Scrapped_date</th>\n",
              "      <th>ID</th>\n",
              "      <th>dev</th>\n",
              "      <th>Brand</th>\n",
              "      <th>Model</th>\n",
              "      <th>calc.Risk</th>\n",
              "    </tr>\n",
              "    <tr>\n",
              "      <th>ID</th>\n",
              "      <th></th>\n",
              "      <th></th>\n",
              "      <th></th>\n",
              "      <th></th>\n",
              "      <th></th>\n",
              "      <th></th>\n",
              "      <th></th>\n",
              "      <th></th>\n",
              "    </tr>\n",
              "  </thead>\n",
              "  <tbody>\n",
              "    <tr>\n",
              "      <th>68264</th>\n",
              "      <td>C951-02</td>\n",
              "      <td>2001-02-08 00:00:00.000</td>\n",
              "      <td>2018-12-19 00:00:00.000</td>\n",
              "      <td>68264</td>\n",
              "      <td>Endoskop</td>\n",
              "      <td>Wolf</td>\n",
              "      <td>Wolf 5512</td>\n",
              "      <td>31.0</td>\n",
              "    </tr>\n",
              "    <tr>\n",
              "      <th>112347</th>\n",
              "      <td>P384</td>\n",
              "      <td>1981-01-01 00:00:00.000</td>\n",
              "      <td>2012-07-19 00:00:00.000</td>\n",
              "      <td>112347</td>\n",
              "      <td>Ljuskälla f endoskop</td>\n",
              "      <td>Wolf</td>\n",
              "      <td>4015</td>\n",
              "      <td>31.0</td>\n",
              "    </tr>\n",
              "    <tr>\n",
              "      <th>88325</th>\n",
              "      <td>C0297</td>\n",
              "      <td>1985-01-01 00:00:00.000</td>\n",
              "      <td>2015-12-16 00:00:00.000</td>\n",
              "      <td>88325</td>\n",
              "      <td>Ljuskälla f endoskop</td>\n",
              "      <td>Wolf</td>\n",
              "      <td>4015</td>\n",
              "      <td>31.0</td>\n",
              "    </tr>\n",
              "  </tbody>\n",
              "</table>\n",
              "</div>\n",
              "      <button class=\"colab-df-convert\" onclick=\"convertToInteractive('df-63ff67fb-11fa-4079-a81d-751fc9829e1d')\"\n",
              "              title=\"Convert this dataframe to an interactive table.\"\n",
              "              style=\"display:none;\">\n",
              "        \n",
              "  <svg xmlns=\"http://www.w3.org/2000/svg\" height=\"24px\"viewBox=\"0 0 24 24\"\n",
              "       width=\"24px\">\n",
              "    <path d=\"M0 0h24v24H0V0z\" fill=\"none\"/>\n",
              "    <path d=\"M18.56 5.44l.94 2.06.94-2.06 2.06-.94-2.06-.94-.94-2.06-.94 2.06-2.06.94zm-11 1L8.5 8.5l.94-2.06 2.06-.94-2.06-.94L8.5 2.5l-.94 2.06-2.06.94zm10 10l.94 2.06.94-2.06 2.06-.94-2.06-.94-.94-2.06-.94 2.06-2.06.94z\"/><path d=\"M17.41 7.96l-1.37-1.37c-.4-.4-.92-.59-1.43-.59-.52 0-1.04.2-1.43.59L10.3 9.45l-7.72 7.72c-.78.78-.78 2.05 0 2.83L4 21.41c.39.39.9.59 1.41.59.51 0 1.02-.2 1.41-.59l7.78-7.78 2.81-2.81c.8-.78.8-2.07 0-2.86zM5.41 20L4 18.59l7.72-7.72 1.47 1.35L5.41 20z\"/>\n",
              "  </svg>\n",
              "      </button>\n",
              "      \n",
              "  <style>\n",
              "    .colab-df-container {\n",
              "      display:flex;\n",
              "      flex-wrap:wrap;\n",
              "      gap: 12px;\n",
              "    }\n",
              "\n",
              "    .colab-df-convert {\n",
              "      background-color: #E8F0FE;\n",
              "      border: none;\n",
              "      border-radius: 50%;\n",
              "      cursor: pointer;\n",
              "      display: none;\n",
              "      fill: #1967D2;\n",
              "      height: 32px;\n",
              "      padding: 0 0 0 0;\n",
              "      width: 32px;\n",
              "    }\n",
              "\n",
              "    .colab-df-convert:hover {\n",
              "      background-color: #E2EBFA;\n",
              "      box-shadow: 0px 1px 2px rgba(60, 64, 67, 0.3), 0px 1px 3px 1px rgba(60, 64, 67, 0.15);\n",
              "      fill: #174EA6;\n",
              "    }\n",
              "\n",
              "    [theme=dark] .colab-df-convert {\n",
              "      background-color: #3B4455;\n",
              "      fill: #D2E3FC;\n",
              "    }\n",
              "\n",
              "    [theme=dark] .colab-df-convert:hover {\n",
              "      background-color: #434B5C;\n",
              "      box-shadow: 0px 1px 3px 1px rgba(0, 0, 0, 0.15);\n",
              "      filter: drop-shadow(0px 1px 2px rgba(0, 0, 0, 0.3));\n",
              "      fill: #FFFFFF;\n",
              "    }\n",
              "  </style>\n",
              "\n",
              "      <script>\n",
              "        const buttonEl =\n",
              "          document.querySelector('#df-63ff67fb-11fa-4079-a81d-751fc9829e1d button.colab-df-convert');\n",
              "        buttonEl.style.display =\n",
              "          google.colab.kernel.accessAllowed ? 'block' : 'none';\n",
              "\n",
              "        async function convertToInteractive(key) {\n",
              "          const element = document.querySelector('#df-63ff67fb-11fa-4079-a81d-751fc9829e1d');\n",
              "          const dataTable =\n",
              "            await google.colab.kernel.invokeFunction('convertToInteractive',\n",
              "                                                     [key], {});\n",
              "          if (!dataTable) return;\n",
              "\n",
              "          const docLinkHtml = 'Like what you see? Visit the ' +\n",
              "            '<a target=\"_blank\" href=https://colab.research.google.com/notebooks/data_table.ipynb>data table notebook</a>'\n",
              "            + ' to learn more about interactive tables.';\n",
              "          element.innerHTML = '';\n",
              "          dataTable['output_type'] = 'display_data';\n",
              "          await google.colab.output.renderOutput(dataTable, element);\n",
              "          const docLink = document.createElement('div');\n",
              "          docLink.innerHTML = docLinkHtml;\n",
              "          element.appendChild(docLink);\n",
              "        }\n",
              "      </script>\n",
              "    </div>\n",
              "  </div>\n",
              "  "
            ]
          },
          "metadata": {},
          "execution_count": 18
        }
      ],
      "source": [
        "fin.head(3)"
      ]
    },
    {
      "cell_type": "markdown",
      "metadata": {
        "id": "HxQj_jDxy_7T"
      },
      "source": [
        "# ***pm***"
      ]
    },
    {
      "cell_type": "code",
      "execution_count": 19,
      "metadata": {
        "id": "KF4GJYRKzIau"
      },
      "outputs": [],
      "source": [
        "df3=(r\"/content/drive/MyDrive/Thesis_datasets/New-data-SoftPro/Hospitals1/pm.csv\")"
      ]
    },
    {
      "cell_type": "code",
      "execution_count": 20,
      "metadata": {
        "id": "n1CP2xfpzkV-"
      },
      "outputs": [],
      "source": [
        "fin3=read_csv(df3,sep=';')"
      ]
    },
    {
      "cell_type": "code",
      "execution_count": 21,
      "metadata": {
        "colab": {
          "base_uri": "https://localhost:8080/",
          "height": 0
        },
        "id": "RSwQ4C2Tz-wh",
        "outputId": "ec6e30db-ee65-49ce-bdf9-e06a8fc2a3ad"
      },
      "outputs": [
        {
          "output_type": "execute_result",
          "data": {
            "text/plain": [
              "      Id  EquipmentId                   NextPM                   LastPM  \\\n",
              "0   7838      17635.0  2007-01-01 00:00:00.000  2006-01-12 00:00:00.000   \n",
              "1  27837      65129.0  2003-06-15 00:00:00.000  2001-06-15 00:00:00.000   \n",
              "2  27838      65130.0  2007-07-01 00:00:00.000  2005-07-25 00:00:00.000   \n",
              "\n",
              "     Interval  IsRecurring  \n",
              "0  12 Månader            1  \n",
              "1  24 Månader            1  \n",
              "2  24 Månader            1  "
            ],
            "text/html": [
              "\n",
              "  <div id=\"df-4bdcc4da-5369-4234-a4cd-4782245e3a42\">\n",
              "    <div class=\"colab-df-container\">\n",
              "      <div>\n",
              "<style scoped>\n",
              "    .dataframe tbody tr th:only-of-type {\n",
              "        vertical-align: middle;\n",
              "    }\n",
              "\n",
              "    .dataframe tbody tr th {\n",
              "        vertical-align: top;\n",
              "    }\n",
              "\n",
              "    .dataframe thead th {\n",
              "        text-align: right;\n",
              "    }\n",
              "</style>\n",
              "<table border=\"1\" class=\"dataframe\">\n",
              "  <thead>\n",
              "    <tr style=\"text-align: right;\">\n",
              "      <th></th>\n",
              "      <th>Id</th>\n",
              "      <th>EquipmentId</th>\n",
              "      <th>NextPM</th>\n",
              "      <th>LastPM</th>\n",
              "      <th>Interval</th>\n",
              "      <th>IsRecurring</th>\n",
              "    </tr>\n",
              "  </thead>\n",
              "  <tbody>\n",
              "    <tr>\n",
              "      <th>0</th>\n",
              "      <td>7838</td>\n",
              "      <td>17635.0</td>\n",
              "      <td>2007-01-01 00:00:00.000</td>\n",
              "      <td>2006-01-12 00:00:00.000</td>\n",
              "      <td>12 Månader</td>\n",
              "      <td>1</td>\n",
              "    </tr>\n",
              "    <tr>\n",
              "      <th>1</th>\n",
              "      <td>27837</td>\n",
              "      <td>65129.0</td>\n",
              "      <td>2003-06-15 00:00:00.000</td>\n",
              "      <td>2001-06-15 00:00:00.000</td>\n",
              "      <td>24 Månader</td>\n",
              "      <td>1</td>\n",
              "    </tr>\n",
              "    <tr>\n",
              "      <th>2</th>\n",
              "      <td>27838</td>\n",
              "      <td>65130.0</td>\n",
              "      <td>2007-07-01 00:00:00.000</td>\n",
              "      <td>2005-07-25 00:00:00.000</td>\n",
              "      <td>24 Månader</td>\n",
              "      <td>1</td>\n",
              "    </tr>\n",
              "  </tbody>\n",
              "</table>\n",
              "</div>\n",
              "      <button class=\"colab-df-convert\" onclick=\"convertToInteractive('df-4bdcc4da-5369-4234-a4cd-4782245e3a42')\"\n",
              "              title=\"Convert this dataframe to an interactive table.\"\n",
              "              style=\"display:none;\">\n",
              "        \n",
              "  <svg xmlns=\"http://www.w3.org/2000/svg\" height=\"24px\"viewBox=\"0 0 24 24\"\n",
              "       width=\"24px\">\n",
              "    <path d=\"M0 0h24v24H0V0z\" fill=\"none\"/>\n",
              "    <path d=\"M18.56 5.44l.94 2.06.94-2.06 2.06-.94-2.06-.94-.94-2.06-.94 2.06-2.06.94zm-11 1L8.5 8.5l.94-2.06 2.06-.94-2.06-.94L8.5 2.5l-.94 2.06-2.06.94zm10 10l.94 2.06.94-2.06 2.06-.94-2.06-.94-.94-2.06-.94 2.06-2.06.94z\"/><path d=\"M17.41 7.96l-1.37-1.37c-.4-.4-.92-.59-1.43-.59-.52 0-1.04.2-1.43.59L10.3 9.45l-7.72 7.72c-.78.78-.78 2.05 0 2.83L4 21.41c.39.39.9.59 1.41.59.51 0 1.02-.2 1.41-.59l7.78-7.78 2.81-2.81c.8-.78.8-2.07 0-2.86zM5.41 20L4 18.59l7.72-7.72 1.47 1.35L5.41 20z\"/>\n",
              "  </svg>\n",
              "      </button>\n",
              "      \n",
              "  <style>\n",
              "    .colab-df-container {\n",
              "      display:flex;\n",
              "      flex-wrap:wrap;\n",
              "      gap: 12px;\n",
              "    }\n",
              "\n",
              "    .colab-df-convert {\n",
              "      background-color: #E8F0FE;\n",
              "      border: none;\n",
              "      border-radius: 50%;\n",
              "      cursor: pointer;\n",
              "      display: none;\n",
              "      fill: #1967D2;\n",
              "      height: 32px;\n",
              "      padding: 0 0 0 0;\n",
              "      width: 32px;\n",
              "    }\n",
              "\n",
              "    .colab-df-convert:hover {\n",
              "      background-color: #E2EBFA;\n",
              "      box-shadow: 0px 1px 2px rgba(60, 64, 67, 0.3), 0px 1px 3px 1px rgba(60, 64, 67, 0.15);\n",
              "      fill: #174EA6;\n",
              "    }\n",
              "\n",
              "    [theme=dark] .colab-df-convert {\n",
              "      background-color: #3B4455;\n",
              "      fill: #D2E3FC;\n",
              "    }\n",
              "\n",
              "    [theme=dark] .colab-df-convert:hover {\n",
              "      background-color: #434B5C;\n",
              "      box-shadow: 0px 1px 3px 1px rgba(0, 0, 0, 0.15);\n",
              "      filter: drop-shadow(0px 1px 2px rgba(0, 0, 0, 0.3));\n",
              "      fill: #FFFFFF;\n",
              "    }\n",
              "  </style>\n",
              "\n",
              "      <script>\n",
              "        const buttonEl =\n",
              "          document.querySelector('#df-4bdcc4da-5369-4234-a4cd-4782245e3a42 button.colab-df-convert');\n",
              "        buttonEl.style.display =\n",
              "          google.colab.kernel.accessAllowed ? 'block' : 'none';\n",
              "\n",
              "        async function convertToInteractive(key) {\n",
              "          const element = document.querySelector('#df-4bdcc4da-5369-4234-a4cd-4782245e3a42');\n",
              "          const dataTable =\n",
              "            await google.colab.kernel.invokeFunction('convertToInteractive',\n",
              "                                                     [key], {});\n",
              "          if (!dataTable) return;\n",
              "\n",
              "          const docLinkHtml = 'Like what you see? Visit the ' +\n",
              "            '<a target=\"_blank\" href=https://colab.research.google.com/notebooks/data_table.ipynb>data table notebook</a>'\n",
              "            + ' to learn more about interactive tables.';\n",
              "          element.innerHTML = '';\n",
              "          dataTable['output_type'] = 'display_data';\n",
              "          await google.colab.output.renderOutput(dataTable, element);\n",
              "          const docLink = document.createElement('div');\n",
              "          docLink.innerHTML = docLinkHtml;\n",
              "          element.appendChild(docLink);\n",
              "        }\n",
              "      </script>\n",
              "    </div>\n",
              "  </div>\n",
              "  "
            ]
          },
          "metadata": {},
          "execution_count": 21
        }
      ],
      "source": [
        "fin3.head(3)"
      ]
    },
    {
      "cell_type": "code",
      "execution_count": 22,
      "metadata": {
        "colab": {
          "base_uri": "https://localhost:8080/"
        },
        "id": "bHt6JNpbeEyP",
        "outputId": "68bd365c-d814-4f55-c5ee-70e1839243da"
      },
      "outputs": [
        {
          "output_type": "execute_result",
          "data": {
            "text/plain": [
              "Id                 0\n",
              "EquipmentId     4081\n",
              "NextPM          4921\n",
              "LastPM         47521\n",
              "Interval       13329\n",
              "IsRecurring        0\n",
              "dtype: int64"
            ]
          },
          "metadata": {},
          "execution_count": 22
        }
      ],
      "source": [
        "fin3.isnull().sum()"
      ]
    },
    {
      "cell_type": "code",
      "execution_count": 23,
      "metadata": {
        "colab": {
          "base_uri": "https://localhost:8080/"
        },
        "id": "qhJ3D6deeTyR",
        "outputId": "3dd673b9-116d-4188-bbf4-547dacc01793"
      },
      "outputs": [
        {
          "output_type": "execute_result",
          "data": {
            "text/plain": [
              "117291"
            ]
          },
          "metadata": {},
          "execution_count": 23
        }
      ],
      "source": [
        "len(fin3)"
      ]
    },
    {
      "cell_type": "code",
      "execution_count": 24,
      "metadata": {
        "id": "8dGIKm60elwK"
      },
      "outputs": [],
      "source": [
        "fin3.dropna(inplace=True)"
      ]
    },
    {
      "cell_type": "code",
      "execution_count": 25,
      "metadata": {
        "colab": {
          "base_uri": "https://localhost:8080/"
        },
        "id": "flfUh3OverUX",
        "outputId": "36b1111d-7157-415f-a6b2-52fb12f79e1f"
      },
      "outputs": [
        {
          "output_type": "execute_result",
          "data": {
            "text/plain": [
              "68762"
            ]
          },
          "metadata": {},
          "execution_count": 25
        }
      ],
      "source": [
        "len(fin3)"
      ]
    },
    {
      "cell_type": "code",
      "execution_count": 26,
      "metadata": {
        "colab": {
          "base_uri": "https://localhost:8080/"
        },
        "id": "IE57B6TMezYN",
        "outputId": "a2388c03-aebd-416a-e778-6b59a891cc7c"
      },
      "outputs": [
        {
          "output_type": "execute_result",
          "data": {
            "text/plain": [
              "Id             0\n",
              "EquipmentId    0\n",
              "NextPM         0\n",
              "LastPM         0\n",
              "Interval       0\n",
              "IsRecurring    0\n",
              "dtype: int64"
            ]
          },
          "metadata": {},
          "execution_count": 26
        }
      ],
      "source": [
        "fin3.isnull().sum()"
      ]
    },
    {
      "cell_type": "code",
      "execution_count": 27,
      "metadata": {
        "colab": {
          "base_uri": "https://localhost:8080/"
        },
        "id": "Icd8oVnz76q_",
        "outputId": "ed2a0daa-2f66-4595-cc17-ac3ac4368760"
      },
      "outputs": [
        {
          "output_type": "execute_result",
          "data": {
            "text/plain": [
              "Id             68762\n",
              "EquipmentId    68762\n",
              "NextPM         68762\n",
              "LastPM         68762\n",
              "Interval       68762\n",
              "IsRecurring    68762\n",
              "dtype: int64"
            ]
          },
          "metadata": {},
          "execution_count": 27
        }
      ],
      "source": [
        "fin3.count()"
      ]
    },
    {
      "cell_type": "code",
      "execution_count": 28,
      "metadata": {
        "colab": {
          "base_uri": "https://localhost:8080/",
          "height": 0
        },
        "id": "KTzzEO136Xaf",
        "outputId": "e51a423f-1d04-45d5-84f8-b6231ed3ceee"
      },
      "outputs": [
        {
          "output_type": "execute_result",
          "data": {
            "text/plain": [
              "                 Id  EquipmentId                   NextPM  \\\n",
              "EquipmentId                                                 \n",
              "17635.0        7838      17635.0  2007-01-01 00:00:00.000   \n",
              "65129.0       27837      65129.0  2003-06-15 00:00:00.000   \n",
              "65130.0       27838      65130.0  2007-07-01 00:00:00.000   \n",
              "65131.0       27839      65131.0  2006-06-01 00:00:00.000   \n",
              "65132.0       27840      65132.0  2003-06-26 00:00:00.000   \n",
              "...             ...          ...                      ...   \n",
              "305222.0     253852     305222.0  2022-09-01 00:00:00.000   \n",
              "305223.0     253853     305223.0  2022-09-01 00:00:00.000   \n",
              "305224.0     253854     305224.0  2022-09-01 00:00:00.000   \n",
              "102939.0     253857     102939.0  2023-02-25 00:00:00.000   \n",
              "295928.0     253859     295928.0  2022-02-24 00:00:00.000   \n",
              "\n",
              "                              LastPM    Interval  IsRecurring  \n",
              "EquipmentId                                                    \n",
              "17635.0      2006-01-12 00:00:00.000  12 Månader            1  \n",
              "65129.0      2001-06-15 00:00:00.000  24 Månader            1  \n",
              "65130.0      2005-07-25 00:00:00.000  24 Månader            1  \n",
              "65131.0      2004-06-01 00:00:00.000  24 Månader            1  \n",
              "65132.0      2001-06-26 00:00:00.000  24 Månader            1  \n",
              "...                              ...         ...          ...  \n",
              "305222.0     2021-09-01 00:00:00.000  12 Månader            1  \n",
              "305223.0     2021-09-01 00:00:00.000  12 Månader            1  \n",
              "305224.0     2021-09-01 00:00:00.000  12 Månader            1  \n",
              "102939.0     2022-02-25 00:00:00.000  12 Månader            1  \n",
              "295928.0     2021-02-24 00:00:00.000  12 Månader            1  \n",
              "\n",
              "[68762 rows x 6 columns]"
            ],
            "text/html": [
              "\n",
              "  <div id=\"df-b0377672-973c-441d-86cc-63ace08b1b05\">\n",
              "    <div class=\"colab-df-container\">\n",
              "      <div>\n",
              "<style scoped>\n",
              "    .dataframe tbody tr th:only-of-type {\n",
              "        vertical-align: middle;\n",
              "    }\n",
              "\n",
              "    .dataframe tbody tr th {\n",
              "        vertical-align: top;\n",
              "    }\n",
              "\n",
              "    .dataframe thead th {\n",
              "        text-align: right;\n",
              "    }\n",
              "</style>\n",
              "<table border=\"1\" class=\"dataframe\">\n",
              "  <thead>\n",
              "    <tr style=\"text-align: right;\">\n",
              "      <th></th>\n",
              "      <th>Id</th>\n",
              "      <th>EquipmentId</th>\n",
              "      <th>NextPM</th>\n",
              "      <th>LastPM</th>\n",
              "      <th>Interval</th>\n",
              "      <th>IsRecurring</th>\n",
              "    </tr>\n",
              "    <tr>\n",
              "      <th>EquipmentId</th>\n",
              "      <th></th>\n",
              "      <th></th>\n",
              "      <th></th>\n",
              "      <th></th>\n",
              "      <th></th>\n",
              "      <th></th>\n",
              "    </tr>\n",
              "  </thead>\n",
              "  <tbody>\n",
              "    <tr>\n",
              "      <th>17635.0</th>\n",
              "      <td>7838</td>\n",
              "      <td>17635.0</td>\n",
              "      <td>2007-01-01 00:00:00.000</td>\n",
              "      <td>2006-01-12 00:00:00.000</td>\n",
              "      <td>12 Månader</td>\n",
              "      <td>1</td>\n",
              "    </tr>\n",
              "    <tr>\n",
              "      <th>65129.0</th>\n",
              "      <td>27837</td>\n",
              "      <td>65129.0</td>\n",
              "      <td>2003-06-15 00:00:00.000</td>\n",
              "      <td>2001-06-15 00:00:00.000</td>\n",
              "      <td>24 Månader</td>\n",
              "      <td>1</td>\n",
              "    </tr>\n",
              "    <tr>\n",
              "      <th>65130.0</th>\n",
              "      <td>27838</td>\n",
              "      <td>65130.0</td>\n",
              "      <td>2007-07-01 00:00:00.000</td>\n",
              "      <td>2005-07-25 00:00:00.000</td>\n",
              "      <td>24 Månader</td>\n",
              "      <td>1</td>\n",
              "    </tr>\n",
              "    <tr>\n",
              "      <th>65131.0</th>\n",
              "      <td>27839</td>\n",
              "      <td>65131.0</td>\n",
              "      <td>2006-06-01 00:00:00.000</td>\n",
              "      <td>2004-06-01 00:00:00.000</td>\n",
              "      <td>24 Månader</td>\n",
              "      <td>1</td>\n",
              "    </tr>\n",
              "    <tr>\n",
              "      <th>65132.0</th>\n",
              "      <td>27840</td>\n",
              "      <td>65132.0</td>\n",
              "      <td>2003-06-26 00:00:00.000</td>\n",
              "      <td>2001-06-26 00:00:00.000</td>\n",
              "      <td>24 Månader</td>\n",
              "      <td>1</td>\n",
              "    </tr>\n",
              "    <tr>\n",
              "      <th>...</th>\n",
              "      <td>...</td>\n",
              "      <td>...</td>\n",
              "      <td>...</td>\n",
              "      <td>...</td>\n",
              "      <td>...</td>\n",
              "      <td>...</td>\n",
              "    </tr>\n",
              "    <tr>\n",
              "      <th>305222.0</th>\n",
              "      <td>253852</td>\n",
              "      <td>305222.0</td>\n",
              "      <td>2022-09-01 00:00:00.000</td>\n",
              "      <td>2021-09-01 00:00:00.000</td>\n",
              "      <td>12 Månader</td>\n",
              "      <td>1</td>\n",
              "    </tr>\n",
              "    <tr>\n",
              "      <th>305223.0</th>\n",
              "      <td>253853</td>\n",
              "      <td>305223.0</td>\n",
              "      <td>2022-09-01 00:00:00.000</td>\n",
              "      <td>2021-09-01 00:00:00.000</td>\n",
              "      <td>12 Månader</td>\n",
              "      <td>1</td>\n",
              "    </tr>\n",
              "    <tr>\n",
              "      <th>305224.0</th>\n",
              "      <td>253854</td>\n",
              "      <td>305224.0</td>\n",
              "      <td>2022-09-01 00:00:00.000</td>\n",
              "      <td>2021-09-01 00:00:00.000</td>\n",
              "      <td>12 Månader</td>\n",
              "      <td>1</td>\n",
              "    </tr>\n",
              "    <tr>\n",
              "      <th>102939.0</th>\n",
              "      <td>253857</td>\n",
              "      <td>102939.0</td>\n",
              "      <td>2023-02-25 00:00:00.000</td>\n",
              "      <td>2022-02-25 00:00:00.000</td>\n",
              "      <td>12 Månader</td>\n",
              "      <td>1</td>\n",
              "    </tr>\n",
              "    <tr>\n",
              "      <th>295928.0</th>\n",
              "      <td>253859</td>\n",
              "      <td>295928.0</td>\n",
              "      <td>2022-02-24 00:00:00.000</td>\n",
              "      <td>2021-02-24 00:00:00.000</td>\n",
              "      <td>12 Månader</td>\n",
              "      <td>1</td>\n",
              "    </tr>\n",
              "  </tbody>\n",
              "</table>\n",
              "<p>68762 rows × 6 columns</p>\n",
              "</div>\n",
              "      <button class=\"colab-df-convert\" onclick=\"convertToInteractive('df-b0377672-973c-441d-86cc-63ace08b1b05')\"\n",
              "              title=\"Convert this dataframe to an interactive table.\"\n",
              "              style=\"display:none;\">\n",
              "        \n",
              "  <svg xmlns=\"http://www.w3.org/2000/svg\" height=\"24px\"viewBox=\"0 0 24 24\"\n",
              "       width=\"24px\">\n",
              "    <path d=\"M0 0h24v24H0V0z\" fill=\"none\"/>\n",
              "    <path d=\"M18.56 5.44l.94 2.06.94-2.06 2.06-.94-2.06-.94-.94-2.06-.94 2.06-2.06.94zm-11 1L8.5 8.5l.94-2.06 2.06-.94-2.06-.94L8.5 2.5l-.94 2.06-2.06.94zm10 10l.94 2.06.94-2.06 2.06-.94-2.06-.94-.94-2.06-.94 2.06-2.06.94z\"/><path d=\"M17.41 7.96l-1.37-1.37c-.4-.4-.92-.59-1.43-.59-.52 0-1.04.2-1.43.59L10.3 9.45l-7.72 7.72c-.78.78-.78 2.05 0 2.83L4 21.41c.39.39.9.59 1.41.59.51 0 1.02-.2 1.41-.59l7.78-7.78 2.81-2.81c.8-.78.8-2.07 0-2.86zM5.41 20L4 18.59l7.72-7.72 1.47 1.35L5.41 20z\"/>\n",
              "  </svg>\n",
              "      </button>\n",
              "      \n",
              "  <style>\n",
              "    .colab-df-container {\n",
              "      display:flex;\n",
              "      flex-wrap:wrap;\n",
              "      gap: 12px;\n",
              "    }\n",
              "\n",
              "    .colab-df-convert {\n",
              "      background-color: #E8F0FE;\n",
              "      border: none;\n",
              "      border-radius: 50%;\n",
              "      cursor: pointer;\n",
              "      display: none;\n",
              "      fill: #1967D2;\n",
              "      height: 32px;\n",
              "      padding: 0 0 0 0;\n",
              "      width: 32px;\n",
              "    }\n",
              "\n",
              "    .colab-df-convert:hover {\n",
              "      background-color: #E2EBFA;\n",
              "      box-shadow: 0px 1px 2px rgba(60, 64, 67, 0.3), 0px 1px 3px 1px rgba(60, 64, 67, 0.15);\n",
              "      fill: #174EA6;\n",
              "    }\n",
              "\n",
              "    [theme=dark] .colab-df-convert {\n",
              "      background-color: #3B4455;\n",
              "      fill: #D2E3FC;\n",
              "    }\n",
              "\n",
              "    [theme=dark] .colab-df-convert:hover {\n",
              "      background-color: #434B5C;\n",
              "      box-shadow: 0px 1px 3px 1px rgba(0, 0, 0, 0.15);\n",
              "      filter: drop-shadow(0px 1px 2px rgba(0, 0, 0, 0.3));\n",
              "      fill: #FFFFFF;\n",
              "    }\n",
              "  </style>\n",
              "\n",
              "      <script>\n",
              "        const buttonEl =\n",
              "          document.querySelector('#df-b0377672-973c-441d-86cc-63ace08b1b05 button.colab-df-convert');\n",
              "        buttonEl.style.display =\n",
              "          google.colab.kernel.accessAllowed ? 'block' : 'none';\n",
              "\n",
              "        async function convertToInteractive(key) {\n",
              "          const element = document.querySelector('#df-b0377672-973c-441d-86cc-63ace08b1b05');\n",
              "          const dataTable =\n",
              "            await google.colab.kernel.invokeFunction('convertToInteractive',\n",
              "                                                     [key], {});\n",
              "          if (!dataTable) return;\n",
              "\n",
              "          const docLinkHtml = 'Like what you see? Visit the ' +\n",
              "            '<a target=\"_blank\" href=https://colab.research.google.com/notebooks/data_table.ipynb>data table notebook</a>'\n",
              "            + ' to learn more about interactive tables.';\n",
              "          element.innerHTML = '';\n",
              "          dataTable['output_type'] = 'display_data';\n",
              "          await google.colab.output.renderOutput(dataTable, element);\n",
              "          const docLink = document.createElement('div');\n",
              "          docLink.innerHTML = docLinkHtml;\n",
              "          element.appendChild(docLink);\n",
              "        }\n",
              "      </script>\n",
              "    </div>\n",
              "  </div>\n",
              "  "
            ]
          },
          "metadata": {},
          "execution_count": 28
        }
      ],
      "source": [
        "fin3.set_index('EquipmentId',drop=False)"
      ]
    },
    {
      "cell_type": "markdown",
      "metadata": {
        "id": "vB6E0JkD6haT"
      },
      "source": [
        "# **pm data**"
      ]
    },
    {
      "cell_type": "code",
      "execution_count": 29,
      "metadata": {
        "id": "ppVPrvZF6mCR"
      },
      "outputs": [],
      "source": [
        "df2=(r\"/content/drive/MyDrive/Thesis_datasets/New-data-SoftPro/Hospitals1/pm_data.csv\")"
      ]
    },
    {
      "cell_type": "code",
      "execution_count": 30,
      "metadata": {
        "id": "vAmnGJWM69go"
      },
      "outputs": [],
      "source": [
        "fin1=read_csv(df2,sep=';',names=['invID','last_pm','first_pm','count_pm','meantime_pm'])"
      ]
    },
    {
      "cell_type": "code",
      "execution_count": 31,
      "metadata": {
        "colab": {
          "base_uri": "https://localhost:8080/"
        },
        "id": "_ataeb37PofY",
        "outputId": "e13d1ab9-04f7-46d2-d311-38e17efe9f5e"
      },
      "outputs": [
        {
          "output_type": "execute_result",
          "data": {
            "text/plain": [
              "80503"
            ]
          },
          "metadata": {},
          "execution_count": 31
        }
      ],
      "source": [
        "len(fin1)"
      ]
    },
    {
      "cell_type": "code",
      "execution_count": 32,
      "metadata": {
        "colab": {
          "base_uri": "https://localhost:8080/",
          "height": 0
        },
        "id": "xraeB_Xm7y3Y",
        "outputId": "e832150d-1a91-496d-cf66-273cb3cfff70"
      },
      "outputs": [
        {
          "output_type": "execute_result",
          "data": {
            "text/plain": [
              "    invID     last_pm    first_pm  count_pm  meantime_pm\n",
              "0  204282  2020-03-04  2009-03-31        11          362\n",
              "1  255222  2021-06-28  2018-03-20         4          299\n",
              "2  208527  2015-06-22  2015-06-22         1            0"
            ],
            "text/html": [
              "\n",
              "  <div id=\"df-0d24b4d3-cf4e-4246-892d-c2e41e7b5fe6\">\n",
              "    <div class=\"colab-df-container\">\n",
              "      <div>\n",
              "<style scoped>\n",
              "    .dataframe tbody tr th:only-of-type {\n",
              "        vertical-align: middle;\n",
              "    }\n",
              "\n",
              "    .dataframe tbody tr th {\n",
              "        vertical-align: top;\n",
              "    }\n",
              "\n",
              "    .dataframe thead th {\n",
              "        text-align: right;\n",
              "    }\n",
              "</style>\n",
              "<table border=\"1\" class=\"dataframe\">\n",
              "  <thead>\n",
              "    <tr style=\"text-align: right;\">\n",
              "      <th></th>\n",
              "      <th>invID</th>\n",
              "      <th>last_pm</th>\n",
              "      <th>first_pm</th>\n",
              "      <th>count_pm</th>\n",
              "      <th>meantime_pm</th>\n",
              "    </tr>\n",
              "  </thead>\n",
              "  <tbody>\n",
              "    <tr>\n",
              "      <th>0</th>\n",
              "      <td>204282</td>\n",
              "      <td>2020-03-04</td>\n",
              "      <td>2009-03-31</td>\n",
              "      <td>11</td>\n",
              "      <td>362</td>\n",
              "    </tr>\n",
              "    <tr>\n",
              "      <th>1</th>\n",
              "      <td>255222</td>\n",
              "      <td>2021-06-28</td>\n",
              "      <td>2018-03-20</td>\n",
              "      <td>4</td>\n",
              "      <td>299</td>\n",
              "    </tr>\n",
              "    <tr>\n",
              "      <th>2</th>\n",
              "      <td>208527</td>\n",
              "      <td>2015-06-22</td>\n",
              "      <td>2015-06-22</td>\n",
              "      <td>1</td>\n",
              "      <td>0</td>\n",
              "    </tr>\n",
              "  </tbody>\n",
              "</table>\n",
              "</div>\n",
              "      <button class=\"colab-df-convert\" onclick=\"convertToInteractive('df-0d24b4d3-cf4e-4246-892d-c2e41e7b5fe6')\"\n",
              "              title=\"Convert this dataframe to an interactive table.\"\n",
              "              style=\"display:none;\">\n",
              "        \n",
              "  <svg xmlns=\"http://www.w3.org/2000/svg\" height=\"24px\"viewBox=\"0 0 24 24\"\n",
              "       width=\"24px\">\n",
              "    <path d=\"M0 0h24v24H0V0z\" fill=\"none\"/>\n",
              "    <path d=\"M18.56 5.44l.94 2.06.94-2.06 2.06-.94-2.06-.94-.94-2.06-.94 2.06-2.06.94zm-11 1L8.5 8.5l.94-2.06 2.06-.94-2.06-.94L8.5 2.5l-.94 2.06-2.06.94zm10 10l.94 2.06.94-2.06 2.06-.94-2.06-.94-.94-2.06-.94 2.06-2.06.94z\"/><path d=\"M17.41 7.96l-1.37-1.37c-.4-.4-.92-.59-1.43-.59-.52 0-1.04.2-1.43.59L10.3 9.45l-7.72 7.72c-.78.78-.78 2.05 0 2.83L4 21.41c.39.39.9.59 1.41.59.51 0 1.02-.2 1.41-.59l7.78-7.78 2.81-2.81c.8-.78.8-2.07 0-2.86zM5.41 20L4 18.59l7.72-7.72 1.47 1.35L5.41 20z\"/>\n",
              "  </svg>\n",
              "      </button>\n",
              "      \n",
              "  <style>\n",
              "    .colab-df-container {\n",
              "      display:flex;\n",
              "      flex-wrap:wrap;\n",
              "      gap: 12px;\n",
              "    }\n",
              "\n",
              "    .colab-df-convert {\n",
              "      background-color: #E8F0FE;\n",
              "      border: none;\n",
              "      border-radius: 50%;\n",
              "      cursor: pointer;\n",
              "      display: none;\n",
              "      fill: #1967D2;\n",
              "      height: 32px;\n",
              "      padding: 0 0 0 0;\n",
              "      width: 32px;\n",
              "    }\n",
              "\n",
              "    .colab-df-convert:hover {\n",
              "      background-color: #E2EBFA;\n",
              "      box-shadow: 0px 1px 2px rgba(60, 64, 67, 0.3), 0px 1px 3px 1px rgba(60, 64, 67, 0.15);\n",
              "      fill: #174EA6;\n",
              "    }\n",
              "\n",
              "    [theme=dark] .colab-df-convert {\n",
              "      background-color: #3B4455;\n",
              "      fill: #D2E3FC;\n",
              "    }\n",
              "\n",
              "    [theme=dark] .colab-df-convert:hover {\n",
              "      background-color: #434B5C;\n",
              "      box-shadow: 0px 1px 3px 1px rgba(0, 0, 0, 0.15);\n",
              "      filter: drop-shadow(0px 1px 2px rgba(0, 0, 0, 0.3));\n",
              "      fill: #FFFFFF;\n",
              "    }\n",
              "  </style>\n",
              "\n",
              "      <script>\n",
              "        const buttonEl =\n",
              "          document.querySelector('#df-0d24b4d3-cf4e-4246-892d-c2e41e7b5fe6 button.colab-df-convert');\n",
              "        buttonEl.style.display =\n",
              "          google.colab.kernel.accessAllowed ? 'block' : 'none';\n",
              "\n",
              "        async function convertToInteractive(key) {\n",
              "          const element = document.querySelector('#df-0d24b4d3-cf4e-4246-892d-c2e41e7b5fe6');\n",
              "          const dataTable =\n",
              "            await google.colab.kernel.invokeFunction('convertToInteractive',\n",
              "                                                     [key], {});\n",
              "          if (!dataTable) return;\n",
              "\n",
              "          const docLinkHtml = 'Like what you see? Visit the ' +\n",
              "            '<a target=\"_blank\" href=https://colab.research.google.com/notebooks/data_table.ipynb>data table notebook</a>'\n",
              "            + ' to learn more about interactive tables.';\n",
              "          element.innerHTML = '';\n",
              "          dataTable['output_type'] = 'display_data';\n",
              "          await google.colab.output.renderOutput(dataTable, element);\n",
              "          const docLink = document.createElement('div');\n",
              "          docLink.innerHTML = docLinkHtml;\n",
              "          element.appendChild(docLink);\n",
              "        }\n",
              "      </script>\n",
              "    </div>\n",
              "  </div>\n",
              "  "
            ]
          },
          "metadata": {},
          "execution_count": 32
        }
      ],
      "source": [
        "fin1.head(3)"
      ]
    },
    {
      "cell_type": "code",
      "execution_count": 33,
      "metadata": {
        "colab": {
          "base_uri": "https://localhost:8080/"
        },
        "id": "FLnKwIR0doJx",
        "outputId": "63f8b9b0-411b-4958-c830-7ad3acd36345"
      },
      "outputs": [
        {
          "output_type": "execute_result",
          "data": {
            "text/plain": [
              "invID          0\n",
              "last_pm        0\n",
              "first_pm       0\n",
              "count_pm       0\n",
              "meantime_pm    0\n",
              "dtype: int64"
            ]
          },
          "metadata": {},
          "execution_count": 33
        }
      ],
      "source": [
        "fin1.isnull().sum()"
      ]
    },
    {
      "cell_type": "code",
      "execution_count": 34,
      "metadata": {
        "colab": {
          "base_uri": "https://localhost:8080/"
        },
        "id": "7BWSk2F5BKte",
        "outputId": "df858ab7-1899-4c33-a0e8-2980fbed3711"
      },
      "outputs": [
        {
          "output_type": "execute_result",
          "data": {
            "text/plain": [
              "invID          0\n",
              "last_pm        0\n",
              "first_pm       0\n",
              "count_pm       0\n",
              "meantime_pm    0\n",
              "dtype: int64"
            ]
          },
          "metadata": {},
          "execution_count": 34
        }
      ],
      "source": [
        "fin1.isnull().sum()"
      ]
    },
    {
      "cell_type": "code",
      "execution_count": 35,
      "metadata": {
        "colab": {
          "base_uri": "https://localhost:8080/"
        },
        "id": "8QBAealAEh8k",
        "outputId": "f9bcd0f7-5786-4fe8-b76e-be7946b9968b"
      },
      "outputs": [
        {
          "output_type": "execute_result",
          "data": {
            "text/plain": [
              "invID          80503\n",
              "last_pm        80503\n",
              "first_pm       80503\n",
              "count_pm       80503\n",
              "meantime_pm    80503\n",
              "dtype: int64"
            ]
          },
          "metadata": {},
          "execution_count": 35
        }
      ],
      "source": [
        "fin1.count()"
      ]
    },
    {
      "cell_type": "code",
      "execution_count": 36,
      "metadata": {
        "id": "WxtFQSUG7u0n"
      },
      "outputs": [],
      "source": [
        "fin1.set_index('invID',drop=False,inplace=True)"
      ]
    },
    {
      "cell_type": "code",
      "execution_count": 37,
      "metadata": {
        "colab": {
          "base_uri": "https://localhost:8080/",
          "height": 0
        },
        "id": "G4ULDnLe8BBF",
        "outputId": "4b4a4d82-e638-4bf4-9161-fe3390603944"
      },
      "outputs": [
        {
          "output_type": "execute_result",
          "data": {
            "text/plain": [
              "         invID     last_pm    first_pm  count_pm  meantime_pm\n",
              "invID                                                        \n",
              "204282  204282  2020-03-04  2009-03-31        11          362\n",
              "255222  255222  2021-06-28  2018-03-20         4          299\n",
              "208527  208527  2015-06-22  2015-06-22         1            0"
            ],
            "text/html": [
              "\n",
              "  <div id=\"df-7752143a-7a16-44d7-b71c-531947cfdd30\">\n",
              "    <div class=\"colab-df-container\">\n",
              "      <div>\n",
              "<style scoped>\n",
              "    .dataframe tbody tr th:only-of-type {\n",
              "        vertical-align: middle;\n",
              "    }\n",
              "\n",
              "    .dataframe tbody tr th {\n",
              "        vertical-align: top;\n",
              "    }\n",
              "\n",
              "    .dataframe thead th {\n",
              "        text-align: right;\n",
              "    }\n",
              "</style>\n",
              "<table border=\"1\" class=\"dataframe\">\n",
              "  <thead>\n",
              "    <tr style=\"text-align: right;\">\n",
              "      <th></th>\n",
              "      <th>invID</th>\n",
              "      <th>last_pm</th>\n",
              "      <th>first_pm</th>\n",
              "      <th>count_pm</th>\n",
              "      <th>meantime_pm</th>\n",
              "    </tr>\n",
              "    <tr>\n",
              "      <th>invID</th>\n",
              "      <th></th>\n",
              "      <th></th>\n",
              "      <th></th>\n",
              "      <th></th>\n",
              "      <th></th>\n",
              "    </tr>\n",
              "  </thead>\n",
              "  <tbody>\n",
              "    <tr>\n",
              "      <th>204282</th>\n",
              "      <td>204282</td>\n",
              "      <td>2020-03-04</td>\n",
              "      <td>2009-03-31</td>\n",
              "      <td>11</td>\n",
              "      <td>362</td>\n",
              "    </tr>\n",
              "    <tr>\n",
              "      <th>255222</th>\n",
              "      <td>255222</td>\n",
              "      <td>2021-06-28</td>\n",
              "      <td>2018-03-20</td>\n",
              "      <td>4</td>\n",
              "      <td>299</td>\n",
              "    </tr>\n",
              "    <tr>\n",
              "      <th>208527</th>\n",
              "      <td>208527</td>\n",
              "      <td>2015-06-22</td>\n",
              "      <td>2015-06-22</td>\n",
              "      <td>1</td>\n",
              "      <td>0</td>\n",
              "    </tr>\n",
              "  </tbody>\n",
              "</table>\n",
              "</div>\n",
              "      <button class=\"colab-df-convert\" onclick=\"convertToInteractive('df-7752143a-7a16-44d7-b71c-531947cfdd30')\"\n",
              "              title=\"Convert this dataframe to an interactive table.\"\n",
              "              style=\"display:none;\">\n",
              "        \n",
              "  <svg xmlns=\"http://www.w3.org/2000/svg\" height=\"24px\"viewBox=\"0 0 24 24\"\n",
              "       width=\"24px\">\n",
              "    <path d=\"M0 0h24v24H0V0z\" fill=\"none\"/>\n",
              "    <path d=\"M18.56 5.44l.94 2.06.94-2.06 2.06-.94-2.06-.94-.94-2.06-.94 2.06-2.06.94zm-11 1L8.5 8.5l.94-2.06 2.06-.94-2.06-.94L8.5 2.5l-.94 2.06-2.06.94zm10 10l.94 2.06.94-2.06 2.06-.94-2.06-.94-.94-2.06-.94 2.06-2.06.94z\"/><path d=\"M17.41 7.96l-1.37-1.37c-.4-.4-.92-.59-1.43-.59-.52 0-1.04.2-1.43.59L10.3 9.45l-7.72 7.72c-.78.78-.78 2.05 0 2.83L4 21.41c.39.39.9.59 1.41.59.51 0 1.02-.2 1.41-.59l7.78-7.78 2.81-2.81c.8-.78.8-2.07 0-2.86zM5.41 20L4 18.59l7.72-7.72 1.47 1.35L5.41 20z\"/>\n",
              "  </svg>\n",
              "      </button>\n",
              "      \n",
              "  <style>\n",
              "    .colab-df-container {\n",
              "      display:flex;\n",
              "      flex-wrap:wrap;\n",
              "      gap: 12px;\n",
              "    }\n",
              "\n",
              "    .colab-df-convert {\n",
              "      background-color: #E8F0FE;\n",
              "      border: none;\n",
              "      border-radius: 50%;\n",
              "      cursor: pointer;\n",
              "      display: none;\n",
              "      fill: #1967D2;\n",
              "      height: 32px;\n",
              "      padding: 0 0 0 0;\n",
              "      width: 32px;\n",
              "    }\n",
              "\n",
              "    .colab-df-convert:hover {\n",
              "      background-color: #E2EBFA;\n",
              "      box-shadow: 0px 1px 2px rgba(60, 64, 67, 0.3), 0px 1px 3px 1px rgba(60, 64, 67, 0.15);\n",
              "      fill: #174EA6;\n",
              "    }\n",
              "\n",
              "    [theme=dark] .colab-df-convert {\n",
              "      background-color: #3B4455;\n",
              "      fill: #D2E3FC;\n",
              "    }\n",
              "\n",
              "    [theme=dark] .colab-df-convert:hover {\n",
              "      background-color: #434B5C;\n",
              "      box-shadow: 0px 1px 3px 1px rgba(0, 0, 0, 0.15);\n",
              "      filter: drop-shadow(0px 1px 2px rgba(0, 0, 0, 0.3));\n",
              "      fill: #FFFFFF;\n",
              "    }\n",
              "  </style>\n",
              "\n",
              "      <script>\n",
              "        const buttonEl =\n",
              "          document.querySelector('#df-7752143a-7a16-44d7-b71c-531947cfdd30 button.colab-df-convert');\n",
              "        buttonEl.style.display =\n",
              "          google.colab.kernel.accessAllowed ? 'block' : 'none';\n",
              "\n",
              "        async function convertToInteractive(key) {\n",
              "          const element = document.querySelector('#df-7752143a-7a16-44d7-b71c-531947cfdd30');\n",
              "          const dataTable =\n",
              "            await google.colab.kernel.invokeFunction('convertToInteractive',\n",
              "                                                     [key], {});\n",
              "          if (!dataTable) return;\n",
              "\n",
              "          const docLinkHtml = 'Like what you see? Visit the ' +\n",
              "            '<a target=\"_blank\" href=https://colab.research.google.com/notebooks/data_table.ipynb>data table notebook</a>'\n",
              "            + ' to learn more about interactive tables.';\n",
              "          element.innerHTML = '';\n",
              "          dataTable['output_type'] = 'display_data';\n",
              "          await google.colab.output.renderOutput(dataTable, element);\n",
              "          const docLink = document.createElement('div');\n",
              "          docLink.innerHTML = docLinkHtml;\n",
              "          element.appendChild(docLink);\n",
              "        }\n",
              "      </script>\n",
              "    </div>\n",
              "  </div>\n",
              "  "
            ]
          },
          "metadata": {},
          "execution_count": 37
        }
      ],
      "source": [
        "fin1.head(3)"
      ]
    },
    {
      "cell_type": "markdown",
      "metadata": {
        "id": "mg5iri2Q0WMF"
      },
      "source": [
        "\n",
        "# pm **history**"
      ]
    },
    {
      "cell_type": "code",
      "execution_count": 38,
      "metadata": {
        "id": "AvuIZFFJ0wlg"
      },
      "outputs": [],
      "source": [
        "df4=(r\"/content/drive/MyDrive/Thesis_datasets/New-data-SoftPro/Hospitals1/pm_history.csv\")"
      ]
    },
    {
      "cell_type": "code",
      "execution_count": 39,
      "metadata": {
        "id": "kqLXENEE1Auc"
      },
      "outputs": [],
      "source": [
        "fin4=read_csv(df4,sep=';')"
      ]
    },
    {
      "cell_type": "code",
      "execution_count": 40,
      "metadata": {
        "colab": {
          "base_uri": "https://localhost:8080/",
          "height": 0
        },
        "id": "GlqhsafD1fX-",
        "outputId": "04735c2d-a5d6-4ef5-af1a-2d29fd2b25a0"
      },
      "outputs": [
        {
          "output_type": "execute_result",
          "data": {
            "text/plain": [
              "  (No column name)     ID  blnRecurring  intTimeInterval  \\\n",
              "0       2011-04-03  27837             1             24.0   \n",
              "1       2011-04-03  28001             1             24.0   \n",
              "2       2011-04-03  28245             1             12.0   \n",
              "\n",
              "   PM_TimeIntervalUnitID  intTimeIntervalRecommended  \\\n",
              "0                    2.0                         NaN   \n",
              "1                    2.0                         NaN   \n",
              "2                    2.0                         NaN   \n",
              "\n",
              "   PM_TimeIntervalUnitIDRecommended intEstimatedPMTimeHours  \\\n",
              "0                               NaN                     NaN   \n",
              "1                               NaN                     NaN   \n",
              "2                               NaN                     NaN   \n",
              "\n",
              "  (No column name).1 (No column name).2  InventarierID  ArborderID  \\\n",
              "0         2001-06-15         2003-06-15          65129         NaN   \n",
              "1         2004-03-17         2006-03-17          65375         NaN   \n",
              "2         2003-07-11         2004-07-11          65657         NaN   \n",
              "\n",
              "   blnHiddenPMClock  DeviatingTimeIntervalRecommended  PM_diff  \n",
              "0               0.0                                 1     3579  \n",
              "1               0.0                                 1     2573  \n",
              "2               0.0                                 1     2823  "
            ],
            "text/html": [
              "\n",
              "  <div id=\"df-fb8dff5d-074c-4dff-8343-1fd01a15c99d\">\n",
              "    <div class=\"colab-df-container\">\n",
              "      <div>\n",
              "<style scoped>\n",
              "    .dataframe tbody tr th:only-of-type {\n",
              "        vertical-align: middle;\n",
              "    }\n",
              "\n",
              "    .dataframe tbody tr th {\n",
              "        vertical-align: top;\n",
              "    }\n",
              "\n",
              "    .dataframe thead th {\n",
              "        text-align: right;\n",
              "    }\n",
              "</style>\n",
              "<table border=\"1\" class=\"dataframe\">\n",
              "  <thead>\n",
              "    <tr style=\"text-align: right;\">\n",
              "      <th></th>\n",
              "      <th>(No column name)</th>\n",
              "      <th>ID</th>\n",
              "      <th>blnRecurring</th>\n",
              "      <th>intTimeInterval</th>\n",
              "      <th>PM_TimeIntervalUnitID</th>\n",
              "      <th>intTimeIntervalRecommended</th>\n",
              "      <th>PM_TimeIntervalUnitIDRecommended</th>\n",
              "      <th>intEstimatedPMTimeHours</th>\n",
              "      <th>(No column name).1</th>\n",
              "      <th>(No column name).2</th>\n",
              "      <th>InventarierID</th>\n",
              "      <th>ArborderID</th>\n",
              "      <th>blnHiddenPMClock</th>\n",
              "      <th>DeviatingTimeIntervalRecommended</th>\n",
              "      <th>PM_diff</th>\n",
              "    </tr>\n",
              "  </thead>\n",
              "  <tbody>\n",
              "    <tr>\n",
              "      <th>0</th>\n",
              "      <td>2011-04-03</td>\n",
              "      <td>27837</td>\n",
              "      <td>1</td>\n",
              "      <td>24.0</td>\n",
              "      <td>2.0</td>\n",
              "      <td>NaN</td>\n",
              "      <td>NaN</td>\n",
              "      <td>NaN</td>\n",
              "      <td>2001-06-15</td>\n",
              "      <td>2003-06-15</td>\n",
              "      <td>65129</td>\n",
              "      <td>NaN</td>\n",
              "      <td>0.0</td>\n",
              "      <td>1</td>\n",
              "      <td>3579</td>\n",
              "    </tr>\n",
              "    <tr>\n",
              "      <th>1</th>\n",
              "      <td>2011-04-03</td>\n",
              "      <td>28001</td>\n",
              "      <td>1</td>\n",
              "      <td>24.0</td>\n",
              "      <td>2.0</td>\n",
              "      <td>NaN</td>\n",
              "      <td>NaN</td>\n",
              "      <td>NaN</td>\n",
              "      <td>2004-03-17</td>\n",
              "      <td>2006-03-17</td>\n",
              "      <td>65375</td>\n",
              "      <td>NaN</td>\n",
              "      <td>0.0</td>\n",
              "      <td>1</td>\n",
              "      <td>2573</td>\n",
              "    </tr>\n",
              "    <tr>\n",
              "      <th>2</th>\n",
              "      <td>2011-04-03</td>\n",
              "      <td>28245</td>\n",
              "      <td>1</td>\n",
              "      <td>12.0</td>\n",
              "      <td>2.0</td>\n",
              "      <td>NaN</td>\n",
              "      <td>NaN</td>\n",
              "      <td>NaN</td>\n",
              "      <td>2003-07-11</td>\n",
              "      <td>2004-07-11</td>\n",
              "      <td>65657</td>\n",
              "      <td>NaN</td>\n",
              "      <td>0.0</td>\n",
              "      <td>1</td>\n",
              "      <td>2823</td>\n",
              "    </tr>\n",
              "  </tbody>\n",
              "</table>\n",
              "</div>\n",
              "      <button class=\"colab-df-convert\" onclick=\"convertToInteractive('df-fb8dff5d-074c-4dff-8343-1fd01a15c99d')\"\n",
              "              title=\"Convert this dataframe to an interactive table.\"\n",
              "              style=\"display:none;\">\n",
              "        \n",
              "  <svg xmlns=\"http://www.w3.org/2000/svg\" height=\"24px\"viewBox=\"0 0 24 24\"\n",
              "       width=\"24px\">\n",
              "    <path d=\"M0 0h24v24H0V0z\" fill=\"none\"/>\n",
              "    <path d=\"M18.56 5.44l.94 2.06.94-2.06 2.06-.94-2.06-.94-.94-2.06-.94 2.06-2.06.94zm-11 1L8.5 8.5l.94-2.06 2.06-.94-2.06-.94L8.5 2.5l-.94 2.06-2.06.94zm10 10l.94 2.06.94-2.06 2.06-.94-2.06-.94-.94-2.06-.94 2.06-2.06.94z\"/><path d=\"M17.41 7.96l-1.37-1.37c-.4-.4-.92-.59-1.43-.59-.52 0-1.04.2-1.43.59L10.3 9.45l-7.72 7.72c-.78.78-.78 2.05 0 2.83L4 21.41c.39.39.9.59 1.41.59.51 0 1.02-.2 1.41-.59l7.78-7.78 2.81-2.81c.8-.78.8-2.07 0-2.86zM5.41 20L4 18.59l7.72-7.72 1.47 1.35L5.41 20z\"/>\n",
              "  </svg>\n",
              "      </button>\n",
              "      \n",
              "  <style>\n",
              "    .colab-df-container {\n",
              "      display:flex;\n",
              "      flex-wrap:wrap;\n",
              "      gap: 12px;\n",
              "    }\n",
              "\n",
              "    .colab-df-convert {\n",
              "      background-color: #E8F0FE;\n",
              "      border: none;\n",
              "      border-radius: 50%;\n",
              "      cursor: pointer;\n",
              "      display: none;\n",
              "      fill: #1967D2;\n",
              "      height: 32px;\n",
              "      padding: 0 0 0 0;\n",
              "      width: 32px;\n",
              "    }\n",
              "\n",
              "    .colab-df-convert:hover {\n",
              "      background-color: #E2EBFA;\n",
              "      box-shadow: 0px 1px 2px rgba(60, 64, 67, 0.3), 0px 1px 3px 1px rgba(60, 64, 67, 0.15);\n",
              "      fill: #174EA6;\n",
              "    }\n",
              "\n",
              "    [theme=dark] .colab-df-convert {\n",
              "      background-color: #3B4455;\n",
              "      fill: #D2E3FC;\n",
              "    }\n",
              "\n",
              "    [theme=dark] .colab-df-convert:hover {\n",
              "      background-color: #434B5C;\n",
              "      box-shadow: 0px 1px 3px 1px rgba(0, 0, 0, 0.15);\n",
              "      filter: drop-shadow(0px 1px 2px rgba(0, 0, 0, 0.3));\n",
              "      fill: #FFFFFF;\n",
              "    }\n",
              "  </style>\n",
              "\n",
              "      <script>\n",
              "        const buttonEl =\n",
              "          document.querySelector('#df-fb8dff5d-074c-4dff-8343-1fd01a15c99d button.colab-df-convert');\n",
              "        buttonEl.style.display =\n",
              "          google.colab.kernel.accessAllowed ? 'block' : 'none';\n",
              "\n",
              "        async function convertToInteractive(key) {\n",
              "          const element = document.querySelector('#df-fb8dff5d-074c-4dff-8343-1fd01a15c99d');\n",
              "          const dataTable =\n",
              "            await google.colab.kernel.invokeFunction('convertToInteractive',\n",
              "                                                     [key], {});\n",
              "          if (!dataTable) return;\n",
              "\n",
              "          const docLinkHtml = 'Like what you see? Visit the ' +\n",
              "            '<a target=\"_blank\" href=https://colab.research.google.com/notebooks/data_table.ipynb>data table notebook</a>'\n",
              "            + ' to learn more about interactive tables.';\n",
              "          element.innerHTML = '';\n",
              "          dataTable['output_type'] = 'display_data';\n",
              "          await google.colab.output.renderOutput(dataTable, element);\n",
              "          const docLink = document.createElement('div');\n",
              "          docLink.innerHTML = docLinkHtml;\n",
              "          element.appendChild(docLink);\n",
              "        }\n",
              "      </script>\n",
              "    </div>\n",
              "  </div>\n",
              "  "
            ]
          },
          "metadata": {},
          "execution_count": 40
        }
      ],
      "source": [
        "fin4.head(3)"
      ]
    },
    {
      "cell_type": "code",
      "execution_count": 41,
      "metadata": {
        "colab": {
          "base_uri": "https://localhost:8080/"
        },
        "id": "LjQOMlyibRE4",
        "outputId": "f27108b9-2e28-4993-b99f-02ab6e09dc80"
      },
      "outputs": [
        {
          "output_type": "execute_result",
          "data": {
            "text/plain": [
              "(268519, 15)"
            ]
          },
          "metadata": {},
          "execution_count": 41
        }
      ],
      "source": [
        "fin4.shape"
      ]
    },
    {
      "cell_type": "code",
      "execution_count": 42,
      "metadata": {
        "colab": {
          "base_uri": "https://localhost:8080/"
        },
        "id": "dd5mW3iFftTf",
        "outputId": "82262898-d4fb-442c-e9c0-955c1131678b"
      },
      "outputs": [
        {
          "output_type": "execute_result",
          "data": {
            "text/plain": [
              "(No column name)                         0\n",
              "ID                                       0\n",
              "blnRecurring                             0\n",
              "intTimeInterval                      29965\n",
              "PM_TimeIntervalUnitID                29639\n",
              "intTimeIntervalRecommended          243017\n",
              "PM_TimeIntervalUnitIDRecommended    194394\n",
              "intEstimatedPMTimeHours             196105\n",
              "(No column name).1                       0\n",
              "(No column name).2                   84728\n",
              "InventarierID                            0\n",
              "ArborderID                           28826\n",
              "blnHiddenPMClock                      5605\n",
              "DeviatingTimeIntervalRecommended         0\n",
              "PM_diff                                  0\n",
              "dtype: int64"
            ]
          },
          "metadata": {},
          "execution_count": 42
        }
      ],
      "source": [
        "fin4.isnull().sum()"
      ]
    },
    {
      "cell_type": "markdown",
      "metadata": {
        "id": "_TUllsYLeZFe"
      },
      "source": [
        "we need to study devices which have recurring pm activities"
      ]
    },
    {
      "cell_type": "code",
      "execution_count": 43,
      "metadata": {
        "colab": {
          "base_uri": "https://localhost:8080/"
        },
        "id": "tXBnZ-zaelLo",
        "outputId": "e5471c7c-20db-48a9-ac01-e97682510394"
      },
      "outputs": [
        {
          "output_type": "execute_result",
          "data": {
            "text/plain": [
              "1    236686\n",
              "0     31833\n",
              "Name: blnRecurring, dtype: int64"
            ]
          },
          "metadata": {},
          "execution_count": 43
        }
      ],
      "source": [
        "fin4['blnRecurring'].value_counts()"
      ]
    },
    {
      "cell_type": "code",
      "execution_count": 44,
      "metadata": {
        "id": "i1BVkT4xdvN6"
      },
      "outputs": [],
      "source": [
        "recurring_hos1=fin4.loc[fin4['blnRecurring']== 1]"
      ]
    },
    {
      "cell_type": "code",
      "execution_count": 45,
      "metadata": {
        "colab": {
          "base_uri": "https://localhost:8080/"
        },
        "id": "Q5IaEa2VidUi",
        "outputId": "78c98982-430b-461a-c74f-0352db5cb19f"
      },
      "outputs": [
        {
          "output_type": "execute_result",
          "data": {
            "text/plain": [
              "(236686, 15)"
            ]
          },
          "metadata": {},
          "execution_count": 45
        }
      ],
      "source": [
        "recurring_hos1.shape"
      ]
    },
    {
      "cell_type": "markdown",
      "metadata": {
        "id": "hEDepVQjkBOC"
      },
      "source": [
        "now that we have got only the devices with recurring pm activities , we need to drop all irrelevent columns before translating the rest of the columns "
      ]
    },
    {
      "cell_type": "code",
      "execution_count": 46,
      "metadata": {
        "id": "1yKP5QMRkfSe"
      },
      "outputs": [],
      "source": [
        "recurring_hos1.drop(columns=['blnRecurring','intTimeIntervalRecommended','intEstimatedPMTimeHours','(No column name).1','(No column name).2','blnHiddenPMClock'],inplace=True)"
      ]
    },
    {
      "cell_type": "code",
      "execution_count": 47,
      "metadata": {
        "colab": {
          "base_uri": "https://localhost:8080/",
          "height": 0
        },
        "id": "CdfTtALxFEqq",
        "outputId": "8db03532-6c21-4369-8b5a-88c8e49abc81"
      },
      "outputs": [
        {
          "output_type": "execute_result",
          "data": {
            "text/plain": [
              "       (No column name)      ID  intTimeInterval  PM_TimeIntervalUnitID  \\\n",
              "0            2011-04-03   27837             24.0                    2.0   \n",
              "1            2011-04-03   28001             24.0                    2.0   \n",
              "2            2011-04-03   28245             12.0                    2.0   \n",
              "3            2011-04-03   28739             12.0                    2.0   \n",
              "4            2011-04-03   28982             12.0                    2.0   \n",
              "...                 ...     ...              ...                    ...   \n",
              "268514       2020-08-31  111399             12.0                    2.0   \n",
              "268515       2020-08-31  218051            175.0                    3.0   \n",
              "268516       2020-08-31  218145            175.0                    3.0   \n",
              "268517       2020-08-31  218142            175.0                    3.0   \n",
              "268518       2020-08-31  218056            175.0                    3.0   \n",
              "\n",
              "        PM_TimeIntervalUnitIDRecommended  InventarierID  ArborderID  \\\n",
              "0                                    NaN          65129         NaN   \n",
              "1                                    NaN          65375         NaN   \n",
              "2                                    NaN          65657         NaN   \n",
              "3                                    NaN          66297         NaN   \n",
              "4                                    NaN          66601         NaN   \n",
              "...                                  ...            ...         ...   \n",
              "268514                               NaN         139137   1322680.0   \n",
              "268515                               NaN         265560   1311557.0   \n",
              "268516                               NaN         266504   1311608.0   \n",
              "268517                               NaN         266501   1311605.0   \n",
              "268518                               NaN         265614   1311658.0   \n",
              "\n",
              "        DeviatingTimeIntervalRecommended  PM_diff  \n",
              "0                                      1     3579  \n",
              "1                                      1     2573  \n",
              "2                                      1     2823  \n",
              "3                                      1     4065  \n",
              "4                                      1     3432  \n",
              "...                                  ...      ...  \n",
              "268514                                 0        0  \n",
              "268515                                 0       66  \n",
              "268516                                 0       66  \n",
              "268517                                 0       66  \n",
              "268518                                 0       66  \n",
              "\n",
              "[236686 rows x 9 columns]"
            ],
            "text/html": [
              "\n",
              "  <div id=\"df-10d7dcbb-24f9-4ba6-be45-0c4dc77b0c24\">\n",
              "    <div class=\"colab-df-container\">\n",
              "      <div>\n",
              "<style scoped>\n",
              "    .dataframe tbody tr th:only-of-type {\n",
              "        vertical-align: middle;\n",
              "    }\n",
              "\n",
              "    .dataframe tbody tr th {\n",
              "        vertical-align: top;\n",
              "    }\n",
              "\n",
              "    .dataframe thead th {\n",
              "        text-align: right;\n",
              "    }\n",
              "</style>\n",
              "<table border=\"1\" class=\"dataframe\">\n",
              "  <thead>\n",
              "    <tr style=\"text-align: right;\">\n",
              "      <th></th>\n",
              "      <th>(No column name)</th>\n",
              "      <th>ID</th>\n",
              "      <th>intTimeInterval</th>\n",
              "      <th>PM_TimeIntervalUnitID</th>\n",
              "      <th>PM_TimeIntervalUnitIDRecommended</th>\n",
              "      <th>InventarierID</th>\n",
              "      <th>ArborderID</th>\n",
              "      <th>DeviatingTimeIntervalRecommended</th>\n",
              "      <th>PM_diff</th>\n",
              "    </tr>\n",
              "  </thead>\n",
              "  <tbody>\n",
              "    <tr>\n",
              "      <th>0</th>\n",
              "      <td>2011-04-03</td>\n",
              "      <td>27837</td>\n",
              "      <td>24.0</td>\n",
              "      <td>2.0</td>\n",
              "      <td>NaN</td>\n",
              "      <td>65129</td>\n",
              "      <td>NaN</td>\n",
              "      <td>1</td>\n",
              "      <td>3579</td>\n",
              "    </tr>\n",
              "    <tr>\n",
              "      <th>1</th>\n",
              "      <td>2011-04-03</td>\n",
              "      <td>28001</td>\n",
              "      <td>24.0</td>\n",
              "      <td>2.0</td>\n",
              "      <td>NaN</td>\n",
              "      <td>65375</td>\n",
              "      <td>NaN</td>\n",
              "      <td>1</td>\n",
              "      <td>2573</td>\n",
              "    </tr>\n",
              "    <tr>\n",
              "      <th>2</th>\n",
              "      <td>2011-04-03</td>\n",
              "      <td>28245</td>\n",
              "      <td>12.0</td>\n",
              "      <td>2.0</td>\n",
              "      <td>NaN</td>\n",
              "      <td>65657</td>\n",
              "      <td>NaN</td>\n",
              "      <td>1</td>\n",
              "      <td>2823</td>\n",
              "    </tr>\n",
              "    <tr>\n",
              "      <th>3</th>\n",
              "      <td>2011-04-03</td>\n",
              "      <td>28739</td>\n",
              "      <td>12.0</td>\n",
              "      <td>2.0</td>\n",
              "      <td>NaN</td>\n",
              "      <td>66297</td>\n",
              "      <td>NaN</td>\n",
              "      <td>1</td>\n",
              "      <td>4065</td>\n",
              "    </tr>\n",
              "    <tr>\n",
              "      <th>4</th>\n",
              "      <td>2011-04-03</td>\n",
              "      <td>28982</td>\n",
              "      <td>12.0</td>\n",
              "      <td>2.0</td>\n",
              "      <td>NaN</td>\n",
              "      <td>66601</td>\n",
              "      <td>NaN</td>\n",
              "      <td>1</td>\n",
              "      <td>3432</td>\n",
              "    </tr>\n",
              "    <tr>\n",
              "      <th>...</th>\n",
              "      <td>...</td>\n",
              "      <td>...</td>\n",
              "      <td>...</td>\n",
              "      <td>...</td>\n",
              "      <td>...</td>\n",
              "      <td>...</td>\n",
              "      <td>...</td>\n",
              "      <td>...</td>\n",
              "      <td>...</td>\n",
              "    </tr>\n",
              "    <tr>\n",
              "      <th>268514</th>\n",
              "      <td>2020-08-31</td>\n",
              "      <td>111399</td>\n",
              "      <td>12.0</td>\n",
              "      <td>2.0</td>\n",
              "      <td>NaN</td>\n",
              "      <td>139137</td>\n",
              "      <td>1322680.0</td>\n",
              "      <td>0</td>\n",
              "      <td>0</td>\n",
              "    </tr>\n",
              "    <tr>\n",
              "      <th>268515</th>\n",
              "      <td>2020-08-31</td>\n",
              "      <td>218051</td>\n",
              "      <td>175.0</td>\n",
              "      <td>3.0</td>\n",
              "      <td>NaN</td>\n",
              "      <td>265560</td>\n",
              "      <td>1311557.0</td>\n",
              "      <td>0</td>\n",
              "      <td>66</td>\n",
              "    </tr>\n",
              "    <tr>\n",
              "      <th>268516</th>\n",
              "      <td>2020-08-31</td>\n",
              "      <td>218145</td>\n",
              "      <td>175.0</td>\n",
              "      <td>3.0</td>\n",
              "      <td>NaN</td>\n",
              "      <td>266504</td>\n",
              "      <td>1311608.0</td>\n",
              "      <td>0</td>\n",
              "      <td>66</td>\n",
              "    </tr>\n",
              "    <tr>\n",
              "      <th>268517</th>\n",
              "      <td>2020-08-31</td>\n",
              "      <td>218142</td>\n",
              "      <td>175.0</td>\n",
              "      <td>3.0</td>\n",
              "      <td>NaN</td>\n",
              "      <td>266501</td>\n",
              "      <td>1311605.0</td>\n",
              "      <td>0</td>\n",
              "      <td>66</td>\n",
              "    </tr>\n",
              "    <tr>\n",
              "      <th>268518</th>\n",
              "      <td>2020-08-31</td>\n",
              "      <td>218056</td>\n",
              "      <td>175.0</td>\n",
              "      <td>3.0</td>\n",
              "      <td>NaN</td>\n",
              "      <td>265614</td>\n",
              "      <td>1311658.0</td>\n",
              "      <td>0</td>\n",
              "      <td>66</td>\n",
              "    </tr>\n",
              "  </tbody>\n",
              "</table>\n",
              "<p>236686 rows × 9 columns</p>\n",
              "</div>\n",
              "      <button class=\"colab-df-convert\" onclick=\"convertToInteractive('df-10d7dcbb-24f9-4ba6-be45-0c4dc77b0c24')\"\n",
              "              title=\"Convert this dataframe to an interactive table.\"\n",
              "              style=\"display:none;\">\n",
              "        \n",
              "  <svg xmlns=\"http://www.w3.org/2000/svg\" height=\"24px\"viewBox=\"0 0 24 24\"\n",
              "       width=\"24px\">\n",
              "    <path d=\"M0 0h24v24H0V0z\" fill=\"none\"/>\n",
              "    <path d=\"M18.56 5.44l.94 2.06.94-2.06 2.06-.94-2.06-.94-.94-2.06-.94 2.06-2.06.94zm-11 1L8.5 8.5l.94-2.06 2.06-.94-2.06-.94L8.5 2.5l-.94 2.06-2.06.94zm10 10l.94 2.06.94-2.06 2.06-.94-2.06-.94-.94-2.06-.94 2.06-2.06.94z\"/><path d=\"M17.41 7.96l-1.37-1.37c-.4-.4-.92-.59-1.43-.59-.52 0-1.04.2-1.43.59L10.3 9.45l-7.72 7.72c-.78.78-.78 2.05 0 2.83L4 21.41c.39.39.9.59 1.41.59.51 0 1.02-.2 1.41-.59l7.78-7.78 2.81-2.81c.8-.78.8-2.07 0-2.86zM5.41 20L4 18.59l7.72-7.72 1.47 1.35L5.41 20z\"/>\n",
              "  </svg>\n",
              "      </button>\n",
              "      \n",
              "  <style>\n",
              "    .colab-df-container {\n",
              "      display:flex;\n",
              "      flex-wrap:wrap;\n",
              "      gap: 12px;\n",
              "    }\n",
              "\n",
              "    .colab-df-convert {\n",
              "      background-color: #E8F0FE;\n",
              "      border: none;\n",
              "      border-radius: 50%;\n",
              "      cursor: pointer;\n",
              "      display: none;\n",
              "      fill: #1967D2;\n",
              "      height: 32px;\n",
              "      padding: 0 0 0 0;\n",
              "      width: 32px;\n",
              "    }\n",
              "\n",
              "    .colab-df-convert:hover {\n",
              "      background-color: #E2EBFA;\n",
              "      box-shadow: 0px 1px 2px rgba(60, 64, 67, 0.3), 0px 1px 3px 1px rgba(60, 64, 67, 0.15);\n",
              "      fill: #174EA6;\n",
              "    }\n",
              "\n",
              "    [theme=dark] .colab-df-convert {\n",
              "      background-color: #3B4455;\n",
              "      fill: #D2E3FC;\n",
              "    }\n",
              "\n",
              "    [theme=dark] .colab-df-convert:hover {\n",
              "      background-color: #434B5C;\n",
              "      box-shadow: 0px 1px 3px 1px rgba(0, 0, 0, 0.15);\n",
              "      filter: drop-shadow(0px 1px 2px rgba(0, 0, 0, 0.3));\n",
              "      fill: #FFFFFF;\n",
              "    }\n",
              "  </style>\n",
              "\n",
              "      <script>\n",
              "        const buttonEl =\n",
              "          document.querySelector('#df-10d7dcbb-24f9-4ba6-be45-0c4dc77b0c24 button.colab-df-convert');\n",
              "        buttonEl.style.display =\n",
              "          google.colab.kernel.accessAllowed ? 'block' : 'none';\n",
              "\n",
              "        async function convertToInteractive(key) {\n",
              "          const element = document.querySelector('#df-10d7dcbb-24f9-4ba6-be45-0c4dc77b0c24');\n",
              "          const dataTable =\n",
              "            await google.colab.kernel.invokeFunction('convertToInteractive',\n",
              "                                                     [key], {});\n",
              "          if (!dataTable) return;\n",
              "\n",
              "          const docLinkHtml = 'Like what you see? Visit the ' +\n",
              "            '<a target=\"_blank\" href=https://colab.research.google.com/notebooks/data_table.ipynb>data table notebook</a>'\n",
              "            + ' to learn more about interactive tables.';\n",
              "          element.innerHTML = '';\n",
              "          dataTable['output_type'] = 'display_data';\n",
              "          await google.colab.output.renderOutput(dataTable, element);\n",
              "          const docLink = document.createElement('div');\n",
              "          docLink.innerHTML = docLinkHtml;\n",
              "          element.appendChild(docLink);\n",
              "        }\n",
              "      </script>\n",
              "    </div>\n",
              "  </div>\n",
              "  "
            ]
          },
          "metadata": {},
          "execution_count": 47
        }
      ],
      "source": [
        "recurring_hos1"
      ]
    },
    {
      "cell_type": "markdown",
      "metadata": {
        "id": "xdqT8l-e4UpJ"
      },
      "source": [
        "# WO"
      ]
    },
    {
      "cell_type": "code",
      "execution_count": 48,
      "metadata": {
        "id": "GQFzX9Pb4aJ9"
      },
      "outputs": [],
      "source": [
        "df6=(r\"/content/drive/MyDrive/Thesis_datasets/New-data-SoftPro/Hospitals1/wo.csv\")"
      ]
    },
    {
      "cell_type": "code",
      "execution_count": 49,
      "metadata": {
        "id": "pcsEIlFeM_Lu"
      },
      "outputs": [],
      "source": [
        "dic={'ID':'ID','AORegDat':'issued','AOKlarDat':'Completed','AOEKlarDat':'fin_com','InventarieID':'InventarieID'}"
      ]
    },
    {
      "cell_type": "code",
      "execution_count": 50,
      "metadata": {
        "id": "5n9pqO1K4gGS"
      },
      "outputs": [],
      "source": [
        "fin6=read_csv(df6,sep=';')"
      ]
    },
    {
      "cell_type": "code",
      "execution_count": 51,
      "metadata": {
        "id": "_Ut6ayGBOAW4"
      },
      "outputs": [],
      "source": [
        "fin6.rename(columns=dic,inplace=True)"
      ]
    },
    {
      "cell_type": "code",
      "execution_count": 52,
      "metadata": {
        "colab": {
          "base_uri": "https://localhost:8080/",
          "height": 0
        },
        "id": "-Bwvi4IUAONb",
        "outputId": "c1ca23d0-4677-4803-e3d4-cd16ef9136e3"
      },
      "outputs": [
        {
          "output_type": "execute_result",
          "data": {
            "text/plain": [
              "          ID                   issued                Completed  \\\n",
              "6     818112  2002-10-22 00:00:00.000  2002-10-21 00:00:00.000   \n",
              "1143  819249  2004-02-23 00:00:00.000  2004-02-23 00:00:00.000   \n",
              "1995  820015  2005-02-23 00:00:00.000  2005-02-25 00:00:00.000   \n",
              "\n",
              "                  AOEkKlarDat  InventarieID  \n",
              "6     2002-10-22 00:00:00.000      220059.0  \n",
              "1143  2004-02-23 00:00:00.000      220059.0  \n",
              "1995  2005-02-25 00:00:00.000      220059.0  "
            ],
            "text/html": [
              "\n",
              "  <div id=\"df-cfde6d0a-0a18-4848-a6f3-27b608d7df1d\">\n",
              "    <div class=\"colab-df-container\">\n",
              "      <div>\n",
              "<style scoped>\n",
              "    .dataframe tbody tr th:only-of-type {\n",
              "        vertical-align: middle;\n",
              "    }\n",
              "\n",
              "    .dataframe tbody tr th {\n",
              "        vertical-align: top;\n",
              "    }\n",
              "\n",
              "    .dataframe thead th {\n",
              "        text-align: right;\n",
              "    }\n",
              "</style>\n",
              "<table border=\"1\" class=\"dataframe\">\n",
              "  <thead>\n",
              "    <tr style=\"text-align: right;\">\n",
              "      <th></th>\n",
              "      <th>ID</th>\n",
              "      <th>issued</th>\n",
              "      <th>Completed</th>\n",
              "      <th>AOEkKlarDat</th>\n",
              "      <th>InventarieID</th>\n",
              "    </tr>\n",
              "  </thead>\n",
              "  <tbody>\n",
              "    <tr>\n",
              "      <th>6</th>\n",
              "      <td>818112</td>\n",
              "      <td>2002-10-22 00:00:00.000</td>\n",
              "      <td>2002-10-21 00:00:00.000</td>\n",
              "      <td>2002-10-22 00:00:00.000</td>\n",
              "      <td>220059.0</td>\n",
              "    </tr>\n",
              "    <tr>\n",
              "      <th>1143</th>\n",
              "      <td>819249</td>\n",
              "      <td>2004-02-23 00:00:00.000</td>\n",
              "      <td>2004-02-23 00:00:00.000</td>\n",
              "      <td>2004-02-23 00:00:00.000</td>\n",
              "      <td>220059.0</td>\n",
              "    </tr>\n",
              "    <tr>\n",
              "      <th>1995</th>\n",
              "      <td>820015</td>\n",
              "      <td>2005-02-23 00:00:00.000</td>\n",
              "      <td>2005-02-25 00:00:00.000</td>\n",
              "      <td>2005-02-25 00:00:00.000</td>\n",
              "      <td>220059.0</td>\n",
              "    </tr>\n",
              "  </tbody>\n",
              "</table>\n",
              "</div>\n",
              "      <button class=\"colab-df-convert\" onclick=\"convertToInteractive('df-cfde6d0a-0a18-4848-a6f3-27b608d7df1d')\"\n",
              "              title=\"Convert this dataframe to an interactive table.\"\n",
              "              style=\"display:none;\">\n",
              "        \n",
              "  <svg xmlns=\"http://www.w3.org/2000/svg\" height=\"24px\"viewBox=\"0 0 24 24\"\n",
              "       width=\"24px\">\n",
              "    <path d=\"M0 0h24v24H0V0z\" fill=\"none\"/>\n",
              "    <path d=\"M18.56 5.44l.94 2.06.94-2.06 2.06-.94-2.06-.94-.94-2.06-.94 2.06-2.06.94zm-11 1L8.5 8.5l.94-2.06 2.06-.94-2.06-.94L8.5 2.5l-.94 2.06-2.06.94zm10 10l.94 2.06.94-2.06 2.06-.94-2.06-.94-.94-2.06-.94 2.06-2.06.94z\"/><path d=\"M17.41 7.96l-1.37-1.37c-.4-.4-.92-.59-1.43-.59-.52 0-1.04.2-1.43.59L10.3 9.45l-7.72 7.72c-.78.78-.78 2.05 0 2.83L4 21.41c.39.39.9.59 1.41.59.51 0 1.02-.2 1.41-.59l7.78-7.78 2.81-2.81c.8-.78.8-2.07 0-2.86zM5.41 20L4 18.59l7.72-7.72 1.47 1.35L5.41 20z\"/>\n",
              "  </svg>\n",
              "      </button>\n",
              "      \n",
              "  <style>\n",
              "    .colab-df-container {\n",
              "      display:flex;\n",
              "      flex-wrap:wrap;\n",
              "      gap: 12px;\n",
              "    }\n",
              "\n",
              "    .colab-df-convert {\n",
              "      background-color: #E8F0FE;\n",
              "      border: none;\n",
              "      border-radius: 50%;\n",
              "      cursor: pointer;\n",
              "      display: none;\n",
              "      fill: #1967D2;\n",
              "      height: 32px;\n",
              "      padding: 0 0 0 0;\n",
              "      width: 32px;\n",
              "    }\n",
              "\n",
              "    .colab-df-convert:hover {\n",
              "      background-color: #E2EBFA;\n",
              "      box-shadow: 0px 1px 2px rgba(60, 64, 67, 0.3), 0px 1px 3px 1px rgba(60, 64, 67, 0.15);\n",
              "      fill: #174EA6;\n",
              "    }\n",
              "\n",
              "    [theme=dark] .colab-df-convert {\n",
              "      background-color: #3B4455;\n",
              "      fill: #D2E3FC;\n",
              "    }\n",
              "\n",
              "    [theme=dark] .colab-df-convert:hover {\n",
              "      background-color: #434B5C;\n",
              "      box-shadow: 0px 1px 3px 1px rgba(0, 0, 0, 0.15);\n",
              "      filter: drop-shadow(0px 1px 2px rgba(0, 0, 0, 0.3));\n",
              "      fill: #FFFFFF;\n",
              "    }\n",
              "  </style>\n",
              "\n",
              "      <script>\n",
              "        const buttonEl =\n",
              "          document.querySelector('#df-cfde6d0a-0a18-4848-a6f3-27b608d7df1d button.colab-df-convert');\n",
              "        buttonEl.style.display =\n",
              "          google.colab.kernel.accessAllowed ? 'block' : 'none';\n",
              "\n",
              "        async function convertToInteractive(key) {\n",
              "          const element = document.querySelector('#df-cfde6d0a-0a18-4848-a6f3-27b608d7df1d');\n",
              "          const dataTable =\n",
              "            await google.colab.kernel.invokeFunction('convertToInteractive',\n",
              "                                                     [key], {});\n",
              "          if (!dataTable) return;\n",
              "\n",
              "          const docLinkHtml = 'Like what you see? Visit the ' +\n",
              "            '<a target=\"_blank\" href=https://colab.research.google.com/notebooks/data_table.ipynb>data table notebook</a>'\n",
              "            + ' to learn more about interactive tables.';\n",
              "          element.innerHTML = '';\n",
              "          dataTable['output_type'] = 'display_data';\n",
              "          await google.colab.output.renderOutput(dataTable, element);\n",
              "          const docLink = document.createElement('div');\n",
              "          docLink.innerHTML = docLinkHtml;\n",
              "          element.appendChild(docLink);\n",
              "        }\n",
              "      </script>\n",
              "    </div>\n",
              "  </div>\n",
              "  "
            ]
          },
          "metadata": {},
          "execution_count": 52
        }
      ],
      "source": [
        "fin6.query(\"InventarieID==\t220059.0\")"
      ]
    },
    {
      "cell_type": "code",
      "execution_count": 53,
      "metadata": {
        "colab": {
          "base_uri": "https://localhost:8080/",
          "height": 0
        },
        "id": "useONue-4wKx",
        "outputId": "69a6446a-6c18-48ce-d3d0-9e40993ed4cf"
      },
      "outputs": [
        {
          "output_type": "execute_result",
          "data": {
            "text/plain": [
              "       ID                   issued                Completed  \\\n",
              "0  818106  2002-10-16 00:00:00.000  2002-10-16 00:00:00.000   \n",
              "1  818107  2002-10-16 00:00:00.000  2002-10-16 00:00:00.000   \n",
              "2  818108  2002-10-18 00:00:00.000  2002-10-18 00:00:00.000   \n",
              "3  818109  2002-10-21 00:00:00.000  2002-10-21 00:00:00.000   \n",
              "4  818110  2002-10-18 00:00:00.000  2002-10-21 00:00:00.000   \n",
              "5  818111  2002-10-17 00:00:00.000  2002-10-21 00:00:00.000   \n",
              "6  818112  2002-10-22 00:00:00.000  2002-10-21 00:00:00.000   \n",
              "7  818113  2002-10-22 00:00:00.000  2002-10-21 00:00:00.000   \n",
              "8  818114  2002-10-18 00:00:00.000  2002-10-21 00:00:00.000   \n",
              "9  818115  2002-10-18 00:00:00.000  2002-10-21 00:00:00.000   \n",
              "\n",
              "               AOEkKlarDat  InventarieID  \n",
              "0  2002-10-16 00:00:00.000           NaN  \n",
              "1  2002-10-16 00:00:00.000      216932.0  \n",
              "2  2002-10-31 00:00:00.000      217277.0  \n",
              "3  2002-10-21 00:00:00.000      217216.0  \n",
              "4  2002-10-22 00:00:00.000      219927.0  \n",
              "5  2002-10-22 00:00:00.000      218729.0  \n",
              "6  2002-10-22 00:00:00.000      220059.0  \n",
              "7  2002-10-22 00:00:00.000      220047.0  \n",
              "8  2002-10-22 00:00:00.000      216556.0  \n",
              "9  2002-10-22 00:00:00.000      218743.0  "
            ],
            "text/html": [
              "\n",
              "  <div id=\"df-3fd43f05-f588-46d4-b06b-d2c363aee909\">\n",
              "    <div class=\"colab-df-container\">\n",
              "      <div>\n",
              "<style scoped>\n",
              "    .dataframe tbody tr th:only-of-type {\n",
              "        vertical-align: middle;\n",
              "    }\n",
              "\n",
              "    .dataframe tbody tr th {\n",
              "        vertical-align: top;\n",
              "    }\n",
              "\n",
              "    .dataframe thead th {\n",
              "        text-align: right;\n",
              "    }\n",
              "</style>\n",
              "<table border=\"1\" class=\"dataframe\">\n",
              "  <thead>\n",
              "    <tr style=\"text-align: right;\">\n",
              "      <th></th>\n",
              "      <th>ID</th>\n",
              "      <th>issued</th>\n",
              "      <th>Completed</th>\n",
              "      <th>AOEkKlarDat</th>\n",
              "      <th>InventarieID</th>\n",
              "    </tr>\n",
              "  </thead>\n",
              "  <tbody>\n",
              "    <tr>\n",
              "      <th>0</th>\n",
              "      <td>818106</td>\n",
              "      <td>2002-10-16 00:00:00.000</td>\n",
              "      <td>2002-10-16 00:00:00.000</td>\n",
              "      <td>2002-10-16 00:00:00.000</td>\n",
              "      <td>NaN</td>\n",
              "    </tr>\n",
              "    <tr>\n",
              "      <th>1</th>\n",
              "      <td>818107</td>\n",
              "      <td>2002-10-16 00:00:00.000</td>\n",
              "      <td>2002-10-16 00:00:00.000</td>\n",
              "      <td>2002-10-16 00:00:00.000</td>\n",
              "      <td>216932.0</td>\n",
              "    </tr>\n",
              "    <tr>\n",
              "      <th>2</th>\n",
              "      <td>818108</td>\n",
              "      <td>2002-10-18 00:00:00.000</td>\n",
              "      <td>2002-10-18 00:00:00.000</td>\n",
              "      <td>2002-10-31 00:00:00.000</td>\n",
              "      <td>217277.0</td>\n",
              "    </tr>\n",
              "    <tr>\n",
              "      <th>3</th>\n",
              "      <td>818109</td>\n",
              "      <td>2002-10-21 00:00:00.000</td>\n",
              "      <td>2002-10-21 00:00:00.000</td>\n",
              "      <td>2002-10-21 00:00:00.000</td>\n",
              "      <td>217216.0</td>\n",
              "    </tr>\n",
              "    <tr>\n",
              "      <th>4</th>\n",
              "      <td>818110</td>\n",
              "      <td>2002-10-18 00:00:00.000</td>\n",
              "      <td>2002-10-21 00:00:00.000</td>\n",
              "      <td>2002-10-22 00:00:00.000</td>\n",
              "      <td>219927.0</td>\n",
              "    </tr>\n",
              "    <tr>\n",
              "      <th>5</th>\n",
              "      <td>818111</td>\n",
              "      <td>2002-10-17 00:00:00.000</td>\n",
              "      <td>2002-10-21 00:00:00.000</td>\n",
              "      <td>2002-10-22 00:00:00.000</td>\n",
              "      <td>218729.0</td>\n",
              "    </tr>\n",
              "    <tr>\n",
              "      <th>6</th>\n",
              "      <td>818112</td>\n",
              "      <td>2002-10-22 00:00:00.000</td>\n",
              "      <td>2002-10-21 00:00:00.000</td>\n",
              "      <td>2002-10-22 00:00:00.000</td>\n",
              "      <td>220059.0</td>\n",
              "    </tr>\n",
              "    <tr>\n",
              "      <th>7</th>\n",
              "      <td>818113</td>\n",
              "      <td>2002-10-22 00:00:00.000</td>\n",
              "      <td>2002-10-21 00:00:00.000</td>\n",
              "      <td>2002-10-22 00:00:00.000</td>\n",
              "      <td>220047.0</td>\n",
              "    </tr>\n",
              "    <tr>\n",
              "      <th>8</th>\n",
              "      <td>818114</td>\n",
              "      <td>2002-10-18 00:00:00.000</td>\n",
              "      <td>2002-10-21 00:00:00.000</td>\n",
              "      <td>2002-10-22 00:00:00.000</td>\n",
              "      <td>216556.0</td>\n",
              "    </tr>\n",
              "    <tr>\n",
              "      <th>9</th>\n",
              "      <td>818115</td>\n",
              "      <td>2002-10-18 00:00:00.000</td>\n",
              "      <td>2002-10-21 00:00:00.000</td>\n",
              "      <td>2002-10-22 00:00:00.000</td>\n",
              "      <td>218743.0</td>\n",
              "    </tr>\n",
              "  </tbody>\n",
              "</table>\n",
              "</div>\n",
              "      <button class=\"colab-df-convert\" onclick=\"convertToInteractive('df-3fd43f05-f588-46d4-b06b-d2c363aee909')\"\n",
              "              title=\"Convert this dataframe to an interactive table.\"\n",
              "              style=\"display:none;\">\n",
              "        \n",
              "  <svg xmlns=\"http://www.w3.org/2000/svg\" height=\"24px\"viewBox=\"0 0 24 24\"\n",
              "       width=\"24px\">\n",
              "    <path d=\"M0 0h24v24H0V0z\" fill=\"none\"/>\n",
              "    <path d=\"M18.56 5.44l.94 2.06.94-2.06 2.06-.94-2.06-.94-.94-2.06-.94 2.06-2.06.94zm-11 1L8.5 8.5l.94-2.06 2.06-.94-2.06-.94L8.5 2.5l-.94 2.06-2.06.94zm10 10l.94 2.06.94-2.06 2.06-.94-2.06-.94-.94-2.06-.94 2.06-2.06.94z\"/><path d=\"M17.41 7.96l-1.37-1.37c-.4-.4-.92-.59-1.43-.59-.52 0-1.04.2-1.43.59L10.3 9.45l-7.72 7.72c-.78.78-.78 2.05 0 2.83L4 21.41c.39.39.9.59 1.41.59.51 0 1.02-.2 1.41-.59l7.78-7.78 2.81-2.81c.8-.78.8-2.07 0-2.86zM5.41 20L4 18.59l7.72-7.72 1.47 1.35L5.41 20z\"/>\n",
              "  </svg>\n",
              "      </button>\n",
              "      \n",
              "  <style>\n",
              "    .colab-df-container {\n",
              "      display:flex;\n",
              "      flex-wrap:wrap;\n",
              "      gap: 12px;\n",
              "    }\n",
              "\n",
              "    .colab-df-convert {\n",
              "      background-color: #E8F0FE;\n",
              "      border: none;\n",
              "      border-radius: 50%;\n",
              "      cursor: pointer;\n",
              "      display: none;\n",
              "      fill: #1967D2;\n",
              "      height: 32px;\n",
              "      padding: 0 0 0 0;\n",
              "      width: 32px;\n",
              "    }\n",
              "\n",
              "    .colab-df-convert:hover {\n",
              "      background-color: #E2EBFA;\n",
              "      box-shadow: 0px 1px 2px rgba(60, 64, 67, 0.3), 0px 1px 3px 1px rgba(60, 64, 67, 0.15);\n",
              "      fill: #174EA6;\n",
              "    }\n",
              "\n",
              "    [theme=dark] .colab-df-convert {\n",
              "      background-color: #3B4455;\n",
              "      fill: #D2E3FC;\n",
              "    }\n",
              "\n",
              "    [theme=dark] .colab-df-convert:hover {\n",
              "      background-color: #434B5C;\n",
              "      box-shadow: 0px 1px 3px 1px rgba(0, 0, 0, 0.15);\n",
              "      filter: drop-shadow(0px 1px 2px rgba(0, 0, 0, 0.3));\n",
              "      fill: #FFFFFF;\n",
              "    }\n",
              "  </style>\n",
              "\n",
              "      <script>\n",
              "        const buttonEl =\n",
              "          document.querySelector('#df-3fd43f05-f588-46d4-b06b-d2c363aee909 button.colab-df-convert');\n",
              "        buttonEl.style.display =\n",
              "          google.colab.kernel.accessAllowed ? 'block' : 'none';\n",
              "\n",
              "        async function convertToInteractive(key) {\n",
              "          const element = document.querySelector('#df-3fd43f05-f588-46d4-b06b-d2c363aee909');\n",
              "          const dataTable =\n",
              "            await google.colab.kernel.invokeFunction('convertToInteractive',\n",
              "                                                     [key], {});\n",
              "          if (!dataTable) return;\n",
              "\n",
              "          const docLinkHtml = 'Like what you see? Visit the ' +\n",
              "            '<a target=\"_blank\" href=https://colab.research.google.com/notebooks/data_table.ipynb>data table notebook</a>'\n",
              "            + ' to learn more about interactive tables.';\n",
              "          element.innerHTML = '';\n",
              "          dataTable['output_type'] = 'display_data';\n",
              "          await google.colab.output.renderOutput(dataTable, element);\n",
              "          const docLink = document.createElement('div');\n",
              "          docLink.innerHTML = docLinkHtml;\n",
              "          element.appendChild(docLink);\n",
              "        }\n",
              "      </script>\n",
              "    </div>\n",
              "  </div>\n",
              "  "
            ]
          },
          "metadata": {},
          "execution_count": 53
        }
      ],
      "source": [
        "fin6.head(10)"
      ]
    },
    {
      "cell_type": "code",
      "execution_count": 54,
      "metadata": {
        "colab": {
          "base_uri": "https://localhost:8080/"
        },
        "id": "AgJRZttuPD5H",
        "outputId": "12d8ed33-6ffa-47a0-a518-078eddcd7841"
      },
      "outputs": [
        {
          "output_type": "execute_result",
          "data": {
            "text/plain": [
              "ID                   0\n",
              "issued               4\n",
              "Completed        21108\n",
              "AOEkKlarDat      23733\n",
              "InventarieID    344980\n",
              "dtype: int64"
            ]
          },
          "metadata": {},
          "execution_count": 54
        }
      ],
      "source": [
        "fin6.isnull().sum()"
      ]
    },
    {
      "cell_type": "code",
      "execution_count": 55,
      "metadata": {
        "id": "uFD5CdFIPOtG"
      },
      "outputs": [],
      "source": [
        "fin6.dropna(inplace=True)"
      ]
    },
    {
      "cell_type": "code",
      "execution_count": 56,
      "metadata": {
        "colab": {
          "base_uri": "https://localhost:8080/"
        },
        "id": "WMthOu6mLjZs",
        "outputId": "ab0a51de-babc-40b3-ca9f-78ce14020043"
      },
      "outputs": [
        {
          "output_type": "execute_result",
          "data": {
            "text/plain": [
              "(749942, 5)"
            ]
          },
          "metadata": {},
          "execution_count": 56
        }
      ],
      "source": [
        "fin6.shape"
      ]
    },
    {
      "cell_type": "code",
      "execution_count": 57,
      "metadata": {
        "id": "nr5TkiWwjRpD"
      },
      "outputs": [],
      "source": [
        "fin6.set_index('InventarieID',inplace=True,drop=False)"
      ]
    },
    {
      "cell_type": "code",
      "execution_count": 58,
      "metadata": {
        "colab": {
          "base_uri": "https://localhost:8080/",
          "height": 0
        },
        "id": "vtFWaTgijfAI",
        "outputId": "dcf88fca-0c11-4230-f8e0-228b2c5abca1"
      },
      "outputs": [
        {
          "output_type": "execute_result",
          "data": {
            "text/plain": [
              "                  ID                   issued                Completed  \\\n",
              "InventarieID                                                             \n",
              "216932.0      818107  2002-10-16 00:00:00.000  2002-10-16 00:00:00.000   \n",
              "217277.0      818108  2002-10-18 00:00:00.000  2002-10-18 00:00:00.000   \n",
              "217216.0      818109  2002-10-21 00:00:00.000  2002-10-21 00:00:00.000   \n",
              "\n",
              "                          AOEkKlarDat  InventarieID  \n",
              "InventarieID                                         \n",
              "216932.0      2002-10-16 00:00:00.000      216932.0  \n",
              "217277.0      2002-10-31 00:00:00.000      217277.0  \n",
              "217216.0      2002-10-21 00:00:00.000      217216.0  "
            ],
            "text/html": [
              "\n",
              "  <div id=\"df-1ce23dfa-7fe5-41c5-b323-98c583c1ce69\">\n",
              "    <div class=\"colab-df-container\">\n",
              "      <div>\n",
              "<style scoped>\n",
              "    .dataframe tbody tr th:only-of-type {\n",
              "        vertical-align: middle;\n",
              "    }\n",
              "\n",
              "    .dataframe tbody tr th {\n",
              "        vertical-align: top;\n",
              "    }\n",
              "\n",
              "    .dataframe thead th {\n",
              "        text-align: right;\n",
              "    }\n",
              "</style>\n",
              "<table border=\"1\" class=\"dataframe\">\n",
              "  <thead>\n",
              "    <tr style=\"text-align: right;\">\n",
              "      <th></th>\n",
              "      <th>ID</th>\n",
              "      <th>issued</th>\n",
              "      <th>Completed</th>\n",
              "      <th>AOEkKlarDat</th>\n",
              "      <th>InventarieID</th>\n",
              "    </tr>\n",
              "    <tr>\n",
              "      <th>InventarieID</th>\n",
              "      <th></th>\n",
              "      <th></th>\n",
              "      <th></th>\n",
              "      <th></th>\n",
              "      <th></th>\n",
              "    </tr>\n",
              "  </thead>\n",
              "  <tbody>\n",
              "    <tr>\n",
              "      <th>216932.0</th>\n",
              "      <td>818107</td>\n",
              "      <td>2002-10-16 00:00:00.000</td>\n",
              "      <td>2002-10-16 00:00:00.000</td>\n",
              "      <td>2002-10-16 00:00:00.000</td>\n",
              "      <td>216932.0</td>\n",
              "    </tr>\n",
              "    <tr>\n",
              "      <th>217277.0</th>\n",
              "      <td>818108</td>\n",
              "      <td>2002-10-18 00:00:00.000</td>\n",
              "      <td>2002-10-18 00:00:00.000</td>\n",
              "      <td>2002-10-31 00:00:00.000</td>\n",
              "      <td>217277.0</td>\n",
              "    </tr>\n",
              "    <tr>\n",
              "      <th>217216.0</th>\n",
              "      <td>818109</td>\n",
              "      <td>2002-10-21 00:00:00.000</td>\n",
              "      <td>2002-10-21 00:00:00.000</td>\n",
              "      <td>2002-10-21 00:00:00.000</td>\n",
              "      <td>217216.0</td>\n",
              "    </tr>\n",
              "  </tbody>\n",
              "</table>\n",
              "</div>\n",
              "      <button class=\"colab-df-convert\" onclick=\"convertToInteractive('df-1ce23dfa-7fe5-41c5-b323-98c583c1ce69')\"\n",
              "              title=\"Convert this dataframe to an interactive table.\"\n",
              "              style=\"display:none;\">\n",
              "        \n",
              "  <svg xmlns=\"http://www.w3.org/2000/svg\" height=\"24px\"viewBox=\"0 0 24 24\"\n",
              "       width=\"24px\">\n",
              "    <path d=\"M0 0h24v24H0V0z\" fill=\"none\"/>\n",
              "    <path d=\"M18.56 5.44l.94 2.06.94-2.06 2.06-.94-2.06-.94-.94-2.06-.94 2.06-2.06.94zm-11 1L8.5 8.5l.94-2.06 2.06-.94-2.06-.94L8.5 2.5l-.94 2.06-2.06.94zm10 10l.94 2.06.94-2.06 2.06-.94-2.06-.94-.94-2.06-.94 2.06-2.06.94z\"/><path d=\"M17.41 7.96l-1.37-1.37c-.4-.4-.92-.59-1.43-.59-.52 0-1.04.2-1.43.59L10.3 9.45l-7.72 7.72c-.78.78-.78 2.05 0 2.83L4 21.41c.39.39.9.59 1.41.59.51 0 1.02-.2 1.41-.59l7.78-7.78 2.81-2.81c.8-.78.8-2.07 0-2.86zM5.41 20L4 18.59l7.72-7.72 1.47 1.35L5.41 20z\"/>\n",
              "  </svg>\n",
              "      </button>\n",
              "      \n",
              "  <style>\n",
              "    .colab-df-container {\n",
              "      display:flex;\n",
              "      flex-wrap:wrap;\n",
              "      gap: 12px;\n",
              "    }\n",
              "\n",
              "    .colab-df-convert {\n",
              "      background-color: #E8F0FE;\n",
              "      border: none;\n",
              "      border-radius: 50%;\n",
              "      cursor: pointer;\n",
              "      display: none;\n",
              "      fill: #1967D2;\n",
              "      height: 32px;\n",
              "      padding: 0 0 0 0;\n",
              "      width: 32px;\n",
              "    }\n",
              "\n",
              "    .colab-df-convert:hover {\n",
              "      background-color: #E2EBFA;\n",
              "      box-shadow: 0px 1px 2px rgba(60, 64, 67, 0.3), 0px 1px 3px 1px rgba(60, 64, 67, 0.15);\n",
              "      fill: #174EA6;\n",
              "    }\n",
              "\n",
              "    [theme=dark] .colab-df-convert {\n",
              "      background-color: #3B4455;\n",
              "      fill: #D2E3FC;\n",
              "    }\n",
              "\n",
              "    [theme=dark] .colab-df-convert:hover {\n",
              "      background-color: #434B5C;\n",
              "      box-shadow: 0px 1px 3px 1px rgba(0, 0, 0, 0.15);\n",
              "      filter: drop-shadow(0px 1px 2px rgba(0, 0, 0, 0.3));\n",
              "      fill: #FFFFFF;\n",
              "    }\n",
              "  </style>\n",
              "\n",
              "      <script>\n",
              "        const buttonEl =\n",
              "          document.querySelector('#df-1ce23dfa-7fe5-41c5-b323-98c583c1ce69 button.colab-df-convert');\n",
              "        buttonEl.style.display =\n",
              "          google.colab.kernel.accessAllowed ? 'block' : 'none';\n",
              "\n",
              "        async function convertToInteractive(key) {\n",
              "          const element = document.querySelector('#df-1ce23dfa-7fe5-41c5-b323-98c583c1ce69');\n",
              "          const dataTable =\n",
              "            await google.colab.kernel.invokeFunction('convertToInteractive',\n",
              "                                                     [key], {});\n",
              "          if (!dataTable) return;\n",
              "\n",
              "          const docLinkHtml = 'Like what you see? Visit the ' +\n",
              "            '<a target=\"_blank\" href=https://colab.research.google.com/notebooks/data_table.ipynb>data table notebook</a>'\n",
              "            + ' to learn more about interactive tables.';\n",
              "          element.innerHTML = '';\n",
              "          dataTable['output_type'] = 'display_data';\n",
              "          await google.colab.output.renderOutput(dataTable, element);\n",
              "          const docLink = document.createElement('div');\n",
              "          docLink.innerHTML = docLinkHtml;\n",
              "          element.appendChild(docLink);\n",
              "        }\n",
              "      </script>\n",
              "    </div>\n",
              "  </div>\n",
              "  "
            ]
          },
          "metadata": {},
          "execution_count": 58
        }
      ],
      "source": [
        "fin6.head(3)"
      ]
    },
    {
      "cell_type": "code",
      "execution_count": 59,
      "metadata": {
        "id": "dTxqCo4Lr29b"
      },
      "outputs": [],
      "source": [
        "#sorting the dataframe based on the inventarieID descedning order\n",
        "fin6=fin6.sort_index()\n"
      ]
    },
    {
      "cell_type": "code",
      "execution_count": 60,
      "metadata": {
        "colab": {
          "base_uri": "https://localhost:8080/",
          "height": 0
        },
        "id": "7hfIUoApsUYK",
        "outputId": "3608bcff-7c2c-44ae-e6c8-886e6c14f724"
      },
      "outputs": [
        {
          "output_type": "execute_result",
          "data": {
            "text/plain": [
              "                  ID                   issued                Completed  \\\n",
              "InventarieID                                                             \n",
              "1365.0        599981  2015-09-14 00:00:00.000  2015-09-16 00:00:00.000   \n",
              "\n",
              "                          AOEkKlarDat  InventarieID  \n",
              "InventarieID                                         \n",
              "1365.0        2015-09-16 00:00:00.000        1365.0  "
            ],
            "text/html": [
              "\n",
              "  <div id=\"df-1008fc5c-376f-4595-b5eb-e9209c7e1a44\">\n",
              "    <div class=\"colab-df-container\">\n",
              "      <div>\n",
              "<style scoped>\n",
              "    .dataframe tbody tr th:only-of-type {\n",
              "        vertical-align: middle;\n",
              "    }\n",
              "\n",
              "    .dataframe tbody tr th {\n",
              "        vertical-align: top;\n",
              "    }\n",
              "\n",
              "    .dataframe thead th {\n",
              "        text-align: right;\n",
              "    }\n",
              "</style>\n",
              "<table border=\"1\" class=\"dataframe\">\n",
              "  <thead>\n",
              "    <tr style=\"text-align: right;\">\n",
              "      <th></th>\n",
              "      <th>ID</th>\n",
              "      <th>issued</th>\n",
              "      <th>Completed</th>\n",
              "      <th>AOEkKlarDat</th>\n",
              "      <th>InventarieID</th>\n",
              "    </tr>\n",
              "    <tr>\n",
              "      <th>InventarieID</th>\n",
              "      <th></th>\n",
              "      <th></th>\n",
              "      <th></th>\n",
              "      <th></th>\n",
              "      <th></th>\n",
              "    </tr>\n",
              "  </thead>\n",
              "  <tbody>\n",
              "    <tr>\n",
              "      <th>1365.0</th>\n",
              "      <td>599981</td>\n",
              "      <td>2015-09-14 00:00:00.000</td>\n",
              "      <td>2015-09-16 00:00:00.000</td>\n",
              "      <td>2015-09-16 00:00:00.000</td>\n",
              "      <td>1365.0</td>\n",
              "    </tr>\n",
              "  </tbody>\n",
              "</table>\n",
              "</div>\n",
              "      <button class=\"colab-df-convert\" onclick=\"convertToInteractive('df-1008fc5c-376f-4595-b5eb-e9209c7e1a44')\"\n",
              "              title=\"Convert this dataframe to an interactive table.\"\n",
              "              style=\"display:none;\">\n",
              "        \n",
              "  <svg xmlns=\"http://www.w3.org/2000/svg\" height=\"24px\"viewBox=\"0 0 24 24\"\n",
              "       width=\"24px\">\n",
              "    <path d=\"M0 0h24v24H0V0z\" fill=\"none\"/>\n",
              "    <path d=\"M18.56 5.44l.94 2.06.94-2.06 2.06-.94-2.06-.94-.94-2.06-.94 2.06-2.06.94zm-11 1L8.5 8.5l.94-2.06 2.06-.94-2.06-.94L8.5 2.5l-.94 2.06-2.06.94zm10 10l.94 2.06.94-2.06 2.06-.94-2.06-.94-.94-2.06-.94 2.06-2.06.94z\"/><path d=\"M17.41 7.96l-1.37-1.37c-.4-.4-.92-.59-1.43-.59-.52 0-1.04.2-1.43.59L10.3 9.45l-7.72 7.72c-.78.78-.78 2.05 0 2.83L4 21.41c.39.39.9.59 1.41.59.51 0 1.02-.2 1.41-.59l7.78-7.78 2.81-2.81c.8-.78.8-2.07 0-2.86zM5.41 20L4 18.59l7.72-7.72 1.47 1.35L5.41 20z\"/>\n",
              "  </svg>\n",
              "      </button>\n",
              "      \n",
              "  <style>\n",
              "    .colab-df-container {\n",
              "      display:flex;\n",
              "      flex-wrap:wrap;\n",
              "      gap: 12px;\n",
              "    }\n",
              "\n",
              "    .colab-df-convert {\n",
              "      background-color: #E8F0FE;\n",
              "      border: none;\n",
              "      border-radius: 50%;\n",
              "      cursor: pointer;\n",
              "      display: none;\n",
              "      fill: #1967D2;\n",
              "      height: 32px;\n",
              "      padding: 0 0 0 0;\n",
              "      width: 32px;\n",
              "    }\n",
              "\n",
              "    .colab-df-convert:hover {\n",
              "      background-color: #E2EBFA;\n",
              "      box-shadow: 0px 1px 2px rgba(60, 64, 67, 0.3), 0px 1px 3px 1px rgba(60, 64, 67, 0.15);\n",
              "      fill: #174EA6;\n",
              "    }\n",
              "\n",
              "    [theme=dark] .colab-df-convert {\n",
              "      background-color: #3B4455;\n",
              "      fill: #D2E3FC;\n",
              "    }\n",
              "\n",
              "    [theme=dark] .colab-df-convert:hover {\n",
              "      background-color: #434B5C;\n",
              "      box-shadow: 0px 1px 3px 1px rgba(0, 0, 0, 0.15);\n",
              "      filter: drop-shadow(0px 1px 2px rgba(0, 0, 0, 0.3));\n",
              "      fill: #FFFFFF;\n",
              "    }\n",
              "  </style>\n",
              "\n",
              "      <script>\n",
              "        const buttonEl =\n",
              "          document.querySelector('#df-1008fc5c-376f-4595-b5eb-e9209c7e1a44 button.colab-df-convert');\n",
              "        buttonEl.style.display =\n",
              "          google.colab.kernel.accessAllowed ? 'block' : 'none';\n",
              "\n",
              "        async function convertToInteractive(key) {\n",
              "          const element = document.querySelector('#df-1008fc5c-376f-4595-b5eb-e9209c7e1a44');\n",
              "          const dataTable =\n",
              "            await google.colab.kernel.invokeFunction('convertToInteractive',\n",
              "                                                     [key], {});\n",
              "          if (!dataTable) return;\n",
              "\n",
              "          const docLinkHtml = 'Like what you see? Visit the ' +\n",
              "            '<a target=\"_blank\" href=https://colab.research.google.com/notebooks/data_table.ipynb>data table notebook</a>'\n",
              "            + ' to learn more about interactive tables.';\n",
              "          element.innerHTML = '';\n",
              "          dataTable['output_type'] = 'display_data';\n",
              "          await google.colab.output.renderOutput(dataTable, element);\n",
              "          const docLink = document.createElement('div');\n",
              "          docLink.innerHTML = docLinkHtml;\n",
              "          element.appendChild(docLink);\n",
              "        }\n",
              "      </script>\n",
              "    </div>\n",
              "  </div>\n",
              "  "
            ]
          },
          "metadata": {},
          "execution_count": 60
        }
      ],
      "source": [
        "fin6.iloc[[101]]"
      ]
    },
    {
      "cell_type": "markdown",
      "metadata": {
        "id": "6LOqYCPP2yQE"
      },
      "source": [
        "# **wo data**"
      ]
    },
    {
      "cell_type": "code",
      "execution_count": 61,
      "metadata": {
        "id": "12CvdEid2xuI"
      },
      "outputs": [],
      "source": [
        "df7=(r\"/content/drive/MyDrive/Thesis_datasets/New-data-SoftPro/Hospitals1/WO_data.csv\")"
      ]
    },
    {
      "cell_type": "code",
      "execution_count": 62,
      "metadata": {
        "id": "njx5WjHV6SzN"
      },
      "outputs": [],
      "source": [
        "fin7=pd.read_csv(df7,sep=';',names=['inventarieID','last_wo','first_wo','Count_wo','meantime'])\n"
      ]
    },
    {
      "cell_type": "code",
      "execution_count": 63,
      "metadata": {
        "colab": {
          "base_uri": "https://localhost:8080/",
          "height": 0
        },
        "id": "ybQjxPr_7F4B",
        "outputId": "8f74448d-0f9a-45a2-d63d-a3693d6450e3"
      },
      "outputs": [
        {
          "output_type": "execute_result",
          "data": {
            "text/plain": [
              "   inventarieID     last_wo    first_wo  Count_wo  meantime\n",
              "0      119121.0  2017-05-09  2010-11-03         4       594\n",
              "1      232669.0  2012-06-14  2012-06-14         1         0\n",
              "2      140369.0  2013-08-20  2013-08-20         1         0"
            ],
            "text/html": [
              "\n",
              "  <div id=\"df-d6715ec0-19b2-4076-a470-83849940fa5b\">\n",
              "    <div class=\"colab-df-container\">\n",
              "      <div>\n",
              "<style scoped>\n",
              "    .dataframe tbody tr th:only-of-type {\n",
              "        vertical-align: middle;\n",
              "    }\n",
              "\n",
              "    .dataframe tbody tr th {\n",
              "        vertical-align: top;\n",
              "    }\n",
              "\n",
              "    .dataframe thead th {\n",
              "        text-align: right;\n",
              "    }\n",
              "</style>\n",
              "<table border=\"1\" class=\"dataframe\">\n",
              "  <thead>\n",
              "    <tr style=\"text-align: right;\">\n",
              "      <th></th>\n",
              "      <th>inventarieID</th>\n",
              "      <th>last_wo</th>\n",
              "      <th>first_wo</th>\n",
              "      <th>Count_wo</th>\n",
              "      <th>meantime</th>\n",
              "    </tr>\n",
              "  </thead>\n",
              "  <tbody>\n",
              "    <tr>\n",
              "      <th>0</th>\n",
              "      <td>119121.0</td>\n",
              "      <td>2017-05-09</td>\n",
              "      <td>2010-11-03</td>\n",
              "      <td>4</td>\n",
              "      <td>594</td>\n",
              "    </tr>\n",
              "    <tr>\n",
              "      <th>1</th>\n",
              "      <td>232669.0</td>\n",
              "      <td>2012-06-14</td>\n",
              "      <td>2012-06-14</td>\n",
              "      <td>1</td>\n",
              "      <td>0</td>\n",
              "    </tr>\n",
              "    <tr>\n",
              "      <th>2</th>\n",
              "      <td>140369.0</td>\n",
              "      <td>2013-08-20</td>\n",
              "      <td>2013-08-20</td>\n",
              "      <td>1</td>\n",
              "      <td>0</td>\n",
              "    </tr>\n",
              "  </tbody>\n",
              "</table>\n",
              "</div>\n",
              "      <button class=\"colab-df-convert\" onclick=\"convertToInteractive('df-d6715ec0-19b2-4076-a470-83849940fa5b')\"\n",
              "              title=\"Convert this dataframe to an interactive table.\"\n",
              "              style=\"display:none;\">\n",
              "        \n",
              "  <svg xmlns=\"http://www.w3.org/2000/svg\" height=\"24px\"viewBox=\"0 0 24 24\"\n",
              "       width=\"24px\">\n",
              "    <path d=\"M0 0h24v24H0V0z\" fill=\"none\"/>\n",
              "    <path d=\"M18.56 5.44l.94 2.06.94-2.06 2.06-.94-2.06-.94-.94-2.06-.94 2.06-2.06.94zm-11 1L8.5 8.5l.94-2.06 2.06-.94-2.06-.94L8.5 2.5l-.94 2.06-2.06.94zm10 10l.94 2.06.94-2.06 2.06-.94-2.06-.94-.94-2.06-.94 2.06-2.06.94z\"/><path d=\"M17.41 7.96l-1.37-1.37c-.4-.4-.92-.59-1.43-.59-.52 0-1.04.2-1.43.59L10.3 9.45l-7.72 7.72c-.78.78-.78 2.05 0 2.83L4 21.41c.39.39.9.59 1.41.59.51 0 1.02-.2 1.41-.59l7.78-7.78 2.81-2.81c.8-.78.8-2.07 0-2.86zM5.41 20L4 18.59l7.72-7.72 1.47 1.35L5.41 20z\"/>\n",
              "  </svg>\n",
              "      </button>\n",
              "      \n",
              "  <style>\n",
              "    .colab-df-container {\n",
              "      display:flex;\n",
              "      flex-wrap:wrap;\n",
              "      gap: 12px;\n",
              "    }\n",
              "\n",
              "    .colab-df-convert {\n",
              "      background-color: #E8F0FE;\n",
              "      border: none;\n",
              "      border-radius: 50%;\n",
              "      cursor: pointer;\n",
              "      display: none;\n",
              "      fill: #1967D2;\n",
              "      height: 32px;\n",
              "      padding: 0 0 0 0;\n",
              "      width: 32px;\n",
              "    }\n",
              "\n",
              "    .colab-df-convert:hover {\n",
              "      background-color: #E2EBFA;\n",
              "      box-shadow: 0px 1px 2px rgba(60, 64, 67, 0.3), 0px 1px 3px 1px rgba(60, 64, 67, 0.15);\n",
              "      fill: #174EA6;\n",
              "    }\n",
              "\n",
              "    [theme=dark] .colab-df-convert {\n",
              "      background-color: #3B4455;\n",
              "      fill: #D2E3FC;\n",
              "    }\n",
              "\n",
              "    [theme=dark] .colab-df-convert:hover {\n",
              "      background-color: #434B5C;\n",
              "      box-shadow: 0px 1px 3px 1px rgba(0, 0, 0, 0.15);\n",
              "      filter: drop-shadow(0px 1px 2px rgba(0, 0, 0, 0.3));\n",
              "      fill: #FFFFFF;\n",
              "    }\n",
              "  </style>\n",
              "\n",
              "      <script>\n",
              "        const buttonEl =\n",
              "          document.querySelector('#df-d6715ec0-19b2-4076-a470-83849940fa5b button.colab-df-convert');\n",
              "        buttonEl.style.display =\n",
              "          google.colab.kernel.accessAllowed ? 'block' : 'none';\n",
              "\n",
              "        async function convertToInteractive(key) {\n",
              "          const element = document.querySelector('#df-d6715ec0-19b2-4076-a470-83849940fa5b');\n",
              "          const dataTable =\n",
              "            await google.colab.kernel.invokeFunction('convertToInteractive',\n",
              "                                                     [key], {});\n",
              "          if (!dataTable) return;\n",
              "\n",
              "          const docLinkHtml = 'Like what you see? Visit the ' +\n",
              "            '<a target=\"_blank\" href=https://colab.research.google.com/notebooks/data_table.ipynb>data table notebook</a>'\n",
              "            + ' to learn more about interactive tables.';\n",
              "          element.innerHTML = '';\n",
              "          dataTable['output_type'] = 'display_data';\n",
              "          await google.colab.output.renderOutput(dataTable, element);\n",
              "          const docLink = document.createElement('div');\n",
              "          docLink.innerHTML = docLinkHtml;\n",
              "          element.appendChild(docLink);\n",
              "        }\n",
              "      </script>\n",
              "    </div>\n",
              "  </div>\n",
              "  "
            ]
          },
          "metadata": {},
          "execution_count": 63
        }
      ],
      "source": [
        "fin7.head(3)"
      ]
    },
    {
      "cell_type": "code",
      "execution_count": 64,
      "metadata": {
        "id": "yFtAS6gMVMsc"
      },
      "outputs": [],
      "source": [
        "fin7.dropna(inplace=True)"
      ]
    },
    {
      "cell_type": "code",
      "execution_count": 65,
      "metadata": {
        "colab": {
          "base_uri": "https://localhost:8080/"
        },
        "id": "t4x8la3dVVse",
        "outputId": "8c1d39c5-446f-45a9-f359-e50b994fe733"
      },
      "outputs": [
        {
          "output_type": "execute_result",
          "data": {
            "text/plain": [
              "(126982, 5)"
            ]
          },
          "metadata": {},
          "execution_count": 65
        }
      ],
      "source": [
        "fin7.shape"
      ]
    },
    {
      "cell_type": "code",
      "execution_count": 66,
      "metadata": {
        "id": "SXcMCA0jjmu2"
      },
      "outputs": [],
      "source": [
        "fin7.set_index('inventarieID',inplace=True,drop=False)"
      ]
    },
    {
      "cell_type": "code",
      "execution_count": 67,
      "metadata": {
        "colab": {
          "base_uri": "https://localhost:8080/",
          "height": 0
        },
        "id": "H--8Km8rjzuT",
        "outputId": "54819921-fa3c-441d-9d94-fc71544b34c4"
      },
      "outputs": [
        {
          "output_type": "execute_result",
          "data": {
            "text/plain": [
              "              inventarieID     last_wo    first_wo  Count_wo  meantime\n",
              "inventarieID                                                          \n",
              "119121.0          119121.0  2017-05-09  2010-11-03         4       594\n",
              "232669.0          232669.0  2012-06-14  2012-06-14         1         0\n",
              "140369.0          140369.0  2013-08-20  2013-08-20         1         0"
            ],
            "text/html": [
              "\n",
              "  <div id=\"df-f8e238b0-0daf-4d58-ab6d-621de517f734\">\n",
              "    <div class=\"colab-df-container\">\n",
              "      <div>\n",
              "<style scoped>\n",
              "    .dataframe tbody tr th:only-of-type {\n",
              "        vertical-align: middle;\n",
              "    }\n",
              "\n",
              "    .dataframe tbody tr th {\n",
              "        vertical-align: top;\n",
              "    }\n",
              "\n",
              "    .dataframe thead th {\n",
              "        text-align: right;\n",
              "    }\n",
              "</style>\n",
              "<table border=\"1\" class=\"dataframe\">\n",
              "  <thead>\n",
              "    <tr style=\"text-align: right;\">\n",
              "      <th></th>\n",
              "      <th>inventarieID</th>\n",
              "      <th>last_wo</th>\n",
              "      <th>first_wo</th>\n",
              "      <th>Count_wo</th>\n",
              "      <th>meantime</th>\n",
              "    </tr>\n",
              "    <tr>\n",
              "      <th>inventarieID</th>\n",
              "      <th></th>\n",
              "      <th></th>\n",
              "      <th></th>\n",
              "      <th></th>\n",
              "      <th></th>\n",
              "    </tr>\n",
              "  </thead>\n",
              "  <tbody>\n",
              "    <tr>\n",
              "      <th>119121.0</th>\n",
              "      <td>119121.0</td>\n",
              "      <td>2017-05-09</td>\n",
              "      <td>2010-11-03</td>\n",
              "      <td>4</td>\n",
              "      <td>594</td>\n",
              "    </tr>\n",
              "    <tr>\n",
              "      <th>232669.0</th>\n",
              "      <td>232669.0</td>\n",
              "      <td>2012-06-14</td>\n",
              "      <td>2012-06-14</td>\n",
              "      <td>1</td>\n",
              "      <td>0</td>\n",
              "    </tr>\n",
              "    <tr>\n",
              "      <th>140369.0</th>\n",
              "      <td>140369.0</td>\n",
              "      <td>2013-08-20</td>\n",
              "      <td>2013-08-20</td>\n",
              "      <td>1</td>\n",
              "      <td>0</td>\n",
              "    </tr>\n",
              "  </tbody>\n",
              "</table>\n",
              "</div>\n",
              "      <button class=\"colab-df-convert\" onclick=\"convertToInteractive('df-f8e238b0-0daf-4d58-ab6d-621de517f734')\"\n",
              "              title=\"Convert this dataframe to an interactive table.\"\n",
              "              style=\"display:none;\">\n",
              "        \n",
              "  <svg xmlns=\"http://www.w3.org/2000/svg\" height=\"24px\"viewBox=\"0 0 24 24\"\n",
              "       width=\"24px\">\n",
              "    <path d=\"M0 0h24v24H0V0z\" fill=\"none\"/>\n",
              "    <path d=\"M18.56 5.44l.94 2.06.94-2.06 2.06-.94-2.06-.94-.94-2.06-.94 2.06-2.06.94zm-11 1L8.5 8.5l.94-2.06 2.06-.94-2.06-.94L8.5 2.5l-.94 2.06-2.06.94zm10 10l.94 2.06.94-2.06 2.06-.94-2.06-.94-.94-2.06-.94 2.06-2.06.94z\"/><path d=\"M17.41 7.96l-1.37-1.37c-.4-.4-.92-.59-1.43-.59-.52 0-1.04.2-1.43.59L10.3 9.45l-7.72 7.72c-.78.78-.78 2.05 0 2.83L4 21.41c.39.39.9.59 1.41.59.51 0 1.02-.2 1.41-.59l7.78-7.78 2.81-2.81c.8-.78.8-2.07 0-2.86zM5.41 20L4 18.59l7.72-7.72 1.47 1.35L5.41 20z\"/>\n",
              "  </svg>\n",
              "      </button>\n",
              "      \n",
              "  <style>\n",
              "    .colab-df-container {\n",
              "      display:flex;\n",
              "      flex-wrap:wrap;\n",
              "      gap: 12px;\n",
              "    }\n",
              "\n",
              "    .colab-df-convert {\n",
              "      background-color: #E8F0FE;\n",
              "      border: none;\n",
              "      border-radius: 50%;\n",
              "      cursor: pointer;\n",
              "      display: none;\n",
              "      fill: #1967D2;\n",
              "      height: 32px;\n",
              "      padding: 0 0 0 0;\n",
              "      width: 32px;\n",
              "    }\n",
              "\n",
              "    .colab-df-convert:hover {\n",
              "      background-color: #E2EBFA;\n",
              "      box-shadow: 0px 1px 2px rgba(60, 64, 67, 0.3), 0px 1px 3px 1px rgba(60, 64, 67, 0.15);\n",
              "      fill: #174EA6;\n",
              "    }\n",
              "\n",
              "    [theme=dark] .colab-df-convert {\n",
              "      background-color: #3B4455;\n",
              "      fill: #D2E3FC;\n",
              "    }\n",
              "\n",
              "    [theme=dark] .colab-df-convert:hover {\n",
              "      background-color: #434B5C;\n",
              "      box-shadow: 0px 1px 3px 1px rgba(0, 0, 0, 0.15);\n",
              "      filter: drop-shadow(0px 1px 2px rgba(0, 0, 0, 0.3));\n",
              "      fill: #FFFFFF;\n",
              "    }\n",
              "  </style>\n",
              "\n",
              "      <script>\n",
              "        const buttonEl =\n",
              "          document.querySelector('#df-f8e238b0-0daf-4d58-ab6d-621de517f734 button.colab-df-convert');\n",
              "        buttonEl.style.display =\n",
              "          google.colab.kernel.accessAllowed ? 'block' : 'none';\n",
              "\n",
              "        async function convertToInteractive(key) {\n",
              "          const element = document.querySelector('#df-f8e238b0-0daf-4d58-ab6d-621de517f734');\n",
              "          const dataTable =\n",
              "            await google.colab.kernel.invokeFunction('convertToInteractive',\n",
              "                                                     [key], {});\n",
              "          if (!dataTable) return;\n",
              "\n",
              "          const docLinkHtml = 'Like what you see? Visit the ' +\n",
              "            '<a target=\"_blank\" href=https://colab.research.google.com/notebooks/data_table.ipynb>data table notebook</a>'\n",
              "            + ' to learn more about interactive tables.';\n",
              "          element.innerHTML = '';\n",
              "          dataTable['output_type'] = 'display_data';\n",
              "          await google.colab.output.renderOutput(dataTable, element);\n",
              "          const docLink = document.createElement('div');\n",
              "          docLink.innerHTML = docLinkHtml;\n",
              "          element.appendChild(docLink);\n",
              "        }\n",
              "      </script>\n",
              "    </div>\n",
              "  </div>\n",
              "  "
            ]
          },
          "metadata": {},
          "execution_count": 67
        }
      ],
      "source": [
        "fin7.head(3)"
      ]
    },
    {
      "cell_type": "code",
      "execution_count": 67,
      "metadata": {
        "id": "DH06MFG6nWQi"
      },
      "outputs": [],
      "source": []
    },
    {
      "cell_type": "markdown",
      "metadata": {
        "id": "eehY9Ti-JRNZ"
      },
      "source": [
        "# **Connecting recurring hospital pm history data with equipment data to query based on specific devices**"
      ]
    },
    {
      "cell_type": "code",
      "execution_count": 68,
      "metadata": {
        "id": "zN_eR6ySN7c1"
      },
      "outputs": [],
      "source": [
        "recurring_hos1.set_index('InventarierID',inplace=True,drop=False)"
      ]
    },
    {
      "cell_type": "code",
      "execution_count": 69,
      "metadata": {
        "colab": {
          "base_uri": "https://localhost:8080/",
          "height": 325
        },
        "id": "LWh08uAFPbi2",
        "outputId": "420925a7-66e0-4c8b-c0e5-07eea841c5e0"
      },
      "outputs": [
        {
          "output_type": "execute_result",
          "data": {
            "text/plain": [
              "              (No column name)     ID  intTimeInterval  PM_TimeIntervalUnitID  \\\n",
              "InventarierID                                                                   \n",
              "65129               2011-04-03  27837             24.0                    2.0   \n",
              "65375               2011-04-03  28001             24.0                    2.0   \n",
              "65657               2011-04-03  28245             12.0                    2.0   \n",
              "\n",
              "               PM_TimeIntervalUnitIDRecommended  InventarierID  ArborderID  \\\n",
              "InventarierID                                                                \n",
              "65129                                       NaN          65129         NaN   \n",
              "65375                                       NaN          65375         NaN   \n",
              "65657                                       NaN          65657         NaN   \n",
              "\n",
              "               DeviatingTimeIntervalRecommended  PM_diff  \n",
              "InventarierID                                             \n",
              "65129                                         1     3579  \n",
              "65375                                         1     2573  \n",
              "65657                                         1     2823  "
            ],
            "text/html": [
              "\n",
              "  <div id=\"df-f08c8f57-a56f-4854-8a3f-8d5ae5fe2444\">\n",
              "    <div class=\"colab-df-container\">\n",
              "      <div>\n",
              "<style scoped>\n",
              "    .dataframe tbody tr th:only-of-type {\n",
              "        vertical-align: middle;\n",
              "    }\n",
              "\n",
              "    .dataframe tbody tr th {\n",
              "        vertical-align: top;\n",
              "    }\n",
              "\n",
              "    .dataframe thead th {\n",
              "        text-align: right;\n",
              "    }\n",
              "</style>\n",
              "<table border=\"1\" class=\"dataframe\">\n",
              "  <thead>\n",
              "    <tr style=\"text-align: right;\">\n",
              "      <th></th>\n",
              "      <th>(No column name)</th>\n",
              "      <th>ID</th>\n",
              "      <th>intTimeInterval</th>\n",
              "      <th>PM_TimeIntervalUnitID</th>\n",
              "      <th>PM_TimeIntervalUnitIDRecommended</th>\n",
              "      <th>InventarierID</th>\n",
              "      <th>ArborderID</th>\n",
              "      <th>DeviatingTimeIntervalRecommended</th>\n",
              "      <th>PM_diff</th>\n",
              "    </tr>\n",
              "    <tr>\n",
              "      <th>InventarierID</th>\n",
              "      <th></th>\n",
              "      <th></th>\n",
              "      <th></th>\n",
              "      <th></th>\n",
              "      <th></th>\n",
              "      <th></th>\n",
              "      <th></th>\n",
              "      <th></th>\n",
              "      <th></th>\n",
              "    </tr>\n",
              "  </thead>\n",
              "  <tbody>\n",
              "    <tr>\n",
              "      <th>65129</th>\n",
              "      <td>2011-04-03</td>\n",
              "      <td>27837</td>\n",
              "      <td>24.0</td>\n",
              "      <td>2.0</td>\n",
              "      <td>NaN</td>\n",
              "      <td>65129</td>\n",
              "      <td>NaN</td>\n",
              "      <td>1</td>\n",
              "      <td>3579</td>\n",
              "    </tr>\n",
              "    <tr>\n",
              "      <th>65375</th>\n",
              "      <td>2011-04-03</td>\n",
              "      <td>28001</td>\n",
              "      <td>24.0</td>\n",
              "      <td>2.0</td>\n",
              "      <td>NaN</td>\n",
              "      <td>65375</td>\n",
              "      <td>NaN</td>\n",
              "      <td>1</td>\n",
              "      <td>2573</td>\n",
              "    </tr>\n",
              "    <tr>\n",
              "      <th>65657</th>\n",
              "      <td>2011-04-03</td>\n",
              "      <td>28245</td>\n",
              "      <td>12.0</td>\n",
              "      <td>2.0</td>\n",
              "      <td>NaN</td>\n",
              "      <td>65657</td>\n",
              "      <td>NaN</td>\n",
              "      <td>1</td>\n",
              "      <td>2823</td>\n",
              "    </tr>\n",
              "  </tbody>\n",
              "</table>\n",
              "</div>\n",
              "      <button class=\"colab-df-convert\" onclick=\"convertToInteractive('df-f08c8f57-a56f-4854-8a3f-8d5ae5fe2444')\"\n",
              "              title=\"Convert this dataframe to an interactive table.\"\n",
              "              style=\"display:none;\">\n",
              "        \n",
              "  <svg xmlns=\"http://www.w3.org/2000/svg\" height=\"24px\"viewBox=\"0 0 24 24\"\n",
              "       width=\"24px\">\n",
              "    <path d=\"M0 0h24v24H0V0z\" fill=\"none\"/>\n",
              "    <path d=\"M18.56 5.44l.94 2.06.94-2.06 2.06-.94-2.06-.94-.94-2.06-.94 2.06-2.06.94zm-11 1L8.5 8.5l.94-2.06 2.06-.94-2.06-.94L8.5 2.5l-.94 2.06-2.06.94zm10 10l.94 2.06.94-2.06 2.06-.94-2.06-.94-.94-2.06-.94 2.06-2.06.94z\"/><path d=\"M17.41 7.96l-1.37-1.37c-.4-.4-.92-.59-1.43-.59-.52 0-1.04.2-1.43.59L10.3 9.45l-7.72 7.72c-.78.78-.78 2.05 0 2.83L4 21.41c.39.39.9.59 1.41.59.51 0 1.02-.2 1.41-.59l7.78-7.78 2.81-2.81c.8-.78.8-2.07 0-2.86zM5.41 20L4 18.59l7.72-7.72 1.47 1.35L5.41 20z\"/>\n",
              "  </svg>\n",
              "      </button>\n",
              "      \n",
              "  <style>\n",
              "    .colab-df-container {\n",
              "      display:flex;\n",
              "      flex-wrap:wrap;\n",
              "      gap: 12px;\n",
              "    }\n",
              "\n",
              "    .colab-df-convert {\n",
              "      background-color: #E8F0FE;\n",
              "      border: none;\n",
              "      border-radius: 50%;\n",
              "      cursor: pointer;\n",
              "      display: none;\n",
              "      fill: #1967D2;\n",
              "      height: 32px;\n",
              "      padding: 0 0 0 0;\n",
              "      width: 32px;\n",
              "    }\n",
              "\n",
              "    .colab-df-convert:hover {\n",
              "      background-color: #E2EBFA;\n",
              "      box-shadow: 0px 1px 2px rgba(60, 64, 67, 0.3), 0px 1px 3px 1px rgba(60, 64, 67, 0.15);\n",
              "      fill: #174EA6;\n",
              "    }\n",
              "\n",
              "    [theme=dark] .colab-df-convert {\n",
              "      background-color: #3B4455;\n",
              "      fill: #D2E3FC;\n",
              "    }\n",
              "\n",
              "    [theme=dark] .colab-df-convert:hover {\n",
              "      background-color: #434B5C;\n",
              "      box-shadow: 0px 1px 3px 1px rgba(0, 0, 0, 0.15);\n",
              "      filter: drop-shadow(0px 1px 2px rgba(0, 0, 0, 0.3));\n",
              "      fill: #FFFFFF;\n",
              "    }\n",
              "  </style>\n",
              "\n",
              "      <script>\n",
              "        const buttonEl =\n",
              "          document.querySelector('#df-f08c8f57-a56f-4854-8a3f-8d5ae5fe2444 button.colab-df-convert');\n",
              "        buttonEl.style.display =\n",
              "          google.colab.kernel.accessAllowed ? 'block' : 'none';\n",
              "\n",
              "        async function convertToInteractive(key) {\n",
              "          const element = document.querySelector('#df-f08c8f57-a56f-4854-8a3f-8d5ae5fe2444');\n",
              "          const dataTable =\n",
              "            await google.colab.kernel.invokeFunction('convertToInteractive',\n",
              "                                                     [key], {});\n",
              "          if (!dataTable) return;\n",
              "\n",
              "          const docLinkHtml = 'Like what you see? Visit the ' +\n",
              "            '<a target=\"_blank\" href=https://colab.research.google.com/notebooks/data_table.ipynb>data table notebook</a>'\n",
              "            + ' to learn more about interactive tables.';\n",
              "          element.innerHTML = '';\n",
              "          dataTable['output_type'] = 'display_data';\n",
              "          await google.colab.output.renderOutput(dataTable, element);\n",
              "          const docLink = document.createElement('div');\n",
              "          docLink.innerHTML = docLinkHtml;\n",
              "          element.appendChild(docLink);\n",
              "        }\n",
              "      </script>\n",
              "    </div>\n",
              "  </div>\n",
              "  "
            ]
          },
          "metadata": {},
          "execution_count": 69
        }
      ],
      "source": [
        "recurring_hos1.head(3)"
      ]
    },
    {
      "cell_type": "code",
      "execution_count": 70,
      "metadata": {
        "id": "2QCdEoFKJhVd"
      },
      "outputs": [],
      "source": [
        "pmhist_eq=pd.merge(fin,recurring_hos1,left_index=True,right_index=True)"
      ]
    },
    {
      "cell_type": "code",
      "execution_count": 71,
      "metadata": {
        "colab": {
          "base_uri": "https://localhost:8080/"
        },
        "id": "k6AGfuZDSTxt",
        "outputId": "2f537984-785b-4fc6-c911-f54c68670cc2"
      },
      "outputs": [
        {
          "output_type": "execute_result",
          "data": {
            "text/plain": [
              "(86612, 17)"
            ]
          },
          "metadata": {},
          "execution_count": 71
        }
      ],
      "source": [
        "pmhist_eq.shape"
      ]
    },
    {
      "cell_type": "code",
      "execution_count": 72,
      "metadata": {
        "id": "sk41cQIJxoii"
      },
      "outputs": [],
      "source": [
        "deviate_hos1=pmhist_eq.loc[pmhist_eq['DeviatingTimeIntervalRecommended'] == 1]"
      ]
    },
    {
      "cell_type": "code",
      "execution_count": 73,
      "metadata": {
        "colab": {
          "base_uri": "https://localhost:8080/",
          "height": 696
        },
        "id": "1i_TZvkYzYzr",
        "outputId": "4e287dcb-93c0-43f4-8bef-737c0b8d3a41"
      },
      "outputs": [
        {
          "output_type": "execute_result",
          "data": {
            "text/plain": [
              "           InvNr           Equip.reg_date            Scrapped_date    ID_x  \\\n",
              "17500    9004181  2007-01-01 00:00:00.000  2013-11-13 00:00:00.000   17500   \n",
              "17635   R1273-01  1998-01-01 00:00:00.000  2009-12-15 00:00:00.000   17635   \n",
              "65129    C105-66  1991-01-01 00:00:00.000  2003-12-15 00:00:00.000   65129   \n",
              "65130    C105-67  1991-01-01 00:00:00.000  2006-04-03 00:00:00.000   65130   \n",
              "65131    C105-68  1991-01-01 00:00:00.000  2006-08-21 00:00:00.000   65131   \n",
              "...          ...                      ...                      ...     ...   \n",
              "252318    000887  2009-12-12 00:00:00.000  2012-08-29 00:00:00.000  252318   \n",
              "252318    000887  2009-12-12 00:00:00.000  2012-08-29 00:00:00.000  252318   \n",
              "252599    002523  2012-02-23 00:00:00.000  2016-11-07 00:00:00.000  252599   \n",
              "252706    002531  2012-09-13 00:00:00.000  2021-05-31 00:00:00.000  252706   \n",
              "254524   E403-35  1900-01-01 00:00:00.000  2022-01-19 00:00:00.000  254524   \n",
              "\n",
              "                                             dev            Brand  \\\n",
              "17500                             Lungröntgenlab             Fuji   \n",
              "17635                 Undersökningsstativ/system          Siemens   \n",
              "65129                              Infusionspump  Cardinal Health   \n",
              "65130                              Infusionspump  Cardinal Health   \n",
              "65131                              Infusionspump  Cardinal Health   \n",
              "...                                          ...              ...   \n",
              "252318                                 Projektor               LG   \n",
              "252318                                 Projektor               LG   \n",
              "252599  Dator, bärbar/surfplatta (Medical grade)             Dell   \n",
              "252706  Dator, bärbar/surfplatta (Medical grade)             Dell   \n",
              "254524               Mikroskop Korneal-Hornhinne      Haag-Streit   \n",
              "\n",
              "                   Model  calc.Risk (No column name)     ID_y  \\\n",
              "17500           Velocity       31.0       2011-02-28     7800   \n",
              "17635   Siemens Symphony       31.0       2011-02-28     7838   \n",
              "65129           IVAC 561       31.0       2011-04-03    27837   \n",
              "65130           IVAC 561       31.0       2011-04-03    27838   \n",
              "65131           IVAC 561       31.0       2011-04-03    27839   \n",
              "...                  ...        ...              ...      ...   \n",
              "252318             DX630       31.0       2012-02-16  1590757   \n",
              "252318             DX630       31.0       2012-02-16  1590787   \n",
              "252599    Latitude E6320       31.0       2016-11-07  1590800   \n",
              "252706    Latitude E6230       31.0       2016-02-09  1590775   \n",
              "254524            900 BM       31.0       2009-03-10  1590721   \n",
              "\n",
              "        intTimeInterval  PM_TimeIntervalUnitID  \\\n",
              "17500              12.0                    2.0   \n",
              "17635              12.0                    2.0   \n",
              "65129              24.0                    2.0   \n",
              "65130              24.0                    2.0   \n",
              "65131              24.0                    2.0   \n",
              "...                 ...                    ...   \n",
              "252318              6.0                    2.0   \n",
              "252318              6.0                    2.0   \n",
              "252599             12.0                    2.0   \n",
              "252706             12.0                    2.0   \n",
              "254524             24.0                    2.0   \n",
              "\n",
              "        PM_TimeIntervalUnitIDRecommended  InventarierID  ArborderID  \\\n",
              "17500                                NaN          17500         NaN   \n",
              "17635                                NaN          17635         NaN   \n",
              "65129                                NaN          65129         NaN   \n",
              "65130                                NaN          65130         NaN   \n",
              "65131                                NaN          65131         NaN   \n",
              "...                                  ...            ...         ...   \n",
              "252318                               NaN         252318   1160730.0   \n",
              "252318                               NaN         252318   1160731.0   \n",
              "252599                               2.0         252599   1160873.0   \n",
              "252706                               NaN         252706   1160880.0   \n",
              "254524                               NaN         254524   1160629.0   \n",
              "\n",
              "        DeviatingTimeIntervalRecommended  PM_diff  \n",
              "17500                                  1     4112  \n",
              "17635                                  1     1873  \n",
              "65129                                  1     3579  \n",
              "65130                                  1     2078  \n",
              "65131                                  1     2497  \n",
              "...                                  ...      ...  \n",
              "252318                                 1        0  \n",
              "252318                                 1        0  \n",
              "252599                                 1        0  \n",
              "252706                                 1        0  \n",
              "254524                                 1        0  \n",
              "\n",
              "[75186 rows x 17 columns]"
            ],
            "text/html": [
              "\n",
              "  <div id=\"df-18f75de9-44da-43fe-82c5-51a2f5d932e1\">\n",
              "    <div class=\"colab-df-container\">\n",
              "      <div>\n",
              "<style scoped>\n",
              "    .dataframe tbody tr th:only-of-type {\n",
              "        vertical-align: middle;\n",
              "    }\n",
              "\n",
              "    .dataframe tbody tr th {\n",
              "        vertical-align: top;\n",
              "    }\n",
              "\n",
              "    .dataframe thead th {\n",
              "        text-align: right;\n",
              "    }\n",
              "</style>\n",
              "<table border=\"1\" class=\"dataframe\">\n",
              "  <thead>\n",
              "    <tr style=\"text-align: right;\">\n",
              "      <th></th>\n",
              "      <th>InvNr</th>\n",
              "      <th>Equip.reg_date</th>\n",
              "      <th>Scrapped_date</th>\n",
              "      <th>ID_x</th>\n",
              "      <th>dev</th>\n",
              "      <th>Brand</th>\n",
              "      <th>Model</th>\n",
              "      <th>calc.Risk</th>\n",
              "      <th>(No column name)</th>\n",
              "      <th>ID_y</th>\n",
              "      <th>intTimeInterval</th>\n",
              "      <th>PM_TimeIntervalUnitID</th>\n",
              "      <th>PM_TimeIntervalUnitIDRecommended</th>\n",
              "      <th>InventarierID</th>\n",
              "      <th>ArborderID</th>\n",
              "      <th>DeviatingTimeIntervalRecommended</th>\n",
              "      <th>PM_diff</th>\n",
              "    </tr>\n",
              "  </thead>\n",
              "  <tbody>\n",
              "    <tr>\n",
              "      <th>17500</th>\n",
              "      <td>9004181</td>\n",
              "      <td>2007-01-01 00:00:00.000</td>\n",
              "      <td>2013-11-13 00:00:00.000</td>\n",
              "      <td>17500</td>\n",
              "      <td>Lungröntgenlab</td>\n",
              "      <td>Fuji</td>\n",
              "      <td>Velocity</td>\n",
              "      <td>31.0</td>\n",
              "      <td>2011-02-28</td>\n",
              "      <td>7800</td>\n",
              "      <td>12.0</td>\n",
              "      <td>2.0</td>\n",
              "      <td>NaN</td>\n",
              "      <td>17500</td>\n",
              "      <td>NaN</td>\n",
              "      <td>1</td>\n",
              "      <td>4112</td>\n",
              "    </tr>\n",
              "    <tr>\n",
              "      <th>17635</th>\n",
              "      <td>R1273-01</td>\n",
              "      <td>1998-01-01 00:00:00.000</td>\n",
              "      <td>2009-12-15 00:00:00.000</td>\n",
              "      <td>17635</td>\n",
              "      <td>Undersökningsstativ/system</td>\n",
              "      <td>Siemens</td>\n",
              "      <td>Siemens Symphony</td>\n",
              "      <td>31.0</td>\n",
              "      <td>2011-02-28</td>\n",
              "      <td>7838</td>\n",
              "      <td>12.0</td>\n",
              "      <td>2.0</td>\n",
              "      <td>NaN</td>\n",
              "      <td>17635</td>\n",
              "      <td>NaN</td>\n",
              "      <td>1</td>\n",
              "      <td>1873</td>\n",
              "    </tr>\n",
              "    <tr>\n",
              "      <th>65129</th>\n",
              "      <td>C105-66</td>\n",
              "      <td>1991-01-01 00:00:00.000</td>\n",
              "      <td>2003-12-15 00:00:00.000</td>\n",
              "      <td>65129</td>\n",
              "      <td>Infusionspump</td>\n",
              "      <td>Cardinal Health</td>\n",
              "      <td>IVAC 561</td>\n",
              "      <td>31.0</td>\n",
              "      <td>2011-04-03</td>\n",
              "      <td>27837</td>\n",
              "      <td>24.0</td>\n",
              "      <td>2.0</td>\n",
              "      <td>NaN</td>\n",
              "      <td>65129</td>\n",
              "      <td>NaN</td>\n",
              "      <td>1</td>\n",
              "      <td>3579</td>\n",
              "    </tr>\n",
              "    <tr>\n",
              "      <th>65130</th>\n",
              "      <td>C105-67</td>\n",
              "      <td>1991-01-01 00:00:00.000</td>\n",
              "      <td>2006-04-03 00:00:00.000</td>\n",
              "      <td>65130</td>\n",
              "      <td>Infusionspump</td>\n",
              "      <td>Cardinal Health</td>\n",
              "      <td>IVAC 561</td>\n",
              "      <td>31.0</td>\n",
              "      <td>2011-04-03</td>\n",
              "      <td>27838</td>\n",
              "      <td>24.0</td>\n",
              "      <td>2.0</td>\n",
              "      <td>NaN</td>\n",
              "      <td>65130</td>\n",
              "      <td>NaN</td>\n",
              "      <td>1</td>\n",
              "      <td>2078</td>\n",
              "    </tr>\n",
              "    <tr>\n",
              "      <th>65131</th>\n",
              "      <td>C105-68</td>\n",
              "      <td>1991-01-01 00:00:00.000</td>\n",
              "      <td>2006-08-21 00:00:00.000</td>\n",
              "      <td>65131</td>\n",
              "      <td>Infusionspump</td>\n",
              "      <td>Cardinal Health</td>\n",
              "      <td>IVAC 561</td>\n",
              "      <td>31.0</td>\n",
              "      <td>2011-04-03</td>\n",
              "      <td>27839</td>\n",
              "      <td>24.0</td>\n",
              "      <td>2.0</td>\n",
              "      <td>NaN</td>\n",
              "      <td>65131</td>\n",
              "      <td>NaN</td>\n",
              "      <td>1</td>\n",
              "      <td>2497</td>\n",
              "    </tr>\n",
              "    <tr>\n",
              "      <th>...</th>\n",
              "      <td>...</td>\n",
              "      <td>...</td>\n",
              "      <td>...</td>\n",
              "      <td>...</td>\n",
              "      <td>...</td>\n",
              "      <td>...</td>\n",
              "      <td>...</td>\n",
              "      <td>...</td>\n",
              "      <td>...</td>\n",
              "      <td>...</td>\n",
              "      <td>...</td>\n",
              "      <td>...</td>\n",
              "      <td>...</td>\n",
              "      <td>...</td>\n",
              "      <td>...</td>\n",
              "      <td>...</td>\n",
              "      <td>...</td>\n",
              "    </tr>\n",
              "    <tr>\n",
              "      <th>252318</th>\n",
              "      <td>000887</td>\n",
              "      <td>2009-12-12 00:00:00.000</td>\n",
              "      <td>2012-08-29 00:00:00.000</td>\n",
              "      <td>252318</td>\n",
              "      <td>Projektor</td>\n",
              "      <td>LG</td>\n",
              "      <td>DX630</td>\n",
              "      <td>31.0</td>\n",
              "      <td>2012-02-16</td>\n",
              "      <td>1590757</td>\n",
              "      <td>6.0</td>\n",
              "      <td>2.0</td>\n",
              "      <td>NaN</td>\n",
              "      <td>252318</td>\n",
              "      <td>1160730.0</td>\n",
              "      <td>1</td>\n",
              "      <td>0</td>\n",
              "    </tr>\n",
              "    <tr>\n",
              "      <th>252318</th>\n",
              "      <td>000887</td>\n",
              "      <td>2009-12-12 00:00:00.000</td>\n",
              "      <td>2012-08-29 00:00:00.000</td>\n",
              "      <td>252318</td>\n",
              "      <td>Projektor</td>\n",
              "      <td>LG</td>\n",
              "      <td>DX630</td>\n",
              "      <td>31.0</td>\n",
              "      <td>2012-02-16</td>\n",
              "      <td>1590787</td>\n",
              "      <td>6.0</td>\n",
              "      <td>2.0</td>\n",
              "      <td>NaN</td>\n",
              "      <td>252318</td>\n",
              "      <td>1160731.0</td>\n",
              "      <td>1</td>\n",
              "      <td>0</td>\n",
              "    </tr>\n",
              "    <tr>\n",
              "      <th>252599</th>\n",
              "      <td>002523</td>\n",
              "      <td>2012-02-23 00:00:00.000</td>\n",
              "      <td>2016-11-07 00:00:00.000</td>\n",
              "      <td>252599</td>\n",
              "      <td>Dator, bärbar/surfplatta (Medical grade)</td>\n",
              "      <td>Dell</td>\n",
              "      <td>Latitude E6320</td>\n",
              "      <td>31.0</td>\n",
              "      <td>2016-11-07</td>\n",
              "      <td>1590800</td>\n",
              "      <td>12.0</td>\n",
              "      <td>2.0</td>\n",
              "      <td>2.0</td>\n",
              "      <td>252599</td>\n",
              "      <td>1160873.0</td>\n",
              "      <td>1</td>\n",
              "      <td>0</td>\n",
              "    </tr>\n",
              "    <tr>\n",
              "      <th>252706</th>\n",
              "      <td>002531</td>\n",
              "      <td>2012-09-13 00:00:00.000</td>\n",
              "      <td>2021-05-31 00:00:00.000</td>\n",
              "      <td>252706</td>\n",
              "      <td>Dator, bärbar/surfplatta (Medical grade)</td>\n",
              "      <td>Dell</td>\n",
              "      <td>Latitude E6230</td>\n",
              "      <td>31.0</td>\n",
              "      <td>2016-02-09</td>\n",
              "      <td>1590775</td>\n",
              "      <td>12.0</td>\n",
              "      <td>2.0</td>\n",
              "      <td>NaN</td>\n",
              "      <td>252706</td>\n",
              "      <td>1160880.0</td>\n",
              "      <td>1</td>\n",
              "      <td>0</td>\n",
              "    </tr>\n",
              "    <tr>\n",
              "      <th>254524</th>\n",
              "      <td>E403-35</td>\n",
              "      <td>1900-01-01 00:00:00.000</td>\n",
              "      <td>2022-01-19 00:00:00.000</td>\n",
              "      <td>254524</td>\n",
              "      <td>Mikroskop Korneal-Hornhinne</td>\n",
              "      <td>Haag-Streit</td>\n",
              "      <td>900 BM</td>\n",
              "      <td>31.0</td>\n",
              "      <td>2009-03-10</td>\n",
              "      <td>1590721</td>\n",
              "      <td>24.0</td>\n",
              "      <td>2.0</td>\n",
              "      <td>NaN</td>\n",
              "      <td>254524</td>\n",
              "      <td>1160629.0</td>\n",
              "      <td>1</td>\n",
              "      <td>0</td>\n",
              "    </tr>\n",
              "  </tbody>\n",
              "</table>\n",
              "<p>75186 rows × 17 columns</p>\n",
              "</div>\n",
              "      <button class=\"colab-df-convert\" onclick=\"convertToInteractive('df-18f75de9-44da-43fe-82c5-51a2f5d932e1')\"\n",
              "              title=\"Convert this dataframe to an interactive table.\"\n",
              "              style=\"display:none;\">\n",
              "        \n",
              "  <svg xmlns=\"http://www.w3.org/2000/svg\" height=\"24px\"viewBox=\"0 0 24 24\"\n",
              "       width=\"24px\">\n",
              "    <path d=\"M0 0h24v24H0V0z\" fill=\"none\"/>\n",
              "    <path d=\"M18.56 5.44l.94 2.06.94-2.06 2.06-.94-2.06-.94-.94-2.06-.94 2.06-2.06.94zm-11 1L8.5 8.5l.94-2.06 2.06-.94-2.06-.94L8.5 2.5l-.94 2.06-2.06.94zm10 10l.94 2.06.94-2.06 2.06-.94-2.06-.94-.94-2.06-.94 2.06-2.06.94z\"/><path d=\"M17.41 7.96l-1.37-1.37c-.4-.4-.92-.59-1.43-.59-.52 0-1.04.2-1.43.59L10.3 9.45l-7.72 7.72c-.78.78-.78 2.05 0 2.83L4 21.41c.39.39.9.59 1.41.59.51 0 1.02-.2 1.41-.59l7.78-7.78 2.81-2.81c.8-.78.8-2.07 0-2.86zM5.41 20L4 18.59l7.72-7.72 1.47 1.35L5.41 20z\"/>\n",
              "  </svg>\n",
              "      </button>\n",
              "      \n",
              "  <style>\n",
              "    .colab-df-container {\n",
              "      display:flex;\n",
              "      flex-wrap:wrap;\n",
              "      gap: 12px;\n",
              "    }\n",
              "\n",
              "    .colab-df-convert {\n",
              "      background-color: #E8F0FE;\n",
              "      border: none;\n",
              "      border-radius: 50%;\n",
              "      cursor: pointer;\n",
              "      display: none;\n",
              "      fill: #1967D2;\n",
              "      height: 32px;\n",
              "      padding: 0 0 0 0;\n",
              "      width: 32px;\n",
              "    }\n",
              "\n",
              "    .colab-df-convert:hover {\n",
              "      background-color: #E2EBFA;\n",
              "      box-shadow: 0px 1px 2px rgba(60, 64, 67, 0.3), 0px 1px 3px 1px rgba(60, 64, 67, 0.15);\n",
              "      fill: #174EA6;\n",
              "    }\n",
              "\n",
              "    [theme=dark] .colab-df-convert {\n",
              "      background-color: #3B4455;\n",
              "      fill: #D2E3FC;\n",
              "    }\n",
              "\n",
              "    [theme=dark] .colab-df-convert:hover {\n",
              "      background-color: #434B5C;\n",
              "      box-shadow: 0px 1px 3px 1px rgba(0, 0, 0, 0.15);\n",
              "      filter: drop-shadow(0px 1px 2px rgba(0, 0, 0, 0.3));\n",
              "      fill: #FFFFFF;\n",
              "    }\n",
              "  </style>\n",
              "\n",
              "      <script>\n",
              "        const buttonEl =\n",
              "          document.querySelector('#df-18f75de9-44da-43fe-82c5-51a2f5d932e1 button.colab-df-convert');\n",
              "        buttonEl.style.display =\n",
              "          google.colab.kernel.accessAllowed ? 'block' : 'none';\n",
              "\n",
              "        async function convertToInteractive(key) {\n",
              "          const element = document.querySelector('#df-18f75de9-44da-43fe-82c5-51a2f5d932e1');\n",
              "          const dataTable =\n",
              "            await google.colab.kernel.invokeFunction('convertToInteractive',\n",
              "                                                     [key], {});\n",
              "          if (!dataTable) return;\n",
              "\n",
              "          const docLinkHtml = 'Like what you see? Visit the ' +\n",
              "            '<a target=\"_blank\" href=https://colab.research.google.com/notebooks/data_table.ipynb>data table notebook</a>'\n",
              "            + ' to learn more about interactive tables.';\n",
              "          element.innerHTML = '';\n",
              "          dataTable['output_type'] = 'display_data';\n",
              "          await google.colab.output.renderOutput(dataTable, element);\n",
              "          const docLink = document.createElement('div');\n",
              "          docLink.innerHTML = docLinkHtml;\n",
              "          element.appendChild(docLink);\n",
              "        }\n",
              "      </script>\n",
              "    </div>\n",
              "  </div>\n",
              "  "
            ]
          },
          "metadata": {},
          "execution_count": 73
        }
      ],
      "source": [
        "deviate_hos1"
      ]
    },
    {
      "cell_type": "code",
      "execution_count": 74,
      "metadata": {
        "id": "qI7M8jzO0FtN"
      },
      "outputs": [],
      "source": [
        "deviate_hos1.drop(columns=['DeviatingTimeIntervalRecommended'],inplace=True)"
      ]
    },
    {
      "cell_type": "code",
      "execution_count": 75,
      "metadata": {
        "colab": {
          "base_uri": "https://localhost:8080/"
        },
        "id": "L8wVv3hm1MCa",
        "outputId": "17bfa50f-0f0d-437a-c274-915947e08bc0"
      },
      "outputs": [
        {
          "output_type": "execute_result",
          "data": {
            "text/plain": [
              "(75186, 16)"
            ]
          },
          "metadata": {},
          "execution_count": 75
        }
      ],
      "source": [
        "deviate_hos1.shape"
      ]
    },
    {
      "cell_type": "code",
      "execution_count": 76,
      "metadata": {
        "id": "sWKRBTej1WtN"
      },
      "outputs": [],
      "source": [
        "non_deviatehos1=pmhist_eq.loc[pmhist_eq['DeviatingTimeIntervalRecommended']==0]"
      ]
    },
    {
      "cell_type": "code",
      "execution_count": 77,
      "metadata": {
        "colab": {
          "base_uri": "https://localhost:8080/",
          "height": 765
        },
        "id": "yC0Phcgx3GOW",
        "outputId": "dc84190c-0d8b-4371-9d8a-35b3075c3dec"
      },
      "outputs": [
        {
          "output_type": "execute_result",
          "data": {
            "text/plain": [
              "           InvNr           Equip.reg_date            Scrapped_date    ID_x  \\\n",
              "39879    9004189  2008-01-01 00:00:00.000  2021-09-21 00:00:00.000   39879   \n",
              "41575    9045655  2011-01-01 00:00:00.000  2021-12-20 00:00:00.000   41575   \n",
              "41575    9045655  2011-01-01 00:00:00.000  2021-12-20 00:00:00.000   41575   \n",
              "41575    9045655  2011-01-01 00:00:00.000  2021-12-20 00:00:00.000   41575   \n",
              "41575    9045655  2011-01-01 00:00:00.000  2021-12-20 00:00:00.000   41575   \n",
              "...          ...                      ...                      ...     ...   \n",
              "300077  1984-881  2019-08-14 00:00:00.000  2022-02-17 00:00:00.000  300077   \n",
              "301900    351114  2001-03-04 00:00:00.000  2021-10-05 00:00:00.000  301900   \n",
              "301957    351171  2008-04-24 00:00:00.000  2021-10-05 00:00:00.000  301957   \n",
              "301957    351171  2008-04-24 00:00:00.000  2021-10-05 00:00:00.000  301957   \n",
              "305767  3645-001  2021-07-14 00:00:00.000  2021-10-12 00:00:00.000  305767   \n",
              "\n",
              "                                                      dev           Brand  \\\n",
              "39879           Ultraljudssystem, bildgivande universellt          Acuson   \n",
              "41575   Röntgensystem för benabsorptionsmätning, dubbe...         Hologic   \n",
              "41575   Röntgensystem för benabsorptionsmätning, dubbe...         Hologic   \n",
              "41575   Röntgensystem för benabsorptionsmätning, dubbe...         Hologic   \n",
              "41575   Röntgensystem för benabsorptionsmätning, dubbe...         Hologic   \n",
              "...                                                   ...             ...   \n",
              "300077                                 Termometer öron IR           Braun   \n",
              "301900                                     Patientsäng el  Proton Caretec   \n",
              "301957                                     Patientsäng el  Proton Caretec   \n",
              "301957                                     Patientsäng el  Proton Caretec   \n",
              "305767      Centrifug, laboratorie, allmän användning IVD           Sigma   \n",
              "\n",
              "                      Model  calc.Risk (No column name)    ID_y  \\\n",
              "39879           Sequoia 512       18.0       2021-03-05  220794   \n",
              "41575           Discovery A       16.0       2021-09-06  216789   \n",
              "41575           Discovery A       16.0       2020-08-13  216789   \n",
              "41575           Discovery A       16.0       2020-05-05  216789   \n",
              "41575           Discovery A       16.0       2021-02-22  216789   \n",
              "...                     ...        ...              ...     ...   \n",
              "300077  ThermoScan Pro 6000       13.0       2022-02-17  236157   \n",
              "301900                10101        6.0       2021-07-13  241464   \n",
              "301957                17603        6.0       2021-08-06  241122   \n",
              "301957                17603        6.0       2021-08-17  241122   \n",
              "305767                  2-7       22.0       2021-10-12  245519   \n",
              "\n",
              "        intTimeInterval  PM_TimeIntervalUnitID  \\\n",
              "39879              12.0                    2.0   \n",
              "41575               6.0                    2.0   \n",
              "41575              12.0                    2.0   \n",
              "41575              12.0                    2.0   \n",
              "41575               6.0                    2.0   \n",
              "...                 ...                    ...   \n",
              "300077             12.0                    2.0   \n",
              "301900             12.0                    2.0   \n",
              "301957             12.0                    2.0   \n",
              "301957             12.0                    2.0   \n",
              "305767             12.0                    2.0   \n",
              "\n",
              "        PM_TimeIntervalUnitIDRecommended  InventarierID  ArborderID  \\\n",
              "39879                                NaN          39879   1360473.0   \n",
              "41575                                NaN          41575   1398455.0   \n",
              "41575                                NaN          41575   1320087.0   \n",
              "41575                                NaN          41575   1300740.0   \n",
              "41575                                NaN          41575   1357755.0   \n",
              "...                                  ...            ...         ...   \n",
              "300077                               2.0         300077   1426779.0   \n",
              "301900                               NaN         301900   1387727.0   \n",
              "301957                               NaN         301957   1392348.0   \n",
              "301957                               NaN         301957   1394217.0   \n",
              "305767                               NaN         305767   1405772.0   \n",
              "\n",
              "        DeviatingTimeIntervalRecommended  PM_diff  \n",
              "39879                                  0        0  \n",
              "41575                                  0       33  \n",
              "41575                                  0        0  \n",
              "41575                                  0      266  \n",
              "41575                                  0       11  \n",
              "...                                  ...      ...  \n",
              "300077                                 0        0  \n",
              "301900                                 0        0  \n",
              "301957                                 0       69  \n",
              "301957                                 0       81  \n",
              "305767                                 0        0  \n",
              "\n",
              "[11426 rows x 17 columns]"
            ],
            "text/html": [
              "\n",
              "  <div id=\"df-9a9eba03-c702-48c5-a523-97a8817a7281\">\n",
              "    <div class=\"colab-df-container\">\n",
              "      <div>\n",
              "<style scoped>\n",
              "    .dataframe tbody tr th:only-of-type {\n",
              "        vertical-align: middle;\n",
              "    }\n",
              "\n",
              "    .dataframe tbody tr th {\n",
              "        vertical-align: top;\n",
              "    }\n",
              "\n",
              "    .dataframe thead th {\n",
              "        text-align: right;\n",
              "    }\n",
              "</style>\n",
              "<table border=\"1\" class=\"dataframe\">\n",
              "  <thead>\n",
              "    <tr style=\"text-align: right;\">\n",
              "      <th></th>\n",
              "      <th>InvNr</th>\n",
              "      <th>Equip.reg_date</th>\n",
              "      <th>Scrapped_date</th>\n",
              "      <th>ID_x</th>\n",
              "      <th>dev</th>\n",
              "      <th>Brand</th>\n",
              "      <th>Model</th>\n",
              "      <th>calc.Risk</th>\n",
              "      <th>(No column name)</th>\n",
              "      <th>ID_y</th>\n",
              "      <th>intTimeInterval</th>\n",
              "      <th>PM_TimeIntervalUnitID</th>\n",
              "      <th>PM_TimeIntervalUnitIDRecommended</th>\n",
              "      <th>InventarierID</th>\n",
              "      <th>ArborderID</th>\n",
              "      <th>DeviatingTimeIntervalRecommended</th>\n",
              "      <th>PM_diff</th>\n",
              "    </tr>\n",
              "  </thead>\n",
              "  <tbody>\n",
              "    <tr>\n",
              "      <th>39879</th>\n",
              "      <td>9004189</td>\n",
              "      <td>2008-01-01 00:00:00.000</td>\n",
              "      <td>2021-09-21 00:00:00.000</td>\n",
              "      <td>39879</td>\n",
              "      <td>Ultraljudssystem, bildgivande universellt</td>\n",
              "      <td>Acuson</td>\n",
              "      <td>Sequoia 512</td>\n",
              "      <td>18.0</td>\n",
              "      <td>2021-03-05</td>\n",
              "      <td>220794</td>\n",
              "      <td>12.0</td>\n",
              "      <td>2.0</td>\n",
              "      <td>NaN</td>\n",
              "      <td>39879</td>\n",
              "      <td>1360473.0</td>\n",
              "      <td>0</td>\n",
              "      <td>0</td>\n",
              "    </tr>\n",
              "    <tr>\n",
              "      <th>41575</th>\n",
              "      <td>9045655</td>\n",
              "      <td>2011-01-01 00:00:00.000</td>\n",
              "      <td>2021-12-20 00:00:00.000</td>\n",
              "      <td>41575</td>\n",
              "      <td>Röntgensystem för benabsorptionsmätning, dubbe...</td>\n",
              "      <td>Hologic</td>\n",
              "      <td>Discovery A</td>\n",
              "      <td>16.0</td>\n",
              "      <td>2021-09-06</td>\n",
              "      <td>216789</td>\n",
              "      <td>6.0</td>\n",
              "      <td>2.0</td>\n",
              "      <td>NaN</td>\n",
              "      <td>41575</td>\n",
              "      <td>1398455.0</td>\n",
              "      <td>0</td>\n",
              "      <td>33</td>\n",
              "    </tr>\n",
              "    <tr>\n",
              "      <th>41575</th>\n",
              "      <td>9045655</td>\n",
              "      <td>2011-01-01 00:00:00.000</td>\n",
              "      <td>2021-12-20 00:00:00.000</td>\n",
              "      <td>41575</td>\n",
              "      <td>Röntgensystem för benabsorptionsmätning, dubbe...</td>\n",
              "      <td>Hologic</td>\n",
              "      <td>Discovery A</td>\n",
              "      <td>16.0</td>\n",
              "      <td>2020-08-13</td>\n",
              "      <td>216789</td>\n",
              "      <td>12.0</td>\n",
              "      <td>2.0</td>\n",
              "      <td>NaN</td>\n",
              "      <td>41575</td>\n",
              "      <td>1320087.0</td>\n",
              "      <td>0</td>\n",
              "      <td>0</td>\n",
              "    </tr>\n",
              "    <tr>\n",
              "      <th>41575</th>\n",
              "      <td>9045655</td>\n",
              "      <td>2011-01-01 00:00:00.000</td>\n",
              "      <td>2021-12-20 00:00:00.000</td>\n",
              "      <td>41575</td>\n",
              "      <td>Röntgensystem för benabsorptionsmätning, dubbe...</td>\n",
              "      <td>Hologic</td>\n",
              "      <td>Discovery A</td>\n",
              "      <td>16.0</td>\n",
              "      <td>2020-05-05</td>\n",
              "      <td>216789</td>\n",
              "      <td>12.0</td>\n",
              "      <td>2.0</td>\n",
              "      <td>NaN</td>\n",
              "      <td>41575</td>\n",
              "      <td>1300740.0</td>\n",
              "      <td>0</td>\n",
              "      <td>266</td>\n",
              "    </tr>\n",
              "    <tr>\n",
              "      <th>41575</th>\n",
              "      <td>9045655</td>\n",
              "      <td>2011-01-01 00:00:00.000</td>\n",
              "      <td>2021-12-20 00:00:00.000</td>\n",
              "      <td>41575</td>\n",
              "      <td>Röntgensystem för benabsorptionsmätning, dubbe...</td>\n",
              "      <td>Hologic</td>\n",
              "      <td>Discovery A</td>\n",
              "      <td>16.0</td>\n",
              "      <td>2021-02-22</td>\n",
              "      <td>216789</td>\n",
              "      <td>6.0</td>\n",
              "      <td>2.0</td>\n",
              "      <td>NaN</td>\n",
              "      <td>41575</td>\n",
              "      <td>1357755.0</td>\n",
              "      <td>0</td>\n",
              "      <td>11</td>\n",
              "    </tr>\n",
              "    <tr>\n",
              "      <th>...</th>\n",
              "      <td>...</td>\n",
              "      <td>...</td>\n",
              "      <td>...</td>\n",
              "      <td>...</td>\n",
              "      <td>...</td>\n",
              "      <td>...</td>\n",
              "      <td>...</td>\n",
              "      <td>...</td>\n",
              "      <td>...</td>\n",
              "      <td>...</td>\n",
              "      <td>...</td>\n",
              "      <td>...</td>\n",
              "      <td>...</td>\n",
              "      <td>...</td>\n",
              "      <td>...</td>\n",
              "      <td>...</td>\n",
              "      <td>...</td>\n",
              "    </tr>\n",
              "    <tr>\n",
              "      <th>300077</th>\n",
              "      <td>1984-881</td>\n",
              "      <td>2019-08-14 00:00:00.000</td>\n",
              "      <td>2022-02-17 00:00:00.000</td>\n",
              "      <td>300077</td>\n",
              "      <td>Termometer öron IR</td>\n",
              "      <td>Braun</td>\n",
              "      <td>ThermoScan Pro 6000</td>\n",
              "      <td>13.0</td>\n",
              "      <td>2022-02-17</td>\n",
              "      <td>236157</td>\n",
              "      <td>12.0</td>\n",
              "      <td>2.0</td>\n",
              "      <td>2.0</td>\n",
              "      <td>300077</td>\n",
              "      <td>1426779.0</td>\n",
              "      <td>0</td>\n",
              "      <td>0</td>\n",
              "    </tr>\n",
              "    <tr>\n",
              "      <th>301900</th>\n",
              "      <td>351114</td>\n",
              "      <td>2001-03-04 00:00:00.000</td>\n",
              "      <td>2021-10-05 00:00:00.000</td>\n",
              "      <td>301900</td>\n",
              "      <td>Patientsäng el</td>\n",
              "      <td>Proton Caretec</td>\n",
              "      <td>10101</td>\n",
              "      <td>6.0</td>\n",
              "      <td>2021-07-13</td>\n",
              "      <td>241464</td>\n",
              "      <td>12.0</td>\n",
              "      <td>2.0</td>\n",
              "      <td>NaN</td>\n",
              "      <td>301900</td>\n",
              "      <td>1387727.0</td>\n",
              "      <td>0</td>\n",
              "      <td>0</td>\n",
              "    </tr>\n",
              "    <tr>\n",
              "      <th>301957</th>\n",
              "      <td>351171</td>\n",
              "      <td>2008-04-24 00:00:00.000</td>\n",
              "      <td>2021-10-05 00:00:00.000</td>\n",
              "      <td>301957</td>\n",
              "      <td>Patientsäng el</td>\n",
              "      <td>Proton Caretec</td>\n",
              "      <td>17603</td>\n",
              "      <td>6.0</td>\n",
              "      <td>2021-08-06</td>\n",
              "      <td>241122</td>\n",
              "      <td>12.0</td>\n",
              "      <td>2.0</td>\n",
              "      <td>NaN</td>\n",
              "      <td>301957</td>\n",
              "      <td>1392348.0</td>\n",
              "      <td>0</td>\n",
              "      <td>69</td>\n",
              "    </tr>\n",
              "    <tr>\n",
              "      <th>301957</th>\n",
              "      <td>351171</td>\n",
              "      <td>2008-04-24 00:00:00.000</td>\n",
              "      <td>2021-10-05 00:00:00.000</td>\n",
              "      <td>301957</td>\n",
              "      <td>Patientsäng el</td>\n",
              "      <td>Proton Caretec</td>\n",
              "      <td>17603</td>\n",
              "      <td>6.0</td>\n",
              "      <td>2021-08-17</td>\n",
              "      <td>241122</td>\n",
              "      <td>12.0</td>\n",
              "      <td>2.0</td>\n",
              "      <td>NaN</td>\n",
              "      <td>301957</td>\n",
              "      <td>1394217.0</td>\n",
              "      <td>0</td>\n",
              "      <td>81</td>\n",
              "    </tr>\n",
              "    <tr>\n",
              "      <th>305767</th>\n",
              "      <td>3645-001</td>\n",
              "      <td>2021-07-14 00:00:00.000</td>\n",
              "      <td>2021-10-12 00:00:00.000</td>\n",
              "      <td>305767</td>\n",
              "      <td>Centrifug, laboratorie, allmän användning IVD</td>\n",
              "      <td>Sigma</td>\n",
              "      <td>2-7</td>\n",
              "      <td>22.0</td>\n",
              "      <td>2021-10-12</td>\n",
              "      <td>245519</td>\n",
              "      <td>12.0</td>\n",
              "      <td>2.0</td>\n",
              "      <td>NaN</td>\n",
              "      <td>305767</td>\n",
              "      <td>1405772.0</td>\n",
              "      <td>0</td>\n",
              "      <td>0</td>\n",
              "    </tr>\n",
              "  </tbody>\n",
              "</table>\n",
              "<p>11426 rows × 17 columns</p>\n",
              "</div>\n",
              "      <button class=\"colab-df-convert\" onclick=\"convertToInteractive('df-9a9eba03-c702-48c5-a523-97a8817a7281')\"\n",
              "              title=\"Convert this dataframe to an interactive table.\"\n",
              "              style=\"display:none;\">\n",
              "        \n",
              "  <svg xmlns=\"http://www.w3.org/2000/svg\" height=\"24px\"viewBox=\"0 0 24 24\"\n",
              "       width=\"24px\">\n",
              "    <path d=\"M0 0h24v24H0V0z\" fill=\"none\"/>\n",
              "    <path d=\"M18.56 5.44l.94 2.06.94-2.06 2.06-.94-2.06-.94-.94-2.06-.94 2.06-2.06.94zm-11 1L8.5 8.5l.94-2.06 2.06-.94-2.06-.94L8.5 2.5l-.94 2.06-2.06.94zm10 10l.94 2.06.94-2.06 2.06-.94-2.06-.94-.94-2.06-.94 2.06-2.06.94z\"/><path d=\"M17.41 7.96l-1.37-1.37c-.4-.4-.92-.59-1.43-.59-.52 0-1.04.2-1.43.59L10.3 9.45l-7.72 7.72c-.78.78-.78 2.05 0 2.83L4 21.41c.39.39.9.59 1.41.59.51 0 1.02-.2 1.41-.59l7.78-7.78 2.81-2.81c.8-.78.8-2.07 0-2.86zM5.41 20L4 18.59l7.72-7.72 1.47 1.35L5.41 20z\"/>\n",
              "  </svg>\n",
              "      </button>\n",
              "      \n",
              "  <style>\n",
              "    .colab-df-container {\n",
              "      display:flex;\n",
              "      flex-wrap:wrap;\n",
              "      gap: 12px;\n",
              "    }\n",
              "\n",
              "    .colab-df-convert {\n",
              "      background-color: #E8F0FE;\n",
              "      border: none;\n",
              "      border-radius: 50%;\n",
              "      cursor: pointer;\n",
              "      display: none;\n",
              "      fill: #1967D2;\n",
              "      height: 32px;\n",
              "      padding: 0 0 0 0;\n",
              "      width: 32px;\n",
              "    }\n",
              "\n",
              "    .colab-df-convert:hover {\n",
              "      background-color: #E2EBFA;\n",
              "      box-shadow: 0px 1px 2px rgba(60, 64, 67, 0.3), 0px 1px 3px 1px rgba(60, 64, 67, 0.15);\n",
              "      fill: #174EA6;\n",
              "    }\n",
              "\n",
              "    [theme=dark] .colab-df-convert {\n",
              "      background-color: #3B4455;\n",
              "      fill: #D2E3FC;\n",
              "    }\n",
              "\n",
              "    [theme=dark] .colab-df-convert:hover {\n",
              "      background-color: #434B5C;\n",
              "      box-shadow: 0px 1px 3px 1px rgba(0, 0, 0, 0.15);\n",
              "      filter: drop-shadow(0px 1px 2px rgba(0, 0, 0, 0.3));\n",
              "      fill: #FFFFFF;\n",
              "    }\n",
              "  </style>\n",
              "\n",
              "      <script>\n",
              "        const buttonEl =\n",
              "          document.querySelector('#df-9a9eba03-c702-48c5-a523-97a8817a7281 button.colab-df-convert');\n",
              "        buttonEl.style.display =\n",
              "          google.colab.kernel.accessAllowed ? 'block' : 'none';\n",
              "\n",
              "        async function convertToInteractive(key) {\n",
              "          const element = document.querySelector('#df-9a9eba03-c702-48c5-a523-97a8817a7281');\n",
              "          const dataTable =\n",
              "            await google.colab.kernel.invokeFunction('convertToInteractive',\n",
              "                                                     [key], {});\n",
              "          if (!dataTable) return;\n",
              "\n",
              "          const docLinkHtml = 'Like what you see? Visit the ' +\n",
              "            '<a target=\"_blank\" href=https://colab.research.google.com/notebooks/data_table.ipynb>data table notebook</a>'\n",
              "            + ' to learn more about interactive tables.';\n",
              "          element.innerHTML = '';\n",
              "          dataTable['output_type'] = 'display_data';\n",
              "          await google.colab.output.renderOutput(dataTable, element);\n",
              "          const docLink = document.createElement('div');\n",
              "          docLink.innerHTML = docLinkHtml;\n",
              "          element.appendChild(docLink);\n",
              "        }\n",
              "      </script>\n",
              "    </div>\n",
              "  </div>\n",
              "  "
            ]
          },
          "metadata": {},
          "execution_count": 77
        }
      ],
      "source": [
        "non_deviatehos1"
      ]
    },
    {
      "cell_type": "code",
      "execution_count": 78,
      "metadata": {
        "colab": {
          "base_uri": "https://localhost:8080/"
        },
        "id": "4DA8iftY4Afe",
        "outputId": "be666386-f510-4c74-e6f3-5be6fcf0c250"
      },
      "outputs": [
        {
          "output_type": "execute_result",
          "data": {
            "text/plain": [
              "(11426, 17)"
            ]
          },
          "metadata": {},
          "execution_count": 78
        }
      ],
      "source": [
        "non_deviatehos1.shape"
      ]
    },
    {
      "cell_type": "markdown",
      "metadata": {
        "id": "Aedacy3dTwLa"
      },
      "source": [
        "query our usual devices from those lists of deviated and non-deviated "
      ]
    },
    {
      "cell_type": "markdown",
      "metadata": {
        "id": "P9GvhR3IUx-e"
      },
      "source": [
        "**patient monitor**"
      ]
    },
    {
      "cell_type": "code",
      "execution_count": 79,
      "metadata": {
        "id": "Ux5otxVfT4fE"
      },
      "outputs": [],
      "source": [
        "dev_pa=deviate_hos1.query(\"dev == 'Patientmonitor multiparameter'\")"
      ]
    },
    {
      "cell_type": "code",
      "execution_count": 80,
      "metadata": {
        "colab": {
          "base_uri": "https://localhost:8080/"
        },
        "id": "w0iJF2ZQVPmj",
        "outputId": "cf5c94b4-b77d-43e5-ccc6-4f6ce4c76803"
      },
      "outputs": [
        {
          "output_type": "execute_result",
          "data": {
            "text/plain": [
              "(6053, 16)"
            ]
          },
          "metadata": {},
          "execution_count": 80
        }
      ],
      "source": [
        "dev_pa.shape"
      ]
    },
    {
      "cell_type": "code",
      "execution_count": 81,
      "metadata": {
        "id": "2jKjQ1E8VXze"
      },
      "outputs": [],
      "source": [
        "nondev_pa=non_deviatehos1.query(\"dev =='patientmonitor multiparameter'\")"
      ]
    },
    {
      "cell_type": "code",
      "execution_count": 82,
      "metadata": {
        "colab": {
          "base_uri": "https://localhost:8080/"
        },
        "id": "MS66riluWJCq",
        "outputId": "3d46ff7f-3691-42de-9052-2c9ce2b6ecb3"
      },
      "outputs": [
        {
          "output_type": "execute_result",
          "data": {
            "text/plain": [
              "(0, 17)"
            ]
          },
          "metadata": {},
          "execution_count": 82
        }
      ],
      "source": [
        "nondev_pa.shape"
      ]
    },
    {
      "cell_type": "markdown",
      "metadata": {
        "id": "zCzKyZJxWZrL"
      },
      "source": [
        "**anathesai**"
      ]
    },
    {
      "cell_type": "code",
      "execution_count": 83,
      "metadata": {
        "id": "y95v4kHpWcs_"
      },
      "outputs": [],
      "source": [
        "data50=deviate_hos1.query(\"dev == 'Anestesiarbetsstation'\")\n",
        "data30=ata2=deviate_hos1.query(\"dev == 'Anestesiarbetsstation'\")\n",
        "data35=deviate_hos1.query(\"dev == 'Modul till anestesiarbetsstation'\")\n",
        "data40=deviate_hos1.query(\"dev == 'Anestesimedelsförgasare, isofluran'\")\n",
        "data55=deviate_hos1.query(\"dev == 'Anestesimedel Förgasare'\")\n",
        "data60=deviate_hos1.query(\"dev == 'Anestesiapparat mobil'\")\n",
        "data70=deviate_hos1.query(\"dev == 'Lungventilator anestesi'\")\n",
        "deviatedata_anes = pd.concat([data50, data30,data35,data50, data40, data55, data60, data70], axis=0)"
      ]
    },
    {
      "cell_type": "code",
      "execution_count": 84,
      "metadata": {
        "colab": {
          "base_uri": "https://localhost:8080/"
        },
        "id": "ykfwgr7KWWVE",
        "outputId": "5b682019-ccdd-46de-d403-cc00a1d947c2"
      },
      "outputs": [
        {
          "output_type": "execute_result",
          "data": {
            "text/plain": [
              "(3050, 16)"
            ]
          },
          "metadata": {},
          "execution_count": 84
        }
      ],
      "source": [
        "deviatedata_anes.shape"
      ]
    },
    {
      "cell_type": "code",
      "execution_count": 85,
      "metadata": {
        "id": "XHYyaz2CYWwX"
      },
      "outputs": [],
      "source": [
        "data51=non_deviatehos1.query(\"dev == 'Anestesiarbetsstation'\")\n",
        "data31=ata2=non_deviatehos1.query(\"dev == 'Anestesiarbetsstation'\")\n",
        "data36=deviate_hos1.query(\"dev == 'Modul till anestesiarbetsstation'\")\n",
        "data41=deviate_hos1.query(\"dev == 'Anestesimedelsförgasare, isofluran'\")\n",
        "data56=deviate_hos1.query(\"dev == 'Anestesimedel Förgasare'\")\n",
        "data61=deviate_hos1.query(\"dev == 'Anestesiapparat mobil'\")\n",
        "data71=deviate_hos1.query(\"dev == 'Lungventilator anestesi'\")\n",
        "non_deviatedata_anes = pd.concat([data51, data31,data36,data51, data41, data56, data61, data71], axis=0)"
      ]
    },
    {
      "cell_type": "code",
      "execution_count": 86,
      "metadata": {
        "colab": {
          "base_uri": "https://localhost:8080/"
        },
        "id": "-BdPcDdqZHyJ",
        "outputId": "472e597f-13bc-4554-f4fd-48b1f886428b"
      },
      "outputs": [
        {
          "output_type": "execute_result",
          "data": {
            "text/plain": [
              "(1247, 17)"
            ]
          },
          "metadata": {},
          "execution_count": 86
        }
      ],
      "source": [
        "non_deviatedata_anes.shape"
      ]
    },
    {
      "cell_type": "markdown",
      "metadata": {
        "id": "D31XnUlW10Zo"
      },
      "source": [
        "**pm overdue**"
      ]
    },
    {
      "cell_type": "code",
      "execution_count": 87,
      "metadata": {
        "id": "F0EhtZ9O2LkY"
      },
      "outputs": [],
      "source": [
        "df5=(r\"/content/drive/MyDrive/Thesis_datasets/New-data-SoftPro/Hospitals1/PM_overdue.csv\")"
      ]
    },
    {
      "cell_type": "code",
      "execution_count": 88,
      "metadata": {
        "id": "sbO4L0G32imv"
      },
      "outputs": [],
      "source": [
        "fin5=read_csv(df5,sep=';',names=['inID','V1','V2','V3'])"
      ]
    },
    {
      "cell_type": "code",
      "execution_count": 89,
      "metadata": {
        "colab": {
          "base_uri": "https://localhost:8080/",
          "height": 143
        },
        "id": "-CO-KAFI2rdz",
        "outputId": "fa3fec59-26af-4a35-ff2a-f32b8fdb1637"
      },
      "outputs": [
        {
          "output_type": "execute_result",
          "data": {
            "text/plain": [
              "     inID  V1  V2  V3\n",
              "0   89667   4   0   1\n",
              "1  140607   6   0   0\n",
              "2   93912   5   0   1"
            ],
            "text/html": [
              "\n",
              "  <div id=\"df-b8293281-cd2b-40a5-9312-cbbb186ad17d\">\n",
              "    <div class=\"colab-df-container\">\n",
              "      <div>\n",
              "<style scoped>\n",
              "    .dataframe tbody tr th:only-of-type {\n",
              "        vertical-align: middle;\n",
              "    }\n",
              "\n",
              "    .dataframe tbody tr th {\n",
              "        vertical-align: top;\n",
              "    }\n",
              "\n",
              "    .dataframe thead th {\n",
              "        text-align: right;\n",
              "    }\n",
              "</style>\n",
              "<table border=\"1\" class=\"dataframe\">\n",
              "  <thead>\n",
              "    <tr style=\"text-align: right;\">\n",
              "      <th></th>\n",
              "      <th>inID</th>\n",
              "      <th>V1</th>\n",
              "      <th>V2</th>\n",
              "      <th>V3</th>\n",
              "    </tr>\n",
              "  </thead>\n",
              "  <tbody>\n",
              "    <tr>\n",
              "      <th>0</th>\n",
              "      <td>89667</td>\n",
              "      <td>4</td>\n",
              "      <td>0</td>\n",
              "      <td>1</td>\n",
              "    </tr>\n",
              "    <tr>\n",
              "      <th>1</th>\n",
              "      <td>140607</td>\n",
              "      <td>6</td>\n",
              "      <td>0</td>\n",
              "      <td>0</td>\n",
              "    </tr>\n",
              "    <tr>\n",
              "      <th>2</th>\n",
              "      <td>93912</td>\n",
              "      <td>5</td>\n",
              "      <td>0</td>\n",
              "      <td>1</td>\n",
              "    </tr>\n",
              "  </tbody>\n",
              "</table>\n",
              "</div>\n",
              "      <button class=\"colab-df-convert\" onclick=\"convertToInteractive('df-b8293281-cd2b-40a5-9312-cbbb186ad17d')\"\n",
              "              title=\"Convert this dataframe to an interactive table.\"\n",
              "              style=\"display:none;\">\n",
              "        \n",
              "  <svg xmlns=\"http://www.w3.org/2000/svg\" height=\"24px\"viewBox=\"0 0 24 24\"\n",
              "       width=\"24px\">\n",
              "    <path d=\"M0 0h24v24H0V0z\" fill=\"none\"/>\n",
              "    <path d=\"M18.56 5.44l.94 2.06.94-2.06 2.06-.94-2.06-.94-.94-2.06-.94 2.06-2.06.94zm-11 1L8.5 8.5l.94-2.06 2.06-.94-2.06-.94L8.5 2.5l-.94 2.06-2.06.94zm10 10l.94 2.06.94-2.06 2.06-.94-2.06-.94-.94-2.06-.94 2.06-2.06.94z\"/><path d=\"M17.41 7.96l-1.37-1.37c-.4-.4-.92-.59-1.43-.59-.52 0-1.04.2-1.43.59L10.3 9.45l-7.72 7.72c-.78.78-.78 2.05 0 2.83L4 21.41c.39.39.9.59 1.41.59.51 0 1.02-.2 1.41-.59l7.78-7.78 2.81-2.81c.8-.78.8-2.07 0-2.86zM5.41 20L4 18.59l7.72-7.72 1.47 1.35L5.41 20z\"/>\n",
              "  </svg>\n",
              "      </button>\n",
              "      \n",
              "  <style>\n",
              "    .colab-df-container {\n",
              "      display:flex;\n",
              "      flex-wrap:wrap;\n",
              "      gap: 12px;\n",
              "    }\n",
              "\n",
              "    .colab-df-convert {\n",
              "      background-color: #E8F0FE;\n",
              "      border: none;\n",
              "      border-radius: 50%;\n",
              "      cursor: pointer;\n",
              "      display: none;\n",
              "      fill: #1967D2;\n",
              "      height: 32px;\n",
              "      padding: 0 0 0 0;\n",
              "      width: 32px;\n",
              "    }\n",
              "\n",
              "    .colab-df-convert:hover {\n",
              "      background-color: #E2EBFA;\n",
              "      box-shadow: 0px 1px 2px rgba(60, 64, 67, 0.3), 0px 1px 3px 1px rgba(60, 64, 67, 0.15);\n",
              "      fill: #174EA6;\n",
              "    }\n",
              "\n",
              "    [theme=dark] .colab-df-convert {\n",
              "      background-color: #3B4455;\n",
              "      fill: #D2E3FC;\n",
              "    }\n",
              "\n",
              "    [theme=dark] .colab-df-convert:hover {\n",
              "      background-color: #434B5C;\n",
              "      box-shadow: 0px 1px 3px 1px rgba(0, 0, 0, 0.15);\n",
              "      filter: drop-shadow(0px 1px 2px rgba(0, 0, 0, 0.3));\n",
              "      fill: #FFFFFF;\n",
              "    }\n",
              "  </style>\n",
              "\n",
              "      <script>\n",
              "        const buttonEl =\n",
              "          document.querySelector('#df-b8293281-cd2b-40a5-9312-cbbb186ad17d button.colab-df-convert');\n",
              "        buttonEl.style.display =\n",
              "          google.colab.kernel.accessAllowed ? 'block' : 'none';\n",
              "\n",
              "        async function convertToInteractive(key) {\n",
              "          const element = document.querySelector('#df-b8293281-cd2b-40a5-9312-cbbb186ad17d');\n",
              "          const dataTable =\n",
              "            await google.colab.kernel.invokeFunction('convertToInteractive',\n",
              "                                                     [key], {});\n",
              "          if (!dataTable) return;\n",
              "\n",
              "          const docLinkHtml = 'Like what you see? Visit the ' +\n",
              "            '<a target=\"_blank\" href=https://colab.research.google.com/notebooks/data_table.ipynb>data table notebook</a>'\n",
              "            + ' to learn more about interactive tables.';\n",
              "          element.innerHTML = '';\n",
              "          dataTable['output_type'] = 'display_data';\n",
              "          await google.colab.output.renderOutput(dataTable, element);\n",
              "          const docLink = document.createElement('div');\n",
              "          docLink.innerHTML = docLinkHtml;\n",
              "          element.appendChild(docLink);\n",
              "        }\n",
              "      </script>\n",
              "    </div>\n",
              "  </div>\n",
              "  "
            ]
          },
          "metadata": {},
          "execution_count": 89
        }
      ],
      "source": [
        "fin5.head(3)"
      ]
    },
    {
      "cell_type": "markdown",
      "metadata": {
        "id": "BjFvwT7xIqSE"
      },
      "source": [
        "# Connecting **wo** AND **WO_data** files based on inventarieID \n"
      ]
    },
    {
      "cell_type": "code",
      "execution_count": 90,
      "metadata": {
        "id": "9zBxKXtxW702"
      },
      "outputs": [],
      "source": [
        "inner_merged_total_WO = pd.merge(fin6,fin7,left_index=True, right_index=True)"
      ]
    },
    {
      "cell_type": "markdown",
      "metadata": {
        "id": "nZ8NUsh6gd96"
      },
      "source": []
    },
    {
      "cell_type": "code",
      "execution_count": 91,
      "metadata": {
        "colab": {
          "base_uri": "https://localhost:8080/"
        },
        "id": "JjWGMmU_koBe",
        "outputId": "7d08f1d0-9f88-4c75-e20a-7b048bf142b6"
      },
      "outputs": [
        {
          "output_type": "execute_result",
          "data": {
            "text/plain": [
              "(707677, 10)"
            ]
          },
          "metadata": {},
          "execution_count": 91
        }
      ],
      "source": [
        "inner_merged_total_WO.shape"
      ]
    },
    {
      "cell_type": "code",
      "execution_count": 92,
      "metadata": {
        "colab": {
          "base_uri": "https://localhost:8080/",
          "height": 0
        },
        "id": "7cpiqkpAk5lF",
        "outputId": "984b0968-7d52-4134-a939-e0f59ae60074"
      },
      "outputs": [
        {
          "output_type": "execute_result",
          "data": {
            "text/plain": [
              "             ID                   issued                Completed  \\\n",
              "1364.0  1233471  2019-05-03 00:00:00.000  2019-05-09 00:00:00.000   \n",
              "1364.0   662950  2017-05-26 00:00:00.000  2017-05-26 00:00:00.000   \n",
              "1364.0   612067  2016-01-04 00:00:00.000  2016-01-04 00:00:00.000   \n",
              "1364.0   393467  2012-07-23 00:00:00.000  2012-12-21 00:00:00.000   \n",
              "1364.0  1237176  2019-05-21 00:00:00.000  2019-05-21 00:00:00.000   \n",
              "1364.0  1222558  2019-02-28 00:00:00.000  2019-02-28 00:00:00.000   \n",
              "1364.0  1167578  2018-04-24 00:00:00.000  2018-04-24 00:00:00.000   \n",
              "1364.0   510206  2013-02-14 00:00:00.000  2013-02-14 00:00:00.000   \n",
              "1364.0   397564  2012-10-09 00:00:00.000  2012-10-09 00:00:00.000   \n",
              "1364.0   394949  2012-08-24 00:00:00.000  2013-01-28 00:00:00.000   \n",
              "\n",
              "                    AOEkKlarDat  InventarieID  inventarieID     last_wo  \\\n",
              "1364.0  2019-05-09 00:00:00.000        1364.0        1364.0  2020-08-13   \n",
              "1364.0  2017-05-26 00:00:00.000        1364.0        1364.0  2020-08-13   \n",
              "1364.0  2016-01-04 00:00:00.000        1364.0        1364.0  2020-08-13   \n",
              "1364.0  2012-12-21 00:00:00.000        1364.0        1364.0  2020-08-13   \n",
              "1364.0  2019-05-21 00:00:00.000        1364.0        1364.0  2020-08-13   \n",
              "1364.0  2019-02-28 00:00:00.000        1364.0        1364.0  2020-08-13   \n",
              "1364.0  2018-04-24 00:00:00.000        1364.0        1364.0  2020-08-13   \n",
              "1364.0  2013-02-14 00:00:00.000        1364.0        1364.0  2020-08-13   \n",
              "1364.0  2012-10-09 00:00:00.000        1364.0        1364.0  2020-08-13   \n",
              "1364.0  2013-01-28 00:00:00.000        1364.0        1364.0  2020-08-13   \n",
              "\n",
              "          first_wo  Count_wo  meantime  \n",
              "1364.0  2011-03-25        65        52  \n",
              "1364.0  2011-03-25        65        52  \n",
              "1364.0  2011-03-25        65        52  \n",
              "1364.0  2011-03-25        65        52  \n",
              "1364.0  2011-03-25        65        52  \n",
              "1364.0  2011-03-25        65        52  \n",
              "1364.0  2011-03-25        65        52  \n",
              "1364.0  2011-03-25        65        52  \n",
              "1364.0  2011-03-25        65        52  \n",
              "1364.0  2011-03-25        65        52  "
            ],
            "text/html": [
              "\n",
              "  <div id=\"df-5728f087-c24b-4635-ad9a-7d702f7b6ed9\">\n",
              "    <div class=\"colab-df-container\">\n",
              "      <div>\n",
              "<style scoped>\n",
              "    .dataframe tbody tr th:only-of-type {\n",
              "        vertical-align: middle;\n",
              "    }\n",
              "\n",
              "    .dataframe tbody tr th {\n",
              "        vertical-align: top;\n",
              "    }\n",
              "\n",
              "    .dataframe thead th {\n",
              "        text-align: right;\n",
              "    }\n",
              "</style>\n",
              "<table border=\"1\" class=\"dataframe\">\n",
              "  <thead>\n",
              "    <tr style=\"text-align: right;\">\n",
              "      <th></th>\n",
              "      <th>ID</th>\n",
              "      <th>issued</th>\n",
              "      <th>Completed</th>\n",
              "      <th>AOEkKlarDat</th>\n",
              "      <th>InventarieID</th>\n",
              "      <th>inventarieID</th>\n",
              "      <th>last_wo</th>\n",
              "      <th>first_wo</th>\n",
              "      <th>Count_wo</th>\n",
              "      <th>meantime</th>\n",
              "    </tr>\n",
              "  </thead>\n",
              "  <tbody>\n",
              "    <tr>\n",
              "      <th>1364.0</th>\n",
              "      <td>1233471</td>\n",
              "      <td>2019-05-03 00:00:00.000</td>\n",
              "      <td>2019-05-09 00:00:00.000</td>\n",
              "      <td>2019-05-09 00:00:00.000</td>\n",
              "      <td>1364.0</td>\n",
              "      <td>1364.0</td>\n",
              "      <td>2020-08-13</td>\n",
              "      <td>2011-03-25</td>\n",
              "      <td>65</td>\n",
              "      <td>52</td>\n",
              "    </tr>\n",
              "    <tr>\n",
              "      <th>1364.0</th>\n",
              "      <td>662950</td>\n",
              "      <td>2017-05-26 00:00:00.000</td>\n",
              "      <td>2017-05-26 00:00:00.000</td>\n",
              "      <td>2017-05-26 00:00:00.000</td>\n",
              "      <td>1364.0</td>\n",
              "      <td>1364.0</td>\n",
              "      <td>2020-08-13</td>\n",
              "      <td>2011-03-25</td>\n",
              "      <td>65</td>\n",
              "      <td>52</td>\n",
              "    </tr>\n",
              "    <tr>\n",
              "      <th>1364.0</th>\n",
              "      <td>612067</td>\n",
              "      <td>2016-01-04 00:00:00.000</td>\n",
              "      <td>2016-01-04 00:00:00.000</td>\n",
              "      <td>2016-01-04 00:00:00.000</td>\n",
              "      <td>1364.0</td>\n",
              "      <td>1364.0</td>\n",
              "      <td>2020-08-13</td>\n",
              "      <td>2011-03-25</td>\n",
              "      <td>65</td>\n",
              "      <td>52</td>\n",
              "    </tr>\n",
              "    <tr>\n",
              "      <th>1364.0</th>\n",
              "      <td>393467</td>\n",
              "      <td>2012-07-23 00:00:00.000</td>\n",
              "      <td>2012-12-21 00:00:00.000</td>\n",
              "      <td>2012-12-21 00:00:00.000</td>\n",
              "      <td>1364.0</td>\n",
              "      <td>1364.0</td>\n",
              "      <td>2020-08-13</td>\n",
              "      <td>2011-03-25</td>\n",
              "      <td>65</td>\n",
              "      <td>52</td>\n",
              "    </tr>\n",
              "    <tr>\n",
              "      <th>1364.0</th>\n",
              "      <td>1237176</td>\n",
              "      <td>2019-05-21 00:00:00.000</td>\n",
              "      <td>2019-05-21 00:00:00.000</td>\n",
              "      <td>2019-05-21 00:00:00.000</td>\n",
              "      <td>1364.0</td>\n",
              "      <td>1364.0</td>\n",
              "      <td>2020-08-13</td>\n",
              "      <td>2011-03-25</td>\n",
              "      <td>65</td>\n",
              "      <td>52</td>\n",
              "    </tr>\n",
              "    <tr>\n",
              "      <th>1364.0</th>\n",
              "      <td>1222558</td>\n",
              "      <td>2019-02-28 00:00:00.000</td>\n",
              "      <td>2019-02-28 00:00:00.000</td>\n",
              "      <td>2019-02-28 00:00:00.000</td>\n",
              "      <td>1364.0</td>\n",
              "      <td>1364.0</td>\n",
              "      <td>2020-08-13</td>\n",
              "      <td>2011-03-25</td>\n",
              "      <td>65</td>\n",
              "      <td>52</td>\n",
              "    </tr>\n",
              "    <tr>\n",
              "      <th>1364.0</th>\n",
              "      <td>1167578</td>\n",
              "      <td>2018-04-24 00:00:00.000</td>\n",
              "      <td>2018-04-24 00:00:00.000</td>\n",
              "      <td>2018-04-24 00:00:00.000</td>\n",
              "      <td>1364.0</td>\n",
              "      <td>1364.0</td>\n",
              "      <td>2020-08-13</td>\n",
              "      <td>2011-03-25</td>\n",
              "      <td>65</td>\n",
              "      <td>52</td>\n",
              "    </tr>\n",
              "    <tr>\n",
              "      <th>1364.0</th>\n",
              "      <td>510206</td>\n",
              "      <td>2013-02-14 00:00:00.000</td>\n",
              "      <td>2013-02-14 00:00:00.000</td>\n",
              "      <td>2013-02-14 00:00:00.000</td>\n",
              "      <td>1364.0</td>\n",
              "      <td>1364.0</td>\n",
              "      <td>2020-08-13</td>\n",
              "      <td>2011-03-25</td>\n",
              "      <td>65</td>\n",
              "      <td>52</td>\n",
              "    </tr>\n",
              "    <tr>\n",
              "      <th>1364.0</th>\n",
              "      <td>397564</td>\n",
              "      <td>2012-10-09 00:00:00.000</td>\n",
              "      <td>2012-10-09 00:00:00.000</td>\n",
              "      <td>2012-10-09 00:00:00.000</td>\n",
              "      <td>1364.0</td>\n",
              "      <td>1364.0</td>\n",
              "      <td>2020-08-13</td>\n",
              "      <td>2011-03-25</td>\n",
              "      <td>65</td>\n",
              "      <td>52</td>\n",
              "    </tr>\n",
              "    <tr>\n",
              "      <th>1364.0</th>\n",
              "      <td>394949</td>\n",
              "      <td>2012-08-24 00:00:00.000</td>\n",
              "      <td>2013-01-28 00:00:00.000</td>\n",
              "      <td>2013-01-28 00:00:00.000</td>\n",
              "      <td>1364.0</td>\n",
              "      <td>1364.0</td>\n",
              "      <td>2020-08-13</td>\n",
              "      <td>2011-03-25</td>\n",
              "      <td>65</td>\n",
              "      <td>52</td>\n",
              "    </tr>\n",
              "  </tbody>\n",
              "</table>\n",
              "</div>\n",
              "      <button class=\"colab-df-convert\" onclick=\"convertToInteractive('df-5728f087-c24b-4635-ad9a-7d702f7b6ed9')\"\n",
              "              title=\"Convert this dataframe to an interactive table.\"\n",
              "              style=\"display:none;\">\n",
              "        \n",
              "  <svg xmlns=\"http://www.w3.org/2000/svg\" height=\"24px\"viewBox=\"0 0 24 24\"\n",
              "       width=\"24px\">\n",
              "    <path d=\"M0 0h24v24H0V0z\" fill=\"none\"/>\n",
              "    <path d=\"M18.56 5.44l.94 2.06.94-2.06 2.06-.94-2.06-.94-.94-2.06-.94 2.06-2.06.94zm-11 1L8.5 8.5l.94-2.06 2.06-.94-2.06-.94L8.5 2.5l-.94 2.06-2.06.94zm10 10l.94 2.06.94-2.06 2.06-.94-2.06-.94-.94-2.06-.94 2.06-2.06.94z\"/><path d=\"M17.41 7.96l-1.37-1.37c-.4-.4-.92-.59-1.43-.59-.52 0-1.04.2-1.43.59L10.3 9.45l-7.72 7.72c-.78.78-.78 2.05 0 2.83L4 21.41c.39.39.9.59 1.41.59.51 0 1.02-.2 1.41-.59l7.78-7.78 2.81-2.81c.8-.78.8-2.07 0-2.86zM5.41 20L4 18.59l7.72-7.72 1.47 1.35L5.41 20z\"/>\n",
              "  </svg>\n",
              "      </button>\n",
              "      \n",
              "  <style>\n",
              "    .colab-df-container {\n",
              "      display:flex;\n",
              "      flex-wrap:wrap;\n",
              "      gap: 12px;\n",
              "    }\n",
              "\n",
              "    .colab-df-convert {\n",
              "      background-color: #E8F0FE;\n",
              "      border: none;\n",
              "      border-radius: 50%;\n",
              "      cursor: pointer;\n",
              "      display: none;\n",
              "      fill: #1967D2;\n",
              "      height: 32px;\n",
              "      padding: 0 0 0 0;\n",
              "      width: 32px;\n",
              "    }\n",
              "\n",
              "    .colab-df-convert:hover {\n",
              "      background-color: #E2EBFA;\n",
              "      box-shadow: 0px 1px 2px rgba(60, 64, 67, 0.3), 0px 1px 3px 1px rgba(60, 64, 67, 0.15);\n",
              "      fill: #174EA6;\n",
              "    }\n",
              "\n",
              "    [theme=dark] .colab-df-convert {\n",
              "      background-color: #3B4455;\n",
              "      fill: #D2E3FC;\n",
              "    }\n",
              "\n",
              "    [theme=dark] .colab-df-convert:hover {\n",
              "      background-color: #434B5C;\n",
              "      box-shadow: 0px 1px 3px 1px rgba(0, 0, 0, 0.15);\n",
              "      filter: drop-shadow(0px 1px 2px rgba(0, 0, 0, 0.3));\n",
              "      fill: #FFFFFF;\n",
              "    }\n",
              "  </style>\n",
              "\n",
              "      <script>\n",
              "        const buttonEl =\n",
              "          document.querySelector('#df-5728f087-c24b-4635-ad9a-7d702f7b6ed9 button.colab-df-convert');\n",
              "        buttonEl.style.display =\n",
              "          google.colab.kernel.accessAllowed ? 'block' : 'none';\n",
              "\n",
              "        async function convertToInteractive(key) {\n",
              "          const element = document.querySelector('#df-5728f087-c24b-4635-ad9a-7d702f7b6ed9');\n",
              "          const dataTable =\n",
              "            await google.colab.kernel.invokeFunction('convertToInteractive',\n",
              "                                                     [key], {});\n",
              "          if (!dataTable) return;\n",
              "\n",
              "          const docLinkHtml = 'Like what you see? Visit the ' +\n",
              "            '<a target=\"_blank\" href=https://colab.research.google.com/notebooks/data_table.ipynb>data table notebook</a>'\n",
              "            + ' to learn more about interactive tables.';\n",
              "          element.innerHTML = '';\n",
              "          dataTable['output_type'] = 'display_data';\n",
              "          await google.colab.output.renderOutput(dataTable, element);\n",
              "          const docLink = document.createElement('div');\n",
              "          docLink.innerHTML = docLinkHtml;\n",
              "          element.appendChild(docLink);\n",
              "        }\n",
              "      </script>\n",
              "    </div>\n",
              "  </div>\n",
              "  "
            ]
          },
          "metadata": {},
          "execution_count": 92
        }
      ],
      "source": [
        "inner_merged_total_WO.head(10)"
      ]
    },
    {
      "cell_type": "code",
      "execution_count": 93,
      "metadata": {
        "colab": {
          "base_uri": "https://localhost:8080/"
        },
        "id": "PlAQ8ppmp6J2",
        "outputId": "e874d57e-5e5e-427a-dc0a-add025facc60"
      },
      "outputs": [
        {
          "output_type": "execute_result",
          "data": {
            "text/plain": [
              "ID       issued                   Completed                AOEkKlarDat              InventarieID  inventarieID  last_wo     first_wo    Count_wo  meantime\n",
              "231      2008-01-03 00:00:00.000  2008-01-03 00:00:00.000  2011-02-25 00:00:00.000  39284.0       39284.0       2011-10-13  2008-01-03  3         459         1\n",
              "1001074  2007-06-15 00:00:00.000  2007-06-15 00:00:00.000  2007-06-18 00:00:00.000  228377.0      228377.0      2012-06-20  2007-05-16  9         206         1\n",
              "1001043  2007-06-18 00:00:00.000  2007-06-18 00:00:00.000  2007-06-18 00:00:00.000  227777.0      227777.0      2019-12-09  1998-06-03  1253      6           1\n",
              "1001045  2007-06-18 00:00:00.000  2007-06-18 00:00:00.000  2007-06-18 00:00:00.000  232943.0      232943.0      2014-06-10  2001-12-19  15        303         1\n",
              "1001048  2007-06-09 00:00:00.000  2007-06-09 00:00:00.000  2007-06-18 00:00:00.000  227564.0      227564.0      2010-06-24  1995-03-22  1331      4           1\n",
              "                                                                                                                                                             ..\n",
              "576686   2015-01-22 00:00:00.000  2015-01-27 00:00:00.000  2015-01-27 00:00:00.000  92123.0       92123.0       2016-02-17  2006-12-28  5         667         1\n",
              "576687   2015-01-22 00:00:00.000  2015-01-22 00:00:00.000  2015-01-22 00:00:00.000  141898.0      141898.0      2015-01-22  2014-01-16  3         123         1\n",
              "576688   2015-01-22 00:00:00.000  2015-03-10 00:00:00.000  2015-03-12 00:00:00.000  89098.0       89098.0       2019-01-09  2006-01-31  5         945         1\n",
              "576689   2015-01-22 00:00:00.000  2015-01-22 00:00:00.000  2015-01-22 00:00:00.000  140902.0      140902.0      2020-11-25  2013-10-11  12        216         1\n",
              "1436587  2022-02-28 00:00:00.000  2022-02-28 00:00:00.000  2022-02-28 00:00:00.000  68381.0       68381.0       2018-02-19  2002-06-14  6         954         1\n",
              "Length: 707677, dtype: int64"
            ]
          },
          "metadata": {},
          "execution_count": 93
        }
      ],
      "source": [
        "inner_merged_total_WO.value_counts()"
      ]
    },
    {
      "cell_type": "code",
      "execution_count": 94,
      "metadata": {
        "colab": {
          "base_uri": "https://localhost:8080/",
          "height": 0
        },
        "id": "S9ShvDProjRY",
        "outputId": "68a56d3b-9fd2-4505-872d-eb51193689e4"
      },
      "outputs": [
        {
          "output_type": "execute_result",
          "data": {
            "text/plain": [
              "             ID                   issued                Completed  \\\n",
              "92123.0  279615  2009-07-09 00:00:00.000  2009-07-09 00:00:00.000   \n",
              "92123.0  360856  2011-11-22 00:00:00.000  2011-11-22 00:00:00.000   \n",
              "92123.0  243278  2009-09-16 00:00:00.000  2009-10-02 00:00:00.000   \n",
              "92123.0  400964  2012-12-05 00:00:00.000  2012-12-05 00:00:00.000   \n",
              "92123.0  246349  2008-04-22 00:00:00.000  2008-05-20 00:00:00.000   \n",
              "92123.0  246803  2008-05-20 00:00:00.000  2008-05-20 00:00:00.000   \n",
              "92123.0  616358  2016-02-17 00:00:00.000  2016-02-17 00:00:00.000   \n",
              "92123.0  576686  2015-01-22 00:00:00.000  2015-01-27 00:00:00.000   \n",
              "92123.0  310063  2007-10-24 00:00:00.000  2007-10-24 00:00:00.000   \n",
              "92123.0  310062  2006-12-28 00:00:00.000  2006-12-28 00:00:00.000   \n",
              "92123.0  262236  2010-10-13 00:00:00.000  2010-10-13 00:00:00.000   \n",
              "92123.0  252315  2009-12-28 00:00:00.000  2009-12-28 00:00:00.000   \n",
              "\n",
              "                     AOEkKlarDat  InventarieID  inventarieID     last_wo  \\\n",
              "92123.0  2009-07-09 00:00:00.000       92123.0       92123.0  2016-02-17   \n",
              "92123.0  2011-11-22 00:00:00.000       92123.0       92123.0  2016-02-17   \n",
              "92123.0  2009-10-02 00:00:00.000       92123.0       92123.0  2016-02-17   \n",
              "92123.0  2012-12-05 00:00:00.000       92123.0       92123.0  2016-02-17   \n",
              "92123.0  2008-05-20 00:00:00.000       92123.0       92123.0  2016-02-17   \n",
              "92123.0  2008-05-20 00:00:00.000       92123.0       92123.0  2016-02-17   \n",
              "92123.0  2016-02-17 00:00:00.000       92123.0       92123.0  2016-02-17   \n",
              "92123.0  2015-01-27 00:00:00.000       92123.0       92123.0  2016-02-17   \n",
              "92123.0  2007-10-24 00:00:00.000       92123.0       92123.0  2016-02-17   \n",
              "92123.0  2006-12-28 00:00:00.000       92123.0       92123.0  2016-02-17   \n",
              "92123.0  2010-10-13 00:00:00.000       92123.0       92123.0  2016-02-17   \n",
              "92123.0  2009-12-28 00:00:00.000       92123.0       92123.0  2016-02-17   \n",
              "\n",
              "           first_wo  Count_wo  meantime  \n",
              "92123.0  2006-12-28         5       667  \n",
              "92123.0  2006-12-28         5       667  \n",
              "92123.0  2006-12-28         5       667  \n",
              "92123.0  2006-12-28         5       667  \n",
              "92123.0  2006-12-28         5       667  \n",
              "92123.0  2006-12-28         5       667  \n",
              "92123.0  2006-12-28         5       667  \n",
              "92123.0  2006-12-28         5       667  \n",
              "92123.0  2006-12-28         5       667  \n",
              "92123.0  2006-12-28         5       667  \n",
              "92123.0  2006-12-28         5       667  \n",
              "92123.0  2006-12-28         5       667  "
            ],
            "text/html": [
              "\n",
              "  <div id=\"df-6da8f766-8b89-458c-a760-4ddec24f755a\">\n",
              "    <div class=\"colab-df-container\">\n",
              "      <div>\n",
              "<style scoped>\n",
              "    .dataframe tbody tr th:only-of-type {\n",
              "        vertical-align: middle;\n",
              "    }\n",
              "\n",
              "    .dataframe tbody tr th {\n",
              "        vertical-align: top;\n",
              "    }\n",
              "\n",
              "    .dataframe thead th {\n",
              "        text-align: right;\n",
              "    }\n",
              "</style>\n",
              "<table border=\"1\" class=\"dataframe\">\n",
              "  <thead>\n",
              "    <tr style=\"text-align: right;\">\n",
              "      <th></th>\n",
              "      <th>ID</th>\n",
              "      <th>issued</th>\n",
              "      <th>Completed</th>\n",
              "      <th>AOEkKlarDat</th>\n",
              "      <th>InventarieID</th>\n",
              "      <th>inventarieID</th>\n",
              "      <th>last_wo</th>\n",
              "      <th>first_wo</th>\n",
              "      <th>Count_wo</th>\n",
              "      <th>meantime</th>\n",
              "    </tr>\n",
              "  </thead>\n",
              "  <tbody>\n",
              "    <tr>\n",
              "      <th>92123.0</th>\n",
              "      <td>279615</td>\n",
              "      <td>2009-07-09 00:00:00.000</td>\n",
              "      <td>2009-07-09 00:00:00.000</td>\n",
              "      <td>2009-07-09 00:00:00.000</td>\n",
              "      <td>92123.0</td>\n",
              "      <td>92123.0</td>\n",
              "      <td>2016-02-17</td>\n",
              "      <td>2006-12-28</td>\n",
              "      <td>5</td>\n",
              "      <td>667</td>\n",
              "    </tr>\n",
              "    <tr>\n",
              "      <th>92123.0</th>\n",
              "      <td>360856</td>\n",
              "      <td>2011-11-22 00:00:00.000</td>\n",
              "      <td>2011-11-22 00:00:00.000</td>\n",
              "      <td>2011-11-22 00:00:00.000</td>\n",
              "      <td>92123.0</td>\n",
              "      <td>92123.0</td>\n",
              "      <td>2016-02-17</td>\n",
              "      <td>2006-12-28</td>\n",
              "      <td>5</td>\n",
              "      <td>667</td>\n",
              "    </tr>\n",
              "    <tr>\n",
              "      <th>92123.0</th>\n",
              "      <td>243278</td>\n",
              "      <td>2009-09-16 00:00:00.000</td>\n",
              "      <td>2009-10-02 00:00:00.000</td>\n",
              "      <td>2009-10-02 00:00:00.000</td>\n",
              "      <td>92123.0</td>\n",
              "      <td>92123.0</td>\n",
              "      <td>2016-02-17</td>\n",
              "      <td>2006-12-28</td>\n",
              "      <td>5</td>\n",
              "      <td>667</td>\n",
              "    </tr>\n",
              "    <tr>\n",
              "      <th>92123.0</th>\n",
              "      <td>400964</td>\n",
              "      <td>2012-12-05 00:00:00.000</td>\n",
              "      <td>2012-12-05 00:00:00.000</td>\n",
              "      <td>2012-12-05 00:00:00.000</td>\n",
              "      <td>92123.0</td>\n",
              "      <td>92123.0</td>\n",
              "      <td>2016-02-17</td>\n",
              "      <td>2006-12-28</td>\n",
              "      <td>5</td>\n",
              "      <td>667</td>\n",
              "    </tr>\n",
              "    <tr>\n",
              "      <th>92123.0</th>\n",
              "      <td>246349</td>\n",
              "      <td>2008-04-22 00:00:00.000</td>\n",
              "      <td>2008-05-20 00:00:00.000</td>\n",
              "      <td>2008-05-20 00:00:00.000</td>\n",
              "      <td>92123.0</td>\n",
              "      <td>92123.0</td>\n",
              "      <td>2016-02-17</td>\n",
              "      <td>2006-12-28</td>\n",
              "      <td>5</td>\n",
              "      <td>667</td>\n",
              "    </tr>\n",
              "    <tr>\n",
              "      <th>92123.0</th>\n",
              "      <td>246803</td>\n",
              "      <td>2008-05-20 00:00:00.000</td>\n",
              "      <td>2008-05-20 00:00:00.000</td>\n",
              "      <td>2008-05-20 00:00:00.000</td>\n",
              "      <td>92123.0</td>\n",
              "      <td>92123.0</td>\n",
              "      <td>2016-02-17</td>\n",
              "      <td>2006-12-28</td>\n",
              "      <td>5</td>\n",
              "      <td>667</td>\n",
              "    </tr>\n",
              "    <tr>\n",
              "      <th>92123.0</th>\n",
              "      <td>616358</td>\n",
              "      <td>2016-02-17 00:00:00.000</td>\n",
              "      <td>2016-02-17 00:00:00.000</td>\n",
              "      <td>2016-02-17 00:00:00.000</td>\n",
              "      <td>92123.0</td>\n",
              "      <td>92123.0</td>\n",
              "      <td>2016-02-17</td>\n",
              "      <td>2006-12-28</td>\n",
              "      <td>5</td>\n",
              "      <td>667</td>\n",
              "    </tr>\n",
              "    <tr>\n",
              "      <th>92123.0</th>\n",
              "      <td>576686</td>\n",
              "      <td>2015-01-22 00:00:00.000</td>\n",
              "      <td>2015-01-27 00:00:00.000</td>\n",
              "      <td>2015-01-27 00:00:00.000</td>\n",
              "      <td>92123.0</td>\n",
              "      <td>92123.0</td>\n",
              "      <td>2016-02-17</td>\n",
              "      <td>2006-12-28</td>\n",
              "      <td>5</td>\n",
              "      <td>667</td>\n",
              "    </tr>\n",
              "    <tr>\n",
              "      <th>92123.0</th>\n",
              "      <td>310063</td>\n",
              "      <td>2007-10-24 00:00:00.000</td>\n",
              "      <td>2007-10-24 00:00:00.000</td>\n",
              "      <td>2007-10-24 00:00:00.000</td>\n",
              "      <td>92123.0</td>\n",
              "      <td>92123.0</td>\n",
              "      <td>2016-02-17</td>\n",
              "      <td>2006-12-28</td>\n",
              "      <td>5</td>\n",
              "      <td>667</td>\n",
              "    </tr>\n",
              "    <tr>\n",
              "      <th>92123.0</th>\n",
              "      <td>310062</td>\n",
              "      <td>2006-12-28 00:00:00.000</td>\n",
              "      <td>2006-12-28 00:00:00.000</td>\n",
              "      <td>2006-12-28 00:00:00.000</td>\n",
              "      <td>92123.0</td>\n",
              "      <td>92123.0</td>\n",
              "      <td>2016-02-17</td>\n",
              "      <td>2006-12-28</td>\n",
              "      <td>5</td>\n",
              "      <td>667</td>\n",
              "    </tr>\n",
              "    <tr>\n",
              "      <th>92123.0</th>\n",
              "      <td>262236</td>\n",
              "      <td>2010-10-13 00:00:00.000</td>\n",
              "      <td>2010-10-13 00:00:00.000</td>\n",
              "      <td>2010-10-13 00:00:00.000</td>\n",
              "      <td>92123.0</td>\n",
              "      <td>92123.0</td>\n",
              "      <td>2016-02-17</td>\n",
              "      <td>2006-12-28</td>\n",
              "      <td>5</td>\n",
              "      <td>667</td>\n",
              "    </tr>\n",
              "    <tr>\n",
              "      <th>92123.0</th>\n",
              "      <td>252315</td>\n",
              "      <td>2009-12-28 00:00:00.000</td>\n",
              "      <td>2009-12-28 00:00:00.000</td>\n",
              "      <td>2009-12-28 00:00:00.000</td>\n",
              "      <td>92123.0</td>\n",
              "      <td>92123.0</td>\n",
              "      <td>2016-02-17</td>\n",
              "      <td>2006-12-28</td>\n",
              "      <td>5</td>\n",
              "      <td>667</td>\n",
              "    </tr>\n",
              "  </tbody>\n",
              "</table>\n",
              "</div>\n",
              "      <button class=\"colab-df-convert\" onclick=\"convertToInteractive('df-6da8f766-8b89-458c-a760-4ddec24f755a')\"\n",
              "              title=\"Convert this dataframe to an interactive table.\"\n",
              "              style=\"display:none;\">\n",
              "        \n",
              "  <svg xmlns=\"http://www.w3.org/2000/svg\" height=\"24px\"viewBox=\"0 0 24 24\"\n",
              "       width=\"24px\">\n",
              "    <path d=\"M0 0h24v24H0V0z\" fill=\"none\"/>\n",
              "    <path d=\"M18.56 5.44l.94 2.06.94-2.06 2.06-.94-2.06-.94-.94-2.06-.94 2.06-2.06.94zm-11 1L8.5 8.5l.94-2.06 2.06-.94-2.06-.94L8.5 2.5l-.94 2.06-2.06.94zm10 10l.94 2.06.94-2.06 2.06-.94-2.06-.94-.94-2.06-.94 2.06-2.06.94z\"/><path d=\"M17.41 7.96l-1.37-1.37c-.4-.4-.92-.59-1.43-.59-.52 0-1.04.2-1.43.59L10.3 9.45l-7.72 7.72c-.78.78-.78 2.05 0 2.83L4 21.41c.39.39.9.59 1.41.59.51 0 1.02-.2 1.41-.59l7.78-7.78 2.81-2.81c.8-.78.8-2.07 0-2.86zM5.41 20L4 18.59l7.72-7.72 1.47 1.35L5.41 20z\"/>\n",
              "  </svg>\n",
              "      </button>\n",
              "      \n",
              "  <style>\n",
              "    .colab-df-container {\n",
              "      display:flex;\n",
              "      flex-wrap:wrap;\n",
              "      gap: 12px;\n",
              "    }\n",
              "\n",
              "    .colab-df-convert {\n",
              "      background-color: #E8F0FE;\n",
              "      border: none;\n",
              "      border-radius: 50%;\n",
              "      cursor: pointer;\n",
              "      display: none;\n",
              "      fill: #1967D2;\n",
              "      height: 32px;\n",
              "      padding: 0 0 0 0;\n",
              "      width: 32px;\n",
              "    }\n",
              "\n",
              "    .colab-df-convert:hover {\n",
              "      background-color: #E2EBFA;\n",
              "      box-shadow: 0px 1px 2px rgba(60, 64, 67, 0.3), 0px 1px 3px 1px rgba(60, 64, 67, 0.15);\n",
              "      fill: #174EA6;\n",
              "    }\n",
              "\n",
              "    [theme=dark] .colab-df-convert {\n",
              "      background-color: #3B4455;\n",
              "      fill: #D2E3FC;\n",
              "    }\n",
              "\n",
              "    [theme=dark] .colab-df-convert:hover {\n",
              "      background-color: #434B5C;\n",
              "      box-shadow: 0px 1px 3px 1px rgba(0, 0, 0, 0.15);\n",
              "      filter: drop-shadow(0px 1px 2px rgba(0, 0, 0, 0.3));\n",
              "      fill: #FFFFFF;\n",
              "    }\n",
              "  </style>\n",
              "\n",
              "      <script>\n",
              "        const buttonEl =\n",
              "          document.querySelector('#df-6da8f766-8b89-458c-a760-4ddec24f755a button.colab-df-convert');\n",
              "        buttonEl.style.display =\n",
              "          google.colab.kernel.accessAllowed ? 'block' : 'none';\n",
              "\n",
              "        async function convertToInteractive(key) {\n",
              "          const element = document.querySelector('#df-6da8f766-8b89-458c-a760-4ddec24f755a');\n",
              "          const dataTable =\n",
              "            await google.colab.kernel.invokeFunction('convertToInteractive',\n",
              "                                                     [key], {});\n",
              "          if (!dataTable) return;\n",
              "\n",
              "          const docLinkHtml = 'Like what you see? Visit the ' +\n",
              "            '<a target=\"_blank\" href=https://colab.research.google.com/notebooks/data_table.ipynb>data table notebook</a>'\n",
              "            + ' to learn more about interactive tables.';\n",
              "          element.innerHTML = '';\n",
              "          dataTable['output_type'] = 'display_data';\n",
              "          await google.colab.output.renderOutput(dataTable, element);\n",
              "          const docLink = document.createElement('div');\n",
              "          docLink.innerHTML = docLinkHtml;\n",
              "          element.appendChild(docLink);\n",
              "        }\n",
              "      </script>\n",
              "    </div>\n",
              "  </div>\n",
              "  "
            ]
          },
          "metadata": {},
          "execution_count": 94
        }
      ],
      "source": [
        "test1=inner_merged_total_WO.query(\"inventarieID==92123.0\")\n",
        "test1.shape\n",
        "test1"
      ]
    },
    {
      "cell_type": "code",
      "execution_count": 95,
      "metadata": {
        "colab": {
          "base_uri": "https://localhost:8080/"
        },
        "id": "w5YrZfTlmyni",
        "outputId": "e77159ac-a31c-4550-fd30-2b861304a520"
      },
      "outputs": [
        {
          "output_type": "execute_result",
          "data": {
            "text/plain": [
              "ID              707677\n",
              "issued          707677\n",
              "Completed       707677\n",
              "AOEkKlarDat     707677\n",
              "InventarieID    707677\n",
              "inventarieID    707677\n",
              "last_wo         707677\n",
              "first_wo        707677\n",
              "Count_wo        707677\n",
              "meantime        707677\n",
              "dtype: int64"
            ]
          },
          "metadata": {},
          "execution_count": 95
        }
      ],
      "source": [
        "inner_merged_total_WO.count()"
      ]
    },
    {
      "cell_type": "code",
      "execution_count": 95,
      "metadata": {
        "id": "LraPbW_-rwH8"
      },
      "outputs": [],
      "source": []
    },
    {
      "cell_type": "code",
      "execution_count": 95,
      "metadata": {
        "id": "7FAKRaOyr-7K"
      },
      "outputs": [],
      "source": []
    },
    {
      "cell_type": "markdown",
      "metadata": {
        "id": "d8xW2PbQsQcq"
      },
      "source": [
        "# **Connecting work orders data with equipment data first **"
      ]
    },
    {
      "cell_type": "code",
      "execution_count": 96,
      "metadata": {
        "id": "qQ1vts4TsYBO"
      },
      "outputs": [],
      "source": [
        "alldata_wo_eq=pd.merge(fin,inner_merged_total_WO,left_index=True,right_index=True)"
      ]
    },
    {
      "cell_type": "code",
      "execution_count": 96,
      "metadata": {
        "id": "eK8iVG6jZayj"
      },
      "outputs": [],
      "source": []
    },
    {
      "cell_type": "markdown",
      "metadata": {
        "id": "RwfU8egxoQ8B"
      },
      "source": []
    },
    {
      "cell_type": "code",
      "execution_count": 97,
      "metadata": {
        "colab": {
          "base_uri": "https://localhost:8080/"
        },
        "id": "MQnmKoaUyhdd",
        "outputId": "a0a569a7-d68b-4a74-fe67-0cc9f5e97175"
      },
      "outputs": [
        {
          "output_type": "execute_result",
          "data": {
            "text/plain": [
              "(317394, 18)"
            ]
          },
          "metadata": {},
          "execution_count": 97
        }
      ],
      "source": [
        "alldata_wo_eq.shape"
      ]
    },
    {
      "cell_type": "code",
      "execution_count": 98,
      "metadata": {
        "id": "kccr3Z9J00vG"
      },
      "outputs": [],
      "source": [
        "tes=alldata_wo_eq.query(\"ID_x == 1364\")"
      ]
    },
    {
      "cell_type": "code",
      "execution_count": 99,
      "metadata": {
        "colab": {
          "base_uri": "https://localhost:8080/",
          "height": 835
        },
        "id": "JMqaALq31aXr",
        "outputId": "a1354a95-9683-4930-ff2c-e836d5f6cece"
      },
      "outputs": [
        {
          "output_type": "execute_result",
          "data": {
            "text/plain": [
              "        InvNr           Equip.reg_date            Scrapped_date  ID_x  \\\n",
              "1364  9004411  2010-01-01 00:00:00.000  2021-09-21 00:00:00.000  1364   \n",
              "1364  9004411  2010-01-01 00:00:00.000  2021-09-21 00:00:00.000  1364   \n",
              "1364  9004411  2010-01-01 00:00:00.000  2021-09-21 00:00:00.000  1364   \n",
              "1364  9004411  2010-01-01 00:00:00.000  2021-09-21 00:00:00.000  1364   \n",
              "1364  9004411  2010-01-01 00:00:00.000  2021-09-21 00:00:00.000  1364   \n",
              "...       ...                      ...                      ...   ...   \n",
              "1364  9004411  2010-01-01 00:00:00.000  2021-09-21 00:00:00.000  1364   \n",
              "1364  9004411  2010-01-01 00:00:00.000  2021-09-21 00:00:00.000  1364   \n",
              "1364  9004411  2010-01-01 00:00:00.000  2021-09-21 00:00:00.000  1364   \n",
              "1364  9004411  2010-01-01 00:00:00.000  2021-09-21 00:00:00.000  1364   \n",
              "1364  9004411  2010-01-01 00:00:00.000  2021-09-21 00:00:00.000  1364   \n",
              "\n",
              "                                              dev          Brand  \\\n",
              "1364  Röntgengenomlysningssystem, mobilt digitalt  GE Healthcare   \n",
              "1364  Röntgengenomlysningssystem, mobilt digitalt  GE Healthcare   \n",
              "1364  Röntgengenomlysningssystem, mobilt digitalt  GE Healthcare   \n",
              "1364  Röntgengenomlysningssystem, mobilt digitalt  GE Healthcare   \n",
              "1364  Röntgengenomlysningssystem, mobilt digitalt  GE Healthcare   \n",
              "...                                           ...            ...   \n",
              "1364  Röntgengenomlysningssystem, mobilt digitalt  GE Healthcare   \n",
              "1364  Röntgengenomlysningssystem, mobilt digitalt  GE Healthcare   \n",
              "1364  Röntgengenomlysningssystem, mobilt digitalt  GE Healthcare   \n",
              "1364  Röntgengenomlysningssystem, mobilt digitalt  GE Healthcare   \n",
              "1364  Röntgengenomlysningssystem, mobilt digitalt  GE Healthcare   \n",
              "\n",
              "                    Model  calc.Risk     ID_y                   issued  \\\n",
              "1364  OEC Fluorostar 7900       18.0  1233471  2019-05-03 00:00:00.000   \n",
              "1364  OEC Fluorostar 7900       18.0   662950  2017-05-26 00:00:00.000   \n",
              "1364  OEC Fluorostar 7900       18.0   612067  2016-01-04 00:00:00.000   \n",
              "1364  OEC Fluorostar 7900       18.0   393467  2012-07-23 00:00:00.000   \n",
              "1364  OEC Fluorostar 7900       18.0  1237176  2019-05-21 00:00:00.000   \n",
              "...                   ...        ...      ...                      ...   \n",
              "1364  OEC Fluorostar 7900       18.0   661092  2017-05-09 00:00:00.000   \n",
              "1364  OEC Fluorostar 7900       18.0   401150  2012-12-07 00:00:00.000   \n",
              "1364  OEC Fluorostar 7900       18.0  1320059  2020-08-13 00:00:00.000   \n",
              "1364  OEC Fluorostar 7900       18.0   601812  2015-09-30 00:00:00.000   \n",
              "1364  OEC Fluorostar 7900       18.0   656171  2017-03-16 00:00:00.000   \n",
              "\n",
              "                    Completed              AOEkKlarDat  InventarieID  \\\n",
              "1364  2019-05-09 00:00:00.000  2019-05-09 00:00:00.000        1364.0   \n",
              "1364  2017-05-26 00:00:00.000  2017-05-26 00:00:00.000        1364.0   \n",
              "1364  2016-01-04 00:00:00.000  2016-01-04 00:00:00.000        1364.0   \n",
              "1364  2012-12-21 00:00:00.000  2012-12-21 00:00:00.000        1364.0   \n",
              "1364  2019-05-21 00:00:00.000  2019-05-21 00:00:00.000        1364.0   \n",
              "...                       ...                      ...           ...   \n",
              "1364  2017-05-10 00:00:00.000  2017-05-10 00:00:00.000        1364.0   \n",
              "1364  2012-12-20 00:00:00.000  2012-12-20 00:00:00.000        1364.0   \n",
              "1364  2020-08-13 00:00:00.000  2020-08-13 00:00:00.000        1364.0   \n",
              "1364  2015-10-01 00:00:00.000  2015-10-01 00:00:00.000        1364.0   \n",
              "1364  2017-03-16 00:00:00.000  2017-03-16 00:00:00.000        1364.0   \n",
              "\n",
              "      inventarieID     last_wo    first_wo  Count_wo  meantime  \n",
              "1364        1364.0  2020-08-13  2011-03-25        65        52  \n",
              "1364        1364.0  2020-08-13  2011-03-25        65        52  \n",
              "1364        1364.0  2020-08-13  2011-03-25        65        52  \n",
              "1364        1364.0  2020-08-13  2011-03-25        65        52  \n",
              "1364        1364.0  2020-08-13  2011-03-25        65        52  \n",
              "...            ...         ...         ...       ...       ...  \n",
              "1364        1364.0  2020-08-13  2011-03-25        65        52  \n",
              "1364        1364.0  2020-08-13  2011-03-25        65        52  \n",
              "1364        1364.0  2020-08-13  2011-03-25        65        52  \n",
              "1364        1364.0  2020-08-13  2011-03-25        65        52  \n",
              "1364        1364.0  2020-08-13  2011-03-25        65        52  \n",
              "\n",
              "[64 rows x 18 columns]"
            ],
            "text/html": [
              "\n",
              "  <div id=\"df-0a7e4e7f-82af-4f20-8c1b-82eb6b108adf\">\n",
              "    <div class=\"colab-df-container\">\n",
              "      <div>\n",
              "<style scoped>\n",
              "    .dataframe tbody tr th:only-of-type {\n",
              "        vertical-align: middle;\n",
              "    }\n",
              "\n",
              "    .dataframe tbody tr th {\n",
              "        vertical-align: top;\n",
              "    }\n",
              "\n",
              "    .dataframe thead th {\n",
              "        text-align: right;\n",
              "    }\n",
              "</style>\n",
              "<table border=\"1\" class=\"dataframe\">\n",
              "  <thead>\n",
              "    <tr style=\"text-align: right;\">\n",
              "      <th></th>\n",
              "      <th>InvNr</th>\n",
              "      <th>Equip.reg_date</th>\n",
              "      <th>Scrapped_date</th>\n",
              "      <th>ID_x</th>\n",
              "      <th>dev</th>\n",
              "      <th>Brand</th>\n",
              "      <th>Model</th>\n",
              "      <th>calc.Risk</th>\n",
              "      <th>ID_y</th>\n",
              "      <th>issued</th>\n",
              "      <th>Completed</th>\n",
              "      <th>AOEkKlarDat</th>\n",
              "      <th>InventarieID</th>\n",
              "      <th>inventarieID</th>\n",
              "      <th>last_wo</th>\n",
              "      <th>first_wo</th>\n",
              "      <th>Count_wo</th>\n",
              "      <th>meantime</th>\n",
              "    </tr>\n",
              "  </thead>\n",
              "  <tbody>\n",
              "    <tr>\n",
              "      <th>1364</th>\n",
              "      <td>9004411</td>\n",
              "      <td>2010-01-01 00:00:00.000</td>\n",
              "      <td>2021-09-21 00:00:00.000</td>\n",
              "      <td>1364</td>\n",
              "      <td>Röntgengenomlysningssystem, mobilt digitalt</td>\n",
              "      <td>GE Healthcare</td>\n",
              "      <td>OEC Fluorostar 7900</td>\n",
              "      <td>18.0</td>\n",
              "      <td>1233471</td>\n",
              "      <td>2019-05-03 00:00:00.000</td>\n",
              "      <td>2019-05-09 00:00:00.000</td>\n",
              "      <td>2019-05-09 00:00:00.000</td>\n",
              "      <td>1364.0</td>\n",
              "      <td>1364.0</td>\n",
              "      <td>2020-08-13</td>\n",
              "      <td>2011-03-25</td>\n",
              "      <td>65</td>\n",
              "      <td>52</td>\n",
              "    </tr>\n",
              "    <tr>\n",
              "      <th>1364</th>\n",
              "      <td>9004411</td>\n",
              "      <td>2010-01-01 00:00:00.000</td>\n",
              "      <td>2021-09-21 00:00:00.000</td>\n",
              "      <td>1364</td>\n",
              "      <td>Röntgengenomlysningssystem, mobilt digitalt</td>\n",
              "      <td>GE Healthcare</td>\n",
              "      <td>OEC Fluorostar 7900</td>\n",
              "      <td>18.0</td>\n",
              "      <td>662950</td>\n",
              "      <td>2017-05-26 00:00:00.000</td>\n",
              "      <td>2017-05-26 00:00:00.000</td>\n",
              "      <td>2017-05-26 00:00:00.000</td>\n",
              "      <td>1364.0</td>\n",
              "      <td>1364.0</td>\n",
              "      <td>2020-08-13</td>\n",
              "      <td>2011-03-25</td>\n",
              "      <td>65</td>\n",
              "      <td>52</td>\n",
              "    </tr>\n",
              "    <tr>\n",
              "      <th>1364</th>\n",
              "      <td>9004411</td>\n",
              "      <td>2010-01-01 00:00:00.000</td>\n",
              "      <td>2021-09-21 00:00:00.000</td>\n",
              "      <td>1364</td>\n",
              "      <td>Röntgengenomlysningssystem, mobilt digitalt</td>\n",
              "      <td>GE Healthcare</td>\n",
              "      <td>OEC Fluorostar 7900</td>\n",
              "      <td>18.0</td>\n",
              "      <td>612067</td>\n",
              "      <td>2016-01-04 00:00:00.000</td>\n",
              "      <td>2016-01-04 00:00:00.000</td>\n",
              "      <td>2016-01-04 00:00:00.000</td>\n",
              "      <td>1364.0</td>\n",
              "      <td>1364.0</td>\n",
              "      <td>2020-08-13</td>\n",
              "      <td>2011-03-25</td>\n",
              "      <td>65</td>\n",
              "      <td>52</td>\n",
              "    </tr>\n",
              "    <tr>\n",
              "      <th>1364</th>\n",
              "      <td>9004411</td>\n",
              "      <td>2010-01-01 00:00:00.000</td>\n",
              "      <td>2021-09-21 00:00:00.000</td>\n",
              "      <td>1364</td>\n",
              "      <td>Röntgengenomlysningssystem, mobilt digitalt</td>\n",
              "      <td>GE Healthcare</td>\n",
              "      <td>OEC Fluorostar 7900</td>\n",
              "      <td>18.0</td>\n",
              "      <td>393467</td>\n",
              "      <td>2012-07-23 00:00:00.000</td>\n",
              "      <td>2012-12-21 00:00:00.000</td>\n",
              "      <td>2012-12-21 00:00:00.000</td>\n",
              "      <td>1364.0</td>\n",
              "      <td>1364.0</td>\n",
              "      <td>2020-08-13</td>\n",
              "      <td>2011-03-25</td>\n",
              "      <td>65</td>\n",
              "      <td>52</td>\n",
              "    </tr>\n",
              "    <tr>\n",
              "      <th>1364</th>\n",
              "      <td>9004411</td>\n",
              "      <td>2010-01-01 00:00:00.000</td>\n",
              "      <td>2021-09-21 00:00:00.000</td>\n",
              "      <td>1364</td>\n",
              "      <td>Röntgengenomlysningssystem, mobilt digitalt</td>\n",
              "      <td>GE Healthcare</td>\n",
              "      <td>OEC Fluorostar 7900</td>\n",
              "      <td>18.0</td>\n",
              "      <td>1237176</td>\n",
              "      <td>2019-05-21 00:00:00.000</td>\n",
              "      <td>2019-05-21 00:00:00.000</td>\n",
              "      <td>2019-05-21 00:00:00.000</td>\n",
              "      <td>1364.0</td>\n",
              "      <td>1364.0</td>\n",
              "      <td>2020-08-13</td>\n",
              "      <td>2011-03-25</td>\n",
              "      <td>65</td>\n",
              "      <td>52</td>\n",
              "    </tr>\n",
              "    <tr>\n",
              "      <th>...</th>\n",
              "      <td>...</td>\n",
              "      <td>...</td>\n",
              "      <td>...</td>\n",
              "      <td>...</td>\n",
              "      <td>...</td>\n",
              "      <td>...</td>\n",
              "      <td>...</td>\n",
              "      <td>...</td>\n",
              "      <td>...</td>\n",
              "      <td>...</td>\n",
              "      <td>...</td>\n",
              "      <td>...</td>\n",
              "      <td>...</td>\n",
              "      <td>...</td>\n",
              "      <td>...</td>\n",
              "      <td>...</td>\n",
              "      <td>...</td>\n",
              "      <td>...</td>\n",
              "    </tr>\n",
              "    <tr>\n",
              "      <th>1364</th>\n",
              "      <td>9004411</td>\n",
              "      <td>2010-01-01 00:00:00.000</td>\n",
              "      <td>2021-09-21 00:00:00.000</td>\n",
              "      <td>1364</td>\n",
              "      <td>Röntgengenomlysningssystem, mobilt digitalt</td>\n",
              "      <td>GE Healthcare</td>\n",
              "      <td>OEC Fluorostar 7900</td>\n",
              "      <td>18.0</td>\n",
              "      <td>661092</td>\n",
              "      <td>2017-05-09 00:00:00.000</td>\n",
              "      <td>2017-05-10 00:00:00.000</td>\n",
              "      <td>2017-05-10 00:00:00.000</td>\n",
              "      <td>1364.0</td>\n",
              "      <td>1364.0</td>\n",
              "      <td>2020-08-13</td>\n",
              "      <td>2011-03-25</td>\n",
              "      <td>65</td>\n",
              "      <td>52</td>\n",
              "    </tr>\n",
              "    <tr>\n",
              "      <th>1364</th>\n",
              "      <td>9004411</td>\n",
              "      <td>2010-01-01 00:00:00.000</td>\n",
              "      <td>2021-09-21 00:00:00.000</td>\n",
              "      <td>1364</td>\n",
              "      <td>Röntgengenomlysningssystem, mobilt digitalt</td>\n",
              "      <td>GE Healthcare</td>\n",
              "      <td>OEC Fluorostar 7900</td>\n",
              "      <td>18.0</td>\n",
              "      <td>401150</td>\n",
              "      <td>2012-12-07 00:00:00.000</td>\n",
              "      <td>2012-12-20 00:00:00.000</td>\n",
              "      <td>2012-12-20 00:00:00.000</td>\n",
              "      <td>1364.0</td>\n",
              "      <td>1364.0</td>\n",
              "      <td>2020-08-13</td>\n",
              "      <td>2011-03-25</td>\n",
              "      <td>65</td>\n",
              "      <td>52</td>\n",
              "    </tr>\n",
              "    <tr>\n",
              "      <th>1364</th>\n",
              "      <td>9004411</td>\n",
              "      <td>2010-01-01 00:00:00.000</td>\n",
              "      <td>2021-09-21 00:00:00.000</td>\n",
              "      <td>1364</td>\n",
              "      <td>Röntgengenomlysningssystem, mobilt digitalt</td>\n",
              "      <td>GE Healthcare</td>\n",
              "      <td>OEC Fluorostar 7900</td>\n",
              "      <td>18.0</td>\n",
              "      <td>1320059</td>\n",
              "      <td>2020-08-13 00:00:00.000</td>\n",
              "      <td>2020-08-13 00:00:00.000</td>\n",
              "      <td>2020-08-13 00:00:00.000</td>\n",
              "      <td>1364.0</td>\n",
              "      <td>1364.0</td>\n",
              "      <td>2020-08-13</td>\n",
              "      <td>2011-03-25</td>\n",
              "      <td>65</td>\n",
              "      <td>52</td>\n",
              "    </tr>\n",
              "    <tr>\n",
              "      <th>1364</th>\n",
              "      <td>9004411</td>\n",
              "      <td>2010-01-01 00:00:00.000</td>\n",
              "      <td>2021-09-21 00:00:00.000</td>\n",
              "      <td>1364</td>\n",
              "      <td>Röntgengenomlysningssystem, mobilt digitalt</td>\n",
              "      <td>GE Healthcare</td>\n",
              "      <td>OEC Fluorostar 7900</td>\n",
              "      <td>18.0</td>\n",
              "      <td>601812</td>\n",
              "      <td>2015-09-30 00:00:00.000</td>\n",
              "      <td>2015-10-01 00:00:00.000</td>\n",
              "      <td>2015-10-01 00:00:00.000</td>\n",
              "      <td>1364.0</td>\n",
              "      <td>1364.0</td>\n",
              "      <td>2020-08-13</td>\n",
              "      <td>2011-03-25</td>\n",
              "      <td>65</td>\n",
              "      <td>52</td>\n",
              "    </tr>\n",
              "    <tr>\n",
              "      <th>1364</th>\n",
              "      <td>9004411</td>\n",
              "      <td>2010-01-01 00:00:00.000</td>\n",
              "      <td>2021-09-21 00:00:00.000</td>\n",
              "      <td>1364</td>\n",
              "      <td>Röntgengenomlysningssystem, mobilt digitalt</td>\n",
              "      <td>GE Healthcare</td>\n",
              "      <td>OEC Fluorostar 7900</td>\n",
              "      <td>18.0</td>\n",
              "      <td>656171</td>\n",
              "      <td>2017-03-16 00:00:00.000</td>\n",
              "      <td>2017-03-16 00:00:00.000</td>\n",
              "      <td>2017-03-16 00:00:00.000</td>\n",
              "      <td>1364.0</td>\n",
              "      <td>1364.0</td>\n",
              "      <td>2020-08-13</td>\n",
              "      <td>2011-03-25</td>\n",
              "      <td>65</td>\n",
              "      <td>52</td>\n",
              "    </tr>\n",
              "  </tbody>\n",
              "</table>\n",
              "<p>64 rows × 18 columns</p>\n",
              "</div>\n",
              "      <button class=\"colab-df-convert\" onclick=\"convertToInteractive('df-0a7e4e7f-82af-4f20-8c1b-82eb6b108adf')\"\n",
              "              title=\"Convert this dataframe to an interactive table.\"\n",
              "              style=\"display:none;\">\n",
              "        \n",
              "  <svg xmlns=\"http://www.w3.org/2000/svg\" height=\"24px\"viewBox=\"0 0 24 24\"\n",
              "       width=\"24px\">\n",
              "    <path d=\"M0 0h24v24H0V0z\" fill=\"none\"/>\n",
              "    <path d=\"M18.56 5.44l.94 2.06.94-2.06 2.06-.94-2.06-.94-.94-2.06-.94 2.06-2.06.94zm-11 1L8.5 8.5l.94-2.06 2.06-.94-2.06-.94L8.5 2.5l-.94 2.06-2.06.94zm10 10l.94 2.06.94-2.06 2.06-.94-2.06-.94-.94-2.06-.94 2.06-2.06.94z\"/><path d=\"M17.41 7.96l-1.37-1.37c-.4-.4-.92-.59-1.43-.59-.52 0-1.04.2-1.43.59L10.3 9.45l-7.72 7.72c-.78.78-.78 2.05 0 2.83L4 21.41c.39.39.9.59 1.41.59.51 0 1.02-.2 1.41-.59l7.78-7.78 2.81-2.81c.8-.78.8-2.07 0-2.86zM5.41 20L4 18.59l7.72-7.72 1.47 1.35L5.41 20z\"/>\n",
              "  </svg>\n",
              "      </button>\n",
              "      \n",
              "  <style>\n",
              "    .colab-df-container {\n",
              "      display:flex;\n",
              "      flex-wrap:wrap;\n",
              "      gap: 12px;\n",
              "    }\n",
              "\n",
              "    .colab-df-convert {\n",
              "      background-color: #E8F0FE;\n",
              "      border: none;\n",
              "      border-radius: 50%;\n",
              "      cursor: pointer;\n",
              "      display: none;\n",
              "      fill: #1967D2;\n",
              "      height: 32px;\n",
              "      padding: 0 0 0 0;\n",
              "      width: 32px;\n",
              "    }\n",
              "\n",
              "    .colab-df-convert:hover {\n",
              "      background-color: #E2EBFA;\n",
              "      box-shadow: 0px 1px 2px rgba(60, 64, 67, 0.3), 0px 1px 3px 1px rgba(60, 64, 67, 0.15);\n",
              "      fill: #174EA6;\n",
              "    }\n",
              "\n",
              "    [theme=dark] .colab-df-convert {\n",
              "      background-color: #3B4455;\n",
              "      fill: #D2E3FC;\n",
              "    }\n",
              "\n",
              "    [theme=dark] .colab-df-convert:hover {\n",
              "      background-color: #434B5C;\n",
              "      box-shadow: 0px 1px 3px 1px rgba(0, 0, 0, 0.15);\n",
              "      filter: drop-shadow(0px 1px 2px rgba(0, 0, 0, 0.3));\n",
              "      fill: #FFFFFF;\n",
              "    }\n",
              "  </style>\n",
              "\n",
              "      <script>\n",
              "        const buttonEl =\n",
              "          document.querySelector('#df-0a7e4e7f-82af-4f20-8c1b-82eb6b108adf button.colab-df-convert');\n",
              "        buttonEl.style.display =\n",
              "          google.colab.kernel.accessAllowed ? 'block' : 'none';\n",
              "\n",
              "        async function convertToInteractive(key) {\n",
              "          const element = document.querySelector('#df-0a7e4e7f-82af-4f20-8c1b-82eb6b108adf');\n",
              "          const dataTable =\n",
              "            await google.colab.kernel.invokeFunction('convertToInteractive',\n",
              "                                                     [key], {});\n",
              "          if (!dataTable) return;\n",
              "\n",
              "          const docLinkHtml = 'Like what you see? Visit the ' +\n",
              "            '<a target=\"_blank\" href=https://colab.research.google.com/notebooks/data_table.ipynb>data table notebook</a>'\n",
              "            + ' to learn more about interactive tables.';\n",
              "          element.innerHTML = '';\n",
              "          dataTable['output_type'] = 'display_data';\n",
              "          await google.colab.output.renderOutput(dataTable, element);\n",
              "          const docLink = document.createElement('div');\n",
              "          docLink.innerHTML = docLinkHtml;\n",
              "          element.appendChild(docLink);\n",
              "        }\n",
              "      </script>\n",
              "    </div>\n",
              "  </div>\n",
              "  "
            ]
          },
          "metadata": {},
          "execution_count": 99
        }
      ],
      "source": [
        "tes"
      ]
    },
    {
      "cell_type": "code",
      "execution_count": 100,
      "metadata": {
        "id": "uLa8AiKHy2nz"
      },
      "outputs": [],
      "source": [
        "alldata_wo_eq.drop(columns=['InvNr','Brand','Model','AOEkKlarDat','Completed','last_wo','first_wo','ID_x'],inplace=True)"
      ]
    },
    {
      "cell_type": "code",
      "execution_count": 101,
      "metadata": {
        "colab": {
          "base_uri": "https://localhost:8080/",
          "height": 239
        },
        "id": "B39g7tlq27XG",
        "outputId": "a55242c5-b609-428a-f3c8-bc015c134c29"
      },
      "outputs": [
        {
          "output_type": "execute_result",
          "data": {
            "text/plain": [
              "               Equip.reg_date            Scrapped_date  \\\n",
              "1364  2010-01-01 00:00:00.000  2021-09-21 00:00:00.000   \n",
              "1364  2010-01-01 00:00:00.000  2021-09-21 00:00:00.000   \n",
              "1364  2010-01-01 00:00:00.000  2021-09-21 00:00:00.000   \n",
              "\n",
              "                                              dev  calc.Risk     ID_y  \\\n",
              "1364  Röntgengenomlysningssystem, mobilt digitalt       18.0  1233471   \n",
              "1364  Röntgengenomlysningssystem, mobilt digitalt       18.0   662950   \n",
              "1364  Röntgengenomlysningssystem, mobilt digitalt       18.0   612067   \n",
              "\n",
              "                       issued  InventarieID  inventarieID  Count_wo  meantime  \n",
              "1364  2019-05-03 00:00:00.000        1364.0        1364.0        65        52  \n",
              "1364  2017-05-26 00:00:00.000        1364.0        1364.0        65        52  \n",
              "1364  2016-01-04 00:00:00.000        1364.0        1364.0        65        52  "
            ],
            "text/html": [
              "\n",
              "  <div id=\"df-4c2ad686-fb10-4889-9787-e18159883fc8\">\n",
              "    <div class=\"colab-df-container\">\n",
              "      <div>\n",
              "<style scoped>\n",
              "    .dataframe tbody tr th:only-of-type {\n",
              "        vertical-align: middle;\n",
              "    }\n",
              "\n",
              "    .dataframe tbody tr th {\n",
              "        vertical-align: top;\n",
              "    }\n",
              "\n",
              "    .dataframe thead th {\n",
              "        text-align: right;\n",
              "    }\n",
              "</style>\n",
              "<table border=\"1\" class=\"dataframe\">\n",
              "  <thead>\n",
              "    <tr style=\"text-align: right;\">\n",
              "      <th></th>\n",
              "      <th>Equip.reg_date</th>\n",
              "      <th>Scrapped_date</th>\n",
              "      <th>dev</th>\n",
              "      <th>calc.Risk</th>\n",
              "      <th>ID_y</th>\n",
              "      <th>issued</th>\n",
              "      <th>InventarieID</th>\n",
              "      <th>inventarieID</th>\n",
              "      <th>Count_wo</th>\n",
              "      <th>meantime</th>\n",
              "    </tr>\n",
              "  </thead>\n",
              "  <tbody>\n",
              "    <tr>\n",
              "      <th>1364</th>\n",
              "      <td>2010-01-01 00:00:00.000</td>\n",
              "      <td>2021-09-21 00:00:00.000</td>\n",
              "      <td>Röntgengenomlysningssystem, mobilt digitalt</td>\n",
              "      <td>18.0</td>\n",
              "      <td>1233471</td>\n",
              "      <td>2019-05-03 00:00:00.000</td>\n",
              "      <td>1364.0</td>\n",
              "      <td>1364.0</td>\n",
              "      <td>65</td>\n",
              "      <td>52</td>\n",
              "    </tr>\n",
              "    <tr>\n",
              "      <th>1364</th>\n",
              "      <td>2010-01-01 00:00:00.000</td>\n",
              "      <td>2021-09-21 00:00:00.000</td>\n",
              "      <td>Röntgengenomlysningssystem, mobilt digitalt</td>\n",
              "      <td>18.0</td>\n",
              "      <td>662950</td>\n",
              "      <td>2017-05-26 00:00:00.000</td>\n",
              "      <td>1364.0</td>\n",
              "      <td>1364.0</td>\n",
              "      <td>65</td>\n",
              "      <td>52</td>\n",
              "    </tr>\n",
              "    <tr>\n",
              "      <th>1364</th>\n",
              "      <td>2010-01-01 00:00:00.000</td>\n",
              "      <td>2021-09-21 00:00:00.000</td>\n",
              "      <td>Röntgengenomlysningssystem, mobilt digitalt</td>\n",
              "      <td>18.0</td>\n",
              "      <td>612067</td>\n",
              "      <td>2016-01-04 00:00:00.000</td>\n",
              "      <td>1364.0</td>\n",
              "      <td>1364.0</td>\n",
              "      <td>65</td>\n",
              "      <td>52</td>\n",
              "    </tr>\n",
              "  </tbody>\n",
              "</table>\n",
              "</div>\n",
              "      <button class=\"colab-df-convert\" onclick=\"convertToInteractive('df-4c2ad686-fb10-4889-9787-e18159883fc8')\"\n",
              "              title=\"Convert this dataframe to an interactive table.\"\n",
              "              style=\"display:none;\">\n",
              "        \n",
              "  <svg xmlns=\"http://www.w3.org/2000/svg\" height=\"24px\"viewBox=\"0 0 24 24\"\n",
              "       width=\"24px\">\n",
              "    <path d=\"M0 0h24v24H0V0z\" fill=\"none\"/>\n",
              "    <path d=\"M18.56 5.44l.94 2.06.94-2.06 2.06-.94-2.06-.94-.94-2.06-.94 2.06-2.06.94zm-11 1L8.5 8.5l.94-2.06 2.06-.94-2.06-.94L8.5 2.5l-.94 2.06-2.06.94zm10 10l.94 2.06.94-2.06 2.06-.94-2.06-.94-.94-2.06-.94 2.06-2.06.94z\"/><path d=\"M17.41 7.96l-1.37-1.37c-.4-.4-.92-.59-1.43-.59-.52 0-1.04.2-1.43.59L10.3 9.45l-7.72 7.72c-.78.78-.78 2.05 0 2.83L4 21.41c.39.39.9.59 1.41.59.51 0 1.02-.2 1.41-.59l7.78-7.78 2.81-2.81c.8-.78.8-2.07 0-2.86zM5.41 20L4 18.59l7.72-7.72 1.47 1.35L5.41 20z\"/>\n",
              "  </svg>\n",
              "      </button>\n",
              "      \n",
              "  <style>\n",
              "    .colab-df-container {\n",
              "      display:flex;\n",
              "      flex-wrap:wrap;\n",
              "      gap: 12px;\n",
              "    }\n",
              "\n",
              "    .colab-df-convert {\n",
              "      background-color: #E8F0FE;\n",
              "      border: none;\n",
              "      border-radius: 50%;\n",
              "      cursor: pointer;\n",
              "      display: none;\n",
              "      fill: #1967D2;\n",
              "      height: 32px;\n",
              "      padding: 0 0 0 0;\n",
              "      width: 32px;\n",
              "    }\n",
              "\n",
              "    .colab-df-convert:hover {\n",
              "      background-color: #E2EBFA;\n",
              "      box-shadow: 0px 1px 2px rgba(60, 64, 67, 0.3), 0px 1px 3px 1px rgba(60, 64, 67, 0.15);\n",
              "      fill: #174EA6;\n",
              "    }\n",
              "\n",
              "    [theme=dark] .colab-df-convert {\n",
              "      background-color: #3B4455;\n",
              "      fill: #D2E3FC;\n",
              "    }\n",
              "\n",
              "    [theme=dark] .colab-df-convert:hover {\n",
              "      background-color: #434B5C;\n",
              "      box-shadow: 0px 1px 3px 1px rgba(0, 0, 0, 0.15);\n",
              "      filter: drop-shadow(0px 1px 2px rgba(0, 0, 0, 0.3));\n",
              "      fill: #FFFFFF;\n",
              "    }\n",
              "  </style>\n",
              "\n",
              "      <script>\n",
              "        const buttonEl =\n",
              "          document.querySelector('#df-4c2ad686-fb10-4889-9787-e18159883fc8 button.colab-df-convert');\n",
              "        buttonEl.style.display =\n",
              "          google.colab.kernel.accessAllowed ? 'block' : 'none';\n",
              "\n",
              "        async function convertToInteractive(key) {\n",
              "          const element = document.querySelector('#df-4c2ad686-fb10-4889-9787-e18159883fc8');\n",
              "          const dataTable =\n",
              "            await google.colab.kernel.invokeFunction('convertToInteractive',\n",
              "                                                     [key], {});\n",
              "          if (!dataTable) return;\n",
              "\n",
              "          const docLinkHtml = 'Like what you see? Visit the ' +\n",
              "            '<a target=\"_blank\" href=https://colab.research.google.com/notebooks/data_table.ipynb>data table notebook</a>'\n",
              "            + ' to learn more about interactive tables.';\n",
              "          element.innerHTML = '';\n",
              "          dataTable['output_type'] = 'display_data';\n",
              "          await google.colab.output.renderOutput(dataTable, element);\n",
              "          const docLink = document.createElement('div');\n",
              "          docLink.innerHTML = docLinkHtml;\n",
              "          element.appendChild(docLink);\n",
              "        }\n",
              "      </script>\n",
              "    </div>\n",
              "  </div>\n",
              "  "
            ]
          },
          "metadata": {},
          "execution_count": 101
        }
      ],
      "source": [
        "alldata_wo_eq.head(3)"
      ]
    },
    {
      "cell_type": "markdown",
      "metadata": {
        "id": "eDyxvGfBU9n_"
      },
      "source": [
        "**Obtain Age column**"
      ]
    },
    {
      "cell_type": "code",
      "execution_count": 102,
      "metadata": {
        "id": "fNVO8RHHVLrw"
      },
      "outputs": [],
      "source": [
        "alldata_wo_eq['Equip.reg_date']=pd.to_datetime(alldata_wo_eq['Equip.reg_date'])\n",
        "alldata_wo_eq['Scrapped_date']=pd.to_datetime(alldata_wo_eq['Scrapped_date'])\n",
        "\n"
      ]
    },
    {
      "cell_type": "code",
      "execution_count": 103,
      "metadata": {
        "id": "ms3SsJfPXAjX"
      },
      "outputs": [],
      "source": [
        "alldata_wo_eq['age']=(alldata_wo_eq['Scrapped_date']-alldata_wo_eq['Equip.reg_date']).dt.days\n"
      ]
    },
    {
      "cell_type": "code",
      "execution_count": 104,
      "metadata": {
        "id": "UyWmrmiZXuYf"
      },
      "outputs": [],
      "source": [
        "alldata_wo_eq.drop(columns=['Scrapped_date','InventarieID'],inplace=True)"
      ]
    },
    {
      "cell_type": "code",
      "execution_count": 105,
      "metadata": {
        "colab": {
          "base_uri": "https://localhost:8080/",
          "height": 143
        },
        "id": "wMDNYBB4XhbC",
        "outputId": "d456afb7-7846-46dc-8b29-32d137105b17"
      },
      "outputs": [
        {
          "output_type": "execute_result",
          "data": {
            "text/plain": [
              "     Equip.reg_date                                          dev  calc.Risk  \\\n",
              "1364     2010-01-01  Röntgengenomlysningssystem, mobilt digitalt       18.0   \n",
              "1364     2010-01-01  Röntgengenomlysningssystem, mobilt digitalt       18.0   \n",
              "1364     2010-01-01  Röntgengenomlysningssystem, mobilt digitalt       18.0   \n",
              "\n",
              "         ID_y                   issued  inventarieID  Count_wo  meantime   age  \n",
              "1364  1233471  2019-05-03 00:00:00.000        1364.0        65        52  4281  \n",
              "1364   662950  2017-05-26 00:00:00.000        1364.0        65        52  4281  \n",
              "1364   612067  2016-01-04 00:00:00.000        1364.0        65        52  4281  "
            ],
            "text/html": [
              "\n",
              "  <div id=\"df-99135cb4-c84f-4ad5-839a-100583626c3a\">\n",
              "    <div class=\"colab-df-container\">\n",
              "      <div>\n",
              "<style scoped>\n",
              "    .dataframe tbody tr th:only-of-type {\n",
              "        vertical-align: middle;\n",
              "    }\n",
              "\n",
              "    .dataframe tbody tr th {\n",
              "        vertical-align: top;\n",
              "    }\n",
              "\n",
              "    .dataframe thead th {\n",
              "        text-align: right;\n",
              "    }\n",
              "</style>\n",
              "<table border=\"1\" class=\"dataframe\">\n",
              "  <thead>\n",
              "    <tr style=\"text-align: right;\">\n",
              "      <th></th>\n",
              "      <th>Equip.reg_date</th>\n",
              "      <th>dev</th>\n",
              "      <th>calc.Risk</th>\n",
              "      <th>ID_y</th>\n",
              "      <th>issued</th>\n",
              "      <th>inventarieID</th>\n",
              "      <th>Count_wo</th>\n",
              "      <th>meantime</th>\n",
              "      <th>age</th>\n",
              "    </tr>\n",
              "  </thead>\n",
              "  <tbody>\n",
              "    <tr>\n",
              "      <th>1364</th>\n",
              "      <td>2010-01-01</td>\n",
              "      <td>Röntgengenomlysningssystem, mobilt digitalt</td>\n",
              "      <td>18.0</td>\n",
              "      <td>1233471</td>\n",
              "      <td>2019-05-03 00:00:00.000</td>\n",
              "      <td>1364.0</td>\n",
              "      <td>65</td>\n",
              "      <td>52</td>\n",
              "      <td>4281</td>\n",
              "    </tr>\n",
              "    <tr>\n",
              "      <th>1364</th>\n",
              "      <td>2010-01-01</td>\n",
              "      <td>Röntgengenomlysningssystem, mobilt digitalt</td>\n",
              "      <td>18.0</td>\n",
              "      <td>662950</td>\n",
              "      <td>2017-05-26 00:00:00.000</td>\n",
              "      <td>1364.0</td>\n",
              "      <td>65</td>\n",
              "      <td>52</td>\n",
              "      <td>4281</td>\n",
              "    </tr>\n",
              "    <tr>\n",
              "      <th>1364</th>\n",
              "      <td>2010-01-01</td>\n",
              "      <td>Röntgengenomlysningssystem, mobilt digitalt</td>\n",
              "      <td>18.0</td>\n",
              "      <td>612067</td>\n",
              "      <td>2016-01-04 00:00:00.000</td>\n",
              "      <td>1364.0</td>\n",
              "      <td>65</td>\n",
              "      <td>52</td>\n",
              "      <td>4281</td>\n",
              "    </tr>\n",
              "  </tbody>\n",
              "</table>\n",
              "</div>\n",
              "      <button class=\"colab-df-convert\" onclick=\"convertToInteractive('df-99135cb4-c84f-4ad5-839a-100583626c3a')\"\n",
              "              title=\"Convert this dataframe to an interactive table.\"\n",
              "              style=\"display:none;\">\n",
              "        \n",
              "  <svg xmlns=\"http://www.w3.org/2000/svg\" height=\"24px\"viewBox=\"0 0 24 24\"\n",
              "       width=\"24px\">\n",
              "    <path d=\"M0 0h24v24H0V0z\" fill=\"none\"/>\n",
              "    <path d=\"M18.56 5.44l.94 2.06.94-2.06 2.06-.94-2.06-.94-.94-2.06-.94 2.06-2.06.94zm-11 1L8.5 8.5l.94-2.06 2.06-.94-2.06-.94L8.5 2.5l-.94 2.06-2.06.94zm10 10l.94 2.06.94-2.06 2.06-.94-2.06-.94-.94-2.06-.94 2.06-2.06.94z\"/><path d=\"M17.41 7.96l-1.37-1.37c-.4-.4-.92-.59-1.43-.59-.52 0-1.04.2-1.43.59L10.3 9.45l-7.72 7.72c-.78.78-.78 2.05 0 2.83L4 21.41c.39.39.9.59 1.41.59.51 0 1.02-.2 1.41-.59l7.78-7.78 2.81-2.81c.8-.78.8-2.07 0-2.86zM5.41 20L4 18.59l7.72-7.72 1.47 1.35L5.41 20z\"/>\n",
              "  </svg>\n",
              "      </button>\n",
              "      \n",
              "  <style>\n",
              "    .colab-df-container {\n",
              "      display:flex;\n",
              "      flex-wrap:wrap;\n",
              "      gap: 12px;\n",
              "    }\n",
              "\n",
              "    .colab-df-convert {\n",
              "      background-color: #E8F0FE;\n",
              "      border: none;\n",
              "      border-radius: 50%;\n",
              "      cursor: pointer;\n",
              "      display: none;\n",
              "      fill: #1967D2;\n",
              "      height: 32px;\n",
              "      padding: 0 0 0 0;\n",
              "      width: 32px;\n",
              "    }\n",
              "\n",
              "    .colab-df-convert:hover {\n",
              "      background-color: #E2EBFA;\n",
              "      box-shadow: 0px 1px 2px rgba(60, 64, 67, 0.3), 0px 1px 3px 1px rgba(60, 64, 67, 0.15);\n",
              "      fill: #174EA6;\n",
              "    }\n",
              "\n",
              "    [theme=dark] .colab-df-convert {\n",
              "      background-color: #3B4455;\n",
              "      fill: #D2E3FC;\n",
              "    }\n",
              "\n",
              "    [theme=dark] .colab-df-convert:hover {\n",
              "      background-color: #434B5C;\n",
              "      box-shadow: 0px 1px 3px 1px rgba(0, 0, 0, 0.15);\n",
              "      filter: drop-shadow(0px 1px 2px rgba(0, 0, 0, 0.3));\n",
              "      fill: #FFFFFF;\n",
              "    }\n",
              "  </style>\n",
              "\n",
              "      <script>\n",
              "        const buttonEl =\n",
              "          document.querySelector('#df-99135cb4-c84f-4ad5-839a-100583626c3a button.colab-df-convert');\n",
              "        buttonEl.style.display =\n",
              "          google.colab.kernel.accessAllowed ? 'block' : 'none';\n",
              "\n",
              "        async function convertToInteractive(key) {\n",
              "          const element = document.querySelector('#df-99135cb4-c84f-4ad5-839a-100583626c3a');\n",
              "          const dataTable =\n",
              "            await google.colab.kernel.invokeFunction('convertToInteractive',\n",
              "                                                     [key], {});\n",
              "          if (!dataTable) return;\n",
              "\n",
              "          const docLinkHtml = 'Like what you see? Visit the ' +\n",
              "            '<a target=\"_blank\" href=https://colab.research.google.com/notebooks/data_table.ipynb>data table notebook</a>'\n",
              "            + ' to learn more about interactive tables.';\n",
              "          element.innerHTML = '';\n",
              "          dataTable['output_type'] = 'display_data';\n",
              "          await google.colab.output.renderOutput(dataTable, element);\n",
              "          const docLink = document.createElement('div');\n",
              "          docLink.innerHTML = docLinkHtml;\n",
              "          element.appendChild(docLink);\n",
              "        }\n",
              "      </script>\n",
              "    </div>\n",
              "  </div>\n",
              "  "
            ]
          },
          "metadata": {},
          "execution_count": 105
        }
      ],
      "source": [
        "alldata_wo_eq.head(3)"
      ]
    },
    {
      "cell_type": "code",
      "execution_count": 106,
      "metadata": {
        "colab": {
          "base_uri": "https://localhost:8080/"
        },
        "id": "sQfQ1by_fbn7",
        "outputId": "b65ea9c1-bf82-4e9f-8d69-5b91bf737a69"
      },
      "outputs": [
        {
          "output_type": "execute_result",
          "data": {
            "text/plain": [
              "1782"
            ]
          },
          "metadata": {},
          "execution_count": 106
        }
      ],
      "source": [
        "# we have got 1782 registered devices within our data set\n",
        "alldata_wo_eq.dev.nunique()"
      ]
    },
    {
      "cell_type": "code",
      "execution_count": 107,
      "metadata": {
        "colab": {
          "base_uri": "https://localhost:8080/"
        },
        "id": "iafgRb8MYY4W",
        "outputId": "8fc5381c-2d92-4be0-cdb1-ad99055711e9"
      },
      "outputs": [
        {
          "output_type": "execute_result",
          "data": {
            "text/plain": [
              "Infusionspump, volym                             18798\n",
              "Dialysapparat, hemo                              15682\n",
              "Infusionspump, sprut- Nätdriven                  14825\n",
              "Patientmonitor multiparameter                    13188\n",
              "Termometer öron IR                                7159\n",
              "                                                 ...  \n",
              "Patientpositioneringssystem, bild/strålterapi        1\n",
              "Stativ                                               1\n",
              "Verktygslåda                                         1\n",
              "HjärtLungmaskin-Vakumregulator                       1\n",
              "Förslutningsapparat för mikroplatta/or               1\n",
              "Name: dev, Length: 1782, dtype: int64"
            ]
          },
          "metadata": {},
          "execution_count": 107
        }
      ],
      "source": [
        "#checking the highest device with the highest no of samples \n",
        "alldata_wo_eq.dev.value_counts()"
      ]
    },
    {
      "cell_type": "code",
      "execution_count": 108,
      "metadata": {
        "id": "WS_4LwYdgkqv"
      },
      "outputs": [],
      "source": [
        "#devices counter\n",
        "dev_count=alldata_wo_eq.dev.value_counts()"
      ]
    },
    {
      "cell_type": "code",
      "execution_count": 109,
      "metadata": {
        "colab": {
          "base_uri": "https://localhost:8080/"
        },
        "id": "gwANdMAxg-HU",
        "outputId": "885b855d-8414-400b-e0f1-c406f08dce31"
      },
      "outputs": [
        {
          "output_type": "execute_result",
          "data": {
            "text/plain": [
              "Infusionspump, volym                             18798\n",
              "Dialysapparat, hemo                              15682\n",
              "Infusionspump, sprut- Nätdriven                  14825\n",
              "Patientmonitor multiparameter                    13188\n",
              "Termometer öron IR                                7159\n",
              "Oxygenkoncentrator stationär                      6247\n",
              "Lungventilator för hemsjukvård                    5893\n",
              "Lungventilator intensivvård                       5110\n",
              "Centrifug, laboratorie, allmän användning IVD     4894\n",
              "EKG-apparat                                       4700\n",
              "Ultraljudssystem, bildgivande universellt         4360\n",
              "Dator, panel (Medical grade)                      4264\n",
              "Diatermiapparat, kirurgisk                        4044\n",
              "Patientmonitor enkelmodul                         3897\n",
              "Patientmonitor                                    3867\n",
              "Anestesiarbetsstation                             3705\n",
              "Pulsoximeter nätdriven                            3663\n",
              "Infusionspump                                     3609\n",
              "Infusionspump, analgesi patientstyrd              3459\n",
              "CPAP-enhet                                        3419\n",
              "Name: dev, dtype: int64"
            ]
          },
          "metadata": {},
          "execution_count": 109
        }
      ],
      "source": [
        "dev_count.head(20)"
      ]
    },
    {
      "cell_type": "markdown",
      "metadata": {
        "id": "k4f-bvjZr6qO"
      },
      "source": [
        "Query different devices"
      ]
    },
    {
      "cell_type": "markdown",
      "metadata": {
        "id": "h9jgSVh8k5Yf"
      },
      "source": [
        "oxygen concentrators"
      ]
    },
    {
      "cell_type": "code",
      "execution_count": 110,
      "metadata": {
        "id": "nBMmBoS5cJAN"
      },
      "outputs": [],
      "source": [
        "dataoxyhos1=alldata_wo_eq.query(\"dev == 'Oxygenkoncentrator stationär'\")\n",
        "\n"
      ]
    },
    {
      "cell_type": "code",
      "execution_count": 111,
      "metadata": {
        "colab": {
          "base_uri": "https://localhost:8080/"
        },
        "id": "r-lOBUNPJ9ce",
        "outputId": "d024d80e-5f80-4b5d-fce1-ea01a2f1c6e5"
      },
      "outputs": [
        {
          "output_type": "execute_result",
          "data": {
            "text/plain": [
              "(6247, 9)"
            ]
          },
          "metadata": {},
          "execution_count": 111
        }
      ],
      "source": [
        "dataoxyhos1.shape"
      ]
    },
    {
      "cell_type": "code",
      "execution_count": 112,
      "metadata": {
        "colab": {
          "base_uri": "https://localhost:8080/",
          "height": 143
        },
        "id": "Z4wwI3KLlap0",
        "outputId": "2b9bfdf5-9b95-461f-a8bc-9ebf4977b569"
      },
      "outputs": [
        {
          "output_type": "execute_result",
          "data": {
            "text/plain": [
              "       Equip.reg_date                           dev  calc.Risk    ID_y  \\\n",
              "111459     2001-01-01  Oxygenkoncentrator stationär       31.0  486294   \n",
              "111459     2001-01-01  Oxygenkoncentrator stationär       31.0  495127   \n",
              "111459     2001-01-01  Oxygenkoncentrator stationär       31.0  425799   \n",
              "\n",
              "                         issued  inventarieID  Count_wo  meantime   age  \n",
              "111459  2002-02-19 00:00:00.000      111459.0         5       626  4799  \n",
              "111459  2005-03-03 00:00:00.000      111459.0         5       626  4799  \n",
              "111459  2009-08-04 00:00:00.000      111459.0         5       626  4799  "
            ],
            "text/html": [
              "\n",
              "  <div id=\"df-cf5ade33-057e-469e-89fa-07279462bbd8\">\n",
              "    <div class=\"colab-df-container\">\n",
              "      <div>\n",
              "<style scoped>\n",
              "    .dataframe tbody tr th:only-of-type {\n",
              "        vertical-align: middle;\n",
              "    }\n",
              "\n",
              "    .dataframe tbody tr th {\n",
              "        vertical-align: top;\n",
              "    }\n",
              "\n",
              "    .dataframe thead th {\n",
              "        text-align: right;\n",
              "    }\n",
              "</style>\n",
              "<table border=\"1\" class=\"dataframe\">\n",
              "  <thead>\n",
              "    <tr style=\"text-align: right;\">\n",
              "      <th></th>\n",
              "      <th>Equip.reg_date</th>\n",
              "      <th>dev</th>\n",
              "      <th>calc.Risk</th>\n",
              "      <th>ID_y</th>\n",
              "      <th>issued</th>\n",
              "      <th>inventarieID</th>\n",
              "      <th>Count_wo</th>\n",
              "      <th>meantime</th>\n",
              "      <th>age</th>\n",
              "    </tr>\n",
              "  </thead>\n",
              "  <tbody>\n",
              "    <tr>\n",
              "      <th>111459</th>\n",
              "      <td>2001-01-01</td>\n",
              "      <td>Oxygenkoncentrator stationär</td>\n",
              "      <td>31.0</td>\n",
              "      <td>486294</td>\n",
              "      <td>2002-02-19 00:00:00.000</td>\n",
              "      <td>111459.0</td>\n",
              "      <td>5</td>\n",
              "      <td>626</td>\n",
              "      <td>4799</td>\n",
              "    </tr>\n",
              "    <tr>\n",
              "      <th>111459</th>\n",
              "      <td>2001-01-01</td>\n",
              "      <td>Oxygenkoncentrator stationär</td>\n",
              "      <td>31.0</td>\n",
              "      <td>495127</td>\n",
              "      <td>2005-03-03 00:00:00.000</td>\n",
              "      <td>111459.0</td>\n",
              "      <td>5</td>\n",
              "      <td>626</td>\n",
              "      <td>4799</td>\n",
              "    </tr>\n",
              "    <tr>\n",
              "      <th>111459</th>\n",
              "      <td>2001-01-01</td>\n",
              "      <td>Oxygenkoncentrator stationär</td>\n",
              "      <td>31.0</td>\n",
              "      <td>425799</td>\n",
              "      <td>2009-08-04 00:00:00.000</td>\n",
              "      <td>111459.0</td>\n",
              "      <td>5</td>\n",
              "      <td>626</td>\n",
              "      <td>4799</td>\n",
              "    </tr>\n",
              "  </tbody>\n",
              "</table>\n",
              "</div>\n",
              "      <button class=\"colab-df-convert\" onclick=\"convertToInteractive('df-cf5ade33-057e-469e-89fa-07279462bbd8')\"\n",
              "              title=\"Convert this dataframe to an interactive table.\"\n",
              "              style=\"display:none;\">\n",
              "        \n",
              "  <svg xmlns=\"http://www.w3.org/2000/svg\" height=\"24px\"viewBox=\"0 0 24 24\"\n",
              "       width=\"24px\">\n",
              "    <path d=\"M0 0h24v24H0V0z\" fill=\"none\"/>\n",
              "    <path d=\"M18.56 5.44l.94 2.06.94-2.06 2.06-.94-2.06-.94-.94-2.06-.94 2.06-2.06.94zm-11 1L8.5 8.5l.94-2.06 2.06-.94-2.06-.94L8.5 2.5l-.94 2.06-2.06.94zm10 10l.94 2.06.94-2.06 2.06-.94-2.06-.94-.94-2.06-.94 2.06-2.06.94z\"/><path d=\"M17.41 7.96l-1.37-1.37c-.4-.4-.92-.59-1.43-.59-.52 0-1.04.2-1.43.59L10.3 9.45l-7.72 7.72c-.78.78-.78 2.05 0 2.83L4 21.41c.39.39.9.59 1.41.59.51 0 1.02-.2 1.41-.59l7.78-7.78 2.81-2.81c.8-.78.8-2.07 0-2.86zM5.41 20L4 18.59l7.72-7.72 1.47 1.35L5.41 20z\"/>\n",
              "  </svg>\n",
              "      </button>\n",
              "      \n",
              "  <style>\n",
              "    .colab-df-container {\n",
              "      display:flex;\n",
              "      flex-wrap:wrap;\n",
              "      gap: 12px;\n",
              "    }\n",
              "\n",
              "    .colab-df-convert {\n",
              "      background-color: #E8F0FE;\n",
              "      border: none;\n",
              "      border-radius: 50%;\n",
              "      cursor: pointer;\n",
              "      display: none;\n",
              "      fill: #1967D2;\n",
              "      height: 32px;\n",
              "      padding: 0 0 0 0;\n",
              "      width: 32px;\n",
              "    }\n",
              "\n",
              "    .colab-df-convert:hover {\n",
              "      background-color: #E2EBFA;\n",
              "      box-shadow: 0px 1px 2px rgba(60, 64, 67, 0.3), 0px 1px 3px 1px rgba(60, 64, 67, 0.15);\n",
              "      fill: #174EA6;\n",
              "    }\n",
              "\n",
              "    [theme=dark] .colab-df-convert {\n",
              "      background-color: #3B4455;\n",
              "      fill: #D2E3FC;\n",
              "    }\n",
              "\n",
              "    [theme=dark] .colab-df-convert:hover {\n",
              "      background-color: #434B5C;\n",
              "      box-shadow: 0px 1px 3px 1px rgba(0, 0, 0, 0.15);\n",
              "      filter: drop-shadow(0px 1px 2px rgba(0, 0, 0, 0.3));\n",
              "      fill: #FFFFFF;\n",
              "    }\n",
              "  </style>\n",
              "\n",
              "      <script>\n",
              "        const buttonEl =\n",
              "          document.querySelector('#df-cf5ade33-057e-469e-89fa-07279462bbd8 button.colab-df-convert');\n",
              "        buttonEl.style.display =\n",
              "          google.colab.kernel.accessAllowed ? 'block' : 'none';\n",
              "\n",
              "        async function convertToInteractive(key) {\n",
              "          const element = document.querySelector('#df-cf5ade33-057e-469e-89fa-07279462bbd8');\n",
              "          const dataTable =\n",
              "            await google.colab.kernel.invokeFunction('convertToInteractive',\n",
              "                                                     [key], {});\n",
              "          if (!dataTable) return;\n",
              "\n",
              "          const docLinkHtml = 'Like what you see? Visit the ' +\n",
              "            '<a target=\"_blank\" href=https://colab.research.google.com/notebooks/data_table.ipynb>data table notebook</a>'\n",
              "            + ' to learn more about interactive tables.';\n",
              "          element.innerHTML = '';\n",
              "          dataTable['output_type'] = 'display_data';\n",
              "          await google.colab.output.renderOutput(dataTable, element);\n",
              "          const docLink = document.createElement('div');\n",
              "          docLink.innerHTML = docLinkHtml;\n",
              "          element.appendChild(docLink);\n",
              "        }\n",
              "      </script>\n",
              "    </div>\n",
              "  </div>\n",
              "  "
            ]
          },
          "metadata": {},
          "execution_count": 112
        }
      ],
      "source": [
        "dataoxyhos1.head(3)"
      ]
    },
    {
      "cell_type": "markdown",
      "metadata": {
        "id": "gpvMB-o0r_7y"
      },
      "source": [
        "anathesia machines"
      ]
    },
    {
      "cell_type": "code",
      "execution_count": 113,
      "metadata": {
        "colab": {
          "base_uri": "https://localhost:8080/",
          "height": 143
        },
        "id": "AFU__LDV3KN-",
        "outputId": "dcdb5ca6-1708-4faf-f04d-cdf51676e30c"
      },
      "outputs": [
        {
          "output_type": "execute_result",
          "data": {
            "text/plain": [
              "      Equip.reg_date                    dev  calc.Risk    ID_y  \\\n",
              "68212     2000-01-01  Anestesiarbetsstation       31.0  340382   \n",
              "68212     2000-01-01  Anestesiarbetsstation       31.0  340387   \n",
              "68212     2000-01-01  Anestesiarbetsstation       31.0  357998   \n",
              "\n",
              "                        issued  inventarieID  Count_wo  meantime   age  \n",
              "68212  2002-04-16 00:00:00.000       68212.0        12       298  6453  \n",
              "68212  2004-01-12 00:00:00.000       68212.0        12       298  6453  \n",
              "68212  2010-08-17 00:00:00.000       68212.0        12       298  6453  "
            ],
            "text/html": [
              "\n",
              "  <div id=\"df-a610c5ac-6d61-4f23-9fcf-7e81f754d024\">\n",
              "    <div class=\"colab-df-container\">\n",
              "      <div>\n",
              "<style scoped>\n",
              "    .dataframe tbody tr th:only-of-type {\n",
              "        vertical-align: middle;\n",
              "    }\n",
              "\n",
              "    .dataframe tbody tr th {\n",
              "        vertical-align: top;\n",
              "    }\n",
              "\n",
              "    .dataframe thead th {\n",
              "        text-align: right;\n",
              "    }\n",
              "</style>\n",
              "<table border=\"1\" class=\"dataframe\">\n",
              "  <thead>\n",
              "    <tr style=\"text-align: right;\">\n",
              "      <th></th>\n",
              "      <th>Equip.reg_date</th>\n",
              "      <th>dev</th>\n",
              "      <th>calc.Risk</th>\n",
              "      <th>ID_y</th>\n",
              "      <th>issued</th>\n",
              "      <th>inventarieID</th>\n",
              "      <th>Count_wo</th>\n",
              "      <th>meantime</th>\n",
              "      <th>age</th>\n",
              "    </tr>\n",
              "  </thead>\n",
              "  <tbody>\n",
              "    <tr>\n",
              "      <th>68212</th>\n",
              "      <td>2000-01-01</td>\n",
              "      <td>Anestesiarbetsstation</td>\n",
              "      <td>31.0</td>\n",
              "      <td>340382</td>\n",
              "      <td>2002-04-16 00:00:00.000</td>\n",
              "      <td>68212.0</td>\n",
              "      <td>12</td>\n",
              "      <td>298</td>\n",
              "      <td>6453</td>\n",
              "    </tr>\n",
              "    <tr>\n",
              "      <th>68212</th>\n",
              "      <td>2000-01-01</td>\n",
              "      <td>Anestesiarbetsstation</td>\n",
              "      <td>31.0</td>\n",
              "      <td>340387</td>\n",
              "      <td>2004-01-12 00:00:00.000</td>\n",
              "      <td>68212.0</td>\n",
              "      <td>12</td>\n",
              "      <td>298</td>\n",
              "      <td>6453</td>\n",
              "    </tr>\n",
              "    <tr>\n",
              "      <th>68212</th>\n",
              "      <td>2000-01-01</td>\n",
              "      <td>Anestesiarbetsstation</td>\n",
              "      <td>31.0</td>\n",
              "      <td>357998</td>\n",
              "      <td>2010-08-17 00:00:00.000</td>\n",
              "      <td>68212.0</td>\n",
              "      <td>12</td>\n",
              "      <td>298</td>\n",
              "      <td>6453</td>\n",
              "    </tr>\n",
              "  </tbody>\n",
              "</table>\n",
              "</div>\n",
              "      <button class=\"colab-df-convert\" onclick=\"convertToInteractive('df-a610c5ac-6d61-4f23-9fcf-7e81f754d024')\"\n",
              "              title=\"Convert this dataframe to an interactive table.\"\n",
              "              style=\"display:none;\">\n",
              "        \n",
              "  <svg xmlns=\"http://www.w3.org/2000/svg\" height=\"24px\"viewBox=\"0 0 24 24\"\n",
              "       width=\"24px\">\n",
              "    <path d=\"M0 0h24v24H0V0z\" fill=\"none\"/>\n",
              "    <path d=\"M18.56 5.44l.94 2.06.94-2.06 2.06-.94-2.06-.94-.94-2.06-.94 2.06-2.06.94zm-11 1L8.5 8.5l.94-2.06 2.06-.94-2.06-.94L8.5 2.5l-.94 2.06-2.06.94zm10 10l.94 2.06.94-2.06 2.06-.94-2.06-.94-.94-2.06-.94 2.06-2.06.94z\"/><path d=\"M17.41 7.96l-1.37-1.37c-.4-.4-.92-.59-1.43-.59-.52 0-1.04.2-1.43.59L10.3 9.45l-7.72 7.72c-.78.78-.78 2.05 0 2.83L4 21.41c.39.39.9.59 1.41.59.51 0 1.02-.2 1.41-.59l7.78-7.78 2.81-2.81c.8-.78.8-2.07 0-2.86zM5.41 20L4 18.59l7.72-7.72 1.47 1.35L5.41 20z\"/>\n",
              "  </svg>\n",
              "      </button>\n",
              "      \n",
              "  <style>\n",
              "    .colab-df-container {\n",
              "      display:flex;\n",
              "      flex-wrap:wrap;\n",
              "      gap: 12px;\n",
              "    }\n",
              "\n",
              "    .colab-df-convert {\n",
              "      background-color: #E8F0FE;\n",
              "      border: none;\n",
              "      border-radius: 50%;\n",
              "      cursor: pointer;\n",
              "      display: none;\n",
              "      fill: #1967D2;\n",
              "      height: 32px;\n",
              "      padding: 0 0 0 0;\n",
              "      width: 32px;\n",
              "    }\n",
              "\n",
              "    .colab-df-convert:hover {\n",
              "      background-color: #E2EBFA;\n",
              "      box-shadow: 0px 1px 2px rgba(60, 64, 67, 0.3), 0px 1px 3px 1px rgba(60, 64, 67, 0.15);\n",
              "      fill: #174EA6;\n",
              "    }\n",
              "\n",
              "    [theme=dark] .colab-df-convert {\n",
              "      background-color: #3B4455;\n",
              "      fill: #D2E3FC;\n",
              "    }\n",
              "\n",
              "    [theme=dark] .colab-df-convert:hover {\n",
              "      background-color: #434B5C;\n",
              "      box-shadow: 0px 1px 3px 1px rgba(0, 0, 0, 0.15);\n",
              "      filter: drop-shadow(0px 1px 2px rgba(0, 0, 0, 0.3));\n",
              "      fill: #FFFFFF;\n",
              "    }\n",
              "  </style>\n",
              "\n",
              "      <script>\n",
              "        const buttonEl =\n",
              "          document.querySelector('#df-a610c5ac-6d61-4f23-9fcf-7e81f754d024 button.colab-df-convert');\n",
              "        buttonEl.style.display =\n",
              "          google.colab.kernel.accessAllowed ? 'block' : 'none';\n",
              "\n",
              "        async function convertToInteractive(key) {\n",
              "          const element = document.querySelector('#df-a610c5ac-6d61-4f23-9fcf-7e81f754d024');\n",
              "          const dataTable =\n",
              "            await google.colab.kernel.invokeFunction('convertToInteractive',\n",
              "                                                     [key], {});\n",
              "          if (!dataTable) return;\n",
              "\n",
              "          const docLinkHtml = 'Like what you see? Visit the ' +\n",
              "            '<a target=\"_blank\" href=https://colab.research.google.com/notebooks/data_table.ipynb>data table notebook</a>'\n",
              "            + ' to learn more about interactive tables.';\n",
              "          element.innerHTML = '';\n",
              "          dataTable['output_type'] = 'display_data';\n",
              "          await google.colab.output.renderOutput(dataTable, element);\n",
              "          const docLink = document.createElement('div');\n",
              "          docLink.innerHTML = docLinkHtml;\n",
              "          element.appendChild(docLink);\n",
              "        }\n",
              "      </script>\n",
              "    </div>\n",
              "  </div>\n",
              "  "
            ]
          },
          "metadata": {},
          "execution_count": 113
        }
      ],
      "source": [
        "data22=alldata_wo_eq.query(\"dev == 'Anestesiarbetsstation'\")\n",
        "data32=alldata_wo_eq.query(\"dev == 'Modul till anestesiarbetsstation'\")\n",
        "data42=alldata_wo_eq.query(\"dev == 'Anestesimedelsförgasare, isofluran'\")\n",
        "data52=alldata_wo_eq.query(\"dev == 'Anestesimedel Förgasare'\")\n",
        "data62=alldata_wo_eq.query(\"dev == 'Anestesiapparat mobil'\")\n",
        "data72=alldata_wo_eq.query(\"dev == 'Lungventilator anestesi'\")\n",
        "data_aneshos1woeq = pd.concat([data22, data32, data42, data52, data62, data72], axis=0)\n",
        "data_aneshos1woeq.head(3)\n"
      ]
    },
    {
      "cell_type": "code",
      "execution_count": 114,
      "metadata": {
        "id": "ZupgEUiVdVvS"
      },
      "outputs": [],
      "source": [
        "data_aneshos1woeq['issued']=pd.to_datetime(data_aneshos1woeq['issued'])"
      ]
    },
    {
      "cell_type": "code",
      "execution_count": 115,
      "metadata": {
        "colab": {
          "base_uri": "https://localhost:8080/"
        },
        "id": "ECBFi8504WZi",
        "outputId": "0b4cfcd7-3a79-460b-8137-66d7269cdb2e"
      },
      "outputs": [
        {
          "output_type": "execute_result",
          "data": {
            "text/plain": [
              "(6915, 9)"
            ]
          },
          "metadata": {},
          "execution_count": 115
        }
      ],
      "source": [
        "data_aneshos1woeq.shape"
      ]
    },
    {
      "cell_type": "markdown",
      "metadata": {
        "id": "inUwboe549iI"
      },
      "source": [
        "**plotting data points**"
      ]
    },
    {
      "cell_type": "code",
      "execution_count": 116,
      "metadata": {
        "colab": {
          "base_uri": "https://localhost:8080/",
          "height": 356
        },
        "id": "dJiQXuT749JR",
        "outputId": "a7aadc31-f9e9-42e9-f71e-ae4245621fc1"
      },
      "outputs": [
        {
          "output_type": "stream",
          "name": "stderr",
          "text": [
            "WARNING:matplotlib.axes._axes:*c* argument looks like a single numeric RGB or RGBA sequence, which should be avoided as value-mapping will have precedence in case its length matches with *x* & *y*.  Please use the *color* keyword-argument or provide a 2D array with a single row if you intend to specify the same RGB or RGBA value for all points.\n"
          ]
        },
        {
          "output_type": "execute_result",
          "data": {
            "text/plain": [
              "<AxesSubplot:title={'center':'workorder versus dates of issuance'}, xlabel='issued', ylabel='ID_y'>"
            ]
          },
          "metadata": {},
          "execution_count": 116
        },
        {
          "output_type": "display_data",
          "data": {
            "text/plain": [
              "<Figure size 432x288 with 1 Axes>"
            ],
            "image/png": "[encoded data removed]"
          },
          "metadata": {}
        }
      ],
      "source": [
        "data_aneshos1woeq.plot(y='ID_y',x='issued',kind='scatter',title='workorder versus dates of issuance')"
      ]
    },
    {
      "cell_type": "code",
      "execution_count": 117,
      "metadata": {
        "colab": {
          "base_uri": "https://localhost:8080/",
          "height": 356
        },
        "id": "S05LuaVVbNH7",
        "outputId": "950f8664-f0f8-456b-b347-7d6bddc9a8e7"
      },
      "outputs": [
        {
          "output_type": "stream",
          "name": "stderr",
          "text": [
            "WARNING:matplotlib.axes._axes:*c* argument looks like a single numeric RGB or RGBA sequence, which should be avoided as value-mapping will have precedence in case its length matches with *x* & *y*.  Please use the *color* keyword-argument or provide a 2D array with a single row if you intend to specify the same RGB or RGBA value for all points.\n"
          ]
        },
        {
          "output_type": "execute_result",
          "data": {
            "text/plain": [
              "<AxesSubplot:title={'center':'age with workorders'}, xlabel='issued', ylabel='age'>"
            ]
          },
          "metadata": {},
          "execution_count": 117
        },
        {
          "output_type": "display_data",
          "data": {
            "text/plain": [
              "<Figure size 432x288 with 1 Axes>"
            ],
            "image/png": "[encoded data removed]"
          },
          "metadata": {}
        }
      ],
      "source": [
        "data_aneshos1woeq.plot(y='age',x='issued',kind='scatter',title='age with workorders')"
      ]
    },
    {
      "cell_type": "code",
      "execution_count": 118,
      "metadata": {
        "colab": {
          "base_uri": "https://localhost:8080/",
          "height": 356
        },
        "id": "vfgqd1C2eXRt",
        "outputId": "5419f7ad-8441-4a73-cd08-548f33d979cb"
      },
      "outputs": [
        {
          "output_type": "stream",
          "name": "stderr",
          "text": [
            "WARNING:matplotlib.axes._axes:*c* argument looks like a single numeric RGB or RGBA sequence, which should be avoided as value-mapping will have precedence in case its length matches with *x* & *y*.  Please use the *color* keyword-argument or provide a 2D array with a single row if you intend to specify the same RGB or RGBA value for all points.\n"
          ]
        },
        {
          "output_type": "execute_result",
          "data": {
            "text/plain": [
              "<AxesSubplot:title={'center':'age with workorders'}, xlabel='age', ylabel='Count_wo'>"
            ]
          },
          "metadata": {},
          "execution_count": 118
        },
        {
          "output_type": "display_data",
          "data": {
            "text/plain": [
              "<Figure size 432x288 with 1 Axes>"
            ],
            "image/png": "[encoded data removed]"
          },
          "metadata": {}
        }
      ],
      "source": [
        "data_aneshos1woeq.plot(x='age',y='Count_wo',kind='scatter',title='age with workorders')"
      ]
    },
    {
      "cell_type": "markdown",
      "metadata": {
        "id": "a6tANVDTBFBQ"
      },
      "source": [
        "# **Connecting pm and wo with equipments(all data together)**"
      ]
    },
    {
      "cell_type": "markdown",
      "metadata": {
        "id": "i-oNkxyirkE8"
      },
      "source": [
        "bringing eq data and setting ID field as an index to prepare for merge"
      ]
    },
    {
      "cell_type": "code",
      "execution_count": 119,
      "metadata": {
        "colab": {
          "base_uri": "https://localhost:8080/"
        },
        "id": "tVDq5I1Z2C0f",
        "outputId": "eae352e1-d914-4efb-ded3-f58768fa4850"
      },
      "outputs": [
        {
          "output_type": "execute_result",
          "data": {
            "text/plain": [
              "(83584, 8)"
            ]
          },
          "metadata": {},
          "execution_count": 119
        }
      ],
      "source": [
        "fin.shape"
      ]
    },
    {
      "cell_type": "code",
      "execution_count": 120,
      "metadata": {
        "id": "8zHlAsZv2IRm"
      },
      "outputs": [],
      "source": [
        "eq=fin.set_index('ID',drop=False)"
      ]
    },
    {
      "cell_type": "code",
      "execution_count": 121,
      "metadata": {
        "colab": {
          "base_uri": "https://localhost:8080/",
          "height": 175
        },
        "id": "BFi2glbF2eu-",
        "outputId": "d624a627-7940-4ddb-f4e0-20697cba7984"
      },
      "outputs": [
        {
          "output_type": "execute_result",
          "data": {
            "text/plain": [
              "          InvNr           Equip.reg_date            Scrapped_date      ID  \\\n",
              "ID                                                                          \n",
              "68264   C951-02  2001-02-08 00:00:00.000  2018-12-19 00:00:00.000   68264   \n",
              "112347     P384  1981-01-01 00:00:00.000  2012-07-19 00:00:00.000  112347   \n",
              "88325     C0297  1985-01-01 00:00:00.000  2015-12-16 00:00:00.000   88325   \n",
              "\n",
              "                         dev Brand      Model  calc.Risk  \n",
              "ID                                                        \n",
              "68264               Endoskop  Wolf  Wolf 5512       31.0  \n",
              "112347  Ljuskälla f endoskop  Wolf       4015       31.0  \n",
              "88325   Ljuskälla f endoskop  Wolf       4015       31.0  "
            ],
            "text/html": [
              "\n",
              "  <div id=\"df-424d40ef-2e9e-40e8-906e-7a7119a4af46\">\n",
              "    <div class=\"colab-df-container\">\n",
              "      <div>\n",
              "<style scoped>\n",
              "    .dataframe tbody tr th:only-of-type {\n",
              "        vertical-align: middle;\n",
              "    }\n",
              "\n",
              "    .dataframe tbody tr th {\n",
              "        vertical-align: top;\n",
              "    }\n",
              "\n",
              "    .dataframe thead th {\n",
              "        text-align: right;\n",
              "    }\n",
              "</style>\n",
              "<table border=\"1\" class=\"dataframe\">\n",
              "  <thead>\n",
              "    <tr style=\"text-align: right;\">\n",
              "      <th></th>\n",
              "      <th>InvNr</th>\n",
              "      <th>Equip.reg_date</th>\n",
              "      <th>Scrapped_date</th>\n",
              "      <th>ID</th>\n",
              "      <th>dev</th>\n",
              "      <th>Brand</th>\n",
              "      <th>Model</th>\n",
              "      <th>calc.Risk</th>\n",
              "    </tr>\n",
              "    <tr>\n",
              "      <th>ID</th>\n",
              "      <th></th>\n",
              "      <th></th>\n",
              "      <th></th>\n",
              "      <th></th>\n",
              "      <th></th>\n",
              "      <th></th>\n",
              "      <th></th>\n",
              "      <th></th>\n",
              "    </tr>\n",
              "  </thead>\n",
              "  <tbody>\n",
              "    <tr>\n",
              "      <th>68264</th>\n",
              "      <td>C951-02</td>\n",
              "      <td>2001-02-08 00:00:00.000</td>\n",
              "      <td>2018-12-19 00:00:00.000</td>\n",
              "      <td>68264</td>\n",
              "      <td>Endoskop</td>\n",
              "      <td>Wolf</td>\n",
              "      <td>Wolf 5512</td>\n",
              "      <td>31.0</td>\n",
              "    </tr>\n",
              "    <tr>\n",
              "      <th>112347</th>\n",
              "      <td>P384</td>\n",
              "      <td>1981-01-01 00:00:00.000</td>\n",
              "      <td>2012-07-19 00:00:00.000</td>\n",
              "      <td>112347</td>\n",
              "      <td>Ljuskälla f endoskop</td>\n",
              "      <td>Wolf</td>\n",
              "      <td>4015</td>\n",
              "      <td>31.0</td>\n",
              "    </tr>\n",
              "    <tr>\n",
              "      <th>88325</th>\n",
              "      <td>C0297</td>\n",
              "      <td>1985-01-01 00:00:00.000</td>\n",
              "      <td>2015-12-16 00:00:00.000</td>\n",
              "      <td>88325</td>\n",
              "      <td>Ljuskälla f endoskop</td>\n",
              "      <td>Wolf</td>\n",
              "      <td>4015</td>\n",
              "      <td>31.0</td>\n",
              "    </tr>\n",
              "  </tbody>\n",
              "</table>\n",
              "</div>\n",
              "      <button class=\"colab-df-convert\" onclick=\"convertToInteractive('df-424d40ef-2e9e-40e8-906e-7a7119a4af46')\"\n",
              "              title=\"Convert this dataframe to an interactive table.\"\n",
              "              style=\"display:none;\">\n",
              "        \n",
              "  <svg xmlns=\"http://www.w3.org/2000/svg\" height=\"24px\"viewBox=\"0 0 24 24\"\n",
              "       width=\"24px\">\n",
              "    <path d=\"M0 0h24v24H0V0z\" fill=\"none\"/>\n",
              "    <path d=\"M18.56 5.44l.94 2.06.94-2.06 2.06-.94-2.06-.94-.94-2.06-.94 2.06-2.06.94zm-11 1L8.5 8.5l.94-2.06 2.06-.94-2.06-.94L8.5 2.5l-.94 2.06-2.06.94zm10 10l.94 2.06.94-2.06 2.06-.94-2.06-.94-.94-2.06-.94 2.06-2.06.94z\"/><path d=\"M17.41 7.96l-1.37-1.37c-.4-.4-.92-.59-1.43-.59-.52 0-1.04.2-1.43.59L10.3 9.45l-7.72 7.72c-.78.78-.78 2.05 0 2.83L4 21.41c.39.39.9.59 1.41.59.51 0 1.02-.2 1.41-.59l7.78-7.78 2.81-2.81c.8-.78.8-2.07 0-2.86zM5.41 20L4 18.59l7.72-7.72 1.47 1.35L5.41 20z\"/>\n",
              "  </svg>\n",
              "      </button>\n",
              "      \n",
              "  <style>\n",
              "    .colab-df-container {\n",
              "      display:flex;\n",
              "      flex-wrap:wrap;\n",
              "      gap: 12px;\n",
              "    }\n",
              "\n",
              "    .colab-df-convert {\n",
              "      background-color: #E8F0FE;\n",
              "      border: none;\n",
              "      border-radius: 50%;\n",
              "      cursor: pointer;\n",
              "      display: none;\n",
              "      fill: #1967D2;\n",
              "      height: 32px;\n",
              "      padding: 0 0 0 0;\n",
              "      width: 32px;\n",
              "    }\n",
              "\n",
              "    .colab-df-convert:hover {\n",
              "      background-color: #E2EBFA;\n",
              "      box-shadow: 0px 1px 2px rgba(60, 64, 67, 0.3), 0px 1px 3px 1px rgba(60, 64, 67, 0.15);\n",
              "      fill: #174EA6;\n",
              "    }\n",
              "\n",
              "    [theme=dark] .colab-df-convert {\n",
              "      background-color: #3B4455;\n",
              "      fill: #D2E3FC;\n",
              "    }\n",
              "\n",
              "    [theme=dark] .colab-df-convert:hover {\n",
              "      background-color: #434B5C;\n",
              "      box-shadow: 0px 1px 3px 1px rgba(0, 0, 0, 0.15);\n",
              "      filter: drop-shadow(0px 1px 2px rgba(0, 0, 0, 0.3));\n",
              "      fill: #FFFFFF;\n",
              "    }\n",
              "  </style>\n",
              "\n",
              "      <script>\n",
              "        const buttonEl =\n",
              "          document.querySelector('#df-424d40ef-2e9e-40e8-906e-7a7119a4af46 button.colab-df-convert');\n",
              "        buttonEl.style.display =\n",
              "          google.colab.kernel.accessAllowed ? 'block' : 'none';\n",
              "\n",
              "        async function convertToInteractive(key) {\n",
              "          const element = document.querySelector('#df-424d40ef-2e9e-40e8-906e-7a7119a4af46');\n",
              "          const dataTable =\n",
              "            await google.colab.kernel.invokeFunction('convertToInteractive',\n",
              "                                                     [key], {});\n",
              "          if (!dataTable) return;\n",
              "\n",
              "          const docLinkHtml = 'Like what you see? Visit the ' +\n",
              "            '<a target=\"_blank\" href=https://colab.research.google.com/notebooks/data_table.ipynb>data table notebook</a>'\n",
              "            + ' to learn more about interactive tables.';\n",
              "          element.innerHTML = '';\n",
              "          dataTable['output_type'] = 'display_data';\n",
              "          await google.colab.output.renderOutput(dataTable, element);\n",
              "          const docLink = document.createElement('div');\n",
              "          docLink.innerHTML = docLinkHtml;\n",
              "          element.appendChild(docLink);\n",
              "        }\n",
              "      </script>\n",
              "    </div>\n",
              "  </div>\n",
              "  "
            ]
          },
          "metadata": {},
          "execution_count": 121
        }
      ],
      "source": [
        "eq.head(3)"
      ]
    },
    {
      "cell_type": "markdown",
      "metadata": {
        "id": "CmsUgKewt938"
      },
      "source": [
        "### **CONNECTING PM-data With WO COMBINED DATA** **bold text**"
      ]
    },
    {
      "cell_type": "code",
      "execution_count": 122,
      "metadata": {
        "id": "wk3RiWX8tqZx"
      },
      "outputs": [],
      "source": [
        "inner_mergeWO_pm = pd.merge(inner_merged_total_WO,fin1,left_index=True, right_index=True)"
      ]
    },
    {
      "cell_type": "code",
      "execution_count": 123,
      "metadata": {
        "id": "a5_R_wj-8DOn"
      },
      "outputs": [],
      "source": [
        "all_data_together= pd.merge(eq,inner_mergeWO_pm,left_index=True, right_index=True)"
      ]
    },
    {
      "cell_type": "code",
      "execution_count": 124,
      "metadata": {
        "colab": {
          "base_uri": "https://localhost:8080/",
          "height": 803
        },
        "id": "pFxh_J858wYc",
        "outputId": "ed641b9f-8878-4014-dc51-88e6af39b276"
      },
      "outputs": [
        {
          "output_type": "execute_result",
          "data": {
            "text/plain": [
              "        InvNr           Equip.reg_date            Scrapped_date  ID_x  \\\n",
              "1364  9004411  2010-01-01 00:00:00.000  2021-09-21 00:00:00.000  1364   \n",
              "1364  9004411  2010-01-01 00:00:00.000  2021-09-21 00:00:00.000  1364   \n",
              "1364  9004411  2010-01-01 00:00:00.000  2021-09-21 00:00:00.000  1364   \n",
              "1364  9004411  2010-01-01 00:00:00.000  2021-09-21 00:00:00.000  1364   \n",
              "1364  9004411  2010-01-01 00:00:00.000  2021-09-21 00:00:00.000  1364   \n",
              "1364  9004411  2010-01-01 00:00:00.000  2021-09-21 00:00:00.000  1364   \n",
              "1364  9004411  2010-01-01 00:00:00.000  2021-09-21 00:00:00.000  1364   \n",
              "1364  9004411  2010-01-01 00:00:00.000  2021-09-21 00:00:00.000  1364   \n",
              "1364  9004411  2010-01-01 00:00:00.000  2021-09-21 00:00:00.000  1364   \n",
              "1364  9004411  2010-01-01 00:00:00.000  2021-09-21 00:00:00.000  1364   \n",
              "\n",
              "                                              dev          Brand  \\\n",
              "1364  Röntgengenomlysningssystem, mobilt digitalt  GE Healthcare   \n",
              "1364  Röntgengenomlysningssystem, mobilt digitalt  GE Healthcare   \n",
              "1364  Röntgengenomlysningssystem, mobilt digitalt  GE Healthcare   \n",
              "1364  Röntgengenomlysningssystem, mobilt digitalt  GE Healthcare   \n",
              "1364  Röntgengenomlysningssystem, mobilt digitalt  GE Healthcare   \n",
              "1364  Röntgengenomlysningssystem, mobilt digitalt  GE Healthcare   \n",
              "1364  Röntgengenomlysningssystem, mobilt digitalt  GE Healthcare   \n",
              "1364  Röntgengenomlysningssystem, mobilt digitalt  GE Healthcare   \n",
              "1364  Röntgengenomlysningssystem, mobilt digitalt  GE Healthcare   \n",
              "1364  Röntgengenomlysningssystem, mobilt digitalt  GE Healthcare   \n",
              "\n",
              "                    Model  calc.Risk     ID_y                   issued  ...  \\\n",
              "1364  OEC Fluorostar 7900       18.0  1233471  2019-05-03 00:00:00.000  ...   \n",
              "1364  OEC Fluorostar 7900       18.0   662950  2017-05-26 00:00:00.000  ...   \n",
              "1364  OEC Fluorostar 7900       18.0   612067  2016-01-04 00:00:00.000  ...   \n",
              "1364  OEC Fluorostar 7900       18.0   393467  2012-07-23 00:00:00.000  ...   \n",
              "1364  OEC Fluorostar 7900       18.0  1237176  2019-05-21 00:00:00.000  ...   \n",
              "1364  OEC Fluorostar 7900       18.0  1222558  2019-02-28 00:00:00.000  ...   \n",
              "1364  OEC Fluorostar 7900       18.0  1167578  2018-04-24 00:00:00.000  ...   \n",
              "1364  OEC Fluorostar 7900       18.0   510206  2013-02-14 00:00:00.000  ...   \n",
              "1364  OEC Fluorostar 7900       18.0   397564  2012-10-09 00:00:00.000  ...   \n",
              "1364  OEC Fluorostar 7900       18.0   394949  2012-08-24 00:00:00.000  ...   \n",
              "\n",
              "     inventarieID     last_wo    first_wo  Count_wo meantime invID  \\\n",
              "1364       1364.0  2020-08-13  2011-03-25        65       52  1364   \n",
              "1364       1364.0  2020-08-13  2011-03-25        65       52  1364   \n",
              "1364       1364.0  2020-08-13  2011-03-25        65       52  1364   \n",
              "1364       1364.0  2020-08-13  2011-03-25        65       52  1364   \n",
              "1364       1364.0  2020-08-13  2011-03-25        65       52  1364   \n",
              "1364       1364.0  2020-08-13  2011-03-25        65       52  1364   \n",
              "1364       1364.0  2020-08-13  2011-03-25        65       52  1364   \n",
              "1364       1364.0  2020-08-13  2011-03-25        65       52  1364   \n",
              "1364       1364.0  2020-08-13  2011-03-25        65       52  1364   \n",
              "1364       1364.0  2020-08-13  2011-03-25        65       52  1364   \n",
              "\n",
              "         last_pm    first_pm  count_pm meantime_pm  \n",
              "1364  2019-10-24  2019-10-24         1           0  \n",
              "1364  2019-10-24  2019-10-24         1           0  \n",
              "1364  2019-10-24  2019-10-24         1           0  \n",
              "1364  2019-10-24  2019-10-24         1           0  \n",
              "1364  2019-10-24  2019-10-24         1           0  \n",
              "1364  2019-10-24  2019-10-24         1           0  \n",
              "1364  2019-10-24  2019-10-24         1           0  \n",
              "1364  2019-10-24  2019-10-24         1           0  \n",
              "1364  2019-10-24  2019-10-24         1           0  \n",
              "1364  2019-10-24  2019-10-24         1           0  \n",
              "\n",
              "[10 rows x 23 columns]"
            ],
            "text/html": [
              "\n",
              "  <div id=\"df-67fb16b6-2b39-4814-a1eb-14cf02037369\">\n",
              "    <div class=\"colab-df-container\">\n",
              "      <div>\n",
              "<style scoped>\n",
              "    .dataframe tbody tr th:only-of-type {\n",
              "        vertical-align: middle;\n",
              "    }\n",
              "\n",
              "    .dataframe tbody tr th {\n",
              "        vertical-align: top;\n",
              "    }\n",
              "\n",
              "    .dataframe thead th {\n",
              "        text-align: right;\n",
              "    }\n",
              "</style>\n",
              "<table border=\"1\" class=\"dataframe\">\n",
              "  <thead>\n",
              "    <tr style=\"text-align: right;\">\n",
              "      <th></th>\n",
              "      <th>InvNr</th>\n",
              "      <th>Equip.reg_date</th>\n",
              "      <th>Scrapped_date</th>\n",
              "      <th>ID_x</th>\n",
              "      <th>dev</th>\n",
              "      <th>Brand</th>\n",
              "      <th>Model</th>\n",
              "      <th>calc.Risk</th>\n",
              "      <th>ID_y</th>\n",
              "      <th>issued</th>\n",
              "      <th>...</th>\n",
              "      <th>inventarieID</th>\n",
              "      <th>last_wo</th>\n",
              "      <th>first_wo</th>\n",
              "      <th>Count_wo</th>\n",
              "      <th>meantime</th>\n",
              "      <th>invID</th>\n",
              "      <th>last_pm</th>\n",
              "      <th>first_pm</th>\n",
              "      <th>count_pm</th>\n",
              "      <th>meantime_pm</th>\n",
              "    </tr>\n",
              "  </thead>\n",
              "  <tbody>\n",
              "    <tr>\n",
              "      <th>1364</th>\n",
              "      <td>9004411</td>\n",
              "      <td>2010-01-01 00:00:00.000</td>\n",
              "      <td>2021-09-21 00:00:00.000</td>\n",
              "      <td>1364</td>\n",
              "      <td>Röntgengenomlysningssystem, mobilt digitalt</td>\n",
              "      <td>GE Healthcare</td>\n",
              "      <td>OEC Fluorostar 7900</td>\n",
              "      <td>18.0</td>\n",
              "      <td>1233471</td>\n",
              "      <td>2019-05-03 00:00:00.000</td>\n",
              "      <td>...</td>\n",
              "      <td>1364.0</td>\n",
              "      <td>2020-08-13</td>\n",
              "      <td>2011-03-25</td>\n",
              "      <td>65</td>\n",
              "      <td>52</td>\n",
              "      <td>1364</td>\n",
              "      <td>2019-10-24</td>\n",
              "      <td>2019-10-24</td>\n",
              "      <td>1</td>\n",
              "      <td>0</td>\n",
              "    </tr>\n",
              "    <tr>\n",
              "      <th>1364</th>\n",
              "      <td>9004411</td>\n",
              "      <td>2010-01-01 00:00:00.000</td>\n",
              "      <td>2021-09-21 00:00:00.000</td>\n",
              "      <td>1364</td>\n",
              "      <td>Röntgengenomlysningssystem, mobilt digitalt</td>\n",
              "      <td>GE Healthcare</td>\n",
              "      <td>OEC Fluorostar 7900</td>\n",
              "      <td>18.0</td>\n",
              "      <td>662950</td>\n",
              "      <td>2017-05-26 00:00:00.000</td>\n",
              "      <td>...</td>\n",
              "      <td>1364.0</td>\n",
              "      <td>2020-08-13</td>\n",
              "      <td>2011-03-25</td>\n",
              "      <td>65</td>\n",
              "      <td>52</td>\n",
              "      <td>1364</td>\n",
              "      <td>2019-10-24</td>\n",
              "      <td>2019-10-24</td>\n",
              "      <td>1</td>\n",
              "      <td>0</td>\n",
              "    </tr>\n",
              "    <tr>\n",
              "      <th>1364</th>\n",
              "      <td>9004411</td>\n",
              "      <td>2010-01-01 00:00:00.000</td>\n",
              "      <td>2021-09-21 00:00:00.000</td>\n",
              "      <td>1364</td>\n",
              "      <td>Röntgengenomlysningssystem, mobilt digitalt</td>\n",
              "      <td>GE Healthcare</td>\n",
              "      <td>OEC Fluorostar 7900</td>\n",
              "      <td>18.0</td>\n",
              "      <td>612067</td>\n",
              "      <td>2016-01-04 00:00:00.000</td>\n",
              "      <td>...</td>\n",
              "      <td>1364.0</td>\n",
              "      <td>2020-08-13</td>\n",
              "      <td>2011-03-25</td>\n",
              "      <td>65</td>\n",
              "      <td>52</td>\n",
              "      <td>1364</td>\n",
              "      <td>2019-10-24</td>\n",
              "      <td>2019-10-24</td>\n",
              "      <td>1</td>\n",
              "      <td>0</td>\n",
              "    </tr>\n",
              "    <tr>\n",
              "      <th>1364</th>\n",
              "      <td>9004411</td>\n",
              "      <td>2010-01-01 00:00:00.000</td>\n",
              "      <td>2021-09-21 00:00:00.000</td>\n",
              "      <td>1364</td>\n",
              "      <td>Röntgengenomlysningssystem, mobilt digitalt</td>\n",
              "      <td>GE Healthcare</td>\n",
              "      <td>OEC Fluorostar 7900</td>\n",
              "      <td>18.0</td>\n",
              "      <td>393467</td>\n",
              "      <td>2012-07-23 00:00:00.000</td>\n",
              "      <td>...</td>\n",
              "      <td>1364.0</td>\n",
              "      <td>2020-08-13</td>\n",
              "      <td>2011-03-25</td>\n",
              "      <td>65</td>\n",
              "      <td>52</td>\n",
              "      <td>1364</td>\n",
              "      <td>2019-10-24</td>\n",
              "      <td>2019-10-24</td>\n",
              "      <td>1</td>\n",
              "      <td>0</td>\n",
              "    </tr>\n",
              "    <tr>\n",
              "      <th>1364</th>\n",
              "      <td>9004411</td>\n",
              "      <td>2010-01-01 00:00:00.000</td>\n",
              "      <td>2021-09-21 00:00:00.000</td>\n",
              "      <td>1364</td>\n",
              "      <td>Röntgengenomlysningssystem, mobilt digitalt</td>\n",
              "      <td>GE Healthcare</td>\n",
              "      <td>OEC Fluorostar 7900</td>\n",
              "      <td>18.0</td>\n",
              "      <td>1237176</td>\n",
              "      <td>2019-05-21 00:00:00.000</td>\n",
              "      <td>...</td>\n",
              "      <td>1364.0</td>\n",
              "      <td>2020-08-13</td>\n",
              "      <td>2011-03-25</td>\n",
              "      <td>65</td>\n",
              "      <td>52</td>\n",
              "      <td>1364</td>\n",
              "      <td>2019-10-24</td>\n",
              "      <td>2019-10-24</td>\n",
              "      <td>1</td>\n",
              "      <td>0</td>\n",
              "    </tr>\n",
              "    <tr>\n",
              "      <th>1364</th>\n",
              "      <td>9004411</td>\n",
              "      <td>2010-01-01 00:00:00.000</td>\n",
              "      <td>2021-09-21 00:00:00.000</td>\n",
              "      <td>1364</td>\n",
              "      <td>Röntgengenomlysningssystem, mobilt digitalt</td>\n",
              "      <td>GE Healthcare</td>\n",
              "      <td>OEC Fluorostar 7900</td>\n",
              "      <td>18.0</td>\n",
              "      <td>1222558</td>\n",
              "      <td>2019-02-28 00:00:00.000</td>\n",
              "      <td>...</td>\n",
              "      <td>1364.0</td>\n",
              "      <td>2020-08-13</td>\n",
              "      <td>2011-03-25</td>\n",
              "      <td>65</td>\n",
              "      <td>52</td>\n",
              "      <td>1364</td>\n",
              "      <td>2019-10-24</td>\n",
              "      <td>2019-10-24</td>\n",
              "      <td>1</td>\n",
              "      <td>0</td>\n",
              "    </tr>\n",
              "    <tr>\n",
              "      <th>1364</th>\n",
              "      <td>9004411</td>\n",
              "      <td>2010-01-01 00:00:00.000</td>\n",
              "      <td>2021-09-21 00:00:00.000</td>\n",
              "      <td>1364</td>\n",
              "      <td>Röntgengenomlysningssystem, mobilt digitalt</td>\n",
              "      <td>GE Healthcare</td>\n",
              "      <td>OEC Fluorostar 7900</td>\n",
              "      <td>18.0</td>\n",
              "      <td>1167578</td>\n",
              "      <td>2018-04-24 00:00:00.000</td>\n",
              "      <td>...</td>\n",
              "      <td>1364.0</td>\n",
              "      <td>2020-08-13</td>\n",
              "      <td>2011-03-25</td>\n",
              "      <td>65</td>\n",
              "      <td>52</td>\n",
              "      <td>1364</td>\n",
              "      <td>2019-10-24</td>\n",
              "      <td>2019-10-24</td>\n",
              "      <td>1</td>\n",
              "      <td>0</td>\n",
              "    </tr>\n",
              "    <tr>\n",
              "      <th>1364</th>\n",
              "      <td>9004411</td>\n",
              "      <td>2010-01-01 00:00:00.000</td>\n",
              "      <td>2021-09-21 00:00:00.000</td>\n",
              "      <td>1364</td>\n",
              "      <td>Röntgengenomlysningssystem, mobilt digitalt</td>\n",
              "      <td>GE Healthcare</td>\n",
              "      <td>OEC Fluorostar 7900</td>\n",
              "      <td>18.0</td>\n",
              "      <td>510206</td>\n",
              "      <td>2013-02-14 00:00:00.000</td>\n",
              "      <td>...</td>\n",
              "      <td>1364.0</td>\n",
              "      <td>2020-08-13</td>\n",
              "      <td>2011-03-25</td>\n",
              "      <td>65</td>\n",
              "      <td>52</td>\n",
              "      <td>1364</td>\n",
              "      <td>2019-10-24</td>\n",
              "      <td>2019-10-24</td>\n",
              "      <td>1</td>\n",
              "      <td>0</td>\n",
              "    </tr>\n",
              "    <tr>\n",
              "      <th>1364</th>\n",
              "      <td>9004411</td>\n",
              "      <td>2010-01-01 00:00:00.000</td>\n",
              "      <td>2021-09-21 00:00:00.000</td>\n",
              "      <td>1364</td>\n",
              "      <td>Röntgengenomlysningssystem, mobilt digitalt</td>\n",
              "      <td>GE Healthcare</td>\n",
              "      <td>OEC Fluorostar 7900</td>\n",
              "      <td>18.0</td>\n",
              "      <td>397564</td>\n",
              "      <td>2012-10-09 00:00:00.000</td>\n",
              "      <td>...</td>\n",
              "      <td>1364.0</td>\n",
              "      <td>2020-08-13</td>\n",
              "      <td>2011-03-25</td>\n",
              "      <td>65</td>\n",
              "      <td>52</td>\n",
              "      <td>1364</td>\n",
              "      <td>2019-10-24</td>\n",
              "      <td>2019-10-24</td>\n",
              "      <td>1</td>\n",
              "      <td>0</td>\n",
              "    </tr>\n",
              "    <tr>\n",
              "      <th>1364</th>\n",
              "      <td>9004411</td>\n",
              "      <td>2010-01-01 00:00:00.000</td>\n",
              "      <td>2021-09-21 00:00:00.000</td>\n",
              "      <td>1364</td>\n",
              "      <td>Röntgengenomlysningssystem, mobilt digitalt</td>\n",
              "      <td>GE Healthcare</td>\n",
              "      <td>OEC Fluorostar 7900</td>\n",
              "      <td>18.0</td>\n",
              "      <td>394949</td>\n",
              "      <td>2012-08-24 00:00:00.000</td>\n",
              "      <td>...</td>\n",
              "      <td>1364.0</td>\n",
              "      <td>2020-08-13</td>\n",
              "      <td>2011-03-25</td>\n",
              "      <td>65</td>\n",
              "      <td>52</td>\n",
              "      <td>1364</td>\n",
              "      <td>2019-10-24</td>\n",
              "      <td>2019-10-24</td>\n",
              "      <td>1</td>\n",
              "      <td>0</td>\n",
              "    </tr>\n",
              "  </tbody>\n",
              "</table>\n",
              "<p>10 rows × 23 columns</p>\n",
              "</div>\n",
              "      <button class=\"colab-df-convert\" onclick=\"convertToInteractive('df-67fb16b6-2b39-4814-a1eb-14cf02037369')\"\n",
              "              title=\"Convert this dataframe to an interactive table.\"\n",
              "              style=\"display:none;\">\n",
              "        \n",
              "  <svg xmlns=\"http://www.w3.org/2000/svg\" height=\"24px\"viewBox=\"0 0 24 24\"\n",
              "       width=\"24px\">\n",
              "    <path d=\"M0 0h24v24H0V0z\" fill=\"none\"/>\n",
              "    <path d=\"M18.56 5.44l.94 2.06.94-2.06 2.06-.94-2.06-.94-.94-2.06-.94 2.06-2.06.94zm-11 1L8.5 8.5l.94-2.06 2.06-.94-2.06-.94L8.5 2.5l-.94 2.06-2.06.94zm10 10l.94 2.06.94-2.06 2.06-.94-2.06-.94-.94-2.06-.94 2.06-2.06.94z\"/><path d=\"M17.41 7.96l-1.37-1.37c-.4-.4-.92-.59-1.43-.59-.52 0-1.04.2-1.43.59L10.3 9.45l-7.72 7.72c-.78.78-.78 2.05 0 2.83L4 21.41c.39.39.9.59 1.41.59.51 0 1.02-.2 1.41-.59l7.78-7.78 2.81-2.81c.8-.78.8-2.07 0-2.86zM5.41 20L4 18.59l7.72-7.72 1.47 1.35L5.41 20z\"/>\n",
              "  </svg>\n",
              "      </button>\n",
              "      \n",
              "  <style>\n",
              "    .colab-df-container {\n",
              "      display:flex;\n",
              "      flex-wrap:wrap;\n",
              "      gap: 12px;\n",
              "    }\n",
              "\n",
              "    .colab-df-convert {\n",
              "      background-color: #E8F0FE;\n",
              "      border: none;\n",
              "      border-radius: 50%;\n",
              "      cursor: pointer;\n",
              "      display: none;\n",
              "      fill: #1967D2;\n",
              "      height: 32px;\n",
              "      padding: 0 0 0 0;\n",
              "      width: 32px;\n",
              "    }\n",
              "\n",
              "    .colab-df-convert:hover {\n",
              "      background-color: #E2EBFA;\n",
              "      box-shadow: 0px 1px 2px rgba(60, 64, 67, 0.3), 0px 1px 3px 1px rgba(60, 64, 67, 0.15);\n",
              "      fill: #174EA6;\n",
              "    }\n",
              "\n",
              "    [theme=dark] .colab-df-convert {\n",
              "      background-color: #3B4455;\n",
              "      fill: #D2E3FC;\n",
              "    }\n",
              "\n",
              "    [theme=dark] .colab-df-convert:hover {\n",
              "      background-color: #434B5C;\n",
              "      box-shadow: 0px 1px 3px 1px rgba(0, 0, 0, 0.15);\n",
              "      filter: drop-shadow(0px 1px 2px rgba(0, 0, 0, 0.3));\n",
              "      fill: #FFFFFF;\n",
              "    }\n",
              "  </style>\n",
              "\n",
              "      <script>\n",
              "        const buttonEl =\n",
              "          document.querySelector('#df-67fb16b6-2b39-4814-a1eb-14cf02037369 button.colab-df-convert');\n",
              "        buttonEl.style.display =\n",
              "          google.colab.kernel.accessAllowed ? 'block' : 'none';\n",
              "\n",
              "        async function convertToInteractive(key) {\n",
              "          const element = document.querySelector('#df-67fb16b6-2b39-4814-a1eb-14cf02037369');\n",
              "          const dataTable =\n",
              "            await google.colab.kernel.invokeFunction('convertToInteractive',\n",
              "                                                     [key], {});\n",
              "          if (!dataTable) return;\n",
              "\n",
              "          const docLinkHtml = 'Like what you see? Visit the ' +\n",
              "            '<a target=\"_blank\" href=https://colab.research.google.com/notebooks/data_table.ipynb>data table notebook</a>'\n",
              "            + ' to learn more about interactive tables.';\n",
              "          element.innerHTML = '';\n",
              "          dataTable['output_type'] = 'display_data';\n",
              "          await google.colab.output.renderOutput(dataTable, element);\n",
              "          const docLink = document.createElement('div');\n",
              "          docLink.innerHTML = docLinkHtml;\n",
              "          element.appendChild(docLink);\n",
              "        }\n",
              "      </script>\n",
              "    </div>\n",
              "  </div>\n",
              "  "
            ]
          },
          "metadata": {},
          "execution_count": 124
        }
      ],
      "source": [
        "all_data_together.head(10)"
      ]
    },
    {
      "cell_type": "markdown",
      "metadata": {
        "id": "zrAFl4pEvQQO"
      },
      "source": [
        "sorting based on inventariedID and issued **date**"
      ]
    },
    {
      "cell_type": "code",
      "execution_count": 125,
      "metadata": {
        "id": "t6CQqjHEvdXb"
      },
      "outputs": [],
      "source": [
        "all_data_together=all_data_together.sort_values(by=['inventarieID','issued'])"
      ]
    },
    {
      "cell_type": "code",
      "execution_count": 126,
      "metadata": {
        "id": "WDnY86t3Pyt3"
      },
      "outputs": [],
      "source": [
        "all_data_together=all_data_together.drop(columns=['InvNr','Completed','InventarieID','invID'])"
      ]
    },
    {
      "cell_type": "code",
      "execution_count": 127,
      "metadata": {
        "colab": {
          "base_uri": "https://localhost:8080/"
        },
        "id": "KJD_lUWoRhD9",
        "outputId": "5c85b7b2-6671-45c3-d321-35688477acb5"
      },
      "outputs": [
        {
          "output_type": "execute_result",
          "data": {
            "text/plain": [
              "(205291, 19)"
            ]
          },
          "metadata": {},
          "execution_count": 127
        }
      ],
      "source": [
        "all_data_together.shape"
      ]
    },
    {
      "cell_type": "code",
      "execution_count": 128,
      "metadata": {
        "colab": {
          "base_uri": "https://localhost:8080/",
          "height": 774
        },
        "id": "g36tAHyDxLTf",
        "outputId": "b7022b9f-8797-4210-ab41-9bfd4f595628"
      },
      "outputs": [
        {
          "output_type": "execute_result",
          "data": {
            "text/plain": [
              "               Equip.reg_date            Scrapped_date  ID_x  \\\n",
              "1364  2010-01-01 00:00:00.000  2021-09-21 00:00:00.000  1364   \n",
              "1364  2010-01-01 00:00:00.000  2021-09-21 00:00:00.000  1364   \n",
              "1364  2010-01-01 00:00:00.000  2021-09-21 00:00:00.000  1364   \n",
              "1364  2010-01-01 00:00:00.000  2021-09-21 00:00:00.000  1364   \n",
              "1364  2010-01-01 00:00:00.000  2021-09-21 00:00:00.000  1364   \n",
              "1364  2010-01-01 00:00:00.000  2021-09-21 00:00:00.000  1364   \n",
              "1364  2010-01-01 00:00:00.000  2021-09-21 00:00:00.000  1364   \n",
              "1364  2010-01-01 00:00:00.000  2021-09-21 00:00:00.000  1364   \n",
              "1364  2010-01-01 00:00:00.000  2021-09-21 00:00:00.000  1364   \n",
              "1364  2010-01-01 00:00:00.000  2021-09-21 00:00:00.000  1364   \n",
              "\n",
              "                                              dev          Brand  \\\n",
              "1364  Röntgengenomlysningssystem, mobilt digitalt  GE Healthcare   \n",
              "1364  Röntgengenomlysningssystem, mobilt digitalt  GE Healthcare   \n",
              "1364  Röntgengenomlysningssystem, mobilt digitalt  GE Healthcare   \n",
              "1364  Röntgengenomlysningssystem, mobilt digitalt  GE Healthcare   \n",
              "1364  Röntgengenomlysningssystem, mobilt digitalt  GE Healthcare   \n",
              "1364  Röntgengenomlysningssystem, mobilt digitalt  GE Healthcare   \n",
              "1364  Röntgengenomlysningssystem, mobilt digitalt  GE Healthcare   \n",
              "1364  Röntgengenomlysningssystem, mobilt digitalt  GE Healthcare   \n",
              "1364  Röntgengenomlysningssystem, mobilt digitalt  GE Healthcare   \n",
              "1364  Röntgengenomlysningssystem, mobilt digitalt  GE Healthcare   \n",
              "\n",
              "                    Model  calc.Risk    ID_y                   issued  \\\n",
              "1364  OEC Fluorostar 7900       18.0  242555  2011-03-25 00:00:00.000   \n",
              "1364  OEC Fluorostar 7900       18.0  282186  2011-05-14 00:00:00.000   \n",
              "1364  OEC Fluorostar 7900       18.0  282305  2011-05-18 00:00:00.000   \n",
              "1364  OEC Fluorostar 7900       18.0  359761  2011-10-25 00:00:00.000   \n",
              "1364  OEC Fluorostar 7900       18.0  362353  2012-01-02 00:00:00.000   \n",
              "1364  OEC Fluorostar 7900       18.0  363896  2012-02-07 00:00:00.000   \n",
              "1364  OEC Fluorostar 7900       18.0  391369  2012-06-18 00:00:00.000   \n",
              "1364  OEC Fluorostar 7900       18.0  393299  2012-07-18 00:00:00.000   \n",
              "1364  OEC Fluorostar 7900       18.0  393467  2012-07-23 00:00:00.000   \n",
              "1364  OEC Fluorostar 7900       18.0  394949  2012-08-24 00:00:00.000   \n",
              "\n",
              "                  AOEkKlarDat  inventarieID     last_wo    first_wo  Count_wo  \\\n",
              "1364  2011-03-25 00:00:00.000        1364.0  2020-08-13  2011-03-25        65   \n",
              "1364  2011-05-14 00:00:00.000        1364.0  2020-08-13  2011-03-25        65   \n",
              "1364  2011-05-18 00:00:00.000        1364.0  2020-08-13  2011-03-25        65   \n",
              "1364  2011-10-26 00:00:00.000        1364.0  2020-08-13  2011-03-25        65   \n",
              "1364  2012-01-02 00:00:00.000        1364.0  2020-08-13  2011-03-25        65   \n",
              "1364  2012-02-23 00:00:00.000        1364.0  2020-08-13  2011-03-25        65   \n",
              "1364  2012-06-18 00:00:00.000        1364.0  2020-08-13  2011-03-25        65   \n",
              "1364  2012-12-21 00:00:00.000        1364.0  2020-08-13  2011-03-25        65   \n",
              "1364  2012-12-21 00:00:00.000        1364.0  2020-08-13  2011-03-25        65   \n",
              "1364  2013-01-28 00:00:00.000        1364.0  2020-08-13  2011-03-25        65   \n",
              "\n",
              "      meantime     last_pm    first_pm  count_pm  meantime_pm  \n",
              "1364        52  2019-10-24  2019-10-24         1            0  \n",
              "1364        52  2019-10-24  2019-10-24         1            0  \n",
              "1364        52  2019-10-24  2019-10-24         1            0  \n",
              "1364        52  2019-10-24  2019-10-24         1            0  \n",
              "1364        52  2019-10-24  2019-10-24         1            0  \n",
              "1364        52  2019-10-24  2019-10-24         1            0  \n",
              "1364        52  2019-10-24  2019-10-24         1            0  \n",
              "1364        52  2019-10-24  2019-10-24         1            0  \n",
              "1364        52  2019-10-24  2019-10-24         1            0  \n",
              "1364        52  2019-10-24  2019-10-24         1            0  "
            ],
            "text/html": [
              "\n",
              "  <div id=\"df-9696e10b-e1f8-45a3-8356-b11f7b287628\">\n",
              "    <div class=\"colab-df-container\">\n",
              "      <div>\n",
              "<style scoped>\n",
              "    .dataframe tbody tr th:only-of-type {\n",
              "        vertical-align: middle;\n",
              "    }\n",
              "\n",
              "    .dataframe tbody tr th {\n",
              "        vertical-align: top;\n",
              "    }\n",
              "\n",
              "    .dataframe thead th {\n",
              "        text-align: right;\n",
              "    }\n",
              "</style>\n",
              "<table border=\"1\" class=\"dataframe\">\n",
              "  <thead>\n",
              "    <tr style=\"text-align: right;\">\n",
              "      <th></th>\n",
              "      <th>Equip.reg_date</th>\n",
              "      <th>Scrapped_date</th>\n",
              "      <th>ID_x</th>\n",
              "      <th>dev</th>\n",
              "      <th>Brand</th>\n",
              "      <th>Model</th>\n",
              "      <th>calc.Risk</th>\n",
              "      <th>ID_y</th>\n",
              "      <th>issued</th>\n",
              "      <th>AOEkKlarDat</th>\n",
              "      <th>inventarieID</th>\n",
              "      <th>last_wo</th>\n",
              "      <th>first_wo</th>\n",
              "      <th>Count_wo</th>\n",
              "      <th>meantime</th>\n",
              "      <th>last_pm</th>\n",
              "      <th>first_pm</th>\n",
              "      <th>count_pm</th>\n",
              "      <th>meantime_pm</th>\n",
              "    </tr>\n",
              "  </thead>\n",
              "  <tbody>\n",
              "    <tr>\n",
              "      <th>1364</th>\n",
              "      <td>2010-01-01 00:00:00.000</td>\n",
              "      <td>2021-09-21 00:00:00.000</td>\n",
              "      <td>1364</td>\n",
              "      <td>Röntgengenomlysningssystem, mobilt digitalt</td>\n",
              "      <td>GE Healthcare</td>\n",
              "      <td>OEC Fluorostar 7900</td>\n",
              "      <td>18.0</td>\n",
              "      <td>242555</td>\n",
              "      <td>2011-03-25 00:00:00.000</td>\n",
              "      <td>2011-03-25 00:00:00.000</td>\n",
              "      <td>1364.0</td>\n",
              "      <td>2020-08-13</td>\n",
              "      <td>2011-03-25</td>\n",
              "      <td>65</td>\n",
              "      <td>52</td>\n",
              "      <td>2019-10-24</td>\n",
              "      <td>2019-10-24</td>\n",
              "      <td>1</td>\n",
              "      <td>0</td>\n",
              "    </tr>\n",
              "    <tr>\n",
              "      <th>1364</th>\n",
              "      <td>2010-01-01 00:00:00.000</td>\n",
              "      <td>2021-09-21 00:00:00.000</td>\n",
              "      <td>1364</td>\n",
              "      <td>Röntgengenomlysningssystem, mobilt digitalt</td>\n",
              "      <td>GE Healthcare</td>\n",
              "      <td>OEC Fluorostar 7900</td>\n",
              "      <td>18.0</td>\n",
              "      <td>282186</td>\n",
              "      <td>2011-05-14 00:00:00.000</td>\n",
              "      <td>2011-05-14 00:00:00.000</td>\n",
              "      <td>1364.0</td>\n",
              "      <td>2020-08-13</td>\n",
              "      <td>2011-03-25</td>\n",
              "      <td>65</td>\n",
              "      <td>52</td>\n",
              "      <td>2019-10-24</td>\n",
              "      <td>2019-10-24</td>\n",
              "      <td>1</td>\n",
              "      <td>0</td>\n",
              "    </tr>\n",
              "    <tr>\n",
              "      <th>1364</th>\n",
              "      <td>2010-01-01 00:00:00.000</td>\n",
              "      <td>2021-09-21 00:00:00.000</td>\n",
              "      <td>1364</td>\n",
              "      <td>Röntgengenomlysningssystem, mobilt digitalt</td>\n",
              "      <td>GE Healthcare</td>\n",
              "      <td>OEC Fluorostar 7900</td>\n",
              "      <td>18.0</td>\n",
              "      <td>282305</td>\n",
              "      <td>2011-05-18 00:00:00.000</td>\n",
              "      <td>2011-05-18 00:00:00.000</td>\n",
              "      <td>1364.0</td>\n",
              "      <td>2020-08-13</td>\n",
              "      <td>2011-03-25</td>\n",
              "      <td>65</td>\n",
              "      <td>52</td>\n",
              "      <td>2019-10-24</td>\n",
              "      <td>2019-10-24</td>\n",
              "      <td>1</td>\n",
              "      <td>0</td>\n",
              "    </tr>\n",
              "    <tr>\n",
              "      <th>1364</th>\n",
              "      <td>2010-01-01 00:00:00.000</td>\n",
              "      <td>2021-09-21 00:00:00.000</td>\n",
              "      <td>1364</td>\n",
              "      <td>Röntgengenomlysningssystem, mobilt digitalt</td>\n",
              "      <td>GE Healthcare</td>\n",
              "      <td>OEC Fluorostar 7900</td>\n",
              "      <td>18.0</td>\n",
              "      <td>359761</td>\n",
              "      <td>2011-10-25 00:00:00.000</td>\n",
              "      <td>2011-10-26 00:00:00.000</td>\n",
              "      <td>1364.0</td>\n",
              "      <td>2020-08-13</td>\n",
              "      <td>2011-03-25</td>\n",
              "      <td>65</td>\n",
              "      <td>52</td>\n",
              "      <td>2019-10-24</td>\n",
              "      <td>2019-10-24</td>\n",
              "      <td>1</td>\n",
              "      <td>0</td>\n",
              "    </tr>\n",
              "    <tr>\n",
              "      <th>1364</th>\n",
              "      <td>2010-01-01 00:00:00.000</td>\n",
              "      <td>2021-09-21 00:00:00.000</td>\n",
              "      <td>1364</td>\n",
              "      <td>Röntgengenomlysningssystem, mobilt digitalt</td>\n",
              "      <td>GE Healthcare</td>\n",
              "      <td>OEC Fluorostar 7900</td>\n",
              "      <td>18.0</td>\n",
              "      <td>362353</td>\n",
              "      <td>2012-01-02 00:00:00.000</td>\n",
              "      <td>2012-01-02 00:00:00.000</td>\n",
              "      <td>1364.0</td>\n",
              "      <td>2020-08-13</td>\n",
              "      <td>2011-03-25</td>\n",
              "      <td>65</td>\n",
              "      <td>52</td>\n",
              "      <td>2019-10-24</td>\n",
              "      <td>2019-10-24</td>\n",
              "      <td>1</td>\n",
              "      <td>0</td>\n",
              "    </tr>\n",
              "    <tr>\n",
              "      <th>1364</th>\n",
              "      <td>2010-01-01 00:00:00.000</td>\n",
              "      <td>2021-09-21 00:00:00.000</td>\n",
              "      <td>1364</td>\n",
              "      <td>Röntgengenomlysningssystem, mobilt digitalt</td>\n",
              "      <td>GE Healthcare</td>\n",
              "      <td>OEC Fluorostar 7900</td>\n",
              "      <td>18.0</td>\n",
              "      <td>363896</td>\n",
              "      <td>2012-02-07 00:00:00.000</td>\n",
              "      <td>2012-02-23 00:00:00.000</td>\n",
              "      <td>1364.0</td>\n",
              "      <td>2020-08-13</td>\n",
              "      <td>2011-03-25</td>\n",
              "      <td>65</td>\n",
              "      <td>52</td>\n",
              "      <td>2019-10-24</td>\n",
              "      <td>2019-10-24</td>\n",
              "      <td>1</td>\n",
              "      <td>0</td>\n",
              "    </tr>\n",
              "    <tr>\n",
              "      <th>1364</th>\n",
              "      <td>2010-01-01 00:00:00.000</td>\n",
              "      <td>2021-09-21 00:00:00.000</td>\n",
              "      <td>1364</td>\n",
              "      <td>Röntgengenomlysningssystem, mobilt digitalt</td>\n",
              "      <td>GE Healthcare</td>\n",
              "      <td>OEC Fluorostar 7900</td>\n",
              "      <td>18.0</td>\n",
              "      <td>391369</td>\n",
              "      <td>2012-06-18 00:00:00.000</td>\n",
              "      <td>2012-06-18 00:00:00.000</td>\n",
              "      <td>1364.0</td>\n",
              "      <td>2020-08-13</td>\n",
              "      <td>2011-03-25</td>\n",
              "      <td>65</td>\n",
              "      <td>52</td>\n",
              "      <td>2019-10-24</td>\n",
              "      <td>2019-10-24</td>\n",
              "      <td>1</td>\n",
              "      <td>0</td>\n",
              "    </tr>\n",
              "    <tr>\n",
              "      <th>1364</th>\n",
              "      <td>2010-01-01 00:00:00.000</td>\n",
              "      <td>2021-09-21 00:00:00.000</td>\n",
              "      <td>1364</td>\n",
              "      <td>Röntgengenomlysningssystem, mobilt digitalt</td>\n",
              "      <td>GE Healthcare</td>\n",
              "      <td>OEC Fluorostar 7900</td>\n",
              "      <td>18.0</td>\n",
              "      <td>393299</td>\n",
              "      <td>2012-07-18 00:00:00.000</td>\n",
              "      <td>2012-12-21 00:00:00.000</td>\n",
              "      <td>1364.0</td>\n",
              "      <td>2020-08-13</td>\n",
              "      <td>2011-03-25</td>\n",
              "      <td>65</td>\n",
              "      <td>52</td>\n",
              "      <td>2019-10-24</td>\n",
              "      <td>2019-10-24</td>\n",
              "      <td>1</td>\n",
              "      <td>0</td>\n",
              "    </tr>\n",
              "    <tr>\n",
              "      <th>1364</th>\n",
              "      <td>2010-01-01 00:00:00.000</td>\n",
              "      <td>2021-09-21 00:00:00.000</td>\n",
              "      <td>1364</td>\n",
              "      <td>Röntgengenomlysningssystem, mobilt digitalt</td>\n",
              "      <td>GE Healthcare</td>\n",
              "      <td>OEC Fluorostar 7900</td>\n",
              "      <td>18.0</td>\n",
              "      <td>393467</td>\n",
              "      <td>2012-07-23 00:00:00.000</td>\n",
              "      <td>2012-12-21 00:00:00.000</td>\n",
              "      <td>1364.0</td>\n",
              "      <td>2020-08-13</td>\n",
              "      <td>2011-03-25</td>\n",
              "      <td>65</td>\n",
              "      <td>52</td>\n",
              "      <td>2019-10-24</td>\n",
              "      <td>2019-10-24</td>\n",
              "      <td>1</td>\n",
              "      <td>0</td>\n",
              "    </tr>\n",
              "    <tr>\n",
              "      <th>1364</th>\n",
              "      <td>2010-01-01 00:00:00.000</td>\n",
              "      <td>2021-09-21 00:00:00.000</td>\n",
              "      <td>1364</td>\n",
              "      <td>Röntgengenomlysningssystem, mobilt digitalt</td>\n",
              "      <td>GE Healthcare</td>\n",
              "      <td>OEC Fluorostar 7900</td>\n",
              "      <td>18.0</td>\n",
              "      <td>394949</td>\n",
              "      <td>2012-08-24 00:00:00.000</td>\n",
              "      <td>2013-01-28 00:00:00.000</td>\n",
              "      <td>1364.0</td>\n",
              "      <td>2020-08-13</td>\n",
              "      <td>2011-03-25</td>\n",
              "      <td>65</td>\n",
              "      <td>52</td>\n",
              "      <td>2019-10-24</td>\n",
              "      <td>2019-10-24</td>\n",
              "      <td>1</td>\n",
              "      <td>0</td>\n",
              "    </tr>\n",
              "  </tbody>\n",
              "</table>\n",
              "</div>\n",
              "      <button class=\"colab-df-convert\" onclick=\"convertToInteractive('df-9696e10b-e1f8-45a3-8356-b11f7b287628')\"\n",
              "              title=\"Convert this dataframe to an interactive table.\"\n",
              "              style=\"display:none;\">\n",
              "        \n",
              "  <svg xmlns=\"http://www.w3.org/2000/svg\" height=\"24px\"viewBox=\"0 0 24 24\"\n",
              "       width=\"24px\">\n",
              "    <path d=\"M0 0h24v24H0V0z\" fill=\"none\"/>\n",
              "    <path d=\"M18.56 5.44l.94 2.06.94-2.06 2.06-.94-2.06-.94-.94-2.06-.94 2.06-2.06.94zm-11 1L8.5 8.5l.94-2.06 2.06-.94-2.06-.94L8.5 2.5l-.94 2.06-2.06.94zm10 10l.94 2.06.94-2.06 2.06-.94-2.06-.94-.94-2.06-.94 2.06-2.06.94z\"/><path d=\"M17.41 7.96l-1.37-1.37c-.4-.4-.92-.59-1.43-.59-.52 0-1.04.2-1.43.59L10.3 9.45l-7.72 7.72c-.78.78-.78 2.05 0 2.83L4 21.41c.39.39.9.59 1.41.59.51 0 1.02-.2 1.41-.59l7.78-7.78 2.81-2.81c.8-.78.8-2.07 0-2.86zM5.41 20L4 18.59l7.72-7.72 1.47 1.35L5.41 20z\"/>\n",
              "  </svg>\n",
              "      </button>\n",
              "      \n",
              "  <style>\n",
              "    .colab-df-container {\n",
              "      display:flex;\n",
              "      flex-wrap:wrap;\n",
              "      gap: 12px;\n",
              "    }\n",
              "\n",
              "    .colab-df-convert {\n",
              "      background-color: #E8F0FE;\n",
              "      border: none;\n",
              "      border-radius: 50%;\n",
              "      cursor: pointer;\n",
              "      display: none;\n",
              "      fill: #1967D2;\n",
              "      height: 32px;\n",
              "      padding: 0 0 0 0;\n",
              "      width: 32px;\n",
              "    }\n",
              "\n",
              "    .colab-df-convert:hover {\n",
              "      background-color: #E2EBFA;\n",
              "      box-shadow: 0px 1px 2px rgba(60, 64, 67, 0.3), 0px 1px 3px 1px rgba(60, 64, 67, 0.15);\n",
              "      fill: #174EA6;\n",
              "    }\n",
              "\n",
              "    [theme=dark] .colab-df-convert {\n",
              "      background-color: #3B4455;\n",
              "      fill: #D2E3FC;\n",
              "    }\n",
              "\n",
              "    [theme=dark] .colab-df-convert:hover {\n",
              "      background-color: #434B5C;\n",
              "      box-shadow: 0px 1px 3px 1px rgba(0, 0, 0, 0.15);\n",
              "      filter: drop-shadow(0px 1px 2px rgba(0, 0, 0, 0.3));\n",
              "      fill: #FFFFFF;\n",
              "    }\n",
              "  </style>\n",
              "\n",
              "      <script>\n",
              "        const buttonEl =\n",
              "          document.querySelector('#df-9696e10b-e1f8-45a3-8356-b11f7b287628 button.colab-df-convert');\n",
              "        buttonEl.style.display =\n",
              "          google.colab.kernel.accessAllowed ? 'block' : 'none';\n",
              "\n",
              "        async function convertToInteractive(key) {\n",
              "          const element = document.querySelector('#df-9696e10b-e1f8-45a3-8356-b11f7b287628');\n",
              "          const dataTable =\n",
              "            await google.colab.kernel.invokeFunction('convertToInteractive',\n",
              "                                                     [key], {});\n",
              "          if (!dataTable) return;\n",
              "\n",
              "          const docLinkHtml = 'Like what you see? Visit the ' +\n",
              "            '<a target=\"_blank\" href=https://colab.research.google.com/notebooks/data_table.ipynb>data table notebook</a>'\n",
              "            + ' to learn more about interactive tables.';\n",
              "          element.innerHTML = '';\n",
              "          dataTable['output_type'] = 'display_data';\n",
              "          await google.colab.output.renderOutput(dataTable, element);\n",
              "          const docLink = document.createElement('div');\n",
              "          docLink.innerHTML = docLinkHtml;\n",
              "          element.appendChild(docLink);\n",
              "        }\n",
              "      </script>\n",
              "    </div>\n",
              "  </div>\n",
              "  "
            ]
          },
          "metadata": {},
          "execution_count": 128
        }
      ],
      "source": [
        "all_data_together.head(10)"
      ]
    },
    {
      "cell_type": "markdown",
      "metadata": {
        "id": "zKMM9uHSTn75"
      },
      "source": [
        "# **Multiple Regression model for Work Orders and Failing time -Anathesia device**"
      ]
    },
    {
      "cell_type": "code",
      "execution_count": 129,
      "metadata": {
        "id": "R8BrfOsHUDx7"
      },
      "outputs": [],
      "source": [
        "from sklearn import linear_model\n",
        "from sklearn.linear_model import LinearRegression\n",
        "from sklearn.metrics import mean_squared_error, mean_absolute_error\n",
        "from sklearn import preprocessing"
      ]
    },
    {
      "cell_type": "code",
      "execution_count": 130,
      "metadata": {
        "colab": {
          "base_uri": "https://localhost:8080/"
        },
        "id": "qOApF6jVR_vQ",
        "outputId": "e30ccecd-9297-4755-e96f-2d5c5630355d"
      },
      "outputs": [
        {
          "output_type": "execute_result",
          "data": {
            "text/plain": [
              "(6915, 9)"
            ]
          },
          "metadata": {},
          "execution_count": 130
        }
      ],
      "source": [
        "data_aneshos1woeq.shape"
      ]
    },
    {
      "cell_type": "markdown",
      "metadata": {
        "id": "zOeP_z2Z_vWp"
      },
      "source": [
        "model pre-processing"
      ]
    },
    {
      "cell_type": "markdown",
      "metadata": {
        "id": "3iA01uMzV8aT"
      },
      "source": [
        "table find difference between fault date and register date "
      ]
    },
    {
      "cell_type": "code",
      "execution_count": 131,
      "metadata": {
        "id": "zPUBAVvOWHBK"
      },
      "outputs": [],
      "source": [
        "data_aneshos1woeq['wotime_diff']=(data_aneshos1woeq['issued']-data_aneshos1woeq['Equip.reg_date']).dt.days"
      ]
    },
    {
      "cell_type": "code",
      "execution_count": 132,
      "metadata": {
        "colab": {
          "base_uri": "https://localhost:8080/",
          "height": 519
        },
        "id": "708n_SkfXxy8",
        "outputId": "0eaaa28c-ac6c-40bb-ed72-c7eb9880fd64"
      },
      "outputs": [
        {
          "output_type": "execute_result",
          "data": {
            "text/plain": [
              "       Equip.reg_date                      dev  calc.Risk     ID_y     issued  \\\n",
              "231344     1996-09-02  Lungventilator anestesi       30.0   931647 2002-08-27   \n",
              "231344     1996-09-02  Lungventilator anestesi       30.0   915429 2001-04-04   \n",
              "231344     1996-09-02  Lungventilator anestesi       30.0   893058 1999-05-04   \n",
              "231344     1996-09-02  Lungventilator anestesi       30.0  1019518 2008-09-19   \n",
              "231345     1997-05-28  Lungventilator anestesi       31.0   877971 1997-05-28   \n",
              "231345     1997-05-28  Lungventilator anestesi       31.0   884240 1998-03-25   \n",
              "231346     1977-01-01  Lungventilator anestesi       31.0  1081462 2013-01-22   \n",
              "231346     1977-01-01  Lungventilator anestesi       31.0  1169693 2018-05-07   \n",
              "231346     1977-01-01  Lungventilator anestesi       31.0  1047282 2010-09-01   \n",
              "231346     1977-01-01  Lungventilator anestesi       31.0  1064704 2011-11-11   \n",
              "231346     1977-01-01  Lungventilator anestesi       31.0  1008160 2007-12-07   \n",
              "231346     1977-01-01  Lungventilator anestesi       31.0   968145 2004-11-05   \n",
              "231346     1977-01-01  Lungventilator anestesi       31.0  1047278 2010-09-01   \n",
              "234883     1977-01-01  Lungventilator anestesi       30.0  1016712 2008-06-19   \n",
              "234883     1977-01-01  Lungventilator anestesi       30.0  1016716 2008-06-19   \n",
              "\n",
              "        inventarieID  Count_wo  meantime    age  wotime_diff  \n",
              "231344      231344.0        10       686   6862         2185  \n",
              "231344      231344.0        10       686   6862         1675  \n",
              "231344      231344.0        10       686   6862          974  \n",
              "231344      231344.0        10       686   6862         4400  \n",
              "231345      231345.0         2       150   6690            0  \n",
              "231345      231345.0         2       150   6690          301  \n",
              "231346      231346.0         4       982  15389        13170  \n",
              "231346      231346.0         4       982  15389        15101  \n",
              "231346      231346.0         4       982  15389        12296  \n",
              "231346      231346.0         4       982  15389        12732  \n",
              "231346      231346.0         4       982  15389        11297  \n",
              "231346      231346.0         4       982  15389        10170  \n",
              "231346      231346.0         4       982  15389        12296  \n",
              "234883      234883.0         2         0  14538        11492  \n",
              "234883      234883.0         2         0  14538        11492  "
            ],
            "text/html": [
              "\n",
              "  <div id=\"df-dac8ce68-ec83-49e6-91cc-d78207546d67\">\n",
              "    <div class=\"colab-df-container\">\n",
              "      <div>\n",
              "<style scoped>\n",
              "    .dataframe tbody tr th:only-of-type {\n",
              "        vertical-align: middle;\n",
              "    }\n",
              "\n",
              "    .dataframe tbody tr th {\n",
              "        vertical-align: top;\n",
              "    }\n",
              "\n",
              "    .dataframe thead th {\n",
              "        text-align: right;\n",
              "    }\n",
              "</style>\n",
              "<table border=\"1\" class=\"dataframe\">\n",
              "  <thead>\n",
              "    <tr style=\"text-align: right;\">\n",
              "      <th></th>\n",
              "      <th>Equip.reg_date</th>\n",
              "      <th>dev</th>\n",
              "      <th>calc.Risk</th>\n",
              "      <th>ID_y</th>\n",
              "      <th>issued</th>\n",
              "      <th>inventarieID</th>\n",
              "      <th>Count_wo</th>\n",
              "      <th>meantime</th>\n",
              "      <th>age</th>\n",
              "      <th>wotime_diff</th>\n",
              "    </tr>\n",
              "  </thead>\n",
              "  <tbody>\n",
              "    <tr>\n",
              "      <th>231344</th>\n",
              "      <td>1996-09-02</td>\n",
              "      <td>Lungventilator anestesi</td>\n",
              "      <td>30.0</td>\n",
              "      <td>931647</td>\n",
              "      <td>2002-08-27</td>\n",
              "      <td>231344.0</td>\n",
              "      <td>10</td>\n",
              "      <td>686</td>\n",
              "      <td>6862</td>\n",
              "      <td>2185</td>\n",
              "    </tr>\n",
              "    <tr>\n",
              "      <th>231344</th>\n",
              "      <td>1996-09-02</td>\n",
              "      <td>Lungventilator anestesi</td>\n",
              "      <td>30.0</td>\n",
              "      <td>915429</td>\n",
              "      <td>2001-04-04</td>\n",
              "      <td>231344.0</td>\n",
              "      <td>10</td>\n",
              "      <td>686</td>\n",
              "      <td>6862</td>\n",
              "      <td>1675</td>\n",
              "    </tr>\n",
              "    <tr>\n",
              "      <th>231344</th>\n",
              "      <td>1996-09-02</td>\n",
              "      <td>Lungventilator anestesi</td>\n",
              "      <td>30.0</td>\n",
              "      <td>893058</td>\n",
              "      <td>1999-05-04</td>\n",
              "      <td>231344.0</td>\n",
              "      <td>10</td>\n",
              "      <td>686</td>\n",
              "      <td>6862</td>\n",
              "      <td>974</td>\n",
              "    </tr>\n",
              "    <tr>\n",
              "      <th>231344</th>\n",
              "      <td>1996-09-02</td>\n",
              "      <td>Lungventilator anestesi</td>\n",
              "      <td>30.0</td>\n",
              "      <td>1019518</td>\n",
              "      <td>2008-09-19</td>\n",
              "      <td>231344.0</td>\n",
              "      <td>10</td>\n",
              "      <td>686</td>\n",
              "      <td>6862</td>\n",
              "      <td>4400</td>\n",
              "    </tr>\n",
              "    <tr>\n",
              "      <th>231345</th>\n",
              "      <td>1997-05-28</td>\n",
              "      <td>Lungventilator anestesi</td>\n",
              "      <td>31.0</td>\n",
              "      <td>877971</td>\n",
              "      <td>1997-05-28</td>\n",
              "      <td>231345.0</td>\n",
              "      <td>2</td>\n",
              "      <td>150</td>\n",
              "      <td>6690</td>\n",
              "      <td>0</td>\n",
              "    </tr>\n",
              "    <tr>\n",
              "      <th>231345</th>\n",
              "      <td>1997-05-28</td>\n",
              "      <td>Lungventilator anestesi</td>\n",
              "      <td>31.0</td>\n",
              "      <td>884240</td>\n",
              "      <td>1998-03-25</td>\n",
              "      <td>231345.0</td>\n",
              "      <td>2</td>\n",
              "      <td>150</td>\n",
              "      <td>6690</td>\n",
              "      <td>301</td>\n",
              "    </tr>\n",
              "    <tr>\n",
              "      <th>231346</th>\n",
              "      <td>1977-01-01</td>\n",
              "      <td>Lungventilator anestesi</td>\n",
              "      <td>31.0</td>\n",
              "      <td>1081462</td>\n",
              "      <td>2013-01-22</td>\n",
              "      <td>231346.0</td>\n",
              "      <td>4</td>\n",
              "      <td>982</td>\n",
              "      <td>15389</td>\n",
              "      <td>13170</td>\n",
              "    </tr>\n",
              "    <tr>\n",
              "      <th>231346</th>\n",
              "      <td>1977-01-01</td>\n",
              "      <td>Lungventilator anestesi</td>\n",
              "      <td>31.0</td>\n",
              "      <td>1169693</td>\n",
              "      <td>2018-05-07</td>\n",
              "      <td>231346.0</td>\n",
              "      <td>4</td>\n",
              "      <td>982</td>\n",
              "      <td>15389</td>\n",
              "      <td>15101</td>\n",
              "    </tr>\n",
              "    <tr>\n",
              "      <th>231346</th>\n",
              "      <td>1977-01-01</td>\n",
              "      <td>Lungventilator anestesi</td>\n",
              "      <td>31.0</td>\n",
              "      <td>1047282</td>\n",
              "      <td>2010-09-01</td>\n",
              "      <td>231346.0</td>\n",
              "      <td>4</td>\n",
              "      <td>982</td>\n",
              "      <td>15389</td>\n",
              "      <td>12296</td>\n",
              "    </tr>\n",
              "    <tr>\n",
              "      <th>231346</th>\n",
              "      <td>1977-01-01</td>\n",
              "      <td>Lungventilator anestesi</td>\n",
              "      <td>31.0</td>\n",
              "      <td>1064704</td>\n",
              "      <td>2011-11-11</td>\n",
              "      <td>231346.0</td>\n",
              "      <td>4</td>\n",
              "      <td>982</td>\n",
              "      <td>15389</td>\n",
              "      <td>12732</td>\n",
              "    </tr>\n",
              "    <tr>\n",
              "      <th>231346</th>\n",
              "      <td>1977-01-01</td>\n",
              "      <td>Lungventilator anestesi</td>\n",
              "      <td>31.0</td>\n",
              "      <td>1008160</td>\n",
              "      <td>2007-12-07</td>\n",
              "      <td>231346.0</td>\n",
              "      <td>4</td>\n",
              "      <td>982</td>\n",
              "      <td>15389</td>\n",
              "      <td>11297</td>\n",
              "    </tr>\n",
              "    <tr>\n",
              "      <th>231346</th>\n",
              "      <td>1977-01-01</td>\n",
              "      <td>Lungventilator anestesi</td>\n",
              "      <td>31.0</td>\n",
              "      <td>968145</td>\n",
              "      <td>2004-11-05</td>\n",
              "      <td>231346.0</td>\n",
              "      <td>4</td>\n",
              "      <td>982</td>\n",
              "      <td>15389</td>\n",
              "      <td>10170</td>\n",
              "    </tr>\n",
              "    <tr>\n",
              "      <th>231346</th>\n",
              "      <td>1977-01-01</td>\n",
              "      <td>Lungventilator anestesi</td>\n",
              "      <td>31.0</td>\n",
              "      <td>1047278</td>\n",
              "      <td>2010-09-01</td>\n",
              "      <td>231346.0</td>\n",
              "      <td>4</td>\n",
              "      <td>982</td>\n",
              "      <td>15389</td>\n",
              "      <td>12296</td>\n",
              "    </tr>\n",
              "    <tr>\n",
              "      <th>234883</th>\n",
              "      <td>1977-01-01</td>\n",
              "      <td>Lungventilator anestesi</td>\n",
              "      <td>30.0</td>\n",
              "      <td>1016712</td>\n",
              "      <td>2008-06-19</td>\n",
              "      <td>234883.0</td>\n",
              "      <td>2</td>\n",
              "      <td>0</td>\n",
              "      <td>14538</td>\n",
              "      <td>11492</td>\n",
              "    </tr>\n",
              "    <tr>\n",
              "      <th>234883</th>\n",
              "      <td>1977-01-01</td>\n",
              "      <td>Lungventilator anestesi</td>\n",
              "      <td>30.0</td>\n",
              "      <td>1016716</td>\n",
              "      <td>2008-06-19</td>\n",
              "      <td>234883.0</td>\n",
              "      <td>2</td>\n",
              "      <td>0</td>\n",
              "      <td>14538</td>\n",
              "      <td>11492</td>\n",
              "    </tr>\n",
              "  </tbody>\n",
              "</table>\n",
              "</div>\n",
              "      <button class=\"colab-df-convert\" onclick=\"convertToInteractive('df-dac8ce68-ec83-49e6-91cc-d78207546d67')\"\n",
              "              title=\"Convert this dataframe to an interactive table.\"\n",
              "              style=\"display:none;\">\n",
              "        \n",
              "  <svg xmlns=\"http://www.w3.org/2000/svg\" height=\"24px\"viewBox=\"0 0 24 24\"\n",
              "       width=\"24px\">\n",
              "    <path d=\"M0 0h24v24H0V0z\" fill=\"none\"/>\n",
              "    <path d=\"M18.56 5.44l.94 2.06.94-2.06 2.06-.94-2.06-.94-.94-2.06-.94 2.06-2.06.94zm-11 1L8.5 8.5l.94-2.06 2.06-.94-2.06-.94L8.5 2.5l-.94 2.06-2.06.94zm10 10l.94 2.06.94-2.06 2.06-.94-2.06-.94-.94-2.06-.94 2.06-2.06.94z\"/><path d=\"M17.41 7.96l-1.37-1.37c-.4-.4-.92-.59-1.43-.59-.52 0-1.04.2-1.43.59L10.3 9.45l-7.72 7.72c-.78.78-.78 2.05 0 2.83L4 21.41c.39.39.9.59 1.41.59.51 0 1.02-.2 1.41-.59l7.78-7.78 2.81-2.81c.8-.78.8-2.07 0-2.86zM5.41 20L4 18.59l7.72-7.72 1.47 1.35L5.41 20z\"/>\n",
              "  </svg>\n",
              "      </button>\n",
              "      \n",
              "  <style>\n",
              "    .colab-df-container {\n",
              "      display:flex;\n",
              "      flex-wrap:wrap;\n",
              "      gap: 12px;\n",
              "    }\n",
              "\n",
              "    .colab-df-convert {\n",
              "      background-color: #E8F0FE;\n",
              "      border: none;\n",
              "      border-radius: 50%;\n",
              "      cursor: pointer;\n",
              "      display: none;\n",
              "      fill: #1967D2;\n",
              "      height: 32px;\n",
              "      padding: 0 0 0 0;\n",
              "      width: 32px;\n",
              "    }\n",
              "\n",
              "    .colab-df-convert:hover {\n",
              "      background-color: #E2EBFA;\n",
              "      box-shadow: 0px 1px 2px rgba(60, 64, 67, 0.3), 0px 1px 3px 1px rgba(60, 64, 67, 0.15);\n",
              "      fill: #174EA6;\n",
              "    }\n",
              "\n",
              "    [theme=dark] .colab-df-convert {\n",
              "      background-color: #3B4455;\n",
              "      fill: #D2E3FC;\n",
              "    }\n",
              "\n",
              "    [theme=dark] .colab-df-convert:hover {\n",
              "      background-color: #434B5C;\n",
              "      box-shadow: 0px 1px 3px 1px rgba(0, 0, 0, 0.15);\n",
              "      filter: drop-shadow(0px 1px 2px rgba(0, 0, 0, 0.3));\n",
              "      fill: #FFFFFF;\n",
              "    }\n",
              "  </style>\n",
              "\n",
              "      <script>\n",
              "        const buttonEl =\n",
              "          document.querySelector('#df-dac8ce68-ec83-49e6-91cc-d78207546d67 button.colab-df-convert');\n",
              "        buttonEl.style.display =\n",
              "          google.colab.kernel.accessAllowed ? 'block' : 'none';\n",
              "\n",
              "        async function convertToInteractive(key) {\n",
              "          const element = document.querySelector('#df-dac8ce68-ec83-49e6-91cc-d78207546d67');\n",
              "          const dataTable =\n",
              "            await google.colab.kernel.invokeFunction('convertToInteractive',\n",
              "                                                     [key], {});\n",
              "          if (!dataTable) return;\n",
              "\n",
              "          const docLinkHtml = 'Like what you see? Visit the ' +\n",
              "            '<a target=\"_blank\" href=https://colab.research.google.com/notebooks/data_table.ipynb>data table notebook</a>'\n",
              "            + ' to learn more about interactive tables.';\n",
              "          element.innerHTML = '';\n",
              "          dataTable['output_type'] = 'display_data';\n",
              "          await google.colab.output.renderOutput(dataTable, element);\n",
              "          const docLink = document.createElement('div');\n",
              "          docLink.innerHTML = docLinkHtml;\n",
              "          element.appendChild(docLink);\n",
              "        }\n",
              "      </script>\n",
              "    </div>\n",
              "  </div>\n",
              "  "
            ]
          },
          "metadata": {},
          "execution_count": 132
        }
      ],
      "source": [
        "data_aneshos1woeq.tail(15)"
      ]
    },
    {
      "cell_type": "markdown",
      "metadata": {
        "id": "9adGWBCJarvT"
      },
      "source": [
        "it is not practical for the model to predict certain date and day , it more commonly practices that there is a time window for the decision to be taken ."
      ]
    },
    {
      "cell_type": "code",
      "execution_count": 133,
      "metadata": {
        "id": "y2jlYDjwP6_4"
      },
      "outputs": [],
      "source": [
        "data_aneshos1woeq.to_csv('device_fail.csv',sep=';')\n"
      ]
    },
    {
      "cell_type": "code",
      "execution_count": 133,
      "metadata": {
        "id": "wuh5WzHjQZhP"
      },
      "outputs": [],
      "source": []
    },
    {
      "cell_type": "markdown",
      "metadata": {
        "id": "iV_OfzBTpWhw"
      },
      "source": [
        " **Exploratory data analysis**"
      ]
    },
    {
      "cell_type": "markdown",
      "metadata": {
        "id": "1ePV4Hnbppex"
      },
      "source": [
        "Anathesia devices"
      ]
    },
    {
      "cell_type": "code",
      "execution_count": 134,
      "metadata": {
        "colab": {
          "base_uri": "https://localhost:8080/",
          "height": 143
        },
        "id": "ElePzGrrpflU",
        "outputId": "f6227787-fbad-4e48-e947-c9decd51ded2"
      },
      "outputs": [
        {
          "output_type": "execute_result",
          "data": {
            "text/plain": [
              "      Equip.reg_date                    dev  calc.Risk    ID_y     issued  \\\n",
              "68212     2000-01-01  Anestesiarbetsstation       31.0  340382 2002-04-16   \n",
              "68212     2000-01-01  Anestesiarbetsstation       31.0  340387 2004-01-12   \n",
              "68212     2000-01-01  Anestesiarbetsstation       31.0  357998 2010-08-17   \n",
              "\n",
              "       inventarieID  Count_wo  meantime   age  wotime_diff  \n",
              "68212       68212.0        12       298  6453          836  \n",
              "68212       68212.0        12       298  6453         1472  \n",
              "68212       68212.0        12       298  6453         3881  "
            ],
            "text/html": [
              "\n",
              "  <div id=\"df-9979fad7-f660-41c3-bef8-1667c04ab4fd\">\n",
              "    <div class=\"colab-df-container\">\n",
              "      <div>\n",
              "<style scoped>\n",
              "    .dataframe tbody tr th:only-of-type {\n",
              "        vertical-align: middle;\n",
              "    }\n",
              "\n",
              "    .dataframe tbody tr th {\n",
              "        vertical-align: top;\n",
              "    }\n",
              "\n",
              "    .dataframe thead th {\n",
              "        text-align: right;\n",
              "    }\n",
              "</style>\n",
              "<table border=\"1\" class=\"dataframe\">\n",
              "  <thead>\n",
              "    <tr style=\"text-align: right;\">\n",
              "      <th></th>\n",
              "      <th>Equip.reg_date</th>\n",
              "      <th>dev</th>\n",
              "      <th>calc.Risk</th>\n",
              "      <th>ID_y</th>\n",
              "      <th>issued</th>\n",
              "      <th>inventarieID</th>\n",
              "      <th>Count_wo</th>\n",
              "      <th>meantime</th>\n",
              "      <th>age</th>\n",
              "      <th>wotime_diff</th>\n",
              "    </tr>\n",
              "  </thead>\n",
              "  <tbody>\n",
              "    <tr>\n",
              "      <th>68212</th>\n",
              "      <td>2000-01-01</td>\n",
              "      <td>Anestesiarbetsstation</td>\n",
              "      <td>31.0</td>\n",
              "      <td>340382</td>\n",
              "      <td>2002-04-16</td>\n",
              "      <td>68212.0</td>\n",
              "      <td>12</td>\n",
              "      <td>298</td>\n",
              "      <td>6453</td>\n",
              "      <td>836</td>\n",
              "    </tr>\n",
              "    <tr>\n",
              "      <th>68212</th>\n",
              "      <td>2000-01-01</td>\n",
              "      <td>Anestesiarbetsstation</td>\n",
              "      <td>31.0</td>\n",
              "      <td>340387</td>\n",
              "      <td>2004-01-12</td>\n",
              "      <td>68212.0</td>\n",
              "      <td>12</td>\n",
              "      <td>298</td>\n",
              "      <td>6453</td>\n",
              "      <td>1472</td>\n",
              "    </tr>\n",
              "    <tr>\n",
              "      <th>68212</th>\n",
              "      <td>2000-01-01</td>\n",
              "      <td>Anestesiarbetsstation</td>\n",
              "      <td>31.0</td>\n",
              "      <td>357998</td>\n",
              "      <td>2010-08-17</td>\n",
              "      <td>68212.0</td>\n",
              "      <td>12</td>\n",
              "      <td>298</td>\n",
              "      <td>6453</td>\n",
              "      <td>3881</td>\n",
              "    </tr>\n",
              "  </tbody>\n",
              "</table>\n",
              "</div>\n",
              "      <button class=\"colab-df-convert\" onclick=\"convertToInteractive('df-9979fad7-f660-41c3-bef8-1667c04ab4fd')\"\n",
              "              title=\"Convert this dataframe to an interactive table.\"\n",
              "              style=\"display:none;\">\n",
              "        \n",
              "  <svg xmlns=\"http://www.w3.org/2000/svg\" height=\"24px\"viewBox=\"0 0 24 24\"\n",
              "       width=\"24px\">\n",
              "    <path d=\"M0 0h24v24H0V0z\" fill=\"none\"/>\n",
              "    <path d=\"M18.56 5.44l.94 2.06.94-2.06 2.06-.94-2.06-.94-.94-2.06-.94 2.06-2.06.94zm-11 1L8.5 8.5l.94-2.06 2.06-.94-2.06-.94L8.5 2.5l-.94 2.06-2.06.94zm10 10l.94 2.06.94-2.06 2.06-.94-2.06-.94-.94-2.06-.94 2.06-2.06.94z\"/><path d=\"M17.41 7.96l-1.37-1.37c-.4-.4-.92-.59-1.43-.59-.52 0-1.04.2-1.43.59L10.3 9.45l-7.72 7.72c-.78.78-.78 2.05 0 2.83L4 21.41c.39.39.9.59 1.41.59.51 0 1.02-.2 1.41-.59l7.78-7.78 2.81-2.81c.8-.78.8-2.07 0-2.86zM5.41 20L4 18.59l7.72-7.72 1.47 1.35L5.41 20z\"/>\n",
              "  </svg>\n",
              "      </button>\n",
              "      \n",
              "  <style>\n",
              "    .colab-df-container {\n",
              "      display:flex;\n",
              "      flex-wrap:wrap;\n",
              "      gap: 12px;\n",
              "    }\n",
              "\n",
              "    .colab-df-convert {\n",
              "      background-color: #E8F0FE;\n",
              "      border: none;\n",
              "      border-radius: 50%;\n",
              "      cursor: pointer;\n",
              "      display: none;\n",
              "      fill: #1967D2;\n",
              "      height: 32px;\n",
              "      padding: 0 0 0 0;\n",
              "      width: 32px;\n",
              "    }\n",
              "\n",
              "    .colab-df-convert:hover {\n",
              "      background-color: #E2EBFA;\n",
              "      box-shadow: 0px 1px 2px rgba(60, 64, 67, 0.3), 0px 1px 3px 1px rgba(60, 64, 67, 0.15);\n",
              "      fill: #174EA6;\n",
              "    }\n",
              "\n",
              "    [theme=dark] .colab-df-convert {\n",
              "      background-color: #3B4455;\n",
              "      fill: #D2E3FC;\n",
              "    }\n",
              "\n",
              "    [theme=dark] .colab-df-convert:hover {\n",
              "      background-color: #434B5C;\n",
              "      box-shadow: 0px 1px 3px 1px rgba(0, 0, 0, 0.15);\n",
              "      filter: drop-shadow(0px 1px 2px rgba(0, 0, 0, 0.3));\n",
              "      fill: #FFFFFF;\n",
              "    }\n",
              "  </style>\n",
              "\n",
              "      <script>\n",
              "        const buttonEl =\n",
              "          document.querySelector('#df-9979fad7-f660-41c3-bef8-1667c04ab4fd button.colab-df-convert');\n",
              "        buttonEl.style.display =\n",
              "          google.colab.kernel.accessAllowed ? 'block' : 'none';\n",
              "\n",
              "        async function convertToInteractive(key) {\n",
              "          const element = document.querySelector('#df-9979fad7-f660-41c3-bef8-1667c04ab4fd');\n",
              "          const dataTable =\n",
              "            await google.colab.kernel.invokeFunction('convertToInteractive',\n",
              "                                                     [key], {});\n",
              "          if (!dataTable) return;\n",
              "\n",
              "          const docLinkHtml = 'Like what you see? Visit the ' +\n",
              "            '<a target=\"_blank\" href=https://colab.research.google.com/notebooks/data_table.ipynb>data table notebook</a>'\n",
              "            + ' to learn more about interactive tables.';\n",
              "          element.innerHTML = '';\n",
              "          dataTable['output_type'] = 'display_data';\n",
              "          await google.colab.output.renderOutput(dataTable, element);\n",
              "          const docLink = document.createElement('div');\n",
              "          docLink.innerHTML = docLinkHtml;\n",
              "          element.appendChild(docLink);\n",
              "        }\n",
              "      </script>\n",
              "    </div>\n",
              "  </div>\n",
              "  "
            ]
          },
          "metadata": {},
          "execution_count": 134
        }
      ],
      "source": [
        "data_aneshos1woeq.head(3)"
      ]
    },
    {
      "cell_type": "code",
      "execution_count": 135,
      "metadata": {
        "colab": {
          "base_uri": "https://localhost:8080/",
          "height": 340
        },
        "id": "xKhojRnkMghr",
        "outputId": "9c243465-5814-4ef1-ab73-d37a46a3eed7"
      },
      "outputs": [
        {
          "output_type": "stream",
          "name": "stderr",
          "text": [
            "WARNING:matplotlib.axes._axes:*c* argument looks like a single numeric RGB or RGBA sequence, which should be avoided as value-mapping will have precedence in case its length matches with *x* & *y*.  Please use the *color* keyword-argument or provide a 2D array with a single row if you intend to specify the same RGB or RGBA value for all points.\n"
          ]
        },
        {
          "output_type": "execute_result",
          "data": {
            "text/plain": [
              "<AxesSubplot:xlabel='Count_wo', ylabel='wotime_diff'>"
            ]
          },
          "metadata": {},
          "execution_count": 135
        },
        {
          "output_type": "display_data",
          "data": {
            "text/plain": [
              "<Figure size 432x288 with 1 Axes>"
            ],
            "image/png": "[encoded data removed]"
          },
          "metadata": {}
        }
      ],
      "source": [
        "#plotting age\n",
        "data_aneshos1woeq.plot(x='Count_wo',y='wotime_diff',kind='scatter')"
      ]
    },
    {
      "cell_type": "code",
      "execution_count": 136,
      "metadata": {
        "colab": {
          "base_uri": "https://localhost:8080/",
          "height": 1000
        },
        "id": "myULHFA6W9Qr",
        "outputId": "6208be8b-79c9-4835-cab5-4aeb7d908627"
      },
      "outputs": [
        {
          "output_type": "execute_result",
          "data": {
            "text/plain": [
              "<seaborn.axisgrid.PairGrid at 0x7f0d7237e2e0>"
            ]
          },
          "metadata": {},
          "execution_count": 136
        },
        {
          "output_type": "display_data",
          "data": {
            "text/plain": [
              "<Figure size 1260x1260 with 56 Axes>"
            ],
            "image/png": "[encoded data removed]"
          },
          "metadata": {}
        }
      ],
      "source": [
        "sns.pairplot(data_aneshos1woeq.corr())"
      ]
    },
    {
      "cell_type": "code",
      "execution_count": 137,
      "metadata": {
        "id": "kLUeiIRrVy43"
      },
      "outputs": [],
      "source": [
        "Y_reghos1=data_aneshos1woeq['wotime_diff']\n",
        "X_reghos1=data_aneshos1woeq.drop(['dev','ID_y','issued','Equip.reg_date','wotime_diff','inventarieID'],axis=1)\n"
      ]
    },
    {
      "cell_type": "markdown",
      "metadata": {
        "id": "E12Izcl7uYr3"
      },
      "source": []
    },
    {
      "cell_type": "code",
      "execution_count": 138,
      "metadata": {
        "colab": {
          "base_uri": "https://localhost:8080/"
        },
        "id": "fCEcY4bfEW11",
        "outputId": "9dea1ee2-b64f-4eb9-c75a-0b6543076b62"
      },
      "outputs": [
        {
          "output_type": "execute_result",
          "data": {
            "text/plain": [
              "68212     836\n",
              "68212    1472\n",
              "68212    3881\n",
              "Name: wotime_diff, dtype: int64"
            ]
          },
          "metadata": {},
          "execution_count": 138
        }
      ],
      "source": [
        "Y_reghos1.head(3)"
      ]
    },
    {
      "cell_type": "code",
      "execution_count": 139,
      "metadata": {
        "id": "r0XjsGhuEwS4"
      },
      "outputs": [],
      "source": [
        "X_train_aneshos1, X_test_aneshos1, y_train_aneshos1, y_test_aneshos1 = train_test_split(\n",
        "    X_reghos1, Y_reghos1, test_size=0.3, random_state=101)"
      ]
    },
    {
      "cell_type": "code",
      "execution_count": 140,
      "metadata": {
        "colab": {
          "base_uri": "https://localhost:8080/"
        },
        "id": "Y1yol12AFYDn",
        "outputId": "60d9e15e-6a7c-4b2f-c76b-fdb5e8fcda18"
      },
      "outputs": [
        {
          "output_type": "execute_result",
          "data": {
            "text/plain": [
              "224950    6128\n",
              "81838      771\n",
              "93489     4062\n",
              "Name: wotime_diff, dtype: int64"
            ]
          },
          "metadata": {},
          "execution_count": 140
        }
      ],
      "source": [
        "y_test_aneshos1.head(3)"
      ]
    },
    {
      "cell_type": "code",
      "execution_count": 141,
      "metadata": {
        "id": "nKdbpKNhF2T7"
      },
      "outputs": [],
      "source": [
        "# creating a regression model\n",
        "model_anes = LinearRegression()\n"
      ]
    },
    {
      "cell_type": "code",
      "execution_count": 142,
      "metadata": {
        "colab": {
          "base_uri": "https://localhost:8080/",
          "height": 74
        },
        "id": "MrzJbNmRGA4r",
        "outputId": "58a92a34-c62d-4fbb-ea31-1bee9db1ae1f"
      },
      "outputs": [
        {
          "output_type": "execute_result",
          "data": {
            "text/plain": [
              "LinearRegression()"
            ],
            "text/html": [
              "<style>#sk-container-id-1 {color: black;background-color: white;}#sk-container-id-1 pre{padding: 0;}#sk-container-id-1 div.sk-toggleable {background-color: white;}#sk-container-id-1 label.sk-toggleable__label {cursor: pointer;display: block;width: 100%;margin-bottom: 0;padding: 0.3em;box-sizing: border-box;text-align: center;}#sk-container-id-1 label.sk-toggleable__label-arrow:before {content: \"▸\";float: left;margin-right: 0.25em;color: #696969;}#sk-container-id-1 label.sk-toggleable__label-arrow:hover:before {color: black;}#sk-container-id-1 div.sk-estimator:hover label.sk-toggleable__label-arrow:before {color: black;}#sk-container-id-1 div.sk-toggleable__content {max-height: 0;max-width: 0;overflow: hidden;text-align: left;background-color: #f0f8ff;}#sk-container-id-1 div.sk-toggleable__content pre {margin: 0.2em;color: black;border-radius: 0.25em;background-color: #f0f8ff;}#sk-container-id-1 input.sk-toggleable__control:checked~div.sk-toggleable__content {max-height: 200px;max-width: 100%;overflow: auto;}#sk-container-id-1 input.sk-toggleable__control:checked~label.sk-toggleable__label-arrow:before {content: \"▾\";}#sk-container-id-1 div.sk-estimator input.sk-toggleable__control:checked~label.sk-toggleable__label {background-color: #d4ebff;}#sk-container-id-1 div.sk-label input.sk-toggleable__control:checked~label.sk-toggleable__label {background-color: #d4ebff;}#sk-container-id-1 input.sk-hidden--visually {border: 0;clip: rect(1px 1px 1px 1px);clip: rect(1px, 1px, 1px, 1px);height: 1px;margin: -1px;overflow: hidden;padding: 0;position: absolute;width: 1px;}#sk-container-id-1 div.sk-estimator {font-family: monospace;background-color: #f0f8ff;border: 1px dotted black;border-radius: 0.25em;box-sizing: border-box;margin-bottom: 0.5em;}#sk-container-id-1 div.sk-estimator:hover {background-color: #d4ebff;}#sk-container-id-1 div.sk-parallel-item::after {content: \"\";width: 100%;border-bottom: 1px solid gray;flex-grow: 1;}#sk-container-id-1 div.sk-label:hover label.sk-toggleable__label {background-color: #d4ebff;}#sk-container-id-1 div.sk-serial::before {content: \"\";position: absolute;border-left: 1px solid gray;box-sizing: border-box;top: 0;bottom: 0;left: 50%;z-index: 0;}#sk-container-id-1 div.sk-serial {display: flex;flex-direction: column;align-items: center;background-color: white;padding-right: 0.2em;padding-left: 0.2em;position: relative;}#sk-container-id-1 div.sk-item {position: relative;z-index: 1;}#sk-container-id-1 div.sk-parallel {display: flex;align-items: stretch;justify-content: center;background-color: white;position: relative;}#sk-container-id-1 div.sk-item::before, #sk-container-id-1 div.sk-parallel-item::before {content: \"\";position: absolute;border-left: 1px solid gray;box-sizing: border-box;top: 0;bottom: 0;left: 50%;z-index: -1;}#sk-container-id-1 div.sk-parallel-item {display: flex;flex-direction: column;z-index: 1;position: relative;background-color: white;}#sk-container-id-1 div.sk-parallel-item:first-child::after {align-self: flex-end;width: 50%;}#sk-container-id-1 div.sk-parallel-item:last-child::after {align-self: flex-start;width: 50%;}#sk-container-id-1 div.sk-parallel-item:only-child::after {width: 0;}#sk-container-id-1 div.sk-dashed-wrapped {border: 1px dashed gray;margin: 0 0.4em 0.5em 0.4em;box-sizing: border-box;padding-bottom: 0.4em;background-color: white;}#sk-container-id-1 div.sk-label label {font-family: monospace;font-weight: bold;display: inline-block;line-height: 1.2em;}#sk-container-id-1 div.sk-label-container {text-align: center;}#sk-container-id-1 div.sk-container {/* jupyter's `normalize.less` sets `[hidden] { display: none; }` but bootstrap.min.css set `[hidden] { display: none !important; }` so we also need the `!important` here to be able to override the default hidden behavior on the sphinx rendered scikit-learn.org. See: https://github.com/scikit-learn/scikit-learn/issues/21755 */display: inline-block !important;position: relative;}#sk-container-id-1 div.sk-text-repr-fallback {display: none;}</style><div id=\"sk-container-id-1\" class=\"sk-top-container\"><div class=\"sk-text-repr-fallback\"><pre>LinearRegression()</pre><b>In a Jupyter environment, please rerun this cell to show the HTML representation or trust the notebook. <br />On GitHub, the HTML representation is unable to render, please try loading this page with nbviewer.org.</b></div><div class=\"sk-container\" hidden><div class=\"sk-item\"><div class=\"sk-estimator sk-toggleable\"><input class=\"sk-toggleable__control sk-hidden--visually\" id=\"sk-estimator-id-1\" type=\"checkbox\" checked><label for=\"sk-estimator-id-1\" class=\"sk-toggleable__label sk-toggleable__label-arrow\">LinearRegression</label><div class=\"sk-toggleable__content\"><pre>LinearRegression()</pre></div></div></div></div></div>"
            ]
          },
          "metadata": {},
          "execution_count": 142
        }
      ],
      "source": [
        "model_anes.fit(X_train_aneshos1,y_train_aneshos1)"
      ]
    },
    {
      "cell_type": "code",
      "execution_count": 143,
      "metadata": {
        "id": "154E-fqhGVZ7"
      },
      "outputs": [],
      "source": [
        "predictions_anes= model_anes.predict(X_test_aneshos1)\n"
      ]
    },
    {
      "cell_type": "code",
      "execution_count": 144,
      "metadata": {
        "colab": {
          "base_uri": "https://localhost:8080/"
        },
        "id": "0Dqgpmd3HDmb",
        "outputId": "2e5ae69e-5413-4695-c996-2c58618eca18"
      },
      "outputs": [
        {
          "output_type": "execute_result",
          "data": {
            "text/plain": [
              "array([4703.24686136, 1472.45080206, 1304.04745048, ..., 3560.04275472,\n",
              "       8146.62160612,   31.39283313])"
            ]
          },
          "metadata": {},
          "execution_count": 144
        }
      ],
      "source": [
        " predictions_anes"
      ]
    },
    {
      "cell_type": "code",
      "execution_count": 145,
      "metadata": {
        "colab": {
          "base_uri": "https://localhost:8080/"
        },
        "id": "I1GzWnluFGp4",
        "outputId": "d5d6bcd2-997b-4f72-caf6-460e6b0871d2"
      },
      "outputs": [
        {
          "output_type": "execute_result",
          "data": {
            "text/plain": [
              "(2075,)"
            ]
          },
          "metadata": {},
          "execution_count": 145
        }
      ],
      "source": [
        "predictions_anes.shape"
      ]
    },
    {
      "cell_type": "code",
      "execution_count": 146,
      "metadata": {
        "id": "YaKyQ9rItbj8"
      },
      "outputs": [],
      "source": [
        "predictions_anes_df=pd.DataFrame(predictions_anes)"
      ]
    },
    {
      "cell_type": "code",
      "execution_count": 147,
      "metadata": {
        "id": "GRvL2GqPfmXQ"
      },
      "outputs": [],
      "source": [
        "age_col=pd.DataFrame(X_reghos1['age'])\n",
        "age_col=age_col.reset_index()"
      ]
    },
    {
      "cell_type": "code",
      "execution_count": 148,
      "metadata": {
        "colab": {
          "base_uri": "https://localhost:8080/",
          "height": 143
        },
        "id": "iWrFVQgigCuW",
        "outputId": "58b6615d-48fc-4ad3-d262-b9fb9169c37d"
      },
      "outputs": [
        {
          "output_type": "execute_result",
          "data": {
            "text/plain": [
              "   index   age\n",
              "0  68212  6453\n",
              "1  68212  6453\n",
              "2  68212  6453"
            ],
            "text/html": [
              "\n",
              "  <div id=\"df-46274181-20e6-4590-b6e1-fadbb554dab8\">\n",
              "    <div class=\"colab-df-container\">\n",
              "      <div>\n",
              "<style scoped>\n",
              "    .dataframe tbody tr th:only-of-type {\n",
              "        vertical-align: middle;\n",
              "    }\n",
              "\n",
              "    .dataframe tbody tr th {\n",
              "        vertical-align: top;\n",
              "    }\n",
              "\n",
              "    .dataframe thead th {\n",
              "        text-align: right;\n",
              "    }\n",
              "</style>\n",
              "<table border=\"1\" class=\"dataframe\">\n",
              "  <thead>\n",
              "    <tr style=\"text-align: right;\">\n",
              "      <th></th>\n",
              "      <th>index</th>\n",
              "      <th>age</th>\n",
              "    </tr>\n",
              "  </thead>\n",
              "  <tbody>\n",
              "    <tr>\n",
              "      <th>0</th>\n",
              "      <td>68212</td>\n",
              "      <td>6453</td>\n",
              "    </tr>\n",
              "    <tr>\n",
              "      <th>1</th>\n",
              "      <td>68212</td>\n",
              "      <td>6453</td>\n",
              "    </tr>\n",
              "    <tr>\n",
              "      <th>2</th>\n",
              "      <td>68212</td>\n",
              "      <td>6453</td>\n",
              "    </tr>\n",
              "  </tbody>\n",
              "</table>\n",
              "</div>\n",
              "      <button class=\"colab-df-convert\" onclick=\"convertToInteractive('df-46274181-20e6-4590-b6e1-fadbb554dab8')\"\n",
              "              title=\"Convert this dataframe to an interactive table.\"\n",
              "              style=\"display:none;\">\n",
              "        \n",
              "  <svg xmlns=\"http://www.w3.org/2000/svg\" height=\"24px\"viewBox=\"0 0 24 24\"\n",
              "       width=\"24px\">\n",
              "    <path d=\"M0 0h24v24H0V0z\" fill=\"none\"/>\n",
              "    <path d=\"M18.56 5.44l.94 2.06.94-2.06 2.06-.94-2.06-.94-.94-2.06-.94 2.06-2.06.94zm-11 1L8.5 8.5l.94-2.06 2.06-.94-2.06-.94L8.5 2.5l-.94 2.06-2.06.94zm10 10l.94 2.06.94-2.06 2.06-.94-2.06-.94-.94-2.06-.94 2.06-2.06.94z\"/><path d=\"M17.41 7.96l-1.37-1.37c-.4-.4-.92-.59-1.43-.59-.52 0-1.04.2-1.43.59L10.3 9.45l-7.72 7.72c-.78.78-.78 2.05 0 2.83L4 21.41c.39.39.9.59 1.41.59.51 0 1.02-.2 1.41-.59l7.78-7.78 2.81-2.81c.8-.78.8-2.07 0-2.86zM5.41 20L4 18.59l7.72-7.72 1.47 1.35L5.41 20z\"/>\n",
              "  </svg>\n",
              "      </button>\n",
              "      \n",
              "  <style>\n",
              "    .colab-df-container {\n",
              "      display:flex;\n",
              "      flex-wrap:wrap;\n",
              "      gap: 12px;\n",
              "    }\n",
              "\n",
              "    .colab-df-convert {\n",
              "      background-color: #E8F0FE;\n",
              "      border: none;\n",
              "      border-radius: 50%;\n",
              "      cursor: pointer;\n",
              "      display: none;\n",
              "      fill: #1967D2;\n",
              "      height: 32px;\n",
              "      padding: 0 0 0 0;\n",
              "      width: 32px;\n",
              "    }\n",
              "\n",
              "    .colab-df-convert:hover {\n",
              "      background-color: #E2EBFA;\n",
              "      box-shadow: 0px 1px 2px rgba(60, 64, 67, 0.3), 0px 1px 3px 1px rgba(60, 64, 67, 0.15);\n",
              "      fill: #174EA6;\n",
              "    }\n",
              "\n",
              "    [theme=dark] .colab-df-convert {\n",
              "      background-color: #3B4455;\n",
              "      fill: #D2E3FC;\n",
              "    }\n",
              "\n",
              "    [theme=dark] .colab-df-convert:hover {\n",
              "      background-color: #434B5C;\n",
              "      box-shadow: 0px 1px 3px 1px rgba(0, 0, 0, 0.15);\n",
              "      filter: drop-shadow(0px 1px 2px rgba(0, 0, 0, 0.3));\n",
              "      fill: #FFFFFF;\n",
              "    }\n",
              "  </style>\n",
              "\n",
              "      <script>\n",
              "        const buttonEl =\n",
              "          document.querySelector('#df-46274181-20e6-4590-b6e1-fadbb554dab8 button.colab-df-convert');\n",
              "        buttonEl.style.display =\n",
              "          google.colab.kernel.accessAllowed ? 'block' : 'none';\n",
              "\n",
              "        async function convertToInteractive(key) {\n",
              "          const element = document.querySelector('#df-46274181-20e6-4590-b6e1-fadbb554dab8');\n",
              "          const dataTable =\n",
              "            await google.colab.kernel.invokeFunction('convertToInteractive',\n",
              "                                                     [key], {});\n",
              "          if (!dataTable) return;\n",
              "\n",
              "          const docLinkHtml = 'Like what you see? Visit the ' +\n",
              "            '<a target=\"_blank\" href=https://colab.research.google.com/notebooks/data_table.ipynb>data table notebook</a>'\n",
              "            + ' to learn more about interactive tables.';\n",
              "          element.innerHTML = '';\n",
              "          dataTable['output_type'] = 'display_data';\n",
              "          await google.colab.output.renderOutput(dataTable, element);\n",
              "          const docLink = document.createElement('div');\n",
              "          docLink.innerHTML = docLinkHtml;\n",
              "          element.appendChild(docLink);\n",
              "        }\n",
              "      </script>\n",
              "    </div>\n",
              "  </div>\n",
              "  "
            ]
          },
          "metadata": {},
          "execution_count": 148
        }
      ],
      "source": [
        "age_col.head(3)"
      ]
    },
    {
      "cell_type": "code",
      "execution_count": 149,
      "metadata": {
        "id": "MioG-eywgQl_"
      },
      "outputs": [],
      "source": [
        "pred_fin=pd.concat([predictions_anes_df,age_col],axis=1)"
      ]
    },
    {
      "cell_type": "code",
      "execution_count": 150,
      "metadata": {
        "colab": {
          "base_uri": "https://localhost:8080/",
          "height": 423
        },
        "id": "AtVsCcuDjEWw",
        "outputId": "4df506fb-60cc-4304-d06e-ff52fa1f77f6"
      },
      "outputs": [
        {
          "output_type": "execute_result",
          "data": {
            "text/plain": [
              "                0    age\n",
              "0     4703.246861   6453\n",
              "1     1472.450802   6453\n",
              "2     1304.047450   6453\n",
              "3     1005.412485   6453\n",
              "4     1250.977232   6453\n",
              "...           ...    ...\n",
              "6910          NaN  15389\n",
              "6911          NaN  15389\n",
              "6912          NaN  15389\n",
              "6913          NaN  14538\n",
              "6914          NaN  14538\n",
              "\n",
              "[6915 rows x 2 columns]"
            ],
            "text/html": [
              "\n",
              "  <div id=\"df-0da4053d-58f0-4dd5-b174-f9f28e581bd0\">\n",
              "    <div class=\"colab-df-container\">\n",
              "      <div>\n",
              "<style scoped>\n",
              "    .dataframe tbody tr th:only-of-type {\n",
              "        vertical-align: middle;\n",
              "    }\n",
              "\n",
              "    .dataframe tbody tr th {\n",
              "        vertical-align: top;\n",
              "    }\n",
              "\n",
              "    .dataframe thead th {\n",
              "        text-align: right;\n",
              "    }\n",
              "</style>\n",
              "<table border=\"1\" class=\"dataframe\">\n",
              "  <thead>\n",
              "    <tr style=\"text-align: right;\">\n",
              "      <th></th>\n",
              "      <th>0</th>\n",
              "      <th>age</th>\n",
              "    </tr>\n",
              "  </thead>\n",
              "  <tbody>\n",
              "    <tr>\n",
              "      <th>0</th>\n",
              "      <td>4703.246861</td>\n",
              "      <td>6453</td>\n",
              "    </tr>\n",
              "    <tr>\n",
              "      <th>1</th>\n",
              "      <td>1472.450802</td>\n",
              "      <td>6453</td>\n",
              "    </tr>\n",
              "    <tr>\n",
              "      <th>2</th>\n",
              "      <td>1304.047450</td>\n",
              "      <td>6453</td>\n",
              "    </tr>\n",
              "    <tr>\n",
              "      <th>3</th>\n",
              "      <td>1005.412485</td>\n",
              "      <td>6453</td>\n",
              "    </tr>\n",
              "    <tr>\n",
              "      <th>4</th>\n",
              "      <td>1250.977232</td>\n",
              "      <td>6453</td>\n",
              "    </tr>\n",
              "    <tr>\n",
              "      <th>...</th>\n",
              "      <td>...</td>\n",
              "      <td>...</td>\n",
              "    </tr>\n",
              "    <tr>\n",
              "      <th>6910</th>\n",
              "      <td>NaN</td>\n",
              "      <td>15389</td>\n",
              "    </tr>\n",
              "    <tr>\n",
              "      <th>6911</th>\n",
              "      <td>NaN</td>\n",
              "      <td>15389</td>\n",
              "    </tr>\n",
              "    <tr>\n",
              "      <th>6912</th>\n",
              "      <td>NaN</td>\n",
              "      <td>15389</td>\n",
              "    </tr>\n",
              "    <tr>\n",
              "      <th>6913</th>\n",
              "      <td>NaN</td>\n",
              "      <td>14538</td>\n",
              "    </tr>\n",
              "    <tr>\n",
              "      <th>6914</th>\n",
              "      <td>NaN</td>\n",
              "      <td>14538</td>\n",
              "    </tr>\n",
              "  </tbody>\n",
              "</table>\n",
              "<p>6915 rows × 2 columns</p>\n",
              "</div>\n",
              "      <button class=\"colab-df-convert\" onclick=\"convertToInteractive('df-0da4053d-58f0-4dd5-b174-f9f28e581bd0')\"\n",
              "              title=\"Convert this dataframe to an interactive table.\"\n",
              "              style=\"display:none;\">\n",
              "        \n",
              "  <svg xmlns=\"http://www.w3.org/2000/svg\" height=\"24px\"viewBox=\"0 0 24 24\"\n",
              "       width=\"24px\">\n",
              "    <path d=\"M0 0h24v24H0V0z\" fill=\"none\"/>\n",
              "    <path d=\"M18.56 5.44l.94 2.06.94-2.06 2.06-.94-2.06-.94-.94-2.06-.94 2.06-2.06.94zm-11 1L8.5 8.5l.94-2.06 2.06-.94-2.06-.94L8.5 2.5l-.94 2.06-2.06.94zm10 10l.94 2.06.94-2.06 2.06-.94-2.06-.94-.94-2.06-.94 2.06-2.06.94z\"/><path d=\"M17.41 7.96l-1.37-1.37c-.4-.4-.92-.59-1.43-.59-.52 0-1.04.2-1.43.59L10.3 9.45l-7.72 7.72c-.78.78-.78 2.05 0 2.83L4 21.41c.39.39.9.59 1.41.59.51 0 1.02-.2 1.41-.59l7.78-7.78 2.81-2.81c.8-.78.8-2.07 0-2.86zM5.41 20L4 18.59l7.72-7.72 1.47 1.35L5.41 20z\"/>\n",
              "  </svg>\n",
              "      </button>\n",
              "      \n",
              "  <style>\n",
              "    .colab-df-container {\n",
              "      display:flex;\n",
              "      flex-wrap:wrap;\n",
              "      gap: 12px;\n",
              "    }\n",
              "\n",
              "    .colab-df-convert {\n",
              "      background-color: #E8F0FE;\n",
              "      border: none;\n",
              "      border-radius: 50%;\n",
              "      cursor: pointer;\n",
              "      display: none;\n",
              "      fill: #1967D2;\n",
              "      height: 32px;\n",
              "      padding: 0 0 0 0;\n",
              "      width: 32px;\n",
              "    }\n",
              "\n",
              "    .colab-df-convert:hover {\n",
              "      background-color: #E2EBFA;\n",
              "      box-shadow: 0px 1px 2px rgba(60, 64, 67, 0.3), 0px 1px 3px 1px rgba(60, 64, 67, 0.15);\n",
              "      fill: #174EA6;\n",
              "    }\n",
              "\n",
              "    [theme=dark] .colab-df-convert {\n",
              "      background-color: #3B4455;\n",
              "      fill: #D2E3FC;\n",
              "    }\n",
              "\n",
              "    [theme=dark] .colab-df-convert:hover {\n",
              "      background-color: #434B5C;\n",
              "      box-shadow: 0px 1px 3px 1px rgba(0, 0, 0, 0.15);\n",
              "      filter: drop-shadow(0px 1px 2px rgba(0, 0, 0, 0.3));\n",
              "      fill: #FFFFFF;\n",
              "    }\n",
              "  </style>\n",
              "\n",
              "      <script>\n",
              "        const buttonEl =\n",
              "          document.querySelector('#df-0da4053d-58f0-4dd5-b174-f9f28e581bd0 button.colab-df-convert');\n",
              "        buttonEl.style.display =\n",
              "          google.colab.kernel.accessAllowed ? 'block' : 'none';\n",
              "\n",
              "        async function convertToInteractive(key) {\n",
              "          const element = document.querySelector('#df-0da4053d-58f0-4dd5-b174-f9f28e581bd0');\n",
              "          const dataTable =\n",
              "            await google.colab.kernel.invokeFunction('convertToInteractive',\n",
              "                                                     [key], {});\n",
              "          if (!dataTable) return;\n",
              "\n",
              "          const docLinkHtml = 'Like what you see? Visit the ' +\n",
              "            '<a target=\"_blank\" href=https://colab.research.google.com/notebooks/data_table.ipynb>data table notebook</a>'\n",
              "            + ' to learn more about interactive tables.';\n",
              "          element.innerHTML = '';\n",
              "          dataTable['output_type'] = 'display_data';\n",
              "          await google.colab.output.renderOutput(dataTable, element);\n",
              "          const docLink = document.createElement('div');\n",
              "          docLink.innerHTML = docLinkHtml;\n",
              "          element.appendChild(docLink);\n",
              "        }\n",
              "      </script>\n",
              "    </div>\n",
              "  </div>\n",
              "  "
            ]
          },
          "metadata": {},
          "execution_count": 150
        }
      ],
      "source": [
        "pred_fin.drop(columns=['index'],axis=1)"
      ]
    },
    {
      "cell_type": "code",
      "execution_count": 151,
      "metadata": {
        "id": "9ZvQdkiMjkFl"
      },
      "outputs": [],
      "source": [
        "pred_fin.columns = ['index','wo_timeprednonorm','age']\n"
      ]
    },
    {
      "cell_type": "code",
      "execution_count": 152,
      "metadata": {
        "colab": {
          "base_uri": "https://localhost:8080/",
          "height": 143
        },
        "id": "AxdppLDmkOXZ",
        "outputId": "7e8e5033-4b17-40fb-c01a-535630681fb0"
      },
      "outputs": [
        {
          "output_type": "execute_result",
          "data": {
            "text/plain": [
              "         index  wo_timeprednonorm   age\n",
              "0  4703.246861              68212  6453\n",
              "1  1472.450802              68212  6453\n",
              "2  1304.047450              68212  6453"
            ],
            "text/html": [
              "\n",
              "  <div id=\"df-3a8681a3-8598-493a-924d-ab42f7b11c58\">\n",
              "    <div class=\"colab-df-container\">\n",
              "      <div>\n",
              "<style scoped>\n",
              "    .dataframe tbody tr th:only-of-type {\n",
              "        vertical-align: middle;\n",
              "    }\n",
              "\n",
              "    .dataframe tbody tr th {\n",
              "        vertical-align: top;\n",
              "    }\n",
              "\n",
              "    .dataframe thead th {\n",
              "        text-align: right;\n",
              "    }\n",
              "</style>\n",
              "<table border=\"1\" class=\"dataframe\">\n",
              "  <thead>\n",
              "    <tr style=\"text-align: right;\">\n",
              "      <th></th>\n",
              "      <th>index</th>\n",
              "      <th>wo_timeprednonorm</th>\n",
              "      <th>age</th>\n",
              "    </tr>\n",
              "  </thead>\n",
              "  <tbody>\n",
              "    <tr>\n",
              "      <th>0</th>\n",
              "      <td>4703.246861</td>\n",
              "      <td>68212</td>\n",
              "      <td>6453</td>\n",
              "    </tr>\n",
              "    <tr>\n",
              "      <th>1</th>\n",
              "      <td>1472.450802</td>\n",
              "      <td>68212</td>\n",
              "      <td>6453</td>\n",
              "    </tr>\n",
              "    <tr>\n",
              "      <th>2</th>\n",
              "      <td>1304.047450</td>\n",
              "      <td>68212</td>\n",
              "      <td>6453</td>\n",
              "    </tr>\n",
              "  </tbody>\n",
              "</table>\n",
              "</div>\n",
              "      <button class=\"colab-df-convert\" onclick=\"convertToInteractive('df-3a8681a3-8598-493a-924d-ab42f7b11c58')\"\n",
              "              title=\"Convert this dataframe to an interactive table.\"\n",
              "              style=\"display:none;\">\n",
              "        \n",
              "  <svg xmlns=\"http://www.w3.org/2000/svg\" height=\"24px\"viewBox=\"0 0 24 24\"\n",
              "       width=\"24px\">\n",
              "    <path d=\"M0 0h24v24H0V0z\" fill=\"none\"/>\n",
              "    <path d=\"M18.56 5.44l.94 2.06.94-2.06 2.06-.94-2.06-.94-.94-2.06-.94 2.06-2.06.94zm-11 1L8.5 8.5l.94-2.06 2.06-.94-2.06-.94L8.5 2.5l-.94 2.06-2.06.94zm10 10l.94 2.06.94-2.06 2.06-.94-2.06-.94-.94-2.06-.94 2.06-2.06.94z\"/><path d=\"M17.41 7.96l-1.37-1.37c-.4-.4-.92-.59-1.43-.59-.52 0-1.04.2-1.43.59L10.3 9.45l-7.72 7.72c-.78.78-.78 2.05 0 2.83L4 21.41c.39.39.9.59 1.41.59.51 0 1.02-.2 1.41-.59l7.78-7.78 2.81-2.81c.8-.78.8-2.07 0-2.86zM5.41 20L4 18.59l7.72-7.72 1.47 1.35L5.41 20z\"/>\n",
              "  </svg>\n",
              "      </button>\n",
              "      \n",
              "  <style>\n",
              "    .colab-df-container {\n",
              "      display:flex;\n",
              "      flex-wrap:wrap;\n",
              "      gap: 12px;\n",
              "    }\n",
              "\n",
              "    .colab-df-convert {\n",
              "      background-color: #E8F0FE;\n",
              "      border: none;\n",
              "      border-radius: 50%;\n",
              "      cursor: pointer;\n",
              "      display: none;\n",
              "      fill: #1967D2;\n",
              "      height: 32px;\n",
              "      padding: 0 0 0 0;\n",
              "      width: 32px;\n",
              "    }\n",
              "\n",
              "    .colab-df-convert:hover {\n",
              "      background-color: #E2EBFA;\n",
              "      box-shadow: 0px 1px 2px rgba(60, 64, 67, 0.3), 0px 1px 3px 1px rgba(60, 64, 67, 0.15);\n",
              "      fill: #174EA6;\n",
              "    }\n",
              "\n",
              "    [theme=dark] .colab-df-convert {\n",
              "      background-color: #3B4455;\n",
              "      fill: #D2E3FC;\n",
              "    }\n",
              "\n",
              "    [theme=dark] .colab-df-convert:hover {\n",
              "      background-color: #434B5C;\n",
              "      box-shadow: 0px 1px 3px 1px rgba(0, 0, 0, 0.15);\n",
              "      filter: drop-shadow(0px 1px 2px rgba(0, 0, 0, 0.3));\n",
              "      fill: #FFFFFF;\n",
              "    }\n",
              "  </style>\n",
              "\n",
              "      <script>\n",
              "        const buttonEl =\n",
              "          document.querySelector('#df-3a8681a3-8598-493a-924d-ab42f7b11c58 button.colab-df-convert');\n",
              "        buttonEl.style.display =\n",
              "          google.colab.kernel.accessAllowed ? 'block' : 'none';\n",
              "\n",
              "        async function convertToInteractive(key) {\n",
              "          const element = document.querySelector('#df-3a8681a3-8598-493a-924d-ab42f7b11c58');\n",
              "          const dataTable =\n",
              "            await google.colab.kernel.invokeFunction('convertToInteractive',\n",
              "                                                     [key], {});\n",
              "          if (!dataTable) return;\n",
              "\n",
              "          const docLinkHtml = 'Like what you see? Visit the ' +\n",
              "            '<a target=\"_blank\" href=https://colab.research.google.com/notebooks/data_table.ipynb>data table notebook</a>'\n",
              "            + ' to learn more about interactive tables.';\n",
              "          element.innerHTML = '';\n",
              "          dataTable['output_type'] = 'display_data';\n",
              "          await google.colab.output.renderOutput(dataTable, element);\n",
              "          const docLink = document.createElement('div');\n",
              "          docLink.innerHTML = docLinkHtml;\n",
              "          element.appendChild(docLink);\n",
              "        }\n",
              "      </script>\n",
              "    </div>\n",
              "  </div>\n",
              "  "
            ]
          },
          "metadata": {},
          "execution_count": 152
        }
      ],
      "source": [
        "pred_fin.head(3)"
      ]
    },
    {
      "cell_type": "code",
      "execution_count": 153,
      "metadata": {
        "colab": {
          "base_uri": "https://localhost:8080/"
        },
        "id": "b-x4N_nGHgAi",
        "outputId": "c9646462-e88f-4606-9c21-50bfb8158fa9"
      },
      "outputs": [
        {
          "output_type": "stream",
          "name": "stdout",
          "text": [
            "Root mean_squared_error :  3546.482390884295\n",
            "mean_absolute_error :  1657.9922815489542\n"
          ]
        }
      ],
      "source": [
        "# model evaluation\n",
        "print(\n",
        "'Root mean_squared_error : ', mean_squared_error(y_test_aneshos1, predictions_anes_df,squared=False))\n",
        "print(\n",
        "'mean_absolute_error : ', mean_absolute_error(y_test_aneshos1, predictions_anes_df))\n"
      ]
    },
    {
      "cell_type": "code",
      "source": [
        "predictions_anes_df.head(3)"
      ],
      "metadata": {
        "colab": {
          "base_uri": "https://localhost:8080/",
          "height": 143
        },
        "id": "5qHbJTwmFJcl",
        "outputId": "1ffb9013-ecf6-4950-ffff-f30aaa07f9bd"
      },
      "execution_count": 154,
      "outputs": [
        {
          "output_type": "execute_result",
          "data": {
            "text/plain": [
              "             0\n",
              "0  4703.246861\n",
              "1  1472.450802\n",
              "2  1304.047450"
            ],
            "text/html": [
              "\n",
              "  <div id=\"df-f63c82ab-50c4-4d77-86ff-4e234ce62b5a\">\n",
              "    <div class=\"colab-df-container\">\n",
              "      <div>\n",
              "<style scoped>\n",
              "    .dataframe tbody tr th:only-of-type {\n",
              "        vertical-align: middle;\n",
              "    }\n",
              "\n",
              "    .dataframe tbody tr th {\n",
              "        vertical-align: top;\n",
              "    }\n",
              "\n",
              "    .dataframe thead th {\n",
              "        text-align: right;\n",
              "    }\n",
              "</style>\n",
              "<table border=\"1\" class=\"dataframe\">\n",
              "  <thead>\n",
              "    <tr style=\"text-align: right;\">\n",
              "      <th></th>\n",
              "      <th>0</th>\n",
              "    </tr>\n",
              "  </thead>\n",
              "  <tbody>\n",
              "    <tr>\n",
              "      <th>0</th>\n",
              "      <td>4703.246861</td>\n",
              "    </tr>\n",
              "    <tr>\n",
              "      <th>1</th>\n",
              "      <td>1472.450802</td>\n",
              "    </tr>\n",
              "    <tr>\n",
              "      <th>2</th>\n",
              "      <td>1304.047450</td>\n",
              "    </tr>\n",
              "  </tbody>\n",
              "</table>\n",
              "</div>\n",
              "      <button class=\"colab-df-convert\" onclick=\"convertToInteractive('df-f63c82ab-50c4-4d77-86ff-4e234ce62b5a')\"\n",
              "              title=\"Convert this dataframe to an interactive table.\"\n",
              "              style=\"display:none;\">\n",
              "        \n",
              "  <svg xmlns=\"http://www.w3.org/2000/svg\" height=\"24px\"viewBox=\"0 0 24 24\"\n",
              "       width=\"24px\">\n",
              "    <path d=\"M0 0h24v24H0V0z\" fill=\"none\"/>\n",
              "    <path d=\"M18.56 5.44l.94 2.06.94-2.06 2.06-.94-2.06-.94-.94-2.06-.94 2.06-2.06.94zm-11 1L8.5 8.5l.94-2.06 2.06-.94-2.06-.94L8.5 2.5l-.94 2.06-2.06.94zm10 10l.94 2.06.94-2.06 2.06-.94-2.06-.94-.94-2.06-.94 2.06-2.06.94z\"/><path d=\"M17.41 7.96l-1.37-1.37c-.4-.4-.92-.59-1.43-.59-.52 0-1.04.2-1.43.59L10.3 9.45l-7.72 7.72c-.78.78-.78 2.05 0 2.83L4 21.41c.39.39.9.59 1.41.59.51 0 1.02-.2 1.41-.59l7.78-7.78 2.81-2.81c.8-.78.8-2.07 0-2.86zM5.41 20L4 18.59l7.72-7.72 1.47 1.35L5.41 20z\"/>\n",
              "  </svg>\n",
              "      </button>\n",
              "      \n",
              "  <style>\n",
              "    .colab-df-container {\n",
              "      display:flex;\n",
              "      flex-wrap:wrap;\n",
              "      gap: 12px;\n",
              "    }\n",
              "\n",
              "    .colab-df-convert {\n",
              "      background-color: #E8F0FE;\n",
              "      border: none;\n",
              "      border-radius: 50%;\n",
              "      cursor: pointer;\n",
              "      display: none;\n",
              "      fill: #1967D2;\n",
              "      height: 32px;\n",
              "      padding: 0 0 0 0;\n",
              "      width: 32px;\n",
              "    }\n",
              "\n",
              "    .colab-df-convert:hover {\n",
              "      background-color: #E2EBFA;\n",
              "      box-shadow: 0px 1px 2px rgba(60, 64, 67, 0.3), 0px 1px 3px 1px rgba(60, 64, 67, 0.15);\n",
              "      fill: #174EA6;\n",
              "    }\n",
              "\n",
              "    [theme=dark] .colab-df-convert {\n",
              "      background-color: #3B4455;\n",
              "      fill: #D2E3FC;\n",
              "    }\n",
              "\n",
              "    [theme=dark] .colab-df-convert:hover {\n",
              "      background-color: #434B5C;\n",
              "      box-shadow: 0px 1px 3px 1px rgba(0, 0, 0, 0.15);\n",
              "      filter: drop-shadow(0px 1px 2px rgba(0, 0, 0, 0.3));\n",
              "      fill: #FFFFFF;\n",
              "    }\n",
              "  </style>\n",
              "\n",
              "      <script>\n",
              "        const buttonEl =\n",
              "          document.querySelector('#df-f63c82ab-50c4-4d77-86ff-4e234ce62b5a button.colab-df-convert');\n",
              "        buttonEl.style.display =\n",
              "          google.colab.kernel.accessAllowed ? 'block' : 'none';\n",
              "\n",
              "        async function convertToInteractive(key) {\n",
              "          const element = document.querySelector('#df-f63c82ab-50c4-4d77-86ff-4e234ce62b5a');\n",
              "          const dataTable =\n",
              "            await google.colab.kernel.invokeFunction('convertToInteractive',\n",
              "                                                     [key], {});\n",
              "          if (!dataTable) return;\n",
              "\n",
              "          const docLinkHtml = 'Like what you see? Visit the ' +\n",
              "            '<a target=\"_blank\" href=https://colab.research.google.com/notebooks/data_table.ipynb>data table notebook</a>'\n",
              "            + ' to learn more about interactive tables.';\n",
              "          element.innerHTML = '';\n",
              "          dataTable['output_type'] = 'display_data';\n",
              "          await google.colab.output.renderOutput(dataTable, element);\n",
              "          const docLink = document.createElement('div');\n",
              "          docLink.innerHTML = docLinkHtml;\n",
              "          element.appendChild(docLink);\n",
              "        }\n",
              "      </script>\n",
              "    </div>\n",
              "  </div>\n",
              "  "
            ]
          },
          "metadata": {},
          "execution_count": 154
        }
      ]
    },
    {
      "cell_type": "code",
      "source": [
        "#calculating variance for errors\n",
        "variability=predictions_anes_df.mean()[0]"
      ],
      "metadata": {
        "id": "3fscq8pVE40S"
      },
      "execution_count": 155,
      "outputs": []
    },
    {
      "cell_type": "code",
      "source": [
        "variability"
      ],
      "metadata": {
        "colab": {
          "base_uri": "https://localhost:8080/"
        },
        "id": "ARCOuW_uHPIF",
        "outputId": "bd5d254c-f2c9-400e-9bce-adb70a1900ae"
      },
      "execution_count": 156,
      "outputs": [
        {
          "output_type": "execute_result",
          "data": {
            "text/plain": [
              "12287006.909357963"
            ]
          },
          "metadata": {},
          "execution_count": 156
        }
      ]
    },
    {
      "cell_type": "code",
      "source": [
        "variability2=predictions_anes_df.var()"
      ],
      "metadata": {
        "id": "9Bi2_WZAHZ0o"
      },
      "execution_count": 157,
      "outputs": []
    },
    {
      "cell_type": "code",
      "source": [
        "variability2"
      ],
      "metadata": {
        "colab": {
          "base_uri": "https://localhost:8080/"
        },
        "id": "x0xCPqaRHgrR",
        "outputId": "cc1bdd9c-de80-4629-e9af-d1f286b79837"
      },
      "execution_count": 158,
      "outputs": [
        {
          "output_type": "execute_result",
          "data": {
            "text/plain": [
              "0    1.228701e+07\n",
              "dtype: float64"
            ]
          },
          "metadata": {},
          "execution_count": 158
        }
      ]
    },
    {
      "cell_type": "code",
      "source": [
        "meano=predictions_anes_df.mean()[0]"
      ],
      "metadata": {
        "id": "-VcQUMd-xAau"
      },
      "execution_count": 166,
      "outputs": []
    },
    {
      "cell_type": "code",
      "source": [
        "meano"
      ],
      "metadata": {
        "colab": {
          "base_uri": "https://localhost:8080/"
        },
        "id": "ouDxtA5qxFwE",
        "outputId": "cd97452d-e6dd-4632-d4cd-413187577868"
      },
      "execution_count": 167,
      "outputs": [
        {
          "output_type": "execute_result",
          "data": {
            "text/plain": [
              "2855.470197660772"
            ]
          },
          "metadata": {},
          "execution_count": 167
        }
      ]
    },
    {
      "cell_type": "code",
      "source": [
        "meano2=y_train_aneshos1.mean()"
      ],
      "metadata": {
        "id": "YFj44k1rxINk"
      },
      "execution_count": 169,
      "outputs": []
    },
    {
      "cell_type": "code",
      "source": [
        "meano2"
      ],
      "metadata": {
        "colab": {
          "base_uri": "https://localhost:8080/"
        },
        "id": "ShyWm3pWxcRa",
        "outputId": "82403f31-a547-43de-d61b-b6b6337ac9c4"
      },
      "execution_count": 170,
      "outputs": [
        {
          "output_type": "execute_result",
          "data": {
            "text/plain": [
              "2862.810537190083"
            ]
          },
          "metadata": {},
          "execution_count": 170
        }
      ]
    },
    {
      "cell_type": "code",
      "source": [
        "variance2=y_train_aneshos1.var()"
      ],
      "metadata": {
        "id": "fNZLPnq-xiIH"
      },
      "execution_count": 171,
      "outputs": []
    },
    {
      "cell_type": "code",
      "source": [
        "variance2"
      ],
      "metadata": {
        "colab": {
          "base_uri": "https://localhost:8080/"
        },
        "id": "UHaNTrzKxwwt",
        "outputId": "7dd72ec7-1a7c-4677-bf94-adb83bdc5a33"
      },
      "execution_count": 172,
      "outputs": [
        {
          "output_type": "execute_result",
          "data": {
            "text/plain": [
              "27272417.150498576"
            ]
          },
          "metadata": {},
          "execution_count": 172
        }
      ]
    },
    {
      "cell_type": "markdown",
      "metadata": {
        "id": "QfjvaBzmK7-h"
      },
      "source": [
        "# **EDA2**"
      ]
    },
    {
      "cell_type": "code",
      "execution_count": 159,
      "metadata": {
        "id": "BiV8zOoZAUw1"
      },
      "outputs": [],
      "source": [
        "#it is a lot better to take one or two devices as samples to see the workrder patterns\n",
        "\n",
        "indexed_MD=data_aneshos1woeq.loc[(data_aneshos1woeq.age>=5338.0)]"
      ]
    },
    {
      "cell_type": "code",
      "execution_count": 160,
      "metadata": {
        "colab": {
          "base_uri": "https://localhost:8080/",
          "height": 1000
        },
        "id": "qgAM4KuzK_jE",
        "outputId": "0a89a41e-da08-4a38-b534-b40751f5136c"
      },
      "outputs": [
        {
          "output_type": "execute_result",
          "data": {
            "text/plain": [
              "       Equip.reg_date                      dev  calc.Risk     ID_y     issued  \\\n",
              "231338     1996-09-02  Lungventilator anestesi       31.0  1067634 2012-01-20   \n",
              "231338     1996-09-02  Lungventilator anestesi       31.0   889002 1998-04-17   \n",
              "231338     1996-09-02  Lungventilator anestesi       31.0   945829 2003-08-26   \n",
              "231338     1996-09-02  Lungventilator anestesi       31.0  1019382 2008-09-18   \n",
              "231338     1996-09-02  Lungventilator anestesi       31.0  1094736 2013-12-05   \n",
              "231338     1996-09-02  Lungventilator anestesi       31.0   873285 1996-09-02   \n",
              "231339     1996-09-02  Lungventilator anestesi       31.0  1020313 2008-10-14   \n",
              "231339     1996-09-02  Lungventilator anestesi       31.0  1169696 2018-05-07   \n",
              "231339     1996-09-02  Lungventilator anestesi       31.0  1021632 2008-12-01   \n",
              "231339     1996-09-02  Lungventilator anestesi       31.0  1024022 2009-04-20   \n",
              "231339     1996-09-02  Lungventilator anestesi       31.0  1019565 2008-09-24   \n",
              "231339     1996-09-02  Lungventilator anestesi       31.0   873286 1996-09-02   \n",
              "231340     1996-09-02  Lungventilator anestesi       31.0  1054821 2011-02-28   \n",
              "231340     1996-09-02  Lungventilator anestesi       31.0  1040189 2010-02-22   \n",
              "231340     1996-09-02  Lungventilator anestesi       31.0  1053119 2011-01-14   \n",
              "231340     1996-09-02  Lungventilator anestesi       31.0  1061330 2011-08-25   \n",
              "231340     1996-09-02  Lungventilator anestesi       31.0  1020637 2008-10-21   \n",
              "231340     1996-09-02  Lungventilator anestesi       31.0   873287 1996-09-02   \n",
              "231342     1996-09-02  Lungventilator anestesi       31.0   873279 1996-09-02   \n",
              "231342     1996-09-02  Lungventilator anestesi       31.0  1070408 2012-03-21   \n",
              "231342     1996-09-02  Lungventilator anestesi       31.0  1008316 2007-12-11   \n",
              "231343     1996-09-02  Lungventilator anestesi       31.0  1070404 2012-03-21   \n",
              "231343     1996-09-02  Lungventilator anestesi       31.0  1027460 2009-04-03   \n",
              "231343     1996-09-02  Lungventilator anestesi       31.0   920160 2001-09-03   \n",
              "231343     1996-09-02  Lungventilator anestesi       31.0  1070406 2012-03-21   \n",
              "231343     1996-09-02  Lungventilator anestesi       31.0  1041372 2010-03-19   \n",
              "231343     1996-09-02  Lungventilator anestesi       31.0   873280 1996-09-02   \n",
              "231343     1996-09-02  Lungventilator anestesi       31.0  1028738 2009-05-08   \n",
              "231343     1996-09-02  Lungventilator anestesi       31.0   932521 2002-09-17   \n",
              "231344     1996-09-02  Lungventilator anestesi       30.0   873278 1996-09-02   \n",
              "231344     1996-09-02  Lungventilator anestesi       30.0  1064455 2011-11-07   \n",
              "231344     1996-09-02  Lungventilator anestesi       30.0   904679 2000-07-28   \n",
              "231344     1996-09-02  Lungventilator anestesi       30.0   991762 2006-10-30   \n",
              "231344     1996-09-02  Lungventilator anestesi       30.0  1040230 2010-02-23   \n",
              "231344     1996-09-02  Lungventilator anestesi       30.0  1059409 2011-06-23   \n",
              "231344     1996-09-02  Lungventilator anestesi       30.0   931647 2002-08-27   \n",
              "231344     1996-09-02  Lungventilator anestesi       30.0   915429 2001-04-04   \n",
              "231344     1996-09-02  Lungventilator anestesi       30.0   893058 1999-05-04   \n",
              "231344     1996-09-02  Lungventilator anestesi       30.0  1019518 2008-09-19   \n",
              "231345     1997-05-28  Lungventilator anestesi       31.0   877971 1997-05-28   \n",
              "231345     1997-05-28  Lungventilator anestesi       31.0   884240 1998-03-25   \n",
              "231346     1977-01-01  Lungventilator anestesi       31.0  1081462 2013-01-22   \n",
              "231346     1977-01-01  Lungventilator anestesi       31.0  1169693 2018-05-07   \n",
              "231346     1977-01-01  Lungventilator anestesi       31.0  1047282 2010-09-01   \n",
              "231346     1977-01-01  Lungventilator anestesi       31.0  1064704 2011-11-11   \n",
              "231346     1977-01-01  Lungventilator anestesi       31.0  1008160 2007-12-07   \n",
              "231346     1977-01-01  Lungventilator anestesi       31.0   968145 2004-11-05   \n",
              "231346     1977-01-01  Lungventilator anestesi       31.0  1047278 2010-09-01   \n",
              "234883     1977-01-01  Lungventilator anestesi       30.0  1016712 2008-06-19   \n",
              "234883     1977-01-01  Lungventilator anestesi       30.0  1016716 2008-06-19   \n",
              "\n",
              "        inventarieID  Count_wo  meantime    age  wotime_diff  \n",
              "231338      231338.0         5      1516   8703         5618  \n",
              "231338      231338.0         5      1516   8703          592  \n",
              "231338      231338.0         5      1516   8703         2549  \n",
              "231338      231338.0         5      1516   8703         4399  \n",
              "231338      231338.0         5      1516   8703         6303  \n",
              "231338      231338.0         5      1516   8703            0  \n",
              "231339      231339.0         5       922   8205         4425  \n",
              "231339      231339.0         5       922   8205         7917  \n",
              "231339      231339.0         5       922   8205         4473  \n",
              "231339      231339.0         5       922   8205         4613  \n",
              "231339      231339.0         5       922   8205         4405  \n",
              "231339      231339.0         5       922   8205            0  \n",
              "231340      231340.0         5      1094   6923         5292  \n",
              "231340      231340.0         5      1094   6923         4921  \n",
              "231340      231340.0         5      1094   6923         5247  \n",
              "231340      231340.0         5      1094   6923         5470  \n",
              "231340      231340.0         5      1094   6923         4432  \n",
              "231340      231340.0         5      1094   6923            0  \n",
              "231342      231342.0         2      2058   6923            0  \n",
              "231342      231342.0         2      2058   6923         5679  \n",
              "231342      231342.0         2      2058   6923         4117  \n",
              "231343      231343.0         6       824   6678         5679  \n",
              "231343      231343.0         6       824   6678         4596  \n",
              "231343      231343.0         6       824   6678         1827  \n",
              "231343      231343.0         6       824   6678         5679  \n",
              "231343      231343.0         6       824   6678         4946  \n",
              "231343      231343.0         6       824   6678            0  \n",
              "231343      231343.0         6       824   6678         4631  \n",
              "231343      231343.0         6       824   6678         2206  \n",
              "231344      231344.0        10       686   6862            0  \n",
              "231344      231344.0        10       686   6862         5544  \n",
              "231344      231344.0        10       686   6862         1425  \n",
              "231344      231344.0        10       686   6862         3710  \n",
              "231344      231344.0        10       686   6862         4922  \n",
              "231344      231344.0        10       686   6862         5407  \n",
              "231344      231344.0        10       686   6862         2185  \n",
              "231344      231344.0        10       686   6862         1675  \n",
              "231344      231344.0        10       686   6862          974  \n",
              "231344      231344.0        10       686   6862         4400  \n",
              "231345      231345.0         2       150   6690            0  \n",
              "231345      231345.0         2       150   6690          301  \n",
              "231346      231346.0         4       982  15389        13170  \n",
              "231346      231346.0         4       982  15389        15101  \n",
              "231346      231346.0         4       982  15389        12296  \n",
              "231346      231346.0         4       982  15389        12732  \n",
              "231346      231346.0         4       982  15389        11297  \n",
              "231346      231346.0         4       982  15389        10170  \n",
              "231346      231346.0         4       982  15389        12296  \n",
              "234883      234883.0         2         0  14538        11492  \n",
              "234883      234883.0         2         0  14538        11492  "
            ],
            "text/html": [
              "\n",
              "  <div id=\"df-d7f784ea-82ac-496d-b5ac-e0a20673b688\">\n",
              "    <div class=\"colab-df-container\">\n",
              "      <div>\n",
              "<style scoped>\n",
              "    .dataframe tbody tr th:only-of-type {\n",
              "        vertical-align: middle;\n",
              "    }\n",
              "\n",
              "    .dataframe tbody tr th {\n",
              "        vertical-align: top;\n",
              "    }\n",
              "\n",
              "    .dataframe thead th {\n",
              "        text-align: right;\n",
              "    }\n",
              "</style>\n",
              "<table border=\"1\" class=\"dataframe\">\n",
              "  <thead>\n",
              "    <tr style=\"text-align: right;\">\n",
              "      <th></th>\n",
              "      <th>Equip.reg_date</th>\n",
              "      <th>dev</th>\n",
              "      <th>calc.Risk</th>\n",
              "      <th>ID_y</th>\n",
              "      <th>issued</th>\n",
              "      <th>inventarieID</th>\n",
              "      <th>Count_wo</th>\n",
              "      <th>meantime</th>\n",
              "      <th>age</th>\n",
              "      <th>wotime_diff</th>\n",
              "    </tr>\n",
              "  </thead>\n",
              "  <tbody>\n",
              "    <tr>\n",
              "      <th>231338</th>\n",
              "      <td>1996-09-02</td>\n",
              "      <td>Lungventilator anestesi</td>\n",
              "      <td>31.0</td>\n",
              "      <td>1067634</td>\n",
              "      <td>2012-01-20</td>\n",
              "      <td>231338.0</td>\n",
              "      <td>5</td>\n",
              "      <td>1516</td>\n",
              "      <td>8703</td>\n",
              "      <td>5618</td>\n",
              "    </tr>\n",
              "    <tr>\n",
              "      <th>231338</th>\n",
              "      <td>1996-09-02</td>\n",
              "      <td>Lungventilator anestesi</td>\n",
              "      <td>31.0</td>\n",
              "      <td>889002</td>\n",
              "      <td>1998-04-17</td>\n",
              "      <td>231338.0</td>\n",
              "      <td>5</td>\n",
              "      <td>1516</td>\n",
              "      <td>8703</td>\n",
              "      <td>592</td>\n",
              "    </tr>\n",
              "    <tr>\n",
              "      <th>231338</th>\n",
              "      <td>1996-09-02</td>\n",
              "      <td>Lungventilator anestesi</td>\n",
              "      <td>31.0</td>\n",
              "      <td>945829</td>\n",
              "      <td>2003-08-26</td>\n",
              "      <td>231338.0</td>\n",
              "      <td>5</td>\n",
              "      <td>1516</td>\n",
              "      <td>8703</td>\n",
              "      <td>2549</td>\n",
              "    </tr>\n",
              "    <tr>\n",
              "      <th>231338</th>\n",
              "      <td>1996-09-02</td>\n",
              "      <td>Lungventilator anestesi</td>\n",
              "      <td>31.0</td>\n",
              "      <td>1019382</td>\n",
              "      <td>2008-09-18</td>\n",
              "      <td>231338.0</td>\n",
              "      <td>5</td>\n",
              "      <td>1516</td>\n",
              "      <td>8703</td>\n",
              "      <td>4399</td>\n",
              "    </tr>\n",
              "    <tr>\n",
              "      <th>231338</th>\n",
              "      <td>1996-09-02</td>\n",
              "      <td>Lungventilator anestesi</td>\n",
              "      <td>31.0</td>\n",
              "      <td>1094736</td>\n",
              "      <td>2013-12-05</td>\n",
              "      <td>231338.0</td>\n",
              "      <td>5</td>\n",
              "      <td>1516</td>\n",
              "      <td>8703</td>\n",
              "      <td>6303</td>\n",
              "    </tr>\n",
              "    <tr>\n",
              "      <th>231338</th>\n",
              "      <td>1996-09-02</td>\n",
              "      <td>Lungventilator anestesi</td>\n",
              "      <td>31.0</td>\n",
              "      <td>873285</td>\n",
              "      <td>1996-09-02</td>\n",
              "      <td>231338.0</td>\n",
              "      <td>5</td>\n",
              "      <td>1516</td>\n",
              "      <td>8703</td>\n",
              "      <td>0</td>\n",
              "    </tr>\n",
              "    <tr>\n",
              "      <th>231339</th>\n",
              "      <td>1996-09-02</td>\n",
              "      <td>Lungventilator anestesi</td>\n",
              "      <td>31.0</td>\n",
              "      <td>1020313</td>\n",
              "      <td>2008-10-14</td>\n",
              "      <td>231339.0</td>\n",
              "      <td>5</td>\n",
              "      <td>922</td>\n",
              "      <td>8205</td>\n",
              "      <td>4425</td>\n",
              "    </tr>\n",
              "    <tr>\n",
              "      <th>231339</th>\n",
              "      <td>1996-09-02</td>\n",
              "      <td>Lungventilator anestesi</td>\n",
              "      <td>31.0</td>\n",
              "      <td>1169696</td>\n",
              "      <td>2018-05-07</td>\n",
              "      <td>231339.0</td>\n",
              "      <td>5</td>\n",
              "      <td>922</td>\n",
              "      <td>8205</td>\n",
              "      <td>7917</td>\n",
              "    </tr>\n",
              "    <tr>\n",
              "      <th>231339</th>\n",
              "      <td>1996-09-02</td>\n",
              "      <td>Lungventilator anestesi</td>\n",
              "      <td>31.0</td>\n",
              "      <td>1021632</td>\n",
              "      <td>2008-12-01</td>\n",
              "      <td>231339.0</td>\n",
              "      <td>5</td>\n",
              "      <td>922</td>\n",
              "      <td>8205</td>\n",
              "      <td>4473</td>\n",
              "    </tr>\n",
              "    <tr>\n",
              "      <th>231339</th>\n",
              "      <td>1996-09-02</td>\n",
              "      <td>Lungventilator anestesi</td>\n",
              "      <td>31.0</td>\n",
              "      <td>1024022</td>\n",
              "      <td>2009-04-20</td>\n",
              "      <td>231339.0</td>\n",
              "      <td>5</td>\n",
              "      <td>922</td>\n",
              "      <td>8205</td>\n",
              "      <td>4613</td>\n",
              "    </tr>\n",
              "    <tr>\n",
              "      <th>231339</th>\n",
              "      <td>1996-09-02</td>\n",
              "      <td>Lungventilator anestesi</td>\n",
              "      <td>31.0</td>\n",
              "      <td>1019565</td>\n",
              "      <td>2008-09-24</td>\n",
              "      <td>231339.0</td>\n",
              "      <td>5</td>\n",
              "      <td>922</td>\n",
              "      <td>8205</td>\n",
              "      <td>4405</td>\n",
              "    </tr>\n",
              "    <tr>\n",
              "      <th>231339</th>\n",
              "      <td>1996-09-02</td>\n",
              "      <td>Lungventilator anestesi</td>\n",
              "      <td>31.0</td>\n",
              "      <td>873286</td>\n",
              "      <td>1996-09-02</td>\n",
              "      <td>231339.0</td>\n",
              "      <td>5</td>\n",
              "      <td>922</td>\n",
              "      <td>8205</td>\n",
              "      <td>0</td>\n",
              "    </tr>\n",
              "    <tr>\n",
              "      <th>231340</th>\n",
              "      <td>1996-09-02</td>\n",
              "      <td>Lungventilator anestesi</td>\n",
              "      <td>31.0</td>\n",
              "      <td>1054821</td>\n",
              "      <td>2011-02-28</td>\n",
              "      <td>231340.0</td>\n",
              "      <td>5</td>\n",
              "      <td>1094</td>\n",
              "      <td>6923</td>\n",
              "      <td>5292</td>\n",
              "    </tr>\n",
              "    <tr>\n",
              "      <th>231340</th>\n",
              "      <td>1996-09-02</td>\n",
              "      <td>Lungventilator anestesi</td>\n",
              "      <td>31.0</td>\n",
              "      <td>1040189</td>\n",
              "      <td>2010-02-22</td>\n",
              "      <td>231340.0</td>\n",
              "      <td>5</td>\n",
              "      <td>1094</td>\n",
              "      <td>6923</td>\n",
              "      <td>4921</td>\n",
              "    </tr>\n",
              "    <tr>\n",
              "      <th>231340</th>\n",
              "      <td>1996-09-02</td>\n",
              "      <td>Lungventilator anestesi</td>\n",
              "      <td>31.0</td>\n",
              "      <td>1053119</td>\n",
              "      <td>2011-01-14</td>\n",
              "      <td>231340.0</td>\n",
              "      <td>5</td>\n",
              "      <td>1094</td>\n",
              "      <td>6923</td>\n",
              "      <td>5247</td>\n",
              "    </tr>\n",
              "    <tr>\n",
              "      <th>231340</th>\n",
              "      <td>1996-09-02</td>\n",
              "      <td>Lungventilator anestesi</td>\n",
              "      <td>31.0</td>\n",
              "      <td>1061330</td>\n",
              "      <td>2011-08-25</td>\n",
              "      <td>231340.0</td>\n",
              "      <td>5</td>\n",
              "      <td>1094</td>\n",
              "      <td>6923</td>\n",
              "      <td>5470</td>\n",
              "    </tr>\n",
              "    <tr>\n",
              "      <th>231340</th>\n",
              "      <td>1996-09-02</td>\n",
              "      <td>Lungventilator anestesi</td>\n",
              "      <td>31.0</td>\n",
              "      <td>1020637</td>\n",
              "      <td>2008-10-21</td>\n",
              "      <td>231340.0</td>\n",
              "      <td>5</td>\n",
              "      <td>1094</td>\n",
              "      <td>6923</td>\n",
              "      <td>4432</td>\n",
              "    </tr>\n",
              "    <tr>\n",
              "      <th>231340</th>\n",
              "      <td>1996-09-02</td>\n",
              "      <td>Lungventilator anestesi</td>\n",
              "      <td>31.0</td>\n",
              "      <td>873287</td>\n",
              "      <td>1996-09-02</td>\n",
              "      <td>231340.0</td>\n",
              "      <td>5</td>\n",
              "      <td>1094</td>\n",
              "      <td>6923</td>\n",
              "      <td>0</td>\n",
              "    </tr>\n",
              "    <tr>\n",
              "      <th>231342</th>\n",
              "      <td>1996-09-02</td>\n",
              "      <td>Lungventilator anestesi</td>\n",
              "      <td>31.0</td>\n",
              "      <td>873279</td>\n",
              "      <td>1996-09-02</td>\n",
              "      <td>231342.0</td>\n",
              "      <td>2</td>\n",
              "      <td>2058</td>\n",
              "      <td>6923</td>\n",
              "      <td>0</td>\n",
              "    </tr>\n",
              "    <tr>\n",
              "      <th>231342</th>\n",
              "      <td>1996-09-02</td>\n",
              "      <td>Lungventilator anestesi</td>\n",
              "      <td>31.0</td>\n",
              "      <td>1070408</td>\n",
              "      <td>2012-03-21</td>\n",
              "      <td>231342.0</td>\n",
              "      <td>2</td>\n",
              "      <td>2058</td>\n",
              "      <td>6923</td>\n",
              "      <td>5679</td>\n",
              "    </tr>\n",
              "    <tr>\n",
              "      <th>231342</th>\n",
              "      <td>1996-09-02</td>\n",
              "      <td>Lungventilator anestesi</td>\n",
              "      <td>31.0</td>\n",
              "      <td>1008316</td>\n",
              "      <td>2007-12-11</td>\n",
              "      <td>231342.0</td>\n",
              "      <td>2</td>\n",
              "      <td>2058</td>\n",
              "      <td>6923</td>\n",
              "      <td>4117</td>\n",
              "    </tr>\n",
              "    <tr>\n",
              "      <th>231343</th>\n",
              "      <td>1996-09-02</td>\n",
              "      <td>Lungventilator anestesi</td>\n",
              "      <td>31.0</td>\n",
              "      <td>1070404</td>\n",
              "      <td>2012-03-21</td>\n",
              "      <td>231343.0</td>\n",
              "      <td>6</td>\n",
              "      <td>824</td>\n",
              "      <td>6678</td>\n",
              "      <td>5679</td>\n",
              "    </tr>\n",
              "    <tr>\n",
              "      <th>231343</th>\n",
              "      <td>1996-09-02</td>\n",
              "      <td>Lungventilator anestesi</td>\n",
              "      <td>31.0</td>\n",
              "      <td>1027460</td>\n",
              "      <td>2009-04-03</td>\n",
              "      <td>231343.0</td>\n",
              "      <td>6</td>\n",
              "      <td>824</td>\n",
              "      <td>6678</td>\n",
              "      <td>4596</td>\n",
              "    </tr>\n",
              "    <tr>\n",
              "      <th>231343</th>\n",
              "      <td>1996-09-02</td>\n",
              "      <td>Lungventilator anestesi</td>\n",
              "      <td>31.0</td>\n",
              "      <td>920160</td>\n",
              "      <td>2001-09-03</td>\n",
              "      <td>231343.0</td>\n",
              "      <td>6</td>\n",
              "      <td>824</td>\n",
              "      <td>6678</td>\n",
              "      <td>1827</td>\n",
              "    </tr>\n",
              "    <tr>\n",
              "      <th>231343</th>\n",
              "      <td>1996-09-02</td>\n",
              "      <td>Lungventilator anestesi</td>\n",
              "      <td>31.0</td>\n",
              "      <td>1070406</td>\n",
              "      <td>2012-03-21</td>\n",
              "      <td>231343.0</td>\n",
              "      <td>6</td>\n",
              "      <td>824</td>\n",
              "      <td>6678</td>\n",
              "      <td>5679</td>\n",
              "    </tr>\n",
              "    <tr>\n",
              "      <th>231343</th>\n",
              "      <td>1996-09-02</td>\n",
              "      <td>Lungventilator anestesi</td>\n",
              "      <td>31.0</td>\n",
              "      <td>1041372</td>\n",
              "      <td>2010-03-19</td>\n",
              "      <td>231343.0</td>\n",
              "      <td>6</td>\n",
              "      <td>824</td>\n",
              "      <td>6678</td>\n",
              "      <td>4946</td>\n",
              "    </tr>\n",
              "    <tr>\n",
              "      <th>231343</th>\n",
              "      <td>1996-09-02</td>\n",
              "      <td>Lungventilator anestesi</td>\n",
              "      <td>31.0</td>\n",
              "      <td>873280</td>\n",
              "      <td>1996-09-02</td>\n",
              "      <td>231343.0</td>\n",
              "      <td>6</td>\n",
              "      <td>824</td>\n",
              "      <td>6678</td>\n",
              "      <td>0</td>\n",
              "    </tr>\n",
              "    <tr>\n",
              "      <th>231343</th>\n",
              "      <td>1996-09-02</td>\n",
              "      <td>Lungventilator anestesi</td>\n",
              "      <td>31.0</td>\n",
              "      <td>1028738</td>\n",
              "      <td>2009-05-08</td>\n",
              "      <td>231343.0</td>\n",
              "      <td>6</td>\n",
              "      <td>824</td>\n",
              "      <td>6678</td>\n",
              "      <td>4631</td>\n",
              "    </tr>\n",
              "    <tr>\n",
              "      <th>231343</th>\n",
              "      <td>1996-09-02</td>\n",
              "      <td>Lungventilator anestesi</td>\n",
              "      <td>31.0</td>\n",
              "      <td>932521</td>\n",
              "      <td>2002-09-17</td>\n",
              "      <td>231343.0</td>\n",
              "      <td>6</td>\n",
              "      <td>824</td>\n",
              "      <td>6678</td>\n",
              "      <td>2206</td>\n",
              "    </tr>\n",
              "    <tr>\n",
              "      <th>231344</th>\n",
              "      <td>1996-09-02</td>\n",
              "      <td>Lungventilator anestesi</td>\n",
              "      <td>30.0</td>\n",
              "      <td>873278</td>\n",
              "      <td>1996-09-02</td>\n",
              "      <td>231344.0</td>\n",
              "      <td>10</td>\n",
              "      <td>686</td>\n",
              "      <td>6862</td>\n",
              "      <td>0</td>\n",
              "    </tr>\n",
              "    <tr>\n",
              "      <th>231344</th>\n",
              "      <td>1996-09-02</td>\n",
              "      <td>Lungventilator anestesi</td>\n",
              "      <td>30.0</td>\n",
              "      <td>1064455</td>\n",
              "      <td>2011-11-07</td>\n",
              "      <td>231344.0</td>\n",
              "      <td>10</td>\n",
              "      <td>686</td>\n",
              "      <td>6862</td>\n",
              "      <td>5544</td>\n",
              "    </tr>\n",
              "    <tr>\n",
              "      <th>231344</th>\n",
              "      <td>1996-09-02</td>\n",
              "      <td>Lungventilator anestesi</td>\n",
              "      <td>30.0</td>\n",
              "      <td>904679</td>\n",
              "      <td>2000-07-28</td>\n",
              "      <td>231344.0</td>\n",
              "      <td>10</td>\n",
              "      <td>686</td>\n",
              "      <td>6862</td>\n",
              "      <td>1425</td>\n",
              "    </tr>\n",
              "    <tr>\n",
              "      <th>231344</th>\n",
              "      <td>1996-09-02</td>\n",
              "      <td>Lungventilator anestesi</td>\n",
              "      <td>30.0</td>\n",
              "      <td>991762</td>\n",
              "      <td>2006-10-30</td>\n",
              "      <td>231344.0</td>\n",
              "      <td>10</td>\n",
              "      <td>686</td>\n",
              "      <td>6862</td>\n",
              "      <td>3710</td>\n",
              "    </tr>\n",
              "    <tr>\n",
              "      <th>231344</th>\n",
              "      <td>1996-09-02</td>\n",
              "      <td>Lungventilator anestesi</td>\n",
              "      <td>30.0</td>\n",
              "      <td>1040230</td>\n",
              "      <td>2010-02-23</td>\n",
              "      <td>231344.0</td>\n",
              "      <td>10</td>\n",
              "      <td>686</td>\n",
              "      <td>6862</td>\n",
              "      <td>4922</td>\n",
              "    </tr>\n",
              "    <tr>\n",
              "      <th>231344</th>\n",
              "      <td>1996-09-02</td>\n",
              "      <td>Lungventilator anestesi</td>\n",
              "      <td>30.0</td>\n",
              "      <td>1059409</td>\n",
              "      <td>2011-06-23</td>\n",
              "      <td>231344.0</td>\n",
              "      <td>10</td>\n",
              "      <td>686</td>\n",
              "      <td>6862</td>\n",
              "      <td>5407</td>\n",
              "    </tr>\n",
              "    <tr>\n",
              "      <th>231344</th>\n",
              "      <td>1996-09-02</td>\n",
              "      <td>Lungventilator anestesi</td>\n",
              "      <td>30.0</td>\n",
              "      <td>931647</td>\n",
              "      <td>2002-08-27</td>\n",
              "      <td>231344.0</td>\n",
              "      <td>10</td>\n",
              "      <td>686</td>\n",
              "      <td>6862</td>\n",
              "      <td>2185</td>\n",
              "    </tr>\n",
              "    <tr>\n",
              "      <th>231344</th>\n",
              "      <td>1996-09-02</td>\n",
              "      <td>Lungventilator anestesi</td>\n",
              "      <td>30.0</td>\n",
              "      <td>915429</td>\n",
              "      <td>2001-04-04</td>\n",
              "      <td>231344.0</td>\n",
              "      <td>10</td>\n",
              "      <td>686</td>\n",
              "      <td>6862</td>\n",
              "      <td>1675</td>\n",
              "    </tr>\n",
              "    <tr>\n",
              "      <th>231344</th>\n",
              "      <td>1996-09-02</td>\n",
              "      <td>Lungventilator anestesi</td>\n",
              "      <td>30.0</td>\n",
              "      <td>893058</td>\n",
              "      <td>1999-05-04</td>\n",
              "      <td>231344.0</td>\n",
              "      <td>10</td>\n",
              "      <td>686</td>\n",
              "      <td>6862</td>\n",
              "      <td>974</td>\n",
              "    </tr>\n",
              "    <tr>\n",
              "      <th>231344</th>\n",
              "      <td>1996-09-02</td>\n",
              "      <td>Lungventilator anestesi</td>\n",
              "      <td>30.0</td>\n",
              "      <td>1019518</td>\n",
              "      <td>2008-09-19</td>\n",
              "      <td>231344.0</td>\n",
              "      <td>10</td>\n",
              "      <td>686</td>\n",
              "      <td>6862</td>\n",
              "      <td>4400</td>\n",
              "    </tr>\n",
              "    <tr>\n",
              "      <th>231345</th>\n",
              "      <td>1997-05-28</td>\n",
              "      <td>Lungventilator anestesi</td>\n",
              "      <td>31.0</td>\n",
              "      <td>877971</td>\n",
              "      <td>1997-05-28</td>\n",
              "      <td>231345.0</td>\n",
              "      <td>2</td>\n",
              "      <td>150</td>\n",
              "      <td>6690</td>\n",
              "      <td>0</td>\n",
              "    </tr>\n",
              "    <tr>\n",
              "      <th>231345</th>\n",
              "      <td>1997-05-28</td>\n",
              "      <td>Lungventilator anestesi</td>\n",
              "      <td>31.0</td>\n",
              "      <td>884240</td>\n",
              "      <td>1998-03-25</td>\n",
              "      <td>231345.0</td>\n",
              "      <td>2</td>\n",
              "      <td>150</td>\n",
              "      <td>6690</td>\n",
              "      <td>301</td>\n",
              "    </tr>\n",
              "    <tr>\n",
              "      <th>231346</th>\n",
              "      <td>1977-01-01</td>\n",
              "      <td>Lungventilator anestesi</td>\n",
              "      <td>31.0</td>\n",
              "      <td>1081462</td>\n",
              "      <td>2013-01-22</td>\n",
              "      <td>231346.0</td>\n",
              "      <td>4</td>\n",
              "      <td>982</td>\n",
              "      <td>15389</td>\n",
              "      <td>13170</td>\n",
              "    </tr>\n",
              "    <tr>\n",
              "      <th>231346</th>\n",
              "      <td>1977-01-01</td>\n",
              "      <td>Lungventilator anestesi</td>\n",
              "      <td>31.0</td>\n",
              "      <td>1169693</td>\n",
              "      <td>2018-05-07</td>\n",
              "      <td>231346.0</td>\n",
              "      <td>4</td>\n",
              "      <td>982</td>\n",
              "      <td>15389</td>\n",
              "      <td>15101</td>\n",
              "    </tr>\n",
              "    <tr>\n",
              "      <th>231346</th>\n",
              "      <td>1977-01-01</td>\n",
              "      <td>Lungventilator anestesi</td>\n",
              "      <td>31.0</td>\n",
              "      <td>1047282</td>\n",
              "      <td>2010-09-01</td>\n",
              "      <td>231346.0</td>\n",
              "      <td>4</td>\n",
              "      <td>982</td>\n",
              "      <td>15389</td>\n",
              "      <td>12296</td>\n",
              "    </tr>\n",
              "    <tr>\n",
              "      <th>231346</th>\n",
              "      <td>1977-01-01</td>\n",
              "      <td>Lungventilator anestesi</td>\n",
              "      <td>31.0</td>\n",
              "      <td>1064704</td>\n",
              "      <td>2011-11-11</td>\n",
              "      <td>231346.0</td>\n",
              "      <td>4</td>\n",
              "      <td>982</td>\n",
              "      <td>15389</td>\n",
              "      <td>12732</td>\n",
              "    </tr>\n",
              "    <tr>\n",
              "      <th>231346</th>\n",
              "      <td>1977-01-01</td>\n",
              "      <td>Lungventilator anestesi</td>\n",
              "      <td>31.0</td>\n",
              "      <td>1008160</td>\n",
              "      <td>2007-12-07</td>\n",
              "      <td>231346.0</td>\n",
              "      <td>4</td>\n",
              "      <td>982</td>\n",
              "      <td>15389</td>\n",
              "      <td>11297</td>\n",
              "    </tr>\n",
              "    <tr>\n",
              "      <th>231346</th>\n",
              "      <td>1977-01-01</td>\n",
              "      <td>Lungventilator anestesi</td>\n",
              "      <td>31.0</td>\n",
              "      <td>968145</td>\n",
              "      <td>2004-11-05</td>\n",
              "      <td>231346.0</td>\n",
              "      <td>4</td>\n",
              "      <td>982</td>\n",
              "      <td>15389</td>\n",
              "      <td>10170</td>\n",
              "    </tr>\n",
              "    <tr>\n",
              "      <th>231346</th>\n",
              "      <td>1977-01-01</td>\n",
              "      <td>Lungventilator anestesi</td>\n",
              "      <td>31.0</td>\n",
              "      <td>1047278</td>\n",
              "      <td>2010-09-01</td>\n",
              "      <td>231346.0</td>\n",
              "      <td>4</td>\n",
              "      <td>982</td>\n",
              "      <td>15389</td>\n",
              "      <td>12296</td>\n",
              "    </tr>\n",
              "    <tr>\n",
              "      <th>234883</th>\n",
              "      <td>1977-01-01</td>\n",
              "      <td>Lungventilator anestesi</td>\n",
              "      <td>30.0</td>\n",
              "      <td>1016712</td>\n",
              "      <td>2008-06-19</td>\n",
              "      <td>234883.0</td>\n",
              "      <td>2</td>\n",
              "      <td>0</td>\n",
              "      <td>14538</td>\n",
              "      <td>11492</td>\n",
              "    </tr>\n",
              "    <tr>\n",
              "      <th>234883</th>\n",
              "      <td>1977-01-01</td>\n",
              "      <td>Lungventilator anestesi</td>\n",
              "      <td>30.0</td>\n",
              "      <td>1016716</td>\n",
              "      <td>2008-06-19</td>\n",
              "      <td>234883.0</td>\n",
              "      <td>2</td>\n",
              "      <td>0</td>\n",
              "      <td>14538</td>\n",
              "      <td>11492</td>\n",
              "    </tr>\n",
              "  </tbody>\n",
              "</table>\n",
              "</div>\n",
              "      <button class=\"colab-df-convert\" onclick=\"convertToInteractive('df-d7f784ea-82ac-496d-b5ac-e0a20673b688')\"\n",
              "              title=\"Convert this dataframe to an interactive table.\"\n",
              "              style=\"display:none;\">\n",
              "        \n",
              "  <svg xmlns=\"http://www.w3.org/2000/svg\" height=\"24px\"viewBox=\"0 0 24 24\"\n",
              "       width=\"24px\">\n",
              "    <path d=\"M0 0h24v24H0V0z\" fill=\"none\"/>\n",
              "    <path d=\"M18.56 5.44l.94 2.06.94-2.06 2.06-.94-2.06-.94-.94-2.06-.94 2.06-2.06.94zm-11 1L8.5 8.5l.94-2.06 2.06-.94-2.06-.94L8.5 2.5l-.94 2.06-2.06.94zm10 10l.94 2.06.94-2.06 2.06-.94-2.06-.94-.94-2.06-.94 2.06-2.06.94z\"/><path d=\"M17.41 7.96l-1.37-1.37c-.4-.4-.92-.59-1.43-.59-.52 0-1.04.2-1.43.59L10.3 9.45l-7.72 7.72c-.78.78-.78 2.05 0 2.83L4 21.41c.39.39.9.59 1.41.59.51 0 1.02-.2 1.41-.59l7.78-7.78 2.81-2.81c.8-.78.8-2.07 0-2.86zM5.41 20L4 18.59l7.72-7.72 1.47 1.35L5.41 20z\"/>\n",
              "  </svg>\n",
              "      </button>\n",
              "      \n",
              "  <style>\n",
              "    .colab-df-container {\n",
              "      display:flex;\n",
              "      flex-wrap:wrap;\n",
              "      gap: 12px;\n",
              "    }\n",
              "\n",
              "    .colab-df-convert {\n",
              "      background-color: #E8F0FE;\n",
              "      border: none;\n",
              "      border-radius: 50%;\n",
              "      cursor: pointer;\n",
              "      display: none;\n",
              "      fill: #1967D2;\n",
              "      height: 32px;\n",
              "      padding: 0 0 0 0;\n",
              "      width: 32px;\n",
              "    }\n",
              "\n",
              "    .colab-df-convert:hover {\n",
              "      background-color: #E2EBFA;\n",
              "      box-shadow: 0px 1px 2px rgba(60, 64, 67, 0.3), 0px 1px 3px 1px rgba(60, 64, 67, 0.15);\n",
              "      fill: #174EA6;\n",
              "    }\n",
              "\n",
              "    [theme=dark] .colab-df-convert {\n",
              "      background-color: #3B4455;\n",
              "      fill: #D2E3FC;\n",
              "    }\n",
              "\n",
              "    [theme=dark] .colab-df-convert:hover {\n",
              "      background-color: #434B5C;\n",
              "      box-shadow: 0px 1px 3px 1px rgba(0, 0, 0, 0.15);\n",
              "      filter: drop-shadow(0px 1px 2px rgba(0, 0, 0, 0.3));\n",
              "      fill: #FFFFFF;\n",
              "    }\n",
              "  </style>\n",
              "\n",
              "      <script>\n",
              "        const buttonEl =\n",
              "          document.querySelector('#df-d7f784ea-82ac-496d-b5ac-e0a20673b688 button.colab-df-convert');\n",
              "        buttonEl.style.display =\n",
              "          google.colab.kernel.accessAllowed ? 'block' : 'none';\n",
              "\n",
              "        async function convertToInteractive(key) {\n",
              "          const element = document.querySelector('#df-d7f784ea-82ac-496d-b5ac-e0a20673b688');\n",
              "          const dataTable =\n",
              "            await google.colab.kernel.invokeFunction('convertToInteractive',\n",
              "                                                     [key], {});\n",
              "          if (!dataTable) return;\n",
              "\n",
              "          const docLinkHtml = 'Like what you see? Visit the ' +\n",
              "            '<a target=\"_blank\" href=https://colab.research.google.com/notebooks/data_table.ipynb>data table notebook</a>'\n",
              "            + ' to learn more about interactive tables.';\n",
              "          element.innerHTML = '';\n",
              "          dataTable['output_type'] = 'display_data';\n",
              "          await google.colab.output.renderOutput(dataTable, element);\n",
              "          const docLink = document.createElement('div');\n",
              "          docLink.innerHTML = docLinkHtml;\n",
              "          element.appendChild(docLink);\n",
              "        }\n",
              "      </script>\n",
              "    </div>\n",
              "  </div>\n",
              "  "
            ]
          },
          "metadata": {},
          "execution_count": 160
        }
      ],
      "source": [
        "indexed_MD.tail(50)"
      ]
    },
    {
      "cell_type": "code",
      "source": [
        "alone_device=indexed_MD.query(\"inventarieID==231344.0\")"
      ],
      "metadata": {
        "id": "qEbDrLzvM2az"
      },
      "execution_count": 161,
      "outputs": []
    },
    {
      "cell_type": "code",
      "source": [
        "alone_device"
      ],
      "metadata": {
        "colab": {
          "base_uri": "https://localhost:8080/",
          "height": 363
        },
        "id": "hvZL_mhgOF8z",
        "outputId": "3a55a358-2865-46fa-afeb-fa490234173d"
      },
      "execution_count": 162,
      "outputs": [
        {
          "output_type": "execute_result",
          "data": {
            "text/plain": [
              "       Equip.reg_date                      dev  calc.Risk     ID_y     issued  \\\n",
              "231344     1996-09-02  Lungventilator anestesi       30.0   873278 1996-09-02   \n",
              "231344     1996-09-02  Lungventilator anestesi       30.0  1064455 2011-11-07   \n",
              "231344     1996-09-02  Lungventilator anestesi       30.0   904679 2000-07-28   \n",
              "231344     1996-09-02  Lungventilator anestesi       30.0   991762 2006-10-30   \n",
              "231344     1996-09-02  Lungventilator anestesi       30.0  1040230 2010-02-23   \n",
              "231344     1996-09-02  Lungventilator anestesi       30.0  1059409 2011-06-23   \n",
              "231344     1996-09-02  Lungventilator anestesi       30.0   931647 2002-08-27   \n",
              "231344     1996-09-02  Lungventilator anestesi       30.0   915429 2001-04-04   \n",
              "231344     1996-09-02  Lungventilator anestesi       30.0   893058 1999-05-04   \n",
              "231344     1996-09-02  Lungventilator anestesi       30.0  1019518 2008-09-19   \n",
              "\n",
              "        inventarieID  Count_wo  meantime   age  wotime_diff  \n",
              "231344      231344.0        10       686  6862            0  \n",
              "231344      231344.0        10       686  6862         5544  \n",
              "231344      231344.0        10       686  6862         1425  \n",
              "231344      231344.0        10       686  6862         3710  \n",
              "231344      231344.0        10       686  6862         4922  \n",
              "231344      231344.0        10       686  6862         5407  \n",
              "231344      231344.0        10       686  6862         2185  \n",
              "231344      231344.0        10       686  6862         1675  \n",
              "231344      231344.0        10       686  6862          974  \n",
              "231344      231344.0        10       686  6862         4400  "
            ],
            "text/html": [
              "\n",
              "  <div id=\"df-0e713006-8753-4904-893a-79877857a335\">\n",
              "    <div class=\"colab-df-container\">\n",
              "      <div>\n",
              "<style scoped>\n",
              "    .dataframe tbody tr th:only-of-type {\n",
              "        vertical-align: middle;\n",
              "    }\n",
              "\n",
              "    .dataframe tbody tr th {\n",
              "        vertical-align: top;\n",
              "    }\n",
              "\n",
              "    .dataframe thead th {\n",
              "        text-align: right;\n",
              "    }\n",
              "</style>\n",
              "<table border=\"1\" class=\"dataframe\">\n",
              "  <thead>\n",
              "    <tr style=\"text-align: right;\">\n",
              "      <th></th>\n",
              "      <th>Equip.reg_date</th>\n",
              "      <th>dev</th>\n",
              "      <th>calc.Risk</th>\n",
              "      <th>ID_y</th>\n",
              "      <th>issued</th>\n",
              "      <th>inventarieID</th>\n",
              "      <th>Count_wo</th>\n",
              "      <th>meantime</th>\n",
              "      <th>age</th>\n",
              "      <th>wotime_diff</th>\n",
              "    </tr>\n",
              "  </thead>\n",
              "  <tbody>\n",
              "    <tr>\n",
              "      <th>231344</th>\n",
              "      <td>1996-09-02</td>\n",
              "      <td>Lungventilator anestesi</td>\n",
              "      <td>30.0</td>\n",
              "      <td>873278</td>\n",
              "      <td>1996-09-02</td>\n",
              "      <td>231344.0</td>\n",
              "      <td>10</td>\n",
              "      <td>686</td>\n",
              "      <td>6862</td>\n",
              "      <td>0</td>\n",
              "    </tr>\n",
              "    <tr>\n",
              "      <th>231344</th>\n",
              "      <td>1996-09-02</td>\n",
              "      <td>Lungventilator anestesi</td>\n",
              "      <td>30.0</td>\n",
              "      <td>1064455</td>\n",
              "      <td>2011-11-07</td>\n",
              "      <td>231344.0</td>\n",
              "      <td>10</td>\n",
              "      <td>686</td>\n",
              "      <td>6862</td>\n",
              "      <td>5544</td>\n",
              "    </tr>\n",
              "    <tr>\n",
              "      <th>231344</th>\n",
              "      <td>1996-09-02</td>\n",
              "      <td>Lungventilator anestesi</td>\n",
              "      <td>30.0</td>\n",
              "      <td>904679</td>\n",
              "      <td>2000-07-28</td>\n",
              "      <td>231344.0</td>\n",
              "      <td>10</td>\n",
              "      <td>686</td>\n",
              "      <td>6862</td>\n",
              "      <td>1425</td>\n",
              "    </tr>\n",
              "    <tr>\n",
              "      <th>231344</th>\n",
              "      <td>1996-09-02</td>\n",
              "      <td>Lungventilator anestesi</td>\n",
              "      <td>30.0</td>\n",
              "      <td>991762</td>\n",
              "      <td>2006-10-30</td>\n",
              "      <td>231344.0</td>\n",
              "      <td>10</td>\n",
              "      <td>686</td>\n",
              "      <td>6862</td>\n",
              "      <td>3710</td>\n",
              "    </tr>\n",
              "    <tr>\n",
              "      <th>231344</th>\n",
              "      <td>1996-09-02</td>\n",
              "      <td>Lungventilator anestesi</td>\n",
              "      <td>30.0</td>\n",
              "      <td>1040230</td>\n",
              "      <td>2010-02-23</td>\n",
              "      <td>231344.0</td>\n",
              "      <td>10</td>\n",
              "      <td>686</td>\n",
              "      <td>6862</td>\n",
              "      <td>4922</td>\n",
              "    </tr>\n",
              "    <tr>\n",
              "      <th>231344</th>\n",
              "      <td>1996-09-02</td>\n",
              "      <td>Lungventilator anestesi</td>\n",
              "      <td>30.0</td>\n",
              "      <td>1059409</td>\n",
              "      <td>2011-06-23</td>\n",
              "      <td>231344.0</td>\n",
              "      <td>10</td>\n",
              "      <td>686</td>\n",
              "      <td>6862</td>\n",
              "      <td>5407</td>\n",
              "    </tr>\n",
              "    <tr>\n",
              "      <th>231344</th>\n",
              "      <td>1996-09-02</td>\n",
              "      <td>Lungventilator anestesi</td>\n",
              "      <td>30.0</td>\n",
              "      <td>931647</td>\n",
              "      <td>2002-08-27</td>\n",
              "      <td>231344.0</td>\n",
              "      <td>10</td>\n",
              "      <td>686</td>\n",
              "      <td>6862</td>\n",
              "      <td>2185</td>\n",
              "    </tr>\n",
              "    <tr>\n",
              "      <th>231344</th>\n",
              "      <td>1996-09-02</td>\n",
              "      <td>Lungventilator anestesi</td>\n",
              "      <td>30.0</td>\n",
              "      <td>915429</td>\n",
              "      <td>2001-04-04</td>\n",
              "      <td>231344.0</td>\n",
              "      <td>10</td>\n",
              "      <td>686</td>\n",
              "      <td>6862</td>\n",
              "      <td>1675</td>\n",
              "    </tr>\n",
              "    <tr>\n",
              "      <th>231344</th>\n",
              "      <td>1996-09-02</td>\n",
              "      <td>Lungventilator anestesi</td>\n",
              "      <td>30.0</td>\n",
              "      <td>893058</td>\n",
              "      <td>1999-05-04</td>\n",
              "      <td>231344.0</td>\n",
              "      <td>10</td>\n",
              "      <td>686</td>\n",
              "      <td>6862</td>\n",
              "      <td>974</td>\n",
              "    </tr>\n",
              "    <tr>\n",
              "      <th>231344</th>\n",
              "      <td>1996-09-02</td>\n",
              "      <td>Lungventilator anestesi</td>\n",
              "      <td>30.0</td>\n",
              "      <td>1019518</td>\n",
              "      <td>2008-09-19</td>\n",
              "      <td>231344.0</td>\n",
              "      <td>10</td>\n",
              "      <td>686</td>\n",
              "      <td>6862</td>\n",
              "      <td>4400</td>\n",
              "    </tr>\n",
              "  </tbody>\n",
              "</table>\n",
              "</div>\n",
              "      <button class=\"colab-df-convert\" onclick=\"convertToInteractive('df-0e713006-8753-4904-893a-79877857a335')\"\n",
              "              title=\"Convert this dataframe to an interactive table.\"\n",
              "              style=\"display:none;\">\n",
              "        \n",
              "  <svg xmlns=\"http://www.w3.org/2000/svg\" height=\"24px\"viewBox=\"0 0 24 24\"\n",
              "       width=\"24px\">\n",
              "    <path d=\"M0 0h24v24H0V0z\" fill=\"none\"/>\n",
              "    <path d=\"M18.56 5.44l.94 2.06.94-2.06 2.06-.94-2.06-.94-.94-2.06-.94 2.06-2.06.94zm-11 1L8.5 8.5l.94-2.06 2.06-.94-2.06-.94L8.5 2.5l-.94 2.06-2.06.94zm10 10l.94 2.06.94-2.06 2.06-.94-2.06-.94-.94-2.06-.94 2.06-2.06.94z\"/><path d=\"M17.41 7.96l-1.37-1.37c-.4-.4-.92-.59-1.43-.59-.52 0-1.04.2-1.43.59L10.3 9.45l-7.72 7.72c-.78.78-.78 2.05 0 2.83L4 21.41c.39.39.9.59 1.41.59.51 0 1.02-.2 1.41-.59l7.78-7.78 2.81-2.81c.8-.78.8-2.07 0-2.86zM5.41 20L4 18.59l7.72-7.72 1.47 1.35L5.41 20z\"/>\n",
              "  </svg>\n",
              "      </button>\n",
              "      \n",
              "  <style>\n",
              "    .colab-df-container {\n",
              "      display:flex;\n",
              "      flex-wrap:wrap;\n",
              "      gap: 12px;\n",
              "    }\n",
              "\n",
              "    .colab-df-convert {\n",
              "      background-color: #E8F0FE;\n",
              "      border: none;\n",
              "      border-radius: 50%;\n",
              "      cursor: pointer;\n",
              "      display: none;\n",
              "      fill: #1967D2;\n",
              "      height: 32px;\n",
              "      padding: 0 0 0 0;\n",
              "      width: 32px;\n",
              "    }\n",
              "\n",
              "    .colab-df-convert:hover {\n",
              "      background-color: #E2EBFA;\n",
              "      box-shadow: 0px 1px 2px rgba(60, 64, 67, 0.3), 0px 1px 3px 1px rgba(60, 64, 67, 0.15);\n",
              "      fill: #174EA6;\n",
              "    }\n",
              "\n",
              "    [theme=dark] .colab-df-convert {\n",
              "      background-color: #3B4455;\n",
              "      fill: #D2E3FC;\n",
              "    }\n",
              "\n",
              "    [theme=dark] .colab-df-convert:hover {\n",
              "      background-color: #434B5C;\n",
              "      box-shadow: 0px 1px 3px 1px rgba(0, 0, 0, 0.15);\n",
              "      filter: drop-shadow(0px 1px 2px rgba(0, 0, 0, 0.3));\n",
              "      fill: #FFFFFF;\n",
              "    }\n",
              "  </style>\n",
              "\n",
              "      <script>\n",
              "        const buttonEl =\n",
              "          document.querySelector('#df-0e713006-8753-4904-893a-79877857a335 button.colab-df-convert');\n",
              "        buttonEl.style.display =\n",
              "          google.colab.kernel.accessAllowed ? 'block' : 'none';\n",
              "\n",
              "        async function convertToInteractive(key) {\n",
              "          const element = document.querySelector('#df-0e713006-8753-4904-893a-79877857a335');\n",
              "          const dataTable =\n",
              "            await google.colab.kernel.invokeFunction('convertToInteractive',\n",
              "                                                     [key], {});\n",
              "          if (!dataTable) return;\n",
              "\n",
              "          const docLinkHtml = 'Like what you see? Visit the ' +\n",
              "            '<a target=\"_blank\" href=https://colab.research.google.com/notebooks/data_table.ipynb>data table notebook</a>'\n",
              "            + ' to learn more about interactive tables.';\n",
              "          element.innerHTML = '';\n",
              "          dataTable['output_type'] = 'display_data';\n",
              "          await google.colab.output.renderOutput(dataTable, element);\n",
              "          const docLink = document.createElement('div');\n",
              "          docLink.innerHTML = docLinkHtml;\n",
              "          element.appendChild(docLink);\n",
              "        }\n",
              "      </script>\n",
              "    </div>\n",
              "  </div>\n",
              "  "
            ]
          },
          "metadata": {},
          "execution_count": 162
        }
      ]
    },
    {
      "cell_type": "code",
      "source": [
        "alone=alone_device.to_csv('alone.csv',sep=';')\n"
      ],
      "metadata": {
        "id": "TofBFHhGOXrv"
      },
      "execution_count": 163,
      "outputs": []
    },
    {
      "cell_type": "code",
      "source": [
        "with open('model_pickle_patientmonitor','wb') as f:\n",
        "  pickle.dump(model_pa,f)"
      ],
      "metadata": {
        "id": "tQzq0zR-OMaw",
        "colab": {
          "base_uri": "https://localhost:8080/",
          "height": 183
        },
        "outputId": "0c27cfb3-69a8-43ac-80fa-4182618cc3d5"
      },
      "execution_count": 164,
      "outputs": [
        {
          "output_type": "error",
          "ename": "NameError",
          "evalue": "ignored",
          "traceback": [
            "\u001b[0;31m---------------------------------------------------------------------------\u001b[0m",
            "\u001b[0;31mNameError\u001b[0m                                 Traceback (most recent call last)",
            "\u001b[0;32m<ipython-input-164-9656bf6eb19d>\u001b[0m in \u001b[0;36m<module>\u001b[0;34m\u001b[0m\n\u001b[1;32m      1\u001b[0m \u001b[0;32mwith\u001b[0m \u001b[0mopen\u001b[0m\u001b[0;34m(\u001b[0m\u001b[0;34m'model_pickle_patientmonitor'\u001b[0m\u001b[0;34m,\u001b[0m\u001b[0;34m'wb'\u001b[0m\u001b[0;34m)\u001b[0m \u001b[0;32mas\u001b[0m \u001b[0mf\u001b[0m\u001b[0;34m:\u001b[0m\u001b[0;34m\u001b[0m\u001b[0;34m\u001b[0m\u001b[0m\n\u001b[0;32m----> 2\u001b[0;31m   \u001b[0mpickle\u001b[0m\u001b[0;34m.\u001b[0m\u001b[0mdump\u001b[0m\u001b[0;34m(\u001b[0m\u001b[0mmodel_pa\u001b[0m\u001b[0;34m,\u001b[0m\u001b[0mf\u001b[0m\u001b[0;34m)\u001b[0m\u001b[0;34m\u001b[0m\u001b[0;34m\u001b[0m\u001b[0m\n\u001b[0m",
            "\u001b[0;31mNameError\u001b[0m: name 'pickle' is not defined"
          ]
        }
      ]
    },
    {
      "cell_type": "code",
      "execution_count": null,
      "metadata": {
        "id": "YhifQGQwK3JY"
      },
      "outputs": [],
      "source": [
        "indexed_MD.set_index('issued',inplace=True,drop=False)"
      ]
    },
    {
      "cell_type": "code",
      "execution_count": null,
      "metadata": {
        "id": "fgHj1X1dMWhg"
      },
      "outputs": [],
      "source": [
        "indexed_MD.inventarieID.value_counts()"
      ]
    },
    {
      "cell_type": "markdown",
      "metadata": {
        "id": "MhUTM5jbnrkH"
      },
      "source": [
        "**Trying normalization and see if it works**"
      ]
    },
    {
      "cell_type": "code",
      "execution_count": null,
      "metadata": {
        "id": "gTs23CKWnxsg"
      },
      "outputs": [],
      "source": [
        "from sklearn.preprocessing import MinMaxScaler"
      ]
    },
    {
      "cell_type": "code",
      "execution_count": null,
      "metadata": {
        "id": "--mziKSEzWDx"
      },
      "outputs": [],
      "source": [
        "scaler=MinMaxScaler()\n",
        "scaler.fit(X_reghos1)\n",
        "scaled=scaler.fit_transform(X_reghos1)\n",
        "scaled_df=pd.DataFrame(scaled,columns=X_reghos1.columns)"
      ]
    },
    {
      "cell_type": "code",
      "execution_count": null,
      "metadata": {
        "id": "IhMICSP227iV"
      },
      "outputs": [],
      "source": [
        "scaled_df.shape"
      ]
    },
    {
      "cell_type": "code",
      "execution_count": null,
      "metadata": {
        "id": "YDs6TeJGFOua"
      },
      "outputs": [],
      "source": [
        "scaled_df.head(3)\n"
      ]
    },
    {
      "cell_type": "code",
      "execution_count": null,
      "metadata": {
        "id": "piA2BE0cGeTs"
      },
      "outputs": [],
      "source": [
        "X_train_aneshos1norm, X_test_aneshos1norm, y_train_aneshos1norm, y_test_aneshos1norm = train_test_split(\n",
        "    scaled_df, Y_reghos1,test_size=0.3, random_state=101)"
      ]
    },
    {
      "cell_type": "code",
      "execution_count": null,
      "metadata": {
        "id": "GVfLJjHAHAKb"
      },
      "outputs": [],
      "source": [
        "Y_reghos1.head(3)"
      ]
    },
    {
      "cell_type": "code",
      "execution_count": null,
      "metadata": {
        "id": "ateHCskDHjIm"
      },
      "outputs": [],
      "source": [
        "model_anesnorm = LinearRegression()\n"
      ]
    },
    {
      "cell_type": "code",
      "execution_count": null,
      "metadata": {
        "id": "N2Gc0uJ5Hl40"
      },
      "outputs": [],
      "source": [
        "model_anesnorm.fit(X_train_aneshos1norm,y_train_aneshos1norm)"
      ]
    },
    {
      "cell_type": "code",
      "execution_count": null,
      "metadata": {
        "id": "70ldjrynH74T"
      },
      "outputs": [],
      "source": [
        "predictions_anesnorm= model_anesnorm.predict(X_test_aneshos1norm)\n"
      ]
    },
    {
      "cell_type": "code",
      "execution_count": null,
      "metadata": {
        "id": "VtpAWCpGIS2i"
      },
      "outputs": [],
      "source": [
        "predictions_anesnorm"
      ]
    },
    {
      "cell_type": "code",
      "execution_count": null,
      "metadata": {
        "id": "p2GL5DUWJxW7"
      },
      "outputs": [],
      "source": [
        "predictions_anes_dfnorm=pd.DataFrame(predictions_anesnorm)"
      ]
    },
    {
      "cell_type": "code",
      "execution_count": null,
      "metadata": {
        "id": "GNPc2n8lQmll"
      },
      "outputs": [],
      "source": [
        "predictions_anes_dfnorm.head(3)"
      ]
    },
    {
      "cell_type": "code",
      "execution_count": null,
      "metadata": {
        "id": "boG8J87uRTia"
      },
      "outputs": [],
      "source": [
        "predictions_anes_dfnorm.columns = ['wo_timepred']\n"
      ]
    },
    {
      "cell_type": "code",
      "execution_count": null,
      "metadata": {
        "id": "dmCuahp0RkpD"
      },
      "outputs": [],
      "source": [
        "predictions_anes_dfnorm.head(3)"
      ]
    },
    {
      "cell_type": "code",
      "execution_count": null,
      "metadata": {
        "id": "lUY16EvmJxW7"
      },
      "outputs": [],
      "source": [
        "# model evaluation\n",
        "print(\n",
        "'mean_squared_error : ', mean_squared_error(y_test_aneshos1, predictions_anes_dfnorm))\n",
        "print(\n",
        "'mean_absolute_error : ', mean_absolute_error(y_test_aneshos1, predictions_anes_dfnorm))\n"
      ]
    },
    {
      "cell_type": "markdown",
      "metadata": {
        "id": "jh5Yq6YdYCrf"
      },
      "source": [
        "# **OXYGEN CONCENTRATOR Model after adding more adding pm attributes**"
      ]
    },
    {
      "cell_type": "code",
      "execution_count": null,
      "metadata": {
        "id": "sD6LC662Z-Bc"
      },
      "outputs": [],
      "source": [
        "pm_wo_attributes_oxygen=pd.merge(dataoxyhos1,fin1,left_index=True,right_index=True)"
      ]
    },
    {
      "cell_type": "code",
      "execution_count": null,
      "metadata": {
        "id": "2sUaVrTPaPpy"
      },
      "outputs": [],
      "source": [
        "pm_wo_attributes_oxygen.head(3)"
      ]
    },
    {
      "cell_type": "code",
      "execution_count": null,
      "metadata": {
        "id": "nZ0vEWLHan_2"
      },
      "outputs": [],
      "source": [
        "pm_wo_attributes_oxygen.shape"
      ]
    },
    {
      "cell_type": "code",
      "execution_count": null,
      "metadata": {
        "id": "kV548J26JVnC"
      },
      "outputs": [],
      "source": [
        "pm_wo_attributes_oxygen['Equip.reg_date']=pd.to_datetime(pm_wo_attributes_oxygen['Equip.reg_date'])\n",
        "pm_wo_attributes_oxygen['issued']=pd.to_datetime(pm_wo_attributes_oxygen['issued'])\n"
      ]
    },
    {
      "cell_type": "code",
      "execution_count": null,
      "metadata": {
        "id": "1epBWcWMI4KL"
      },
      "outputs": [],
      "source": [
        "pm_wo_attributes_oxygen['wotime_diff']=(pm_wo_attributes_oxygen['issued']-pm_wo_attributes_oxygen['Equip.reg_date']).dt.days"
      ]
    },
    {
      "cell_type": "code",
      "execution_count": null,
      "metadata": {
        "id": "8xuWaJzfasqo"
      },
      "outputs": [],
      "source": [
        "pm_wo_attributes_oxygen.drop(columns=['Equip.reg_date','issued','invID','last_pm','first_pm','calc.Risk'],inplace=True)"
      ]
    },
    {
      "cell_type": "markdown",
      "metadata": {
        "id": "FYREGAJxb7ZK"
      },
      "source": [
        "# **Regression model for oxygen concentrators**"
      ]
    },
    {
      "cell_type": "code",
      "execution_count": null,
      "metadata": {
        "id": "KKoHgrINjjHR"
      },
      "outputs": [],
      "source": [
        "from sklearn import linear_model\n",
        "from sklearn.linear_model import LinearRegression\n",
        "from sklearn.metrics import mean_squared_error, mean_absolute_error\n",
        "from sklearn import preprocessing"
      ]
    },
    {
      "cell_type": "code",
      "execution_count": null,
      "metadata": {
        "id": "SJtZg7pJcDYr"
      },
      "outputs": [],
      "source": [
        "dataoxyhos1.shape"
      ]
    },
    {
      "cell_type": "code",
      "execution_count": null,
      "metadata": {
        "id": "xRf-XwLH-1Vk"
      },
      "outputs": [],
      "source": [
        "dataoxyhos1.nunique()"
      ]
    },
    {
      "cell_type": "code",
      "execution_count": null,
      "metadata": {
        "id": "wMZXwbO8kCNI"
      },
      "outputs": [],
      "source": [
        "dataoxyhos1['Equip.reg_date']=pd.to_datetime(dataoxyhos1['Equip.reg_date'])\n",
        "dataoxyhos1['issued']=pd.to_datetime(dataoxyhos1['issued'])\n",
        "\n"
      ]
    },
    {
      "cell_type": "code",
      "execution_count": null,
      "metadata": {
        "id": "2nvWyDDpkCNJ"
      },
      "outputs": [],
      "source": [
        "dataoxyhos1.drop(columns=['dev','inventarieID','ID_y'],inplace=True)"
      ]
    },
    {
      "cell_type": "code",
      "execution_count": null,
      "metadata": {
        "id": "myhKJD7ojjHR"
      },
      "outputs": [],
      "source": [
        "dataoxyhos1['wotime_diff']=(dataoxyhos1['issued']-dataoxyhos1['Equip.reg_date']).dt.days"
      ]
    },
    {
      "cell_type": "code",
      "execution_count": null,
      "metadata": {
        "id": "1RiIadbajjHS"
      },
      "outputs": [],
      "source": [
        "dataoxyhos1.corr()"
      ]
    },
    {
      "cell_type": "code",
      "execution_count": null,
      "metadata": {
        "id": "UX089HVL9zXs"
      },
      "outputs": [],
      "source": [
        "dataoxyhos1.describe()"
      ]
    },
    {
      "cell_type": "code",
      "execution_count": null,
      "metadata": {
        "id": "ilhMCiiejjHS"
      },
      "outputs": [],
      "source": [
        "Y_oxygen=dataoxyhos1['wotime_diff']\n",
        "X_oxygen=dataoxyhos1.drop(['issued','Equip.reg_date','wotime_diff'],axis=1)\n"
      ]
    },
    {
      "cell_type": "code",
      "execution_count": null,
      "metadata": {
        "id": "PssByIBUVO3x"
      },
      "outputs": [],
      "source": [
        "X_train_oxy1, X_test_oxy1, y_train_oxy1, y_test_oxy1 = train_test_split(X_oxygen,Y_oxygen, test_size=0.3, random_state=101)"
      ]
    },
    {
      "cell_type": "code",
      "execution_count": null,
      "metadata": {
        "id": "DRVNaaI5jjHT"
      },
      "outputs": [],
      "source": [
        "y_train_oxy1.head(3)"
      ]
    },
    {
      "cell_type": "code",
      "execution_count": null,
      "metadata": {
        "id": "hLqCLlH2WJjq"
      },
      "outputs": [],
      "source": [
        "model_oxy = LinearRegression()\n",
        "model_oxy.fit(X_train_oxy1,y_train_oxy1)"
      ]
    },
    {
      "cell_type": "code",
      "execution_count": null,
      "metadata": {
        "id": "PKzHUuG4WiLs"
      },
      "outputs": [],
      "source": [
        "predictions_oxy=model_oxy.predict(X_test_oxy1)"
      ]
    },
    {
      "cell_type": "code",
      "execution_count": null,
      "metadata": {
        "id": "jqk2tL_yW_oz"
      },
      "outputs": [],
      "source": [
        "# model evaluation\n",
        "print(\n",
        "'Root mean_squared_error : ', mean_squared_error(y_test_oxy1, predictions_oxy,squared=False))\n",
        "print(\n",
        "'mean_absolute_error : ', mean_absolute_error(y_test_oxy1, predictions_oxy))\n"
      ]
    },
    {
      "cell_type": "code",
      "source": [
        "predictions_oxy"
      ],
      "metadata": {
        "id": "o8OQVRymL0gs"
      },
      "execution_count": null,
      "outputs": []
    },
    {
      "cell_type": "code",
      "source": [
        "variability4=predictions_oxy.var()"
      ],
      "metadata": {
        "id": "2NVRdYgXLtHT"
      },
      "execution_count": null,
      "outputs": []
    },
    {
      "cell_type": "code",
      "source": [
        "variability4"
      ],
      "metadata": {
        "id": "nGD0QXY0L6LQ"
      },
      "execution_count": null,
      "outputs": []
    },
    {
      "cell_type": "markdown",
      "metadata": {
        "id": "ndyKcQQX0fZf"
      },
      "source": [
        "# **Patient_monitor experiments**"
      ]
    },
    {
      "cell_type": "code",
      "execution_count": null,
      "metadata": {
        "id": "o9y_2Bb-0mdB"
      },
      "outputs": [],
      "source": [
        "patient_monitor=all_data_together.query(\"dev == 'Patientmonitor multiparameter'\")\n"
      ]
    },
    {
      "cell_type": "code",
      "execution_count": null,
      "metadata": {
        "id": "NSGlQmZc0eEK"
      },
      "outputs": [],
      "source": [
        "patient_monitor.head(3)"
      ]
    },
    {
      "cell_type": "code",
      "execution_count": null,
      "metadata": {
        "id": "9RYDy91N1OL9"
      },
      "outputs": [],
      "source": [
        "patient_monitor.shape"
      ]
    },
    {
      "cell_type": "code",
      "execution_count": null,
      "metadata": {
        "id": "WHmNx-INDFNR"
      },
      "outputs": [],
      "source": [
        "refined_patient_monitor=patient_monitor.drop(columns=['Brand','ID_x','dev','Brand','calc.Risk', 'ID_y','last_wo','first_wo'])"
      ]
    },
    {
      "cell_type": "code",
      "execution_count": null,
      "metadata": {
        "id": "sSuBd-bLHCQL"
      },
      "outputs": [],
      "source": [
        "refined_patient_monitor.head(3)"
      ]
    },
    {
      "cell_type": "code",
      "execution_count": null,
      "metadata": {
        "id": "gOfAd7g9I7-b"
      },
      "outputs": [],
      "source": [
        "refined_patient_monitor['Equip.reg_date']=pd.to_datetime(refined_patient_monitor['Equip.reg_date'])\n",
        "refined_patient_monitor['issued']=pd.to_datetime(refined_patient_monitor['issued'])\n",
        "refined_patient_monitor['Scrapped_date']=pd.to_datetime(refined_patient_monitor['Scrapped_date'])\n",
        "\n",
        "\n"
      ]
    },
    {
      "cell_type": "code",
      "execution_count": null,
      "metadata": {
        "id": "joST1UEuJWJX"
      },
      "outputs": [],
      "source": [
        "refined_patient_monitor['wotime_diff']=(refined_patient_monitor['issued']-refined_patient_monitor['Equip.reg_date']).dt.days\n",
        "refined_patient_monitor['age']=(refined_patient_monitor['Scrapped_date']-refined_patient_monitor['Equip.reg_date']).dt.days"
      ]
    },
    {
      "cell_type": "code",
      "execution_count": null,
      "metadata": {
        "id": "jpEDmWlaKBh9"
      },
      "outputs": [],
      "source": [
        "refined_patient_monitor.head(3)"
      ]
    },
    {
      "cell_type": "code",
      "execution_count": null,
      "metadata": {
        "id": "hwJaw2N1Ox1R"
      },
      "outputs": [],
      "source": [
        "refined_patient_monitor.shape"
      ]
    },
    {
      "cell_type": "code",
      "execution_count": null,
      "metadata": {
        "id": "7iFcxAlpOMZ7"
      },
      "outputs": [],
      "source": [
        "#taking out outliers \n",
        "refined_patient_monitor.plot(x='Equip.reg_date',y='Scrapped_date',kind='scatter')\n"
      ]
    },
    {
      "cell_type": "code",
      "execution_count": null,
      "metadata": {
        "id": "K0Ll0SjQQnOK"
      },
      "outputs": [],
      "source": [
        "no_outlier_pamonitor=refined_patient_monitor.loc[refined_patient_monitor['wotime_diff']>=1]"
      ]
    },
    {
      "cell_type": "code",
      "execution_count": null,
      "metadata": {
        "id": "Mc9Lq2Bx_Lma"
      },
      "outputs": [],
      "source": [
        "no_outlier_pamonitor.corr()"
      ]
    },
    {
      "cell_type": "code",
      "execution_count": null,
      "metadata": {
        "id": "dh-b03gnQ_bN"
      },
      "outputs": [],
      "source": [
        "no_outlier_pamonitor.shape"
      ]
    },
    {
      "cell_type": "code",
      "execution_count": null,
      "metadata": {
        "id": "_VX-MDkMT_oT"
      },
      "outputs": [],
      "source": [
        "from sklearn import linear_model\n",
        "from sklearn.linear_model import LinearRegression\n",
        "from sklearn.metrics import mean_squared_error, mean_absolute_error\n",
        "from sklearn import preprocessing"
      ]
    },
    {
      "cell_type": "code",
      "execution_count": null,
      "metadata": {
        "id": "vkeQ9vfeUX6n"
      },
      "outputs": [],
      "source": [
        "X_PA=no_outlier_pamonitor.drop(['Equip.reg_date','Scrapped_date','issued','AOEkKlarDat','Model','last_pm','first_pm','inventarieID'],axis=1)\n",
        "Y_PA=no_outlier_pamonitor['wotime_diff']"
      ]
    },
    {
      "cell_type": "code",
      "execution_count": null,
      "metadata": {
        "id": "TygeNIr9pBGi"
      },
      "outputs": [],
      "source": [
        "Y_PA.head(10)"
      ]
    },
    {
      "cell_type": "code",
      "execution_count": null,
      "metadata": {
        "id": "D4e1jBaTT_oU"
      },
      "outputs": [],
      "source": [
        "X_train_pamonitor, X_test_pamonitor, y_train_pamonitor, y_test_pamonitor = train_test_split(X_PA,Y_PA, test_size=0.3, random_state=101)"
      ]
    },
    {
      "cell_type": "code",
      "execution_count": null,
      "metadata": {
        "id": "FiiKat2BHFtl"
      },
      "outputs": [],
      "source": [
        "X_train_pamonitor.head()"
      ]
    },
    {
      "cell_type": "code",
      "execution_count": null,
      "metadata": {
        "id": "OcBBAABQT_oU"
      },
      "outputs": [],
      "source": [
        "# creating a regression model\n",
        "model_PA = LinearRegression()\n"
      ]
    },
    {
      "cell_type": "code",
      "execution_count": null,
      "metadata": {
        "id": "np7z0Xt8WCQM"
      },
      "outputs": [],
      "source": [
        "model_PA.fit(X_train_pamonitor,y_train_pamonitor)"
      ]
    },
    {
      "cell_type": "code",
      "execution_count": null,
      "metadata": {
        "id": "tRTkg9jUXP9D"
      },
      "outputs": [],
      "source": [
        "predictions_PA= model_PA.predict(X_test_pamonitor)\n"
      ]
    },
    {
      "cell_type": "code",
      "execution_count": null,
      "metadata": {
        "id": "8i-_gM8CXd-L"
      },
      "outputs": [],
      "source": [
        "predictions_PA=pd.DataFrame(predictions_PA)"
      ]
    },
    {
      "cell_type": "code",
      "execution_count": null,
      "metadata": {
        "id": "OdysvxqaYrOA"
      },
      "outputs": [],
      "source": [
        "predictions_PA.head(10)"
      ]
    },
    {
      "cell_type": "code",
      "execution_count": null,
      "metadata": {
        "id": "Gg-Mh8xbY4PR"
      },
      "outputs": [],
      "source": [
        "y_test_pamonitor.head(10)"
      ]
    },
    {
      "cell_type": "code",
      "execution_count": null,
      "metadata": {
        "id": "AkfjAdTzX3Tf"
      },
      "outputs": [],
      "source": [
        "# model evaluation\n",
        "print(\n",
        "'Root mean_squared_error : ', mean_squared_error(y_test_pamonitor, predictions_PA,squared=False))\n",
        "print(\n",
        "'mean_absolute_error : ', mean_absolute_error(y_test_pamonitor, predictions_PA))\n"
      ]
    },
    {
      "cell_type": "code",
      "source": [
        "variability5=predictions_PA.var()"
      ],
      "metadata": {
        "id": "bX6bf6NpMmJI"
      },
      "execution_count": null,
      "outputs": []
    },
    {
      "cell_type": "code",
      "source": [
        "variability5"
      ],
      "metadata": {
        "id": "FXS4nEi0Msy9"
      },
      "execution_count": null,
      "outputs": []
    },
    {
      "cell_type": "markdown",
      "metadata": {
        "id": "xO7IioE7If6Q"
      },
      "source": [
        "# **Chosen devices in one regression model experiment**"
      ]
    },
    {
      "cell_type": "code",
      "execution_count": null,
      "metadata": {
        "id": "E8txjQT7k8pd"
      },
      "outputs": [],
      "source": [
        "#after combining wo data with preventive mainteance data in one dataframe,we want to query the chosen device of anathesia and oxygen concentrators:\n",
        "all_data_together.head(3)"
      ]
    },
    {
      "cell_type": "code",
      "execution_count": null,
      "metadata": {
        "id": "9wttjNasly1u"
      },
      "outputs": [],
      "source": [
        "refined_all_data=all_data_together.drop(['ID_x','AOEkKlarDat','inventarieID','last_wo','first_wo','last_pm','first_pm'],axis=1)"
      ]
    },
    {
      "cell_type": "code",
      "execution_count": null,
      "metadata": {
        "id": "jqdalEnnKqW6"
      },
      "outputs": [],
      "source": [
        "refined_all_data.head(3)"
      ]
    },
    {
      "cell_type": "code",
      "execution_count": null,
      "metadata": {
        "id": "niHTy3pApcua"
      },
      "outputs": [],
      "source": [
        "data157=refined_all_data.query(\"dev == 'Anestesiarbetsstation'\")\n",
        "data156=refined_all_data.query(\"dev == 'Anestesiarbetsstation'\")\n",
        "data155=refined_all_data.query(\"dev == 'Modul till anestesiarbetsstation'\")\n",
        "data154=refined_all_data.query(\"dev == 'Anestesimedelsförgasare, isofluran'\")\n",
        "data153=refined_all_data.query(\"dev == 'Anestesimedel Förgasare'\")\n",
        "data152=refined_all_data.query(\"dev == 'Anestesiapparat mobil'\")\n",
        "data151=refined_all_data.query(\"dev == 'Lungventilator anestesi'\")\n",
        "data_anesWo_pm = pd.concat([data157, data156,data155,data154, data153, data152, data151], axis=0)"
      ]
    },
    {
      "cell_type": "code",
      "execution_count": null,
      "metadata": {
        "id": "pwFnldEzrKi0"
      },
      "outputs": [],
      "source": [
        "data_anesWo_pm.shape"
      ]
    },
    {
      "cell_type": "code",
      "execution_count": null,
      "metadata": {
        "id": "Bm1znrzoruo9"
      },
      "outputs": [],
      "source": [
        "#query oxygen concentrators\n",
        "data_oxy_wo_pm=refined_all_data.query(\"dev == 'Oxygenkoncentrator stationär'\")"
      ]
    },
    {
      "cell_type": "code",
      "execution_count": null,
      "metadata": {
        "id": "QIJVJAvwsc4J"
      },
      "outputs": [],
      "source": [
        "data_oxy_wo_pm.shape"
      ]
    },
    {
      "cell_type": "code",
      "execution_count": null,
      "metadata": {
        "id": "eilu_lhIss4U"
      },
      "outputs": [],
      "source": [
        "oxyplusana_wo_pm=pd.concat([data_oxy_wo_pm,data_anesWo_pm], axis=0)"
      ]
    },
    {
      "cell_type": "code",
      "execution_count": null,
      "metadata": {
        "id": "_sDhd7kXtQRa"
      },
      "outputs": [],
      "source": [
        "oxyplusana_wo_pm.shape"
      ]
    },
    {
      "cell_type": "code",
      "execution_count": null,
      "metadata": {
        "id": "YxD4y2MJtU8Z"
      },
      "outputs": [],
      "source": [
        "oxyplusana_wo_pm.head(3)"
      ]
    },
    {
      "cell_type": "code",
      "execution_count": null,
      "metadata": {
        "id": "JC6zIpI6te5x"
      },
      "outputs": [],
      "source": [
        "#preprocessing of these data before merge with patient monitor data.\n",
        "oxyplusana_wo_pm['Equip.reg_date']=pd.to_datetime(oxyplusana_wo_pm['Equip.reg_date'])\n",
        "oxyplusana_wo_pm['Scrapped_date']=pd.to_datetime(oxyplusana_wo_pm['Scrapped_date'])\n",
        "oxyplusana_wo_pm['issued']=pd.to_datetime(oxyplusana_wo_pm['issued'])"
      ]
    },
    {
      "cell_type": "code",
      "execution_count": null,
      "metadata": {
        "id": "Hqmh3iMaunBx"
      },
      "outputs": [],
      "source": [
        "oxyplusana_wo_pm['wotime_diff']=(oxyplusana_wo_pm['issued']-oxyplusana_wo_pm['Equip.reg_date']).dt.days"
      ]
    },
    {
      "cell_type": "code",
      "execution_count": null,
      "metadata": {
        "id": "Cra-fQR2uRBa"
      },
      "outputs": [],
      "source": [
        "oxyplusana_wo_pm['age']=(oxyplusana_wo_pm['Scrapped_date']-oxyplusana_wo_pm['Equip.reg_date']).dt.days\n"
      ]
    },
    {
      "cell_type": "code",
      "execution_count": null,
      "metadata": {
        "id": "NH7vP6u0vI-7"
      },
      "outputs": [],
      "source": [
        "oxyplusana_wo_pm.drop(['Equip.reg_date','Scrapped_date','dev','Brand','Model','calc.Risk','ID_y','issued'],axis=1,inplace=True)"
      ]
    },
    {
      "cell_type": "code",
      "execution_count": null,
      "metadata": {
        "id": "gwKuJW-XzRmL"
      },
      "outputs": [],
      "source": [
        "oxyplusana_wo_pm.head(3)"
      ]
    },
    {
      "cell_type": "code",
      "execution_count": null,
      "metadata": {
        "id": "aHkIgh_LKy8K"
      },
      "outputs": [],
      "source": [
        "X_PA.head(3)"
      ]
    },
    {
      "cell_type": "code",
      "execution_count": null,
      "metadata": {
        "id": "_AEi_RI3IoH7"
      },
      "outputs": [],
      "source": [
        "#concat all devices(anathesia,oxygenconcentrator and patient monitor)\n",
        "alldevices_regression=pd.concat((oxyplusana_wo_pm,X_PA),axis=0)"
      ]
    },
    {
      "cell_type": "code",
      "execution_count": null,
      "metadata": {
        "id": "shJE2p-R1ZbF"
      },
      "outputs": [],
      "source": [
        "x_alla=alldevices_regression.drop(['wotime_diff'],axis=1)\n",
        "y_alla=alldevices_regression.drop(['Count_wo','meantime','count_pm','meantime_pm','age'],axis=1)\n",
        "  "
      ]
    },
    {
      "cell_type": "code",
      "execution_count": null,
      "metadata": {
        "id": "1TS-MWe75FSR"
      },
      "outputs": [],
      "source": [
        "y_alla.head(3)"
      ]
    },
    {
      "cell_type": "code",
      "execution_count": null,
      "metadata": {
        "id": "wc9nKpVd3M9I"
      },
      "outputs": [],
      "source": [
        "x_alla_training,x_alla_test,y_alla_training,y_alla_test=train_test_split(x_alla,y_alla,test_size=0.3,random_state=101)"
      ]
    },
    {
      "cell_type": "code",
      "execution_count": null,
      "metadata": {
        "id": "uezZfyZF5ude"
      },
      "outputs": [],
      "source": [
        "x_alla_training.shape"
      ]
    },
    {
      "cell_type": "code",
      "execution_count": null,
      "metadata": {
        "id": "qmQURIxy5yZT"
      },
      "outputs": [],
      "source": [
        "y_alla_training.shape"
      ]
    },
    {
      "cell_type": "code",
      "execution_count": null,
      "metadata": {
        "id": "G2ZbJy5a4Pbx"
      },
      "outputs": [],
      "source": [
        "from sklearn import linear_model\n",
        "from sklearn.linear_model import LinearRegression\n",
        "from sklearn.metrics import mean_squared_error, mean_absolute_error\n",
        "from sklearn import preprocessing"
      ]
    },
    {
      "cell_type": "code",
      "execution_count": null,
      "metadata": {
        "id": "KWwMldC7z0P0"
      },
      "outputs": [],
      "source": [
        "#now we apply the model \n",
        "regress_alldevices=LinearRegression()"
      ]
    },
    {
      "cell_type": "code",
      "execution_count": null,
      "metadata": {
        "id": "6_zOAOyB4jJI"
      },
      "outputs": [],
      "source": [
        "modelen=regress_alldevices.fit(x_alla_training,y_alla_training)"
      ]
    },
    {
      "cell_type": "code",
      "execution_count": null,
      "metadata": {
        "id": "3_goYOcS7JfJ"
      },
      "outputs": [],
      "source": [
        "predictions_alla=modelen.predict(x_alla_test)"
      ]
    },
    {
      "cell_type": "code",
      "execution_count": null,
      "metadata": {
        "id": "qlJqRcfp7afw"
      },
      "outputs": [],
      "source": [
        "# model evaluation\n",
        "print(\n",
        "'Root mean_squared_error : ', mean_squared_error(y_alla_test, predictions_alla,squared=False))\n",
        "print(\n",
        "'mean_absolute_error : ', mean_absolute_error(y_alla_test, predictions_alla))\n"
      ]
    },
    {
      "cell_type": "markdown",
      "metadata": {
        "id": "1jsJr6cWphUf"
      },
      "source": [
        "# **#  Ridge regression for regression_patient monitor**"
      ]
    },
    {
      "cell_type": "code",
      "execution_count": null,
      "metadata": {
        "id": "CURTTaBBp7bF"
      },
      "outputs": [],
      "source": [
        "import pandas as pd\n",
        "from numpy import arange\n",
        "from sklearn.linear_model import Ridge\n",
        "from sklearn.linear_model import RidgeCV\n",
        "from sklearn.model_selection import RepeatedKFold"
      ]
    },
    {
      "cell_type": "code",
      "execution_count": null,
      "metadata": {
        "id": "SwW4NVsAr4AN"
      },
      "outputs": [],
      "source": [
        "X_PA=no_outlier_pamonitor.drop(['Equip.reg_date','Scrapped_date','issued','AOEkKlarDat','Model','last_pm','first_pm','inventarieID'],axis=1)\n",
        "Y_PA=no_outlier_pamonitor['wotime_diff']"
      ]
    },
    {
      "cell_type": "code",
      "execution_count": null,
      "metadata": {
        "id": "26wCSM-QuR-U"
      },
      "outputs": [],
      "source": [
        "X_train_pamonitor_ridge, X_test_pamonitor_ridge, y_train_pamonitor_ridge, y_test_pamonitor_ridge = train_test_split(X_PA,Y_PA, test_size=0.3, random_state=101)"
      ]
    },
    {
      "cell_type": "code",
      "execution_count": null,
      "metadata": {
        "id": "vOkNdyIOy4al"
      },
      "outputs": [],
      "source": [
        "X_train_pamonitor_ridge.head(3)"
      ]
    },
    {
      "cell_type": "code",
      "execution_count": null,
      "metadata": {
        "id": "xVUrYswhX8E6"
      },
      "outputs": [],
      "source": [
        "ocurrenc=X_train_pamonitor_ridge.Count_wo.value_counts()"
      ]
    },
    {
      "cell_type": "code",
      "execution_count": null,
      "metadata": {
        "id": "P9RHvFT3ZnvS"
      },
      "outputs": [],
      "source": [
        "occurence1=pd.DataFrame(ocurrenc)"
      ]
    },
    {
      "cell_type": "code",
      "execution_count": null,
      "metadata": {
        "id": "2yYKef5VaHxG"
      },
      "outputs": [],
      "source": [
        "occurence1.head(4)"
      ]
    },
    {
      "cell_type": "code",
      "execution_count": null,
      "metadata": {
        "id": "unRPP7ILbIbE"
      },
      "outputs": [],
      "source": [
        "occurence1.shape"
      ]
    },
    {
      "cell_type": "code",
      "execution_count": null,
      "metadata": {
        "id": "1V07_pDStIG1"
      },
      "outputs": [],
      "source": [
        "#define model\n",
        "model_ridge = RidgeCV(alphas=arange(0.01, 0.5, 0.01), scoring='neg_mean_absolute_error')"
      ]
    },
    {
      "cell_type": "code",
      "execution_count": null,
      "metadata": {
        "id": "deR8iTznLNsJ"
      },
      "outputs": [],
      "source": []
    },
    {
      "cell_type": "code",
      "execution_count": null,
      "metadata": {
        "id": "_jMp87iCtWDT"
      },
      "outputs": [],
      "source": [
        "#fit model\n",
        "model_ridge.fit(X_train_pamonitor_ridge,y_train_pamonitor_ridge)\n",
        "\n",
        "#display lambda that produced the lowest test MSE\n",
        "print(model_ridge.alpha_)"
      ]
    },
    {
      "cell_type": "code",
      "execution_count": null,
      "metadata": {
        "id": "Mhol_YpcuFV8"
      },
      "outputs": [],
      "source": [
        "predictions_paridge=model_ridge.predict(X_test_pamonitor_ridge)"
      ]
    },
    {
      "cell_type": "code",
      "execution_count": null,
      "metadata": {
        "id": "IxZrm_blu6Ws"
      },
      "outputs": [],
      "source": [
        "# model evaluation\n",
        "print(\n",
        "'Root mean_squared_error : ', mean_squared_error(y_test_pamonitor,predictions_paridge,squared=False))\n",
        "print(\n",
        "'mean_absolute_error : ', mean_absolute_error(y_test_pamonitor_ridge,predictions_paridge))\n"
      ]
    },
    {
      "cell_type": "code",
      "source": [],
      "metadata": {
        "id": "4zHnBDtYbbDj"
      },
      "execution_count": null,
      "outputs": []
    },
    {
      "cell_type": "code",
      "execution_count": null,
      "metadata": {
        "id": "nAUDFxlaRSGH"
      },
      "outputs": [],
      "source": [
        "predictions_paridge"
      ]
    },
    {
      "cell_type": "code",
      "execution_count": null,
      "metadata": {
        "id": "32ityDlQRbUN"
      },
      "outputs": [],
      "source": [
        "y_test_pamonitor"
      ]
    },
    {
      "cell_type": "code",
      "execution_count": null,
      "metadata": {
        "id": "5oSV3-SaZe3I"
      },
      "outputs": [],
      "source": [
        "from sklearn.linear_model import Lasso"
      ]
    },
    {
      "cell_type": "code",
      "execution_count": null,
      "metadata": {
        "id": "mxCDAzagac8I"
      },
      "outputs": [],
      "source": [
        "lasso = Lasso(alpha=1.0)"
      ]
    },
    {
      "cell_type": "code",
      "execution_count": null,
      "metadata": {
        "id": "s_cabAMKakEY"
      },
      "outputs": [],
      "source": [
        "lasso.fit(X_train_pamonitor_ridge,y_train_pamonitor_ridge)\n"
      ]
    },
    {
      "cell_type": "code",
      "execution_count": null,
      "metadata": {
        "id": "Vhu2w61ma3qR"
      },
      "outputs": [],
      "source": [
        "lasso.score(X_test_pamonitor_ridge,y_test_pamonitor_ridge), lasso.score(X_train_pamonitor_ridge,y_train_pamonitor_ridge)"
      ]
    },
    {
      "cell_type": "code",
      "execution_count": null,
      "metadata": {
        "id": "ZSgRvXPHbY4c"
      },
      "outputs": [],
      "source": [
        "predictions_lasso=lasso.predict(X_test_pamonitor_ridge)"
      ]
    },
    {
      "cell_type": "code",
      "execution_count": null,
      "metadata": {
        "id": "8fBHLQIdbhkr"
      },
      "outputs": [],
      "source": [
        "# model evaluation\n",
        "print(\n",
        "'mean_squared_error : ', mean_squared_error(y_test_pamonitor,predictions_lasso))\n",
        "print(\n",
        "'mean_absolute_error : ', mean_absolute_error(y_test_pamonitor_ridge,predictions_lasso))\n"
      ]
    },
    {
      "cell_type": "markdown",
      "metadata": {
        "id": "lQpEIMEovEfB"
      },
      "source": [
        "# **Ridge regression for oxygen concentrators without pm data (only wo data )**"
      ]
    },
    {
      "cell_type": "code",
      "execution_count": null,
      "metadata": {
        "id": "CJkP2e11vbq8"
      },
      "outputs": [],
      "source": [
        "import pandas as pd\n",
        "from numpy import arange\n",
        "from sklearn.linear_model import Ridge\n",
        "from sklearn.linear_model import RidgeCV\n",
        "from sklearn.model_selection import RepeatedKFold"
      ]
    },
    {
      "cell_type": "code",
      "execution_count": null,
      "metadata": {
        "id": "GJRzyX2Tv7Lr"
      },
      "outputs": [],
      "source": [
        "Y_oxygen=dataoxyhos1['wotime_diff']\n",
        "X_oxygen=dataoxyhos1.drop(['issued','Equip.reg_date','wotime_diff'],axis=1)\n"
      ]
    },
    {
      "cell_type": "code",
      "execution_count": null,
      "metadata": {
        "id": "LW4ajMqjvbq8"
      },
      "outputs": [],
      "source": [
        "X_train_oxy_ridge, X_test_oxy_ridge, y_train_oxy_ridge, y_test_oxy_ridge = train_test_split(X_oxygen,Y_oxygen, test_size=0.3, random_state=101)"
      ]
    },
    {
      "cell_type": "code",
      "execution_count": null,
      "metadata": {
        "id": "sVpXcsJ1zd1m"
      },
      "outputs": [],
      "source": [
        "X_train_oxy_ridge.head(3)"
      ]
    },
    {
      "cell_type": "code",
      "execution_count": null,
      "metadata": {
        "id": "OH-yWUn_vbq8"
      },
      "outputs": [],
      "source": [
        "#define cross-validation method to evaluate model\n",
        "cv = RepeatedKFold(n_splits=10, n_repeats=3, random_state=1)"
      ]
    },
    {
      "cell_type": "code",
      "execution_count": null,
      "metadata": {
        "id": "7kgU4PSlvbq8"
      },
      "outputs": [],
      "source": [
        "#define model\n",
        "model_ridge_oxy = RidgeCV(alphas=arange(0.01, 0.5, 0.01), cv=cv, scoring='neg_mean_absolute_error')"
      ]
    },
    {
      "cell_type": "code",
      "execution_count": null,
      "metadata": {
        "id": "EkTGDcFjvbq8"
      },
      "outputs": [],
      "source": [
        "#fit model\n",
        "model_ridge_oxy.fit(X_train_oxy_ridge,y_train_oxy_ridge)\n",
        "\n",
        "#display lambda that produced the lowest test MSE\n",
        "print(model_ridge_oxy.alpha_)"
      ]
    },
    {
      "cell_type": "code",
      "execution_count": null,
      "metadata": {
        "id": "rQjb2AKIvbq8"
      },
      "outputs": [],
      "source": [
        "predictions_oxyridge=model_ridge_oxy.predict(X_test_oxy_ridge)"
      ]
    },
    {
      "cell_type": "code",
      "execution_count": null,
      "metadata": {
        "id": "zaz72Lbmvbq9"
      },
      "outputs": [],
      "source": [
        "# model evaluation\n",
        "print(\n",
        "'Root mean_squared_error : ', mean_squared_error(y_test_oxy_ridge,predictions_oxyridge,squared=False))\n",
        "print(\n",
        "'mean_absolute_error : ', mean_absolute_error(y_test_oxy_ridge,predictions_oxyridge))\n"
      ]
    },
    {
      "cell_type": "markdown",
      "metadata": {
        "id": "GNfDUhkzz6y5"
      },
      "source": [
        "# **Ridge regression for oxygen concentrators with PM data "
      ]
    },
    {
      "cell_type": "code",
      "execution_count": null,
      "metadata": {
        "id": "nwy0niePyGDi"
      },
      "outputs": [],
      "source": [
        "import pandas as pd\n",
        "from numpy import arange\n",
        "from sklearn.linear_model import Ridge\n",
        "from sklearn.linear_model import RidgeCV\n",
        "from sklearn.model_selection import RepeatedKFold"
      ]
    },
    {
      "cell_type": "code",
      "execution_count": null,
      "metadata": {
        "id": "NhSnKcSNKnk2"
      },
      "outputs": [],
      "source": [
        "pm_wo_attributes_oxygen.head(3)"
      ]
    },
    {
      "cell_type": "code",
      "execution_count": null,
      "metadata": {
        "id": "NPTB9u0iyGDi"
      },
      "outputs": [],
      "source": [
        "Y_oxygen_pm=pm_wo_attributes_oxygen['wotime_diff']\n"
      ]
    },
    {
      "cell_type": "code",
      "execution_count": null,
      "metadata": {
        "id": "Jh1lGaDbNlEb"
      },
      "outputs": [],
      "source": [
        "X_oxygen_pm=pm_wo_attributes_oxygen.drop(columns=['wotime_diff','dev','ID_y','inventarieID'])"
      ]
    },
    {
      "cell_type": "code",
      "execution_count": null,
      "metadata": {
        "id": "UhJkB2a5LH0v"
      },
      "outputs": [],
      "source": [
        "X_oxygen_pm.head(3)"
      ]
    },
    {
      "cell_type": "code",
      "execution_count": null,
      "metadata": {
        "id": "qtQJxhH0yGDi"
      },
      "outputs": [],
      "source": [
        "X_train_oxy_ridge_pm, X_test_oxy_ridge_pm, y_train_oxy_ridge_pm, y_test_oxy_ridge_pm = train_test_split(X_oxygen_pm,Y_oxygen_pm, test_size=0.3, random_state=101)"
      ]
    },
    {
      "cell_type": "code",
      "execution_count": null,
      "metadata": {
        "id": "wLL3ev0wHeWp"
      },
      "outputs": [],
      "source": [
        "X_train_oxy_ridge_pm.head(3)"
      ]
    },
    {
      "cell_type": "code",
      "execution_count": null,
      "metadata": {
        "id": "ESVhaDbzyGDi"
      },
      "outputs": [],
      "source": [
        "#define cross-validation method to evaluate model\n",
        "cv4 = RepeatedKFold(n_splits=10, n_repeats=3, random_state=1)"
      ]
    },
    {
      "cell_type": "code",
      "execution_count": null,
      "metadata": {
        "id": "Qxp2bBNUyGDi"
      },
      "outputs": [],
      "source": [
        "#define model\n",
        "model_ridge_oxy_pm = RidgeCV(alphas=arange(0.01, 1, 0.01), cv=cv, scoring='neg_mean_absolute_error')"
      ]
    },
    {
      "cell_type": "code",
      "execution_count": null,
      "metadata": {
        "id": "rY3nEhEEyGDi"
      },
      "outputs": [],
      "source": [
        "#fit model\n",
        "model_ridge_oxy_pm.fit(X_train_oxy_ridge_pm,y_train_oxy_ridge_pm)\n",
        "\n",
        "#display lambda that produced the lowest test MSE\n",
        "print(model_ridge_oxy_pm.alpha_)\n",
        "\n",
        "0.99"
      ]
    },
    {
      "cell_type": "code",
      "execution_count": null,
      "metadata": {
        "id": "BNGO8ZefyGDj"
      },
      "outputs": [],
      "source": [
        "predictions_oxyridge_pm=model_ridge_oxy_pm.predict(X_test_oxy_ridge_pm)"
      ]
    },
    {
      "cell_type": "code",
      "execution_count": null,
      "metadata": {
        "id": "RFX-XgFLyGDj"
      },
      "outputs": [],
      "source": [
        "# model evaluation\n",
        "print(\n",
        "'Root mean_squared_error : ', mean_squared_error(y_test_oxy_ridge_pm,predictions_oxyridge_pm,squared=False))\n",
        "print(\n",
        "'mean_absolute_error : ', mean_absolute_error(y_test_oxy_ridge_pm,predictions_oxyridge_pm))\n"
      ]
    },
    {
      "cell_type": "markdown",
      "metadata": {
        "id": "-JRwC99NO_Lm"
      },
      "source": [
        "# **Ridge regression for anathesia without pm**"
      ]
    },
    {
      "cell_type": "code",
      "execution_count": null,
      "metadata": {
        "id": "bfFNSsbHXH_3"
      },
      "outputs": [],
      "source": [
        "import pandas as pd\n",
        "from numpy import arange\n",
        "from sklearn.linear_model import Ridge\n",
        "from sklearn.linear_model import RidgeCV\n",
        "from sklearn.model_selection import RepeatedKFold"
      ]
    },
    {
      "cell_type": "code",
      "execution_count": null,
      "metadata": {
        "id": "S_8L7pe0Xgwk"
      },
      "outputs": [],
      "source": [
        "Y_reghos2_ridge=data_aneshos1woeq['wotime_diff']\n",
        "X_reghos2_ridge=data_aneshos1woeq.drop(['dev','ID_y','issued','Equip.reg_date','wotime_diff','inventarieID'],axis=1)\n"
      ]
    },
    {
      "cell_type": "code",
      "execution_count": null,
      "metadata": {
        "id": "d4bT3j8vYenC"
      },
      "outputs": [],
      "source": [
        "X_reghos2_ridge.head(3)"
      ]
    },
    {
      "cell_type": "code",
      "execution_count": null,
      "metadata": {
        "id": "ztV1h0BMh2Yg"
      },
      "outputs": [],
      "source": [
        "import matplotlib.pyplot as plt\n",
        "\n",
        "x = data_aneshos1woeq['Equip.reg_date']\n",
        "plt.hist(x)\n",
        "plt.show()"
      ]
    },
    {
      "cell_type": "code",
      "execution_count": null,
      "metadata": {
        "id": "24_HZnX_XH_3"
      },
      "outputs": [],
      "source": [
        "X_train_anathesia_ridge, X_test_anathesia_ridge, y_train_anathesia_ridge, y_test_anathesia_ridge = train_test_split(X_reghos2_ridge,Y_reghos2_ridge, test_size=0.3, random_state=101)"
      ]
    },
    {
      "cell_type": "code",
      "execution_count": null,
      "metadata": {
        "id": "0Oxu_2B7XH_3"
      },
      "outputs": [],
      "source": [
        "X_train_anathesia_ridge.head(3)"
      ]
    },
    {
      "cell_type": "code",
      "execution_count": null,
      "metadata": {
        "id": "30Nfg1sRXH_3"
      },
      "outputs": [],
      "source": [
        "#define cross-validation method to evaluate model\n",
        "cv5 = RepeatedKFold(n_splits=10, n_repeats=3, random_state=1)"
      ]
    },
    {
      "cell_type": "code",
      "execution_count": null,
      "metadata": {
        "id": "RlZmna2gXH_3"
      },
      "outputs": [],
      "source": [
        "#define model\n",
        "model_ridge_ana = RidgeCV(alphas=arange(0.01, 1, 0.01), cv=cv, scoring='neg_mean_absolute_error')"
      ]
    },
    {
      "cell_type": "code",
      "execution_count": null,
      "metadata": {
        "id": "Y2MuIO27XH_3"
      },
      "outputs": [],
      "source": [
        "#fit model\n",
        "model_ridge_ana.fit(X_train_anathesia_ridge,y_train_anathesia_ridge)\n",
        "\n",
        "#display lambda that produced the lowest test MSE\n",
        "print(model_ridge_ana.alpha_)\n",
        "\n",
        "0.99"
      ]
    },
    {
      "cell_type": "code",
      "execution_count": null,
      "metadata": {
        "id": "oWh63_mLXH_4"
      },
      "outputs": [],
      "source": [
        "predictions_anaridge=model_ridge_ana.predict(X_test_anathesia_ridge)"
      ]
    },
    {
      "cell_type": "code",
      "execution_count": null,
      "metadata": {
        "id": "huwTa73tXH_4"
      },
      "outputs": [],
      "source": [
        "# model evaluation\n",
        "print(\n",
        "'ROoot mean_squared_error : ', mean_squared_error(y_test_anathesia_ridge,predictions_anaridge,squared=False))\n",
        "print(\n",
        "'mean_absolute_error : ', mean_absolute_error(y_test_anathesia_ridge,predictions_anaridge))\n"
      ]
    },
    {
      "cell_type": "code",
      "source": [],
      "metadata": {
        "id": "LFwFXOgjGB0C"
      },
      "execution_count": null,
      "outputs": []
    },
    {
      "cell_type": "markdown",
      "metadata": {
        "id": "GAMIXBVPQZ5Y"
      },
      "source": [
        "# **Ridge regression for anathesia with pm data included**"
      ]
    },
    {
      "cell_type": "code",
      "execution_count": null,
      "metadata": {
        "id": "d_KWeYmea4WT"
      },
      "outputs": [],
      "source": [
        "data_anesWo_pm.head(3)"
      ]
    },
    {
      "cell_type": "code",
      "execution_count": null,
      "metadata": {
        "id": "BHJJ2LOXbNXc"
      },
      "outputs": [],
      "source": [
        "data_anesWo_pm['Equip.reg_date']=(pd.to_datetime(data_anesWo_pm['Equip.reg_date']))\n",
        "data_anesWo_pm['Scrapped_date']=(pd.to_datetime(data_anesWo_pm['Scrapped_date']))\n",
        "data_anesWo_pm['issued']=(pd.to_datetime(data_anesWo_pm['issued']))\n",
        "data_anesWo_pm['age']=(data_anesWo_pm['Scrapped_date']-data_anesWo_pm['Equip.reg_date']).dt.days\n",
        "data_anesWo_pm['wotime_diff']=(data_anesWo_pm['issued']-data_anesWo_pm['Equip.reg_date']).dt.days"
      ]
    },
    {
      "cell_type": "code",
      "execution_count": null,
      "metadata": {
        "id": "AThOeCh1eQax"
      },
      "outputs": [],
      "source": [
        "data_anesWo_pm.shape"
      ]
    },
    {
      "cell_type": "code",
      "execution_count": null,
      "metadata": {
        "id": "q9J7OHFFf2PT"
      },
      "outputs": [],
      "source": [
        " import matplotlib.pyplot as plt\n",
        "\n",
        "x = data_anesWo_pm['Equip.reg_date']\n",
        "plt.hist(x)\n",
        "plt.show()"
      ]
    },
    {
      "cell_type": "code",
      "execution_count": null,
      "metadata": {
        "id": "SVx7rlQfenG5"
      },
      "outputs": [],
      "source": [
        "#taking out outliers\n",
        "noutlier_data_anesWo_pm=data_anesWo_pm.loc[data_anesWo_pm['Equip.reg_date']<='1990-01-01']"
      ]
    },
    {
      "cell_type": "code",
      "execution_count": null,
      "metadata": {
        "id": "CyCXPAh7fbDz"
      },
      "outputs": [],
      "source": [
        "noutlier_data_anesWo_pm.shape"
      ]
    },
    {
      "cell_type": "code",
      "execution_count": null,
      "metadata": {
        "id": "Pfi4ppajQgAP"
      },
      "outputs": [],
      "source": [
        "#let us take out all the unnecessary columns from our way \n",
        "data_anesWo_pm.drop(columns=[])"
      ]
    },
    {
      "cell_type": "code",
      "execution_count": null,
      "metadata": {
        "id": "E4IrjM80TjvS"
      },
      "outputs": [],
      "source": []
    },
    {
      "cell_type": "markdown",
      "metadata": {
        "id": "IiFrL9jUfppr"
      },
      "source": [
        "# **Decsion tree for regression compared to linear regression flavours**"
      ]
    },
    {
      "cell_type": "markdown",
      "metadata": {
        "id": "dQzgfKk6f_kE"
      },
      "source": [
        "# Anathesia decision tree "
      ]
    },
    {
      "cell_type": "code",
      "execution_count": null,
      "metadata": {
        "id": "ExIA2XUugSaL"
      },
      "outputs": [],
      "source": [
        "import pandas as pd\n",
        "from numpy import arange\n",
        "from sklearn.linear_model import Ridge\n",
        "from sklearn.linear_model import RidgeCV\n",
        "from sklearn.model_selection import RepeatedKFold"
      ]
    },
    {
      "cell_type": "code",
      "execution_count": null,
      "metadata": {
        "id": "pslFDpVogSaM"
      },
      "outputs": [],
      "source": [
        "Y_reghos2_ridge=data_aneshos1woeq['wotime_diff']\n",
        "X_reghos2_ridge=data_aneshos1woeq.drop(['dev','ID_y','issued','Equip.reg_date','wotime_diff','inventarieID'],axis=1)\n"
      ]
    },
    {
      "cell_type": "code",
      "execution_count": null,
      "metadata": {
        "id": "nYoQjjelgSaM"
      },
      "outputs": [],
      "source": [
        "X_reghos2_ridge.head(3)"
      ]
    },
    {
      "cell_type": "code",
      "execution_count": null,
      "metadata": {
        "id": "E2j5H5bBgSaN"
      },
      "outputs": [],
      "source": [
        "import matplotlib.pyplot as plt\n",
        "\n",
        "x = data_aneshos1woeq['Equip.reg_date']\n",
        "plt.hist(x)\n",
        "plt.show()"
      ]
    },
    {
      "cell_type": "code",
      "execution_count": null,
      "metadata": {
        "id": "x7bLC98kgSaN"
      },
      "outputs": [],
      "source": [
        "X_train_anathesia_ridge, X_test_anathesia_ridge, y_train_anathesia_ridge, y_test_anathesia_ridge = train_test_split(X_reghos2_ridge,Y_reghos2_ridge, test_size=0.3, random_state=101)"
      ]
    },
    {
      "cell_type": "code",
      "execution_count": null,
      "metadata": {
        "id": "ns2gkIFJgSaN"
      },
      "outputs": [],
      "source": [
        "X_train_anathesia_ridge.head(3)"
      ]
    },
    {
      "cell_type": "code",
      "execution_count": null,
      "metadata": {
        "id": "L8eUvrF4jDjK"
      },
      "outputs": [],
      "source": [
        "from sklearn.model_selection import train_test_split # for splitting the data\n",
        "from sklearn.metrics import mean_squared_error # for calculating the cost function\n",
        "from sklearn.tree import DecisionTreeRegressor # for building the model"
      ]
    },
    {
      "cell_type": "code",
      "execution_count": null,
      "metadata": {
        "id": "cel7ZKpKihYk"
      },
      "outputs": [],
      "source": [
        "# Initializing the Decision Tree Regression model\n",
        "model_DT= DecisionTreeRegressor(random_state = 0)\n",
        "\n",
        "# Fitting the Decision Tree Regression model to the data\n",
        "model_DT.fit(X_train_anathesia_ridge,y_train_anathesia_ridge)"
      ]
    },
    {
      "cell_type": "code",
      "execution_count": null,
      "metadata": {
        "id": "av9vVD2XjHe2"
      },
      "outputs": [],
      "source": [
        "# Predicting the target values of the test set\n",
        "y_pred_dt = model_DT.predict(X_test_anathesia_ridge)\n",
        "\n",
        "# RMSE (Root Mean Square Error)\n",
        "rmse = float(format(np.sqrt(mean_squared_error(y_test_anathesia_ridge, y_pred_dt)), '.3f'))\n",
        "print(\"\\nRMSE: \", rmse)\n",
        "RMSE: 133.351"
      ]
    },
    {
      "cell_type": "code",
      "execution_count": null,
      "metadata": {
        "id": "y-4a72woj3qy"
      },
      "outputs": [],
      "source": [
        "print(\n",
        "'mean_absolute_error : ', mean_absolute_error(y_test_anathesia_ridge,y_pred_dt))"
      ]
    },
    {
      "cell_type": "code",
      "execution_count": null,
      "metadata": {
        "id": "ruoAidvbsJsv"
      },
      "outputs": [],
      "source": [
        "# model evaluation\n",
        "print(\n",
        "'Root mean_squared_error : ', mean_squared_error(y_test_anathesia_ridge,y_pred_dt,squared=False))\n"
      ]
    },
    {
      "cell_type": "code",
      "execution_count": null,
      "metadata": {
        "id": "0eavTtLysZXc"
      },
      "outputs": [],
      "source": []
    },
    {
      "cell_type": "markdown",
      "metadata": {
        "id": "cmrz72Z3kLtm"
      },
      "source": [
        "# **patient monitor**"
      ]
    },
    {
      "cell_type": "code",
      "execution_count": null,
      "metadata": {
        "id": "ZeebMTkFlBrD"
      },
      "outputs": [],
      "source": [
        "X_PA=no_outlier_pamonitor.drop(['Equip.reg_date','Scrapped_date','issued','AOEkKlarDat','Model','last_pm','first_pm','inventarieID'],axis=1)\n",
        "Y_PA=no_outlier_pamonitor['wotime_diff']"
      ]
    },
    {
      "cell_type": "code",
      "execution_count": null,
      "metadata": {
        "id": "gxzy7f-Dkl2y"
      },
      "outputs": [],
      "source": [
        "X_train_pamonitor_ridge, X_test_pamonitor_ridge, y_train_pamonitor_ridge, y_test_pamonitor_ridge = train_test_split(X_PA,Y_PA, test_size=0.3, random_state=101)"
      ]
    },
    {
      "cell_type": "code",
      "execution_count": null,
      "metadata": {
        "id": "KRFvRncKkl2y"
      },
      "outputs": [],
      "source": [
        "X_train_pamonitor_ridge.head(3)"
      ]
    },
    {
      "cell_type": "code",
      "execution_count": null,
      "metadata": {
        "id": "bTJ006c9kl2z"
      },
      "outputs": [],
      "source": [
        " # Initializing the Decision Tree Regression model\n",
        "model_pa = DecisionTreeRegressor(random_state = 0)\n",
        "\n",
        "# Fitting the Decision Tree Regression model to the data\n",
        "model_pa.fit(X_train_pamonitor_ridge,y_train_pamonitor_ridge)"
      ]
    },
    {
      "cell_type": "code",
      "execution_count": null,
      "metadata": {
        "id": "JiflsyBHkl20"
      },
      "outputs": [],
      "source": [
        "predictions_pa_dt=model_pa.predict(X_test_pamonitor_ridge)"
      ]
    },
    {
      "cell_type": "code",
      "execution_count": null,
      "metadata": {
        "id": "J-xluRJ-kl21"
      },
      "outputs": [],
      "source": [
        "# model evaluation\n",
        "print(\n",
        "'Root mean_squared_error : ', mean_squared_error(y_test_pamonitor,predictions_pa_dt,squared=False))\n",
        "print(\n",
        "'mean_absolute_error : ', mean_absolute_error(y_test_pamonitor_ridge,predictions_pa_dt))\n"
      ]
    },
    {
      "cell_type": "code",
      "execution_count": null,
      "metadata": {
        "id": "HydVQ4MEJmhJ"
      },
      "outputs": [],
      "source": [
        "#pickling files\n",
        "#writing a pickle into a file\n",
        "import pickle\n",
        "\n"
      ]
    },
    {
      "cell_type": "code",
      "execution_count": null,
      "metadata": {
        "id": "iKDOlzsORXNG"
      },
      "outputs": [],
      "source": [
        " with open('model_pickle_patientmonitor','wb') as f:\n",
        "  pickle.dump(model_pa,f)"
      ]
    },
    {
      "cell_type": "code",
      "execution_count": null,
      "metadata": {
        "id": "8kWdyjRF6JLS"
      },
      "outputs": [],
      "source": [
        "with open('model_pickle_patientmonitor','rb')as f:\n",
        "    model_class_patient=pickle.load(f)"
      ]
    },
    {
      "cell_type": "markdown",
      "metadata": {
        "id": "g_k5UD5WmM3r"
      },
      "source": [
        "# **OXYGEN concentrator"
      ]
    },
    {
      "cell_type": "code",
      "execution_count": null,
      "metadata": {
        "id": "sz95HUXRm0G2"
      },
      "outputs": [],
      "source": [
        "import pandas as pd\n",
        "from numpy import arange\n",
        "from sklearn.linear_model import Ridge\n",
        "from sklearn.linear_model import RidgeCV\n",
        "from sklearn.model_selection import RepeatedKFold"
      ]
    },
    {
      "cell_type": "code",
      "execution_count": null,
      "metadata": {
        "id": "pNjWjkGom0G3"
      },
      "outputs": [],
      "source": [
        "pm_wo_attributes_oxygen.head(3)"
      ]
    },
    {
      "cell_type": "code",
      "execution_count": null,
      "metadata": {
        "id": "gCdHfn4tm0G4"
      },
      "outputs": [],
      "source": [
        "Y_oxygen_pm=pm_wo_attributes_oxygen['wotime_diff']\n"
      ]
    },
    {
      "cell_type": "code",
      "execution_count": null,
      "metadata": {
        "id": "kzAX0J5dm0G4"
      },
      "outputs": [],
      "source": [
        "X_oxygen_pm=pm_wo_attributes_oxygen.drop(columns=['wotime_diff','dev','ID_y','inventarieID'])"
      ]
    },
    {
      "cell_type": "code",
      "execution_count": null,
      "metadata": {
        "id": "c-MBl-LLm0G5"
      },
      "outputs": [],
      "source": [
        "X_oxygen_pm.head(3)"
      ]
    },
    {
      "cell_type": "code",
      "execution_count": null,
      "metadata": {
        "id": "Fl2iBmdtm0G6"
      },
      "outputs": [],
      "source": [
        "X_train_oxy_ridge_pm, X_test_oxy_ridge_pm, y_train_oxy_ridge_pm, y_test_oxy_ridge_pm = train_test_split(X_oxygen_pm,Y_oxygen_pm, test_size=0.3, random_state=101)"
      ]
    },
    {
      "cell_type": "code",
      "execution_count": null,
      "metadata": {
        "id": "GTc-twwNm0G6"
      },
      "outputs": [],
      "source": [
        "X_train_oxy_ridge_pm.head(3)"
      ]
    },
    {
      "cell_type": "code",
      "execution_count": null,
      "metadata": {
        "id": "py_DtOBInFXX"
      },
      "outputs": [],
      "source": [
        "# Initializing the Decision Tree Regression model\n",
        "model_oxy_dt = DecisionTreeRegressor(random_state = 0)\n",
        "\n",
        "# Fitting the Decision Tree Regression model to the data\n",
        "model_oxy_dt.fit(X_train_oxy_ridge_pm, y_train_oxy_ridge_pm)"
      ]
    },
    {
      "cell_type": "code",
      "execution_count": null,
      "metadata": {
        "id": "jYXKOC-vm0G-"
      },
      "outputs": [],
      "source": [
        "predictions_oxdt_pm=model_oxy_dt.predict(X_test_oxy_ridge_pm)"
      ]
    },
    {
      "cell_type": "code",
      "execution_count": null,
      "metadata": {
        "id": "Ooan04EPm0G_"
      },
      "outputs": [],
      "source": [
        "# model evaluation\n",
        "print(\n",
        "'Root mean_squared_error : ', mean_squared_error(y_test_oxy_ridge_pm,predictions_oxdt_pm,squared=False))\n",
        "print(\n",
        "'mean_absolute_error : ', mean_absolute_error(y_test_oxy_ridge_pm,predictions_oxdt_pm))\n"
      ]
    },
    {
      "cell_type": "markdown",
      "metadata": {
        "id": "Gb1tJJ5sdjUo"
      },
      "source": [
        "# **experiment of differntiating issued dates work order 22/11/2022**"
      ]
    },
    {
      "cell_type": "code",
      "execution_count": null,
      "metadata": {
        "id": "lO42fwdriHNe"
      },
      "outputs": [],
      "source": [
        "data_aneshos1woeq.head(10)"
      ]
    },
    {
      "cell_type": "markdown",
      "metadata": {
        "id": "LKGBrr5UgCbL"
      },
      "source": [
        "will sort by inventaried id and keep it in different new data frame"
      ]
    },
    {
      "cell_type": "code",
      "execution_count": null,
      "metadata": {
        "id": "G_T8DQf3h0hz"
      },
      "outputs": [],
      "source": [
        "df_sortinver= data_aneshos1woeq.sort_values(by=['inventarieID','issued'])"
      ]
    },
    {
      "cell_type": "code",
      "execution_count": null,
      "metadata": {
        "id": "LfI-i7pPj9Qd"
      },
      "outputs": [],
      "source": [
        "df_sortinver.tail(20)"
      ]
    },
    {
      "cell_type": "code",
      "execution_count": null,
      "metadata": {
        "id": "ARtUR0Ioj52s"
      },
      "outputs": [],
      "source": [
        "(df_sortinver.iloc[:,6:6:1]).shape"
      ]
    },
    {
      "cell_type": "code",
      "execution_count": null,
      "metadata": {
        "id": "qsQNDZQNlw4r"
      },
      "outputs": [],
      "source": [
        "df_sortinver.iloc[:,5:6:1]"
      ]
    },
    {
      "cell_type": "code",
      "execution_count": null,
      "metadata": {
        "id": "xQdSWVp8N6-e"
      },
      "outputs": [],
      "source": [
        "len(df_sortinver)"
      ]
    },
    {
      "cell_type": "markdown",
      "metadata": {
        "id": "v3bSfgcp-1OS"
      },
      "source": [
        "how can we read single value within a column?"
      ]
    },
    {
      "cell_type": "code",
      "execution_count": null,
      "metadata": {
        "id": "OnqhbfO--7Zd"
      },
      "outputs": [],
      "source": [
        "(df_sortinver.iloc[2]).Count_wo"
      ]
    },
    {
      "cell_type": "markdown",
      "metadata": {
        "id": "fBDRxDm3pitQ"
      },
      "source": [
        "# **Studies on preventive maintenance activities**"
      ]
    },
    {
      "cell_type": "markdown",
      "metadata": {
        "id": "q80vk5LH2E6n"
      },
      "source": [
        "# **from all data patterns **"
      ]
    },
    {
      "cell_type": "code",
      "execution_count": null,
      "metadata": {
        "id": "Nng_o0Jz2LLw"
      },
      "outputs": [],
      "source": [
        "all_data_together.head(3)"
      ]
    },
    {
      "cell_type": "code",
      "execution_count": null,
      "metadata": {
        "id": "qiesTIIh26NY"
      },
      "outputs": [],
      "source": [
        "all_data_together.shape"
      ]
    },
    {
      "cell_type": "markdown",
      "metadata": {
        "id": "IKVhXM7v3kH5"
      },
      "source": [
        "oxygen concentrators average preventive maintenance data "
      ]
    },
    {
      "cell_type": "markdown",
      "metadata": {
        "id": "zKkj3L5gjn-R"
      },
      "source": [
        "age has strong correlation with count of work orders done , does it has a correlation with meanttime between work orders ?"
      ]
    },
    {
      "cell_type": "markdown",
      "metadata": {
        "id": "lKqca0fl6yRi"
      },
      "source": [
        "there is a high correlation between count of workorders and age \n",
        "also there is high correlation between count of pm and meantime between pm\n",
        "-what we are interested is finding \n",
        "1-average time between pm for oxygen concenterators and the average age for these devices?"
      ]
    },
    {
      "cell_type": "markdown",
      "metadata": {
        "id": "nI0N4pit74r_"
      },
      "source": [
        "**average meatime between pm activities for the oxygen concentrators is 5.7 months or 173 days .**"
      ]
    },
    {
      "cell_type": "markdown",
      "metadata": {
        "id": "Z18skH2a8Qb_"
      },
      "source": [
        "**average age for oxygen concentrators is 2329 days or 6.4 years.**"
      ]
    },
    {
      "cell_type": "markdown",
      "metadata": {
        "id": "UhtKhb3d8tFI"
      },
      "source": [
        "**average workorders within life time of an oxygen concentrator is 5 work orders and average meantime between workorders is 242 days or 8 months **"
      ]
    },
    {
      "cell_type": "markdown",
      "metadata": {
        "id": "REw_OmqFB-V8"
      },
      "source": [
        "**we need to select all data which has it pm activities for more than 5.7 months and see if we get more work orders or not ?**"
      ]
    },
    {
      "cell_type": "markdown",
      "metadata": {
        "id": "6It3bwKSkTj3"
      },
      "source": [
        "***glossary for PM-his7 data : ***\n",
        "\n",
        "[blnRecurring] LW: Is scheduled as recurring. Meaning it after the PM is completed, another PM session will be scheduled.\n",
        "      ,[intTimeInterval] LW: The period between the recurring schedules. Related to if bInRecurring is true.\n",
        "      ,[PM_TimeIntervalUnitID] LW: The unit type of the period between the recurring schedules i.e. days, months. bInRecurring is true.\n",
        "      ,[intTimeIntervalRecommended] LW: Is this data populated? It’s the same as [PM_TimeInterval] but what is recommend by the manufacturer.\n",
        "      ,[PM_TimeIntervalUnitIDRecommended] LW: Is this data populated? It’s the same as [PM_TimeIntervalUnitID] but what is recommend by the manufacturer.\n",
        "      ,[intEstimatedPMTimeHours] LW: Estimation of how long the PM will take to perform\n",
        "      ,convert(date,[datLatest]) LW: Latest performed PM.\n",
        "      ,convert(date,[datNext]) LW: The upcoming PM to be performed.\n",
        "      ,[InventarierID] LW: Equipment ID\n",
        "      ,workorderid AS [ArborderID] LW: Work Order ID\n",
        "      ,[blnHiddenPMClock] LW: Not sure, could you give examples of how the data looks?\n",
        "      ,[DeviatingTimeIntervalRecommended] LW: Is this data populated?\n",
        "        ,DATEDIFF(DD,[datLatest],[datCreated]) AS PM_diff LW: The number of days between when the PM should have been performed and when it was performed."
      ]
    },
    {
      "cell_type": "code",
      "execution_count": null,
      "metadata": {
        "id": "x6WaNsZW7qNc"
      },
      "outputs": [],
      "source": [
        "df8=(r\"/content/drive/MyDrive/Thesis_datasets/New-data-SoftPro/Hospitals1/pm_history.csv\")"
      ]
    },
    {
      "cell_type": "code",
      "execution_count": null,
      "metadata": {
        "id": "dNY75fwu7qNd"
      },
      "outputs": [],
      "source": [
        " data8= pd.read_csv(df8,sep=';',header=0)"
      ]
    },
    {
      "cell_type": "code",
      "execution_count": null,
      "metadata": {
        "id": "1u0YmN4q7qNe"
      },
      "outputs": [],
      "source": [
        "data8"
      ]
    },
    {
      "cell_type": "code",
      "execution_count": null,
      "metadata": {
        "id": "U-yDs85O7qNe"
      },
      "outputs": [],
      "source": [
        "data8.isnull().sum()"
      ]
    },
    {
      "cell_type": "code",
      "execution_count": null,
      "metadata": {
        "id": "cvcVRSln7qNg"
      },
      "outputs": [],
      "source": [
        "#dict = {'FUSenaste': 'prevPm',\n",
        "       # 'FUIntNasta': 'nexPm',\n",
        "        #'InkDat':'Equip.reg_date',\n",
        "        #'SkrotDatum':'Scrapped_date',\n",
        "        #'Benamn':'dev',\n",
        "      #'Fabrikat':'Brand',\n",
        "        #'Modell':'Model',\n",
        "        #'intRisktal':'calc.Risk'}"
      ]
    },
    {
      "cell_type": "code",
      "execution_count": null,
      "metadata": {
        "id": "rnRXf2cd7qNh"
      },
      "outputs": [],
      "source": [
        "#fin.rename(columns=dict,inplace=True)"
      ]
    },
    {
      "cell_type": "code",
      "execution_count": null,
      "metadata": {
        "id": "ai1GYugK7qNh"
      },
      "outputs": [],
      "source": [
        "len(data8)"
      ]
    },
    {
      "cell_type": "markdown",
      "metadata": {
        "id": "jOqIgCP67qNi"
      },
      "source": [
        "**substitute scrapped null values with data collection**"
      ]
    },
    {
      "cell_type": "code",
      "execution_count": null,
      "metadata": {
        "id": "972gSjD67qNk"
      },
      "outputs": [],
      "source": [
        "data8.dropna(inplace=True)"
      ]
    },
    {
      "cell_type": "code",
      "execution_count": null,
      "metadata": {
        "id": "NrI-xJKm7qNl"
      },
      "outputs": [],
      "source": [
        "data8.shape"
      ]
    },
    {
      "cell_type": "code",
      "execution_count": null,
      "metadata": {
        "id": "mmeDO7-q_jri"
      },
      "outputs": [],
      "source": [
        "data8"
      ]
    },
    {
      "cell_type": "markdown",
      "metadata": {
        "id": "ewSPlq7Sp20L"
      },
      "source": [
        "loading all preventive maintenance queries again,this time we need to connect those data to specific devices so that we can relate between equipment , age and pm data using inventarierID as a reference \n",
        "\n",
        "---\n",
        "\n"
      ]
    },
    {
      "cell_type": "code",
      "execution_count": null,
      "metadata": {
        "id": "nv9L7yLNWwCs"
      },
      "outputs": [],
      "source": [
        "data8.set_index('InventarierID',inplace=True)"
      ]
    },
    {
      "cell_type": "code",
      "execution_count": null,
      "metadata": {
        "id": "Gh4RNaRIXDqk"
      },
      "outputs": [],
      "source": [
        "data8.head(3)"
      ]
    },
    {
      "cell_type": "code",
      "execution_count": null,
      "metadata": {
        "id": "OwLr94AF12vB"
      },
      "outputs": [],
      "source": [
        "all_pm_fields= pd.merge(eq,data8,left_index=True, right_index=True)"
      ]
    },
    {
      "cell_type": "code",
      "execution_count": null,
      "metadata": {
        "id": "gKisN5ev7ot6"
      },
      "outputs": [],
      "source": [
        "all_pm_fields.head(5)"
      ]
    },
    {
      "cell_type": "code",
      "execution_count": null,
      "metadata": {
        "id": "ZCTIR3J4XzEc"
      },
      "outputs": [],
      "source": [
        "all_pm_fields.shape"
      ]
    },
    {
      "cell_type": "code",
      "execution_count": null,
      "metadata": {
        "id": "Lj88MdJIYKGZ"
      },
      "outputs": [],
      "source": [
        "oxygen=all_pm_fields.query(\"dev=='Anestesiarbetsstation'\")\n",
        "\n"
      ]
    },
    {
      "cell_type": "code",
      "execution_count": null,
      "metadata": {
        "id": "FVtvRFQ6Ygwe"
      },
      "outputs": [],
      "source": [
        "oxygen"
      ]
    }
  ],
  "metadata": {
    "colab": {
      "collapsed_sections": [
        "rJalYvreSct_",
        "HxQj_jDxy_7T",
        "vB6E0JkD6haT",
        "mg5iri2Q0WMF",
        "xdqT8l-e4UpJ",
        "6LOqYCPP2yQE",
        "BjFvwT7xIqSE",
        "fBDRxDm3pitQ"
      ],
      "provenance": [],
      "include_colab_link": true
    },
    "kernelspec": {
      "display_name": "Python 3",
      "name": "python3"
    },
    "language_info": {
      "name": "python"
    }
  },
  "nbformat": 4,
  "nbformat_minor": 0
}